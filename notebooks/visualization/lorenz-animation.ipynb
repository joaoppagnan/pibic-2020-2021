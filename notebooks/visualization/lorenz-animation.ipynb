{
 "cells": [
  {
   "cell_type": "markdown",
   "id": "serious-bearing",
   "metadata": {},
   "source": [
    "# Animações com o Atrator de Lorenz"
   ]
  },
  {
   "cell_type": "markdown",
   "id": "authorized-alignment",
   "metadata": {},
   "source": [
    "## 1. Importando as bibliotecas necessárias"
   ]
  },
  {
   "cell_type": "markdown",
   "id": "catholic-collection",
   "metadata": {},
   "source": [
    "### Bibliotecas obrigatórias"
   ]
  },
  {
   "cell_type": "code",
   "execution_count": 16,
   "id": "attempted-flash",
   "metadata": {},
   "outputs": [],
   "source": [
    "import numpy as np\n",
    "from scipy.integrate import odeint\n",
    "\n",
    "%matplotlib widget\n",
    "import matplotlib.pyplot as plt\n",
    "from matplotlib.animation import FuncAnimation\n",
    "import mpl_toolkits.mplot3d.axes3d as p3\n",
    "from IPython.display import Video\n",
    "\n",
    "import seaborn as sns # a biblioteca 'seaborn' contém vários estilos para os gráficos do 'matpĺotlib'\n",
    "\n",
    "# agora, melhoramos a qualidade de saida e de visualizacao da imagem \n",
    "# alem de mudar a fonte padrao para uma do latex\n",
    "sns.set_style(\"ticks\")\n",
    "plt.rcParams['savefig.dpi'] = 200\n",
    "plt.rcParams[\"figure.dpi\"] = 100\n",
    "\n",
    "plt.rcParams.update({\n",
    "    \"text.usetex\": True,\n",
    "    \"font.family\": \"serif\",\n",
    "    \"font.serif\": [\"Palatino\"],\n",
    "})\n",
    "\n",
    "plt.style.use('dark_background')"
   ]
  },
  {
   "cell_type": "markdown",
   "id": "cellular-bronze",
   "metadata": {},
   "source": [
    "### Bibliotecas não-obrigatórias"
   ]
  },
  {
   "cell_type": "code",
   "execution_count": 2,
   "id": "received-peoples",
   "metadata": {},
   "outputs": [],
   "source": [
    "import sys \n",
    "sys.path.insert(0, '../../scripts')\n",
    "import lorenzsystem as lsys"
   ]
  },
  {
   "cell_type": "markdown",
   "id": "inclusive-compact",
   "metadata": {},
   "source": [
    "## 2. Função que será necessária para as animações"
   ]
  },
  {
   "cell_type": "code",
   "execution_count": 3,
   "id": "informed-mediterranean",
   "metadata": {},
   "outputs": [],
   "source": [
    "def update_lines(num, dataLines, lines):\n",
    "    ax.view_init(30, 0.03 * num)\n",
    "    for line, data in zip(lines, dataLines):\n",
    "        line.set_data(data[0:2, :num])\n",
    "        line.set_3d_properties(data[2, :num])\n",
    "    return lines"
   ]
  },
  {
   "cell_type": "markdown",
   "id": "medical-radar",
   "metadata": {},
   "source": [
    "## 3. Animação de uma trajetória no atrator"
   ]
  },
  {
   "cell_type": "code",
   "execution_count": 4,
   "id": "injured-seattle",
   "metadata": {},
   "outputs": [],
   "source": [
    "t_inicial = 0\n",
    "t_final = 100\n",
    "dt = 0.005"
   ]
  },
  {
   "cell_type": "code",
   "execution_count": 5,
   "id": "worth-syndicate",
   "metadata": {},
   "outputs": [],
   "source": [
    "estado_inicial = np.array([1, 1, 1])"
   ]
  },
  {
   "cell_type": "code",
   "execution_count": 6,
   "id": "dangerous-sleeve",
   "metadata": {},
   "outputs": [],
   "source": [
    "sis_lorenz = lsys.SistemaLorenz(estado_inicial, dt=dt)"
   ]
  },
  {
   "cell_type": "code",
   "execution_count": 7,
   "id": "fresh-satellite",
   "metadata": {},
   "outputs": [],
   "source": [
    "solucoes, instantes_temporais = sis_lorenz.calcular(t_inicial = t_inicial, t_final = t_final)"
   ]
  },
  {
   "cell_type": "code",
   "execution_count": 8,
   "id": "dutch-passage",
   "metadata": {},
   "outputs": [],
   "source": [
    "x = solucoes[:, 0]\n",
    "y = solucoes[:, 1]\n",
    "z = solucoes[:, 2]"
   ]
  },
  {
   "cell_type": "code",
   "execution_count": 9,
   "id": "legal-barbados",
   "metadata": {},
   "outputs": [],
   "source": [
    "%%capture\n",
    "\n",
    "fig, ax = plt.subplots()\n",
    "ax = plt.axes(projection='3d')\n",
    "\n",
    "dados = np.array([[x, y, z]])\n",
    "plots = [ax.plot(dat[0, 0:1], dat[1, 0:1], dat[2, 0:1], alpha=1, linewidth=0.6, color='White')[0] for dat in dados]\n",
    "\n",
    "ax.set_title(\"Animação de uma trajetória no diagrama de fase\\n do Atrator de Lorenz com $x_{0} = 1$, $y_{0} = 1$ e $z_{0} = 1$\")\n",
    "ax.set_xlabel(\"x\")\n",
    "ax.set_ylabel(\"y\")\n",
    "ax.set_zlabel(\"z\")\n",
    "\n",
    "ax.w_xaxis.set_pane_color((0, 0, 0, 0))\n",
    "ax.w_yaxis.set_pane_color((0, 0, 0, 0))\n",
    "ax.w_zaxis.set_pane_color((0, 0, 0, 0))\n",
    "\n",
    "ax.set_xlim(-20,20)\n",
    "ax.set_ylim(-30,30)\n",
    "ax.set_zlim(-0,50)\n",
    "\n",
    "plt.rcParams['animation.html'] = 'html5'\n",
    "\n",
    "ax.grid(False)\n",
    "sns.despine()\n",
    "\n",
    "lorenz_animacao = FuncAnimation(fig, update_lines, frames=int(0.45*t_final/dt), fargs=(dados, plots),\n",
    "                                   interval=1, blit=True, repeat=False)\n",
    "\n",
    "lorenz_animacao.save('../../visualization/chaos/lorenz-attractor.mp4', writer='ffmpeg', fps=250)"
   ]
  },
  {
   "cell_type": "markdown",
   "id": "broken-cooking",
   "metadata": {},
   "source": [
    "## 4. Animação de três trajetórias próximas"
   ]
  },
  {
   "cell_type": "code",
   "execution_count": 10,
   "id": "reported-retrieval",
   "metadata": {},
   "outputs": [],
   "source": [
    "estado_inicial_1 = np.array([1.1, 1, 1])\n",
    "estado_inicial_2 = np.array([1, 1.1, 1])\n",
    "estado_inicial_3 = np.array([1, 1, 1.1])"
   ]
  },
  {
   "cell_type": "code",
   "execution_count": 11,
   "id": "valued-question",
   "metadata": {},
   "outputs": [],
   "source": [
    "sis_lorenz_1 = lsys.SistemaLorenz(estado_inicial_1, dt=dt)\n",
    "sis_lorenz_2 = lsys.SistemaLorenz(estado_inicial_2, dt=dt)\n",
    "sis_lorenz_3 = lsys.SistemaLorenz(estado_inicial_3, dt=dt)"
   ]
  },
  {
   "cell_type": "code",
   "execution_count": 12,
   "id": "historical-avatar",
   "metadata": {},
   "outputs": [],
   "source": [
    "trajetoria_1, instantes_temporais = sis_lorenz_1.calcular(t_inicial = t_inicial, t_final = t_final)\n",
    "trajetoria_2, instantes_temporais = sis_lorenz_2.calcular(t_inicial = t_inicial, t_final = t_final)\n",
    "trajetoria_3, instantes_temporais = sis_lorenz_3.calcular(t_inicial = t_inicial, t_final = t_final)"
   ]
  },
  {
   "cell_type": "code",
   "execution_count": 13,
   "id": "scenic-situation",
   "metadata": {},
   "outputs": [],
   "source": [
    "x_1 = trajetoria_1[:, 0]\n",
    "y_1 = trajetoria_1[:, 1]\n",
    "z_1 = trajetoria_1[:, 2]\n",
    "\n",
    "x_2 = trajetoria_2[:, 0]\n",
    "y_2 = trajetoria_2[:, 1]\n",
    "z_2 = trajetoria_2[:, 2]\n",
    "\n",
    "x_3 = trajetoria_3[:, 0]\n",
    "y_3 = trajetoria_3[:, 1]\n",
    "z_3 = trajetoria_3[:, 2]"
   ]
  },
  {
   "cell_type": "code",
   "execution_count": 14,
   "id": "dramatic-plaza",
   "metadata": {},
   "outputs": [],
   "source": [
    "dados = np.array([[x_1, y_1, z_1], [x_2, y_2, z_2], [x_3, y_3, z_3]])"
   ]
  },
  {
   "cell_type": "code",
   "execution_count": 15,
   "id": "environmental-competition",
   "metadata": {},
   "outputs": [],
   "source": [
    "%%capture\n",
    "fig, ax = plt.subplots()\n",
    "ax = plt.axes(projection='3d')\n",
    "\n",
    "plots = [ax.plot(dados[0, 0][0], dados[0, 1][0], dados[0, 2][0], alpha=1, linewidth=0.6, color='Red', label=\"$x_{0} = 1.1$, $y_{0} = 1$ e $z_{0} = 1$\")[0],\n",
    "         ax.plot(dados[1, 0][0], dados[1, 1][0], dados[1, 2][0], alpha=1, linewidth=0.6, color='Blue', label=\"$x_{0} = 1$, $y_{0} = 1.1$ e $z_{0} = 1$\")[0],\n",
    "         ax.plot(dados[2, 0][0], dados[2, 1][0], dados[2, 2][0], alpha=1, linewidth=0.6, color='Green', label=\"$x_{0} = 1$, $y_{0} = 1$ e $z_{0} = 1.1$\")[0]]\n",
    "\n",
    "ax.set_title(\"Comparação de três trajetórias no diagrama de fase\\n do Atrator de Lorenz com pontos de partida próximos\")\n",
    "ax.set_xlabel(\"x\")\n",
    "ax.set_ylabel(\"y\")\n",
    "ax.set_zlabel(\"z\")\n",
    "\n",
    "ax.w_xaxis.set_pane_color((0, 0, 0, 0))\n",
    "ax.w_yaxis.set_pane_color((0, 0, 0, 0))\n",
    "ax.w_zaxis.set_pane_color((0, 0, 0, 0))\n",
    "\n",
    "ax.set_xlim(-20,20)\n",
    "ax.set_ylim(-30,30)\n",
    "ax.set_zlim(-20,50)\n",
    "\n",
    "plt.rcParams['animation.html'] = 'html5'\n",
    "\n",
    "ax.grid(False)\n",
    "ax.legend(frameon=False);\n",
    "sns.despine()\n",
    "\n",
    "lorenz_3_trajetorias = FuncAnimation(fig, update_lines, frames=int(0.45*t_final/dt), fargs=(dados, plots),\n",
    "                                   interval=1, blit=True, repeat=False)\n",
    "\n",
    "lorenz_3_trajetorias.save('../../visualization/chaos/lorenz-3-trajectories.mp4', writer='ffmpeg', fps=250)"
   ]
  },
  {
   "cell_type": "markdown",
   "id": "identical-phrase",
   "metadata": {},
   "source": [
    "## 5. Visualizando as animações"
   ]
  },
  {
   "cell_type": "markdown",
   "id": "beautiful-carrier",
   "metadata": {},
   "source": [
    "### Uma única trajetória"
   ]
  },
  {
   "cell_type": "code",
   "execution_count": 18,
   "id": "sustained-liabilities",
   "metadata": {},
   "outputs": [
    {
     "data": {
      "text/html": [
       "<video src=\"../../visualization/chaos/lorenz-attractor.mp4\" controls  >\n",
       "      Your browser does not support the <code>video</code> element.\n",
       "    </video>"
      ],
      "text/plain": [
       "<IPython.core.display.Video object>"
      ]
     },
     "execution_count": 18,
     "metadata": {},
     "output_type": "execute_result"
    }
   ],
   "source": [
    "Video(\"../../visualization/chaos/lorenz-attractor.mp4\")"
   ]
  },
  {
   "cell_type": "markdown",
   "id": "heard-howard",
   "metadata": {},
   "source": [
    "### Três trajetórias com pontos iniciais próximos"
   ]
  },
  {
   "cell_type": "code",
   "execution_count": 17,
   "id": "unlikely-affairs",
   "metadata": {},
   "outputs": [
    {
     "data": {
      "text/html": [
       "<video src=\"../../visualization/chaos/lorenz-3-trajectories.mp4\" controls  >\n",
       "      Your browser does not support the <code>video</code> element.\n",
       "    </video>"
      ],
      "text/plain": [
       "<IPython.core.display.Video object>"
      ]
     },
     "execution_count": 17,
     "metadata": {},
     "output_type": "execute_result"
    }
   ],
   "source": [
    "Video(\"../../visualization/chaos/lorenz-3-trajectories.mp4\")"
   ]
  },
  {
   "cell_type": "code",
   "execution_count": null,
   "id": "suspended-footwear",
   "metadata": {},
   "outputs": [],
   "source": []
  }
 ],
 "metadata": {
  "kernelspec": {
   "display_name": "pibic2020-env",
   "language": "python",
   "name": "pibic2020-env"
  },
  "language_info": {
   "codemirror_mode": {
    "name": "ipython",
    "version": 3
   },
   "file_extension": ".py",
   "mimetype": "text/x-python",
   "name": "python",
   "nbconvert_exporter": "python",
   "pygments_lexer": "ipython3",
   "version": "3.8.5"
  }
 },
 "nbformat": 4,
 "nbformat_minor": 5
}
