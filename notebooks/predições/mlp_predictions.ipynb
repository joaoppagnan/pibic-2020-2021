{
 "cells": [
  {
   "cell_type": "markdown",
   "id": "16f69df9",
   "metadata": {},
   "source": [
    "# Realizando predições com as melhores configurações para a MLP"
   ]
  },
  {
   "cell_type": "markdown",
   "id": "09b79ded",
   "metadata": {},
   "source": [
    "## 1. Importando as bibliotecas necessárias"
   ]
  },
  {
   "cell_type": "markdown",
   "id": "e35537cf",
   "metadata": {},
   "source": [
    "### Bibliotecas Externas"
   ]
  },
  {
   "cell_type": "code",
   "execution_count": 1,
   "id": "d8685e99",
   "metadata": {},
   "outputs": [],
   "source": [
    "import numpy as np\n",
    "import pandas as pd\n",
    "\n",
    "import tensorflow as tf\n",
    "physical_devices = tf.config.list_physical_devices('GPU')\n",
    "\n",
    "import matplotlib.pyplot as plt\n",
    "import seaborn as sns \n",
    "sns.set_style(\"ticks\")\n",
    "plt.rcParams['savefig.dpi'] = 200\n",
    "plt.rcParams[\"figure.dpi\"] = 125\n",
    "plt.rcParams.update({\n",
    "    \"text.usetex\": True,\n",
    "    \"font.family\": \"serif\",\n",
    "    \"font.serif\": [\"Palatino\"],\n",
    "})\n",
    "\n",
    "from sklearn.metrics import mean_squared_error"
   ]
  },
  {
   "cell_type": "markdown",
   "id": "28849707",
   "metadata": {},
   "source": [
    "### Bibliotecas do projeto"
   ]
  },
  {
   "cell_type": "code",
   "execution_count": 2,
   "id": "f14d01f7",
   "metadata": {},
   "outputs": [],
   "source": [
    "# arquivos de configurações\n",
    "from pibic2020.parameters.mlp_basica import *\n",
    "from pibic2020.models import mlp_model\n",
    "\n",
    "# para separar em conjuntos de treino, teste e validacao\n",
    "from pibic2020.tools import timeseries"
   ]
  },
  {
   "cell_type": "markdown",
   "id": "0d28c07e",
   "metadata": {},
   "source": [
    "## 2. Pegando os dados gerados"
   ]
  },
  {
   "cell_type": "markdown",
   "id": "5905c17e",
   "metadata": {},
   "source": [
    "### Dados brutos"
   ]
  },
  {
   "cell_type": "code",
   "execution_count": 3,
   "id": "90b4326e",
   "metadata": {},
   "outputs": [],
   "source": [
    "dados_henon = pd.read_csv('../../data/raw/henon.csv')\n",
    "dados_logistic = pd.read_csv('../../data/raw/logistic.csv')\n",
    "dados_lorenz = pd.read_csv('../../data/raw/lorenz.csv')\n",
    "dados_mackeyglass = pd.read_csv('../../data/raw/mackeyglass.csv')"
   ]
  },
  {
   "cell_type": "markdown",
   "id": "2f429819",
   "metadata": {},
   "source": [
    "### Separando os vetores que serão utilizados"
   ]
  },
  {
   "cell_type": "markdown",
   "id": "86efeb66",
   "metadata": {},
   "source": [
    "#### Mapa de Hénon"
   ]
  },
  {
   "cell_type": "code",
   "execution_count": 4,
   "id": "10d8dbf0",
   "metadata": {},
   "outputs": [],
   "source": [
    "n_henon = pd.DataFrame(dados_henon, columns=['n']).to_numpy()\n",
    "n_henon = n_henon.ravel()\n",
    "x_henon = pd.DataFrame(dados_henon, columns=['x']).to_numpy()\n",
    "x_henon = x_henon.ravel()"
   ]
  },
  {
   "cell_type": "markdown",
   "id": "20933530",
   "metadata": {},
   "source": [
    "#### Mapa de logístico"
   ]
  },
  {
   "cell_type": "code",
   "execution_count": 5,
   "id": "f321113b",
   "metadata": {},
   "outputs": [],
   "source": [
    "n_logistic = pd.DataFrame(dados_logistic, columns=['n']).to_numpy()\n",
    "n_logistic = n_logistic.ravel()\n",
    "x_logistic = pd.DataFrame(dados_logistic, columns=['x']).to_numpy()\n",
    "x_logistic = x_logistic.ravel()"
   ]
  },
  {
   "cell_type": "markdown",
   "id": "d0e1e3f0",
   "metadata": {},
   "source": [
    "#### Sistema de Lorenz"
   ]
  },
  {
   "cell_type": "code",
   "execution_count": 6,
   "id": "f95517a0",
   "metadata": {},
   "outputs": [],
   "source": [
    "t_lorenz = pd.DataFrame(dados_lorenz, columns=['t']).to_numpy()\n",
    "t_lorenz = t_lorenz.ravel()\n",
    "x_lorenz = pd.DataFrame(dados_lorenz, columns=['x']).to_numpy()\n",
    "x_lorenz = x_lorenz.ravel()"
   ]
  },
  {
   "cell_type": "markdown",
   "id": "d12dab0e",
   "metadata": {},
   "source": [
    "#### Equações de Mackey-Glass"
   ]
  },
  {
   "cell_type": "code",
   "execution_count": 7,
   "id": "d466e3b0",
   "metadata": {},
   "outputs": [],
   "source": [
    "t_mackeyglass = pd.DataFrame(dados_mackeyglass, columns=['t']).to_numpy()\n",
    "t_mackeyglass = t_mackeyglass.ravel()\n",
    "p_mackeyglass = pd.DataFrame(dados_mackeyglass, columns=['p']).to_numpy()\n",
    "p_mackeyglass = p_mackeyglass.ravel()"
   ]
  },
  {
   "cell_type": "markdown",
   "id": "52311c35",
   "metadata": {},
   "source": [
    "## 3. Separando as configurações para cada modelo"
   ]
  },
  {
   "cell_type": "markdown",
   "id": "07a5c7b4",
   "metadata": {},
   "source": [
    "### Mapa de Hénon"
   ]
  },
  {
   "cell_type": "code",
   "execution_count": 8,
   "id": "e32a9e08",
   "metadata": {},
   "outputs": [],
   "source": [
    "config_henon = mlp_basica_henon.mlp_basica_henon\n",
    "k_henon = mlp_best_k.K_best_henon_mlp\n",
    "k_henon = k_henon[0]"
   ]
  },
  {
   "cell_type": "markdown",
   "id": "4a6876bb",
   "metadata": {},
   "source": [
    "### Mapa logístico"
   ]
  },
  {
   "cell_type": "code",
   "execution_count": 9,
   "id": "65628091",
   "metadata": {},
   "outputs": [],
   "source": [
    "config_logistic = mlp_basica_logistic.mlp_basica_logistic\n",
    "k_logistic = mlp_best_k.K_best_logistic_mlp\n",
    "k_logistic = k_logistic[0]"
   ]
  },
  {
   "cell_type": "markdown",
   "id": "2f5b6ac1",
   "metadata": {},
   "source": [
    "### Sistema de Lorenz"
   ]
  },
  {
   "cell_type": "code",
   "execution_count": 10,
   "id": "548ec9ee",
   "metadata": {},
   "outputs": [],
   "source": [
    "config_lorenz = mlp_basica_lorenz.mlp_basica_lorenz\n",
    "k_lorenz = mlp_best_k.K_best_lorenz_mlp\n",
    "k_lorenz = k_lorenz[0]"
   ]
  },
  {
   "cell_type": "markdown",
   "id": "f980a992",
   "metadata": {},
   "source": [
    "### Equações de Mackey-Glass"
   ]
  },
  {
   "cell_type": "code",
   "execution_count": 11,
   "id": "aace47ba",
   "metadata": {},
   "outputs": [],
   "source": [
    "config_mackeyglass = mlp_basica_mackeyglass.mlp_basica_mackeyglass\n",
    "k_mackeyglass = mlp_best_k.K_best_mackeyglass_mlp\n",
    "k_mackeyglass = k_mackeyglass[0]"
   ]
  },
  {
   "cell_type": "markdown",
   "id": "b1a9bf15",
   "metadata": {},
   "source": [
    "## 4. Criando conjuntos de treino, teste e validação"
   ]
  },
  {
   "cell_type": "code",
   "execution_count": 12,
   "id": "b368b59d",
   "metadata": {},
   "outputs": [],
   "source": [
    "L = 3\n",
    "tam_teste = 0.15\n",
    "tam_val = 0.1"
   ]
  },
  {
   "cell_type": "markdown",
   "id": "82e44e79",
   "metadata": {},
   "source": [
    "#### Mapa de Hénon"
   ]
  },
  {
   "cell_type": "code",
   "execution_count": 13,
   "id": "47f249cc",
   "metadata": {},
   "outputs": [],
   "source": [
    "serie_henon = timeseries.SerieTemporal(x_henon, K=k_henon, L=L)\n",
    "X_henon_treino, X_henon_teste, X_henon_val, y_henon_treino, y_henon_teste, y_henon_val = serie_henon.dividir_treino_teste_validacao(tam_teste=tam_teste,\n",
    "                                                                                                                                    tam_val=tam_val)"
   ]
  },
  {
   "cell_type": "markdown",
   "id": "0d1e0079",
   "metadata": {},
   "source": [
    "#### Mapa logístico"
   ]
  },
  {
   "cell_type": "code",
   "execution_count": 14,
   "id": "e15d5418",
   "metadata": {},
   "outputs": [],
   "source": [
    "serie_logistic = timeseries.SerieTemporal(x_logistic, K=k_logistic, L=L)\n",
    "X_logistic_treino, X_logistic_teste, X_logistic_val, y_logistic_treino, y_logistic_teste, y_logistic_val = serie_logistic.dividir_treino_teste_validacao(tam_teste=tam_teste,\n",
    "                                                                                                                                    tam_val=tam_val)"
   ]
  },
  {
   "cell_type": "markdown",
   "id": "b89f6af5",
   "metadata": {},
   "source": [
    "#### Sistema de Lorenz"
   ]
  },
  {
   "cell_type": "code",
   "execution_count": 15,
   "id": "d367edad",
   "metadata": {},
   "outputs": [],
   "source": [
    "serie_lorenz = timeseries.SerieTemporal(x_lorenz, K=k_lorenz, L=L)\n",
    "X_lorenz_treino, X_lorenz_teste, X_lorenz_val, y_lorenz_treino, y_lorenz_teste, y_lorenz_val = serie_lorenz.dividir_treino_teste_validacao(tam_teste=tam_teste,\n",
    "                                                                                                                                    tam_val=tam_val)"
   ]
  },
  {
   "cell_type": "markdown",
   "id": "ac819c74",
   "metadata": {},
   "source": [
    "#### Equações de Mackey-Glass"
   ]
  },
  {
   "cell_type": "code",
   "execution_count": 16,
   "id": "3b4aafee",
   "metadata": {},
   "outputs": [],
   "source": [
    "serie_mackeyglass = timeseries.SerieTemporal(p_mackeyglass, K=k_mackeyglass, L=L)\n",
    "X_mackeyglass_treino, X_mackeyglass_teste, X_mackeyglass_val, y_mackeyglass_treino, y_mackeyglass_teste, y_mackeyglass_val = serie_mackeyglass.dividir_treino_teste_validacao(tam_teste=tam_teste,\n",
    "                                                                                                                                    tam_val=tam_val)"
   ]
  },
  {
   "cell_type": "markdown",
   "id": "4b963e59",
   "metadata": {},
   "source": [
    "## 5. Treinando a rede neural"
   ]
  },
  {
   "cell_type": "markdown",
   "id": "71529a90",
   "metadata": {},
   "source": [
    "### Mapa de Hénon"
   ]
  },
  {
   "cell_type": "code",
   "execution_count": 17,
   "id": "c853a72b",
   "metadata": {},
   "outputs": [],
   "source": [
    "model_henon = mlp_model.ModeloMLP(input_size=k_henon,\n",
    "                                  name=config_henon['name'])\n",
    "\n",
    "model_henon.criar_modelo(batch_normalization=config_henon[\"batch_normalization\"],\n",
    "                         activation=config_henon[\"activation\"],\n",
    "                         init_mode=config_henon[\"init_mode\"],\n",
    "                         n_neurons=config_henon[\"n_neurons\"])\n",
    "\n",
    "model_henon.montar(learning_rate=config_henon[\"learning_rate\"])"
   ]
  },
  {
   "cell_type": "code",
   "execution_count": 18,
   "id": "e9f4f92c",
   "metadata": {},
   "outputs": [],
   "source": [
    "model_henon.treinar(X_treino=X_henon_treino,\n",
    "                    X_val=X_henon_val,\n",
    "                    y_treino=y_henon_treino,\n",
    "                    y_val=y_henon_val,\n",
    "                    batch_size=config_henon[\"batch_size\"],\n",
    "                    verbose=0)"
   ]
  },
  {
   "cell_type": "code",
   "execution_count": 19,
   "id": "f5675530",
   "metadata": {},
   "outputs": [],
   "source": [
    "y_henon_pred = model_henon.predicao(X_henon_teste)"
   ]
  },
  {
   "cell_type": "code",
   "execution_count": 20,
   "id": "4b3fc8b1",
   "metadata": {},
   "outputs": [
    {
     "name": "stdout",
     "output_type": "stream",
     "text": [
      "MSE = 0.002685934453933342\n"
     ]
    }
   ],
   "source": [
    "mse = mean_squared_error(y_henon_teste, y_henon_pred)\n",
    "print(\"MSE = \" + str(mse))"
   ]
  },
  {
   "cell_type": "markdown",
   "id": "3bd23dc7",
   "metadata": {},
   "source": [
    "### Mapa logístico"
   ]
  },
  {
   "cell_type": "code",
   "execution_count": 21,
   "id": "01d87e83",
   "metadata": {},
   "outputs": [],
   "source": [
    "model_logistic = mlp_model.ModeloMLP(input_size=k_logistic,\n",
    "                                  name=config_logistic['name'])\n",
    "\n",
    "model_logistic.criar_modelo(batch_normalization=config_logistic[\"batch_normalization\"],\n",
    "                         activation=config_logistic[\"activation\"],\n",
    "                         init_mode=config_logistic[\"init_mode\"],\n",
    "                         n_neurons=config_logistic[\"n_neurons\"])\n",
    "\n",
    "model_logistic.montar(learning_rate=config_logistic[\"learning_rate\"])"
   ]
  },
  {
   "cell_type": "code",
   "execution_count": 22,
   "id": "01e43963",
   "metadata": {},
   "outputs": [],
   "source": [
    "model_logistic.treinar(X_treino=X_logistic_treino,\n",
    "                    X_val=X_logistic_val,\n",
    "                    y_treino=y_logistic_treino,\n",
    "                    y_val=y_logistic_val,\n",
    "                    batch_size=config_logistic[\"batch_size\"],\n",
    "                    verbose=0)"
   ]
  },
  {
   "cell_type": "code",
   "execution_count": 23,
   "id": "a276b49b",
   "metadata": {},
   "outputs": [],
   "source": [
    "y_logistic_pred = model_logistic.predicao(X_logistic_teste)"
   ]
  },
  {
   "cell_type": "code",
   "execution_count": 24,
   "id": "617bd331",
   "metadata": {},
   "outputs": [
    {
     "name": "stdout",
     "output_type": "stream",
     "text": [
      "MSE = 0.00048790151226860894\n"
     ]
    }
   ],
   "source": [
    "mse = mean_squared_error(y_logistic_teste, y_logistic_pred)\n",
    "print(\"MSE = \" + str(mse))"
   ]
  },
  {
   "cell_type": "markdown",
   "id": "06dc7d14",
   "metadata": {},
   "source": [
    "### Sistema de Lorenz"
   ]
  },
  {
   "cell_type": "code",
   "execution_count": 25,
   "id": "bea788ef",
   "metadata": {},
   "outputs": [],
   "source": [
    "model_lorenz = mlp_model.ModeloMLP(input_size=k_lorenz,\n",
    "                                  name=config_lorenz['name'])\n",
    "\n",
    "model_lorenz.criar_modelo(batch_normalization=config_lorenz[\"batch_normalization\"],\n",
    "                         activation=config_lorenz[\"activation\"],\n",
    "                         init_mode=config_lorenz[\"init_mode\"],\n",
    "                         n_neurons=config_lorenz[\"n_neurons\"])\n",
    "\n",
    "model_lorenz.montar(learning_rate=config_lorenz[\"learning_rate\"])"
   ]
  },
  {
   "cell_type": "code",
   "execution_count": 26,
   "id": "6c29046f",
   "metadata": {},
   "outputs": [],
   "source": [
    "model_lorenz.treinar(X_treino=X_lorenz_treino,\n",
    "                    X_val=X_lorenz_val,\n",
    "                    y_treino=y_lorenz_treino,\n",
    "                    y_val=y_lorenz_val,\n",
    "                    batch_size=config_lorenz[\"batch_size\"],\n",
    "                    verbose=0)"
   ]
  },
  {
   "cell_type": "code",
   "execution_count": 27,
   "id": "2cb7268d",
   "metadata": {},
   "outputs": [],
   "source": [
    "y_lorenz_pred = model_lorenz.predicao(X_lorenz_teste)"
   ]
  },
  {
   "cell_type": "code",
   "execution_count": 28,
   "id": "d7dea5ff",
   "metadata": {},
   "outputs": [
    {
     "name": "stdout",
     "output_type": "stream",
     "text": [
      "MSE = 0.0031864793022575214\n"
     ]
    }
   ],
   "source": [
    "mse = mean_squared_error(y_lorenz_teste, y_lorenz_pred)\n",
    "print(\"MSE = \" + str(mse))"
   ]
  },
  {
   "cell_type": "markdown",
   "id": "a1c53712",
   "metadata": {},
   "source": [
    "### Equações de Mackey-Glass"
   ]
  },
  {
   "cell_type": "code",
   "execution_count": 29,
   "id": "428217bb",
   "metadata": {},
   "outputs": [],
   "source": [
    "model_mackeyglass = mlp_model.ModeloMLP(input_size=k_mackeyglass,\n",
    "                                  name=config_mackeyglass['name'])\n",
    "\n",
    "model_mackeyglass.criar_modelo(batch_normalization=config_mackeyglass[\"batch_normalization\"],\n",
    "                         activation=config_mackeyglass[\"activation\"],\n",
    "                         init_mode=config_mackeyglass[\"init_mode\"],\n",
    "                         n_neurons=config_mackeyglass[\"n_neurons\"])\n",
    "\n",
    "model_mackeyglass.montar(learning_rate=config_mackeyglass[\"learning_rate\"])"
   ]
  },
  {
   "cell_type": "code",
   "execution_count": 30,
   "id": "de5e49db",
   "metadata": {},
   "outputs": [],
   "source": [
    "model_mackeyglass.treinar(X_treino=X_mackeyglass_treino,\n",
    "                    X_val=X_mackeyglass_val,\n",
    "                    y_treino=y_mackeyglass_treino,\n",
    "                    y_val=y_mackeyglass_val,\n",
    "                    batch_size=config_mackeyglass[\"batch_size\"],\n",
    "                    verbose=0)"
   ]
  },
  {
   "cell_type": "code",
   "execution_count": 31,
   "id": "c3b856f4",
   "metadata": {},
   "outputs": [],
   "source": [
    "y_mackeyglass_pred = model_mackeyglass.predicao(X_mackeyglass_teste)"
   ]
  },
  {
   "cell_type": "code",
   "execution_count": 32,
   "id": "3fee29ae",
   "metadata": {},
   "outputs": [
    {
     "name": "stdout",
     "output_type": "stream",
     "text": [
      "MSE = 0.0004581787411607431\n"
     ]
    }
   ],
   "source": [
    "mse = mean_squared_error(y_mackeyglass_teste, y_mackeyglass_pred)\n",
    "print(\"MSE = \" + str(mse))"
   ]
  },
  {
   "cell_type": "markdown",
   "id": "c66c10f8",
   "metadata": {},
   "source": [
    "## 6. Salvando os dados"
   ]
  },
  {
   "cell_type": "markdown",
   "id": "f5d0c5cc",
   "metadata": {},
   "source": [
    "### Mapa de Hénon"
   ]
  },
  {
   "cell_type": "code",
   "execution_count": 33,
   "id": "668773d5",
   "metadata": {},
   "outputs": [],
   "source": [
    "n_henon_teste = n_henon[-len(y_henon_pred):]\n",
    "dados_henon = np.column_stack((y_henon_teste, y_henon_pred, n_henon_teste))\n",
    "dados_henon = pd.DataFrame(dados_henon, columns=['y_teste', 'y_pred', 'n'])\n",
    "dados_henon.to_csv('../../data/predictions/mlp-basica/henon.csv', index = False, header=True)"
   ]
  },
  {
   "cell_type": "markdown",
   "id": "fd35c38d",
   "metadata": {},
   "source": [
    "### Mapa logístico"
   ]
  },
  {
   "cell_type": "code",
   "execution_count": 34,
   "id": "0340e511",
   "metadata": {},
   "outputs": [],
   "source": [
    "n_logistic_teste = n_logistic[-len(y_logistic_pred):]\n",
    "dados_logistic = np.column_stack((y_logistic_teste, y_logistic_pred, n_logistic_teste))\n",
    "dados_logistic = pd.DataFrame(dados_logistic, columns=['y_teste', 'y_pred', 'n'])\n",
    "dados_logistic.to_csv('../../data/predictions/mlp-basica/logistic.csv', index = False, header=True)"
   ]
  },
  {
   "cell_type": "markdown",
   "id": "c26b6489",
   "metadata": {},
   "source": [
    "### Sistema de Lorenz"
   ]
  },
  {
   "cell_type": "code",
   "execution_count": 35,
   "id": "aa85219d",
   "metadata": {},
   "outputs": [],
   "source": [
    "n_lorenz_teste = t_lorenz[-len(y_lorenz_pred):]\n",
    "dados_lorenz = np.column_stack((y_lorenz_teste, y_lorenz_pred, n_lorenz_teste))\n",
    "dados_lorenz = pd.DataFrame(dados_lorenz, columns=['y_teste', 'y_pred', 't'])\n",
    "dados_lorenz.to_csv('../../data/predictions/mlp-basica/lorenz.csv', index = False, header=True)"
   ]
  },
  {
   "cell_type": "markdown",
   "id": "258dbdc9",
   "metadata": {},
   "source": [
    "### Equações de Mackey-Glass"
   ]
  },
  {
   "cell_type": "code",
   "execution_count": 36,
   "id": "bd140e3c",
   "metadata": {},
   "outputs": [],
   "source": [
    "t_mackeyglass_teste = t_mackeyglass[-len(y_mackeyglass_pred):]\n",
    "dados_mackeyglass = np.column_stack((y_mackeyglass_teste, y_mackeyglass_pred, t_mackeyglass_teste))\n",
    "dados_mackeyglass = pd.DataFrame(dados_mackeyglass, columns=['y_teste', 'y_pred', 't'])\n",
    "dados_mackeyglass.to_csv('../../data/predictions/mlp-basica/mackeyglass.csv', index = False, header=True)"
   ]
  },
  {
   "cell_type": "markdown",
   "id": "77297c5e",
   "metadata": {},
   "source": [
    "## 7. Salvando os modelos"
   ]
  },
  {
   "cell_type": "code",
   "execution_count": 37,
   "id": "900c980e",
   "metadata": {},
   "outputs": [
    {
     "name": "stdout",
     "output_type": "stream",
     "text": [
      "O modelo foi salvo!\n",
      "O modelo foi salvo!\n",
      "O modelo foi salvo!\n",
      "O modelo foi salvo!\n"
     ]
    }
   ],
   "source": [
    "model_henon.salvar(\"../../models/mlp-basica/mlp-basica-henon.h5\")\n",
    "model_logistic.salvar(\"../../models/mlp-basica/mlp-basica-logistic.h5\")\n",
    "model_lorenz.salvar(\"../../models/mlp-basica/mlp-basica-lorenz.h5\")\n",
    "model_mackeyglass.salvar(\"../../models/mlp-basica/mlp-basica-mackeyglass.h5\")"
   ]
  },
  {
   "cell_type": "code",
   "execution_count": null,
   "id": "88905686",
   "metadata": {},
   "outputs": [],
   "source": []
  }
 ],
 "metadata": {
  "kernelspec": {
   "display_name": "Python 3",
   "language": "python",
   "name": "python3"
  },
  "language_info": {
   "codemirror_mode": {
    "name": "ipython",
    "version": 3
   },
   "file_extension": ".py",
   "mimetype": "text/x-python",
   "name": "python",
   "nbconvert_exporter": "python",
   "pygments_lexer": "ipython3",
   "version": "3.8.0"
  }
 },
 "nbformat": 4,
 "nbformat_minor": 5
}
