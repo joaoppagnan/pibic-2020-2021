{
 "cells": [
  {
   "cell_type": "markdown",
   "id": "9c589501",
   "metadata": {},
   "source": [
    "# Realizando predições com as melhores configurações para a MLP"
   ]
  },
  {
   "cell_type": "markdown",
   "id": "d541f43e",
   "metadata": {},
   "source": [
    "## 1. Importando as bibliotecas necessárias"
   ]
  },
  {
   "cell_type": "markdown",
   "id": "ad336335",
   "metadata": {},
   "source": [
    "### Bibliotecas Externas"
   ]
  },
  {
   "cell_type": "code",
   "execution_count": 1,
   "id": "6035ea28",
   "metadata": {},
   "outputs": [],
   "source": [
    "import numpy as np\n",
    "import pandas as pd\n",
    "\n",
    "import tensorflow as tf\n",
    "physical_devices = tf.config.list_physical_devices('GPU')\n",
    "\n",
    "import matplotlib.pyplot as plt\n",
    "import seaborn as sns \n",
    "sns.set_style(\"ticks\")\n",
    "plt.rcParams['savefig.dpi'] = 200\n",
    "plt.rcParams[\"figure.dpi\"] = 125\n",
    "plt.rcParams.update({\n",
    "    \"text.usetex\": True,\n",
    "    \"font.family\": \"serif\",\n",
    "    \"font.serif\": [\"Palatino\"],\n",
    "})"
   ]
  },
  {
   "cell_type": "markdown",
   "id": "73b8641f",
   "metadata": {},
   "source": [
    "### Bibliotecas do projeto"
   ]
  },
  {
   "cell_type": "code",
   "execution_count": 2,
   "id": "0fd2650e",
   "metadata": {},
   "outputs": [],
   "source": [
    "# arquivos de configurações\n",
    "from pibic2020.parameters.mlp_basica import *\n",
    "from pibic2020.parameters.mlp_basica import mlp_best_k\n",
    "from pibic2020.models import mlp_model\n",
    "\n",
    "# para separar em conjuntos de treino, teste e validacao\n",
    "from pibic2020.tools import timeseries"
   ]
  },
  {
   "cell_type": "markdown",
   "id": "e1b4d1be",
   "metadata": {},
   "source": [
    "## 2. Pegando os dados gerados"
   ]
  },
  {
   "cell_type": "markdown",
   "id": "dc15aa3f",
   "metadata": {},
   "source": [
    "### Dados brutos"
   ]
  },
  {
   "cell_type": "code",
   "execution_count": 3,
   "id": "782f4d2b",
   "metadata": {},
   "outputs": [],
   "source": [
    "dados_henon = pd.read_csv('../../data/raw/henon.csv')\n",
    "dados_logistic = pd.read_csv('../../data/raw/logistic.csv')\n",
    "dados_lorenz = pd.read_csv('../../data/raw/lorenz.csv')\n",
    "dados_mackeyglass = pd.read_csv('../../data/raw/mackeyglass.csv')"
   ]
  },
  {
   "cell_type": "markdown",
   "id": "7c768660",
   "metadata": {},
   "source": [
    "### Separando os vetores que serão utilizados"
   ]
  },
  {
   "cell_type": "markdown",
   "id": "1c82ba79",
   "metadata": {},
   "source": [
    "#### Mapa de Hénon"
   ]
  },
  {
   "cell_type": "code",
   "execution_count": 4,
   "id": "d43307bb",
   "metadata": {},
   "outputs": [],
   "source": [
    "n_henon = pd.DataFrame(dados_henon, columns=['n']).to_numpy()\n",
    "n_henon = n_henon.ravel()\n",
    "x_henon = pd.DataFrame(dados_henon, columns=['x']).to_numpy()\n",
    "x_henon = x_henon.ravel()"
   ]
  },
  {
   "cell_type": "markdown",
   "id": "e9afba0e",
   "metadata": {},
   "source": [
    "#### Mapa de logístico"
   ]
  },
  {
   "cell_type": "code",
   "execution_count": 5,
   "id": "b88a13d7",
   "metadata": {},
   "outputs": [],
   "source": [
    "n_logistic = pd.DataFrame(dados_logistic, columns=['n']).to_numpy()\n",
    "n_logistic = n_henon.ravel()\n",
    "x_logistic = pd.DataFrame(dados_logistic, columns=['x']).to_numpy()\n",
    "x_logistic = x_henon.ravel()"
   ]
  },
  {
   "cell_type": "markdown",
   "id": "a0b1a106",
   "metadata": {},
   "source": [
    "#### Sistema de Lorenz"
   ]
  },
  {
   "cell_type": "code",
   "execution_count": 6,
   "id": "93a2be02",
   "metadata": {},
   "outputs": [],
   "source": [
    "t_lorenz = pd.DataFrame(dados_lorenz, columns=['t']).to_numpy()\n",
    "t_lorenz = t_lorenz.ravel()\n",
    "x_lorenz = pd.DataFrame(dados_lorenz, columns=['x']).to_numpy()\n",
    "x_lorenz = x_lorenz.ravel()"
   ]
  },
  {
   "cell_type": "markdown",
   "id": "d1c7c804",
   "metadata": {},
   "source": [
    "#### Equações de Mackey-Glass"
   ]
  },
  {
   "cell_type": "code",
   "execution_count": 7,
   "id": "645bac1a",
   "metadata": {},
   "outputs": [],
   "source": [
    "t_mackeyglass = pd.DataFrame(dados_mackeyglass, columns=['t']).to_numpy()\n",
    "t_mackeyglass = t_mackeyglass.ravel()\n",
    "p_mackeyglass = pd.DataFrame(dados_mackeyglass, columns=['p']).to_numpy()\n",
    "p_mackeyglass = p_mackeyglass.ravel()"
   ]
  },
  {
   "cell_type": "markdown",
   "id": "2a2770c3",
   "metadata": {},
   "source": [
    "## 3. Separando as configurações para cada modelo"
   ]
  },
  {
   "cell_type": "markdown",
   "id": "8b459e34",
   "metadata": {},
   "source": [
    "### Mapa de Hénon"
   ]
  },
  {
   "cell_type": "code",
   "execution_count": 8,
   "id": "3b34ab65",
   "metadata": {},
   "outputs": [],
   "source": [
    "config_henon = mlp_basica_henon.mlp_basica_henon\n",
    "k_henon = mlp_best_k.K_best_henon_mlp\n",
    "k_henon = k_henon[0]"
   ]
  },
  {
   "cell_type": "markdown",
   "id": "7381d69f",
   "metadata": {},
   "source": [
    "### Mapa logístico"
   ]
  },
  {
   "cell_type": "code",
   "execution_count": 9,
   "id": "ed9da108",
   "metadata": {},
   "outputs": [],
   "source": [
    "config_logistic = mlp_basica_logistic.mlp_basica_logistic\n",
    "k_logistic = mlp_best_k.K_best_logistic_mlp\n",
    "k_logistic = k_logistic[0]"
   ]
  },
  {
   "cell_type": "markdown",
   "id": "1a843969",
   "metadata": {},
   "source": [
    "### Sistema de Lorenz"
   ]
  },
  {
   "cell_type": "code",
   "execution_count": 10,
   "id": "04b43afd",
   "metadata": {},
   "outputs": [],
   "source": [
    "config_lorenz = mlp_basica_lorenz.mlp_basica_lorenz\n",
    "k_lorenz = mlp_best_k.K_best_lorenz_mlp\n",
    "k_lorenz = k_lorenz[0]"
   ]
  },
  {
   "cell_type": "markdown",
   "id": "09e6359b",
   "metadata": {},
   "source": [
    "### Equações de Mackey-Glass"
   ]
  },
  {
   "cell_type": "code",
   "execution_count": 11,
   "id": "786527a8",
   "metadata": {},
   "outputs": [],
   "source": [
    "config_mackeyglass = mlp_basica_mackeyglass.mlp_basica_mackeyglass\n",
    "k_mackeyglass = mlp_best_k.K_best_mackeyglass_mlp\n",
    "k_mackeyglass = k_mackeyglass[0]"
   ]
  },
  {
   "cell_type": "markdown",
   "id": "6acd27c1",
   "metadata": {},
   "source": [
    "## 4. Criando conjuntos de treino, teste e validação"
   ]
  },
  {
   "cell_type": "code",
   "execution_count": 12,
   "id": "a8bd371a",
   "metadata": {},
   "outputs": [],
   "source": [
    "L = 3\n",
    "tam_teste = 0.15\n",
    "tam_val = 0.1"
   ]
  },
  {
   "cell_type": "markdown",
   "id": "88253eeb",
   "metadata": {},
   "source": [
    "#### Mapa de Hénon"
   ]
  },
  {
   "cell_type": "code",
   "execution_count": 13,
   "id": "d1f1f6de",
   "metadata": {},
   "outputs": [],
   "source": [
    "serie_henon = timeseries.SerieTemporal(x_henon, K=k_henon, L=L)\n",
    "X_henon_treino, X_henon_val, X_henon_teste, y_henon_treino, y_henon_val, y_henon_teste = serie_henon.dividir_treino_teste_validacao(tam_teste=tam_teste,\n",
    "                                                                                                                                    tam_val=tam_val)"
   ]
  },
  {
   "cell_type": "markdown",
   "id": "b93c7c89",
   "metadata": {},
   "source": [
    "## 5. Treinando a rede neural"
   ]
  },
  {
   "cell_type": "markdown",
   "id": "9c258c3e",
   "metadata": {},
   "source": [
    "### Mapa de Hénon"
   ]
  },
  {
   "cell_type": "code",
   "execution_count": 19,
   "id": "541c2609",
   "metadata": {},
   "outputs": [],
   "source": [
    "model_henon = mlp_model.ModeloMLP(input_size=k_henon,\n",
    "                                  name=config_henon['name'])\n",
    "\n",
    "model_henon.criar_modelo(batch_normalization=config_henon[\"batch_normalization\"],\n",
    "                         activation=config_henon[\"activation\"],\n",
    "                         init_mode=config_henon[\"init_mode\"],\n",
    "                         n_neurons=config_henon[\"n_neurons\"])\n",
    "\n",
    "model_henon.montar(learning_rate=config_henon[\"learning_rate\"])"
   ]
  },
  {
   "cell_type": "code",
   "execution_count": 20,
   "id": "c031d88b",
   "metadata": {},
   "outputs": [],
   "source": [
    "model_henon.treinar(X_treino=X_henon_treino,\n",
    "                    X_val=X_henon_val,\n",
    "                    y_treino=y_henon_treino,\n",
    "                    y_val=y_henon_val,\n",
    "                    batch_size=config_henon[\"batch_size\"],\n",
    "                    verbose=0)"
   ]
  },
  {
   "cell_type": "code",
   "execution_count": 21,
   "id": "88b04991",
   "metadata": {},
   "outputs": [],
   "source": [
    "y_henon_pred = model_henon.predicao(X_henon_teste)"
   ]
  },
  {
   "cell_type": "markdown",
   "id": "3556e6bc",
   "metadata": {},
   "source": [
    "### Mapa logístico"
   ]
  },
  {
   "cell_type": "code",
   "execution_count": 19,
   "id": "a1750805",
   "metadata": {},
   "outputs": [],
   "source": [
    "model_henon = mlp_model.ModeloMLP(input_size=k_henon,\n",
    "                                  name=config_henon['name'])\n",
    "\n",
    "model_henon.criar_modelo(batch_normalization=config_henon[\"batch_normalization\"],\n",
    "                         activation=config_henon[\"activation\"],\n",
    "                         init_mode=config_henon[\"init_mode\"],\n",
    "                         n_neurons=config_henon[\"n_neurons\"])\n",
    "\n",
    "model_henon.montar(learning_rate=config_henon[\"learning_rate\"])"
   ]
  },
  {
   "cell_type": "code",
   "execution_count": 20,
   "id": "8570a889",
   "metadata": {},
   "outputs": [],
   "source": [
    "model_henon.treinar(X_treino=X_henon_treino,\n",
    "                    X_val=X_henon_val,\n",
    "                    y_treino=y_henon_treino,\n",
    "                    y_val=y_henon_val,\n",
    "                    batch_size=config_henon[\"batch_size\"],\n",
    "                    verbose=0)"
   ]
  },
  {
   "cell_type": "code",
   "execution_count": 21,
   "id": "aba59e30",
   "metadata": {},
   "outputs": [],
   "source": [
    "y_henon_pred = model_henon.predicao(X_henon_teste)"
   ]
  },
  {
   "cell_type": "markdown",
   "id": "92af35ae",
   "metadata": {},
   "source": [
    "### Sistema de Lorenz"
   ]
  },
  {
   "cell_type": "code",
   "execution_count": 19,
   "id": "b93c3c1b",
   "metadata": {},
   "outputs": [],
   "source": [
    "model_henon = mlp_model.ModeloMLP(input_size=k_henon,\n",
    "                                  name=config_henon['name'])\n",
    "\n",
    "model_henon.criar_modelo(batch_normalization=config_henon[\"batch_normalization\"],\n",
    "                         activation=config_henon[\"activation\"],\n",
    "                         init_mode=config_henon[\"init_mode\"],\n",
    "                         n_neurons=config_henon[\"n_neurons\"])\n",
    "\n",
    "model_henon.montar(learning_rate=config_henon[\"learning_rate\"])"
   ]
  },
  {
   "cell_type": "code",
   "execution_count": 20,
   "id": "3863fb32",
   "metadata": {},
   "outputs": [],
   "source": [
    "model_henon.treinar(X_treino=X_henon_treino,\n",
    "                    X_val=X_henon_val,\n",
    "                    y_treino=y_henon_treino,\n",
    "                    y_val=y_henon_val,\n",
    "                    batch_size=config_henon[\"batch_size\"],\n",
    "                    verbose=0)"
   ]
  },
  {
   "cell_type": "code",
   "execution_count": 21,
   "id": "d2e1df59",
   "metadata": {},
   "outputs": [],
   "source": [
    "y_henon_pred = model_henon.predicao(X_henon_teste)"
   ]
  },
  {
   "cell_type": "markdown",
   "id": "3ded6a62",
   "metadata": {},
   "source": [
    "### Equações de Mackey-Glass"
   ]
  },
  {
   "cell_type": "code",
   "execution_count": 19,
   "id": "d2f0310e",
   "metadata": {},
   "outputs": [],
   "source": [
    "model_henon = mlp_model.ModeloMLP(input_size=k_henon,\n",
    "                                  name=config_henon['name'])\n",
    "\n",
    "model_henon.criar_modelo(batch_normalization=config_henon[\"batch_normalization\"],\n",
    "                         activation=config_henon[\"activation\"],\n",
    "                         init_mode=config_henon[\"init_mode\"],\n",
    "                         n_neurons=config_henon[\"n_neurons\"])\n",
    "\n",
    "model_henon.montar(learning_rate=config_henon[\"learning_rate\"])"
   ]
  },
  {
   "cell_type": "code",
   "execution_count": 20,
   "id": "85492a49",
   "metadata": {},
   "outputs": [],
   "source": [
    "model_henon.treinar(X_treino=X_henon_treino,\n",
    "                    X_val=X_henon_val,\n",
    "                    y_treino=y_henon_treino,\n",
    "                    y_val=y_henon_val,\n",
    "                    batch_size=config_henon[\"batch_size\"],\n",
    "                    verbose=0)"
   ]
  },
  {
   "cell_type": "code",
   "execution_count": 21,
   "id": "76986fa1",
   "metadata": {},
   "outputs": [],
   "source": [
    "y_henon_pred = model_henon.predicao(X_henon_teste)"
   ]
  },
  {
   "cell_type": "markdown",
   "id": "fc96eb6a",
   "metadata": {},
   "source": [
    "## 6. Salvando os dados"
   ]
  },
  {
   "cell_type": "markdown",
   "id": "5409a156",
   "metadata": {},
   "source": [
    "## 7. Salvando os modelos"
   ]
  },
  {
   "cell_type": "code",
   "execution_count": null,
   "id": "67cd34c6",
   "metadata": {},
   "outputs": [],
   "source": []
  }
 ],
 "metadata": {
  "kernelspec": {
   "display_name": "Python 3",
   "language": "python",
   "name": "python3"
  },
  "language_info": {
   "codemirror_mode": {
    "name": "ipython",
    "version": 3
   },
   "file_extension": ".py",
   "mimetype": "text/x-python",
   "name": "python",
   "nbconvert_exporter": "python",
   "pygments_lexer": "ipython3",
   "version": "3.8.0"
  }
 },
 "nbformat": 4,
 "nbformat_minor": 5
}
