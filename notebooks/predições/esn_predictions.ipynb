{
 "cells": [
  {
   "cell_type": "markdown",
   "id": "cdbcadbf",
   "metadata": {},
   "source": [
    "# Realizando predições com as melhores configurações para a ESN"
   ]
  },
  {
   "cell_type": "markdown",
   "id": "4cf38a6a",
   "metadata": {},
   "source": [
    "## 1. Importando as bibliotecas necessárias"
   ]
  },
  {
   "cell_type": "markdown",
   "id": "0081acf7",
   "metadata": {},
   "source": [
    "### Bibliotecas Externas"
   ]
  },
  {
   "cell_type": "code",
   "execution_count": 1,
   "id": "d155176a",
   "metadata": {},
   "outputs": [],
   "source": [
    "import numpy as np\n",
    "import pandas as pd\n",
    "\n",
    "import matplotlib.pyplot as plt\n",
    "import seaborn as sns \n",
    "sns.set_style(\"ticks\")\n",
    "plt.rcParams['savefig.dpi'] = 200\n",
    "plt.rcParams[\"figure.dpi\"] = 125\n",
    "plt.rcParams.update({\n",
    "    \"text.usetex\": True,\n",
    "    \"font.family\": \"serif\",\n",
    "    \"font.serif\": [\"Palatino\"],\n",
    "})\n",
    "\n",
    "from sklearn.metrics import mean_squared_error"
   ]
  },
  {
   "cell_type": "markdown",
   "id": "f1b82fcb",
   "metadata": {},
   "source": [
    "### Bibliotecas do projeto"
   ]
  },
  {
   "cell_type": "code",
   "execution_count": 2,
   "id": "0bffca9f",
   "metadata": {},
   "outputs": [],
   "source": [
    "# arquivos de configurações\n",
    "from pibic2020.parameters.esn import *\n",
    "from pibic2020.models import esn_model\n",
    "\n",
    "# para separar em conjuntos de treino, teste e validacao\n",
    "from pibic2020.tools import timeseries"
   ]
  },
  {
   "cell_type": "markdown",
   "id": "5da4367b",
   "metadata": {},
   "source": [
    "## 2. Pegando os dados gerados"
   ]
  },
  {
   "cell_type": "markdown",
   "id": "dafd594e",
   "metadata": {},
   "source": [
    "### Dados brutos"
   ]
  },
  {
   "cell_type": "code",
   "execution_count": 3,
   "id": "cf41d180",
   "metadata": {},
   "outputs": [],
   "source": [
    "dados_henon = pd.read_csv('../../data/raw/henon.csv')\n",
    "dados_logistic = pd.read_csv('../../data/raw/logistic.csv')\n",
    "dados_lorenz = pd.read_csv('../../data/raw/lorenz.csv')\n",
    "dados_mackeyglass = pd.read_csv('../../data/raw/mackeyglass.csv')"
   ]
  },
  {
   "cell_type": "markdown",
   "id": "46c76662",
   "metadata": {},
   "source": [
    "### Separando os vetores que serão utilizados"
   ]
  },
  {
   "cell_type": "markdown",
   "id": "610a5f85",
   "metadata": {},
   "source": [
    "#### Mapa de Hénon"
   ]
  },
  {
   "cell_type": "code",
   "execution_count": 4,
   "id": "edeb6f60",
   "metadata": {},
   "outputs": [],
   "source": [
    "n_henon = pd.DataFrame(dados_henon, columns=['n']).to_numpy()\n",
    "n_henon = n_henon.ravel()\n",
    "x_henon = pd.DataFrame(dados_henon, columns=['x']).to_numpy()\n",
    "x_henon = x_henon.ravel()"
   ]
  },
  {
   "cell_type": "markdown",
   "id": "c7013d0f",
   "metadata": {},
   "source": [
    "#### Mapa de logístico"
   ]
  },
  {
   "cell_type": "code",
   "execution_count": 5,
   "id": "2128a291",
   "metadata": {},
   "outputs": [],
   "source": [
    "n_logistic = pd.DataFrame(dados_logistic, columns=['n']).to_numpy()\n",
    "n_logistic = n_logistic.ravel()\n",
    "x_logistic = pd.DataFrame(dados_logistic, columns=['x']).to_numpy()\n",
    "x_logistic = x_logistic.ravel()"
   ]
  },
  {
   "cell_type": "markdown",
   "id": "d053e345",
   "metadata": {},
   "source": [
    "#### Sistema de Lorenz"
   ]
  },
  {
   "cell_type": "code",
   "execution_count": 6,
   "id": "88d065f4",
   "metadata": {},
   "outputs": [],
   "source": [
    "t_lorenz = pd.DataFrame(dados_lorenz, columns=['t']).to_numpy()\n",
    "t_lorenz = t_lorenz.ravel()\n",
    "x_lorenz = pd.DataFrame(dados_lorenz, columns=['x']).to_numpy()\n",
    "x_lorenz = x_lorenz.ravel()"
   ]
  },
  {
   "cell_type": "markdown",
   "id": "fdaf8835",
   "metadata": {},
   "source": [
    "#### Equações de Mackey-Glass"
   ]
  },
  {
   "cell_type": "code",
   "execution_count": 7,
   "id": "364ebd29",
   "metadata": {},
   "outputs": [],
   "source": [
    "t_mackeyglass = pd.DataFrame(dados_mackeyglass, columns=['t']).to_numpy()\n",
    "t_mackeyglass = t_mackeyglass.ravel()\n",
    "p_mackeyglass = pd.DataFrame(dados_mackeyglass, columns=['p']).to_numpy()\n",
    "p_mackeyglass = p_mackeyglass.ravel()"
   ]
  },
  {
   "cell_type": "markdown",
   "id": "ddbe5dc1",
   "metadata": {},
   "source": [
    "## 3. Separando as configurações para cada modelo"
   ]
  },
  {
   "cell_type": "markdown",
   "id": "c5f39bbf",
   "metadata": {},
   "source": [
    "### Mapa de Hénon"
   ]
  },
  {
   "cell_type": "code",
   "execution_count": 8,
   "id": "99943385",
   "metadata": {},
   "outputs": [],
   "source": [
    "config_henon = esn_henon.esn_henon\n",
    "k_henon = esn_best_k.K_best_henon_esn\n",
    "k_henon = k_henon[0]"
   ]
  },
  {
   "cell_type": "markdown",
   "id": "90717ee7",
   "metadata": {},
   "source": [
    "### Mapa logístico"
   ]
  },
  {
   "cell_type": "code",
   "execution_count": 9,
   "id": "9fbc5bd0",
   "metadata": {},
   "outputs": [],
   "source": [
    "config_logistic = esn_logistic.esn_logistic\n",
    "k_logistic = esn_best_k.K_best_logistic_esn\n",
    "k_logistic = k_logistic[0]"
   ]
  },
  {
   "cell_type": "markdown",
   "id": "c636dca6",
   "metadata": {},
   "source": [
    "### Sistema de Lorenz"
   ]
  },
  {
   "cell_type": "code",
   "execution_count": 10,
   "id": "15e6014f",
   "metadata": {},
   "outputs": [],
   "source": [
    "config_lorenz = esn_lorenz.esn_lorenz\n",
    "k_lorenz = esn_best_k.K_best_lorenz_esn\n",
    "k_lorenz = k_lorenz[0]"
   ]
  },
  {
   "cell_type": "markdown",
   "id": "619d1a74",
   "metadata": {},
   "source": [
    "### Equações de Mackey-Glass"
   ]
  },
  {
   "cell_type": "code",
   "execution_count": 11,
   "id": "f1e70e06",
   "metadata": {},
   "outputs": [],
   "source": [
    "config_mackeyglass = esn_mackeyglass.esn_mackeyglass\n",
    "k_mackeyglass = esn_best_k.K_best_mackeyglass_esn\n",
    "k_mackeyglass = k_mackeyglass[0]"
   ]
  },
  {
   "cell_type": "markdown",
   "id": "3372fde1",
   "metadata": {},
   "source": [
    "## 4. Criando conjuntos de treino e teste"
   ]
  },
  {
   "cell_type": "code",
   "execution_count": 12,
   "id": "93456f30",
   "metadata": {},
   "outputs": [],
   "source": [
    "L = 3\n",
    "tam_teste = 0.15"
   ]
  },
  {
   "cell_type": "markdown",
   "id": "025b0975",
   "metadata": {},
   "source": [
    "#### Mapa de Hénon"
   ]
  },
  {
   "cell_type": "code",
   "execution_count": 13,
   "id": "94225310",
   "metadata": {},
   "outputs": [],
   "source": [
    "serie_henon = timeseries.SerieTemporal(x_henon, K=k_henon, L=L)\n",
    "X_henon_treino, X_henon_teste, y_henon_treino, y_henon_teste = serie_henon.dividir_treino_teste(tam_teste=tam_teste)"
   ]
  },
  {
   "cell_type": "markdown",
   "id": "c6bb67e8",
   "metadata": {},
   "source": [
    "#### Mapa logístico"
   ]
  },
  {
   "cell_type": "code",
   "execution_count": 14,
   "id": "b9b7b331",
   "metadata": {},
   "outputs": [],
   "source": [
    "serie_logistic = timeseries.SerieTemporal(x_logistic, K=k_logistic, L=L)\n",
    "X_logistic_treino, X_logistic_teste, y_logistic_treino, y_logistic_teste = serie_logistic.dividir_treino_teste(tam_teste=tam_teste)"
   ]
  },
  {
   "cell_type": "markdown",
   "id": "306083e4",
   "metadata": {},
   "source": [
    "#### Sistema de Lorenz"
   ]
  },
  {
   "cell_type": "code",
   "execution_count": 15,
   "id": "abe1ba72",
   "metadata": {},
   "outputs": [],
   "source": [
    "serie_lorenz = timeseries.SerieTemporal(x_lorenz, K=k_lorenz, L=L)\n",
    "X_lorenz_treino, X_lorenz_teste, y_lorenz_treino, y_lorenz_teste = serie_lorenz.dividir_treino_teste(tam_teste=tam_teste)"
   ]
  },
  {
   "cell_type": "markdown",
   "id": "cbaa33ee",
   "metadata": {},
   "source": [
    "#### Equações de Mackey-Glass"
   ]
  },
  {
   "cell_type": "code",
   "execution_count": 16,
   "id": "e73bc6de",
   "metadata": {},
   "outputs": [],
   "source": [
    "serie_mackeyglass = timeseries.SerieTemporal(p_mackeyglass, K=k_mackeyglass, L=L)\n",
    "X_mackeyglass_treino, X_mackeyglass_teste, y_mackeyglass_treino, y_mackeyglass_teste = serie_mackeyglass.dividir_treino_teste(tam_teste=tam_teste)"
   ]
  },
  {
   "cell_type": "markdown",
   "id": "8cb69aa8",
   "metadata": {},
   "source": [
    "## 5. Treinando a rede neural"
   ]
  },
  {
   "cell_type": "markdown",
   "id": "c9fdf35e",
   "metadata": {},
   "source": [
    "### Mapa de Hénon"
   ]
  },
  {
   "cell_type": "code",
   "execution_count": 17,
   "id": "7ff9161b",
   "metadata": {},
   "outputs": [],
   "source": [
    "model_henon = esn_model.ModeloESN(n_neurons=config_henon['n_neurons'],\n",
    "                                  spectral_radius=config_henon['spectral_radius'])"
   ]
  },
  {
   "cell_type": "code",
   "execution_count": 18,
   "id": "6b821f4b",
   "metadata": {},
   "outputs": [
    {
     "data": {
      "text/plain": [
       "ModeloESN(n_neurons=500, spectral_radius=[0.1])"
      ]
     },
     "execution_count": 18,
     "metadata": {},
     "output_type": "execute_result"
    }
   ],
   "source": [
    "model_henon.fit(X_treino=X_henon_treino,\n",
    "                y_treino=y_henon_treino)"
   ]
  },
  {
   "cell_type": "code",
   "execution_count": 19,
   "id": "3495263b",
   "metadata": {},
   "outputs": [],
   "source": [
    "y_henon_pred = model_henon.predict(X_henon_teste)"
   ]
  },
  {
   "cell_type": "code",
   "execution_count": 20,
   "id": "5ac6ea2d",
   "metadata": {},
   "outputs": [
    {
     "name": "stdout",
     "output_type": "stream",
     "text": [
      "MSE = 5.01539452826116e-09\n"
     ]
    }
   ],
   "source": [
    "mse = mean_squared_error(y_henon_teste, y_henon_pred)\n",
    "print(\"MSE = \" + str(mse))"
   ]
  },
  {
   "cell_type": "markdown",
   "id": "e2f7e8e2",
   "metadata": {},
   "source": [
    "### Mapa logístico"
   ]
  },
  {
   "cell_type": "code",
   "execution_count": 21,
   "id": "b6b945ad",
   "metadata": {},
   "outputs": [],
   "source": [
    "model_logistic = esn_model.ModeloESN(n_neurons=config_logistic['n_neurons'],\n",
    "                                  spectral_radius=config_logistic['spectral_radius'])"
   ]
  },
  {
   "cell_type": "code",
   "execution_count": 22,
   "id": "fd241d26",
   "metadata": {},
   "outputs": [
    {
     "data": {
      "text/plain": [
       "ModeloESN(n_neurons=500, spectral_radius=[0.1])"
      ]
     },
     "execution_count": 22,
     "metadata": {},
     "output_type": "execute_result"
    }
   ],
   "source": [
    "model_logistic.fit(X_treino=X_logistic_treino,\n",
    "                   y_treino=y_logistic_treino)"
   ]
  },
  {
   "cell_type": "code",
   "execution_count": 23,
   "id": "6df04bdc",
   "metadata": {},
   "outputs": [],
   "source": [
    "y_logistic_pred = model_logistic.predict(X_logistic_teste)"
   ]
  },
  {
   "cell_type": "code",
   "execution_count": 24,
   "id": "78c4017f",
   "metadata": {},
   "outputs": [
    {
     "name": "stdout",
     "output_type": "stream",
     "text": [
      "MSE = 1.991561211421533e-08\n"
     ]
    }
   ],
   "source": [
    "mse = mean_squared_error(y_logistic_teste, y_logistic_pred)\n",
    "print(\"MSE = \" + str(mse))"
   ]
  },
  {
   "cell_type": "markdown",
   "id": "da240a44",
   "metadata": {},
   "source": [
    "### Sistema de Lorenz"
   ]
  },
  {
   "cell_type": "code",
   "execution_count": 25,
   "id": "06f79ed0",
   "metadata": {},
   "outputs": [],
   "source": [
    "model_lorenz = esn_model.ModeloESN(n_neurons=config_lorenz['n_neurons'],\n",
    "                                  spectral_radius=config_lorenz['spectral_radius'])"
   ]
  },
  {
   "cell_type": "code",
   "execution_count": 26,
   "id": "46450181",
   "metadata": {},
   "outputs": [
    {
     "data": {
      "text/plain": [
       "ModeloESN(n_neurons=120, spectral_radius=[0.2])"
      ]
     },
     "execution_count": 26,
     "metadata": {},
     "output_type": "execute_result"
    }
   ],
   "source": [
    "model_lorenz.fit(X_treino=X_lorenz_treino,\n",
    "                   y_treino=y_lorenz_treino)"
   ]
  },
  {
   "cell_type": "code",
   "execution_count": 27,
   "id": "db1dd2e4",
   "metadata": {},
   "outputs": [],
   "source": [
    "y_lorenz_pred = model_lorenz.predict(X_lorenz_teste)"
   ]
  },
  {
   "cell_type": "code",
   "execution_count": 28,
   "id": "5ba2fbb7",
   "metadata": {},
   "outputs": [
    {
     "name": "stdout",
     "output_type": "stream",
     "text": [
      "MSE = 7.550051786975847e-07\n"
     ]
    }
   ],
   "source": [
    "mse = mean_squared_error(y_lorenz_teste, y_lorenz_pred)\n",
    "print(\"MSE = \" + str(mse))"
   ]
  },
  {
   "cell_type": "markdown",
   "id": "6844ebd6",
   "metadata": {},
   "source": [
    "### Equações de Mackey-Glass"
   ]
  },
  {
   "cell_type": "code",
   "execution_count": 29,
   "id": "e92ad413",
   "metadata": {},
   "outputs": [],
   "source": [
    "model_mackeyglass = esn_model.ModeloESN(n_neurons=config_mackeyglass['n_neurons'],\n",
    "                                  spectral_radius=config_mackeyglass['spectral_radius'])"
   ]
  },
  {
   "cell_type": "code",
   "execution_count": 30,
   "id": "06b8c6b1",
   "metadata": {},
   "outputs": [
    {
     "data": {
      "text/plain": [
       "ModeloESN(n_neurons=500, spectral_radius=[0.4])"
      ]
     },
     "execution_count": 30,
     "metadata": {},
     "output_type": "execute_result"
    }
   ],
   "source": [
    "model_mackeyglass.fit(X_treino=X_mackeyglass_treino,\n",
    "                   y_treino=y_mackeyglass_treino)"
   ]
  },
  {
   "cell_type": "code",
   "execution_count": 31,
   "id": "f01df3d1",
   "metadata": {},
   "outputs": [],
   "source": [
    "y_mackeyglass_pred = model_mackeyglass.predict(X_mackeyglass_teste)"
   ]
  },
  {
   "cell_type": "code",
   "execution_count": 32,
   "id": "f2172f0f",
   "metadata": {},
   "outputs": [
    {
     "name": "stdout",
     "output_type": "stream",
     "text": [
      "MSE = 2.0226263814810877e-07\n"
     ]
    }
   ],
   "source": [
    "mse = mean_squared_error(y_mackeyglass_teste, y_mackeyglass_pred)\n",
    "print(\"MSE = \" + str(mse))"
   ]
  },
  {
   "cell_type": "markdown",
   "id": "51e89be7",
   "metadata": {},
   "source": [
    "## 6. Salvando os dados"
   ]
  },
  {
   "cell_type": "markdown",
   "id": "1b19ac45",
   "metadata": {},
   "source": [
    "### Mapa de Hénon"
   ]
  },
  {
   "cell_type": "code",
   "execution_count": 33,
   "id": "ee6995b9",
   "metadata": {},
   "outputs": [],
   "source": [
    "n_henon_teste = n_henon[-len(y_henon_pred):]\n",
    "dados_henon = np.column_stack((y_henon_teste, y_henon_pred, n_henon_teste))\n",
    "dados_henon = pd.DataFrame(dados_henon, columns=['y_teste', 'y_pred', 'n'])\n",
    "dados_henon.to_csv('../../data/predictions/esn/henon.csv', index = False, header=True)"
   ]
  },
  {
   "cell_type": "markdown",
   "id": "442472f9",
   "metadata": {},
   "source": [
    "### Mapa logístico"
   ]
  },
  {
   "cell_type": "code",
   "execution_count": 34,
   "id": "8a177c76",
   "metadata": {},
   "outputs": [],
   "source": [
    "n_logistic_teste = n_logistic[-len(y_logistic_pred):]\n",
    "dados_logistic = np.column_stack((y_logistic_teste, y_logistic_pred, n_logistic_teste))\n",
    "dados_logistic = pd.DataFrame(dados_logistic, columns=['y_teste', 'y_pred', 'n'])\n",
    "dados_logistic.to_csv('../../data/predictions/esn/logistic.csv', index = False, header=True)"
   ]
  },
  {
   "cell_type": "markdown",
   "id": "10071bb8",
   "metadata": {},
   "source": [
    "### Sistema de Lorenz"
   ]
  },
  {
   "cell_type": "code",
   "execution_count": 35,
   "id": "70017b9a",
   "metadata": {},
   "outputs": [],
   "source": [
    "n_lorenz_teste = t_lorenz[-len(y_lorenz_pred):]\n",
    "dados_lorenz = np.column_stack((y_lorenz_teste, y_lorenz_pred, n_lorenz_teste))\n",
    "dados_lorenz = pd.DataFrame(dados_lorenz, columns=['y_teste', 'y_pred', 't'])\n",
    "dados_lorenz.to_csv('../../data/predictions/esn/lorenz.csv', index = False, header=True)"
   ]
  },
  {
   "cell_type": "markdown",
   "id": "89353c3d",
   "metadata": {},
   "source": [
    "### Equações de Mackey-Glass"
   ]
  },
  {
   "cell_type": "code",
   "execution_count": 36,
   "id": "c62a126e",
   "metadata": {},
   "outputs": [],
   "source": [
    "t_mackeyglass_teste = t_mackeyglass[-len(y_mackeyglass_pred):]\n",
    "dados_mackeyglass = np.column_stack((y_mackeyglass_teste, y_mackeyglass_pred, t_mackeyglass_teste))\n",
    "dados_mackeyglass = pd.DataFrame(dados_mackeyglass, columns=['y_teste', 'y_pred', 't'])\n",
    "dados_mackeyglass.to_csv('../../data/predictions/esn/mackeyglass.csv', index = False, header=True)"
   ]
  },
  {
   "cell_type": "markdown",
   "id": "06129560",
   "metadata": {},
   "source": [
    "## 7. Salvando os modelos"
   ]
  },
  {
   "cell_type": "code",
   "execution_count": 38,
   "id": "4b6a0ea2",
   "metadata": {},
   "outputs": [
    {
     "name": "stdout",
     "output_type": "stream",
     "text": [
      "O modelo foi salvo!\n",
      "O modelo foi salvo!\n",
      "O modelo foi salvo!\n",
      "O modelo foi salvo!\n"
     ]
    }
   ],
   "source": [
    "model_henon.salvar(\"../../models/esn/esn-henon.sav\")\n",
    "model_logistic.salvar(\"../../models/esn/esn-logistic.sav\")\n",
    "model_lorenz.salvar(\"../../models/esn/esn-lorenz.sav\")\n",
    "model_mackeyglass.salvar(\"../../models/esn/esn-mackeyglass.sav\")"
   ]
  },
  {
   "cell_type": "code",
   "execution_count": null,
   "id": "c24442fb",
   "metadata": {},
   "outputs": [],
   "source": []
  }
 ],
 "metadata": {
  "kernelspec": {
   "display_name": "Python 3",
   "language": "python",
   "name": "python3"
  },
  "language_info": {
   "codemirror_mode": {
    "name": "ipython",
    "version": 3
   },
   "file_extension": ".py",
   "mimetype": "text/x-python",
   "name": "python",
   "nbconvert_exporter": "python",
   "pygments_lexer": "ipython3",
   "version": "3.8.0"
  }
 },
 "nbformat": 4,
 "nbformat_minor": 5
}
