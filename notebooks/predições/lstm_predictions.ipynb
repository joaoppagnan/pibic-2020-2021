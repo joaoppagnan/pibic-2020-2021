{
 "cells": [
  {
   "cell_type": "markdown",
   "id": "c263fdd9",
   "metadata": {},
   "source": [
    "# Realizando predições com as melhores configurações para a LSTM"
   ]
  },
  {
   "cell_type": "markdown",
   "id": "88af5a59",
   "metadata": {},
   "source": [
    "## 1. Importando as bibliotecas necessárias"
   ]
  },
  {
   "cell_type": "markdown",
   "id": "3bf7a289",
   "metadata": {},
   "source": [
    "### Bibliotecas Externas"
   ]
  },
  {
   "cell_type": "code",
   "execution_count": 1,
   "id": "b024bf03",
   "metadata": {},
   "outputs": [],
   "source": [
    "import numpy as np\n",
    "import pandas as pd\n",
    "\n",
    "import tensorflow as tf\n",
    "physical_devices = tf.config.list_physical_devices('GPU')\n",
    "\n",
    "import matplotlib.pyplot as plt\n",
    "import seaborn as sns \n",
    "sns.set_style(\"ticks\")\n",
    "plt.rcParams['savefig.dpi'] = 200\n",
    "plt.rcParams[\"figure.dpi\"] = 125\n",
    "plt.rcParams.update({\n",
    "    \"text.usetex\": True,\n",
    "    \"font.family\": \"serif\",\n",
    "    \"font.serif\": [\"Palatino\"],\n",
    "})\n",
    "\n",
    "from sklearn.metrics import mean_squared_error\n",
    "from sklearn.preprocessing import MinMaxScaler"
   ]
  },
  {
   "cell_type": "markdown",
   "id": "28b3b077",
   "metadata": {},
   "source": [
    "### Bibliotecas do projeto"
   ]
  },
  {
   "cell_type": "code",
   "execution_count": 2,
   "id": "1dbd9d32",
   "metadata": {},
   "outputs": [],
   "source": [
    "# arquivos de configurações\n",
    "from pibic2020.parameters.lstm import *\n",
    "from pibic2020.models import lstm_model\n",
    "\n",
    "# para separar em conjuntos de treino, teste e validacao\n",
    "from pibic2020.tools import timeseries"
   ]
  },
  {
   "cell_type": "markdown",
   "id": "440e0c83",
   "metadata": {},
   "source": [
    "## 2. Pegando os dados gerados"
   ]
  },
  {
   "cell_type": "markdown",
   "id": "ee4893c5",
   "metadata": {},
   "source": [
    "### Dados brutos"
   ]
  },
  {
   "cell_type": "code",
   "execution_count": 3,
   "id": "f8c90818",
   "metadata": {},
   "outputs": [],
   "source": [
    "dados_henon = pd.read_csv('../../data/raw/henon.csv')\n",
    "dados_logistic = pd.read_csv('../../data/raw/logistic.csv')\n",
    "dados_lorenz = pd.read_csv('../../data/raw/lorenz.csv')\n",
    "dados_mackeyglass = pd.read_csv('../../data/raw/mackeyglass.csv')"
   ]
  },
  {
   "cell_type": "markdown",
   "id": "18e744ab",
   "metadata": {},
   "source": [
    "### Separando os vetores que serão utilizados"
   ]
  },
  {
   "cell_type": "markdown",
   "id": "da7d1ec2",
   "metadata": {},
   "source": [
    "#### Mapa de Hénon"
   ]
  },
  {
   "cell_type": "code",
   "execution_count": 4,
   "id": "942dfecb",
   "metadata": {},
   "outputs": [],
   "source": [
    "n_henon = pd.DataFrame(dados_henon, columns=['n']).to_numpy()\n",
    "n_henon = n_henon.ravel()\n",
    "x_henon = pd.DataFrame(dados_henon, columns=['x']).to_numpy()\n",
    "x_henon = x_henon.ravel()"
   ]
  },
  {
   "cell_type": "markdown",
   "id": "7afbbbb8",
   "metadata": {},
   "source": [
    "#### Mapa de logístico"
   ]
  },
  {
   "cell_type": "code",
   "execution_count": 5,
   "id": "cd7039dd",
   "metadata": {},
   "outputs": [],
   "source": [
    "n_logistic = pd.DataFrame(dados_logistic, columns=['n']).to_numpy()\n",
    "n_logistic = n_logistic.ravel()\n",
    "x_logistic = pd.DataFrame(dados_logistic, columns=['x']).to_numpy()\n",
    "x_logistic = x_logistic.ravel()"
   ]
  },
  {
   "cell_type": "markdown",
   "id": "476f0cfa",
   "metadata": {},
   "source": [
    "#### Sistema de Lorenz"
   ]
  },
  {
   "cell_type": "code",
   "execution_count": 6,
   "id": "d0270960",
   "metadata": {},
   "outputs": [],
   "source": [
    "t_lorenz = pd.DataFrame(dados_lorenz, columns=['t']).to_numpy()\n",
    "t_lorenz = t_lorenz.ravel()\n",
    "x_lorenz = pd.DataFrame(dados_lorenz, columns=['x']).to_numpy()\n",
    "x_lorenz = x_lorenz.ravel()"
   ]
  },
  {
   "cell_type": "markdown",
   "id": "90f3c1b9",
   "metadata": {},
   "source": [
    "#### Equações de Mackey-Glass"
   ]
  },
  {
   "cell_type": "code",
   "execution_count": 7,
   "id": "505cbaed",
   "metadata": {},
   "outputs": [],
   "source": [
    "t_mackeyglass = pd.DataFrame(dados_mackeyglass, columns=['t']).to_numpy()\n",
    "t_mackeyglass = t_mackeyglass.ravel()\n",
    "p_mackeyglass = pd.DataFrame(dados_mackeyglass, columns=['p']).to_numpy()\n",
    "p_mackeyglass = p_mackeyglass.ravel()"
   ]
  },
  {
   "cell_type": "markdown",
   "id": "f2e4e14a",
   "metadata": {},
   "source": [
    "## 3. Separando as configurações para cada modelo"
   ]
  },
  {
   "cell_type": "markdown",
   "id": "b90a1279",
   "metadata": {},
   "source": [
    "### Mapa de Hénon"
   ]
  },
  {
   "cell_type": "code",
   "execution_count": 8,
   "id": "651fecc6",
   "metadata": {},
   "outputs": [],
   "source": [
    "config_henon = lstm_henon.lstm_henon\n",
    "k_henon = lstm_best_k.K_best_henon_lstm\n",
    "k_henon = k_henon[0]"
   ]
  },
  {
   "cell_type": "markdown",
   "id": "3db7f94e",
   "metadata": {},
   "source": [
    "### Mapa logístico"
   ]
  },
  {
   "cell_type": "code",
   "execution_count": 9,
   "id": "b8de3f0f",
   "metadata": {},
   "outputs": [],
   "source": [
    "config_logistic = lstm_logistic.lstm_logistic\n",
    "k_logistic = lstm_best_k.K_best_logistic_lstm\n",
    "k_logistic = k_logistic[0]"
   ]
  },
  {
   "cell_type": "markdown",
   "id": "1a172566",
   "metadata": {},
   "source": [
    "### Sistema de Lorenz"
   ]
  },
  {
   "cell_type": "code",
   "execution_count": 10,
   "id": "1bbeef8f",
   "metadata": {},
   "outputs": [],
   "source": [
    "config_lorenz = lstm_lorenz.lstm_lorenz\n",
    "k_lorenz = lstm_best_k.K_best_lorenz_lstm\n",
    "k_lorenz = k_lorenz[0]"
   ]
  },
  {
   "cell_type": "markdown",
   "id": "df3925e8",
   "metadata": {},
   "source": [
    "### Equações de Mackey-Glass"
   ]
  },
  {
   "cell_type": "code",
   "execution_count": 11,
   "id": "221f6c71",
   "metadata": {},
   "outputs": [],
   "source": [
    "config_mackeyglass = lstm_mackeyglass.lstm_mackeyglass\n",
    "k_mackeyglass = lstm_best_k.K_best_mackeyglass_lstm\n",
    "k_mackeyglass = k_mackeyglass[0]"
   ]
  },
  {
   "cell_type": "markdown",
   "id": "a8840e89",
   "metadata": {},
   "source": [
    "## 4. Criando conjuntos de treino, teste e validação"
   ]
  },
  {
   "cell_type": "code",
   "execution_count": 12,
   "id": "8cf1e880",
   "metadata": {},
   "outputs": [],
   "source": [
    "L = 3\n",
    "tam_teste = 0.15\n",
    "tam_val = 0.1"
   ]
  },
  {
   "cell_type": "markdown",
   "id": "ff426dcd",
   "metadata": {},
   "source": [
    "#### Mapa de Hénon"
   ]
  },
  {
   "cell_type": "code",
   "execution_count": 13,
   "id": "694c97ae",
   "metadata": {},
   "outputs": [],
   "source": [
    "serie_henon = timeseries.SerieTemporal(x_henon, K=k_henon, L=L)\n",
    "X_henon_treino, X_henon_teste, X_henon_val, y_henon_treino, y_henon_teste, y_henon_val = serie_henon.dividir_treino_teste_validacao(tam_teste=tam_teste,\n",
    "                                                                                                                                    tam_val=tam_val)"
   ]
  },
  {
   "cell_type": "markdown",
   "id": "91b2afe5",
   "metadata": {},
   "source": [
    "#### Mapa logístico"
   ]
  },
  {
   "cell_type": "code",
   "execution_count": 14,
   "id": "a7bf9071",
   "metadata": {},
   "outputs": [],
   "source": [
    "serie_logistic = timeseries.SerieTemporal(x_logistic, K=k_logistic, L=L)\n",
    "X_logistic_treino, X_logistic_teste, X_logistic_val, y_logistic_treino, y_logistic_teste, y_logistic_val = serie_logistic.dividir_treino_teste_validacao(tam_teste=tam_teste,\n",
    "                                                                                                                                    tam_val=tam_val)"
   ]
  },
  {
   "cell_type": "markdown",
   "id": "5da4a776",
   "metadata": {},
   "source": [
    "#### Sistema de Lorenz"
   ]
  },
  {
   "cell_type": "code",
   "execution_count": 15,
   "id": "bcc13b7c",
   "metadata": {},
   "outputs": [],
   "source": [
    "scaler = MinMaxScaler(feature_range=(-1,1))\n",
    "x_lorenz = scaler.fit_transform(x_lorenz.reshape(-1,1)).reshape(len(x_lorenz), )\n",
    "serie_lorenz = timeseries.SerieTemporal(x_lorenz, K=k_lorenz, L=L)\n",
    "X_lorenz_treino, X_lorenz_teste, X_lorenz_val, y_lorenz_treino, y_lorenz_teste, y_lorenz_val = serie_lorenz.dividir_treino_teste_validacao(tam_teste=tam_teste,\n",
    "                                                                                                                                    tam_val=tam_val)"
   ]
  },
  {
   "cell_type": "markdown",
   "id": "9920c8b3",
   "metadata": {},
   "source": [
    "#### Equações de Mackey-Glass"
   ]
  },
  {
   "cell_type": "code",
   "execution_count": 16,
   "id": "309ecb92",
   "metadata": {},
   "outputs": [],
   "source": [
    "serie_mackeyglass = timeseries.SerieTemporal(p_mackeyglass, K=k_mackeyglass, L=L)\n",
    "X_mackeyglass_treino, X_mackeyglass_teste, X_mackeyglass_val, y_mackeyglass_treino, y_mackeyglass_teste, y_mackeyglass_val = serie_mackeyglass.dividir_treino_teste_validacao(tam_teste=tam_teste,\n",
    "                                                                                                                                    tam_val=tam_val)"
   ]
  },
  {
   "cell_type": "markdown",
   "id": "bbafd50a",
   "metadata": {},
   "source": [
    "## 5. Treinando a rede neural"
   ]
  },
  {
   "cell_type": "markdown",
   "id": "bdc8d388",
   "metadata": {},
   "source": [
    "### Mapa de Hénon"
   ]
  },
  {
   "cell_type": "code",
   "execution_count": 17,
   "id": "9e7aff02",
   "metadata": {},
   "outputs": [],
   "source": [
    "model_henon = lstm_model.ModeloLSTM(input_shape=(k_henon, 1),\n",
    "                                  name=config_henon['name'])\n",
    "\n",
    "model_henon.criar_modelo(n_units=config_henon[\"n_units\"],\n",
    "                         init_mode=config_henon[\"init_mode\"])\n",
    "\n",
    "model_henon.montar(learning_rate=config_henon[\"learning_rate\"])"
   ]
  },
  {
   "cell_type": "code",
   "execution_count": 18,
   "id": "87aaccd6",
   "metadata": {},
   "outputs": [],
   "source": [
    "model_henon.treinar(X_treino=X_henon_treino,\n",
    "                    X_val=X_henon_val,\n",
    "                    y_treino=y_henon_treino,\n",
    "                    y_val=y_henon_val,\n",
    "                    batch_size=config_henon[\"batch_size\"],\n",
    "                    verbose=0)"
   ]
  },
  {
   "cell_type": "code",
   "execution_count": 19,
   "id": "91d49286",
   "metadata": {},
   "outputs": [],
   "source": [
    "y_henon_pred = model_henon.predicao(X_henon_teste)"
   ]
  },
  {
   "cell_type": "code",
   "execution_count": 20,
   "id": "51ffc339",
   "metadata": {},
   "outputs": [
    {
     "name": "stdout",
     "output_type": "stream",
     "text": [
      "MSE = 0.00036270162885772793\n"
     ]
    }
   ],
   "source": [
    "mse = mean_squared_error(y_henon_teste, y_henon_pred)\n",
    "print(\"MSE = \" + str(mse))"
   ]
  },
  {
   "cell_type": "markdown",
   "id": "816e6f64",
   "metadata": {},
   "source": [
    "### Mapa logístico"
   ]
  },
  {
   "cell_type": "code",
   "execution_count": 21,
   "id": "67d81cf7",
   "metadata": {},
   "outputs": [],
   "source": [
    "model_logistic = lstm_model.ModeloLSTM(input_shape=(k_logistic, 1),\n",
    "                                  name=config_logistic['name'])\n",
    "\n",
    "model_logistic.criar_modelo(n_units=config_logistic[\"n_units\"],\n",
    "                         init_mode=config_logistic[\"init_mode\"])\n",
    "\n",
    "model_logistic.montar(learning_rate=config_logistic[\"learning_rate\"])"
   ]
  },
  {
   "cell_type": "code",
   "execution_count": 22,
   "id": "eb115196",
   "metadata": {},
   "outputs": [],
   "source": [
    "model_logistic.treinar(X_treino=X_logistic_treino,\n",
    "                    X_val=X_logistic_val,\n",
    "                    y_treino=y_logistic_treino,\n",
    "                    y_val=y_logistic_val,\n",
    "                    batch_size=config_logistic[\"batch_size\"],\n",
    "                    verbose=0)"
   ]
  },
  {
   "cell_type": "code",
   "execution_count": 23,
   "id": "303f354c",
   "metadata": {},
   "outputs": [],
   "source": [
    "y_logistic_pred = model_logistic.predicao(X_logistic_teste)"
   ]
  },
  {
   "cell_type": "code",
   "execution_count": 24,
   "id": "4dc3ffe5",
   "metadata": {},
   "outputs": [
    {
     "name": "stdout",
     "output_type": "stream",
     "text": [
      "MSE = 0.0004087685343895958\n"
     ]
    }
   ],
   "source": [
    "mse = mean_squared_error(y_logistic_teste, y_logistic_pred)\n",
    "print(\"MSE = \" + str(mse))"
   ]
  },
  {
   "cell_type": "markdown",
   "id": "1ac88ee8",
   "metadata": {},
   "source": [
    "### Sistema de Lorenz"
   ]
  },
  {
   "cell_type": "code",
   "execution_count": 17,
   "id": "a10fc360",
   "metadata": {},
   "outputs": [],
   "source": [
    "model_lorenz = lstm_model.ModeloLSTM(input_shape=(k_lorenz, 1),\n",
    "                                  name=config_lorenz['name'])\n",
    "\n",
    "model_lorenz.criar_modelo(n_units=config_lorenz[\"n_units\"],\n",
    "                         init_mode=config_lorenz[\"init_mode\"])\n",
    "\n",
    "model_lorenz.montar(learning_rate=config_lorenz[\"learning_rate\"])"
   ]
  },
  {
   "cell_type": "code",
   "execution_count": 18,
   "id": "2019b88c",
   "metadata": {},
   "outputs": [],
   "source": [
    "model_lorenz.treinar(X_treino=X_lorenz_treino,\n",
    "                    X_val=X_lorenz_val,\n",
    "                    y_treino=y_lorenz_treino,\n",
    "                    y_val=y_lorenz_val,\n",
    "                    batch_size=config_lorenz[\"batch_size\"],\n",
    "                    verbose=0)"
   ]
  },
  {
   "cell_type": "code",
   "execution_count": 19,
   "id": "a9f4b24f",
   "metadata": {},
   "outputs": [],
   "source": [
    "y_lorenz_pred = model_lorenz.predicao(X_lorenz_teste, scaler=scaler)"
   ]
  },
  {
   "cell_type": "code",
   "execution_count": 20,
   "id": "e468ee6c",
   "metadata": {},
   "outputs": [
    {
     "name": "stdout",
     "output_type": "stream",
     "text": [
      "MSE = 0.0022467834061768747\n"
     ]
    }
   ],
   "source": [
    "mse = mean_squared_error(scaler.inverse_transform(y_lorenz_teste), y_lorenz_pred)\n",
    "print(\"MSE = \" + str(mse))"
   ]
  },
  {
   "cell_type": "markdown",
   "id": "39ddef19",
   "metadata": {},
   "source": [
    "### Equações de Mackey-Glass"
   ]
  },
  {
   "cell_type": "code",
   "execution_count": 29,
   "id": "40d00703",
   "metadata": {},
   "outputs": [],
   "source": [
    "model_mackeyglass = lstm_model.ModeloLSTM(input_shape=(k_mackeyglass, 1),\n",
    "                                  name=config_mackeyglass['name'])\n",
    "\n",
    "model_mackeyglass.criar_modelo(n_units=config_mackeyglass[\"n_units\"],\n",
    "                         init_mode=config_mackeyglass[\"init_mode\"])\n",
    "\n",
    "model_mackeyglass.montar(learning_rate=config_mackeyglass[\"learning_rate\"])"
   ]
  },
  {
   "cell_type": "code",
   "execution_count": 30,
   "id": "75419ccd",
   "metadata": {},
   "outputs": [],
   "source": [
    "model_mackeyglass.treinar(X_treino=X_mackeyglass_treino,\n",
    "                    X_val=X_mackeyglass_val,\n",
    "                    y_treino=y_mackeyglass_treino,\n",
    "                    y_val=y_mackeyglass_val,\n",
    "                    batch_size=config_mackeyglass[\"batch_size\"],\n",
    "                    verbose=0)"
   ]
  },
  {
   "cell_type": "code",
   "execution_count": 31,
   "id": "db9406f2",
   "metadata": {},
   "outputs": [],
   "source": [
    "y_mackeyglass_pred = model_mackeyglass.predicao(X_mackeyglass_teste)"
   ]
  },
  {
   "cell_type": "code",
   "execution_count": 32,
   "id": "14baaacd",
   "metadata": {},
   "outputs": [
    {
     "name": "stdout",
     "output_type": "stream",
     "text": [
      "MSE = 4.1841524324483206e-05\n"
     ]
    }
   ],
   "source": [
    "mse = mean_squared_error(y_mackeyglass_teste, y_mackeyglass_pred)\n",
    "print(\"MSE = \" + str(mse))"
   ]
  },
  {
   "cell_type": "markdown",
   "id": "d1eae9ff",
   "metadata": {},
   "source": [
    "## 6. Salvando os dados"
   ]
  },
  {
   "cell_type": "markdown",
   "id": "e0d9d128",
   "metadata": {},
   "source": [
    "### Mapa de Hénon"
   ]
  },
  {
   "cell_type": "code",
   "execution_count": 33,
   "id": "011c8261",
   "metadata": {},
   "outputs": [],
   "source": [
    "n_henon_teste = n_henon[-len(y_henon_pred):]\n",
    "dados_henon = np.column_stack((y_henon_teste, y_henon_pred, n_henon_teste))\n",
    "dados_henon = pd.DataFrame(dados_henon, columns=['y_teste', 'y_pred', 'n'])\n",
    "dados_henon.to_csv('../../data/predictions/lstm/henon.csv', index = False, header=True)"
   ]
  },
  {
   "cell_type": "markdown",
   "id": "6f54b6ad",
   "metadata": {},
   "source": [
    "### Mapa logístico"
   ]
  },
  {
   "cell_type": "code",
   "execution_count": 34,
   "id": "a5c62b57",
   "metadata": {},
   "outputs": [],
   "source": [
    "n_logistic_teste = n_logistic[-len(y_logistic_pred):]\n",
    "dados_logistic = np.column_stack((y_logistic_teste, y_logistic_pred, n_logistic_teste))\n",
    "dados_logistic = pd.DataFrame(dados_logistic, columns=['y_teste', 'y_pred', 'n'])\n",
    "dados_logistic.to_csv('../../data/predictions/lstm/logistic.csv', index = False, header=True)"
   ]
  },
  {
   "cell_type": "markdown",
   "id": "51fc45b6",
   "metadata": {},
   "source": [
    "### Sistema de Lorenz"
   ]
  },
  {
   "cell_type": "code",
   "execution_count": 21,
   "id": "3ee31226",
   "metadata": {},
   "outputs": [],
   "source": [
    "n_lorenz_teste = t_lorenz[-len(y_lorenz_pred):]\n",
    "dados_lorenz = np.column_stack((scaler.inverse_transform(y_lorenz_teste), y_lorenz_pred, n_lorenz_teste))\n",
    "dados_lorenz = pd.DataFrame(dados_lorenz, columns=['y_teste', 'y_pred', 't'])\n",
    "dados_lorenz.to_csv('../../data/predictions/lstm/lorenz.csv', index = False, header=True)"
   ]
  },
  {
   "cell_type": "markdown",
   "id": "bf182158",
   "metadata": {},
   "source": [
    "### Equações de Mackey-Glass"
   ]
  },
  {
   "cell_type": "code",
   "execution_count": 36,
   "id": "87e9ea94",
   "metadata": {},
   "outputs": [],
   "source": [
    "t_mackeyglass_teste = t_mackeyglass[-len(y_mackeyglass_pred):]\n",
    "dados_mackeyglass = np.column_stack((y_mackeyglass_teste, y_mackeyglass_pred, t_mackeyglass_teste))\n",
    "dados_mackeyglass = pd.DataFrame(dados_mackeyglass, columns=['y_teste', 'y_pred', 't'])\n",
    "dados_mackeyglass.to_csv('../../data/predictions/lstm/mackeyglass.csv', index = False, header=True)"
   ]
  },
  {
   "cell_type": "markdown",
   "id": "95501e08",
   "metadata": {},
   "source": [
    "## 7. Salvando os modelos"
   ]
  },
  {
   "cell_type": "code",
   "execution_count": 37,
   "id": "30363f87",
   "metadata": {},
   "outputs": [
    {
     "name": "stdout",
     "output_type": "stream",
     "text": [
      "O modelo foi salvo!\n",
      "O modelo foi salvo!\n",
      "O modelo foi salvo!\n",
      "O modelo foi salvo!\n"
     ]
    }
   ],
   "source": [
    "model_henon.salvar(\"../../models/lstm/lstm-henon.h5\")\n",
    "model_logistic.salvar(\"../../models/lstm/lstm-logistic.h5\")\n",
    "model_lorenz.salvar(\"../../models/lstm/lstm-lorenz.h5\")\n",
    "model_mackeyglass.salvar(\"../../models/lstm/lstm-mackeyglass.h5\")"
   ]
  },
  {
   "cell_type": "code",
   "execution_count": null,
   "id": "a1f90700",
   "metadata": {},
   "outputs": [],
   "source": []
  }
 ],
 "metadata": {
  "kernelspec": {
   "display_name": "Python 3",
   "language": "python",
   "name": "python3"
  },
  "language_info": {
   "codemirror_mode": {
    "name": "ipython",
    "version": 3
   },
   "file_extension": ".py",
   "mimetype": "text/x-python",
   "name": "python",
   "nbconvert_exporter": "python",
   "pygments_lexer": "ipython3",
   "version": "3.8.0"
  }
 },
 "nbformat": 4,
 "nbformat_minor": 5
}
