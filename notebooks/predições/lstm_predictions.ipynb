{
 "cells": [
  {
   "cell_type": "markdown",
   "source": [
    "# Realizando predições com as melhores configurações para a LSTM"
   ],
   "metadata": {}
  },
  {
   "cell_type": "markdown",
   "source": [
    "## 1. Importando as bibliotecas necessárias"
   ],
   "metadata": {}
  },
  {
   "cell_type": "markdown",
   "source": [
    "### Bibliotecas Externas"
   ],
   "metadata": {}
  },
  {
   "cell_type": "code",
   "execution_count": 1,
   "source": [
    "import numpy as np\n",
    "import pandas as pd\n",
    "\n",
    "import tensorflow as tf\n",
    "physical_devices = tf.config.list_physical_devices('GPU')\n",
    "\n",
    "import matplotlib.pyplot as plt\n",
    "import seaborn as sns \n",
    "sns.set_style(\"ticks\")\n",
    "plt.rcParams['savefig.dpi'] = 200\n",
    "plt.rcParams[\"figure.dpi\"] = 125\n",
    "plt.rcParams.update({\n",
    "    \"text.usetex\": True,\n",
    "    \"font.family\": \"serif\",\n",
    "    \"font.serif\": [\"Palatino\"],\n",
    "})\n",
    "\n",
    "from sklearn.metrics import mean_squared_error\n",
    "from sklearn.preprocessing import MinMaxScaler"
   ],
   "outputs": [],
   "metadata": {}
  },
  {
   "cell_type": "markdown",
   "source": [
    "### Bibliotecas do projeto"
   ],
   "metadata": {}
  },
  {
   "cell_type": "code",
   "execution_count": 2,
   "source": [
    "# arquivos de configurações\n",
    "from pibic2020.parameters.lstm import *\n",
    "from pibic2020.models import lstm_model\n",
    "\n",
    "# para separar em conjuntos de treino, teste e validacao\n",
    "from pibic2020.tools import timeseries"
   ],
   "outputs": [],
   "metadata": {}
  },
  {
   "cell_type": "markdown",
   "source": [
    "## 2. Pegando os dados gerados"
   ],
   "metadata": {}
  },
  {
   "cell_type": "markdown",
   "source": [
    "### Dados brutos"
   ],
   "metadata": {}
  },
  {
   "cell_type": "code",
   "execution_count": 3,
   "source": [
    "dados_henon = pd.read_csv('../../data/raw/henon.csv')\n",
    "dados_logistic = pd.read_csv('../../data/raw/logistic.csv')\n",
    "dados_lorenz = pd.read_csv('../../data/raw/lorenz.csv')\n",
    "dados_mackeyglass = pd.read_csv('../../data/raw/mackeyglass.csv')"
   ],
   "outputs": [],
   "metadata": {}
  },
  {
   "cell_type": "markdown",
   "source": [
    "### Separando os vetores que serão utilizados"
   ],
   "metadata": {}
  },
  {
   "cell_type": "markdown",
   "source": [
    "#### Mapa de Hénon"
   ],
   "metadata": {}
  },
  {
   "cell_type": "code",
   "execution_count": 4,
   "source": [
    "n_henon = pd.DataFrame(dados_henon, columns=['n']).to_numpy()\n",
    "n_henon = n_henon.ravel()\n",
    "x_henon = pd.DataFrame(dados_henon, columns=['x']).to_numpy()\n",
    "x_henon = x_henon.ravel()"
   ],
   "outputs": [],
   "metadata": {}
  },
  {
   "cell_type": "markdown",
   "source": [
    "#### Mapa de logístico"
   ],
   "metadata": {}
  },
  {
   "cell_type": "code",
   "execution_count": 5,
   "source": [
    "n_logistic = pd.DataFrame(dados_logistic, columns=['n']).to_numpy()\n",
    "n_logistic = n_logistic.ravel()\n",
    "x_logistic = pd.DataFrame(dados_logistic, columns=['x']).to_numpy()\n",
    "x_logistic = x_logistic.ravel()"
   ],
   "outputs": [],
   "metadata": {}
  },
  {
   "cell_type": "markdown",
   "source": [
    "#### Sistema de Lorenz"
   ],
   "metadata": {}
  },
  {
   "cell_type": "code",
   "execution_count": 6,
   "source": [
    "t_lorenz = pd.DataFrame(dados_lorenz, columns=['t']).to_numpy()\n",
    "t_lorenz = t_lorenz.ravel()\n",
    "x_lorenz = pd.DataFrame(dados_lorenz, columns=['x']).to_numpy()\n",
    "x_lorenz = x_lorenz.ravel()"
   ],
   "outputs": [],
   "metadata": {}
  },
  {
   "cell_type": "markdown",
   "source": [
    "#### Equações de Mackey-Glass"
   ],
   "metadata": {}
  },
  {
   "cell_type": "code",
   "execution_count": 7,
   "source": [
    "t_mackeyglass = pd.DataFrame(dados_mackeyglass, columns=['t']).to_numpy()\n",
    "t_mackeyglass = t_mackeyglass.ravel()\n",
    "p_mackeyglass = pd.DataFrame(dados_mackeyglass, columns=['p']).to_numpy()\n",
    "p_mackeyglass = p_mackeyglass.ravel()"
   ],
   "outputs": [],
   "metadata": {}
  },
  {
   "cell_type": "markdown",
   "source": [
    "## 3. Separando as configurações para cada modelo"
   ],
   "metadata": {}
  },
  {
   "cell_type": "markdown",
   "source": [
    "### Mapa de Hénon"
   ],
   "metadata": {}
  },
  {
   "cell_type": "code",
   "execution_count": 8,
   "source": [
    "config_henon = lstm_henon.lstm_henon\n",
    "k_henon = lstm_best_k.K_best_henon_lstm\n",
    "k_henon = k_henon[0]"
   ],
   "outputs": [],
   "metadata": {}
  },
  {
   "cell_type": "markdown",
   "source": [
    "### Mapa logístico"
   ],
   "metadata": {}
  },
  {
   "cell_type": "code",
   "execution_count": 9,
   "source": [
    "config_logistic = lstm_logistic.lstm_logistic\n",
    "k_logistic = lstm_best_k.K_best_logistic_lstm\n",
    "k_logistic = k_logistic[0]"
   ],
   "outputs": [],
   "metadata": {}
  },
  {
   "cell_type": "markdown",
   "source": [
    "### Sistema de Lorenz"
   ],
   "metadata": {}
  },
  {
   "cell_type": "code",
   "execution_count": 10,
   "source": [
    "config_lorenz = lstm_lorenz.lstm_lorenz\n",
    "k_lorenz = lstm_best_k.K_best_lorenz_lstm\n",
    "k_lorenz = k_lorenz[0]"
   ],
   "outputs": [],
   "metadata": {}
  },
  {
   "cell_type": "markdown",
   "source": [
    "### Equações de Mackey-Glass"
   ],
   "metadata": {}
  },
  {
   "cell_type": "code",
   "execution_count": 11,
   "source": [
    "config_mackeyglass = lstm_mackeyglass.lstm_mackeyglass\n",
    "k_mackeyglass = lstm_best_k.K_best_mackeyglass_lstm\n",
    "k_mackeyglass = k_mackeyglass[0]"
   ],
   "outputs": [],
   "metadata": {}
  },
  {
   "cell_type": "markdown",
   "source": [
    "## 4. Criando conjuntos de treino, teste e validação"
   ],
   "metadata": {}
  },
  {
   "cell_type": "code",
   "execution_count": 12,
   "source": [
    "L = 3\n",
    "tam_teste = 0.15\n",
    "tam_val = 0.1"
   ],
   "outputs": [],
   "metadata": {}
  },
  {
   "cell_type": "markdown",
   "source": [
    "#### Mapa de Hénon"
   ],
   "metadata": {}
  },
  {
   "cell_type": "code",
   "execution_count": 13,
   "source": [
    "serie_henon = timeseries.SerieTemporal(x_henon, K=k_henon, L=L)\n",
    "X_henon_treino, X_henon_teste, X_henon_val, y_henon_treino, y_henon_teste, y_henon_val = serie_henon.dividir_treino_teste_validacao(tam_teste=tam_teste,\n",
    "                                                                                                                                    tam_val=tam_val)"
   ],
   "outputs": [],
   "metadata": {}
  },
  {
   "cell_type": "markdown",
   "source": [
    "#### Mapa logístico"
   ],
   "metadata": {}
  },
  {
   "cell_type": "code",
   "execution_count": 14,
   "source": [
    "serie_logistic = timeseries.SerieTemporal(x_logistic, K=k_logistic, L=L)\n",
    "X_logistic_treino, X_logistic_teste, X_logistic_val, y_logistic_treino, y_logistic_teste, y_logistic_val = serie_logistic.dividir_treino_teste_validacao(tam_teste=tam_teste,\n",
    "                                                                                                                                    tam_val=tam_val)"
   ],
   "outputs": [],
   "metadata": {}
  },
  {
   "cell_type": "markdown",
   "source": [
    "#### Sistema de Lorenz"
   ],
   "metadata": {}
  },
  {
   "cell_type": "code",
   "execution_count": 15,
   "source": [
    "scaler = MinMaxScaler(feature_range=(-1,1))\n",
    "x_lorenz = scaler.fit_transform(x_lorenz.reshape(-1,1)).reshape(len(x_lorenz), )\n",
    "serie_lorenz = timeseries.SerieTemporal(x_lorenz, K=k_lorenz, L=L)\n",
    "X_lorenz_treino, X_lorenz_teste, X_lorenz_val, y_lorenz_treino, y_lorenz_teste, y_lorenz_val = serie_lorenz.dividir_treino_teste_validacao(tam_teste=tam_teste,\n",
    "                                                                                                                                    tam_val=tam_val)"
   ],
   "outputs": [],
   "metadata": {}
  },
  {
   "cell_type": "markdown",
   "source": [
    "#### Equações de Mackey-Glass"
   ],
   "metadata": {}
  },
  {
   "cell_type": "code",
   "execution_count": 16,
   "source": [
    "serie_mackeyglass = timeseries.SerieTemporal(p_mackeyglass, K=k_mackeyglass, L=L)\n",
    "X_mackeyglass_treino, X_mackeyglass_teste, X_mackeyglass_val, y_mackeyglass_treino, y_mackeyglass_teste, y_mackeyglass_val = serie_mackeyglass.dividir_treino_teste_validacao(tam_teste=tam_teste,\n",
    "                                                                                                                                    tam_val=tam_val)"
   ],
   "outputs": [],
   "metadata": {}
  },
  {
   "cell_type": "markdown",
   "source": [
    "## 5. Treinando a rede neural"
   ],
   "metadata": {}
  },
  {
   "cell_type": "markdown",
   "source": [
    "### Mapa de Hénon"
   ],
   "metadata": {}
  },
  {
   "cell_type": "code",
   "execution_count": 17,
   "source": [
    "model_henon = lstm_model.ModeloLSTM(input_shape=(k_henon, 1),\n",
    "                                  name=config_henon['name'])\n",
    "\n",
    "model_henon.criar_modelo(n_units=config_henon[\"n_units\"],\n",
    "                         init_mode=config_henon[\"init_mode\"])\n",
    "\n",
    "model_henon.montar(learning_rate=config_henon[\"learning_rate\"])"
   ],
   "outputs": [],
   "metadata": {}
  },
  {
   "cell_type": "code",
   "execution_count": 18,
   "source": [
    "model_henon.treinar(X_treino=X_henon_treino,\n",
    "                    X_val=X_henon_val,\n",
    "                    y_treino=y_henon_treino,\n",
    "                    y_val=y_henon_val,\n",
    "                    batch_size=config_henon[\"batch_size\"],\n",
    "                    verbose=0)"
   ],
   "outputs": [],
   "metadata": {}
  },
  {
   "cell_type": "code",
   "execution_count": 19,
   "source": [
    "y_henon_pred = model_henon.predicao(X_henon_teste)"
   ],
   "outputs": [],
   "metadata": {}
  },
  {
   "cell_type": "code",
   "execution_count": 20,
   "source": [
    "mse = mean_squared_error(y_henon_teste, y_henon_pred)\n",
    "print(\"MSE = \" + str(mse))"
   ],
   "outputs": [
    {
     "output_type": "stream",
     "name": "stdout",
     "text": [
      "MSE = 0.00036270162885772793\n"
     ]
    }
   ],
   "metadata": {}
  },
  {
   "cell_type": "markdown",
   "source": [
    "### Mapa logístico"
   ],
   "metadata": {}
  },
  {
   "cell_type": "code",
   "execution_count": 21,
   "source": [
    "model_logistic = lstm_model.ModeloLSTM(input_shape=(k_logistic, 1),\n",
    "                                  name=config_logistic['name'])\n",
    "\n",
    "model_logistic.criar_modelo(n_units=config_logistic[\"n_units\"],\n",
    "                         init_mode=config_logistic[\"init_mode\"])\n",
    "\n",
    "model_logistic.montar(learning_rate=config_logistic[\"learning_rate\"])"
   ],
   "outputs": [],
   "metadata": {}
  },
  {
   "cell_type": "code",
   "execution_count": 22,
   "source": [
    "model_logistic.treinar(X_treino=X_logistic_treino,\n",
    "                    X_val=X_logistic_val,\n",
    "                    y_treino=y_logistic_treino,\n",
    "                    y_val=y_logistic_val,\n",
    "                    batch_size=config_logistic[\"batch_size\"],\n",
    "                    verbose=0)"
   ],
   "outputs": [],
   "metadata": {}
  },
  {
   "cell_type": "code",
   "execution_count": 23,
   "source": [
    "y_logistic_pred = model_logistic.predicao(X_logistic_teste)"
   ],
   "outputs": [],
   "metadata": {}
  },
  {
   "cell_type": "code",
   "execution_count": 24,
   "source": [
    "mse = mean_squared_error(y_logistic_teste, y_logistic_pred)\n",
    "print(\"MSE = \" + str(mse))"
   ],
   "outputs": [
    {
     "output_type": "stream",
     "name": "stdout",
     "text": [
      "MSE = 0.0004087685343895958\n"
     ]
    }
   ],
   "metadata": {}
  },
  {
   "cell_type": "markdown",
   "source": [
    "### Sistema de Lorenz"
   ],
   "metadata": {}
  },
  {
   "cell_type": "code",
   "execution_count": 25,
   "source": [
    "model_lorenz = lstm_model.ModeloLSTM(input_shape=(k_lorenz, 1),\n",
    "                                  name=config_lorenz['name'])\n",
    "\n",
    "model_lorenz.criar_modelo(n_units=config_lorenz[\"n_units\"],\n",
    "                         init_mode=config_lorenz[\"init_mode\"])\n",
    "\n",
    "model_lorenz.montar(learning_rate=config_lorenz[\"learning_rate\"])"
   ],
   "outputs": [],
   "metadata": {}
  },
  {
   "cell_type": "code",
   "execution_count": 26,
   "source": [
    "model_lorenz.treinar(X_treino=X_lorenz_treino,\n",
    "                    X_val=X_lorenz_val,\n",
    "                    y_treino=y_lorenz_treino,\n",
    "                    y_val=y_lorenz_val,\n",
    "                    batch_size=config_lorenz[\"batch_size\"],\n",
    "                    verbose=0)"
   ],
   "outputs": [],
   "metadata": {}
  },
  {
   "cell_type": "code",
   "execution_count": 27,
   "source": [
    "y_lorenz_pred = model_lorenz.predicao(X_lorenz_teste, scaler=scaler)"
   ],
   "outputs": [],
   "metadata": {}
  },
  {
   "cell_type": "code",
   "execution_count": 28,
   "source": [
    "mse = mean_squared_error(scaler.inverse_transform(y_lorenz_teste), y_lorenz_pred)\n",
    "print(\"MSE = \" + str(mse))"
   ],
   "outputs": [
    {
     "output_type": "stream",
     "name": "stdout",
     "text": [
      "MSE = 0.009727875237371808\n"
     ]
    }
   ],
   "metadata": {}
  },
  {
   "cell_type": "markdown",
   "source": [
    "### Equações de Mackey-Glass"
   ],
   "metadata": {}
  },
  {
   "cell_type": "code",
   "execution_count": 29,
   "source": [
    "model_mackeyglass = lstm_model.ModeloLSTM(input_shape=(k_mackeyglass, 1),\n",
    "                                  name=config_mackeyglass['name'])\n",
    "\n",
    "model_mackeyglass.criar_modelo(n_units=config_mackeyglass[\"n_units\"],\n",
    "                         init_mode=config_mackeyglass[\"init_mode\"])\n",
    "\n",
    "model_mackeyglass.montar(learning_rate=config_mackeyglass[\"learning_rate\"])"
   ],
   "outputs": [],
   "metadata": {}
  },
  {
   "cell_type": "code",
   "execution_count": 30,
   "source": [
    "model_mackeyglass.treinar(X_treino=X_mackeyglass_treino,\n",
    "                    X_val=X_mackeyglass_val,\n",
    "                    y_treino=y_mackeyglass_treino,\n",
    "                    y_val=y_mackeyglass_val,\n",
    "                    batch_size=config_mackeyglass[\"batch_size\"],\n",
    "                    verbose=0)"
   ],
   "outputs": [],
   "metadata": {}
  },
  {
   "cell_type": "code",
   "execution_count": 31,
   "source": [
    "y_mackeyglass_pred = model_mackeyglass.predicao(X_mackeyglass_teste)"
   ],
   "outputs": [],
   "metadata": {}
  },
  {
   "cell_type": "code",
   "execution_count": 32,
   "source": [
    "mse = mean_squared_error(y_mackeyglass_teste, y_mackeyglass_pred)\n",
    "print(\"MSE = \" + str(mse))"
   ],
   "outputs": [
    {
     "output_type": "stream",
     "name": "stdout",
     "text": [
      "MSE = 4.1841524324483206e-05\n"
     ]
    }
   ],
   "metadata": {}
  },
  {
   "cell_type": "markdown",
   "source": [
    "## 6. Salvando os dados"
   ],
   "metadata": {}
  },
  {
   "cell_type": "markdown",
   "source": [
    "### Mapa de Hénon"
   ],
   "metadata": {}
  },
  {
   "cell_type": "code",
   "execution_count": 33,
   "source": [
    "n_henon_teste = n_henon[-len(y_henon_pred):]\n",
    "dados_henon = np.column_stack((y_henon_teste, y_henon_pred, n_henon_teste))\n",
    "dados_henon = pd.DataFrame(dados_henon, columns=['y_teste', 'y_pred', 'n'])\n",
    "dados_henon.to_csv('../../data/predictions/lstm/henon.csv', index = False, header=True)"
   ],
   "outputs": [],
   "metadata": {}
  },
  {
   "cell_type": "markdown",
   "source": [
    "### Mapa logístico"
   ],
   "metadata": {}
  },
  {
   "cell_type": "code",
   "execution_count": 34,
   "source": [
    "n_logistic_teste = n_logistic[-len(y_logistic_pred):]\n",
    "dados_logistic = np.column_stack((y_logistic_teste, y_logistic_pred, n_logistic_teste))\n",
    "dados_logistic = pd.DataFrame(dados_logistic, columns=['y_teste', 'y_pred', 'n'])\n",
    "dados_logistic.to_csv('../../data/predictions/lstm/logistic.csv', index = False, header=True)"
   ],
   "outputs": [],
   "metadata": {}
  },
  {
   "cell_type": "markdown",
   "source": [
    "### Sistema de Lorenz"
   ],
   "metadata": {}
  },
  {
   "cell_type": "code",
   "execution_count": 35,
   "source": [
    "n_lorenz_teste = t_lorenz[-len(y_lorenz_pred):]\n",
    "dados_lorenz = np.column_stack((scaler.inverse_transform(y_lorenz_teste), y_lorenz_pred, n_lorenz_teste))\n",
    "dados_lorenz = pd.DataFrame(dados_lorenz, columns=['y_teste', 'y_pred', 't'])\n",
    "dados_lorenz.to_csv('../../data/predictions/lstm/lorenz.csv', index = False, header=True)"
   ],
   "outputs": [],
   "metadata": {}
  },
  {
   "cell_type": "markdown",
   "source": [
    "### Equações de Mackey-Glass"
   ],
   "metadata": {}
  },
  {
   "cell_type": "code",
   "execution_count": 36,
   "source": [
    "t_mackeyglass_teste = t_mackeyglass[-len(y_mackeyglass_pred):]\n",
    "dados_mackeyglass = np.column_stack((y_mackeyglass_teste, y_mackeyglass_pred, t_mackeyglass_teste))\n",
    "dados_mackeyglass = pd.DataFrame(dados_mackeyglass, columns=['y_teste', 'y_pred', 't'])\n",
    "dados_mackeyglass.to_csv('../../data/predictions/lstm/mackeyglass.csv', index = False, header=True)"
   ],
   "outputs": [],
   "metadata": {}
  },
  {
   "cell_type": "markdown",
   "source": [
    "## 7. Salvando os modelos"
   ],
   "metadata": {}
  },
  {
   "cell_type": "code",
   "execution_count": 37,
   "source": [
    "model_henon.salvar(\"../../models/lstm/lstm-henon.h5\")\n",
    "model_logistic.salvar(\"../../models/lstm/lstm-logistic.h5\")\n",
    "model_lorenz.salvar(\"../../models/lstm/lstm-lorenz.h5\")\n",
    "model_mackeyglass.salvar(\"../../models/lstm/lstm-mackeyglass.h5\")"
   ],
   "outputs": [
    {
     "output_type": "stream",
     "name": "stdout",
     "text": [
      "O modelo foi salvo!\n",
      "O modelo foi salvo!\n",
      "O modelo foi salvo!\n",
      "O modelo foi salvo!\n"
     ]
    }
   ],
   "metadata": {}
  },
  {
   "cell_type": "code",
   "execution_count": null,
   "source": [],
   "outputs": [],
   "metadata": {}
  }
 ],
 "metadata": {
  "kernelspec": {
   "display_name": "Python 3",
   "language": "python",
   "name": "python3"
  },
  "language_info": {
   "codemirror_mode": {
    "name": "ipython",
    "version": 3
   },
   "file_extension": ".py",
   "mimetype": "text/x-python",
   "name": "python",
   "nbconvert_exporter": "python",
   "pygments_lexer": "ipython3",
   "version": "3.8.0"
  }
 },
 "nbformat": 4,
 "nbformat_minor": 5
}