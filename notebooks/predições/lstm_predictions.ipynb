{
 "cells": [
  {
   "cell_type": "markdown",
   "id": "b13ad48b",
   "metadata": {},
   "source": [
    "# Realizando predições com as melhores configurações para a LSTM"
   ]
  },
  {
   "cell_type": "markdown",
   "id": "82678f83",
   "metadata": {},
   "source": [
    "## 1. Importando as bibliotecas necessárias"
   ]
  },
  {
   "cell_type": "markdown",
   "id": "b6394369",
   "metadata": {},
   "source": [
    "### Bibliotecas Externas"
   ]
  },
  {
   "cell_type": "code",
   "execution_count": 1,
   "id": "6c02068e",
   "metadata": {},
   "outputs": [],
   "source": [
    "import numpy as np\n",
    "import pandas as pd\n",
    "\n",
    "import tensorflow as tf\n",
    "physical_devices = tf.config.list_physical_devices('GPU')\n",
    "\n",
    "import matplotlib.pyplot as plt\n",
    "import seaborn as sns \n",
    "sns.set_style(\"ticks\")\n",
    "plt.rcParams['savefig.dpi'] = 200\n",
    "plt.rcParams[\"figure.dpi\"] = 125\n",
    "plt.rcParams.update({\n",
    "    \"text.usetex\": True,\n",
    "    \"font.family\": \"serif\",\n",
    "    \"font.serif\": [\"Palatino\"],\n",
    "})\n",
    "\n",
    "from sklearn.metrics import mean_squared_error\n",
    "from sklearn.preprocessing import MinMaxScaler"
   ]
  },
  {
   "cell_type": "markdown",
   "id": "f6d13624",
   "metadata": {},
   "source": [
    "### Bibliotecas do projeto"
   ]
  },
  {
   "cell_type": "code",
   "execution_count": 2,
   "id": "db98e1e9",
   "metadata": {},
   "outputs": [],
   "source": [
    "# arquivos de configurações\n",
    "from pibic2020.parameters.lstm import *\n",
    "from pibic2020.models import lstm_model\n",
    "\n",
    "# para separar em conjuntos de treino, teste e validacao\n",
    "from pibic2020.tools import timeseries"
   ]
  },
  {
   "cell_type": "markdown",
   "id": "68da3321",
   "metadata": {},
   "source": [
    "## 2. Pegando os dados gerados"
   ]
  },
  {
   "cell_type": "markdown",
   "id": "2f33eea3",
   "metadata": {},
   "source": [
    "### Dados brutos"
   ]
  },
  {
   "cell_type": "code",
   "execution_count": 3,
   "id": "2e97faf7",
   "metadata": {},
   "outputs": [],
   "source": [
    "dados_henon = pd.read_csv('../../data/raw/henon.csv')\n",
    "dados_logistic = pd.read_csv('../../data/raw/logistic.csv')\n",
    "dados_lorenz = pd.read_csv('../../data/raw/lorenz.csv')\n",
    "dados_mackeyglass = pd.read_csv('../../data/raw/mackeyglass.csv')"
   ]
  },
  {
   "cell_type": "markdown",
   "id": "589ef1eb",
   "metadata": {},
   "source": [
    "### Separando os vetores que serão utilizados"
   ]
  },
  {
   "cell_type": "markdown",
   "id": "398a2506",
   "metadata": {},
   "source": [
    "#### Mapa de Hénon"
   ]
  },
  {
   "cell_type": "code",
   "execution_count": 4,
   "id": "b60c0ce8",
   "metadata": {},
   "outputs": [],
   "source": [
    "n_henon = pd.DataFrame(dados_henon, columns=['n']).to_numpy()\n",
    "n_henon = n_henon.ravel()\n",
    "x_henon = pd.DataFrame(dados_henon, columns=['x']).to_numpy()\n",
    "x_henon = x_henon.ravel()"
   ]
  },
  {
   "cell_type": "markdown",
   "id": "0b315524",
   "metadata": {},
   "source": [
    "#### Mapa de logístico"
   ]
  },
  {
   "cell_type": "code",
   "execution_count": 5,
   "id": "8c730a0c",
   "metadata": {},
   "outputs": [],
   "source": [
    "n_logistic = pd.DataFrame(dados_logistic, columns=['n']).to_numpy()\n",
    "n_logistic = n_logistic.ravel()\n",
    "x_logistic = pd.DataFrame(dados_logistic, columns=['x']).to_numpy()\n",
    "x_logistic = x_logistic.ravel()"
   ]
  },
  {
   "cell_type": "markdown",
   "id": "d363cf1a",
   "metadata": {},
   "source": [
    "#### Sistema de Lorenz"
   ]
  },
  {
   "cell_type": "code",
   "execution_count": 6,
   "id": "86267760",
   "metadata": {},
   "outputs": [],
   "source": [
    "t_lorenz = pd.DataFrame(dados_lorenz, columns=['t']).to_numpy()\n",
    "t_lorenz = t_lorenz.ravel()\n",
    "x_lorenz = pd.DataFrame(dados_lorenz, columns=['x']).to_numpy()\n",
    "x_lorenz = x_lorenz.ravel()"
   ]
  },
  {
   "cell_type": "markdown",
   "id": "ac112b54",
   "metadata": {},
   "source": [
    "#### Equações de Mackey-Glass"
   ]
  },
  {
   "cell_type": "code",
   "execution_count": 7,
   "id": "20102ca4",
   "metadata": {},
   "outputs": [],
   "source": [
    "t_mackeyglass = pd.DataFrame(dados_mackeyglass, columns=['t']).to_numpy()\n",
    "t_mackeyglass = t_mackeyglass.ravel()\n",
    "p_mackeyglass = pd.DataFrame(dados_mackeyglass, columns=['p']).to_numpy()\n",
    "p_mackeyglass = p_mackeyglass.ravel()"
   ]
  },
  {
   "cell_type": "markdown",
   "id": "9a20c0f2",
   "metadata": {},
   "source": [
    "## 3. Separando as configurações para cada modelo"
   ]
  },
  {
   "cell_type": "markdown",
   "id": "5d565b25",
   "metadata": {},
   "source": [
    "### Mapa de Hénon"
   ]
  },
  {
   "cell_type": "code",
   "execution_count": 8,
   "id": "e55340c5",
   "metadata": {},
   "outputs": [],
   "source": [
    "config_henon = lstm_henon.lstm_henon\n",
    "k_henon = lstm_best_k.K_best_henon_lstm\n",
    "k_henon = k_henon[0]"
   ]
  },
  {
   "cell_type": "markdown",
   "id": "70847678",
   "metadata": {},
   "source": [
    "### Mapa logístico"
   ]
  },
  {
   "cell_type": "code",
   "execution_count": 9,
   "id": "a7ca3ca4",
   "metadata": {},
   "outputs": [],
   "source": [
    "config_logistic = lstm_logistic.lstm_logistic\n",
    "k_logistic = lstm_best_k.K_best_logistic_lstm\n",
    "k_logistic = k_logistic[0]"
   ]
  },
  {
   "cell_type": "markdown",
   "id": "6895332d",
   "metadata": {},
   "source": [
    "### Sistema de Lorenz"
   ]
  },
  {
   "cell_type": "code",
   "execution_count": 10,
   "id": "98acc72e",
   "metadata": {},
   "outputs": [],
   "source": [
    "config_lorenz = lstm_lorenz.lstm_lorenz\n",
    "k_lorenz = lstm_best_k.K_best_lorenz_lstm\n",
    "k_lorenz = k_lorenz[0]"
   ]
  },
  {
   "cell_type": "markdown",
   "id": "32fabffd",
   "metadata": {},
   "source": [
    "### Equações de Mackey-Glass"
   ]
  },
  {
   "cell_type": "code",
   "execution_count": 11,
   "id": "ee012ff4",
   "metadata": {},
   "outputs": [],
   "source": [
    "config_mackeyglass = lstm_mackeyglass.lstm_mackeyglass\n",
    "k_mackeyglass = lstm_best_k.K_best_mackeyglass_lstm\n",
    "k_mackeyglass = k_mackeyglass[0]"
   ]
  },
  {
   "cell_type": "markdown",
   "id": "d9899309",
   "metadata": {},
   "source": [
    "## 4. Criando conjuntos de treino, teste e validação"
   ]
  },
  {
   "cell_type": "code",
   "execution_count": 12,
   "id": "c03e7cef",
   "metadata": {},
   "outputs": [],
   "source": [
    "L = 3\n",
    "tam_teste = 0.15\n",
    "tam_val = 0.1"
   ]
  },
  {
   "cell_type": "markdown",
   "id": "d77b13e2",
   "metadata": {},
   "source": [
    "#### Mapa de Hénon"
   ]
  },
  {
   "cell_type": "code",
   "execution_count": 13,
   "id": "f4dc6e69",
   "metadata": {},
   "outputs": [],
   "source": [
    "serie_henon = timeseries.SerieTemporal(x_henon, K=k_henon, L=L)\n",
    "X_henon_treino, X_henon_teste, X_henon_val, y_henon_treino, y_henon_teste, y_henon_val = serie_henon.dividir_treino_teste_validacao(tam_teste=tam_teste,\n",
    "                                                                                                                                    tam_val=tam_val)"
   ]
  },
  {
   "cell_type": "markdown",
   "id": "ab4c5503",
   "metadata": {},
   "source": [
    "#### Mapa logístico"
   ]
  },
  {
   "cell_type": "code",
   "execution_count": 14,
   "id": "fc3d36b2",
   "metadata": {},
   "outputs": [],
   "source": [
    "serie_logistic = timeseries.SerieTemporal(x_logistic, K=k_logistic, L=L)\n",
    "X_logistic_treino, X_logistic_teste, X_logistic_val, y_logistic_treino, y_logistic_teste, y_logistic_val = serie_logistic.dividir_treino_teste_validacao(tam_teste=tam_teste,\n",
    "                                                                                                                                    tam_val=tam_val)"
   ]
  },
  {
   "cell_type": "markdown",
   "id": "dea2c903",
   "metadata": {},
   "source": [
    "#### Sistema de Lorenz"
   ]
  },
  {
   "cell_type": "code",
   "execution_count": 14,
   "id": "ff6a6746",
   "metadata": {},
   "outputs": [],
   "source": [
    "scaler = MinMaxScaler(feature_range=(-1,1))\n",
    "x_lorenz = scaler.fit_transform(x_lorenz.reshape(-1,1)).reshape(len(x_lorenz), )\n",
    "serie_lorenz = timeseries.SerieTemporal(x_lorenz, K=k_lorenz, L=L)\n",
    "X_lorenz_treino, X_lorenz_teste, X_lorenz_val, y_lorenz_treino, y_lorenz_teste, y_lorenz_val = serie_lorenz.dividir_treino_teste_validacao(tam_teste=tam_teste,\n",
    "                                                                                                                                    tam_val=tam_val)"
   ]
  },
  {
   "cell_type": "markdown",
   "id": "301e7f73",
   "metadata": {},
   "source": [
    "#### Equações de Mackey-Glass"
   ]
  },
  {
   "cell_type": "code",
   "execution_count": 17,
   "id": "6ba3f574",
   "metadata": {},
   "outputs": [],
   "source": [
    "serie_mackeyglass = timeseries.SerieTemporal(p_mackeyglass, K=k_mackeyglass, L=L)\n",
    "X_mackeyglass_treino, X_mackeyglass_teste, X_mackeyglass_val, y_mackeyglass_treino, y_mackeyglass_teste, y_mackeyglass_val = serie_mackeyglass.dividir_treino_teste_validacao(tam_teste=tam_teste,\n",
    "                                                                                                                                    tam_val=tam_val)"
   ]
  },
  {
   "cell_type": "markdown",
   "id": "a3bfb596",
   "metadata": {},
   "source": [
    "## 5. Treinando a rede neural"
   ]
  },
  {
   "cell_type": "markdown",
   "id": "24bd6720",
   "metadata": {},
   "source": [
    "### Mapa de Hénon"
   ]
  },
  {
   "cell_type": "code",
   "execution_count": 17,
   "id": "0219dd12",
   "metadata": {},
   "outputs": [],
   "source": [
    "model_henon = lstm_model.ModeloLSTM(input_shape=(k_henon, 1),\n",
    "                                  name=config_henon['name'])\n",
    "\n",
    "model_henon.criar_modelo(n_units=config_henon[\"n_units\"],\n",
    "                         init_mode=config_henon[\"init_mode\"])\n",
    "\n",
    "model_henon.montar(learning_rate=config_henon[\"learning_rate\"])"
   ]
  },
  {
   "cell_type": "code",
   "execution_count": 18,
   "id": "74680256",
   "metadata": {},
   "outputs": [],
   "source": [
    "model_henon.treinar(X_treino=X_henon_treino,\n",
    "                    X_val=X_henon_val,\n",
    "                    y_treino=y_henon_treino,\n",
    "                    y_val=y_henon_val,\n",
    "                    batch_size=config_henon[\"batch_size\"],\n",
    "                    verbose=0)"
   ]
  },
  {
   "cell_type": "code",
   "execution_count": 19,
   "id": "043798a8",
   "metadata": {},
   "outputs": [],
   "source": [
    "y_henon_pred = model_henon.predicao(X_henon_teste)"
   ]
  },
  {
   "cell_type": "code",
   "execution_count": 20,
   "id": "f209051b",
   "metadata": {},
   "outputs": [
    {
     "name": "stdout",
     "output_type": "stream",
     "text": [
      "MSE = 0.0002237542973260078\n"
     ]
    }
   ],
   "source": [
    "mse = mean_squared_error(y_henon_teste, y_henon_pred)\n",
    "print(\"MSE = \" + str(mse))"
   ]
  },
  {
   "cell_type": "markdown",
   "id": "b2169698",
   "metadata": {},
   "source": [
    "### Mapa logístico"
   ]
  },
  {
   "cell_type": "code",
   "execution_count": 43,
   "id": "d3145c79",
   "metadata": {},
   "outputs": [],
   "source": [
    "model_logistic = lstm_model.ModeloLSTM(input_shape=(k_logistic, 1),\n",
    "                                  name=config_logistic['name'])\n",
    "\n",
    "model_logistic.criar_modelo(n_units=config_logistic[\"n_units\"],\n",
    "                         init_mode=config_logistic[\"init_mode\"])\n",
    "\n",
    "model_logistic.montar(learning_rate=config_logistic[\"learning_rate\"])"
   ]
  },
  {
   "cell_type": "code",
   "execution_count": 44,
   "id": "9baba264",
   "metadata": {},
   "outputs": [],
   "source": [
    "model_logistic.treinar(X_treino=X_logistic_treino,\n",
    "                    X_val=X_logistic_val,\n",
    "                    y_treino=y_logistic_treino,\n",
    "                    y_val=y_logistic_val,\n",
    "                    batch_size=config_logistic[\"batch_size\"],\n",
    "                    verbose=0)"
   ]
  },
  {
   "cell_type": "code",
   "execution_count": 45,
   "id": "e2ca3928",
   "metadata": {},
   "outputs": [],
   "source": [
    "y_logistic_pred = model_logistic.predicao(X_logistic_teste)"
   ]
  },
  {
   "cell_type": "code",
   "execution_count": 46,
   "id": "e4e64e25",
   "metadata": {},
   "outputs": [
    {
     "name": "stdout",
     "output_type": "stream",
     "text": [
      "MSE = 0.0001253423714256782\n"
     ]
    }
   ],
   "source": [
    "mse = mean_squared_error(y_logistic_teste, y_logistic_pred)\n",
    "print(\"MSE = \" + str(mse))"
   ]
  },
  {
   "cell_type": "markdown",
   "id": "bbb046c6",
   "metadata": {},
   "source": [
    "### Sistema de Lorenz"
   ]
  },
  {
   "cell_type": "code",
   "execution_count": 18,
   "id": "b8d9c3cc",
   "metadata": {},
   "outputs": [],
   "source": [
    "model_lorenz = lstm_model.ModeloLSTM(input_shape=(k_lorenz, 1),\n",
    "                                  name=config_lorenz['name'])\n",
    "\n",
    "model_lorenz.criar_modelo(n_units=config_lorenz[\"n_units\"],\n",
    "                         init_mode=config_lorenz[\"init_mode\"])\n",
    "\n",
    "model_lorenz.montar(learning_rate=config_lorenz[\"learning_rate\"])"
   ]
  },
  {
   "cell_type": "code",
   "execution_count": 19,
   "id": "13f8e4b8",
   "metadata": {},
   "outputs": [],
   "source": [
    "model_lorenz.treinar(X_treino=X_lorenz_treino,\n",
    "                    X_val=X_lorenz_val,\n",
    "                    y_treino=y_lorenz_treino,\n",
    "                    y_val=y_lorenz_val,\n",
    "                    batch_size=config_lorenz[\"batch_size\"],\n",
    "                    verbose=0)"
   ]
  },
  {
   "cell_type": "code",
   "execution_count": 20,
   "id": "26f75332",
   "metadata": {},
   "outputs": [],
   "source": [
    "y_lorenz_pred = model_lorenz.predicao(X_lorenz_teste, scaler=scaler)"
   ]
  },
  {
   "cell_type": "code",
   "execution_count": 25,
   "id": "9b290208",
   "metadata": {},
   "outputs": [
    {
     "name": "stdout",
     "output_type": "stream",
     "text": [
      "MSE = 0.0011131100072879453\n"
     ]
    }
   ],
   "source": [
    "mse = mean_squared_error(scaler.inverse_transform(y_lorenz_teste), y_lorenz_pred)\n",
    "print(\"MSE = \" + str(mse))"
   ]
  },
  {
   "cell_type": "markdown",
   "id": "ed841209",
   "metadata": {},
   "source": [
    "### Equações de Mackey-Glass"
   ]
  },
  {
   "cell_type": "code",
   "execution_count": 29,
   "id": "4803f1df",
   "metadata": {},
   "outputs": [],
   "source": [
    "model_mackeyglass = lstm_model.ModeloLSTM(input_shape=(k_mackeyglass, 1),\n",
    "                                  name=config_mackeyglass['name'])\n",
    "\n",
    "model_mackeyglass.criar_modelo(n_units=config_mackeyglass[\"n_units\"],\n",
    "                         init_mode=config_mackeyglass[\"init_mode\"])\n",
    "\n",
    "model_mackeyglass.montar(learning_rate=config_mackeyglass[\"learning_rate\"])"
   ]
  },
  {
   "cell_type": "code",
   "execution_count": 30,
   "id": "413faa19",
   "metadata": {},
   "outputs": [],
   "source": [
    "model_mackeyglass.treinar(X_treino=X_mackeyglass_treino,\n",
    "                    X_val=X_mackeyglass_val,\n",
    "                    y_treino=y_mackeyglass_treino,\n",
    "                    y_val=y_mackeyglass_val,\n",
    "                    batch_size=config_mackeyglass[\"batch_size\"],\n",
    "                    verbose=0)"
   ]
  },
  {
   "cell_type": "code",
   "execution_count": 31,
   "id": "5dcf725d",
   "metadata": {},
   "outputs": [],
   "source": [
    "y_mackeyglass_pred = model_mackeyglass.predicao(X_mackeyglass_teste)"
   ]
  },
  {
   "cell_type": "code",
   "execution_count": 32,
   "id": "8616bf58",
   "metadata": {},
   "outputs": [
    {
     "name": "stdout",
     "output_type": "stream",
     "text": [
      "MSE = 3.6546855625714186e-05\n"
     ]
    }
   ],
   "source": [
    "mse = mean_squared_error(y_mackeyglass_teste, y_mackeyglass_pred)\n",
    "print(\"MSE = \" + str(mse))"
   ]
  },
  {
   "cell_type": "markdown",
   "id": "5f41e295",
   "metadata": {},
   "source": [
    "## 6. Salvando os dados"
   ]
  },
  {
   "cell_type": "markdown",
   "id": "3a2d5948",
   "metadata": {},
   "source": [
    "### Mapa de Hénon"
   ]
  },
  {
   "cell_type": "code",
   "execution_count": 47,
   "id": "b46bb7d1",
   "metadata": {},
   "outputs": [],
   "source": [
    "n_henon_teste = n_henon[-len(y_henon_pred):]\n",
    "dados_henon = np.column_stack((y_henon_pred, n_henon_teste))\n",
    "dados_henon = pd.DataFrame(dados_henon, columns=['x', 'n'])\n",
    "dados_henon.to_csv('../../data/predictions/lstm/henon.csv', index = False, header=True)"
   ]
  },
  {
   "cell_type": "markdown",
   "id": "e4ce243e",
   "metadata": {},
   "source": [
    "### Mapa logístico"
   ]
  },
  {
   "cell_type": "code",
   "execution_count": 48,
   "id": "65b2cf42",
   "metadata": {},
   "outputs": [],
   "source": [
    "n_logistic_teste = n_logistic[-len(y_logistic_pred):]\n",
    "dados_logistic = np.column_stack((y_logistic_pred, n_logistic_teste))\n",
    "dados_logistic = pd.DataFrame(dados_logistic, columns=['x', 'n'])\n",
    "dados_logistic.to_csv('../../data/predictions/lstm/logistic.csv', index = False, header=True)"
   ]
  },
  {
   "cell_type": "markdown",
   "id": "c56b408e",
   "metadata": {},
   "source": [
    "### Sistema de Lorenz"
   ]
  },
  {
   "cell_type": "code",
   "execution_count": 26,
   "id": "353c918b",
   "metadata": {},
   "outputs": [],
   "source": [
    "n_lorenz_teste = t_lorenz[-len(y_lorenz_pred):]\n",
    "dados_lorenz = np.column_stack((y_lorenz_pred, n_lorenz_teste))\n",
    "dados_lorenz = pd.DataFrame(dados_lorenz, columns=['x', 't'])\n",
    "dados_lorenz.to_csv('../../data/predictions/lstm/lorenz.csv', index = False, header=True)"
   ]
  },
  {
   "cell_type": "markdown",
   "id": "cc74bc42",
   "metadata": {},
   "source": [
    "### Equações de Mackey-Glass"
   ]
  },
  {
   "cell_type": "code",
   "execution_count": 50,
   "id": "483b3a24",
   "metadata": {},
   "outputs": [],
   "source": [
    "n_mackeyglass_teste = t_mackeyglass[-len(y_mackeyglass_pred):]\n",
    "dados_mackeyglass = np.column_stack((y_mackeyglass_pred, n_mackeyglass_teste))\n",
    "dados_mackeyglass = pd.DataFrame(dados_mackeyglass, columns=['x', 't'])\n",
    "dados_mackeyglass.to_csv('../../data/predictions/lstm/mackeyglass.csv', index = False, header=True)"
   ]
  },
  {
   "cell_type": "markdown",
   "id": "5d89df6a",
   "metadata": {},
   "source": [
    "## 7. Salvando os modelos"
   ]
  },
  {
   "cell_type": "code",
   "execution_count": 51,
   "id": "69afd69d",
   "metadata": {},
   "outputs": [
    {
     "name": "stdout",
     "output_type": "stream",
     "text": [
      "O modelo foi salvo!\n",
      "O modelo foi salvo!\n",
      "O modelo foi salvo!\n",
      "O modelo foi salvo!\n"
     ]
    }
   ],
   "source": [
    "model_henon.salvar(\"../../models/lstm/lstm-henon.h5\")\n",
    "model_logistic.salvar(\"../../models/lstm/lstm-logistic.h5\")\n",
    "model_lorenz.salvar(\"../../models/lstm/lstm-lorenz.h5\")\n",
    "model_mackeyglass.salvar(\"../../models/lstm/lstm-mackeyglass.h5\")"
   ]
  },
  {
   "cell_type": "code",
   "execution_count": null,
   "id": "a4515766",
   "metadata": {},
   "outputs": [],
   "source": []
  }
 ],
 "metadata": {
  "kernelspec": {
   "display_name": "Python 3",
   "language": "python",
   "name": "python3"
  },
  "language_info": {
   "codemirror_mode": {
    "name": "ipython",
    "version": 3
   },
   "file_extension": ".py",
   "mimetype": "text/x-python",
   "name": "python",
   "nbconvert_exporter": "python",
   "pygments_lexer": "ipython3",
   "version": "3.8.0"
  }
 },
 "nbformat": 4,
 "nbformat_minor": 5
}
