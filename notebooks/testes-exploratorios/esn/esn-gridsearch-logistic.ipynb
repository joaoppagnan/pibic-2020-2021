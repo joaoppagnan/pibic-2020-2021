{
 "cells": [
  {
   "cell_type": "markdown",
   "id": "electrical-amplifier",
   "metadata": {},
   "source": [
    "# Implementando uma ESN com Grid Search para escolher melhor os parâmetros no cenário do mapa logístico"
   ]
  },
  {
   "cell_type": "markdown",
   "id": "disciplinary-processor",
   "metadata": {},
   "source": [
    "## 1. Importando as bibliotecas necessárias"
   ]
  },
  {
   "cell_type": "markdown",
   "id": "dental-helena",
   "metadata": {},
   "source": [
    "### 1.1 Bibliotecas gerais"
   ]
  },
  {
   "cell_type": "code",
   "execution_count": 1,
   "id": "conditional-security",
   "metadata": {},
   "outputs": [],
   "source": [
    "%matplotlib widget\n",
    "import numpy as np\n",
    "import pandas as pd\n",
    "import matplotlib.pyplot as plt\n",
    "import seaborn as sns \n",
    "\n",
    "sns.set_style(\"ticks\")\n",
    "plt.rcParams['savefig.dpi'] = 200\n",
    "plt.rcParams[\"figure.dpi\"] = 125\n",
    "\n",
    "plt.rcParams.update({\n",
    "    \"text.usetex\": True,\n",
    "    \"font.family\": \"serif\",\n",
    "    \"font.serif\": [\"Palatino\"],\n",
    "})"
   ]
  },
  {
   "cell_type": "markdown",
   "id": "embedded-guide",
   "metadata": {},
   "source": [
    "### 1.2 Bibliotecas dos sistemas caóticos"
   ]
  },
  {
   "cell_type": "code",
   "execution_count": 2,
   "id": "every-google",
   "metadata": {},
   "outputs": [],
   "source": [
    "from pibic2020.tools import timeseries\n",
    "from pibic2020.data import logistic"
   ]
  },
  {
   "cell_type": "markdown",
   "id": "gentle-phoenix",
   "metadata": {},
   "source": [
    "### 1.3 *Gridsearch* na ESN"
   ]
  },
  {
   "cell_type": "code",
   "execution_count": 3,
   "id": "numeric-tractor",
   "metadata": {},
   "outputs": [],
   "source": [
    "from pibic2020.models import esn_model\n",
    "from sklearn.model_selection import GridSearchCV\n",
    "from sklearn.model_selection import TimeSeriesSplit "
   ]
  },
  {
   "cell_type": "markdown",
   "id": "neither-education",
   "metadata": {},
   "source": [
    "## 2. Gerando a série temporal do mapa logístico"
   ]
  },
  {
   "cell_type": "markdown",
   "id": "supposed-array",
   "metadata": {},
   "source": [
    "Os valores para os parâmetros das equações serão os \"básicos\" apresentados no *paper* original. Utilizaremos  $r = 3.86$, o que faz com que o sistema esteja em caos."
   ]
  },
  {
   "cell_type": "code",
   "execution_count": 4,
   "id": "serious-isolation",
   "metadata": {},
   "outputs": [],
   "source": [
    "x_inicial = 0.5\n",
    "n_inicial = 0\n",
    "n_iteracoes = 5000\n",
    "r=3.86\n",
    "estados = np.array([x_inicial, n_inicial])"
   ]
  },
  {
   "cell_type": "code",
   "execution_count": 5,
   "id": "functioning-likelihood",
   "metadata": {},
   "outputs": [],
   "source": [
    "mapa = logistic.MapaLogistico(estado_inicial=estados, r=r)"
   ]
  },
  {
   "cell_type": "code",
   "execution_count": 6,
   "id": "documented-settlement",
   "metadata": {},
   "outputs": [],
   "source": [
    "estados = mapa.simular(n_iteracoes)"
   ]
  },
  {
   "cell_type": "code",
   "execution_count": 7,
   "id": "biological-printing",
   "metadata": {},
   "outputs": [],
   "source": [
    "x = estados[:, 0]\n",
    "n = estados[:, 1]"
   ]
  },
  {
   "cell_type": "markdown",
   "id": "center-liechtenstein",
   "metadata": {},
   "source": [
    "### 2.1 Dividindo em um conjunto de treinamento e de teste, para K = 4 e L = 3"
   ]
  },
  {
   "cell_type": "code",
   "execution_count": 8,
   "id": "saving-craps",
   "metadata": {},
   "outputs": [],
   "source": [
    "K = 4\n",
    "L = 3\n",
    "tam_teste = 0.15"
   ]
  },
  {
   "cell_type": "code",
   "execution_count": 9,
   "id": "interstate-gross",
   "metadata": {},
   "outputs": [],
   "source": [
    "serie_temporal = timeseries.SerieTemporal(x, K=K, L=L)"
   ]
  },
  {
   "cell_type": "code",
   "execution_count": 10,
   "id": "cultural-costume",
   "metadata": {},
   "outputs": [],
   "source": [
    "X_treino, X_teste, y_treino, y_teste = serie_temporal.dividir_treino_teste(tam_teste)"
   ]
  },
  {
   "cell_type": "markdown",
   "id": "mature-pizza",
   "metadata": {},
   "source": [
    "## 3. Definindo o modelo para a ESN e executando os Gridsearches"
   ]
  },
  {
   "cell_type": "code",
   "execution_count": 11,
   "id": "empirical-constitutional",
   "metadata": {},
   "outputs": [],
   "source": [
    "holdout = TimeSeriesSplit(n_splits=4, test_size=int(0.1*len(y_treino)), gap=0)"
   ]
  },
  {
   "cell_type": "markdown",
   "id": "duplicate-browse",
   "metadata": {},
   "source": [
    "### 3.1 Criando o objeto da ESN"
   ]
  },
  {
   "cell_type": "code",
   "execution_count": 12,
   "id": "executed-atlantic",
   "metadata": {},
   "outputs": [],
   "source": [
    "esn = esn_model.ModeloESN()"
   ]
  },
  {
   "cell_type": "markdown",
   "id": "atomic-basketball",
   "metadata": {},
   "source": [
    "Utilizaremos os seguintes parâmetros no *Grid Search*:"
   ]
  },
  {
   "cell_type": "code",
   "execution_count": 13,
   "id": "painful-intersection",
   "metadata": {},
   "outputs": [],
   "source": [
    "spectral_radius = [[0.1], [0.2], [0.3], [0.4], [0.5],\n",
    "                   [0.6], [0.7], [0.8], [0.9], [0.95],\n",
    "                   [0.96], [0.97], [0.98], [0.99], [1]]\n",
    "\n",
    "n_neurons = [30, 50, 70, 90, 100, 120, 140, 160, 180, 200, 240, 280, 320, 360, 400, 440, 480, 500]"
   ]
  },
  {
   "cell_type": "markdown",
   "id": "visible-amendment",
   "metadata": {},
   "source": [
    "Para facilitar, dividiremos esse processo em etapas."
   ]
  },
  {
   "cell_type": "markdown",
   "id": "respected-former",
   "metadata": {},
   "source": [
    "### 3.2 Definindo e executando o primeiro *Grid Search*"
   ]
  },
  {
   "cell_type": "markdown",
   "id": "immune-prize",
   "metadata": {},
   "source": [
    "Primeiro, avaliaremos o conjunto de *n_neurons* com o *spectral_radius*."
   ]
  },
  {
   "cell_type": "code",
   "execution_count": 14,
   "id": "attractive-penalty",
   "metadata": {},
   "outputs": [],
   "source": [
    "param_grid_1 = dict(spectral_radius=spectral_radius,\n",
    "                    n_neurons=n_neurons)"
   ]
  },
  {
   "cell_type": "code",
   "execution_count": 15,
   "id": "macro-sellers",
   "metadata": {},
   "outputs": [],
   "source": [
    "grid = GridSearchCV(estimator=esn, param_grid=param_grid_1, n_jobs=-1, cv=holdout, scoring='neg_mean_squared_error', verbose=1)"
   ]
  },
  {
   "cell_type": "code",
   "execution_count": 16,
   "id": "official-interim",
   "metadata": {},
   "outputs": [
    {
     "name": "stdout",
     "output_type": "stream",
     "text": [
      "Fitting 4 folds for each of 270 candidates, totalling 1080 fits\n"
     ]
    }
   ],
   "source": [
    "grid_result = grid.fit(X_treino, y_treino)"
   ]
  },
  {
   "cell_type": "code",
   "execution_count": 17,
   "id": "governmental-convenience",
   "metadata": {},
   "outputs": [
    {
     "name": "stdout",
     "output_type": "stream",
     "text": [
      "Best: -0.000001 using {'n_neurons': 500, 'spectral_radius': [0.1]}\n"
     ]
    }
   ],
   "source": [
    "print(\"Best: %f using %s\" % (grid_result.best_score_, grid_result.best_params_))"
   ]
  },
  {
   "cell_type": "markdown",
   "id": "offensive-compiler",
   "metadata": {},
   "source": [
    "## Teste com o melhor modelo"
   ]
  },
  {
   "cell_type": "code",
   "execution_count": 11,
   "id": "reliable-senate",
   "metadata": {},
   "outputs": [],
   "source": [
    "esn = esn_model.ModeloESN(n_neurons=500, spectral_radius=[0.1])"
   ]
  },
  {
   "cell_type": "code",
   "execution_count": 12,
   "id": "constant-brazil",
   "metadata": {},
   "outputs": [
    {
     "data": {
      "text/plain": [
       "ModeloESN(n_neurons=500, spectral_radius=[0.1])"
      ]
     },
     "execution_count": 12,
     "metadata": {},
     "output_type": "execute_result"
    }
   ],
   "source": [
    "esn.fit(X_treino, y_treino)"
   ]
  },
  {
   "cell_type": "code",
   "execution_count": 13,
   "id": "equipped-thumb",
   "metadata": {},
   "outputs": [],
   "source": [
    "y_pred = esn.predict(X_teste)"
   ]
  },
  {
   "cell_type": "code",
   "execution_count": 14,
   "id": "hired-values",
   "metadata": {},
   "outputs": [
    {
     "data": {
      "application/vnd.jupyter.widget-view+json": {
       "model_id": "b4589f5b8acb49978095d6b3689be072",
       "version_major": 2,
       "version_minor": 0
      },
      "text/plain": [
       "Canvas(toolbar=Toolbar(toolitems=[('Home', 'Reset original view', 'home', 'home'), ('Back', 'Back to previous …"
      ]
     },
     "metadata": {},
     "output_type": "display_data"
    }
   ],
   "source": [
    "fig, ax = plt.subplots()\n",
    "ax.plot(n[len(n)-int(len(n)*tam_teste):,], y_teste, color='Crimson', label='Valor real', linewidth=0.9)\n",
    "ax.plot(n[len(n)-int(len(n)*tam_teste):,], y_pred, color='DimGrey', label='ESN', linewidth=0.9)\n",
    "\n",
    "ax.set_title(\"Comparação da predição da ESN com o valor real do cenário de Mackey-Glass\\n utilizando a rede recorrente ótima no conjunto de teste\")\n",
    "ax.set_ylabel('$x(t)$')\n",
    "ax.set_xlabel('$t$')\n",
    "ax.set_xlim(4900, 5000)\n",
    "    \n",
    "ax.grid(True)\n",
    "sns.despine()\n",
    "ax.legend()\n",
    "\n",
    "plt.show()"
   ]
  },
  {
   "cell_type": "code",
   "execution_count": 15,
   "id": "front-overhead",
   "metadata": {},
   "outputs": [],
   "source": [
    "from sklearn.metrics import mean_squared_error"
   ]
  },
  {
   "cell_type": "code",
   "execution_count": 16,
   "id": "above-shade",
   "metadata": {},
   "outputs": [
    {
     "data": {
      "text/plain": [
       "4.4560696463548195e-07"
      ]
     },
     "execution_count": 16,
     "metadata": {},
     "output_type": "execute_result"
    }
   ],
   "source": [
    "mean_squared_error(y_pred, y_teste)"
   ]
  },
  {
   "cell_type": "code",
   "execution_count": null,
   "id": "former-windsor",
   "metadata": {},
   "outputs": [],
   "source": []
  }
 ],
 "metadata": {
  "kernelspec": {
   "display_name": "pibic2020-env",
   "language": "python",
   "name": "pibic2020-env"
  },
  "language_info": {
   "codemirror_mode": {
    "name": "ipython",
    "version": 3
   },
   "file_extension": ".py",
   "mimetype": "text/x-python",
   "name": "python",
   "nbconvert_exporter": "python",
   "pygments_lexer": "ipython3",
   "version": "3.8.10"
  }
 },
 "nbformat": 4,
 "nbformat_minor": 5
}
