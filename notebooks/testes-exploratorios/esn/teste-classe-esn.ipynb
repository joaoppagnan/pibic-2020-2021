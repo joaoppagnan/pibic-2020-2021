{
 "cells": [
  {
   "cell_type": "markdown",
   "metadata": {},
   "source": [
    "# Implementando uma ESN no Sistema de Lorenz"
   ]
  },
  {
   "cell_type": "markdown",
   "metadata": {},
   "source": [
    "## 1. Importando as bibliotecas necessárias"
   ]
  },
  {
   "cell_type": "markdown",
   "metadata": {},
   "source": [
    "### 1.1 Bibliotecas gerais"
   ]
  },
  {
   "cell_type": "code",
   "execution_count": 5,
   "metadata": {},
   "outputs": [],
   "source": [
    "%matplotlib widget\n",
    "import numpy as np\n",
    "import pandas as pd\n",
    "import matplotlib.pyplot as plt\n",
    "import seaborn as sns \n",
    "\n",
    "sns.set_style(\"ticks\")\n",
    "plt.rcParams['savefig.dpi'] = 200\n",
    "plt.rcParams[\"figure.dpi\"] = 125\n",
    "\n",
    "plt.rcParams.update({\n",
    "    \"text.usetex\": True,\n",
    "    \"font.family\": \"serif\",\n",
    "    \"font.serif\": [\"Palatino\"],\n",
    "})"
   ]
  },
  {
   "cell_type": "markdown",
   "metadata": {},
   "source": [
    "### 1.2 Class para ESN"
   ]
  },
  {
   "cell_type": "code",
   "execution_count": 6,
   "metadata": {},
   "outputs": [],
   "source": [
    "# pibic2020.models.esn_model.py\n",
    "\n",
    "import numpy as np\n",
    "from numpy.linalg import pinv, eigvals, inv\n",
    "\n",
    "class ModeloESN:\n",
    "    \n",
    "    def __init__(self, n_neurons, leaky_values, spectral_radius, scale):\n",
    "        \"\"\"\n",
    "        Descrição:\n",
    "        ----------\n",
    "        Construtor da classe 'ModeloESN'\n",
    "\n",
    "        Parâmetros:\n",
    "        -----------\n",
    "        num_neuronios: int\n",
    "            Número de neurônios por reservatório\n",
    "        leaky_values: np.ndarray\n",
    "            Lista com os coeficientes de vazamento\n",
    "        spectral_radius: np.ndarray\n",
    "            Lista com os raios espectrais\n",
    "        scale: int ou float\n",
    "            Valor absoluto máximo aceito para os pesos de entrada\n",
    "\n",
    "        Retorna:\n",
    "        --------\n",
    "        Nada\n",
    "        \"\"\"\n",
    "\n",
    "        if not (type(n_neurons) is int):\n",
    "            raise TypeError(\"O número de neurônios deve ser um inteiro!\")\n",
    "\n",
    "        if not (type(leaky_values) is np.ndarray):\n",
    "            raise TypeError(\"A lista com os coeficientes de vazamento deve ser um array do numpy!\")   \n",
    "\n",
    "        if not (type(spectral_radius) is np.ndarray):\n",
    "            raise TypeError(\"A lista com os raios espectrais deve ser um array do numpy!\")                 \n",
    "\n",
    "        self._n_neurons = n_neurons\n",
    "        self._n_reserv = 1\n",
    "        self._leaky_values = leaky_values\n",
    "        self._spectral_radius = spectral_radius\n",
    "        self._win_max = scale\n",
    "\n",
    "    def treinar(self, X_treino, y_treino, n_transitory_samples):\n",
    "        \"\"\"\n",
    "        Descrição:\n",
    "        ----------\n",
    "        Constrói as matrizes aleatórias do reservatório, computa a matriz com os estados da rede\n",
    "        e obtém a matriz de pesos de saída através da solução de quadrados mínimos (pseudo-inversa)\n",
    "\n",
    "        Parâmetros:\n",
    "        -----------\n",
    "        X_treino: np.ndarray\n",
    "            Conjunto de entradas para o treinamento\n",
    "        y_treino: np.ndarray\n",
    "            Conjunto de saidas para o treinamento        \n",
    "        n_transitory_samples: int\n",
    "            Número de amostras para o transitório (inicializar o vetor de estado)\n",
    "\n",
    "        Retorna:\n",
    "        --------\n",
    "        Nada\n",
    "        \"\"\"\n",
    "\n",
    "        # ajusta o formato das entradas\n",
    "        X_treino = X_treino.T\n",
    "        y_treino = y_treino.T\n",
    "\n",
    "        # extrai o número de atributos de entrada e o número de padrões do conjunto de treinamento (com transitório)\n",
    "        K, n_samples = X_treino.shape\n",
    "        \n",
    "        # número de padrões efetivos do conjunto de treinamento\n",
    "        n_effective_samples = n_samples - n_transitory_samples\n",
    "        \n",
    "        # inicializa as listas que vão guardar as matrizes de pesos Win, W\n",
    "        self._W_in = []\n",
    "        self._W_reserv = []\n",
    "        \n",
    "        # inicializa a lista que vai guardar as matrizes com os estados de cada reservatório (para todos os instantes)\n",
    "        self._state_reserv = []\n",
    "        \n",
    "        # inicializa a matriz que contém a concatenação dos estados dos reservatórios\n",
    "        self._reserv_vector = np.zeros((self._n_neurons*self._n_reserv, n_effective_samples))\n",
    "        \n",
    "        for l in range(0, self._n_reserv):\n",
    "            \n",
    "            # inicializa a matriz com os estados do l-ésimo reservatório\n",
    "            layer_state = np.zeros((self._n_neurons, n_samples + 1))\n",
    "            \n",
    "            # número de entradas do reservatório l\n",
    "            if (l == 0):\n",
    "                n_layer_inputs = K\n",
    "                layer_input = X_treino\n",
    "            else:\n",
    "                n_layer_inputs = self._n_neurons\n",
    "                \n",
    "                # a entrada da l-ésima camada é o vetor de saída da (l-1)-ésima camada (excluindo o estado inicial)\n",
    "                layer_input = np.delete(self._state_reserv[l-1], 0, 1)\n",
    "            \n",
    "            # matriz de pesos de entrada (W_layer_in) do reservatório l: n_neurons x n_layer_inputs\n",
    "            W_layer_in = 2*self._win_max*np.random.rand(self._n_neurons, n_layer_inputs) - self._win_max\n",
    "            self._W_in.append(W_layer_in)\n",
    "            \n",
    "            # matriz de pesos recorrentes do reservatório l\n",
    "            W_layer = 2*np.random.rand(self._n_neurons, self._n_neurons) - 1\n",
    "            W_spectral = (1 - self._leaky_values[l])*np.eye(self._n_neurons) + self._leaky_values[l]*W_layer\n",
    "            max_eigenvalue = max(abs(eigvals(W_spectral)))\n",
    "            Ws = (self._spectral_radius[l]/max_eigenvalue)*W_spectral\n",
    "            W_layer = (1/self._leaky_values[l])*(Ws - (1 - self._leaky_values[l])*np.eye(self._n_neurons))\n",
    "            self._W_reserv.append(W_layer)\n",
    "            \n",
    "            # computa o estado do reservatório l para todos os instantes do conjunto de treinamento\n",
    "            for i in range(0, n_samples):\n",
    "                \n",
    "                layer_state[:, i + 1] = (1-self._leaky_values[l])*layer_state[:, i] + self._leaky_values[l]*np.tanh(np.matmul(self._W_in[l], layer_input[:, i]) + np.matmul(self._W_reserv[l], layer_state[:, i]))\n",
    "                    \n",
    "            self._state_reserv.append(layer_state)\n",
    "            \n",
    "        for l in range(0, self._n_reserv):           \n",
    "            # elimina a primeira coluna (estado inicial com zeros) e os primeiros n_transitory_samples estados (transitório)\n",
    "            # concatena a matriz de estados do reservatório l ao repositório completo\n",
    "            self._reserv_vector[l*self._n_neurons:(l + 1)*self._n_neurons, :] = self._state_reserv[l][:, n_transitory_samples + 1:]\n",
    "        \n",
    "        # Agora, basta computar a pseudo-inversa da matriz reserv_vector para determinar os pesos da camada de saída         \n",
    "        self._W_out = np.matmul(pinv(self._reserv_vector.T), y_treino[0, n_transitory_samples:].T)\n",
    "        self._W_out = self._W_out.T\n",
    "        pass\n",
    "\n",
    "\n",
    "    def predicao(self, X_teste, n_transitory_samples):\n",
    "        \"\"\"\n",
    "        Descrição:\n",
    "        ----------\n",
    "        Obtém as saídas da ESN para o conjunto de teste\n",
    "\n",
    "        Parâmetros:\n",
    "        -----------\n",
    "        X_teste: np.ndarray\n",
    "            Conjunto de entradas para os dados de teste\n",
    "        n_transitory_samples: int\n",
    "            número de amostras para o transitório (inicializar o vetor de estado)\n",
    "\n",
    "        Retorna:\n",
    "        --------\n",
    "        As saídas previstas\n",
    "        \"\"\"\n",
    "\n",
    "        if not (type(X_teste) is np.ndarray):\n",
    "            raise TypeError(\"Os dados de entrada de teste devem ser um array do numpy!\")\n",
    "\n",
    "        if not (type(n_transitory_samples) is int):\n",
    "            raise TypeError(\"O número de amostras para o transitório deve ser um inteiro!\") \n",
    "        \n",
    "        # ajusta o formato da entrada\n",
    "        X_teste = X_teste.T\n",
    "\n",
    "        # extrai o número de padrões do conjunto de teste\n",
    "        n_test_samples = X_teste.shape[1]\n",
    "        \n",
    "        # inicializa a matriz com os estados concatenados (partimos do último estado observado no treinamento)\n",
    "        reserv_vector_test = np.zeros((self._n_neurons*self._n_reserv, n_test_samples - n_transitory_samples))\n",
    "        \n",
    "        # inicializa a lista que vai guardar as matrizes com os estados de cada reservatório (para todos os instantes de teste)\n",
    "        state_reserv_test = []\n",
    "        \n",
    "        for l in range(0, self._n_reserv):\n",
    "            \n",
    "            # inicializa a matriz com os estados do l-ésimo reservatório (o estado inicial equivale ao último do treinamento)\n",
    "            layer_state = np.zeros((self._n_neurons, n_test_samples + 1))\n",
    "            layer_state[:, 0] = self._state_reserv[l][:, -1]\n",
    "            \n",
    "            if (l == 0):\n",
    "                layer_input = X_teste\n",
    "            else:\n",
    "                # a entrada da l-ésima camada é o vetor de saída da (l-1)-ésima camada (excluindo o estado inicial)\n",
    "                layer_input = state_reserv_test[l - 1]\n",
    "            \n",
    "            # computa o estado do reservatório l para todos os instantes do conjunto de teste\n",
    "            for i in range(0, n_test_samples):\n",
    "                layer_state[:, i + 1] = (1 - self._leaky_values[l])*layer_state[:, i] + self._leaky_values[l]*np.tanh(np.matmul(self._W_in[l], layer_input[:, i]) + np.matmul(self._W_reserv[l], layer_state[:, i]))\n",
    "                    \n",
    "            # elimina a primeira coluna (estado inicial com zeros)\n",
    "            state_reserv_test.append(np.delete(layer_state, 0, 1))\n",
    "        \n",
    "        # elimina os primeiros n_transitory_samples estados de todas as camadas\n",
    "        for l in range(0, self._n_reserv):\n",
    "            reserv_vector_test[l*self._n_neurons:(l + 1)*self._n_neurons, :] = np.delete(state_reserv_test[l], np.arange(n_transitory_samples), 1)\n",
    "            \n",
    "        # gera as saídas para o conjunto de teste\n",
    "        y_predicao = np.matmul(self._W_out, reserv_vector_test).T\n",
    "\n",
    "        return y_predicao"
   ]
  },
  {
   "cell_type": "markdown",
   "metadata": {},
   "source": [
    "### 1.3 Bibliotecas dos sistemas caóticos"
   ]
  },
  {
   "cell_type": "code",
   "execution_count": 7,
   "metadata": {},
   "outputs": [],
   "source": [
    "from pibic2020.tools import timeseries\n",
    "from pibic2020.data import lorenz"
   ]
  },
  {
   "cell_type": "markdown",
   "metadata": {},
   "source": [
    "## 2. Gerando a série temporal do sistema de Lorenz"
   ]
  },
  {
   "cell_type": "markdown",
   "metadata": {},
   "source": [
    "Os valores para os parâmetros das equações serão os \"básicos\" apresentados no *paper* original."
   ]
  },
  {
   "cell_type": "code",
   "execution_count": 8,
   "metadata": {},
   "outputs": [],
   "source": [
    "t_inicial = 0\n",
    "t_final = 50\n",
    "dt = 0.01"
   ]
  },
  {
   "cell_type": "code",
   "execution_count": 9,
   "metadata": {},
   "outputs": [],
   "source": [
    "estado_inicial = np.array([0.1, 0, 0])"
   ]
  },
  {
   "cell_type": "code",
   "execution_count": 10,
   "metadata": {},
   "outputs": [],
   "source": [
    "sis_lorenz = lorenz.SistemaLorenz(estado_inicial, dt=dt)"
   ]
  },
  {
   "cell_type": "code",
   "execution_count": 11,
   "metadata": {},
   "outputs": [],
   "source": [
    "solucoes, instantes_temporais = sis_lorenz.calcular(t_inicial = t_inicial, t_final = t_final)"
   ]
  },
  {
   "cell_type": "code",
   "execution_count": 12,
   "metadata": {},
   "outputs": [],
   "source": [
    "x = solucoes[:, 0]\n",
    "y = solucoes[:, 1]\n",
    "z = solucoes[:, 2]"
   ]
  },
  {
   "cell_type": "code",
   "execution_count": 13,
   "metadata": {},
   "outputs": [
    {
     "output_type": "display_data",
     "data": {
      "text/plain": "Canvas(toolbar=Toolbar(toolitems=[('Home', 'Reset original view', 'home', 'home'), ('Back', 'Back to previous …",
      "application/vnd.jupyter.widget-view+json": {
       "version_major": 2,
       "version_minor": 0,
       "model_id": "e201d94c09a64ff28b1c49b1c1fb5764"
      }
     },
     "metadata": {}
    }
   ],
   "source": [
    "fig, ax = plt.subplots(tight_layout=True)\n",
    "ax.set_title(\"Série temporal em $\\hat{x}$ de 0 a 50 segundos do Sistema de Lorenz\\n utilizando $\\sigma = 10$, \" + r\"$\\beta =\\frac{8}{3}$, \" + r\"$\\rho=28$, com \" + \"$x(0) =$ \" + str(estado_inicial[0]) + \", $y(0) = $ \" + str(estado_inicial[1]) + \" e $z(0) =$ \" + str(estado_inicial[2]))\n",
    "ax.plot(instantes_temporais, x, color='DarkBlue', linewidth = 0.9)\n",
    "\n",
    "ax.set_ylabel('$x(t)$')\n",
    "ax.set_xlabel('$t$')\n",
    "ax.set_xlim(0,50)\n",
    "ax.grid(True)\n",
    "\n",
    "fig.tight_layout()\n",
    "sns.despine()\n",
    "plt.show()"
   ]
  },
  {
   "cell_type": "markdown",
   "metadata": {},
   "source": [
    "### 2.1 Dividindo em um conjunto de treinamento e de teste, para K = 4 e L = 3"
   ]
  },
  {
   "cell_type": "code",
   "execution_count": 14,
   "metadata": {},
   "outputs": [],
   "source": [
    "K = 4\n",
    "L = 3\n",
    "tam_teste = 0.15"
   ]
  },
  {
   "cell_type": "code",
   "execution_count": 15,
   "metadata": {},
   "outputs": [],
   "source": [
    "serie_temporal = timeseries.SerieTemporal(x, K=K, L=L)"
   ]
  },
  {
   "cell_type": "code",
   "execution_count": 16,
   "metadata": {},
   "outputs": [],
   "source": [
    "X_treino, X_teste, y_treino, y_teste = serie_temporal.dividir_treino_teste(tam_teste)"
   ]
  },
  {
   "cell_type": "markdown",
   "metadata": {},
   "source": [
    "## 3. Definindo o modelo ESN, treinando e realizando a predição"
   ]
  },
  {
   "cell_type": "code",
   "execution_count": 17,
   "metadata": {},
   "outputs": [],
   "source": [
    "n_neurons = 300\n",
    "leaky_values = np.array([0.9, 0.9, 0.9, 0.9, 0.9, 0.9])\n",
    "spectral_radius = np.array([1, 1, 1, 1, 1, 1])\n",
    "scale = 1"
   ]
  },
  {
   "cell_type": "code",
   "execution_count": 18,
   "metadata": {},
   "outputs": [],
   "source": [
    "esn = ModeloESN(n_neurons, leaky_values, spectral_radius, scale)"
   ]
  },
  {
   "cell_type": "markdown",
   "metadata": {},
   "source": [
    "### Treinando"
   ]
  },
  {
   "cell_type": "code",
   "execution_count": 19,
   "metadata": {},
   "outputs": [],
   "source": [
    "n_transitory_samples = int(0.1*len(X_treino))"
   ]
  },
  {
   "cell_type": "code",
   "execution_count": 20,
   "metadata": {},
   "outputs": [],
   "source": [
    "esn.treinar(X_treino, y_treino, n_transitory_samples)"
   ]
  },
  {
   "cell_type": "code",
   "execution_count": 21,
   "metadata": {},
   "outputs": [],
   "source": [
    "y_predicao = esn.predicao(X_teste, int(0.1*len(X_teste)))"
   ]
  },
  {
   "cell_type": "markdown",
   "metadata": {},
   "source": [
    "### Colocando num gráfico"
   ]
  },
  {
   "cell_type": "code",
   "execution_count": 22,
   "metadata": {},
   "outputs": [
    {
     "output_type": "display_data",
     "data": {
      "text/plain": "Canvas(toolbar=Toolbar(toolitems=[('Home', 'Reset original view', 'home', 'home'), ('Back', 'Back to previous …",
      "application/vnd.jupyter.widget-view+json": {
       "version_major": 2,
       "version_minor": 0,
       "model_id": "71e772ba23f54947b4c6a31dc8404421"
      }
     },
     "metadata": {}
    }
   ],
   "source": [
    "fig, ax = plt.subplots()\n",
    "ax.plot(instantes_temporais[len(instantes_temporais)-int(len(instantes_temporais)*tam_teste)+int(0.1*len(X_teste)):,], y_teste[int(0.1*len(X_teste)):], color='DarkBlue', label='Valor real')\n",
    "ax.plot(instantes_temporais[len(instantes_temporais)-int(len(instantes_temporais)*tam_teste)+int(0.1*len(X_teste)):,], y_predicao, color='Gray', label='ESN')\n",
    "\n",
    "ax.set_title(\"Comparação da predição da ESN com o valor real do sistema de Lorenz\")\n",
    "ax.set_ylabel('$x(t)$')\n",
    "ax.set_xlabel('$t$')\n",
    "ax.set_xlim(43.5, 50)\n",
    "    \n",
    "ax.grid(True)\n",
    "sns.despine()\n",
    "ax.legend()\n",
    "\n",
    "plt.show()"
   ]
  },
  {
   "cell_type": "markdown",
   "metadata": {},
   "source": [
    "### Erro Quadrático Médio"
   ]
  },
  {
   "cell_type": "code",
   "execution_count": 23,
   "metadata": {},
   "outputs": [],
   "source": [
    "from sklearn.metrics import mean_squared_error"
   ]
  },
  {
   "cell_type": "code",
   "execution_count": 24,
   "metadata": {},
   "outputs": [
    {
     "output_type": "stream",
     "name": "stdout",
     "text": [
      "MSE = 0.003150620075175767\n"
     ]
    }
   ],
   "source": [
    "mse = mean_squared_error(y_teste[int(0.1*len(X_teste)):], y_predicao)\n",
    "print(\"MSE = \" + str(mse))"
   ]
  },
  {
   "cell_type": "code",
   "execution_count": null,
   "metadata": {},
   "outputs": [],
   "source": []
  }
 ],
 "metadata": {
  "kernelspec": {
   "name": "python3",
   "display_name": "Python 3.8.5 64-bit ('pibic2020-env': venv)"
  },
  "language_info": {
   "codemirror_mode": {
    "name": "ipython",
    "version": 3
   },
   "file_extension": ".py",
   "mimetype": "text/x-python",
   "name": "python",
   "nbconvert_exporter": "python",
   "pygments_lexer": "ipython3",
   "version": "3.8.5"
  },
  "interpreter": {
   "hash": "1c73b65f1466549bfc741a37b577edb55fb777ecaa1f1b9885584a42de505515"
  }
 },
 "nbformat": 4,
 "nbformat_minor": 5
}