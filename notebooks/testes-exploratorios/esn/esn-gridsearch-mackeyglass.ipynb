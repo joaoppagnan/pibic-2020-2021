{
 "cells": [
  {
   "cell_type": "markdown",
   "source": [
    "# Implementando uma ESN com Grid Search para escolher melhor os parâmetros no cenário de Mackey-Glass"
   ],
   "metadata": {}
  },
  {
   "cell_type": "markdown",
   "source": [
    "## 1. Importando as bibliotecas necessárias"
   ],
   "metadata": {}
  },
  {
   "cell_type": "markdown",
   "source": [
    "### 1.1 Bibliotecas gerais"
   ],
   "metadata": {}
  },
  {
   "cell_type": "code",
   "execution_count": 1,
   "source": [
    "%matplotlib widget\n",
    "import numpy as np\n",
    "import pandas as pd\n",
    "import matplotlib.pyplot as plt\n",
    "import seaborn as sns \n",
    "\n",
    "sns.set_style(\"ticks\")\n",
    "plt.rcParams['savefig.dpi'] = 200\n",
    "plt.rcParams[\"figure.dpi\"] = 125\n",
    "\n",
    "plt.rcParams.update({\n",
    "    \"text.usetex\": True,\n",
    "    \"font.family\": \"serif\",\n",
    "    \"font.serif\": [\"Palatino\"],\n",
    "})"
   ],
   "outputs": [],
   "metadata": {}
  },
  {
   "cell_type": "markdown",
   "source": [
    "### 1.2 Bibliotecas dos sistemas caóticos"
   ],
   "metadata": {}
  },
  {
   "cell_type": "code",
   "execution_count": 2,
   "source": [
    "from pibic2020.tools import timeseries\n",
    "from pibic2020.data import mackeyglass"
   ],
   "outputs": [],
   "metadata": {}
  },
  {
   "cell_type": "markdown",
   "source": [
    "### 1.3 *Gridsearch* na ESN"
   ],
   "metadata": {}
  },
  {
   "cell_type": "code",
   "execution_count": 3,
   "source": [
    "from pibic2020.models import esn_model\n",
    "from sklearn.model_selection import GridSearchCV\n",
    "from sklearn.model_selection import TimeSeriesSplit "
   ],
   "outputs": [],
   "metadata": {}
  },
  {
   "cell_type": "markdown",
   "source": [
    "## 2. Gerando a série temporal do cenário de Mackey-Glass"
   ],
   "metadata": {}
  },
  {
   "cell_type": "markdown",
   "source": [
    "Os valores para os parâmetros das equações serão os \"básicos\" apresentados no *paper* original."
   ],
   "metadata": {}
  },
  {
   "cell_type": "code",
   "execution_count": 4,
   "source": [
    "t_inicial = 0\n",
    "t_final = 5000\n",
    "tau = 22\n",
    "n = 10\n",
    "gamma = 0.1\n",
    "beta = 0.2\n",
    "theta = 1"
   ],
   "outputs": [],
   "metadata": {}
  },
  {
   "cell_type": "code",
   "execution_count": 5,
   "source": [
    "macglass = mackeyglass.MackeyGlass(tau=tau, gamma=gamma, beta=beta, n=n, theta=theta)"
   ],
   "outputs": [],
   "metadata": {}
  },
  {
   "cell_type": "code",
   "execution_count": 6,
   "source": [
    "x, instantes_temporais = macglass.calcular(t_inicial = t_inicial, t_final = t_final)"
   ],
   "outputs": [],
   "metadata": {}
  },
  {
   "cell_type": "markdown",
   "source": [
    "### 2.1 Dividindo em um conjunto de treinamento e de teste, para K = 4 e L = 3"
   ],
   "metadata": {}
  },
  {
   "cell_type": "code",
   "execution_count": 7,
   "source": [
    "K = 4\n",
    "L = 3\n",
    "tam_teste = 0.15"
   ],
   "outputs": [],
   "metadata": {}
  },
  {
   "cell_type": "code",
   "execution_count": 8,
   "source": [
    "serie_temporal = timeseries.SerieTemporal(x, K=K, L=L)"
   ],
   "outputs": [],
   "metadata": {}
  },
  {
   "cell_type": "code",
   "execution_count": 9,
   "source": [
    "X_treino, X_teste, y_treino, y_teste = serie_temporal.dividir_treino_teste(tam_teste)"
   ],
   "outputs": [],
   "metadata": {}
  },
  {
   "cell_type": "markdown",
   "source": [
    "## 3. Definindo o modelo para a ESN e executando os Gridsearches"
   ],
   "metadata": {}
  },
  {
   "cell_type": "code",
   "execution_count": 11,
   "source": [
    "holdout = TimeSeriesSplit(n_splits=4, test_size=int(0.1*len(y_treino)), gap=0)"
   ],
   "outputs": [],
   "metadata": {}
  },
  {
   "cell_type": "markdown",
   "source": [
    "### 3.1 Criando o objeto da ESN"
   ],
   "metadata": {}
  },
  {
   "cell_type": "code",
   "execution_count": 13,
   "source": [
    "esn = esn_model.ModeloESN()"
   ],
   "outputs": [],
   "metadata": {}
  },
  {
   "cell_type": "markdown",
   "source": [
    "Utilizaremos os seguintes parâmetros no *Grid Search*:"
   ],
   "metadata": {}
  },
  {
   "cell_type": "code",
   "execution_count": 14,
   "source": [
    "spectral_radius = [[0.1], [0.2], [0.3], [0.4], [0.5],\n",
    "                   [0.6], [0.7], [0.8], [0.9], [0.95],\n",
    "                   [0.96], [0.97], [0.98], [0.99], [1]]\n",
    "\n",
    "n_neurons = [30, 50, 70, 90, 100, 120, 140, 160, 180, 200, 240, 280, 320, 360, 400, 440, 480, 500]"
   ],
   "outputs": [],
   "metadata": {}
  },
  {
   "cell_type": "markdown",
   "source": [
    "Para facilitar, dividiremos esse processo em etapas."
   ],
   "metadata": {}
  },
  {
   "cell_type": "markdown",
   "source": [
    "### 3.2 Definindo e executando o primeiro *Grid Search*"
   ],
   "metadata": {}
  },
  {
   "cell_type": "markdown",
   "source": [
    "Primeiro, avaliaremos o conjunto de *n_neurons* com o *spectral_radius*."
   ],
   "metadata": {}
  },
  {
   "cell_type": "code",
   "execution_count": 16,
   "source": [
    "param_grid_1 = dict(spectral_radius=spectral_radius,\n",
    "                    n_neurons=n_neurons)"
   ],
   "outputs": [],
   "metadata": {}
  },
  {
   "cell_type": "code",
   "execution_count": 17,
   "source": [
    "grid = GridSearchCV(estimator=esn, param_grid=param_grid_1, n_jobs=-1, cv=holdout, scoring='neg_mean_squared_error', verbose=1)"
   ],
   "outputs": [],
   "metadata": {}
  },
  {
   "cell_type": "code",
   "execution_count": 18,
   "source": [
    "grid_result = grid.fit(X_treino, y_treino)"
   ],
   "outputs": [
    {
     "output_type": "stream",
     "name": "stdout",
     "text": [
      "Fitting 4 folds for each of 270 candidates, totalling 1080 fits\n"
     ]
    }
   ],
   "metadata": {}
  },
  {
   "cell_type": "code",
   "execution_count": 19,
   "source": [
    "print(\"Best: %f using %s\" % (grid_result.best_score_, grid_result.best_params_))"
   ],
   "outputs": [
    {
     "output_type": "stream",
     "name": "stdout",
     "text": [
      "Best: -0.000000 using {'n_neurons': 500, 'spectral_radius': [0.4]}\n"
     ]
    }
   ],
   "metadata": {}
  },
  {
   "cell_type": "markdown",
   "source": [
    "## Teste com o melhor modelo"
   ],
   "metadata": {}
  },
  {
   "cell_type": "code",
   "execution_count": 10,
   "source": [
    "esn = esn_model.ModeloESN(n_neurons=500, spectral_radius=[0.4])"
   ],
   "outputs": [],
   "metadata": {}
  },
  {
   "cell_type": "code",
   "execution_count": 11,
   "source": [
    "esn.fit(X_treino, y_treino)"
   ],
   "outputs": [
    {
     "output_type": "execute_result",
     "data": {
      "text/plain": [
       "ModeloESN(n_neurons=500, spectral_radius=[0.4])"
      ]
     },
     "metadata": {},
     "execution_count": 11
    }
   ],
   "metadata": {}
  },
  {
   "cell_type": "code",
   "execution_count": 12,
   "source": [
    "y_pred = esn.predict(X_teste)"
   ],
   "outputs": [],
   "metadata": {}
  },
  {
   "cell_type": "code",
   "execution_count": 16,
   "source": [
    "fig, ax = plt.subplots()\n",
    "ax.plot(instantes_temporais[len(instantes_temporais)-int(len(instantes_temporais)*tam_teste):,], y_teste, color='DarkOrange', label='Valor real', linewidth=0.9)\n",
    "ax.plot(instantes_temporais[len(instantes_temporais)-int(len(instantes_temporais)*tam_teste):,], y_pred, color='DimGrey', label='ESN', linewidth=0.9)\n",
    "\n",
    "ax.set_title(\"Comparação da predição da ESN com o valor real do cenário de Mackey-Glass\\n utilizando a rede recorrente ótima no conjunto de teste\")\n",
    "ax.set_ylabel('$x(t)$')\n",
    "ax.set_xlabel('$t$')\n",
    "ax.set_xlim(4300, 5000)    \n",
    "ax.grid(True)\n",
    "sns.despine()\n",
    "ax.legend()\n",
    "\n",
    "plt.show()"
   ],
   "outputs": [
    {
     "output_type": "display_data",
     "data": {
      "text/plain": [
       "Canvas(toolbar=Toolbar(toolitems=[('Home', 'Reset original view', 'home', 'home'), ('Back', 'Back to previous …"
      ],
      "application/vnd.jupyter.widget-view+json": {
       "version_major": 2,
       "version_minor": 0,
       "model_id": "8bf39d30ffb34681a6137647a47002c0"
      }
     },
     "metadata": {}
    }
   ],
   "metadata": {}
  }
 ],
 "metadata": {
  "kernelspec": {
   "display_name": "pibic2020-env",
   "language": "python",
   "name": "pibic2020-env"
  },
  "language_info": {
   "codemirror_mode": {
    "name": "ipython",
    "version": 3
   },
   "file_extension": ".py",
   "mimetype": "text/x-python",
   "name": "python",
   "nbconvert_exporter": "python",
   "pygments_lexer": "ipython3",
   "version": "3.8.10"
  }
 },
 "nbformat": 4,
 "nbformat_minor": 5
}