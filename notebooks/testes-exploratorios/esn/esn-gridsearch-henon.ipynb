{
 "cells": [
  {
   "cell_type": "markdown",
   "id": "a4dacf12",
   "metadata": {},
   "source": [
    "# Implementando uma ESN com Grid Search para escolher melhor os parâmetros no cenário de Hénon"
   ]
  },
  {
   "cell_type": "markdown",
   "id": "87ba3418",
   "metadata": {},
   "source": [
    "## 1. Importando as bibliotecas necessárias"
   ]
  },
  {
   "cell_type": "markdown",
   "id": "b881f951",
   "metadata": {},
   "source": [
    "### 1.1 Bibliotecas gerais"
   ]
  },
  {
   "cell_type": "code",
   "execution_count": 1,
   "id": "83ccff4b",
   "metadata": {},
   "outputs": [],
   "source": [
    "%matplotlib widget\n",
    "import numpy as np\n",
    "import pandas as pd\n",
    "import matplotlib.pyplot as plt\n",
    "import seaborn as sns \n",
    "\n",
    "sns.set_style(\"ticks\")\n",
    "plt.rcParams['savefig.dpi'] = 200\n",
    "plt.rcParams[\"figure.dpi\"] = 125\n",
    "\n",
    "plt.rcParams.update({\n",
    "    \"text.usetex\": True,\n",
    "    \"font.family\": \"serif\",\n",
    "    \"font.serif\": [\"Palatino\"],\n",
    "})"
   ]
  },
  {
   "cell_type": "markdown",
   "id": "33d9fa47",
   "metadata": {},
   "source": [
    "### 1.2 Bibliotecas dos sistemas caóticos"
   ]
  },
  {
   "cell_type": "code",
   "execution_count": 2,
   "id": "0377307c",
   "metadata": {},
   "outputs": [],
   "source": [
    "from pibic2020.tools import timeseries\n",
    "from pibic2020.data import henon"
   ]
  },
  {
   "cell_type": "markdown",
   "id": "13dae013",
   "metadata": {},
   "source": [
    "### 1.3 *Gridsearch* na ESN"
   ]
  },
  {
   "cell_type": "code",
   "execution_count": 3,
   "id": "ebb6e31b",
   "metadata": {},
   "outputs": [],
   "source": [
    "from pibic2020.models import esn_model\n",
    "from sklearn.model_selection import GridSearchCV\n",
    "from sklearn.model_selection import TimeSeriesSplit "
   ]
  },
  {
   "cell_type": "markdown",
   "id": "cee5f131",
   "metadata": {},
   "source": [
    "## 2. Gerando a série temporal do mapa de Hénon"
   ]
  },
  {
   "cell_type": "markdown",
   "id": "53a59ee9",
   "metadata": {},
   "source": [
    "Os valores para os parâmetros das equações serão os \"básicos\" apresentados no *paper* original."
   ]
  },
  {
   "cell_type": "code",
   "execution_count": 4,
   "id": "2e6d80e5",
   "metadata": {},
   "outputs": [],
   "source": [
    "a = 1.4\n",
    "b = 0.3\n",
    "x_inicial = 1.0\n",
    "y_inicial = 0.0\n",
    "n_inicial = 0\n",
    "\n",
    "estados = np.array([x_inicial, y_inicial, n_inicial])\n",
    "\n",
    "mapa = henon.MapaHenon(estado_inicial=estados)"
   ]
  },
  {
   "cell_type": "code",
   "execution_count": 5,
   "id": "5078e59c",
   "metadata": {
    "tags": []
   },
   "outputs": [],
   "source": [
    "n_iteracoes = 5000\n",
    "estados = mapa.simular(n_iteracoes)"
   ]
  },
  {
   "cell_type": "code",
   "execution_count": 6,
   "id": "33776c25",
   "metadata": {},
   "outputs": [],
   "source": [
    "x = estados[:, 0]\n",
    "y = estados[:, 1]\n",
    "n = estados[:, 2]"
   ]
  },
  {
   "cell_type": "markdown",
   "id": "bacd4e10",
   "metadata": {},
   "source": [
    "### 2.1 Dividindo em um conjunto de treinamento e de teste, para K = 4 e L = 3"
   ]
  },
  {
   "cell_type": "code",
   "execution_count": 7,
   "id": "af1456a7",
   "metadata": {},
   "outputs": [],
   "source": [
    "K = 4\n",
    "L = 3\n",
    "tam_teste = 0.15"
   ]
  },
  {
   "cell_type": "code",
   "execution_count": 8,
   "id": "b12303fa",
   "metadata": {},
   "outputs": [],
   "source": [
    "serie_temporal = timeseries.SerieTemporal(x, K=K, L=L)"
   ]
  },
  {
   "cell_type": "code",
   "execution_count": 9,
   "id": "241f9d18",
   "metadata": {},
   "outputs": [],
   "source": [
    "X_treino, X_teste, y_treino, y_teste = serie_temporal.dividir_treino_teste(tam_teste)"
   ]
  },
  {
   "cell_type": "markdown",
   "id": "49f8056f",
   "metadata": {},
   "source": [
    "## 3. Definindo o modelo para a ESN e executando os Gridsearches"
   ]
  },
  {
   "cell_type": "code",
   "execution_count": 10,
   "id": "51a67cd8",
   "metadata": {},
   "outputs": [],
   "source": [
    "holdout = TimeSeriesSplit(n_splits=4, test_size=int(0.1*len(y_treino)), gap=0)"
   ]
  },
  {
   "cell_type": "markdown",
   "id": "7ce86548",
   "metadata": {},
   "source": [
    "### 3.1 Criando o objeto da ESN"
   ]
  },
  {
   "cell_type": "code",
   "execution_count": 11,
   "id": "cefa39a8",
   "metadata": {},
   "outputs": [],
   "source": [
    "esn = esn_model.ModeloESN()"
   ]
  },
  {
   "cell_type": "markdown",
   "id": "de6ce6ac",
   "metadata": {},
   "source": [
    "Utilizaremos os seguintes parâmetros no *Grid Search*:"
   ]
  },
  {
   "cell_type": "code",
   "execution_count": 12,
   "id": "493ced75",
   "metadata": {},
   "outputs": [],
   "source": [
    "spectral_radius = [[0.1], [0.2], [0.3], [0.4], [0.5],\n",
    "                   [0.6], [0.7], [0.8], [0.9], [0.95],\n",
    "                   [0.96], [0.97], [0.98], [0.99], [1]]\n",
    "\n",
    "n_neurons = [30, 50, 70, 90, 100, 120, 140, 160, 180, 200, 240, 280, 320, 360, 400, 440, 480, 500]"
   ]
  },
  {
   "cell_type": "markdown",
   "id": "90c5af2a",
   "metadata": {},
   "source": [
    "Para facilitar, dividiremos esse processo em etapas."
   ]
  },
  {
   "cell_type": "markdown",
   "id": "94f21775",
   "metadata": {},
   "source": [
    "### 3.2 Definindo e executando o primeiro *Grid Search*"
   ]
  },
  {
   "cell_type": "markdown",
   "id": "a0610936",
   "metadata": {},
   "source": [
    "Primeiro, avaliaremos o conjunto de *n_neurons* com o *spectral_radius*."
   ]
  },
  {
   "cell_type": "code",
   "execution_count": 15,
   "id": "0220e651",
   "metadata": {},
   "outputs": [],
   "source": [
    "param_grid_1 = dict(spectral_radius=spectral_radius,\n",
    "                    n_neurons=n_neurons)"
   ]
  },
  {
   "cell_type": "code",
   "execution_count": 16,
   "id": "95f90920",
   "metadata": {},
   "outputs": [],
   "source": [
    "grid = GridSearchCV(estimator=esn, param_grid=param_grid_1, n_jobs=-1, cv=holdout, scoring='neg_mean_squared_error', verbose=1)"
   ]
  },
  {
   "cell_type": "code",
   "execution_count": 17,
   "id": "9c3232ea",
   "metadata": {},
   "outputs": [
    {
     "name": "stdout",
     "output_type": "stream",
     "text": [
      "Fitting 4 folds for each of 270 candidates, totalling 1080 fits\n"
     ]
    }
   ],
   "source": [
    "grid_result = grid.fit(X_treino, y_treino)"
   ]
  },
  {
   "cell_type": "code",
   "execution_count": 18,
   "id": "686b7883",
   "metadata": {},
   "outputs": [
    {
     "name": "stdout",
     "output_type": "stream",
     "text": [
      "Best: -0.000002 using {'n_neurons': 500, 'spectral_radius': [0.1]}\n"
     ]
    }
   ],
   "source": [
    "print(\"Best: %f using %s\" % (grid_result.best_score_, grid_result.best_params_))"
   ]
  },
  {
   "cell_type": "markdown",
   "id": "a3a350bd",
   "metadata": {},
   "source": [
    "## Teste com o melhor modelo"
   ]
  },
  {
   "cell_type": "code",
   "execution_count": 20,
   "id": "eda56a39",
   "metadata": {},
   "outputs": [],
   "source": [
    "esn = esn_model.ModeloESN(n_neurons=500, spectral_radius=[0.1])"
   ]
  },
  {
   "cell_type": "code",
   "execution_count": 21,
   "id": "ed04b18c",
   "metadata": {},
   "outputs": [
    {
     "data": {
      "text/plain": [
       "ModeloESN(n_neurons=500, spectral_radius=[0.1])"
      ]
     },
     "execution_count": 21,
     "metadata": {},
     "output_type": "execute_result"
    }
   ],
   "source": [
    "esn.fit(X_treino, y_treino)"
   ]
  },
  {
   "cell_type": "code",
   "execution_count": 22,
   "id": "cdefe2b3",
   "metadata": {},
   "outputs": [],
   "source": [
    "y_pred = esn.predict(X_teste)"
   ]
  },
  {
   "cell_type": "code",
   "execution_count": 26,
   "id": "2d67a9fa",
   "metadata": {},
   "outputs": [
    {
     "data": {
      "application/vnd.jupyter.widget-view+json": {
       "model_id": "18b32642e07e4b9a9993afea41690baf",
       "version_major": 2,
       "version_minor": 0
      },
      "text/plain": [
       "Canvas(toolbar=Toolbar(toolitems=[('Home', 'Reset original view', 'home', 'home'), ('Back', 'Back to previous …"
      ]
     },
     "metadata": {},
     "output_type": "display_data"
    }
   ],
   "source": [
    "fig, ax = plt.subplots()\n",
    "ax.plot(n[len(n)-int(len(n)*tam_teste):,], y_teste, color='DarkGreen', label='Valor real', linewidth=0.9)\n",
    "ax.plot(n[len(n)-int(len(n)*tam_teste):,], y_pred, color='DimGrey', label='ESN', linewidth=0.9)\n",
    "\n",
    "ax.set_title(\"Comparação da predição da ESN com o valor real do cenário de Hénon\\n utilizando a rede recorrente ótima no conjunto de teste\")\n",
    "ax.set_ylabel('$x(t)$')\n",
    "ax.set_xlabel('$t$')\n",
    "ax.set_xlim(4900, 5000)\n",
    "    \n",
    "ax.grid(True)\n",
    "sns.despine()\n",
    "ax.legend()\n",
    "\n",
    "plt.show()"
   ]
  },
  {
   "cell_type": "code",
   "execution_count": null,
   "id": "0d3659ea",
   "metadata": {},
   "outputs": [],
   "source": []
  }
 ],
 "metadata": {
  "kernelspec": {
   "display_name": "Python 3",
   "language": "python",
   "name": "python3"
  },
  "language_info": {
   "codemirror_mode": {
    "name": "ipython",
    "version": 3
   },
   "file_extension": ".py",
   "mimetype": "text/x-python",
   "name": "python",
   "nbconvert_exporter": "python",
   "pygments_lexer": "ipython3",
   "version": "3.8.0"
  }
 },
 "nbformat": 4,
 "nbformat_minor": 5
}
