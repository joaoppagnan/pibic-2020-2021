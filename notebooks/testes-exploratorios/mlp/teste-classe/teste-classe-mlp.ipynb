{
 "cells": [
  {
   "cell_type": "markdown",
   "id": "ba2e6c9b",
   "metadata": {},
   "source": [
    "# Testando a classe da MLP"
   ]
  },
  {
   "cell_type": "code",
   "execution_count": 1,
   "id": "1ff35327",
   "metadata": {},
   "outputs": [],
   "source": [
    "%matplotlib widget\n",
    "import numpy as np\n",
    "import matplotlib.pyplot as plt\n",
    "import seaborn as sns # a biblioteca 'seaborn' contém vários estilos para os gráficos do 'matpĺotlib'\n",
    "\n",
    "# agora, melhoramos a qualidade de saida e de visualizacao da imagem \n",
    "# alem de mudar a fonte padrao para uma do latex\n",
    "sns.set_style(\"ticks\")\n",
    "plt.rcParams['savefig.dpi'] = 200\n",
    "plt.rcParams[\"figure.dpi\"] = 150\n",
    "\n",
    "plt.rcParams.update({\n",
    "    \"text.usetex\": True,\n",
    "    \"font.family\": \"serif\",\n",
    "    \"font.serif\": [\"Palatino\"],\n",
    "})\n",
    "plt.style.use('dark_background')"
   ]
  },
  {
   "cell_type": "markdown",
   "id": "2479833b",
   "metadata": {},
   "source": [
    "### 1.2 Bibliotecas para MLP"
   ]
  },
  {
   "cell_type": "code",
   "execution_count": 2,
   "id": "eb843883",
   "metadata": {},
   "outputs": [],
   "source": [
    "import tensorflow as tf\n",
    "physical_devices = tf.config.list_physical_devices('GPU')\n",
    "\n",
    "from tensorflow import keras"
   ]
  },
  {
   "cell_type": "markdown",
   "id": "f4d98a3e",
   "metadata": {},
   "source": [
    "### 1.3 Bibliotecas dos sistemas caóticos"
   ]
  },
  {
   "cell_type": "code",
   "execution_count": 3,
   "id": "7afbd6b7",
   "metadata": {},
   "outputs": [],
   "source": [
    "import sys \n",
    "sys.path.insert(0, '../../../../scripts')\n",
    "\n",
    "import timeseries as times\n",
    "import mlp_model as mlp\n",
    "import logisticmap as logmap"
   ]
  },
  {
   "cell_type": "markdown",
   "id": "50b7b262",
   "metadata": {},
   "source": [
    "## 2. Gerando a série temporal do mapa logístico"
   ]
  },
  {
   "cell_type": "markdown",
   "id": "8e1ff4fd",
   "metadata": {},
   "source": [
    "Os valores para os parâmetros das equações serão os \"básicos\" apresentados no *paper* original. Utilizaremos  $r = 3.86$, o que faz com que o sistema esteja em caos."
   ]
  },
  {
   "cell_type": "code",
   "execution_count": 4,
   "id": "84bebfc5",
   "metadata": {},
   "outputs": [],
   "source": [
    "x_inicial = 0.5\n",
    "n_inicial = 0\n",
    "n_iteracoes = 5000\n",
    "r=3.86\n",
    "estados = np.array([x_inicial, n_inicial])"
   ]
  },
  {
   "cell_type": "code",
   "execution_count": 5,
   "id": "4c77b719",
   "metadata": {},
   "outputs": [],
   "source": [
    "mapa = logmap.MapaLogistico(estado_inicial=estados, r=r)"
   ]
  },
  {
   "cell_type": "code",
   "execution_count": 6,
   "id": "9aae7c07",
   "metadata": {},
   "outputs": [],
   "source": [
    "for n in range(0, n_iteracoes):\n",
    "    mapa.iterar()\n",
    "    estados = np.vstack((estados, mapa.ler_estado()))"
   ]
  },
  {
   "cell_type": "code",
   "execution_count": 7,
   "id": "2d4b71d8",
   "metadata": {},
   "outputs": [],
   "source": [
    "x = estados[:, 0]\n",
    "n = estados[:, 1]"
   ]
  },
  {
   "cell_type": "code",
   "execution_count": 8,
   "id": "bbb2931d",
   "metadata": {},
   "outputs": [
    {
     "data": {
      "application/vnd.jupyter.widget-view+json": {
       "model_id": "b6f762577bf642e6b42c9976edd73d9c",
       "version_major": 2,
       "version_minor": 0
      },
      "text/plain": [
       "Canvas(toolbar=Toolbar(toolitems=[('Home', 'Reset original view', 'home', 'home'), ('Back', 'Back to previous …"
      ]
     },
     "metadata": {},
     "output_type": "display_data"
    }
   ],
   "source": [
    "fig, ax = plt.subplots()\n",
    "ax.plot(n, x, color='Crimson')\n",
    "\n",
    "ax.set_title(\"$100$ iterações iniciais da série temporal do Mapa Logístico\\n para $r =$ \" + str(r) + \" com $x[0] =$ \" + str(x[0]))\n",
    "ax.set_ylabel('$x[n]$')\n",
    "ax.set_xlabel('$n$')\n",
    "ax.set_xlim(0,100)\n",
    "    \n",
    "ax.grid(True)\n",
    "sns.despine()\n",
    "\n",
    "plt.show()"
   ]
  },
  {
   "cell_type": "markdown",
   "id": "76bc92ee",
   "metadata": {},
   "source": [
    "### 2.1 Dividindo em um conjunto de treinamento e de teste, para K = 4 e L = 3"
   ]
  },
  {
   "cell_type": "code",
   "execution_count": 9,
   "id": "5e9e4a77",
   "metadata": {},
   "outputs": [],
   "source": [
    "K = 4\n",
    "L = 3\n",
    "tam_teste = 0.15\n",
    "tam_val = 0.1"
   ]
  },
  {
   "cell_type": "code",
   "execution_count": 10,
   "id": "babf3422",
   "metadata": {},
   "outputs": [],
   "source": [
    "serie_temporal = times.SerieTemporal(x, K=K, L=L)"
   ]
  },
  {
   "cell_type": "code",
   "execution_count": 11,
   "id": "f694c7c5",
   "metadata": {},
   "outputs": [],
   "source": [
    "serie_temporal.criar_matrizes()"
   ]
  },
  {
   "cell_type": "code",
   "execution_count": 12,
   "id": "8ec24390",
   "metadata": {},
   "outputs": [],
   "source": [
    "X_treino, X_val, X_teste, y_treino, y_val, y_teste = serie_temporal.dividir_treino_teste_validacao(tam_teste, tam_val)"
   ]
  },
  {
   "cell_type": "markdown",
   "id": "8857671a",
   "metadata": {},
   "source": [
    "## 3. Usando o modelo com a classe"
   ]
  },
  {
   "cell_type": "code",
   "execution_count": 13,
   "id": "7dcb6b78",
   "metadata": {},
   "outputs": [],
   "source": [
    "batch_normalization = 'OFF'\n",
    "activation = 'tanh'\n",
    "init_mode = 'glorot_uniform'\n",
    "n_neurons = 10\n",
    "n_hidden_layers = 3\n",
    "\n",
    "optimizer = 'Nadam'\n",
    "learning_rate = 0.003\n",
    "loss = \"mean_squared_error\"\n",
    "\n",
    "batch_size = 2"
   ]
  },
  {
   "cell_type": "code",
   "execution_count": 14,
   "id": "687ed3dc",
   "metadata": {},
   "outputs": [],
   "source": [
    "MLP = mlp.ModeloMLP(input_size = K, name=\"MLP-logistic\")"
   ]
  },
  {
   "cell_type": "code",
   "execution_count": 15,
   "id": "a98e35b4",
   "metadata": {},
   "outputs": [],
   "source": [
    "MLP.construir_mlp(batch_normalization = batch_normalization, activation = activation,\n",
    "                  init_mode = init_mode, n_neurons = n_neurons,\n",
    "                  n_hidden_layers = n_hidden_layers)"
   ]
  },
  {
   "cell_type": "code",
   "execution_count": 16,
   "id": "17c49b6d",
   "metadata": {},
   "outputs": [],
   "source": [
    "MLP.compilar(optimizer = optimizer, learning_rate = learning_rate, loss = loss)"
   ]
  },
  {
   "cell_type": "code",
   "execution_count": 17,
   "id": "886d9cc1",
   "metadata": {},
   "outputs": [
    {
     "name": "stdout",
     "output_type": "stream",
     "text": [
      "Model: \"MLP-logistic\"\n",
      "_________________________________________________________________\n",
      "Layer (type)                 Output Shape              Param #   \n",
      "=================================================================\n",
      "camada_de_entrada (Dense)    (None, 4)                 20        \n",
      "_________________________________________________________________\n",
      "camada_intermediaria_1 (Dens (None, 10)                50        \n",
      "_________________________________________________________________\n",
      "camada_intermediaria_2 (Dens (None, 10)                110       \n",
      "_________________________________________________________________\n",
      "camada_intermediaria_3 (Dens (None, 10)                110       \n",
      "_________________________________________________________________\n",
      "camada_de_saida (Dense)      (None, 1)                 11        \n",
      "=================================================================\n",
      "Total params: 301\n",
      "Trainable params: 301\n",
      "Non-trainable params: 0\n",
      "_________________________________________________________________\n"
     ]
    }
   ],
   "source": [
    "MLP.visualizar()"
   ]
  },
  {
   "cell_type": "markdown",
   "id": "12787f9b",
   "metadata": {},
   "source": [
    "### Avaliando o modelo 5 vezes"
   ]
  },
  {
   "cell_type": "code",
   "execution_count": 18,
   "id": "5ed2cfee",
   "metadata": {},
   "outputs": [
    {
     "name": "stdout",
     "output_type": "stream",
     "text": [
      "Média do erro quadrático médio: 0.0002566226198612724\n",
      "\n",
      "Desvio padrão do erro quadrático médio: 4.0315061513693745e-05\n",
      "\n"
     ]
    }
   ],
   "source": [
    "mse_med, mse_dev = MLP.avaliar_modelo(X_treino, X_val, X_teste, y_treino, y_val, y_teste, n_repeticoes = 5, batch_size=2)"
   ]
  },
  {
   "cell_type": "markdown",
   "id": "9308dc9a",
   "metadata": {},
   "source": [
    "### Retreinando uma última vez"
   ]
  },
  {
   "cell_type": "code",
   "execution_count": 19,
   "id": "370820e3",
   "metadata": {},
   "outputs": [],
   "source": [
    "MLP.construir_mlp(batch_normalization = batch_normalization, activation = activation,\n",
    "                  init_mode = init_mode, n_neurons = n_neurons,\n",
    "                  n_hidden_layers = n_hidden_layers)"
   ]
  },
  {
   "cell_type": "code",
   "execution_count": 20,
   "id": "6f035cfb",
   "metadata": {},
   "outputs": [],
   "source": [
    "MLP.compilar(optimizer = optimizer, learning_rate = learning_rate, loss = loss)"
   ]
  },
  {
   "cell_type": "code",
   "execution_count": 21,
   "id": "a3e70edf",
   "metadata": {},
   "outputs": [
    {
     "name": "stdout",
     "output_type": "stream",
     "text": [
      "Epoch 1/100\n",
      "1910/1910 [==============================] - 4s 2ms/step - loss: 0.0610 - val_loss: 0.0564\n",
      "Epoch 2/100\n",
      "1910/1910 [==============================] - 3s 2ms/step - loss: 0.0521 - val_loss: 0.0448\n",
      "Epoch 3/100\n",
      "1910/1910 [==============================] - 3s 2ms/step - loss: 0.0447 - val_loss: 0.0389\n",
      "Epoch 4/100\n",
      "1910/1910 [==============================] - 3s 2ms/step - loss: 0.0376 - val_loss: 0.0314\n",
      "Epoch 5/100\n",
      "1910/1910 [==============================] - 3s 1ms/step - loss: 0.0302 - val_loss: 0.0260\n",
      "Epoch 6/100\n",
      "1910/1910 [==============================] - 3s 1ms/step - loss: 0.0278 - val_loss: 0.0234\n",
      "Epoch 7/100\n",
      "1910/1910 [==============================] - 3s 1ms/step - loss: 0.0207 - val_loss: 0.0161\n",
      "Epoch 8/100\n",
      "1910/1910 [==============================] - 3s 2ms/step - loss: 0.0172 - val_loss: 0.0227\n",
      "Epoch 9/100\n",
      "1910/1910 [==============================] - 3s 2ms/step - loss: 0.0138 - val_loss: 0.0138\n",
      "Epoch 10/100\n",
      "1910/1910 [==============================] - 3s 1ms/step - loss: 0.0097 - val_loss: 0.0093\n",
      "Epoch 11/100\n",
      "1910/1910 [==============================] - 3s 1ms/step - loss: 0.0067 - val_loss: 0.0039\n",
      "Epoch 12/100\n",
      "1910/1910 [==============================] - 3s 1ms/step - loss: 0.0041 - val_loss: 0.0043\n",
      "Epoch 13/100\n",
      "1910/1910 [==============================] - 3s 1ms/step - loss: 0.0045 - val_loss: 0.0015\n",
      "Epoch 14/100\n",
      "1910/1910 [==============================] - 3s 1ms/step - loss: 0.0043 - val_loss: 0.0016\n",
      "Epoch 15/100\n",
      "1910/1910 [==============================] - 3s 1ms/step - loss: 0.0026 - val_loss: 0.0014\n",
      "Epoch 16/100\n",
      "1910/1910 [==============================] - 3s 1ms/step - loss: 0.0042 - val_loss: 6.2143e-04\n",
      "Epoch 17/100\n",
      "1910/1910 [==============================] - 3s 1ms/step - loss: 0.0028 - val_loss: 0.0049\n",
      "Epoch 18/100\n",
      "1910/1910 [==============================] - 3s 1ms/step - loss: 0.0030 - val_loss: 0.0022\n",
      "Epoch 19/100\n",
      "1910/1910 [==============================] - 3s 1ms/step - loss: 0.0031 - val_loss: 0.0016\n",
      "Epoch 20/100\n",
      "1910/1910 [==============================] - 3s 1ms/step - loss: 0.0018 - val_loss: 0.0024\n",
      "Epoch 21/100\n",
      "1910/1910 [==============================] - 3s 1ms/step - loss: 0.0029 - val_loss: 0.0021\n",
      "Epoch 22/100\n",
      "1910/1910 [==============================] - 3s 1ms/step - loss: 0.0031 - val_loss: 0.0064\n",
      "Epoch 23/100\n",
      "1910/1910 [==============================] - 3s 1ms/step - loss: 0.0025 - val_loss: 0.0014\n",
      "Epoch 24/100\n",
      "1910/1910 [==============================] - 3s 1ms/step - loss: 0.0018 - val_loss: 0.0013\n",
      "Epoch 25/100\n",
      "1910/1910 [==============================] - 3s 1ms/step - loss: 0.0029 - val_loss: 0.0018\n",
      "Epoch 26/100\n",
      "1910/1910 [==============================] - 3s 1ms/step - loss: 0.0023 - val_loss: 0.0012\n"
     ]
    }
   ],
   "source": [
    "MLP.fit(X_treino, X_val, y_treino, y_val, batch_size=batch_size)"
   ]
  },
  {
   "cell_type": "code",
   "execution_count": 22,
   "id": "1ff130d8",
   "metadata": {},
   "outputs": [],
   "source": [
    "y_pred = MLP.predict(X_teste)"
   ]
  },
  {
   "cell_type": "code",
   "execution_count": 23,
   "id": "d4ce17b5",
   "metadata": {},
   "outputs": [
    {
     "data": {
      "application/vnd.jupyter.widget-view+json": {
       "model_id": "505c29014b964019b27722ef91923e85",
       "version_major": 2,
       "version_minor": 0
      },
      "text/plain": [
       "Canvas(toolbar=Toolbar(toolitems=[('Home', 'Reset original view', 'home', 'home'), ('Back', 'Back to previous …"
      ]
     },
     "metadata": {},
     "output_type": "display_data"
    }
   ],
   "source": [
    "fig, ax = plt.subplots()\n",
    "ax.plot(n[len(n)-int(len(n)*tam_teste):,], y_teste, color='Crimson', label='Valor real')\n",
    "ax.plot(n[len(n)-int(len(n)*tam_teste):,], y_pred, color='Silver', label='MLP')\n",
    "\n",
    "ax.set_title(\"Comparação da predição da MLP com o valor real do mapa logístico\\n utilizando a rede neural ótima no conjunto de teste\")\n",
    "ax.set_ylabel('$x[n]$')\n",
    "ax.set_xlabel('$n$')\n",
    "ax.set_xlim(4900, 5000)\n",
    "    \n",
    "ax.grid(True)\n",
    "sns.despine()\n",
    "ax.legend()\n",
    "\n",
    "plt.show()"
   ]
  },
  {
   "cell_type": "code",
   "execution_count": 24,
   "id": "99e59af5",
   "metadata": {},
   "outputs": [
    {
     "name": "stdout",
     "output_type": "stream",
     "text": [
      "INFO:tensorflow:Assets written to: ../../../../models/mlp-aprimorada/mlp-aprimorada-logistic/assets\n",
      "O modelo foi salvo!\n"
     ]
    }
   ],
   "source": [
    "MLP.salvar_modelo(nome_do_arquivo = \"../../../../models/mlp-aprimorada/mlp-aprimorada-logistic\")"
   ]
  }
 ],
 "metadata": {
  "kernelspec": {
   "display_name": "Python 3",
   "language": "python",
   "name": "python3"
  },
  "language_info": {
   "codemirror_mode": {
    "name": "ipython",
    "version": 3
   },
   "file_extension": ".py",
   "mimetype": "text/x-python",
   "name": "python",
   "nbconvert_exporter": "python",
   "pygments_lexer": "ipython3",
   "version": "3.8.0"
  }
 },
 "nbformat": 4,
 "nbformat_minor": 5
}
