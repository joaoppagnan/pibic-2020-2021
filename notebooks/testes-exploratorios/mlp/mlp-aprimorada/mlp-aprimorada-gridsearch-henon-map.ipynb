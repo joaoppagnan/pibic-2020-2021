{
 "cells": [
  {
   "cell_type": "markdown",
   "id": "3f9eb9bd",
   "metadata": {},
   "source": [
    "# Aprimorando a MLP com Grid Search para escolher o melhor número de camadas intermediárias no Mapa de Hénon"
   ]
  },
  {
   "cell_type": "markdown",
   "id": "ab34257b",
   "metadata": {},
   "source": [
    "## 1. Importando as bibliotecas necessárias"
   ]
  },
  {
   "cell_type": "markdown",
   "id": "ea8c37e0",
   "metadata": {},
   "source": [
    "### 1.1 Bibliotecas gerais"
   ]
  },
  {
   "cell_type": "code",
   "execution_count": 1,
   "id": "801eccfa",
   "metadata": {},
   "outputs": [],
   "source": [
    "%matplotlib widget\n",
    "import numpy as np\n",
    "import matplotlib.pyplot as plt\n",
    "import seaborn as sns # a biblioteca 'seaborn' contém vários estilos para os gráficos do 'matpĺotlib'\n",
    "\n",
    "# agora, melhoramos a qualidade de saida e de visualizacao da imagem \n",
    "# alem de mudar a fonte padrao para uma do latex\n",
    "sns.set_style(\"ticks\")\n",
    "plt.rcParams['savefig.dpi'] = 200\n",
    "plt.rcParams[\"figure.dpi\"] = 100\n",
    "\n",
    "plt.rcParams.update({\n",
    "    \"text.usetex\": True,\n",
    "    \"font.family\": \"serif\",\n",
    "    \"font.serif\": [\"Palatino\"],\n",
    "})\n",
    "plt.style.use('dark_background')"
   ]
  },
  {
   "cell_type": "markdown",
   "id": "4b5b10ae",
   "metadata": {},
   "source": [
    "### 1.2 Bibliotecas para MLP"
   ]
  },
  {
   "cell_type": "code",
   "execution_count": 2,
   "id": "8d226268",
   "metadata": {},
   "outputs": [],
   "source": [
    "import tensorflow as tf\n",
    "physical_devices = tf.config.list_physical_devices('GPU')\n",
    "\n",
    "from tensorflow import keras"
   ]
  },
  {
   "cell_type": "code",
   "execution_count": 3,
   "id": "86c75eeb",
   "metadata": {},
   "outputs": [],
   "source": [
    "from sklearn.model_selection import GridSearchCV\n",
    "from sklearn.model_selection import train_test_split"
   ]
  },
  {
   "cell_type": "code",
   "execution_count": 4,
   "id": "ec8d2b1e",
   "metadata": {},
   "outputs": [],
   "source": [
    "from tensorflow.keras.wrappers.scikit_learn import KerasRegressor"
   ]
  },
  {
   "cell_type": "markdown",
   "id": "c075249b",
   "metadata": {},
   "source": [
    "### 1.3 Bibliotecas dos sistemas caóticos"
   ]
  },
  {
   "cell_type": "code",
   "execution_count": 5,
   "id": "529ca954",
   "metadata": {},
   "outputs": [],
   "source": [
    "import sys \n",
    "sys.path.insert(0, '../../../../scripts')\n",
    "\n",
    "import timeseries as times\n",
    "import henonmap as hmap"
   ]
  },
  {
   "cell_type": "markdown",
   "id": "f8c44fa0",
   "metadata": {},
   "source": [
    "## 2. Gerando a série temporal do mapa de Hénon"
   ]
  },
  {
   "cell_type": "markdown",
   "id": "0ae6bf45",
   "metadata": {},
   "source": [
    "Os valores para os parâmetros das equações serão os \"básicos\" apresentados no *paper* original."
   ]
  },
  {
   "cell_type": "code",
   "execution_count": 6,
   "id": "bc4fd83b",
   "metadata": {},
   "outputs": [],
   "source": [
    "a = 1.4\n",
    "b = 0.3\n",
    "x_inicial = 1.0\n",
    "y_inicial = 0.0\n",
    "n_inicial = 0\n",
    "\n",
    "estados = np.array([x_inicial, y_inicial, n_inicial])\n",
    "\n",
    "mapa = hmap.MapaHenon(estado_inicial=estados)"
   ]
  },
  {
   "cell_type": "code",
   "execution_count": 7,
   "id": "16a8a305",
   "metadata": {
    "tags": []
   },
   "outputs": [],
   "source": [
    "n_iteracoes = 5000\n",
    "\n",
    "for n in range(0, n_iteracoes):\n",
    "    mapa.iterar()\n",
    "    estados = np.vstack((estados, mapa.ler_estado()))"
   ]
  },
  {
   "cell_type": "code",
   "execution_count": 8,
   "id": "aa34f91d",
   "metadata": {},
   "outputs": [],
   "source": [
    "x = estados[:, 0]\n",
    "y = estados[:, 1]\n",
    "n = estados[:, 2]"
   ]
  },
  {
   "cell_type": "code",
   "execution_count": 9,
   "id": "f1323f1d",
   "metadata": {},
   "outputs": [
    {
     "data": {
      "application/vnd.jupyter.widget-view+json": {
       "model_id": "ee61339accb84e0e911610f5dd51942b",
       "version_major": 2,
       "version_minor": 0
      },
      "text/plain": [
       "Canvas(toolbar=Toolbar(toolitems=[('Home', 'Reset original view', 'home', 'home'), ('Back', 'Back to previous …"
      ]
     },
     "metadata": {},
     "output_type": "display_data"
    }
   ],
   "source": [
    "fig, ax = plt.subplots()\n",
    "ax.plot(n, x, color='LimeGreen')\n",
    "\n",
    "ax.set_title(\"100 primeiras iterações da série temporal em $\\hat{x}$ do Mapa de Hénon para\\n $a =$ \" + str(a) + \" e $b =$ \" + str(b) + \" com $x[0] =$ \" + str(x[0]) + \" e $y[0] =$ \" + str(y[0]))\n",
    "ax.set_ylabel('$x[n]$')\n",
    "ax.set_xlabel('$n$')\n",
    "ax.set_xlim(0, 100)  \n",
    "ax.grid(True)\n",
    "\n",
    "fig.tight_layout()\n",
    "sns.despine()\n",
    "plt.show()"
   ]
  },
  {
   "cell_type": "markdown",
   "id": "b2ab88ac",
   "metadata": {},
   "source": [
    "### 2.1 Dividindo em um conjunto de treinamento e de teste, para K = 4 e L = 3"
   ]
  },
  {
   "cell_type": "code",
   "execution_count": 10,
   "id": "0ebfe100",
   "metadata": {},
   "outputs": [],
   "source": [
    "K = 4\n",
    "L = 3\n",
    "tam_teste = 0.15"
   ]
  },
  {
   "cell_type": "code",
   "execution_count": 11,
   "id": "884c28a3",
   "metadata": {},
   "outputs": [],
   "source": [
    "serie_temporal = times.SerieTemporal(x, K=K, L=L)"
   ]
  },
  {
   "cell_type": "code",
   "execution_count": 13,
   "id": "8bfc845a",
   "metadata": {},
   "outputs": [],
   "source": [
    "X_treino, X_teste, y_treino, y_teste = serie_temporal.dividir_treino_teste(tam_teste)"
   ]
  },
  {
   "cell_type": "markdown",
   "id": "cc637462",
   "metadata": {},
   "source": [
    "## 3. Definindo o modelo para a MLP"
   ]
  },
  {
   "cell_type": "markdown",
   "id": "b364039c",
   "metadata": {},
   "source": [
    "### 3.1 Definindo função para criar a MLP"
   ]
  },
  {
   "cell_type": "code",
   "execution_count": 49,
   "id": "c9976242",
   "metadata": {},
   "outputs": [],
   "source": [
    "def criar_modelo(input_size, optimizer='Nadam', batch_normalization='OFF', learning_rate=0.001, activation='selu', init_mode='lecun_normal', n_neurons=30,\n",
    "                 n_hidden_layers=1, loss=\"mean_squared_error\", name=\"MLP\"):\n",
    "    \n",
    "    if (optimizer=='Nadam'):\n",
    "        model_optimizer = keras.optimizers.Nadam()\n",
    "    \n",
    "    model_optimizer.learning_rate.assign(learning_rate)\n",
    "    \n",
    "    model = keras.Sequential(name=\"MLP\")\n",
    "    model.add(keras.layers.Dense(input_size, input_dim=input_size, name=\"camada_de_entrada\", activation = 'linear'))\n",
    "    if (batch_normalization == 'ON'):\n",
    "        model.add(keras.layers.BatchNormalization(name=\"camada_de_batch_normalization\"))\n",
    "    for i in range(0, n_hidden_layers):\n",
    "        model.add(keras.layers.Dense(n_neurons, input_dim=input_size, activation=activation, kernel_initializer=init_mode, name=\"camada_intermediaria_\"+str(i+1)))\n",
    "    model.add(keras.layers.Dense(1, activation='linear', name=\"camada_de_saida\"))\n",
    "    \n",
    "    model.compile(\n",
    "        optimizer = model_optimizer,\n",
    "        loss = loss)\n",
    "    \n",
    "    model.build()\n",
    "    return model"
   ]
  },
  {
   "cell_type": "markdown",
   "id": "8f8a9efc",
   "metadata": {},
   "source": [
    "### 3.2 Definindo parâmetros que não serão definidos pelo *Grid Search*"
   ]
  },
  {
   "cell_type": "code",
   "execution_count": 50,
   "id": "a432e7b3",
   "metadata": {},
   "outputs": [],
   "source": [
    "loss = \"mean_squared_error\"\n",
    "optimizer = 'Nadam'\n",
    "batch_size = 8\n",
    "batch_normalization = 'OFF'\n",
    "activation = 'sigmoid'\n",
    "init_mode = 'glorot_normal'\n",
    "n_neurons = 50\n",
    "learning_rate = 0.003\n",
    "input_size = K"
   ]
  },
  {
   "cell_type": "markdown",
   "id": "0af601e1",
   "metadata": {},
   "source": [
    "### 3.3 Executando *Grid Search* para saber o melhor número de camadas intermediárias"
   ]
  },
  {
   "cell_type": "code",
   "execution_count": 52,
   "id": "367eea32",
   "metadata": {},
   "outputs": [],
   "source": [
    "model_cv = KerasRegressor(build_fn=criar_modelo, epochs=100, verbose=0, batch_size=batch_size, batch_normalization=batch_normalization,\n",
    "                          learning_rate=learning_rate, activation=activation, init_mode=init_mode, n_neurons=n_neurons,\n",
    "                          loss=loss, optimizer=optimizer, input_size=input_size)"
   ]
  },
  {
   "cell_type": "code",
   "execution_count": 53,
   "id": "60a149bd",
   "metadata": {},
   "outputs": [],
   "source": [
    "param_grid = {'n_hidden_layers' : (1, 2, 3, 4, 5)}"
   ]
  },
  {
   "cell_type": "code",
   "execution_count": 54,
   "id": "5f74019d",
   "metadata": {},
   "outputs": [],
   "source": [
    "grid = GridSearchCV(estimator=model_cv, param_grid=param_grid, n_jobs=1, cv=4, scoring='neg_mean_squared_error', verbose=1)"
   ]
  },
  {
   "cell_type": "code",
   "execution_count": 55,
   "id": "ce743374",
   "metadata": {},
   "outputs": [
    {
     "name": "stdout",
     "output_type": "stream",
     "text": [
      "Fitting 4 folds for each of 5 candidates, totalling 20 fits\n"
     ]
    }
   ],
   "source": [
    "grid_result = grid.fit(X_treino, y_treino)"
   ]
  },
  {
   "cell_type": "code",
   "execution_count": 56,
   "id": "8e7ac16d",
   "metadata": {},
   "outputs": [
    {
     "name": "stdout",
     "output_type": "stream",
     "text": [
      "Best: -0.000879 using {'n_hidden_layers': 3}\n"
     ]
    }
   ],
   "source": [
    "print(\"Best: %f using %s\" % (grid_result.best_score_, grid_result.best_params_))"
   ]
  },
  {
   "cell_type": "code",
   "execution_count": 57,
   "id": "0ce99bf0",
   "metadata": {},
   "outputs": [
    {
     "name": "stdout",
     "output_type": "stream",
     "text": [
      "-0.003577 (0.001562) with: {'n_hidden_layers': 1}\n",
      "-0.002442 (0.002089) with: {'n_hidden_layers': 2}\n",
      "-0.000879 (0.000299) with: {'n_hidden_layers': 3}\n",
      "-0.001615 (0.001482) with: {'n_hidden_layers': 4}\n",
      "-0.005203 (0.002802) with: {'n_hidden_layers': 5}\n"
     ]
    }
   ],
   "source": [
    "means = grid_result.cv_results_['mean_test_score']\n",
    "stds = grid_result.cv_results_['std_test_score']\n",
    "params = grid_result.cv_results_['params']\n",
    "for mean, stdev, param in zip(means, stds, params):\n",
    "    print(\"%f (%f) with: %r\" % (mean, stdev, param))"
   ]
  },
  {
   "cell_type": "markdown",
   "id": "596216ba",
   "metadata": {},
   "source": [
    "### Treino com o melhor modelo"
   ]
  },
  {
   "cell_type": "code",
   "execution_count": 66,
   "id": "d875ff10",
   "metadata": {},
   "outputs": [],
   "source": [
    "n_hidden_layers=3"
   ]
  },
  {
   "cell_type": "code",
   "execution_count": 67,
   "id": "1585e1f4",
   "metadata": {},
   "outputs": [],
   "source": [
    "model = criar_modelo(name=\"MLP-Henon\", input_size=K, optimizer=optimizer, batch_normalization=batch_normalization, learning_rate=learning_rate, activation=activation,\n",
    "                     init_mode=init_mode, n_neurons=n_neurons, n_hidden_layers=n_hidden_layers, loss=loss)"
   ]
  },
  {
   "cell_type": "code",
   "execution_count": 68,
   "id": "b78566d3",
   "metadata": {},
   "outputs": [
    {
     "name": "stdout",
     "output_type": "stream",
     "text": [
      "Model: \"MLP\"\n",
      "_________________________________________________________________\n",
      "Layer (type)                 Output Shape              Param #   \n",
      "=================================================================\n",
      "camada_de_entrada (Dense)    (None, 4)                 20        \n",
      "_________________________________________________________________\n",
      "camada_intermediaria_1 (Dens (None, 50)                250       \n",
      "_________________________________________________________________\n",
      "camada_intermediaria_2 (Dens (None, 50)                2550      \n",
      "_________________________________________________________________\n",
      "camada_intermediaria_3 (Dens (None, 50)                2550      \n",
      "_________________________________________________________________\n",
      "camada_de_saida (Dense)      (None, 1)                 51        \n",
      "=================================================================\n",
      "Total params: 5,421\n",
      "Trainable params: 5,421\n",
      "Non-trainable params: 0\n",
      "_________________________________________________________________\n"
     ]
    }
   ],
   "source": [
    "model.summary()"
   ]
  },
  {
   "cell_type": "code",
   "execution_count": 69,
   "id": "78d231a5",
   "metadata": {},
   "outputs": [],
   "source": [
    "X_treino, X_val, y_treino, y_val = train_test_split(X_treino, y_treino, test_size=0.1)"
   ]
  },
  {
   "cell_type": "code",
   "execution_count": 70,
   "id": "2366a866",
   "metadata": {},
   "outputs": [],
   "source": [
    "early_stopping = tf.keras.callbacks.EarlyStopping(patience=10, restore_best_weights=True, monitor='val_loss')"
   ]
  },
  {
   "cell_type": "code",
   "execution_count": 72,
   "id": "4683b7fc",
   "metadata": {},
   "outputs": [
    {
     "name": "stdout",
     "output_type": "stream",
     "text": [
      "Epoch 1/100\n",
      "430/430 [==============================] - 1s 2ms/step - loss: 0.4912 - val_loss: 0.4061\n",
      "Epoch 2/100\n",
      "430/430 [==============================] - 1s 2ms/step - loss: 0.4388 - val_loss: 0.3979\n",
      "Epoch 3/100\n",
      "430/430 [==============================] - 1s 2ms/step - loss: 0.3983 - val_loss: 0.3745\n",
      "Epoch 4/100\n",
      "430/430 [==============================] - 1s 2ms/step - loss: 0.3855 - val_loss: 0.3689\n",
      "Epoch 5/100\n",
      "430/430 [==============================] - 1s 2ms/step - loss: 0.3777 - val_loss: 0.3688\n",
      "Epoch 6/100\n",
      "430/430 [==============================] - 1s 2ms/step - loss: 0.3672 - val_loss: 0.3621\n",
      "Epoch 7/100\n",
      "430/430 [==============================] - 1s 2ms/step - loss: 0.3507 - val_loss: 0.3439\n",
      "Epoch 8/100\n",
      "430/430 [==============================] - 1s 2ms/step - loss: 0.3539 - val_loss: 0.3800\n",
      "Epoch 9/100\n",
      "430/430 [==============================] - 1s 2ms/step - loss: 0.3339 - val_loss: 0.3215\n",
      "Epoch 10/100\n",
      "430/430 [==============================] - 1s 2ms/step - loss: 0.3089 - val_loss: 0.2988\n",
      "Epoch 11/100\n",
      "430/430 [==============================] - 1s 2ms/step - loss: 0.2737 - val_loss: 0.3050\n",
      "Epoch 12/100\n",
      "430/430 [==============================] - 1s 2ms/step - loss: 0.2387 - val_loss: 0.2403\n",
      "Epoch 13/100\n",
      "430/430 [==============================] - 1s 2ms/step - loss: 0.2027 - val_loss: 0.1828\n",
      "Epoch 14/100\n",
      "430/430 [==============================] - 1s 2ms/step - loss: 0.1747 - val_loss: 0.1650\n",
      "Epoch 15/100\n",
      "430/430 [==============================] - 1s 2ms/step - loss: 0.1603 - val_loss: 0.1492\n",
      "Epoch 16/100\n",
      "430/430 [==============================] - 1s 2ms/step - loss: 0.1329 - val_loss: 0.1295\n",
      "Epoch 17/100\n",
      "430/430 [==============================] - 1s 2ms/step - loss: 0.1175 - val_loss: 0.1096\n",
      "Epoch 18/100\n",
      "430/430 [==============================] - 1s 2ms/step - loss: 0.0847 - val_loss: 0.0593\n",
      "Epoch 19/100\n",
      "430/430 [==============================] - 1s 2ms/step - loss: 0.0522 - val_loss: 0.0492\n",
      "Epoch 20/100\n",
      "430/430 [==============================] - 1s 2ms/step - loss: 0.0370 - val_loss: 0.0323\n",
      "Epoch 21/100\n",
      "430/430 [==============================] - 1s 2ms/step - loss: 0.0306 - val_loss: 0.0383\n",
      "Epoch 22/100\n",
      "430/430 [==============================] - 1s 2ms/step - loss: 0.0240 - val_loss: 0.0246\n",
      "Epoch 23/100\n",
      "430/430 [==============================] - 1s 2ms/step - loss: 0.0209 - val_loss: 0.0239\n",
      "Epoch 24/100\n",
      "430/430 [==============================] - 1s 2ms/step - loss: 0.0166 - val_loss: 0.0215\n",
      "Epoch 25/100\n",
      "430/430 [==============================] - 1s 2ms/step - loss: 0.0136 - val_loss: 0.0136\n",
      "Epoch 26/100\n",
      "430/430 [==============================] - 1s 2ms/step - loss: 0.0111 - val_loss: 0.0083\n",
      "Epoch 27/100\n",
      "430/430 [==============================] - 1s 2ms/step - loss: 0.0099 - val_loss: 0.0075\n",
      "Epoch 28/100\n",
      "430/430 [==============================] - 1s 2ms/step - loss: 0.0090 - val_loss: 0.0129\n",
      "Epoch 29/100\n",
      "430/430 [==============================] - 1s 2ms/step - loss: 0.0091 - val_loss: 0.0092\n",
      "Epoch 30/100\n",
      "430/430 [==============================] - 1s 2ms/step - loss: 0.0083 - val_loss: 0.0098\n",
      "Epoch 31/100\n",
      "430/430 [==============================] - 1s 2ms/step - loss: 0.0072 - val_loss: 0.0090\n",
      "Epoch 32/100\n",
      "430/430 [==============================] - 1s 2ms/step - loss: 0.0070 - val_loss: 0.0094\n",
      "Epoch 33/100\n",
      "430/430 [==============================] - 1s 2ms/step - loss: 0.0068 - val_loss: 0.0065\n",
      "Epoch 34/100\n",
      "430/430 [==============================] - 1s 2ms/step - loss: 0.0070 - val_loss: 0.0048\n",
      "Epoch 35/100\n",
      "430/430 [==============================] - 1s 2ms/step - loss: 0.0060 - val_loss: 0.0054\n",
      "Epoch 36/100\n",
      "430/430 [==============================] - 1s 2ms/step - loss: 0.0066 - val_loss: 0.0055\n",
      "Epoch 37/100\n",
      "430/430 [==============================] - 1s 2ms/step - loss: 0.0066 - val_loss: 0.0053\n",
      "Epoch 38/100\n",
      "430/430 [==============================] - 1s 2ms/step - loss: 0.0057 - val_loss: 0.0053\n",
      "Epoch 39/100\n",
      "430/430 [==============================] - 1s 2ms/step - loss: 0.0058 - val_loss: 0.0053\n",
      "Epoch 40/100\n",
      "430/430 [==============================] - 1s 2ms/step - loss: 0.0056 - val_loss: 0.0047\n",
      "Epoch 41/100\n",
      "430/430 [==============================] - 1s 2ms/step - loss: 0.0057 - val_loss: 0.0073\n",
      "Epoch 42/100\n",
      "430/430 [==============================] - 1s 2ms/step - loss: 0.0057 - val_loss: 0.0046\n",
      "Epoch 43/100\n",
      "430/430 [==============================] - 1s 2ms/step - loss: 0.0050 - val_loss: 0.0054\n",
      "Epoch 44/100\n",
      "430/430 [==============================] - 1s 2ms/step - loss: 0.0057 - val_loss: 0.0048\n",
      "Epoch 45/100\n",
      "430/430 [==============================] - 1s 2ms/step - loss: 0.0045 - val_loss: 0.0045\n",
      "Epoch 46/100\n",
      "430/430 [==============================] - 1s 2ms/step - loss: 0.0045 - val_loss: 0.0053\n",
      "Epoch 47/100\n",
      "430/430 [==============================] - 1s 2ms/step - loss: 0.0047 - val_loss: 0.0041\n",
      "Epoch 48/100\n",
      "430/430 [==============================] - 1s 2ms/step - loss: 0.0047 - val_loss: 0.0061\n",
      "Epoch 49/100\n",
      "430/430 [==============================] - 1s 2ms/step - loss: 0.0044 - val_loss: 0.0069\n",
      "Epoch 50/100\n",
      "430/430 [==============================] - 1s 2ms/step - loss: 0.0042 - val_loss: 0.0058\n",
      "Epoch 51/100\n",
      "430/430 [==============================] - 1s 2ms/step - loss: 0.0042 - val_loss: 0.0046\n",
      "Epoch 52/100\n",
      "430/430 [==============================] - 1s 2ms/step - loss: 0.0042 - val_loss: 0.0049\n",
      "Epoch 53/100\n",
      "430/430 [==============================] - 1s 2ms/step - loss: 0.0041 - val_loss: 0.0040\n",
      "Epoch 54/100\n",
      "430/430 [==============================] - 1s 2ms/step - loss: 0.0036 - val_loss: 0.0032\n",
      "Epoch 55/100\n",
      "430/430 [==============================] - 1s 2ms/step - loss: 0.0038 - val_loss: 0.0039\n",
      "Epoch 56/100\n",
      "430/430 [==============================] - 1s 2ms/step - loss: 0.0037 - val_loss: 0.0044\n",
      "Epoch 57/100\n",
      "430/430 [==============================] - 1s 2ms/step - loss: 0.0039 - val_loss: 0.0030\n",
      "Epoch 58/100\n",
      "430/430 [==============================] - 1s 2ms/step - loss: 0.0038 - val_loss: 0.0039\n",
      "Epoch 59/100\n",
      "430/430 [==============================] - 1s 2ms/step - loss: 0.0038 - val_loss: 0.0038\n",
      "Epoch 60/100\n",
      "430/430 [==============================] - 1s 2ms/step - loss: 0.0038 - val_loss: 0.0042\n",
      "Epoch 61/100\n",
      "430/430 [==============================] - 1s 2ms/step - loss: 0.0039 - val_loss: 0.0033\n",
      "Epoch 62/100\n",
      "430/430 [==============================] - 1s 2ms/step - loss: 0.0032 - val_loss: 0.0035\n",
      "Epoch 63/100\n",
      "430/430 [==============================] - 1s 2ms/step - loss: 0.0038 - val_loss: 0.0040\n",
      "Epoch 64/100\n",
      "430/430 [==============================] - 1s 2ms/step - loss: 0.0031 - val_loss: 0.0034\n",
      "Epoch 65/100\n",
      "430/430 [==============================] - 1s 2ms/step - loss: 0.0029 - val_loss: 0.0031\n",
      "Epoch 66/100\n",
      "430/430 [==============================] - 1s 2ms/step - loss: 0.0030 - val_loss: 0.0026\n",
      "Epoch 67/100\n",
      "430/430 [==============================] - 1s 2ms/step - loss: 0.0028 - val_loss: 0.0030\n",
      "Epoch 68/100\n",
      "430/430 [==============================] - 1s 2ms/step - loss: 0.0031 - val_loss: 0.0023\n",
      "Epoch 69/100\n",
      "430/430 [==============================] - 1s 2ms/step - loss: 0.0026 - val_loss: 0.0030\n",
      "Epoch 70/100\n",
      "430/430 [==============================] - 1s 2ms/step - loss: 0.0028 - val_loss: 0.0022\n",
      "Epoch 71/100\n",
      "430/430 [==============================] - 1s 2ms/step - loss: 0.0023 - val_loss: 0.0043\n",
      "Epoch 72/100\n",
      "430/430 [==============================] - 1s 2ms/step - loss: 0.0033 - val_loss: 0.0034\n",
      "Epoch 73/100\n",
      "430/430 [==============================] - 1s 2ms/step - loss: 0.0024 - val_loss: 0.0023\n",
      "Epoch 74/100\n",
      "430/430 [==============================] - 1s 2ms/step - loss: 0.0026 - val_loss: 0.0021\n",
      "Epoch 75/100\n",
      "430/430 [==============================] - 1s 2ms/step - loss: 0.0023 - val_loss: 0.0038\n",
      "Epoch 76/100\n",
      "430/430 [==============================] - 1s 2ms/step - loss: 0.0028 - val_loss: 0.0022\n",
      "Epoch 77/100\n",
      "430/430 [==============================] - 1s 2ms/step - loss: 0.0020 - val_loss: 0.0025\n",
      "Epoch 78/100\n",
      "430/430 [==============================] - 1s 2ms/step - loss: 0.0020 - val_loss: 0.0016\n",
      "Epoch 79/100\n",
      "430/430 [==============================] - 1s 2ms/step - loss: 0.0018 - val_loss: 0.0025\n",
      "Epoch 80/100\n",
      "430/430 [==============================] - 1s 2ms/step - loss: 0.0020 - val_loss: 0.0016\n",
      "Epoch 81/100\n",
      "430/430 [==============================] - 1s 2ms/step - loss: 0.0019 - val_loss: 0.0017\n",
      "Epoch 82/100\n",
      "430/430 [==============================] - 1s 2ms/step - loss: 0.0017 - val_loss: 0.0013\n",
      "Epoch 83/100\n",
      "430/430 [==============================] - 1s 2ms/step - loss: 0.0020 - val_loss: 0.0014\n",
      "Epoch 84/100\n",
      "430/430 [==============================] - 1s 2ms/step - loss: 0.0019 - val_loss: 0.0026\n",
      "Epoch 85/100\n",
      "430/430 [==============================] - 1s 2ms/step - loss: 0.0018 - val_loss: 0.0019\n",
      "Epoch 86/100\n",
      "430/430 [==============================] - 1s 2ms/step - loss: 0.0019 - val_loss: 0.0013\n",
      "Epoch 87/100\n",
      "430/430 [==============================] - 1s 2ms/step - loss: 0.0016 - val_loss: 0.0021\n",
      "Epoch 88/100\n",
      "430/430 [==============================] - 1s 2ms/step - loss: 0.0015 - val_loss: 0.0019\n",
      "Epoch 89/100\n",
      "430/430 [==============================] - 1s 2ms/step - loss: 0.0019 - val_loss: 0.0013\n",
      "Epoch 90/100\n",
      "430/430 [==============================] - 1s 2ms/step - loss: 0.0017 - val_loss: 0.0015\n",
      "Epoch 91/100\n",
      "430/430 [==============================] - 1s 2ms/step - loss: 0.0014 - val_loss: 0.0016\n",
      "Epoch 92/100\n",
      "430/430 [==============================] - 1s 2ms/step - loss: 0.0014 - val_loss: 0.0014\n",
      "Epoch 93/100\n",
      "430/430 [==============================] - 1s 2ms/step - loss: 0.0012 - val_loss: 0.0012\n",
      "Epoch 94/100\n",
      "430/430 [==============================] - 1s 2ms/step - loss: 0.0015 - val_loss: 0.0013\n",
      "Epoch 95/100\n",
      "430/430 [==============================] - 1s 2ms/step - loss: 0.0013 - val_loss: 0.0027\n",
      "Epoch 96/100\n",
      "430/430 [==============================] - 1s 2ms/step - loss: 0.0016 - val_loss: 8.3662e-04\n",
      "Epoch 97/100\n",
      "430/430 [==============================] - 1s 2ms/step - loss: 0.0011 - val_loss: 0.0019\n",
      "Epoch 98/100\n",
      "430/430 [==============================] - 1s 2ms/step - loss: 0.0017 - val_loss: 0.0028\n",
      "Epoch 99/100\n",
      "430/430 [==============================] - 1s 2ms/step - loss: 0.0011 - val_loss: 9.4815e-04\n",
      "Epoch 100/100\n",
      "430/430 [==============================] - 1s 2ms/step - loss: 0.0014 - val_loss: 0.0012\n"
     ]
    }
   ],
   "source": [
    "history = model.fit(X_treino, y_treino, epochs=100,\n",
    "                            callbacks=early_stopping, validation_data=(X_val, y_val),\n",
    "                            batch_size=batch_size)\n",
    "treinamento = pd.DataFrame(history.history)"
   ]
  },
  {
   "cell_type": "markdown",
   "id": "af1b64e8",
   "metadata": {},
   "source": [
    "## Teste com o melhor modelo"
   ]
  },
  {
   "cell_type": "code",
   "execution_count": 73,
   "id": "4020a8ce",
   "metadata": {},
   "outputs": [],
   "source": [
    "y_pred = model.predict(X_teste)"
   ]
  },
  {
   "cell_type": "markdown",
   "id": "63606ed6",
   "metadata": {},
   "source": [
    "### Gráfico"
   ]
  },
  {
   "cell_type": "code",
   "execution_count": 74,
   "id": "7c2719d6",
   "metadata": {},
   "outputs": [
    {
     "data": {
      "application/vnd.jupyter.widget-view+json": {
       "model_id": "1b38b13555b44533a95353e9fed5b612",
       "version_major": 2,
       "version_minor": 0
      },
      "text/plain": [
       "Canvas(toolbar=Toolbar(toolitems=[('Home', 'Reset original view', 'home', 'home'), ('Back', 'Back to previous …"
      ]
     },
     "metadata": {},
     "output_type": "display_data"
    },
    {
     "name": "stderr",
     "output_type": "stream",
     "text": [
      "findfont: Font family ['serif'] not found. Falling back to DejaVu Sans.\n"
     ]
    }
   ],
   "source": [
    "fig, ax = plt.subplots()\n",
    "ax.plot(n[len(n)-int(len(n)*tam_teste):,], y_teste, color='LimeGreen', label='Valor real')\n",
    "ax.plot(n[len(n)-int(len(n)*tam_teste):,], y_pred, color='Silver', label='MLP')\n",
    "\n",
    "ax.set_title(\"Comparação da predição da MLP com o valor real do mapa de Hénon\\n utilizando a rede neural ótima no conjunto de teste\")\n",
    "ax.set_ylabel('$x[n]$')\n",
    "ax.set_xlabel('$n$')\n",
    "ax.set_xlim(4900, 5000)\n",
    "    \n",
    "ax.grid(True)\n",
    "sns.despine()\n",
    "ax.legend()\n",
    "\n",
    "plt.show()\n",
    "fig.savefig(\"../../../../images/mlp-aprimorada/performance/mlp-aprimorada-vs-henon.png\")"
   ]
  },
  {
   "cell_type": "markdown",
   "id": "8620f19a",
   "metadata": {},
   "source": [
    "### Erro Quadrático Médio"
   ]
  },
  {
   "cell_type": "code",
   "execution_count": 75,
   "id": "265e7453",
   "metadata": {},
   "outputs": [],
   "source": [
    "from sklearn.metrics import mean_squared_error"
   ]
  },
  {
   "cell_type": "code",
   "execution_count": 76,
   "id": "7e0e8b8e",
   "metadata": {},
   "outputs": [
    {
     "name": "stdout",
     "output_type": "stream",
     "text": [
      "MSE = 0.0011025438225542763\n"
     ]
    }
   ],
   "source": [
    "mse = mean_squared_error(y_teste, y_pred)\n",
    "print(\"MSE = \" + str(mse))"
   ]
  },
  {
   "cell_type": "markdown",
   "id": "a6bc1834",
   "metadata": {},
   "source": [
    "### Salvando o Modelo"
   ]
  },
  {
   "cell_type": "code",
   "execution_count": 78,
   "id": "198828fc",
   "metadata": {},
   "outputs": [],
   "source": [
    "model.save(\"../../../../models/mlp-aprimorada/mlp-aprimorada-henon.h5\", include_optimizer=True)"
   ]
  },
  {
   "cell_type": "code",
   "execution_count": null,
   "id": "fd39abf4",
   "metadata": {},
   "outputs": [],
   "source": []
  }
 ],
 "metadata": {
  "kernelspec": {
   "display_name": "Python 3",
   "language": "python",
   "name": "python3"
  },
  "language_info": {
   "codemirror_mode": {
    "name": "ipython",
    "version": 3
   },
   "file_extension": ".py",
   "mimetype": "text/x-python",
   "name": "python",
   "nbconvert_exporter": "python",
   "pygments_lexer": "ipython3",
   "version": "3.8.0"
  }
 },
 "nbformat": 4,
 "nbformat_minor": 5
}