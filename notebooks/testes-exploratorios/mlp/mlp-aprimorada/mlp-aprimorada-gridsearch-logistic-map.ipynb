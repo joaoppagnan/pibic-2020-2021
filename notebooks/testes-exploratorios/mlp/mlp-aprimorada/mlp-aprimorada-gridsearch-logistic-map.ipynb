{
 "cells": [
  {
   "cell_type": "markdown",
   "id": "3d0e5b33",
   "metadata": {},
   "source": [
    "# Aprimorando a MLP com Grid Search para escolher o melhor número de camadas intermediárias no Mapa Logístico"
   ]
  },
  {
   "cell_type": "markdown",
   "id": "9f6a071d",
   "metadata": {},
   "source": [
    "## 1. Importando as bibliotecas necessárias"
   ]
  },
  {
   "cell_type": "markdown",
   "id": "0255e367",
   "metadata": {},
   "source": [
    "### 1.1 Bibliotecas gerais"
   ]
  },
  {
   "cell_type": "code",
   "execution_count": 1,
   "id": "aa3b0031",
   "metadata": {},
   "outputs": [],
   "source": [
    "%matplotlib widget\n",
    "import numpy as np\n",
    "import matplotlib.pyplot as plt\n",
    "import seaborn as sns # a biblioteca 'seaborn' contém vários estilos para os gráficos do 'matpĺotlib'\n",
    "\n",
    "# agora, melhoramos a qualidade de saida e de visualizacao da imagem \n",
    "# alem de mudar a fonte padrao para uma do latex\n",
    "sns.set_style(\"ticks\")\n",
    "plt.rcParams['savefig.dpi'] = 200\n",
    "plt.rcParams[\"figure.dpi\"] = 150\n",
    "\n",
    "plt.rcParams.update({\n",
    "    \"text.usetex\": True,\n",
    "    \"font.family\": \"serif\",\n",
    "    \"font.serif\": [\"Palatino\"],\n",
    "})\n",
    "plt.style.use('dark_background')"
   ]
  },
  {
   "cell_type": "markdown",
   "id": "1daee226",
   "metadata": {},
   "source": [
    "### 1.2 Bibliotecas para MLP"
   ]
  },
  {
   "cell_type": "code",
   "execution_count": 2,
   "id": "bf7b113a",
   "metadata": {},
   "outputs": [],
   "source": [
    "import tensorflow as tf\n",
    "physical_devices = tf.config.list_physical_devices('GPU')\n",
    "\n",
    "from tensorflow import keras"
   ]
  },
  {
   "cell_type": "code",
   "execution_count": 3,
   "id": "21691a6f",
   "metadata": {},
   "outputs": [],
   "source": [
    "from sklearn.model_selection import GridSearchCV\n",
    "from sklearn.model_selection import train_test_split"
   ]
  },
  {
   "cell_type": "code",
   "execution_count": 4,
   "id": "4d5b8b86",
   "metadata": {},
   "outputs": [],
   "source": [
    "from tensorflow.keras.wrappers.scikit_learn import KerasRegressor"
   ]
  },
  {
   "cell_type": "markdown",
   "id": "95be1821",
   "metadata": {},
   "source": [
    "### 1.3 Bibliotecas dos sistemas caóticos"
   ]
  },
  {
   "cell_type": "code",
   "execution_count": 5,
   "id": "6bf55540",
   "metadata": {},
   "outputs": [],
   "source": [
    "import sys \n",
    "sys.path.insert(0, '../../../../scripts')\n",
    "\n",
    "import timeseries as times\n",
    "import logisticmap as logmap"
   ]
  },
  {
   "cell_type": "markdown",
   "id": "6b329e09",
   "metadata": {},
   "source": [
    "## 2. Gerando a série temporal do mapa logístico"
   ]
  },
  {
   "cell_type": "markdown",
   "id": "c8cc29da",
   "metadata": {},
   "source": [
    "Os valores para os parâmetros das equações serão os \"básicos\" apresentados no *paper* original. Utilizaremos  $r = 3.86$, o que faz com que o sistema esteja em caos."
   ]
  },
  {
   "cell_type": "code",
   "execution_count": 6,
   "id": "c3e591fe",
   "metadata": {},
   "outputs": [],
   "source": [
    "x_inicial = 0.5\n",
    "n_inicial = 0\n",
    "n_iteracoes = 5000\n",
    "r=3.86\n",
    "estados = np.array([x_inicial, n_inicial])"
   ]
  },
  {
   "cell_type": "code",
   "execution_count": 7,
   "id": "07b30ddd",
   "metadata": {},
   "outputs": [],
   "source": [
    "mapa = logmap.MapaLogistico(estado_inicial=estados, r=r)"
   ]
  },
  {
   "cell_type": "code",
   "execution_count": 8,
   "id": "88b918cb",
   "metadata": {},
   "outputs": [],
   "source": [
    "for n in range(0, n_iteracoes):\n",
    "    mapa.iterar()\n",
    "    estados = np.vstack((estados, mapa.ler_estado()))"
   ]
  },
  {
   "cell_type": "code",
   "execution_count": 9,
   "id": "4e0888d9",
   "metadata": {},
   "outputs": [],
   "source": [
    "x = estados[:, 0]\n",
    "n = estados[:, 1]"
   ]
  },
  {
   "cell_type": "code",
   "execution_count": 10,
   "id": "ccfbe434",
   "metadata": {},
   "outputs": [
    {
     "data": {
      "application/vnd.jupyter.widget-view+json": {
       "model_id": "d1e9d55a9d41484fa9350dbfd221b570",
       "version_major": 2,
       "version_minor": 0
      },
      "text/plain": [
       "Canvas(toolbar=Toolbar(toolitems=[('Home', 'Reset original view', 'home', 'home'), ('Back', 'Back to previous …"
      ]
     },
     "metadata": {},
     "output_type": "display_data"
    }
   ],
   "source": [
    "fig, ax = plt.subplots()\n",
    "ax.plot(n, x, color='Crimson')\n",
    "\n",
    "ax.set_title(\"$100$ iterações iniciais da série temporal do Mapa Logístico\\n para $r =$ \" + str(r) + \" com $x[0] =$ \" + str(x[0]))\n",
    "ax.set_ylabel('$x[n]$')\n",
    "ax.set_xlabel('$n$')\n",
    "ax.set_xlim(0,100)\n",
    "    \n",
    "ax.grid(True)\n",
    "sns.despine()\n",
    "\n",
    "plt.show()"
   ]
  },
  {
   "cell_type": "markdown",
   "id": "86d66469",
   "metadata": {},
   "source": [
    "### 2.1 Dividindo em um conjunto de treinamento e de teste, para K = 4 e L = 3"
   ]
  },
  {
   "cell_type": "code",
   "execution_count": 11,
   "id": "1d3d5361",
   "metadata": {},
   "outputs": [],
   "source": [
    "K = 4\n",
    "L = 3\n",
    "tam_teste = 0.15"
   ]
  },
  {
   "cell_type": "code",
   "execution_count": 12,
   "id": "4acea9b8",
   "metadata": {},
   "outputs": [],
   "source": [
    "serie_temporal = times.SerieTemporal(x, K=K, L=L)"
   ]
  },
  {
   "cell_type": "code",
   "execution_count": 13,
   "id": "fc3a889c",
   "metadata": {},
   "outputs": [],
   "source": [
    "serie_temporal.criar_matrizes()"
   ]
  },
  {
   "cell_type": "code",
   "execution_count": 14,
   "id": "9ef503cd",
   "metadata": {},
   "outputs": [],
   "source": [
    "X_treino, X_teste, y_treino, y_teste = serie_temporal.dividir_treino_teste(tam_teste)"
   ]
  },
  {
   "cell_type": "markdown",
   "id": "7575c0ca",
   "metadata": {},
   "source": [
    "## 3. Definindo o modelo para a MLP"
   ]
  },
  {
   "cell_type": "markdown",
   "id": "6fdd4125",
   "metadata": {},
   "source": [
    "### 3.1 Definindo função para criar a MLP"
   ]
  },
  {
   "cell_type": "code",
   "execution_count": 15,
   "id": "8ee15bb7",
   "metadata": {},
   "outputs": [],
   "source": [
    "def criar_modelo(input_size, optimizer='Nadam', batch_normalization='OFF', learning_rate=0.001, activation='selu', init_mode='lecun_normal', n_neurons=30,\n",
    "                 n_hidden_layers=1, loss=\"mean_squared_error\", name=\"MLP\"):\n",
    "    \n",
    "    if (optimizer=='Nadam'):\n",
    "        model_optimizer = keras.optimizers.Nadam()\n",
    "    \n",
    "    model_optimizer.learning_rate.assign(learning_rate)\n",
    "    \n",
    "    model = keras.Sequential(name=name)\n",
    "    model.add(keras.layers.Dense(input_size, input_dim=input_size, name=\"camada_de_entrada\", activation = 'linear'))\n",
    "    if (batch_normalization == 'ON'):\n",
    "        model.add(keras.layers.BatchNormalization(name=\"camada_de_batch_normalization\"))\n",
    "    for i in range(0, n_hidden_layers):\n",
    "        model.add(keras.layers.Dense(n_neurons, input_dim=input_size, activation=activation, kernel_initializer=init_mode, name=\"camada_intermediaria_\"+str(i+1)))\n",
    "    model.add(keras.layers.Dense(1, activation='linear', name=\"camada_de_saida\"))\n",
    "    \n",
    "    model.compile(\n",
    "        optimizer = model_optimizer,\n",
    "        loss = loss)\n",
    "    \n",
    "    model.build()\n",
    "    return model"
   ]
  },
  {
   "cell_type": "markdown",
   "id": "7527e42d",
   "metadata": {},
   "source": [
    "### 3.2 Definindo parâmetros que não serão definidos pelo *Grid Search*"
   ]
  },
  {
   "cell_type": "code",
   "execution_count": 16,
   "id": "4e6aed79",
   "metadata": {},
   "outputs": [],
   "source": [
    "loss = \"mean_squared_error\"\n",
    "optimizer = 'Nadam'\n",
    "batch_size = 2\n",
    "batch_normalization = 'OFF'\n",
    "activation = 'tanh'\n",
    "init_mode = 'glorot_uniform'\n",
    "n_neurons = 10\n",
    "learning_rate = 0.003\n",
    "input_size = K"
   ]
  },
  {
   "cell_type": "markdown",
   "id": "6eea98ca",
   "metadata": {},
   "source": [
    "### 3.3 Executando *Grid Search* para saber o melhor número de camadas intermediárias"
   ]
  },
  {
   "cell_type": "code",
   "execution_count": 17,
   "id": "bcbab079",
   "metadata": {},
   "outputs": [],
   "source": [
    "model_cv = KerasRegressor(build_fn=criar_modelo, epochs=100, verbose=0, batch_size=batch_size, batch_normalization=batch_normalization,\n",
    "                          learning_rate=learning_rate, activation=activation, init_mode=init_mode, n_neurons=n_neurons,\n",
    "                          loss=loss, optimizer=optimizer, input_size=input_size)"
   ]
  },
  {
   "cell_type": "code",
   "execution_count": 18,
   "id": "249533a7",
   "metadata": {},
   "outputs": [],
   "source": [
    "param_grid = {'n_hidden_layers' : (1, 2, 3, 4, 5)}"
   ]
  },
  {
   "cell_type": "code",
   "execution_count": 19,
   "id": "b39c26df",
   "metadata": {},
   "outputs": [],
   "source": [
    "grid = GridSearchCV(estimator=model_cv, param_grid=param_grid, n_jobs=1, cv=4, scoring='neg_mean_squared_error', verbose=1)"
   ]
  },
  {
   "cell_type": "code",
   "execution_count": 20,
   "id": "bbf6a0ac",
   "metadata": {},
   "outputs": [
    {
     "name": "stdout",
     "output_type": "stream",
     "text": [
      "Fitting 4 folds for each of 5 candidates, totalling 20 fits\n"
     ]
    }
   ],
   "source": [
    "grid_result = grid.fit(X_treino, y_treino)"
   ]
  },
  {
   "cell_type": "code",
   "execution_count": 21,
   "id": "740fab47",
   "metadata": {},
   "outputs": [
    {
     "name": "stdout",
     "output_type": "stream",
     "text": [
      "Best: -0.000648 using {'n_hidden_layers': 3}\n"
     ]
    }
   ],
   "source": [
    "print(\"Best: %f using %s\" % (grid_result.best_score_, grid_result.best_params_))"
   ]
  },
  {
   "cell_type": "code",
   "execution_count": 22,
   "id": "46934e89",
   "metadata": {},
   "outputs": [
    {
     "name": "stdout",
     "output_type": "stream",
     "text": [
      "-0.001085 (0.001061) with: {'n_hidden_layers': 1}\n",
      "-0.000712 (0.000641) with: {'n_hidden_layers': 2}\n",
      "-0.000648 (0.000437) with: {'n_hidden_layers': 3}\n",
      "-0.001340 (0.000412) with: {'n_hidden_layers': 4}\n",
      "-0.002623 (0.002527) with: {'n_hidden_layers': 5}\n"
     ]
    }
   ],
   "source": [
    "means = grid_result.cv_results_['mean_test_score']\n",
    "stds = grid_result.cv_results_['std_test_score']\n",
    "params = grid_result.cv_results_['params']\n",
    "for mean, stdev, param in zip(means, stds, params):\n",
    "    print(\"%f (%f) with: %r\" % (mean, stdev, param))"
   ]
  },
  {
   "cell_type": "markdown",
   "id": "7b6b95aa",
   "metadata": {},
   "source": [
    "### Treino com o melhor modelo"
   ]
  },
  {
   "cell_type": "code",
   "execution_count": 17,
   "id": "248da7cb",
   "metadata": {},
   "outputs": [],
   "source": [
    "n_hidden_layers=3"
   ]
  },
  {
   "cell_type": "code",
   "execution_count": 18,
   "id": "56db8c3b",
   "metadata": {},
   "outputs": [],
   "source": [
    "model = criar_modelo(name=\"MLP-Logistic\", input_size=K, optimizer=optimizer, batch_normalization=batch_normalization,\n",
    "                     learning_rate=learning_rate, activation=activation,\n",
    "                     init_mode=init_mode, n_neurons=n_neurons, n_hidden_layers=n_hidden_layers, loss=loss)"
   ]
  },
  {
   "cell_type": "code",
   "execution_count": 19,
   "id": "1bbaa9c0",
   "metadata": {},
   "outputs": [
    {
     "name": "stdout",
     "output_type": "stream",
     "text": [
      "Model: \"MLP-Logistic\"\n",
      "_________________________________________________________________\n",
      "Layer (type)                 Output Shape              Param #   \n",
      "=================================================================\n",
      "camada_de_entrada (Dense)    (None, 4)                 20        \n",
      "_________________________________________________________________\n",
      "camada_intermediaria_1 (Dens (None, 10)                50        \n",
      "_________________________________________________________________\n",
      "camada_intermediaria_2 (Dens (None, 10)                110       \n",
      "_________________________________________________________________\n",
      "camada_intermediaria_3 (Dens (None, 10)                110       \n",
      "_________________________________________________________________\n",
      "camada_de_saida (Dense)      (None, 1)                 11        \n",
      "=================================================================\n",
      "Total params: 301\n",
      "Trainable params: 301\n",
      "Non-trainable params: 0\n",
      "_________________________________________________________________\n"
     ]
    }
   ],
   "source": [
    "model.summary()"
   ]
  },
  {
   "cell_type": "code",
   "execution_count": 20,
   "id": "6dc5dd84",
   "metadata": {},
   "outputs": [],
   "source": [
    "X_treino, X_val, y_treino, y_val = train_test_split(X_treino, y_treino, test_size=0.1)"
   ]
  },
  {
   "cell_type": "code",
   "execution_count": 21,
   "id": "156db5af",
   "metadata": {},
   "outputs": [],
   "source": [
    "early_stopping = tf.keras.callbacks.EarlyStopping(patience=10, restore_best_weights=True, monitor='val_loss')"
   ]
  },
  {
   "cell_type": "code",
   "execution_count": 22,
   "id": "032330e2",
   "metadata": {},
   "outputs": [
    {
     "name": "stdout",
     "output_type": "stream",
     "text": [
      "Epoch 1/100\n",
      "1910/1910 [==============================] - 4s 2ms/step - loss: 0.0658 - val_loss: 0.0511\n",
      "Epoch 2/100\n",
      "1910/1910 [==============================] - 3s 1ms/step - loss: 0.0537 - val_loss: 0.0445\n",
      "Epoch 3/100\n",
      "1910/1910 [==============================] - 3s 1ms/step - loss: 0.0449 - val_loss: 0.0370\n",
      "Epoch 4/100\n",
      "1910/1910 [==============================] - 3s 1ms/step - loss: 0.0382 - val_loss: 0.0288\n",
      "Epoch 5/100\n",
      "1910/1910 [==============================] - 3s 2ms/step - loss: 0.0336 - val_loss: 0.0258\n",
      "Epoch 6/100\n",
      "1910/1910 [==============================] - 3s 1ms/step - loss: 0.0301 - val_loss: 0.0412\n",
      "Epoch 7/100\n",
      "1910/1910 [==============================] - 3s 1ms/step - loss: 0.0277 - val_loss: 0.0171\n",
      "Epoch 8/100\n",
      "1910/1910 [==============================] - 3s 1ms/step - loss: 0.0232 - val_loss: 0.0156\n",
      "Epoch 9/100\n",
      "1910/1910 [==============================] - 3s 1ms/step - loss: 0.0184 - val_loss: 0.0143\n",
      "Epoch 10/100\n",
      "1910/1910 [==============================] - 3s 1ms/step - loss: 0.0187 - val_loss: 0.0160\n",
      "Epoch 11/100\n",
      "1910/1910 [==============================] - 3s 1ms/step - loss: 0.0144 - val_loss: 0.0077\n",
      "Epoch 12/100\n",
      "1910/1910 [==============================] - 3s 1ms/step - loss: 0.0110 - val_loss: 0.0064\n",
      "Epoch 13/100\n",
      "1910/1910 [==============================] - 3s 1ms/step - loss: 0.0089 - val_loss: 0.0045\n",
      "Epoch 14/100\n",
      "1910/1910 [==============================] - 3s 1ms/step - loss: 0.0079 - val_loss: 0.0026\n",
      "Epoch 15/100\n",
      "1910/1910 [==============================] - 3s 1ms/step - loss: 0.0053 - val_loss: 0.0030\n",
      "Epoch 16/100\n",
      "1910/1910 [==============================] - 3s 1ms/step - loss: 0.0052 - val_loss: 0.0040\n",
      "Epoch 17/100\n",
      "1910/1910 [==============================] - 3s 1ms/step - loss: 0.0054 - val_loss: 0.0036\n",
      "Epoch 18/100\n",
      "1910/1910 [==============================] - 3s 1ms/step - loss: 0.0031 - val_loss: 0.0050\n",
      "Epoch 19/100\n",
      "1910/1910 [==============================] - 3s 1ms/step - loss: 0.0027 - val_loss: 0.0030\n",
      "Epoch 20/100\n",
      "1910/1910 [==============================] - 3s 2ms/step - loss: 0.0024 - val_loss: 0.0120\n",
      "Epoch 21/100\n",
      "1910/1910 [==============================] - 3s 1ms/step - loss: 0.0033 - val_loss: 0.0048\n",
      "Epoch 22/100\n",
      "1910/1910 [==============================] - 3s 2ms/step - loss: 0.0032 - val_loss: 0.0025\n",
      "Epoch 23/100\n",
      "1910/1910 [==============================] - 3s 1ms/step - loss: 0.0025 - val_loss: 0.0011\n",
      "Epoch 24/100\n",
      "1910/1910 [==============================] - 3s 1ms/step - loss: 0.0027 - val_loss: 9.0939e-04\n",
      "Epoch 25/100\n",
      "1910/1910 [==============================] - 3s 1ms/step - loss: 0.0026 - val_loss: 8.0282e-04\n",
      "Epoch 26/100\n",
      "1910/1910 [==============================] - 3s 1ms/step - loss: 0.0026 - val_loss: 0.0045\n",
      "Epoch 27/100\n",
      "1910/1910 [==============================] - 3s 1ms/step - loss: 0.0024 - val_loss: 0.0024\n",
      "Epoch 28/100\n",
      "1910/1910 [==============================] - 3s 1ms/step - loss: 0.0027 - val_loss: 0.0016\n",
      "Epoch 29/100\n",
      "1910/1910 [==============================] - 3s 1ms/step - loss: 0.0021 - val_loss: 9.9217e-04\n",
      "Epoch 30/100\n",
      "1910/1910 [==============================] - 3s 1ms/step - loss: 0.0018 - val_loss: 0.0011\n",
      "Epoch 31/100\n",
      "1910/1910 [==============================] - 3s 1ms/step - loss: 0.0014 - val_loss: 0.0055\n",
      "Epoch 32/100\n",
      "1910/1910 [==============================] - 3s 1ms/step - loss: 0.0022 - val_loss: 0.0011\n",
      "Epoch 33/100\n",
      "1910/1910 [==============================] - 3s 1ms/step - loss: 0.0029 - val_loss: 5.7254e-04\n",
      "Epoch 34/100\n",
      "1910/1910 [==============================] - 3s 1ms/step - loss: 0.0018 - val_loss: 6.2090e-04\n",
      "Epoch 35/100\n",
      "1910/1910 [==============================] - 3s 1ms/step - loss: 0.0016 - val_loss: 0.0010\n",
      "Epoch 36/100\n",
      "1910/1910 [==============================] - 3s 1ms/step - loss: 0.0023 - val_loss: 8.2484e-04\n",
      "Epoch 37/100\n",
      "1910/1910 [==============================] - 3s 1ms/step - loss: 0.0019 - val_loss: 0.0017\n",
      "Epoch 38/100\n",
      "1910/1910 [==============================] - 3s 1ms/step - loss: 0.0018 - val_loss: 0.0013\n",
      "Epoch 39/100\n",
      "1910/1910 [==============================] - 3s 1ms/step - loss: 0.0020 - val_loss: 0.0035\n",
      "Epoch 40/100\n",
      "1910/1910 [==============================] - 3s 1ms/step - loss: 0.0024 - val_loss: 0.0011\n",
      "Epoch 41/100\n",
      "1910/1910 [==============================] - 3s 1ms/step - loss: 0.0018 - val_loss: 0.0034\n",
      "Epoch 42/100\n",
      "1910/1910 [==============================] - 3s 1ms/step - loss: 0.0018 - val_loss: 6.4257e-04\n",
      "Epoch 43/100\n",
      "1910/1910 [==============================] - 3s 1ms/step - loss: 0.0018 - val_loss: 0.0012\n"
     ]
    }
   ],
   "source": [
    "history = model.fit(X_treino, y_treino, epochs=100,\n",
    "                            callbacks=early_stopping, validation_data=(X_val, y_val),\n",
    "                            batch_size=batch_size)\n",
    "treinamento = pd.DataFrame(history.history)"
   ]
  },
  {
   "cell_type": "markdown",
   "id": "2a6168a2",
   "metadata": {},
   "source": [
    "## Teste com o melhor modelo"
   ]
  },
  {
   "cell_type": "code",
   "execution_count": 23,
   "id": "8b298931",
   "metadata": {},
   "outputs": [],
   "source": [
    "y_pred = model.predict(X_teste)"
   ]
  },
  {
   "cell_type": "markdown",
   "id": "ca59899d",
   "metadata": {},
   "source": [
    "### Gráfico"
   ]
  },
  {
   "cell_type": "code",
   "execution_count": 24,
   "id": "45031ea4",
   "metadata": {},
   "outputs": [
    {
     "data": {
      "application/vnd.jupyter.widget-view+json": {
       "model_id": "9452ee636e074958bd36c6705e0b6010",
       "version_major": 2,
       "version_minor": 0
      },
      "text/plain": [
       "Canvas(toolbar=Toolbar(toolitems=[('Home', 'Reset original view', 'home', 'home'), ('Back', 'Back to previous …"
      ]
     },
     "metadata": {},
     "output_type": "display_data"
    },
    {
     "name": "stderr",
     "output_type": "stream",
     "text": [
      "findfont: Font family ['serif'] not found. Falling back to DejaVu Sans.\n"
     ]
    }
   ],
   "source": [
    "fig, ax = plt.subplots()\n",
    "ax.plot(n[len(n)-int(len(n)*tam_teste):,], y_teste, color='Crimson', label='Valor real')\n",
    "ax.plot(n[len(n)-int(len(n)*tam_teste):,], y_pred, color='Silver', label='MLP')\n",
    "\n",
    "ax.set_title(\"Comparação da predição da MLP com o valor real do mapa logístico\\n utilizando a rede neural ótima no conjunto de teste\")\n",
    "ax.set_ylabel('$x[n]$')\n",
    "ax.set_xlabel('$n$')\n",
    "ax.set_xlim(4900, 5000)\n",
    "    \n",
    "ax.grid(True)\n",
    "sns.despine()\n",
    "ax.legend()\n",
    "\n",
    "plt.show()\n",
    "fig.savefig(\"../../../../images/mlp-aprimorada/performance/mlp-aprimorada-vs-logistic.png\")"
   ]
  },
  {
   "cell_type": "markdown",
   "id": "0eb00b97",
   "metadata": {},
   "source": [
    "### Erro Quadrático Médio"
   ]
  },
  {
   "cell_type": "code",
   "execution_count": 25,
   "id": "a7b4facd",
   "metadata": {},
   "outputs": [],
   "source": [
    "from sklearn.metrics import mean_squared_error"
   ]
  },
  {
   "cell_type": "code",
   "execution_count": 26,
   "id": "0e79998c",
   "metadata": {},
   "outputs": [
    {
     "name": "stdout",
     "output_type": "stream",
     "text": [
      "MSE = 0.0004798115579378768\n"
     ]
    }
   ],
   "source": [
    "mse = mean_squared_error(y_teste, y_pred)\n",
    "print(\"MSE = \" + str(mse))"
   ]
  },
  {
   "cell_type": "markdown",
   "id": "3cf0c709",
   "metadata": {},
   "source": [
    "### Salvando o Modelo"
   ]
  },
  {
   "cell_type": "code",
   "execution_count": 27,
   "id": "4fe536d3",
   "metadata": {},
   "outputs": [],
   "source": [
    "model.save(\"../../../../models/mlp-aprimorada/mlp-aprimorada-logistic.h5\", include_optimizer=True)"
   ]
  },
  {
   "cell_type": "code",
   "execution_count": null,
   "id": "cb4dd1d8",
   "metadata": {},
   "outputs": [],
   "source": []
  }
 ],
 "metadata": {
  "kernelspec": {
   "display_name": "Python 3",
   "language": "python",
   "name": "python3"
  },
  "language_info": {
   "codemirror_mode": {
    "name": "ipython",
    "version": 3
   },
   "file_extension": ".py",
   "mimetype": "text/x-python",
   "name": "python",
   "nbconvert_exporter": "python",
   "pygments_lexer": "ipython3",
   "version": "3.8.0"
  }
 },
 "nbformat": 4,
 "nbformat_minor": 5
}
