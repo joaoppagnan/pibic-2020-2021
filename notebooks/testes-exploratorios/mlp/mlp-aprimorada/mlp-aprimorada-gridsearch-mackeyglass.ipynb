{
 "cells": [
  {
   "cell_type": "markdown",
   "id": "58689d8d",
   "metadata": {},
   "source": [
    "# Aprimorando a MLP com Grid Search para escolher o melhor número de camadas intermediárias nas Equações de Mackey-Glass"
   ]
  },
  {
   "cell_type": "markdown",
   "id": "24efc0fd",
   "metadata": {},
   "source": [
    "## 1. Importando as bibliotecas necessárias"
   ]
  },
  {
   "cell_type": "markdown",
   "id": "41afed46",
   "metadata": {},
   "source": [
    "### 1.1 Bibliotecas gerais"
   ]
  },
  {
   "cell_type": "code",
   "execution_count": 32,
   "id": "4897d2fd",
   "metadata": {},
   "outputs": [],
   "source": [
    "%matplotlib widget\n",
    "import numpy as np\n",
    "import matplotlib.pyplot as plt\n",
    "import seaborn as sns # a biblioteca 'seaborn' contém vários estilos para os gráficos do 'matpĺotlib'\n",
    "\n",
    "# agora, melhoramos a qualidade de saida e de visualizacao da imagem \n",
    "# alem de mudar a fonte padrao para uma do latex\n",
    "sns.set_style(\"ticks\")\n",
    "plt.rcParams['savefig.dpi'] = 200\n",
    "plt.rcParams[\"figure.dpi\"] = 150\n",
    "\n",
    "plt.rcParams.update({\n",
    "    \"text.usetex\": True,\n",
    "    \"font.family\": \"serif\",\n",
    "    \"font.serif\": [\"Palatino\"],\n",
    "})\n",
    "plt.style.use('dark_background')"
   ]
  },
  {
   "cell_type": "markdown",
   "id": "be0ea380",
   "metadata": {},
   "source": [
    "### 1.2 Bibliotecas para MLP"
   ]
  },
  {
   "cell_type": "code",
   "execution_count": 2,
   "id": "4ab896ca",
   "metadata": {},
   "outputs": [],
   "source": [
    "import tensorflow as tf\n",
    "physical_devices = tf.config.list_physical_devices('GPU')\n",
    "\n",
    "from tensorflow import keras"
   ]
  },
  {
   "cell_type": "code",
   "execution_count": 3,
   "id": "e15a3c3a",
   "metadata": {},
   "outputs": [],
   "source": [
    "from sklearn.model_selection import GridSearchCV\n",
    "from sklearn.model_selection import train_test_split"
   ]
  },
  {
   "cell_type": "code",
   "execution_count": 4,
   "id": "a04ade72",
   "metadata": {},
   "outputs": [],
   "source": [
    "from tensorflow.keras.wrappers.scikit_learn import KerasRegressor"
   ]
  },
  {
   "cell_type": "markdown",
   "id": "0556653f",
   "metadata": {},
   "source": [
    "### 1.3 Bibliotecas dos sistemas caóticos"
   ]
  },
  {
   "cell_type": "code",
   "execution_count": 5,
   "id": "e5cbb802",
   "metadata": {},
   "outputs": [],
   "source": [
    "import sys \n",
    "sys.path.insert(0, '../../../../scripts')\n",
    "\n",
    "import timeseries as times\n",
    "import mackeyglassequations as mgeq"
   ]
  },
  {
   "cell_type": "markdown",
   "id": "a37280cd",
   "metadata": {},
   "source": [
    "## 2. Gerando a série temporal"
   ]
  },
  {
   "cell_type": "code",
   "execution_count": 6,
   "id": "0a934bf7",
   "metadata": {},
   "outputs": [],
   "source": [
    "t_inicial = 0\n",
    "t_final = 5000\n",
    "tau = 22\n",
    "n = 10\n",
    "gamma = 0.1\n",
    "beta = 0.2\n",
    "theta = 1"
   ]
  },
  {
   "cell_type": "code",
   "execution_count": 7,
   "id": "31c9af9d",
   "metadata": {},
   "outputs": [],
   "source": [
    "macglass = mgeq.MackeyGlass(tau=tau, gamma=gamma, beta=beta, n=n, theta=theta)"
   ]
  },
  {
   "cell_type": "code",
   "execution_count": 8,
   "id": "b89dc247",
   "metadata": {},
   "outputs": [
    {
     "name": "stdout",
     "output_type": "stream",
     "text": [
      "Generating, compiling, and loading C code.\n",
      "Using default integration parameters.\n"
     ]
    }
   ],
   "source": [
    "solucoes, instantes_temporais = macglass.calcular(t_inicial = t_inicial, t_final = t_final)"
   ]
  },
  {
   "cell_type": "markdown",
   "id": "e8be78bf",
   "metadata": {},
   "source": [
    "### Série Temporal de Mackey-Glass"
   ]
  },
  {
   "cell_type": "code",
   "execution_count": 9,
   "id": "0b324077",
   "metadata": {},
   "outputs": [
    {
     "data": {
      "application/vnd.jupyter.widget-view+json": {
       "model_id": "66206767c6f34ca1b21f9256596e5fde",
       "version_major": 2,
       "version_minor": 0
      },
      "text/plain": [
       "Canvas(toolbar=Toolbar(toolitems=[('Home', 'Reset original view', 'home', 'home'), ('Back', 'Back to previous …"
      ]
     },
     "metadata": {},
     "output_type": "display_data"
    }
   ],
   "source": [
    "fig, ax = plt.subplots()\n",
    "ax.set_title('Série temporal de 0 a 600 dias da equação de Mackey-Glass para\\n' + r'$\\tau =$ ' + str(tau) + r', $\\beta =$ ' + str(beta) + r', $\\gamma =$ ' + str(gamma) + r', $n =$ ' + str(n) + r' e $\\theta =$ ' + str(theta) + ' utilizando $P(0) =$ ' + str(0.1*theta))\n",
    "ax.plot(instantes_temporais, solucoes, color='Gold')\n",
    "\n",
    "ax.set_ylabel('$P(t)$')\n",
    "ax.set_xlabel('$t$')\n",
    "ax.set_xlim(0,600)\n",
    "    \n",
    "ax.grid(True)\n",
    "\n",
    "fig.tight_layout()\n",
    "sns.despine()\n",
    "plt.show()"
   ]
  },
  {
   "cell_type": "markdown",
   "id": "1f542479",
   "metadata": {},
   "source": [
    "### 2.1 Dividindo em um conjunto de treinamento e de teste, para K = 4 e L = 3"
   ]
  },
  {
   "cell_type": "code",
   "execution_count": 10,
   "id": "7519987f",
   "metadata": {},
   "outputs": [],
   "source": [
    "K = 4\n",
    "L = 3\n",
    "tam_teste = 0.15"
   ]
  },
  {
   "cell_type": "code",
   "execution_count": 11,
   "id": "cee3faef",
   "metadata": {},
   "outputs": [],
   "source": [
    "x = np.array(solucoes)\n",
    "x = np.reshape(x, (1, len(x)))\n",
    "x = x[0]"
   ]
  },
  {
   "cell_type": "code",
   "execution_count": 12,
   "id": "3da3aac4",
   "metadata": {},
   "outputs": [],
   "source": [
    "serie_temporal = times.SerieTemporal(x, K=K, L=L)"
   ]
  },
  {
   "cell_type": "code",
   "execution_count": 14,
   "id": "a0372e15",
   "metadata": {},
   "outputs": [],
   "source": [
    "X_treino, X_teste, y_treino, y_teste = serie_temporal.dividir_treino_teste(tam_teste)"
   ]
  },
  {
   "cell_type": "markdown",
   "id": "8091b7e9",
   "metadata": {},
   "source": [
    "## 3. Definindo o modelo para a MLP"
   ]
  },
  {
   "cell_type": "markdown",
   "id": "a1a7ace3",
   "metadata": {},
   "source": [
    "### 3.1 Definindo função para criar a MLP"
   ]
  },
  {
   "cell_type": "code",
   "execution_count": 15,
   "id": "df95b76b",
   "metadata": {},
   "outputs": [],
   "source": [
    "def criar_modelo(input_size, optimizer='Nadam', batch_normalization='OFF', learning_rate=0.001, activation='selu', init_mode='lecun_normal', n_neurons=30,\n",
    "                 n_hidden_layers=1, loss=\"mean_squared_error\", name=\"MLP\"):\n",
    "    \n",
    "    if (optimizer=='Nadam'):\n",
    "        model_optimizer = keras.optimizers.Nadam()\n",
    "    \n",
    "    model_optimizer.learning_rate.assign(learning_rate)\n",
    "    \n",
    "    model = keras.Sequential(name=name)\n",
    "    model.add(keras.layers.Dense(input_size, input_dim=input_size, name=\"camada_de_entrada\", activation = 'linear'))\n",
    "    if (batch_normalization == 'ON'):\n",
    "        model.add(keras.layers.BatchNormalization(name=\"camada_de_batch_normalization\"))\n",
    "    for i in range(0, n_hidden_layers):\n",
    "        model.add(keras.layers.Dense(n_neurons, input_dim=input_size, activation=activation, kernel_initializer=init_mode, name=\"camada_intermediaria_\"+str(i+1)))\n",
    "    model.add(keras.layers.Dense(1, activation='linear', name=\"camada_de_saida\"))\n",
    "    \n",
    "    model.compile(\n",
    "        optimizer = model_optimizer,\n",
    "        loss = loss)\n",
    "    \n",
    "    model.build()\n",
    "    return model"
   ]
  },
  {
   "cell_type": "markdown",
   "id": "45c1d840",
   "metadata": {},
   "source": [
    "### 3.2 Definindo parâmetros que não serão definidos pelo *Grid Search*"
   ]
  },
  {
   "cell_type": "code",
   "execution_count": 16,
   "id": "233ca694",
   "metadata": {},
   "outputs": [],
   "source": [
    "loss = \"mean_squared_error\"\n",
    "optimizer = 'Nadam'\n",
    "batch_size = 4\n",
    "batch_normalization = 'OFF'\n",
    "activation = 'tanh'\n",
    "init_mode = 'glorot_normal'\n",
    "n_neurons = 5\n",
    "learning_rate = 0.001\n",
    "input_size = K"
   ]
  },
  {
   "cell_type": "markdown",
   "id": "2b86e196",
   "metadata": {},
   "source": [
    "### 3.3 Executando *Grid Search* para saber o melhor número de camadas intermediárias"
   ]
  },
  {
   "cell_type": "code",
   "execution_count": 17,
   "id": "d9edbe58",
   "metadata": {},
   "outputs": [],
   "source": [
    "model_cv = KerasRegressor(build_fn=criar_modelo, epochs=100, verbose=0, batch_size=batch_size, batch_normalization=batch_normalization,\n",
    "                          learning_rate=learning_rate, activation=activation, init_mode=init_mode, n_neurons=n_neurons,\n",
    "                          loss=loss, optimizer=optimizer, input_size=input_size)"
   ]
  },
  {
   "cell_type": "code",
   "execution_count": 18,
   "id": "85f4909a",
   "metadata": {},
   "outputs": [],
   "source": [
    "param_grid = {'n_hidden_layers' : (1, 2, 3, 4, 5)}"
   ]
  },
  {
   "cell_type": "code",
   "execution_count": 19,
   "id": "4c74c17a",
   "metadata": {},
   "outputs": [],
   "source": [
    "grid = GridSearchCV(estimator=model_cv, param_grid=param_grid, n_jobs=1, cv=4, scoring='neg_mean_squared_error', verbose=1)"
   ]
  },
  {
   "cell_type": "code",
   "execution_count": 20,
   "id": "8a0913ec",
   "metadata": {},
   "outputs": [
    {
     "name": "stdout",
     "output_type": "stream",
     "text": [
      "Fitting 4 folds for each of 5 candidates, totalling 20 fits\n"
     ]
    }
   ],
   "source": [
    "grid_result = grid.fit(X_treino, y_treino)"
   ]
  },
  {
   "cell_type": "code",
   "execution_count": 21,
   "id": "edd4ddab",
   "metadata": {},
   "outputs": [
    {
     "name": "stdout",
     "output_type": "stream",
     "text": [
      "Best: -0.000546 using {'n_hidden_layers': 2}\n"
     ]
    }
   ],
   "source": [
    "print(\"Best: %f using %s\" % (grid_result.best_score_, grid_result.best_params_))"
   ]
  },
  {
   "cell_type": "code",
   "execution_count": 22,
   "id": "ad2859b0",
   "metadata": {},
   "outputs": [
    {
     "name": "stdout",
     "output_type": "stream",
     "text": [
      "-0.000603 (0.000247) with: {'n_hidden_layers': 1}\n",
      "-0.000546 (0.000042) with: {'n_hidden_layers': 2}\n",
      "-0.000607 (0.000210) with: {'n_hidden_layers': 3}\n",
      "-0.000592 (0.000211) with: {'n_hidden_layers': 4}\n",
      "-0.000577 (0.000246) with: {'n_hidden_layers': 5}\n"
     ]
    }
   ],
   "source": [
    "means = grid_result.cv_results_['mean_test_score']\n",
    "stds = grid_result.cv_results_['std_test_score']\n",
    "params = grid_result.cv_results_['params']\n",
    "for mean, stdev, param in zip(means, stds, params):\n",
    "    print(\"%f (%f) with: %r\" % (mean, stdev, param))"
   ]
  },
  {
   "cell_type": "markdown",
   "id": "35b12f5b",
   "metadata": {},
   "source": [
    "### Treino com o melhor modelo"
   ]
  },
  {
   "cell_type": "code",
   "execution_count": 23,
   "id": "13778ff0",
   "metadata": {},
   "outputs": [],
   "source": [
    "n_hidden_layers = 2"
   ]
  },
  {
   "cell_type": "code",
   "execution_count": 24,
   "id": "32b05429",
   "metadata": {},
   "outputs": [],
   "source": [
    "model = criar_modelo(name=\"MLP-MackeyGlass\", input_size=K, optimizer=optimizer, batch_normalization=batch_normalization,\n",
    "                     learning_rate=learning_rate, activation=activation,\n",
    "                     init_mode=init_mode, n_neurons=n_neurons, n_hidden_layers=n_hidden_layers, loss=loss)"
   ]
  },
  {
   "cell_type": "code",
   "execution_count": 25,
   "id": "3af787b1",
   "metadata": {},
   "outputs": [
    {
     "name": "stdout",
     "output_type": "stream",
     "text": [
      "Model: \"MLP-MackeyGlass\"\n",
      "_________________________________________________________________\n",
      "Layer (type)                 Output Shape              Param #   \n",
      "=================================================================\n",
      "camada_de_entrada (Dense)    (None, 4)                 20        \n",
      "_________________________________________________________________\n",
      "camada_intermediaria_1 (Dens (None, 5)                 25        \n",
      "_________________________________________________________________\n",
      "camada_intermediaria_2 (Dens (None, 5)                 30        \n",
      "_________________________________________________________________\n",
      "camada_de_saida (Dense)      (None, 1)                 6         \n",
      "=================================================================\n",
      "Total params: 81\n",
      "Trainable params: 81\n",
      "Non-trainable params: 0\n",
      "_________________________________________________________________\n"
     ]
    }
   ],
   "source": [
    "model.summary()"
   ]
  },
  {
   "cell_type": "code",
   "execution_count": 26,
   "id": "128a2b8d",
   "metadata": {},
   "outputs": [],
   "source": [
    "X_treino, X_val, y_treino, y_val = train_test_split(X_treino, y_treino, test_size=0.1)"
   ]
  },
  {
   "cell_type": "code",
   "execution_count": 27,
   "id": "e77cb04b",
   "metadata": {},
   "outputs": [],
   "source": [
    "early_stopping = tf.keras.callbacks.EarlyStopping(patience=10, restore_best_weights=True, monitor='val_loss')"
   ]
  },
  {
   "cell_type": "code",
   "execution_count": 28,
   "id": "00e177d1",
   "metadata": {},
   "outputs": [
    {
     "name": "stdout",
     "output_type": "stream",
     "text": [
      "Epoch 1/100\n",
      "955/955 [==============================] - 2s 2ms/step - loss: 0.2135 - val_loss: 0.0228\n",
      "Epoch 2/100\n",
      "955/955 [==============================] - 1s 1ms/step - loss: 0.0193 - val_loss: 0.0126\n",
      "Epoch 3/100\n",
      "955/955 [==============================] - 1s 1ms/step - loss: 0.0095 - val_loss: 0.0040\n",
      "Epoch 4/100\n",
      "955/955 [==============================] - 1s 1ms/step - loss: 0.0034 - val_loss: 0.0033\n",
      "Epoch 5/100\n",
      "955/955 [==============================] - 1s 1ms/step - loss: 0.0031 - val_loss: 0.0030\n",
      "Epoch 6/100\n",
      "955/955 [==============================] - 1s 1ms/step - loss: 0.0030 - val_loss: 0.0032\n",
      "Epoch 7/100\n",
      "955/955 [==============================] - 1s 1ms/step - loss: 0.0030 - val_loss: 0.0028\n",
      "Epoch 8/100\n",
      "955/955 [==============================] - 1s 1ms/step - loss: 0.0029 - val_loss: 0.0043\n",
      "Epoch 9/100\n",
      "955/955 [==============================] - 1s 1ms/step - loss: 0.0029 - val_loss: 0.0033\n",
      "Epoch 10/100\n",
      "955/955 [==============================] - 1s 1ms/step - loss: 0.0029 - val_loss: 0.0027\n",
      "Epoch 11/100\n",
      "955/955 [==============================] - 1s 2ms/step - loss: 0.0028 - val_loss: 0.0031\n",
      "Epoch 12/100\n",
      "955/955 [==============================] - 1s 1ms/step - loss: 0.0027 - val_loss: 0.0027\n",
      "Epoch 13/100\n",
      "955/955 [==============================] - 1s 1ms/step - loss: 0.0026 - val_loss: 0.0030\n",
      "Epoch 14/100\n",
      "955/955 [==============================] - ETA: 0s - loss: 0.002 - 1s 1ms/step - loss: 0.0026 - val_loss: 0.0025\n",
      "Epoch 15/100\n",
      "955/955 [==============================] - 1s 1ms/step - loss: 0.0026 - val_loss: 0.0026\n",
      "Epoch 16/100\n",
      "955/955 [==============================] - 1s 1ms/step - loss: 0.0025 - val_loss: 0.0024\n",
      "Epoch 17/100\n",
      "955/955 [==============================] - 1s 1ms/step - loss: 0.0025 - val_loss: 0.0023\n",
      "Epoch 18/100\n",
      "955/955 [==============================] - 1s 2ms/step - loss: 0.0025 - val_loss: 0.0027\n",
      "Epoch 19/100\n",
      "955/955 [==============================] - 1s 1ms/step - loss: 0.0023 - val_loss: 0.0025\n",
      "Epoch 20/100\n",
      "955/955 [==============================] - 1s 1ms/step - loss: 0.0023 - val_loss: 0.0022\n",
      "Epoch 21/100\n",
      "955/955 [==============================] - 1s 1ms/step - loss: 0.0022 - val_loss: 0.0023\n",
      "Epoch 22/100\n",
      "955/955 [==============================] - 2s 2ms/step - loss: 0.0023 - val_loss: 0.0020\n",
      "Epoch 23/100\n",
      "955/955 [==============================] - 1s 1ms/step - loss: 0.0021 - val_loss: 0.0023\n",
      "Epoch 24/100\n",
      "955/955 [==============================] - 1s 1ms/step - loss: 0.0021 - val_loss: 0.0021\n",
      "Epoch 25/100\n",
      "955/955 [==============================] - 1s 1ms/step - loss: 0.0022 - val_loss: 0.0022\n",
      "Epoch 26/100\n",
      "955/955 [==============================] - 1s 1ms/step - loss: 0.0021 - val_loss: 0.0020\n",
      "Epoch 27/100\n",
      "955/955 [==============================] - 1s 1ms/step - loss: 0.0021 - val_loss: 0.0019\n",
      "Epoch 28/100\n",
      "955/955 [==============================] - 1s 1ms/step - loss: 0.0019 - val_loss: 0.0028\n",
      "Epoch 29/100\n",
      "955/955 [==============================] - 1s 2ms/step - loss: 0.0019 - val_loss: 0.0023\n",
      "Epoch 30/100\n",
      "955/955 [==============================] - 1s 1ms/step - loss: 0.0020 - val_loss: 0.0018\n",
      "Epoch 31/100\n",
      "955/955 [==============================] - 1s 1ms/step - loss: 0.0019 - val_loss: 0.0018\n",
      "Epoch 32/100\n",
      "955/955 [==============================] - 1s 1ms/step - loss: 0.0018 - val_loss: 0.0017\n",
      "Epoch 33/100\n",
      "955/955 [==============================] - 2s 2ms/step - loss: 0.0017 - val_loss: 0.0016\n",
      "Epoch 34/100\n",
      "955/955 [==============================] - 1s 1ms/step - loss: 0.0018 - val_loss: 0.0018\n",
      "Epoch 35/100\n",
      "955/955 [==============================] - 1s 1ms/step - loss: 0.0017 - val_loss: 0.0016\n",
      "Epoch 36/100\n",
      "955/955 [==============================] - 1s 2ms/step - loss: 0.0017 - val_loss: 0.0017\n",
      "Epoch 37/100\n",
      "955/955 [==============================] - 1s 1ms/step - loss: 0.0017 - val_loss: 0.0016\n",
      "Epoch 38/100\n",
      "955/955 [==============================] - 1s 1ms/step - loss: 0.0016 - val_loss: 0.0014\n",
      "Epoch 39/100\n",
      "955/955 [==============================] - 1s 1ms/step - loss: 0.0015 - val_loss: 0.0015\n",
      "Epoch 40/100\n",
      "955/955 [==============================] - 1s 1ms/step - loss: 0.0016 - val_loss: 0.0016\n",
      "Epoch 41/100\n",
      "955/955 [==============================] - 1s 1ms/step - loss: 0.0015 - val_loss: 0.0013\n",
      "Epoch 42/100\n",
      "955/955 [==============================] - 1s 1ms/step - loss: 0.0014 - val_loss: 0.0013\n",
      "Epoch 43/100\n",
      "955/955 [==============================] - 1s 1ms/step - loss: 0.0014 - val_loss: 0.0013\n",
      "Epoch 44/100\n",
      "955/955 [==============================] - 1s 1ms/step - loss: 0.0013 - val_loss: 0.0015\n",
      "Epoch 45/100\n",
      "955/955 [==============================] - 1s 2ms/step - loss: 0.0013 - val_loss: 0.0011\n",
      "Epoch 46/100\n",
      "955/955 [==============================] - 1s 1ms/step - loss: 0.0013 - val_loss: 0.0012\n",
      "Epoch 47/100\n",
      "955/955 [==============================] - 1s 1ms/step - loss: 0.0012 - val_loss: 0.0012\n",
      "Epoch 48/100\n",
      "955/955 [==============================] - 1s 1ms/step - loss: 0.0011 - val_loss: 9.1950e-04\n",
      "Epoch 49/100\n",
      "955/955 [==============================] - 1s 1ms/step - loss: 0.0011 - val_loss: 8.6334e-04\n",
      "Epoch 50/100\n",
      "955/955 [==============================] - 1s 1ms/step - loss: 9.9592e-04 - val_loss: 0.0012\n",
      "Epoch 51/100\n",
      "955/955 [==============================] - 1s 1ms/step - loss: 9.6766e-04 - val_loss: 7.9913e-04\n",
      "Epoch 52/100\n",
      "955/955 [==============================] - 1s 1ms/step - loss: 8.5702e-04 - val_loss: 6.9339e-04\n",
      "Epoch 53/100\n",
      "955/955 [==============================] - 1s 1ms/step - loss: 8.3058e-04 - val_loss: 0.0011\n",
      "Epoch 54/100\n",
      "955/955 [==============================] - 1s 1ms/step - loss: 7.6651e-04 - val_loss: 6.2239e-04\n",
      "Epoch 55/100\n",
      "955/955 [==============================] - 1s 1ms/step - loss: 7.7133e-04 - val_loss: 7.6777e-04\n",
      "Epoch 56/100\n",
      "955/955 [==============================] - 1s 1ms/step - loss: 7.0924e-04 - val_loss: 0.0011\n",
      "Epoch 57/100\n",
      "955/955 [==============================] - 1s 1ms/step - loss: 6.9297e-04 - val_loss: 6.9705e-04\n",
      "Epoch 58/100\n",
      "955/955 [==============================] - 1s 1ms/step - loss: 6.8431e-04 - val_loss: 5.0806e-04\n",
      "Epoch 59/100\n",
      "955/955 [==============================] - 1s 2ms/step - loss: 6.8730e-04 - val_loss: 5.2834e-04\n",
      "Epoch 60/100\n",
      "955/955 [==============================] - 1s 1ms/step - loss: 6.4437e-04 - val_loss: 6.3648e-04\n",
      "Epoch 61/100\n",
      "955/955 [==============================] - 1s 1ms/step - loss: 6.3806e-04 - val_loss: 0.0012\n",
      "Epoch 62/100\n",
      "955/955 [==============================] - 1s 1ms/step - loss: 6.2563e-04 - val_loss: 5.1810e-04\n",
      "Epoch 63/100\n",
      "955/955 [==============================] - 1s 1ms/step - loss: 6.3113e-04 - val_loss: 4.9701e-04\n",
      "Epoch 64/100\n",
      "955/955 [==============================] - 1s 1ms/step - loss: 6.0177e-04 - val_loss: 6.0077e-04\n",
      "Epoch 65/100\n",
      "955/955 [==============================] - 1s 1ms/step - loss: 6.2023e-04 - val_loss: 8.5599e-04\n",
      "Epoch 66/100\n",
      "955/955 [==============================] - 1s 1ms/step - loss: 6.3847e-04 - val_loss: 4.5593e-04\n",
      "Epoch 67/100\n",
      "955/955 [==============================] - 1s 1ms/step - loss: 6.2440e-04 - val_loss: 5.0220e-04\n",
      "Epoch 68/100\n",
      "955/955 [==============================] - 1s 1ms/step - loss: 6.1987e-04 - val_loss: 6.9603e-04\n",
      "Epoch 69/100\n",
      "955/955 [==============================] - 1s 1ms/step - loss: 5.8675e-04 - val_loss: 5.5468e-04\n",
      "Epoch 70/100\n",
      "955/955 [==============================] - 1s 1ms/step - loss: 6.0229e-04 - val_loss: 6.6852e-04\n",
      "Epoch 71/100\n",
      "955/955 [==============================] - 1s 1ms/step - loss: 5.9021e-04 - val_loss: 8.0821e-04\n",
      "Epoch 72/100\n",
      "955/955 [==============================] - 1s 2ms/step - loss: 5.6686e-04 - val_loss: 4.7551e-04\n",
      "Epoch 73/100\n",
      "955/955 [==============================] - 1s 1ms/step - loss: 5.8982e-04 - val_loss: 5.3663e-04\n",
      "Epoch 74/100\n",
      "955/955 [==============================] - 1s 1ms/step - loss: 5.5722e-04 - val_loss: 4.6365e-04\n",
      "Epoch 75/100\n",
      "955/955 [==============================] - 2s 2ms/step - loss: 6.0191e-04 - val_loss: 6.8864e-04\n",
      "Epoch 76/100\n",
      "955/955 [==============================] - 1s 2ms/step - loss: 6.0646e-04 - val_loss: 6.4408e-04\n"
     ]
    }
   ],
   "source": [
    "history = model.fit(X_treino, y_treino, epochs=100,\n",
    "                            callbacks=early_stopping, validation_data=(X_val, y_val),\n",
    "                            batch_size=batch_size)\n",
    "treinamento = pd.DataFrame(history.history)"
   ]
  },
  {
   "cell_type": "markdown",
   "id": "b3157def",
   "metadata": {},
   "source": [
    "## Teste com o melhor modelo"
   ]
  },
  {
   "cell_type": "code",
   "execution_count": 29,
   "id": "fad734d3",
   "metadata": {},
   "outputs": [],
   "source": [
    "y_pred = model.predict(X_teste)"
   ]
  },
  {
   "cell_type": "markdown",
   "id": "42516d1c",
   "metadata": {},
   "source": [
    "### Gráfico"
   ]
  },
  {
   "cell_type": "code",
   "execution_count": 33,
   "id": "ed16c8fd",
   "metadata": {},
   "outputs": [
    {
     "data": {
      "application/vnd.jupyter.widget-view+json": {
       "model_id": "2c7fe1043a3c4ba88f546c76461d0c06",
       "version_major": 2,
       "version_minor": 0
      },
      "text/plain": [
       "Canvas(toolbar=Toolbar(toolitems=[('Home', 'Reset original view', 'home', 'home'), ('Back', 'Back to previous …"
      ]
     },
     "metadata": {},
     "output_type": "display_data"
    }
   ],
   "source": [
    "fig, ax = plt.subplots(figsize=(6.8,6))\n",
    "\n",
    "ax.plot(instantes_temporais[len(instantes_temporais)-int(len(instantes_temporais)*tam_teste):,], y_teste, color='Gold', label='Valor real')\n",
    "ax.plot(instantes_temporais[len(instantes_temporais)-int(len(instantes_temporais)*tam_teste):,], y_pred, color='Silver', label='MLP')\n",
    "\n",
    "ax.set_title('Comparação da predição da MLP com o valor real da equação de Mackey-Glass\\n utilizando a rede neural ótima no conjunto de teste')\n",
    "ax.set_ylabel('$P(t)$')\n",
    "ax.set_xlabel('$t$')\n",
    "ax.set_xlim(5000*(1-tam_teste), 5000)\n",
    "    \n",
    "ax.grid(True)\n",
    "sns.despine()\n",
    "ax.legend()\n",
    "\n",
    "plt.show()\n",
    "fig.savefig(\"../../../../images/mlp-aprimorada/performance/mlp-aprimorada-vs-mackeyglass.png\")"
   ]
  },
  {
   "cell_type": "markdown",
   "id": "6b37a5ca",
   "metadata": {},
   "source": [
    "### Erro Quadrático Médio"
   ]
  },
  {
   "cell_type": "code",
   "execution_count": 34,
   "id": "18f20113",
   "metadata": {},
   "outputs": [],
   "source": [
    "from sklearn.metrics import mean_squared_error"
   ]
  },
  {
   "cell_type": "code",
   "execution_count": 35,
   "id": "3a5ac872",
   "metadata": {},
   "outputs": [
    {
     "name": "stdout",
     "output_type": "stream",
     "text": [
      "MSE = 0.00040572566727423035\n"
     ]
    }
   ],
   "source": [
    "mse = mean_squared_error(y_teste, y_pred)\n",
    "print(\"MSE = \" + str(mse))"
   ]
  },
  {
   "cell_type": "markdown",
   "id": "3d98d8f6",
   "metadata": {},
   "source": [
    "### Salvando o Modelo"
   ]
  },
  {
   "cell_type": "code",
   "execution_count": 36,
   "id": "861cbe67",
   "metadata": {},
   "outputs": [],
   "source": [
    "model.save(\"../../../../models/mlp-aprimorada/mlp-aprimorada-mackeyglass.h5\", include_optimizer=True)"
   ]
  },
  {
   "cell_type": "code",
   "execution_count": null,
   "id": "710e1d52",
   "metadata": {},
   "outputs": [],
   "source": []
  }
 ],
 "metadata": {
  "kernelspec": {
   "display_name": "Python 3",
   "language": "python",
   "name": "python3"
  },
  "language_info": {
   "codemirror_mode": {
    "name": "ipython",
    "version": 3
   },
   "file_extension": ".py",
   "mimetype": "text/x-python",
   "name": "python",
   "nbconvert_exporter": "python",
   "pygments_lexer": "ipython3",
   "version": "3.8.0"
  }
 },
 "nbformat": 4,
 "nbformat_minor": 5
}