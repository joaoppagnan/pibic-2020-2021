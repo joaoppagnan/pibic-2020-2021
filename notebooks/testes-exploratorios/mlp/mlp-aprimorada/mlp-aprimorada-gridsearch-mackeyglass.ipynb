{
 "cells": [
  {
   "cell_type": "markdown",
   "id": "e3c95982",
   "metadata": {},
   "source": [
    "# Aprimorando a MLP com Grid Search para escolher o melhor número de camadas intermediárias nas Equações de Mackey-Glass"
   ]
  },
  {
   "cell_type": "markdown",
   "id": "55ade81f",
   "metadata": {},
   "source": [
    "## 1. Importando as bibliotecas necessárias"
   ]
  },
  {
   "cell_type": "markdown",
   "id": "ae007748",
   "metadata": {},
   "source": [
    "### 1.1 Bibliotecas gerais"
   ]
  },
  {
   "cell_type": "code",
   "execution_count": 1,
   "id": "e04a8ea5",
   "metadata": {},
   "outputs": [],
   "source": [
    "%matplotlib widget\n",
    "import numpy as np\n",
    "import pandas as pd\n",
    "import matplotlib.pyplot as plt\n",
    "import seaborn as sns # a biblioteca 'seaborn' contém vários estilos para os gráficos do 'matpĺotlib'\n",
    "\n",
    "# agora, melhoramos a qualidade de saida e de visualizacao da imagem \n",
    "# alem de mudar a fonte padrao para uma do latex\n",
    "sns.set_style(\"ticks\")\n",
    "plt.rcParams['savefig.dpi'] = 200\n",
    "plt.rcParams[\"figure.dpi\"] = 100\n",
    "\n",
    "plt.rcParams.update({\n",
    "    \"text.usetex\": True,\n",
    "    \"font.family\": \"serif\",\n",
    "    \"font.serif\": [\"Palatino\"],\n",
    "})\n",
    "plt.style.use('dark_background')"
   ]
  },
  {
   "cell_type": "markdown",
   "id": "aed5dc85",
   "metadata": {},
   "source": [
    "### 1.2 Bibliotecas para MLP"
   ]
  },
  {
   "cell_type": "code",
   "execution_count": 2,
   "id": "b1198b5c",
   "metadata": {},
   "outputs": [],
   "source": [
    "import tensorflow as tf\n",
    "physical_devices = tf.config.list_physical_devices('GPU')\n",
    "\n",
    "from tensorflow import keras"
   ]
  },
  {
   "cell_type": "code",
   "execution_count": 3,
   "id": "32baf20a",
   "metadata": {},
   "outputs": [],
   "source": [
    "from sklearn.model_selection import GridSearchCV\n",
    "from sklearn.model_selection import train_test_split"
   ]
  },
  {
   "cell_type": "code",
   "execution_count": 4,
   "id": "9a5cd491",
   "metadata": {},
   "outputs": [],
   "source": [
    "from tensorflow.keras.wrappers.scikit_learn import KerasRegressor"
   ]
  },
  {
   "cell_type": "markdown",
   "id": "738214bd",
   "metadata": {},
   "source": [
    "### 1.3 Bibliotecas dos sistemas caóticos"
   ]
  },
  {
   "cell_type": "code",
   "execution_count": 2,
   "id": "2b69efe2",
   "metadata": {},
   "outputs": [],
   "source": [
    "import sys \n",
    "sys.path.insert(0, '../../../../scripts')\n",
    "\n",
    "import timeseries as times\n",
    "import mackeyglassequations as mgeq"
   ]
  },
  {
   "cell_type": "markdown",
   "id": "ff80ad0c",
   "metadata": {},
   "source": [
    "## 2. Gerando a série temporal"
   ]
  },
  {
   "cell_type": "code",
   "execution_count": 3,
   "id": "92742eaf",
   "metadata": {},
   "outputs": [],
   "source": [
    "t_inicial = 0\n",
    "t_final = 5000\n",
    "tau = 22\n",
    "n = 10\n",
    "gamma = 0.1\n",
    "beta = 0.2\n",
    "theta = 1"
   ]
  },
  {
   "cell_type": "code",
   "execution_count": 4,
   "id": "33f1a955",
   "metadata": {},
   "outputs": [],
   "source": [
    "macglass = mgeq.MackeyGlass(tau=tau, gamma=gamma, beta=beta, n=n, theta=theta)"
   ]
  },
  {
   "cell_type": "code",
   "execution_count": 5,
   "id": "14acb132",
   "metadata": {},
   "outputs": [
    {
     "name": "stdout",
     "output_type": "stream",
     "text": [
      "Generating, compiling, and loading C code.\n",
      "Using default integration parameters.\n"
     ]
    }
   ],
   "source": [
    "solucoes, instantes_temporais = macglass.calcular(t_inicial = t_inicial, t_final = t_final)"
   ]
  },
  {
   "cell_type": "markdown",
   "id": "19aa69d1",
   "metadata": {},
   "source": [
    "### Série Temporal de Mackey-Glass"
   ]
  },
  {
   "cell_type": "code",
   "execution_count": 7,
   "id": "53ca3268",
   "metadata": {},
   "outputs": [
    {
     "data": {
      "application/vnd.jupyter.widget-view+json": {
       "model_id": "42dedfb154e74467ac6bd46a95e7bde1",
       "version_major": 2,
       "version_minor": 0
      },
      "text/plain": [
       "Canvas(toolbar=Toolbar(toolitems=[('Home', 'Reset original view', 'home', 'home'), ('Back', 'Back to previous …"
      ]
     },
     "metadata": {},
     "output_type": "display_data"
    }
   ],
   "source": [
    "fig, ax = plt.subplots()\n",
    "ax.set_title('Série temporal de 0 a 600 dias da equação de Mackey-Glass para\\n' + r'$\\tau =$ ' + str(tau) + r', $\\beta =$ ' + str(beta) + r', $\\gamma =$ ' + str(gamma) + r', $n =$ ' + str(n) + r' e $\\theta =$ ' + str(theta) + ' utilizando $P(0) =$ ' + str(0.1*theta))\n",
    "ax.plot(instantes_temporais, solucoes, color='Gold')\n",
    "\n",
    "ax.set_ylabel('$P(t)$')\n",
    "ax.set_xlabel('$t$')\n",
    "ax.set_xlim(0,600)\n",
    "    \n",
    "ax.grid(True)\n",
    "\n",
    "fig.tight_layout()\n",
    "sns.despine()\n",
    "plt.show()"
   ]
  },
  {
   "cell_type": "markdown",
   "id": "bea61ead",
   "metadata": {},
   "source": [
    "### 2.1 Dividindo em um conjunto de treinamento e de teste, para K = 4 e L = 3"
   ]
  },
  {
   "cell_type": "code",
   "execution_count": 10,
   "id": "031e1c0c",
   "metadata": {},
   "outputs": [],
   "source": [
    "K = 4\n",
    "L = 3\n",
    "tam_teste = 0.15"
   ]
  },
  {
   "cell_type": "code",
   "execution_count": 11,
   "id": "54882717",
   "metadata": {},
   "outputs": [],
   "source": [
    "x = np.array(solucoes)\n",
    "x = np.reshape(x, (1, len(x)))\n",
    "x = x[0]"
   ]
  },
  {
   "cell_type": "code",
   "execution_count": 12,
   "id": "1e5d7185",
   "metadata": {},
   "outputs": [],
   "source": [
    "serie_temporal = times.SerieTemporal(x, K=K, L=L)"
   ]
  },
  {
   "cell_type": "code",
   "execution_count": 13,
   "id": "8fda4ae5",
   "metadata": {},
   "outputs": [],
   "source": [
    "serie_temporal.criar_matrizes()"
   ]
  },
  {
   "cell_type": "code",
   "execution_count": 14,
   "id": "a035b63c",
   "metadata": {},
   "outputs": [],
   "source": [
    "X_treino, X_teste, y_treino, y_teste = serie_temporal.dividir_treino_teste(tam_teste)"
   ]
  },
  {
   "cell_type": "markdown",
   "id": "046ac184",
   "metadata": {},
   "source": [
    "## 3. Definindo o modelo para a MLP"
   ]
  },
  {
   "cell_type": "markdown",
   "id": "281a6501",
   "metadata": {},
   "source": [
    "### 3.1 Definindo função para criar a MLP"
   ]
  },
  {
   "cell_type": "code",
   "execution_count": 33,
   "id": "2b334ac5",
   "metadata": {},
   "outputs": [],
   "source": [
    "def criar_modelo(input_size, optimizer='Nadam', batch_normalization='OFF', learning_rate=0.001, activation='selu', init_mode='lecun_normal', n_neurons=30,\n",
    "                 n_hidden_layers=1, loss=\"mean_squared_error\", name=\"MLP\"):\n",
    "    \n",
    "    if (optimizer=='Nadam'):\n",
    "        model_optimizer = keras.optimizers.Nadam()\n",
    "    \n",
    "    model_optimizer.learning_rate.assign(learning_rate)\n",
    "    \n",
    "    model = keras.Sequential(name=name)\n",
    "    model.add(keras.layers.Dense(input_size, input_dim=input_size, name=\"camada_de_entrada\", activation = 'linear'))\n",
    "    if (batch_normalization == 'ON'):\n",
    "        model.add(keras.layers.BatchNormalization(name=\"camada_de_batch_normalization\"))\n",
    "    for i in range(0, n_hidden_layers):\n",
    "        model.add(keras.layers.Dense(n_neurons, input_dim=input_size, activation=activation, kernel_initializer=init_mode, name=\"camada_intermediaria_\"+str(i+1)))\n",
    "    model.add(keras.layers.Dense(1, activation='linear', name=\"camada_de_saida\"))\n",
    "    \n",
    "    model.compile(\n",
    "        optimizer = model_optimizer,\n",
    "        loss = loss)\n",
    "    \n",
    "    model.build()\n",
    "    return model"
   ]
  },
  {
   "cell_type": "markdown",
   "id": "892ea07c",
   "metadata": {},
   "source": [
    "### 3.2 Definindo parâmetros que não serão definidos pelo *Grid Search*"
   ]
  },
  {
   "cell_type": "code",
   "execution_count": 17,
   "id": "6475988b",
   "metadata": {},
   "outputs": [],
   "source": [
    "loss = \"mean_squared_error\"\n",
    "optimizer = 'Nadam'\n",
    "batch_size = 4\n",
    "batch_normalization = 'OFF'\n",
    "activation = 'tanh'\n",
    "init_mode = 'glorot_normal'\n",
    "n_neurons = 5\n",
    "learning_rate = 0.001\n",
    "input_size = K"
   ]
  },
  {
   "cell_type": "markdown",
   "id": "37e0236e",
   "metadata": {},
   "source": [
    "### 3.3 Executando *Grid Search* para saber o melhor número de camadas intermediárias"
   ]
  },
  {
   "cell_type": "code",
   "execution_count": 18,
   "id": "0db5fa1f",
   "metadata": {},
   "outputs": [],
   "source": [
    "model_cv = KerasRegressor(build_fn=criar_modelo, epochs=100, verbose=0, batch_size=batch_size, batch_normalization=batch_normalization,\n",
    "                          learning_rate=learning_rate, activation=activation, init_mode=init_mode, n_neurons=n_neurons,\n",
    "                          loss=loss, optimizer=optimizer, input_size=input_size)"
   ]
  },
  {
   "cell_type": "code",
   "execution_count": 19,
   "id": "cfdda6b0",
   "metadata": {},
   "outputs": [],
   "source": [
    "param_grid = {'n_hidden_layers' : (1, 2, 3, 4, 5)}"
   ]
  },
  {
   "cell_type": "code",
   "execution_count": 20,
   "id": "4d0eda05",
   "metadata": {},
   "outputs": [],
   "source": [
    "grid = GridSearchCV(estimator=model_cv, param_grid=param_grid, n_jobs=1, cv=4, scoring='neg_mean_squared_error', verbose=1)"
   ]
  },
  {
   "cell_type": "code",
   "execution_count": 21,
   "id": "573a2b17",
   "metadata": {},
   "outputs": [
    {
     "name": "stdout",
     "output_type": "stream",
     "text": [
      "Fitting 4 folds for each of 5 candidates, totalling 20 fits\n"
     ]
    }
   ],
   "source": [
    "grid_result = grid.fit(X_treino, y_treino)"
   ]
  },
  {
   "cell_type": "code",
   "execution_count": 22,
   "id": "90d43c02",
   "metadata": {},
   "outputs": [
    {
     "name": "stdout",
     "output_type": "stream",
     "text": [
      "Best: -0.004630 using {'n_hidden_layers': 4}\n"
     ]
    }
   ],
   "source": [
    "print(\"Best: %f using %s\" % (grid_result.best_score_, grid_result.best_params_))"
   ]
  },
  {
   "cell_type": "code",
   "execution_count": 23,
   "id": "c73cb6d2",
   "metadata": {},
   "outputs": [
    {
     "name": "stdout",
     "output_type": "stream",
     "text": [
      "-0.006590 (0.003658) with: {'n_hidden_layers': 1}\n",
      "-0.010946 (0.006145) with: {'n_hidden_layers': 2}\n",
      "-0.006404 (0.004295) with: {'n_hidden_layers': 3}\n",
      "-0.004630 (0.003092) with: {'n_hidden_layers': 4}\n",
      "-0.010009 (0.007319) with: {'n_hidden_layers': 5}\n"
     ]
    }
   ],
   "source": [
    "means = grid_result.cv_results_['mean_test_score']\n",
    "stds = grid_result.cv_results_['std_test_score']\n",
    "params = grid_result.cv_results_['params']\n",
    "for mean, stdev, param in zip(means, stds, params):\n",
    "    print(\"%f (%f) with: %r\" % (mean, stdev, param))"
   ]
  },
  {
   "cell_type": "markdown",
   "id": "57313671",
   "metadata": {},
   "source": [
    "### Treino com o melhor modelo"
   ]
  },
  {
   "cell_type": "code",
   "execution_count": null,
   "id": "58259ab7",
   "metadata": {},
   "outputs": [],
   "source": [
    "n_hidden_layers = "
   ]
  },
  {
   "cell_type": "code",
   "execution_count": 34,
   "id": "f9143396",
   "metadata": {},
   "outputs": [],
   "source": [
    "model = criar_modelo(batch_normalization='OFF', learning_rate=0.001, activation='tanh', init_mode='glorot_normal', n_neurons=5, name=\"MLP-MackeyGlass\")"
   ]
  },
  {
   "cell_type": "code",
   "execution_count": 35,
   "id": "cda8853c",
   "metadata": {},
   "outputs": [
    {
     "name": "stdout",
     "output_type": "stream",
     "text": [
      "Model: \"MLP-1-camada-intermediaria-MackeyGlass\"\n",
      "_________________________________________________________________\n",
      "Layer (type)                 Output Shape              Param #   \n",
      "=================================================================\n",
      "camada_de_entrada (Dense)    (None, 4)                 20        \n",
      "_________________________________________________________________\n",
      "camada_intermediaria (Dense) (None, 5)                 25        \n",
      "_________________________________________________________________\n",
      "camada_de_saida (Dense)      (None, 1)                 6         \n",
      "=================================================================\n",
      "Total params: 51\n",
      "Trainable params: 51\n",
      "Non-trainable params: 0\n",
      "_________________________________________________________________\n"
     ]
    }
   ],
   "source": [
    "model.summary()"
   ]
  },
  {
   "cell_type": "code",
   "execution_count": 36,
   "id": "2b5cb60d",
   "metadata": {},
   "outputs": [],
   "source": [
    "X_treino, X_val, y_treino, y_val = train_test_split(X_treino, y_treino, test_size=0.1)"
   ]
  },
  {
   "cell_type": "code",
   "execution_count": 37,
   "id": "6620ef5e",
   "metadata": {},
   "outputs": [],
   "source": [
    "early_stopping = tf.keras.callbacks.EarlyStopping(patience=10, restore_best_weights=True, monitor='val_loss')"
   ]
  },
  {
   "cell_type": "code",
   "execution_count": 39,
   "id": "c9e121ab",
   "metadata": {},
   "outputs": [
    {
     "name": "stdout",
     "output_type": "stream",
     "text": [
      "Epoch 1/100\n",
      "955/955 [==============================] - 2s 2ms/step - loss: 0.0324 - val_loss: 0.0041\n",
      "Epoch 2/100\n",
      "955/955 [==============================] - 1s 1ms/step - loss: 0.0033 - val_loss: 0.0017\n",
      "Epoch 3/100\n",
      "955/955 [==============================] - 1s 1ms/step - loss: 0.0019 - val_loss: 0.0019\n",
      "Epoch 4/100\n",
      "955/955 [==============================] - 1s 1ms/step - loss: 0.0018 - val_loss: 0.0014\n",
      "Epoch 5/100\n",
      "955/955 [==============================] - 1s 1ms/step - loss: 0.0018 - val_loss: 0.0014\n",
      "Epoch 6/100\n",
      "955/955 [==============================] - 1s 1ms/step - loss: 0.0017 - val_loss: 0.0017\n",
      "Epoch 7/100\n",
      "955/955 [==============================] - 1s 1ms/step - loss: 0.0017 - val_loss: 0.0013\n",
      "Epoch 8/100\n",
      "955/955 [==============================] - 1s 1ms/step - loss: 0.0017 - val_loss: 0.0013\n",
      "Epoch 9/100\n",
      "955/955 [==============================] - 1s 1ms/step - loss: 0.0016 - val_loss: 0.0014\n",
      "Epoch 10/100\n",
      "955/955 [==============================] - 1s 1ms/step - loss: 0.0016 - val_loss: 0.0013\n",
      "Epoch 11/100\n",
      "955/955 [==============================] - 1s 1ms/step - loss: 0.0015 - val_loss: 0.0012\n",
      "Epoch 12/100\n",
      "955/955 [==============================] - 1s 1ms/step - loss: 0.0015 - val_loss: 0.0014\n",
      "Epoch 13/100\n",
      "955/955 [==============================] - 1s 1ms/step - loss: 0.0014 - val_loss: 0.0013\n",
      "Epoch 14/100\n",
      "955/955 [==============================] - 1s 1ms/step - loss: 0.0014 - val_loss: 0.0012\n",
      "Epoch 15/100\n",
      "955/955 [==============================] - 2s 2ms/step - loss: 0.0014 - val_loss: 0.0014\n",
      "Epoch 16/100\n",
      "955/955 [==============================] - 1s 1ms/step - loss: 0.0013 - val_loss: 0.0012\n",
      "Epoch 17/100\n",
      "955/955 [==============================] - 1s 1ms/step - loss: 0.0013 - val_loss: 0.0011\n",
      "Epoch 18/100\n",
      "955/955 [==============================] - 1s 1ms/step - loss: 0.0013 - val_loss: 0.0016\n",
      "Epoch 19/100\n",
      "955/955 [==============================] - 1s 1ms/step - loss: 0.0013 - val_loss: 0.0012\n",
      "Epoch 20/100\n",
      "955/955 [==============================] - 1s 1ms/step - loss: 0.0013 - val_loss: 0.0011\n",
      "Epoch 21/100\n",
      "955/955 [==============================] - 1s 1ms/step - loss: 0.0012 - val_loss: 0.0015\n",
      "Epoch 22/100\n",
      "955/955 [==============================] - 1s 1ms/step - loss: 0.0012 - val_loss: 0.0011\n",
      "Epoch 23/100\n",
      "955/955 [==============================] - 1s 1ms/step - loss: 0.0012 - val_loss: 0.0010\n",
      "Epoch 24/100\n",
      "955/955 [==============================] - 1s 1ms/step - loss: 0.0011 - val_loss: 8.5643e-04\n",
      "Epoch 25/100\n",
      "955/955 [==============================] - 1s 1ms/step - loss: 0.0011 - val_loss: 8.8745e-04\n",
      "Epoch 26/100\n",
      "955/955 [==============================] - 1s 1ms/step - loss: 0.0010 - val_loss: 8.6785e-04\n",
      "Epoch 27/100\n",
      "955/955 [==============================] - 1s 1ms/step - loss: 9.6370e-04 - val_loss: 7.6930e-04\n",
      "Epoch 28/100\n",
      "955/955 [==============================] - 1s 1ms/step - loss: 9.3012e-04 - val_loss: 7.2957e-04\n",
      "Epoch 29/100\n",
      "955/955 [==============================] - 1s 1ms/step - loss: 9.1734e-04 - val_loss: 7.7225e-04\n",
      "Epoch 30/100\n",
      "955/955 [==============================] - 2s 2ms/step - loss: 8.4618e-04 - val_loss: 7.0293e-04\n",
      "Epoch 31/100\n",
      "955/955 [==============================] - 1s 1ms/step - loss: 8.3329e-04 - val_loss: 7.7601e-04\n",
      "Epoch 32/100\n",
      "955/955 [==============================] - 1s 1ms/step - loss: 7.6802e-04 - val_loss: 5.7970e-04\n",
      "Epoch 33/100\n",
      "955/955 [==============================] - 1s 1ms/step - loss: 7.3556e-04 - val_loss: 6.7078e-04\n",
      "Epoch 34/100\n",
      "955/955 [==============================] - 1s 1ms/step - loss: 6.9407e-04 - val_loss: 5.1769e-04\n",
      "Epoch 35/100\n",
      "955/955 [==============================] - 1s 1ms/step - loss: 6.9129e-04 - val_loss: 0.0010\n",
      "Epoch 36/100\n",
      "955/955 [==============================] - 1s 1ms/step - loss: 6.3381e-04 - val_loss: 6.3059e-04\n",
      "Epoch 37/100\n",
      "955/955 [==============================] - 1s 1ms/step - loss: 5.9610e-04 - val_loss: 6.4520e-04\n",
      "Epoch 38/100\n",
      "955/955 [==============================] - 1s 1ms/step - loss: 5.6820e-04 - val_loss: 4.7084e-04\n",
      "Epoch 39/100\n",
      "955/955 [==============================] - 1s 1ms/step - loss: 5.7429e-04 - val_loss: 4.1486e-04\n",
      "Epoch 40/100\n",
      "955/955 [==============================] - 1s 1ms/step - loss: 5.3328e-04 - val_loss: 4.2538e-04\n",
      "Epoch 41/100\n",
      "955/955 [==============================] - 1s 1ms/step - loss: 5.3018e-04 - val_loss: 4.0369e-04\n",
      "Epoch 42/100\n",
      "955/955 [==============================] - 1s 1ms/step - loss: 5.2511e-04 - val_loss: 4.1857e-04\n",
      "Epoch 43/100\n",
      "955/955 [==============================] - 1s 1ms/step - loss: 5.1610e-04 - val_loss: 4.2911e-04\n",
      "Epoch 44/100\n",
      "955/955 [==============================] - 1s 1ms/step - loss: 4.9488e-04 - val_loss: 3.9586e-04\n",
      "Epoch 45/100\n",
      "955/955 [==============================] - 1s 1ms/step - loss: 4.9536e-04 - val_loss: 4.6432e-04\n",
      "Epoch 46/100\n",
      "955/955 [==============================] - 1s 1ms/step - loss: 5.1983e-04 - val_loss: 3.9643e-04\n",
      "Epoch 47/100\n",
      "955/955 [==============================] - 1s 1ms/step - loss: 5.0419e-04 - val_loss: 3.8719e-04\n",
      "Epoch 48/100\n",
      "955/955 [==============================] - 1s 1ms/step - loss: 4.9784e-04 - val_loss: 4.2668e-04\n",
      "Epoch 49/100\n",
      "955/955 [==============================] - 1s 1ms/step - loss: 4.8885e-04 - val_loss: 4.0507e-04\n",
      "Epoch 50/100\n",
      "955/955 [==============================] - 1s 1ms/step - loss: 5.1002e-04 - val_loss: 3.9024e-04\n",
      "Epoch 51/100\n",
      "955/955 [==============================] - 1s 1ms/step - loss: 5.0148e-04 - val_loss: 3.8361e-04\n",
      "Epoch 52/100\n",
      "955/955 [==============================] - 1s 1ms/step - loss: 5.1583e-04 - val_loss: 4.0543e-04\n",
      "Epoch 53/100\n",
      "955/955 [==============================] - 1s 1ms/step - loss: 4.9847e-04 - val_loss: 4.6179e-04\n",
      "Epoch 54/100\n",
      "955/955 [==============================] - 1s 1ms/step - loss: 5.0102e-04 - val_loss: 4.0032e-04\n",
      "Epoch 55/100\n",
      "955/955 [==============================] - 1s 1ms/step - loss: 4.9262e-04 - val_loss: 3.7426e-04\n",
      "Epoch 56/100\n",
      "955/955 [==============================] - 1s 1ms/step - loss: 5.0751e-04 - val_loss: 3.8080e-04\n",
      "Epoch 57/100\n",
      "955/955 [==============================] - 1s 1ms/step - loss: 5.0472e-04 - val_loss: 3.8296e-04\n",
      "Epoch 58/100\n",
      "955/955 [==============================] - 1s 1ms/step - loss: 4.7739e-04 - val_loss: 4.0231e-04\n",
      "Epoch 59/100\n",
      "955/955 [==============================] - 1s 1ms/step - loss: 4.8594e-04 - val_loss: 4.1049e-04\n",
      "Epoch 60/100\n",
      "955/955 [==============================] - 1s 1ms/step - loss: 4.9604e-04 - val_loss: 4.4044e-04\n",
      "Epoch 61/100\n",
      "955/955 [==============================] - 1s 1ms/step - loss: 5.0553e-04 - val_loss: 6.9301e-04\n",
      "Epoch 62/100\n",
      "955/955 [==============================] - 1s 1ms/step - loss: 5.0185e-04 - val_loss: 3.7907e-04\n",
      "Epoch 63/100\n",
      "955/955 [==============================] - 1s 1ms/step - loss: 4.8749e-04 - val_loss: 4.0179e-04\n",
      "Epoch 64/100\n",
      "955/955 [==============================] - 1s 1ms/step - loss: 5.1949e-04 - val_loss: 3.8233e-04\n",
      "Epoch 65/100\n",
      "955/955 [==============================] - 1s 1ms/step - loss: 4.9392e-04 - val_loss: 4.2349e-04\n"
     ]
    }
   ],
   "source": [
    "history = model.fit(X_treino, y_treino, epochs=100,\n",
    "                            callbacks=early_stopping, validation_data=(X_val, y_val),\n",
    "                            batch_size=batch_size)\n",
    "treinamento = pd.DataFrame(history.history)"
   ]
  },
  {
   "cell_type": "markdown",
   "id": "3533f722",
   "metadata": {},
   "source": [
    "## Teste com o melhor modelo"
   ]
  },
  {
   "cell_type": "code",
   "execution_count": 40,
   "id": "cfcbd314",
   "metadata": {},
   "outputs": [],
   "source": [
    "y_pred = model.predict(X_teste)"
   ]
  },
  {
   "cell_type": "markdown",
   "id": "44a2d484",
   "metadata": {},
   "source": [
    "### Gráfico"
   ]
  },
  {
   "cell_type": "code",
   "execution_count": 71,
   "id": "eeca2d22",
   "metadata": {},
   "outputs": [
    {
     "data": {
      "application/vnd.jupyter.widget-view+json": {
       "model_id": "a442096abb614540aa8a21d0c577bc2a",
       "version_major": 2,
       "version_minor": 0
      },
      "text/plain": [
       "Canvas(toolbar=Toolbar(toolitems=[('Home', 'Reset original view', 'home', 'home'), ('Back', 'Back to previous …"
      ]
     },
     "metadata": {},
     "output_type": "display_data"
    }
   ],
   "source": [
    "fig, ax = plt.subplots(figsize=(6.8,6))\n",
    "\n",
    "ax.plot(instantes_temporais[len(instantes_temporais)-int(len(instantes_temporais)*tam_teste):,], y_teste, color='Gold', label='Valor real')\n",
    "ax.plot(instantes_temporais[len(instantes_temporais)-int(len(instantes_temporais)*tam_teste):,], y_pred, color='Silver', label='MLP')\n",
    "\n",
    "ax.set_title('Comparação da predição da MLP com o valor real da equação de Mackey-Glass\\n utilizando a rede neural ótima no conjunto de teste')\n",
    "ax.set_ylabel('$P(t)$')\n",
    "ax.set_xlabel('$t$')\n",
    "ax.set_xlim(5000*(1-tam_teste), 5000)\n",
    "    \n",
    "ax.grid(True)\n",
    "sns.despine()\n",
    "ax.legend()\n",
    "\n",
    "plt.show()\n",
    "fig.savefig(\"../../../../images/mlp-aprimorada/performance/mlp-aprimorada-vs-mackeyglass.png\")"
   ]
  },
  {
   "cell_type": "markdown",
   "id": "1de3380f",
   "metadata": {},
   "source": [
    "### Erro Quadrático Médio"
   ]
  },
  {
   "cell_type": "code",
   "execution_count": 1,
   "id": "a782a931",
   "metadata": {},
   "outputs": [],
   "source": [
    "from sklearn.metrics import mean_squared_error"
   ]
  },
  {
   "cell_type": "code",
   "execution_count": null,
   "id": "0e9d7d70",
   "metadata": {},
   "outputs": [],
   "source": [
    "mse = mean_squared_error(y_teste, y_pred)\n",
    "print(\"MSE = \" + str(mse))"
   ]
  },
  {
   "cell_type": "markdown",
   "id": "e4fc27d6",
   "metadata": {},
   "source": [
    "### Salvando o Modelo"
   ]
  },
  {
   "cell_type": "code",
   "execution_count": 70,
   "id": "7865d14e",
   "metadata": {},
   "outputs": [],
   "source": [
    "model.save(\"../../../../models/mlp-aprimorada/mlp-aprimorada-mackeyglass.h5\", include_optimizer=True)"
   ]
  }
 ],
 "metadata": {
  "kernelspec": {
   "display_name": "Python 3",
   "language": "python",
   "name": "python3"
  },
  "language_info": {
   "codemirror_mode": {
    "name": "ipython",
    "version": 3
   },
   "file_extension": ".py",
   "mimetype": "text/x-python",
   "name": "python",
   "nbconvert_exporter": "python",
   "pygments_lexer": "ipython3",
   "version": "3.8.0"
  }
 },
 "nbformat": 4,
 "nbformat_minor": 5
}
