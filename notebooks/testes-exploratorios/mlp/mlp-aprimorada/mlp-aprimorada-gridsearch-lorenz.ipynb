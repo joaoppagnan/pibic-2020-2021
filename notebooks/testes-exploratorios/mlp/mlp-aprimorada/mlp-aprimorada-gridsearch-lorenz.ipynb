{
 "cells": [
  {
   "cell_type": "markdown",
   "id": "89c821bd",
   "metadata": {},
   "source": [
    "# Aprimorando a MLP com Grid Search para escolher o melhor número de camadas intermediárias no Sistema de Lorenz"
   ]
  },
  {
   "cell_type": "markdown",
   "id": "80d7f33f",
   "metadata": {},
   "source": [
    "## 1. Importando as bibliotecas necessárias"
   ]
  },
  {
   "cell_type": "markdown",
   "id": "f4be7765",
   "metadata": {},
   "source": [
    "### 1.1 Bibliotecas gerais"
   ]
  },
  {
   "cell_type": "code",
   "execution_count": 1,
   "id": "1d3698a8",
   "metadata": {},
   "outputs": [],
   "source": [
    "%matplotlib widget\n",
    "import numpy as np\n",
    "import matplotlib.pyplot as plt\n",
    "import seaborn as sns # a biblioteca 'seaborn' contém vários estilos para os gráficos do 'matpĺotlib'\n",
    "\n",
    "# agora, melhoramos a qualidade de saida e de visualizacao da imagem \n",
    "# alem de mudar a fonte padrao para uma do latex\n",
    "sns.set_style(\"ticks\")\n",
    "plt.rcParams['savefig.dpi'] = 200\n",
    "plt.rcParams[\"figure.dpi\"] = 100\n",
    "\n",
    "plt.rcParams.update({\n",
    "    \"text.usetex\": True,\n",
    "    \"font.family\": \"serif\",\n",
    "    \"font.serif\": [\"Palatino\"],\n",
    "})\n",
    "plt.style.use('dark_background')"
   ]
  },
  {
   "cell_type": "markdown",
   "id": "0b3d7344",
   "metadata": {},
   "source": [
    "### 1.2 Bibliotecas para MLP"
   ]
  },
  {
   "cell_type": "code",
   "execution_count": 2,
   "id": "12552714",
   "metadata": {},
   "outputs": [],
   "source": [
    "import tensorflow as tf\n",
    "physical_devices = tf.config.list_physical_devices('GPU')\n",
    "tf.config.experimental.set_memory_growth(physical_devices[0], True)\n",
    "\n",
    "from tensorflow import keras\n",
    "from tensorflow.keras import backend as keras_backend"
   ]
  },
  {
   "cell_type": "code",
   "execution_count": 3,
   "id": "974b86e1",
   "metadata": {},
   "outputs": [],
   "source": [
    "from sklearn.model_selection import GridSearchCV\n",
    "from sklearn.model_selection import train_test_split"
   ]
  },
  {
   "cell_type": "code",
   "execution_count": 4,
   "id": "ad3507f7",
   "metadata": {},
   "outputs": [],
   "source": [
    "from tensorflow.keras.wrappers.scikit_learn import KerasRegressor"
   ]
  },
  {
   "cell_type": "markdown",
   "id": "ef676a6c",
   "metadata": {},
   "source": [
    "### 1.3 Bibliotecas dos sistemas caóticos"
   ]
  },
  {
   "cell_type": "code",
   "execution_count": 5,
   "id": "e168446f",
   "metadata": {},
   "outputs": [],
   "source": [
    "import sys \n",
    "sys.path.insert(0, '../../../../scripts')\n",
    "\n",
    "import timeseries as times\n",
    "import lorenzsystem as lsys"
   ]
  },
  {
   "cell_type": "markdown",
   "id": "4beab99d",
   "metadata": {},
   "source": [
    "## 2. Gerando a série temporal do sistema de Lorenz"
   ]
  },
  {
   "cell_type": "markdown",
   "id": "a97e7472",
   "metadata": {},
   "source": [
    "Os valores para os parâmetros das equações serão os \"básicos\" apresentados no *paper* original."
   ]
  },
  {
   "cell_type": "code",
   "execution_count": 6,
   "id": "853563ce",
   "metadata": {},
   "outputs": [],
   "source": [
    "t_inicial = 0\n",
    "t_final = 50\n",
    "dt = 0.01"
   ]
  },
  {
   "cell_type": "code",
   "execution_count": 7,
   "id": "eea8515a",
   "metadata": {},
   "outputs": [],
   "source": [
    "estado_inicial = np.array([0.1, 0, 0])"
   ]
  },
  {
   "cell_type": "code",
   "execution_count": 8,
   "id": "387c8719",
   "metadata": {},
   "outputs": [],
   "source": [
    "sis_lorenz = lsys.SistemaLorenz(estado_inicial, dt=dt)"
   ]
  },
  {
   "cell_type": "code",
   "execution_count": 9,
   "id": "d8132991",
   "metadata": {},
   "outputs": [],
   "source": [
    "solucoes, instantes_temporais = sis_lorenz.calcular(t_inicial = t_inicial, t_final = t_final)"
   ]
  },
  {
   "cell_type": "code",
   "execution_count": 10,
   "id": "1496effb",
   "metadata": {},
   "outputs": [],
   "source": [
    "x = solucoes[:, 0]\n",
    "y = solucoes[:, 1]\n",
    "z = solucoes[:, 2]"
   ]
  },
  {
   "cell_type": "code",
   "execution_count": 11,
   "id": "159e1b9c",
   "metadata": {},
   "outputs": [
    {
     "data": {
      "application/vnd.jupyter.widget-view+json": {
       "model_id": "9f93990596f14106ad943e0aa636b7a9",
       "version_major": 2,
       "version_minor": 0
      },
      "text/plain": [
       "Canvas(toolbar=Toolbar(toolitems=[('Home', 'Reset original view', 'home', 'home'), ('Back', 'Back to previous …"
      ]
     },
     "metadata": {},
     "output_type": "display_data"
    }
   ],
   "source": [
    "fig, ax = plt.subplots()\n",
    "ax.set_title(\"Série temporal em $\\hat{x}$ de 0 a 50 segundos do Sistema de Lorenz\\n utilizando $\\sigma = 10$, \" + r\"$\\beta =\\frac{8}{3}$, \" + r\"$\\rho=28$, com \" + \"$x(0) =$ \" + str(estado_inicial[0]) + \", $y(0) = $ \" + str(estado_inicial[1]) + \" e $z(0) =$ \" + str(estado_inicial[2]))\n",
    "ax.plot(instantes_temporais, x, color='DodgerBlue')\n",
    "\n",
    "ax.set_ylabel('$x(t)$')\n",
    "ax.set_xlabel('$t$')\n",
    "ax.set_xlim(0,50)\n",
    "ax.grid(True)\n",
    "\n",
    "fig.tight_layout()\n",
    "sns.despine()\n",
    "plt.show()"
   ]
  },
  {
   "cell_type": "markdown",
   "id": "612192d8",
   "metadata": {},
   "source": [
    "### 2.1 Dividindo em um conjunto de treinamento e de teste, para K = 4 e L = 3"
   ]
  },
  {
   "cell_type": "code",
   "execution_count": 12,
   "id": "d2316ad3",
   "metadata": {},
   "outputs": [],
   "source": [
    "K = 4\n",
    "L = 3\n",
    "tam_teste = 0.15"
   ]
  },
  {
   "cell_type": "code",
   "execution_count": 13,
   "id": "adca0104",
   "metadata": {},
   "outputs": [],
   "source": [
    "serie_temporal = times.SerieTemporal(x, K=K, L=L)"
   ]
  },
  {
   "cell_type": "code",
   "execution_count": 15,
   "id": "e1d6dcff",
   "metadata": {},
   "outputs": [],
   "source": [
    "X_treino, X_teste, y_treino, y_teste = serie_temporal.dividir_treino_teste(tam_teste)"
   ]
  },
  {
   "cell_type": "markdown",
   "id": "bcf6533d",
   "metadata": {},
   "source": [
    "## 3. Definindo o modelo para a MLP"
   ]
  },
  {
   "cell_type": "markdown",
   "id": "7afd91de",
   "metadata": {},
   "source": [
    "### 3.1 Definindo função para criar a MLP"
   ]
  },
  {
   "cell_type": "code",
   "execution_count": 27,
   "id": "c5f92100",
   "metadata": {},
   "outputs": [],
   "source": [
    "def criar_modelo(input_size, optimizer='Nadam', batch_normalization='OFF', learning_rate=0.001, activation='selu', init_mode='lecun_normal', n_neurons=30,\n",
    "                 n_hidden_layers=1, loss=\"mean_squared_error\", name=\"MLP\"):\n",
    "    \n",
    "    if (optimizer=='Nadam'):\n",
    "        model_optimizer = keras.optimizers.Nadam()\n",
    "    \n",
    "    model_optimizer.learning_rate.assign(learning_rate)\n",
    "    \n",
    "    model = keras.Sequential(name=name)\n",
    "    model.add(keras.layers.Dense(input_size, input_dim=input_size, name=\"camada_de_entrada\", activation = 'linear'))\n",
    "    if (batch_normalization == 'ON'):\n",
    "        model.add(keras.layers.BatchNormalization(name=\"camada_de_batch_normalization\"))\n",
    "    for i in range(0, n_hidden_layers):\n",
    "        model.add(keras.layers.Dense(n_neurons, input_dim=input_size, activation=activation, kernel_initializer=init_mode, name=\"camada_intermediaria_\"+str(i+1)))\n",
    "    model.add(keras.layers.Dense(1, activation='linear', name=\"camada_de_saida\"))\n",
    "    \n",
    "    model.compile(\n",
    "        optimizer = model_optimizer,\n",
    "        loss = loss)\n",
    "    \n",
    "    model.build()\n",
    "    return model"
   ]
  },
  {
   "cell_type": "markdown",
   "id": "4ade2d53",
   "metadata": {},
   "source": [
    "### 3.2 Definindo parâmetros que não serão definidos pelo *Grid Search*"
   ]
  },
  {
   "cell_type": "code",
   "execution_count": 17,
   "id": "9cebd2fa",
   "metadata": {},
   "outputs": [],
   "source": [
    "loss = \"mean_squared_error\"\n",
    "optimizer = 'Nadam'\n",
    "batch_size = 2\n",
    "batch_normalization = 'OFF'\n",
    "activation = 'selu'\n",
    "init_mode = 'lecun_normal'\n",
    "n_neurons = 50\n",
    "learning_rate = 0.001\n",
    "input_size = K"
   ]
  },
  {
   "cell_type": "markdown",
   "id": "19f0e7dd",
   "metadata": {},
   "source": [
    "### 3.3 Executando *Grid Search* para saber o melhor número de camadas intermediárias"
   ]
  },
  {
   "cell_type": "code",
   "execution_count": 18,
   "id": "a7401c57",
   "metadata": {},
   "outputs": [],
   "source": [
    "model_cv = KerasRegressor(build_fn=criar_modelo, epochs=100, verbose=0, batch_size=batch_size, batch_normalization=batch_normalization,\n",
    "                          learning_rate=learning_rate, activation=activation, init_mode=init_mode, n_neurons=n_neurons,\n",
    "                          loss=loss, optimizer=optimizer, input_size=input_size)"
   ]
  },
  {
   "cell_type": "code",
   "execution_count": 19,
   "id": "85b6c4a1",
   "metadata": {},
   "outputs": [],
   "source": [
    "param_grid = {'n_hidden_layers' : (1, 2, 3, 4, 5)}"
   ]
  },
  {
   "cell_type": "code",
   "execution_count": 20,
   "id": "7e134d29",
   "metadata": {},
   "outputs": [],
   "source": [
    "grid = GridSearchCV(estimator=model_cv, param_grid=param_grid, n_jobs=1, cv=4, scoring='neg_mean_squared_error', verbose=1)"
   ]
  },
  {
   "cell_type": "code",
   "execution_count": 21,
   "id": "ab32bea5",
   "metadata": {},
   "outputs": [
    {
     "name": "stdout",
     "output_type": "stream",
     "text": [
      "Fitting 4 folds for each of 5 candidates, totalling 20 fits\n"
     ]
    }
   ],
   "source": [
    "grid_result = grid.fit(X_treino, y_treino)"
   ]
  },
  {
   "cell_type": "code",
   "execution_count": 22,
   "id": "46406774",
   "metadata": {},
   "outputs": [
    {
     "name": "stdout",
     "output_type": "stream",
     "text": [
      "Best: -0.004630 using {'n_hidden_layers': 4}\n"
     ]
    }
   ],
   "source": [
    "print(\"Best: %f using %s\" % (grid_result.best_score_, grid_result.best_params_))"
   ]
  },
  {
   "cell_type": "code",
   "execution_count": 23,
   "id": "85877b2f",
   "metadata": {},
   "outputs": [
    {
     "name": "stdout",
     "output_type": "stream",
     "text": [
      "-0.006590 (0.003658) with: {'n_hidden_layers': 1}\n",
      "-0.010946 (0.006145) with: {'n_hidden_layers': 2}\n",
      "-0.006404 (0.004295) with: {'n_hidden_layers': 3}\n",
      "-0.004630 (0.003092) with: {'n_hidden_layers': 4}\n",
      "-0.010009 (0.007319) with: {'n_hidden_layers': 5}\n"
     ]
    }
   ],
   "source": [
    "means = grid_result.cv_results_['mean_test_score']\n",
    "stds = grid_result.cv_results_['std_test_score']\n",
    "params = grid_result.cv_results_['params']\n",
    "for mean, stdev, param in zip(means, stds, params):\n",
    "    print(\"%f (%f) with: %r\" % (mean, stdev, param))"
   ]
  },
  {
   "cell_type": "markdown",
   "id": "72cf4163",
   "metadata": {},
   "source": [
    "### Treino com o melhor modelo"
   ]
  },
  {
   "cell_type": "code",
   "execution_count": 24,
   "id": "ec0e38fa",
   "metadata": {},
   "outputs": [],
   "source": [
    "n_hidden_layers=4"
   ]
  },
  {
   "cell_type": "code",
   "execution_count": 28,
   "id": "b123f18e",
   "metadata": {},
   "outputs": [],
   "source": [
    "model = criar_modelo(name=\"MLP-Lorenz\", input_size=K, optimizer=optimizer, batch_normalization=batch_normalization, learning_rate=learning_rate, activation=activation,\n",
    "                     init_mode=init_mode, n_neurons=n_neurons, n_hidden_layers=n_hidden_layers, loss=loss)"
   ]
  },
  {
   "cell_type": "code",
   "execution_count": 29,
   "id": "6a271738",
   "metadata": {},
   "outputs": [
    {
     "name": "stdout",
     "output_type": "stream",
     "text": [
      "Model: \"MLP-Lorenz\"\n",
      "_________________________________________________________________\n",
      "Layer (type)                 Output Shape              Param #   \n",
      "=================================================================\n",
      "camada_de_entrada (Dense)    (None, 4)                 20        \n",
      "_________________________________________________________________\n",
      "camada_intermediaria_1 (Dens (None, 50)                250       \n",
      "_________________________________________________________________\n",
      "camada_intermediaria_2 (Dens (None, 50)                2550      \n",
      "_________________________________________________________________\n",
      "camada_intermediaria_3 (Dens (None, 50)                2550      \n",
      "_________________________________________________________________\n",
      "camada_intermediaria_4 (Dens (None, 50)                2550      \n",
      "_________________________________________________________________\n",
      "camada_de_saida (Dense)      (None, 1)                 51        \n",
      "=================================================================\n",
      "Total params: 7,971\n",
      "Trainable params: 7,971\n",
      "Non-trainable params: 0\n",
      "_________________________________________________________________\n"
     ]
    }
   ],
   "source": [
    "model.summary()"
   ]
  },
  {
   "cell_type": "code",
   "execution_count": 30,
   "id": "fe5070ea",
   "metadata": {},
   "outputs": [],
   "source": [
    "X_treino, X_val, y_treino, y_val = train_test_split(X_treino, y_treino, test_size=0.1)"
   ]
  },
  {
   "cell_type": "code",
   "execution_count": 31,
   "id": "150f338d",
   "metadata": {},
   "outputs": [],
   "source": [
    "early_stopping = tf.keras.callbacks.EarlyStopping(patience=10, restore_best_weights=True, monitor='val_loss')"
   ]
  },
  {
   "cell_type": "code",
   "execution_count": 33,
   "id": "b4162043",
   "metadata": {},
   "outputs": [
    {
     "name": "stdout",
     "output_type": "stream",
     "text": [
      "Epoch 1/100\n",
      "1910/1910 [==============================] - 5s 2ms/step - loss: 1.6718 - val_loss: 0.3673\n",
      "Epoch 2/100\n",
      "1910/1910 [==============================] - 5s 2ms/step - loss: 0.1560 - val_loss: 0.5482\n",
      "Epoch 3/100\n",
      "1910/1910 [==============================] - 4s 2ms/step - loss: 0.2118 - val_loss: 0.4967\n",
      "Epoch 4/100\n",
      "1910/1910 [==============================] - 4s 2ms/step - loss: 0.1070 - val_loss: 0.1124\n",
      "Epoch 5/100\n",
      "1910/1910 [==============================] - 4s 2ms/step - loss: 0.1246 - val_loss: 0.0205\n",
      "Epoch 6/100\n",
      "1910/1910 [==============================] - 4s 2ms/step - loss: 0.0869 - val_loss: 0.0128\n",
      "Epoch 7/100\n",
      "1910/1910 [==============================] - 4s 2ms/step - loss: 0.0317 - val_loss: 0.0248\n",
      "Epoch 8/100\n",
      "1910/1910 [==============================] - 3s 2ms/step - loss: 0.1006 - val_loss: 0.0749\n",
      "Epoch 9/100\n",
      "1910/1910 [==============================] - 4s 2ms/step - loss: 0.0724 - val_loss: 0.0403\n",
      "Epoch 10/100\n",
      "1910/1910 [==============================] - 4s 2ms/step - loss: 0.0676 - val_loss: 0.0366\n",
      "Epoch 11/100\n",
      "1910/1910 [==============================] - 4s 2ms/step - loss: 0.0332 - val_loss: 0.0804\n",
      "Epoch 12/100\n",
      "1910/1910 [==============================] - 4s 2ms/step - loss: 0.0312 - val_loss: 0.1524\n",
      "Epoch 13/100\n",
      "1910/1910 [==============================] - 4s 2ms/step - loss: 0.0680 - val_loss: 0.0072\n",
      "Epoch 14/100\n",
      "1910/1910 [==============================] - 5s 2ms/step - loss: 0.0524 - val_loss: 0.0820\n",
      "Epoch 15/100\n",
      "1910/1910 [==============================] - 4s 2ms/step - loss: 0.0386 - val_loss: 0.0270\n",
      "Epoch 16/100\n",
      "1910/1910 [==============================] - 4s 2ms/step - loss: 0.0343 - val_loss: 0.0071\n",
      "Epoch 17/100\n",
      "1910/1910 [==============================] - 4s 2ms/step - loss: 0.0220 - val_loss: 0.0029\n",
      "Epoch 18/100\n",
      "1910/1910 [==============================] - 5s 3ms/step - loss: 0.0179 - val_loss: 0.0247\n",
      "Epoch 19/100\n",
      "1910/1910 [==============================] - 4s 2ms/step - loss: 0.0346 - val_loss: 0.0115\n",
      "Epoch 20/100\n",
      "1910/1910 [==============================] - 4s 2ms/step - loss: 0.0162 - val_loss: 0.0049\n",
      "Epoch 21/100\n",
      "1910/1910 [==============================] - 4s 2ms/step - loss: 0.0214 - val_loss: 0.0669\n",
      "Epoch 22/100\n",
      "1910/1910 [==============================] - 4s 2ms/step - loss: 0.0227 - val_loss: 0.0414\n",
      "Epoch 23/100\n",
      "1910/1910 [==============================] - 3s 2ms/step - loss: 0.0412 - val_loss: 0.0029\n",
      "Epoch 24/100\n",
      "1910/1910 [==============================] - 4s 2ms/step - loss: 0.0201 - val_loss: 0.0042\n",
      "Epoch 25/100\n",
      "1910/1910 [==============================] - 5s 3ms/step - loss: 0.0154 - val_loss: 0.0111\n",
      "Epoch 26/100\n",
      "1910/1910 [==============================] - 4s 2ms/step - loss: 0.0353 - val_loss: 0.0042\n",
      "Epoch 27/100\n",
      "1910/1910 [==============================] - 3s 2ms/step - loss: 0.0137 - val_loss: 0.0038\n",
      "Epoch 28/100\n",
      "1910/1910 [==============================] - 4s 2ms/step - loss: 0.0150 - val_loss: 0.0058\n",
      "Epoch 29/100\n",
      "1910/1910 [==============================] - 5s 3ms/step - loss: 0.0170 - val_loss: 0.0024\n",
      "Epoch 30/100\n",
      "1910/1910 [==============================] - 4s 2ms/step - loss: 0.0309 - val_loss: 0.0052\n",
      "Epoch 31/100\n",
      "1910/1910 [==============================] - 5s 2ms/step - loss: 0.0134 - val_loss: 0.0023\n",
      "Epoch 32/100\n",
      "1910/1910 [==============================] - 4s 2ms/step - loss: 0.0266 - val_loss: 0.0042\n",
      "Epoch 33/100\n",
      "1910/1910 [==============================] - 4s 2ms/step - loss: 0.0254 - val_loss: 0.0242\n",
      "Epoch 34/100\n",
      "1910/1910 [==============================] - 5s 3ms/step - loss: 0.0140 - val_loss: 0.0064\n",
      "Epoch 35/100\n",
      "1910/1910 [==============================] - 4s 2ms/step - loss: 0.0189 - val_loss: 0.0097\n",
      "Epoch 36/100\n",
      "1910/1910 [==============================] - 4s 2ms/step - loss: 0.0163 - val_loss: 0.0047\n",
      "Epoch 37/100\n",
      "1910/1910 [==============================] - 6s 3ms/step - loss: 0.0088 - val_loss: 0.0046\n",
      "Epoch 38/100\n",
      "1910/1910 [==============================] - 5s 3ms/step - loss: 0.0152 - val_loss: 0.0430\n",
      "Epoch 39/100\n",
      "1910/1910 [==============================] - 4s 2ms/step - loss: 0.0231 - val_loss: 0.0046\n",
      "Epoch 40/100\n",
      "1910/1910 [==============================] - 4s 2ms/step - loss: 0.0133 - val_loss: 0.0026\n",
      "Epoch 41/100\n",
      "1910/1910 [==============================] - 4s 2ms/step - loss: 0.0063 - val_loss: 0.0023\n",
      "Epoch 42/100\n",
      "1910/1910 [==============================] - 4s 2ms/step - loss: 0.0185 - val_loss: 0.0046\n",
      "Epoch 43/100\n",
      "1910/1910 [==============================] - 5s 2ms/step - loss: 0.0161 - val_loss: 0.0066\n",
      "Epoch 44/100\n",
      "1910/1910 [==============================] - 6s 3ms/step - loss: 0.0139 - val_loss: 0.0022\n",
      "Epoch 45/100\n",
      "1910/1910 [==============================] - 4s 2ms/step - loss: 0.0145 - val_loss: 0.0033\n",
      "Epoch 46/100\n",
      "1910/1910 [==============================] - 4s 2ms/step - loss: 0.0171 - val_loss: 0.0095\n",
      "Epoch 47/100\n",
      "1910/1910 [==============================] - 3s 2ms/step - loss: 0.0089 - val_loss: 0.0055\n",
      "Epoch 48/100\n",
      "1910/1910 [==============================] - 4s 2ms/step - loss: 0.0105 - val_loss: 0.0186\n",
      "Epoch 49/100\n",
      "1910/1910 [==============================] - 4s 2ms/step - loss: 0.0362 - val_loss: 0.0034\n",
      "Epoch 50/100\n",
      "1910/1910 [==============================] - 4s 2ms/step - loss: 0.0243 - val_loss: 0.0109\n",
      "Epoch 51/100\n",
      "1910/1910 [==============================] - 4s 2ms/step - loss: 0.0072 - val_loss: 0.0133\n",
      "Epoch 52/100\n",
      "1910/1910 [==============================] - 5s 3ms/step - loss: 0.0171 - val_loss: 0.0039\n",
      "Epoch 53/100\n",
      "1910/1910 [==============================] - 4s 2ms/step - loss: 0.0252 - val_loss: 0.0027\n",
      "Epoch 54/100\n",
      "1910/1910 [==============================] - 4s 2ms/step - loss: 0.0265 - val_loss: 0.0022\n",
      "Epoch 55/100\n",
      "1910/1910 [==============================] - 4s 2ms/step - loss: 0.0130 - val_loss: 0.0026\n",
      "Epoch 56/100\n",
      "1910/1910 [==============================] - 4s 2ms/step - loss: 0.0072 - val_loss: 0.0312\n",
      "Epoch 57/100\n",
      "1910/1910 [==============================] - 4s 2ms/step - loss: 0.0254 - val_loss: 0.0026\n",
      "Epoch 58/100\n",
      "1910/1910 [==============================] - 4s 2ms/step - loss: 0.0581 - val_loss: 0.0037\n",
      "Epoch 59/100\n",
      "1910/1910 [==============================] - 5s 3ms/step - loss: 0.0076 - val_loss: 0.0019\n",
      "Epoch 60/100\n",
      "1910/1910 [==============================] - 4s 2ms/step - loss: 0.0167 - val_loss: 0.0028\n",
      "Epoch 61/100\n",
      "1910/1910 [==============================] - 6s 3ms/step - loss: 0.0077 - val_loss: 0.0062\n",
      "Epoch 62/100\n",
      "1910/1910 [==============================] - 5s 2ms/step - loss: 0.0126 - val_loss: 0.0020\n",
      "Epoch 63/100\n",
      "1910/1910 [==============================] - 5s 3ms/step - loss: 0.0090 - val_loss: 0.0051\n",
      "Epoch 64/100\n",
      "1910/1910 [==============================] - 5s 3ms/step - loss: 0.0100 - val_loss: 0.0031\n",
      "Epoch 65/100\n",
      "1910/1910 [==============================] - 4s 2ms/step - loss: 0.0107 - val_loss: 0.0045\n",
      "Epoch 66/100\n",
      "1910/1910 [==============================] - 4s 2ms/step - loss: 0.0149 - val_loss: 0.0040\n",
      "Epoch 67/100\n",
      "1910/1910 [==============================] - 4s 2ms/step - loss: 0.0094 - val_loss: 0.0060\n",
      "Epoch 68/100\n",
      "1910/1910 [==============================] - 4s 2ms/step - loss: 0.0179 - val_loss: 0.0033\n",
      "Epoch 69/100\n",
      "1910/1910 [==============================] - 4s 2ms/step - loss: 0.0082 - val_loss: 0.0986\n"
     ]
    }
   ],
   "source": [
    "history = model.fit(X_treino, y_treino, epochs=100,\n",
    "                            callbacks=early_stopping, validation_data=(X_val, y_val),\n",
    "                            batch_size=batch_size)\n",
    "treinamento = pd.DataFrame(history.history)"
   ]
  },
  {
   "cell_type": "markdown",
   "id": "b23ce11c",
   "metadata": {},
   "source": [
    "## Teste com o melhor modelo"
   ]
  },
  {
   "cell_type": "code",
   "execution_count": 34,
   "id": "c82f1366",
   "metadata": {},
   "outputs": [],
   "source": [
    "y_pred = model.predict(X_teste)"
   ]
  },
  {
   "cell_type": "markdown",
   "id": "7f4640e8",
   "metadata": {},
   "source": [
    "### Gráfico"
   ]
  },
  {
   "cell_type": "code",
   "execution_count": 35,
   "id": "13e7c110",
   "metadata": {},
   "outputs": [
    {
     "data": {
      "application/vnd.jupyter.widget-view+json": {
       "model_id": "43d143ea180449eba38ab089832275e8",
       "version_major": 2,
       "version_minor": 0
      },
      "text/plain": [
       "Canvas(toolbar=Toolbar(toolitems=[('Home', 'Reset original view', 'home', 'home'), ('Back', 'Back to previous …"
      ]
     },
     "metadata": {},
     "output_type": "display_data"
    },
    {
     "name": "stderr",
     "output_type": "stream",
     "text": [
      "findfont: Font family ['serif'] not found. Falling back to DejaVu Sans.\n"
     ]
    }
   ],
   "source": [
    "fig, ax = plt.subplots()\n",
    "ax.plot(instantes_temporais[len(instantes_temporais)-int(len(instantes_temporais)*tam_teste):,], y_teste, color='DodgerBlue', label='Valor real')\n",
    "ax.plot(instantes_temporais[len(instantes_temporais)-int(len(instantes_temporais)*tam_teste):,], y_pred, color='Silver', label='MLP')\n",
    "\n",
    "ax.set_title(\"Comparação da predição da MLP com o valor real do sistema de Lorenz\\n utilizando a rede neural ótima\")\n",
    "ax.set_ylabel('$x(t)$')\n",
    "ax.set_xlabel('$t$')\n",
    "ax.set_xlim(42.5, 50)\n",
    "    \n",
    "ax.grid(True)\n",
    "sns.despine()\n",
    "ax.legend()\n",
    "\n",
    "plt.show()\n",
    "fig.savefig(\"../../../../images/mlp-aprimorada/performance/mlp-aprimorada-vs-lorenz.png\")"
   ]
  },
  {
   "cell_type": "markdown",
   "id": "4bd6055c",
   "metadata": {},
   "source": [
    "### Erro Quadrático Médio"
   ]
  },
  {
   "cell_type": "code",
   "execution_count": 36,
   "id": "2180a89a",
   "metadata": {},
   "outputs": [],
   "source": [
    "from sklearn.metrics import mean_squared_error"
   ]
  },
  {
   "cell_type": "code",
   "execution_count": 37,
   "id": "660747fb",
   "metadata": {},
   "outputs": [
    {
     "name": "stdout",
     "output_type": "stream",
     "text": [
      "MSE = 0.0024601999625926824\n"
     ]
    }
   ],
   "source": [
    "mse = mean_squared_error(y_teste, y_pred)\n",
    "print(\"MSE = \" + str(mse))"
   ]
  },
  {
   "cell_type": "markdown",
   "id": "4eace017",
   "metadata": {},
   "source": [
    "### Salvando o Modelo"
   ]
  },
  {
   "cell_type": "code",
   "execution_count": 38,
   "id": "51b530ac",
   "metadata": {},
   "outputs": [],
   "source": [
    "model.save(\"../../../../models/mlp-aprimorada/mlp-aprimorada-lorenz.h5\", include_optimizer=True)"
   ]
  },
  {
   "cell_type": "code",
   "execution_count": null,
   "id": "c961bae5",
   "metadata": {},
   "outputs": [],
   "source": []
  }
 ],
 "metadata": {
  "kernelspec": {
   "display_name": "Python 3",
   "language": "python",
   "name": "python3"
  },
  "language_info": {
   "codemirror_mode": {
    "name": "ipython",
    "version": 3
   },
   "file_extension": ".py",
   "mimetype": "text/x-python",
   "name": "python",
   "nbconvert_exporter": "python",
   "pygments_lexer": "ipython3",
   "version": "3.8.0"
  }
 },
 "nbformat": 4,
 "nbformat_minor": 5
}