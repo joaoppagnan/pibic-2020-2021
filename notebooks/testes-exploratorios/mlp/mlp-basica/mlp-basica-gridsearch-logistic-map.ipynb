{
 "cells": [
  {
   "cell_type": "markdown",
   "id": "f1f4d1f2",
   "metadata": {},
   "source": [
    "# Implementando uma MLP básica com Grid Search para escolher melhor os parâmetros no Mapa Logístico"
   ]
  },
  {
   "cell_type": "markdown",
   "id": "c1f0aee1",
   "metadata": {},
   "source": [
    "## 1. Importando as bibliotecas necessárias"
   ]
  },
  {
   "cell_type": "markdown",
   "id": "09dc7bf8",
   "metadata": {},
   "source": [
    "### 1.1 Bibliotecas gerais"
   ]
  },
  {
   "cell_type": "code",
   "execution_count": 1,
   "id": "c80d4d06",
   "metadata": {},
   "outputs": [],
   "source": [
    "%matplotlib widget\n",
    "import numpy as np\n",
    "import pandas as pd\n",
    "import matplotlib.pyplot as plt\n",
    "import seaborn as sns # a biblioteca 'seaborn' contém vários estilos para os gráficos do 'matpĺotlib'\n",
    "\n",
    "# agora, melhoramos a qualidade de saida e de visualizacao da imagem \n",
    "# alem de mudar a fonte padrao para uma do latex\n",
    "sns.set_style(\"ticks\")\n",
    "plt.rcParams['savefig.dpi'] = 200\n",
    "plt.rcParams[\"figure.dpi\"] = 150\n",
    "\n",
    "plt.rcParams.update({\n",
    "    \"text.usetex\": True,\n",
    "    \"font.family\": \"serif\",\n",
    "    \"font.serif\": [\"Palatino\"],\n",
    "})\n",
    "plt.style.use('dark_background')"
   ]
  },
  {
   "cell_type": "markdown",
   "id": "3a423870",
   "metadata": {},
   "source": [
    "### 1.2 Bibliotecas para MLP"
   ]
  },
  {
   "cell_type": "code",
   "execution_count": 2,
   "id": "893b0113",
   "metadata": {},
   "outputs": [],
   "source": [
    "import tensorflow as tf\n",
    "physical_devices = tf.config.list_physical_devices('GPU')\n",
    "\n",
    "from tensorflow import keras"
   ]
  },
  {
   "cell_type": "code",
   "execution_count": 3,
   "id": "8a716982",
   "metadata": {},
   "outputs": [],
   "source": [
    "from sklearn.model_selection import GridSearchCV\n",
    "from sklearn.model_selection import train_test_split"
   ]
  },
  {
   "cell_type": "code",
   "execution_count": 4,
   "id": "845ed5d5",
   "metadata": {},
   "outputs": [],
   "source": [
    "from tensorflow.keras.wrappers.scikit_learn import KerasRegressor"
   ]
  },
  {
   "cell_type": "code",
   "execution_count": 1,
   "id": "a56d61c2",
   "metadata": {},
   "outputs": [],
   "source": [
    "from pibic2020.models import mlp_model"
   ]
  },
  {
   "cell_type": "markdown",
   "id": "7499d7e7",
   "metadata": {},
   "source": [
    "### 1.3 Bibliotecas dos sistemas caóticos"
   ]
  },
  {
   "cell_type": "code",
   "execution_count": 2,
   "id": "b89d96a7",
   "metadata": {},
   "outputs": [],
   "source": [
    "from pibic2020.tools import timeseries as times\n",
    "from pibic2020.data import logistic as logmap"
   ]
  },
  {
   "cell_type": "markdown",
   "id": "db55e4b6",
   "metadata": {},
   "source": [
    "## 2. Gerando a série temporal do mapa logístico"
   ]
  },
  {
   "cell_type": "markdown",
   "id": "48d0c825",
   "metadata": {},
   "source": [
    "Os valores para os parâmetros das equações serão os \"básicos\" apresentados no *paper* original. Utilizaremos  $r = 3.86$, o que faz com que o sistema esteja em caos."
   ]
  },
  {
   "cell_type": "code",
   "execution_count": 6,
   "id": "68f4deda",
   "metadata": {},
   "outputs": [],
   "source": [
    "x_inicial = 0.5\n",
    "n_inicial = 0\n",
    "n_iteracoes = 5000\n",
    "r=3.86\n",
    "estados = np.array([x_inicial, n_inicial])"
   ]
  },
  {
   "cell_type": "code",
   "execution_count": 7,
   "id": "82c45155",
   "metadata": {},
   "outputs": [],
   "source": [
    "mapa = logmap.MapaLogistico(estado_inicial=estados, r=r)"
   ]
  },
  {
   "cell_type": "code",
   "execution_count": 8,
   "id": "c477abf0",
   "metadata": {},
   "outputs": [],
   "source": [
    "estados = mapa.simular(n_iteracoes)"
   ]
  },
  {
   "cell_type": "code",
   "execution_count": 9,
   "id": "ad76dcaa",
   "metadata": {},
   "outputs": [],
   "source": [
    "x = estados[:, 0]\n",
    "n = estados[:, 1]"
   ]
  },
  {
   "cell_type": "code",
   "execution_count": 10,
   "id": "17e883b3",
   "metadata": {},
   "outputs": [
    {
     "data": {
      "application/vnd.jupyter.widget-view+json": {
       "model_id": "cae54f65178c4e33b8c892b196544e9a",
       "version_major": 2,
       "version_minor": 0
      },
      "text/plain": [
       "Canvas(toolbar=Toolbar(toolitems=[('Home', 'Reset original view', 'home', 'home'), ('Back', 'Back to previous …"
      ]
     },
     "metadata": {},
     "output_type": "display_data"
    }
   ],
   "source": [
    "fig, ax = plt.subplots()\n",
    "ax.plot(n, x, color='Crimson')\n",
    "\n",
    "ax.set_title(\"$100$ iterações iniciais da série temporal do Mapa Logístico\\n para $r =$ \" + str(r) + \" com $x[0] =$ \" + str(x[0]))\n",
    "ax.set_ylabel('$x[n]$')\n",
    "ax.set_xlabel('$n$')\n",
    "ax.set_xlim(0,100)\n",
    "    \n",
    "ax.grid(True)\n",
    "sns.despine()\n",
    "\n",
    "plt.show()"
   ]
  },
  {
   "cell_type": "markdown",
   "id": "df7af5c7",
   "metadata": {},
   "source": [
    "### 2.1 Dividindo em um conjunto de treinamento e de teste, para K = 4 e L = 3"
   ]
  },
  {
   "cell_type": "code",
   "execution_count": 11,
   "id": "12e2c854",
   "metadata": {},
   "outputs": [],
   "source": [
    "K = 4\n",
    "L = 3\n",
    "tam_teste = 0.15"
   ]
  },
  {
   "cell_type": "code",
   "execution_count": 12,
   "id": "800d27a6",
   "metadata": {},
   "outputs": [],
   "source": [
    "serie_temporal = times.SerieTemporal(x, K=K, L=L)"
   ]
  },
  {
   "cell_type": "code",
   "execution_count": 14,
   "id": "bd741a8b",
   "metadata": {},
   "outputs": [],
   "source": [
    "X_treino, X_teste, y_treino, y_teste = serie_temporal.dividir_treino_teste(tam_teste)"
   ]
  },
  {
   "cell_type": "markdown",
   "id": "35c094d9",
   "metadata": {},
   "source": [
    "## 3. Definindo o modelo para a MLP"
   ]
  },
  {
   "cell_type": "markdown",
   "id": "6c21a3da",
   "metadata": {},
   "source": [
    "### 3.1 Definindo função para criar a MLP"
   ]
  },
  {
   "cell_type": "markdown",
   "id": "4aa9a71b",
   "metadata": {},
   "source": [
    "Utilizaremos os seguintes parâmetros no *Grid Search*:"
   ]
  },
  {
   "cell_type": "code",
   "execution_count": 29,
   "id": "6a45fadc",
   "metadata": {},
   "outputs": [],
   "source": [
    "mlp_gridsearch = mlp_model.ModeloMLP(input_size=K)"
   ]
  },
  {
   "cell_type": "code",
   "execution_count": 16,
   "id": "e6bfb183",
   "metadata": {},
   "outputs": [],
   "source": [
    "param_grid = dict(batch_size=[2, 4, 8, 16, 32], \n",
    "                  batch_normalization=['ON', 'OFF'], \n",
    "                  activation=['selu', 'relu', 'elu', 'sigmoid', 'tanh'], \n",
    "                  init_mode = ['lecun_uniform', 'lecun_normal', 'glorot_normal', 'glorot_uniform', 'he_normal', 'he_uniform'],\n",
    "                  n_neurons = [5, 10, 15, 20, 30, 50, 75, 100],\n",
    "                  learning_rate = [0.001, 0.003, 0.005, 0.008, 0.01])"
   ]
  },
  {
   "cell_type": "markdown",
   "id": "64bee28f",
   "metadata": {},
   "source": [
    "Para facilitar, dividiremos esse processo em etapas."
   ]
  },
  {
   "cell_type": "markdown",
   "id": "9d7aa449",
   "metadata": {},
   "source": [
    "### 3.2 Definindo parâmetros que não serão definidos pelo *Grid Search*"
   ]
  },
  {
   "cell_type": "code",
   "execution_count": 17,
   "id": "2ffd816d",
   "metadata": {},
   "outputs": [],
   "source": [
    "loss = \"mean_squared_error\"\n",
    "optimizer = keras.optimizers.Nadam()"
   ]
  },
  {
   "cell_type": "markdown",
   "id": "0304f26a",
   "metadata": {},
   "source": [
    "### 3.3 Definindo e executando o primeiro *Grid Search*"
   ]
  },
  {
   "cell_type": "markdown",
   "id": "6b35e7c0",
   "metadata": {},
   "source": [
    "Primeiro, avaliaremos o impacto do *batch size* e da camada de *batch normalization*."
   ]
  },
  {
   "cell_type": "code",
   "execution_count": 18,
   "id": "b06260d1",
   "metadata": {},
   "outputs": [],
   "source": [
    "param_grid_1 = dict(batch_size=[2, 4, 8, 16, 32], \n",
    "                  batch_normalization=['ON', 'OFF'])"
   ]
  },
  {
   "cell_type": "code",
   "execution_count": 19,
   "id": "89114d89",
   "metadata": {},
   "outputs": [],
   "source": [
    "model_cv_1 = KerasRegressor(build_fn=mlp_gridsearch.gridsearch, epochs=100, verbose=0)"
   ]
  },
  {
   "cell_type": "code",
   "execution_count": 20,
   "id": "bd36ab25",
   "metadata": {},
   "outputs": [],
   "source": [
    "grid = GridSearchCV(estimator=model_cv_1, param_grid=param_grid_1, n_jobs=1, cv=4, scoring='neg_mean_squared_error')"
   ]
  },
  {
   "cell_type": "code",
   "execution_count": 21,
   "id": "1d7a924c",
   "metadata": {},
   "outputs": [],
   "source": [
    "grid_result = grid.fit(X_treino, y_treino)"
   ]
  },
  {
   "cell_type": "code",
   "execution_count": 22,
   "id": "85a22845",
   "metadata": {},
   "outputs": [
    {
     "name": "stdout",
     "output_type": "stream",
     "text": [
      "Best: -0.003760 using {'batch_normalization': 'OFF', 'batch_size': 2}\n"
     ]
    }
   ],
   "source": [
    "print(\"Best: %f using %s\" % (grid_result.best_score_, grid_result.best_params_))"
   ]
  },
  {
   "cell_type": "code",
   "execution_count": 23,
   "id": "c66b072f",
   "metadata": {},
   "outputs": [
    {
     "name": "stdout",
     "output_type": "stream",
     "text": [
      "-0.178369 (0.082721) with: {'batch_normalization': 'ON', 'batch_size': 2}\n",
      "-0.041401 (0.001848) with: {'batch_normalization': 'ON', 'batch_size': 4}\n",
      "-0.033766 (0.002479) with: {'batch_normalization': 'ON', 'batch_size': 8}\n",
      "-0.021201 (0.001527) with: {'batch_normalization': 'ON', 'batch_size': 16}\n",
      "-0.015921 (0.001640) with: {'batch_normalization': 'ON', 'batch_size': 32}\n",
      "-0.003760 (0.000865) with: {'batch_normalization': 'OFF', 'batch_size': 2}\n",
      "-0.023976 (0.005225) with: {'batch_normalization': 'OFF', 'batch_size': 4}\n",
      "-0.016608 (0.007290) with: {'batch_normalization': 'OFF', 'batch_size': 8}\n",
      "-0.024697 (0.003882) with: {'batch_normalization': 'OFF', 'batch_size': 16}\n",
      "-0.027041 (0.002253) with: {'batch_normalization': 'OFF', 'batch_size': 32}\n"
     ]
    }
   ],
   "source": [
    "means = grid_result.cv_results_['mean_test_score']\n",
    "stds = grid_result.cv_results_['std_test_score']\n",
    "params = grid_result.cv_results_['params']\n",
    "for mean, stdev, param in zip(means, stds, params):\n",
    "    print(\"%f (%f) with: %r\" % (mean, stdev, param))"
   ]
  },
  {
   "cell_type": "markdown",
   "id": "5ed9b654",
   "metadata": {},
   "source": [
    "### 3.4 Definindo e executando o segundo *Grid Search*"
   ]
  },
  {
   "cell_type": "markdown",
   "id": "bc9bcbb8",
   "metadata": {},
   "source": [
    "Agora, avaliaremos o impacto do *learning rate* do otimizador."
   ]
  },
  {
   "cell_type": "code",
   "execution_count": 18,
   "id": "c715c8aa",
   "metadata": {},
   "outputs": [],
   "source": [
    "model_cv_2 = KerasRegressor(build_fn=mlp_gridsearch.gridsearch, epochs=100, verbose=0, batch_size=2, batch_normalization='OFF')"
   ]
  },
  {
   "cell_type": "code",
   "execution_count": 19,
   "id": "a94683da",
   "metadata": {},
   "outputs": [],
   "source": [
    "param_grid_2 = dict(learning_rate=[0.001, 0.003, 0.005, 0.008, 0.01])"
   ]
  },
  {
   "cell_type": "code",
   "execution_count": 20,
   "id": "46fb8866",
   "metadata": {},
   "outputs": [],
   "source": [
    "grid = GridSearchCV(estimator=model_cv_2, param_grid=param_grid_2, n_jobs=1, cv=4, scoring='neg_mean_squared_error')"
   ]
  },
  {
   "cell_type": "code",
   "execution_count": 21,
   "id": "dc0c54ae",
   "metadata": {},
   "outputs": [],
   "source": [
    "grid_result = grid.fit(X_treino, y_treino)"
   ]
  },
  {
   "cell_type": "code",
   "execution_count": 22,
   "id": "4ae1bf89",
   "metadata": {},
   "outputs": [
    {
     "name": "stdout",
     "output_type": "stream",
     "text": [
      "Best: -0.007609 using {'learning_rate': 0.003}\n"
     ]
    }
   ],
   "source": [
    "print(\"Best: %f using %s\" % (grid_result.best_score_, grid_result.best_params_))"
   ]
  },
  {
   "cell_type": "code",
   "execution_count": 23,
   "id": "ad7e8f8c",
   "metadata": {},
   "outputs": [
    {
     "name": "stdout",
     "output_type": "stream",
     "text": [
      "-0.013338 (0.011113) with: {'learning_rate': 0.001}\n",
      "-0.007609 (0.008557) with: {'learning_rate': 0.003}\n",
      "-0.017000 (0.010723) with: {'learning_rate': 0.005}\n",
      "-0.031569 (0.010900) with: {'learning_rate': 0.008}\n",
      "-0.043478 (0.004508) with: {'learning_rate': 0.01}\n"
     ]
    }
   ],
   "source": [
    "means = grid_result.cv_results_['mean_test_score']\n",
    "stds = grid_result.cv_results_['std_test_score']\n",
    "params = grid_result.cv_results_['params']\n",
    "for mean, stdev, param in zip(means, stds, params):\n",
    "    print(\"%f (%f) with: %r\" % (mean, stdev, param))"
   ]
  },
  {
   "cell_type": "markdown",
   "id": "4355b56f",
   "metadata": {},
   "source": [
    "### 3.5 Definindo e executando o terceiro *Grid Search*"
   ]
  },
  {
   "cell_type": "markdown",
   "id": "d8e52b3b",
   "metadata": {},
   "source": [
    "Agora, avaliaremos o impacto da função de ativação da camada intermediária."
   ]
  },
  {
   "cell_type": "code",
   "execution_count": 24,
   "id": "d4535678",
   "metadata": {},
   "outputs": [],
   "source": [
    "model_cv_3 = KerasRegressor(build_fn=mlp_gridsearch.gridsearch, epochs=100, verbose=0, batch_size=2, batch_normalization='OFF', learning_rate=0.003)"
   ]
  },
  {
   "cell_type": "code",
   "execution_count": 25,
   "id": "56c0f2ef",
   "metadata": {},
   "outputs": [],
   "source": [
    "param_grid_3 = dict(activation=['selu', 'relu', 'elu', 'sigmoid', 'tanh'])"
   ]
  },
  {
   "cell_type": "code",
   "execution_count": 26,
   "id": "adf4b261",
   "metadata": {},
   "outputs": [],
   "source": [
    "grid = GridSearchCV(estimator=model_cv_3, param_grid=param_grid_3, n_jobs=1, cv=4, scoring='neg_mean_squared_error')"
   ]
  },
  {
   "cell_type": "code",
   "execution_count": 27,
   "id": "67ea53d2",
   "metadata": {},
   "outputs": [],
   "source": [
    "grid_result = grid.fit(X_treino, y_treino)"
   ]
  },
  {
   "cell_type": "code",
   "execution_count": 28,
   "id": "0906222d",
   "metadata": {},
   "outputs": [
    {
     "name": "stdout",
     "output_type": "stream",
     "text": [
      "Best: -0.000939 using {'activation': 'tanh'}\n"
     ]
    }
   ],
   "source": [
    "print(\"Best: %f using %s\" % (grid_result.best_score_, grid_result.best_params_))"
   ]
  },
  {
   "cell_type": "code",
   "execution_count": 29,
   "id": "d817fd3b",
   "metadata": {},
   "outputs": [
    {
     "name": "stdout",
     "output_type": "stream",
     "text": [
      "-0.006868 (0.002487) with: {'activation': 'selu'}\n",
      "-0.001459 (0.000349) with: {'activation': 'relu'}\n",
      "-0.013469 (0.011514) with: {'activation': 'elu'}\n",
      "-0.000989 (0.001287) with: {'activation': 'sigmoid'}\n",
      "-0.000939 (0.000318) with: {'activation': 'tanh'}\n"
     ]
    }
   ],
   "source": [
    "means = grid_result.cv_results_['mean_test_score']\n",
    "stds = grid_result.cv_results_['std_test_score']\n",
    "params = grid_result.cv_results_['params']\n",
    "for mean, stdev, param in zip(means, stds, params):\n",
    "    print(\"%f (%f) with: %r\" % (mean, stdev, param))"
   ]
  },
  {
   "cell_type": "markdown",
   "id": "ba107829",
   "metadata": {},
   "source": [
    "### 3.6 Definindo e executando o quarto *Grid Search*"
   ]
  },
  {
   "cell_type": "markdown",
   "id": "893fa8e9",
   "metadata": {},
   "source": [
    "Agora, avaliaremos o impacto do inicializador da camada intermediária."
   ]
  },
  {
   "cell_type": "code",
   "execution_count": 30,
   "id": "09605701",
   "metadata": {},
   "outputs": [],
   "source": [
    "model_cv_4 = KerasRegressor(build_fn=mlp_gridsearch.gridsearch, epochs=100, verbose=0, batch_size=2, batch_normalization='OFF', learning_rate=0.003, activation='tanh')"
   ]
  },
  {
   "cell_type": "code",
   "execution_count": 31,
   "id": "72b7ba95",
   "metadata": {},
   "outputs": [],
   "source": [
    "param_grid_4 = dict(init_mode = ['glorot_uniform', 'glorot_normal'])"
   ]
  },
  {
   "cell_type": "code",
   "execution_count": 32,
   "id": "8e8cda23",
   "metadata": {},
   "outputs": [],
   "source": [
    "grid = GridSearchCV(estimator=model_cv_4, param_grid=param_grid_4, n_jobs=1, cv=4, scoring='neg_mean_squared_error')"
   ]
  },
  {
   "cell_type": "code",
   "execution_count": 33,
   "id": "75c02f2f",
   "metadata": {},
   "outputs": [],
   "source": [
    "grid_result = grid.fit(X_treino, y_treino)"
   ]
  },
  {
   "cell_type": "code",
   "execution_count": 34,
   "id": "cc8143d8",
   "metadata": {},
   "outputs": [
    {
     "name": "stdout",
     "output_type": "stream",
     "text": [
      "Best: -0.003020 using {'init_mode': 'glorot_uniform'}\n"
     ]
    }
   ],
   "source": [
    "print(\"Best: %f using %s\" % (grid_result.best_score_, grid_result.best_params_))"
   ]
  },
  {
   "cell_type": "code",
   "execution_count": 35,
   "id": "db65caa7",
   "metadata": {},
   "outputs": [
    {
     "name": "stdout",
     "output_type": "stream",
     "text": [
      "-0.003020 (0.002229) with: {'init_mode': 'glorot_uniform'}\n",
      "-0.005604 (0.007977) with: {'init_mode': 'glorot_normal'}\n"
     ]
    }
   ],
   "source": [
    "means = grid_result.cv_results_['mean_test_score']\n",
    "stds = grid_result.cv_results_['std_test_score']\n",
    "params = grid_result.cv_results_['params']\n",
    "for mean, stdev, param in zip(means, stds, params):\n",
    "    print(\"%f (%f) with: %r\" % (mean, stdev, param))"
   ]
  },
  {
   "cell_type": "markdown",
   "id": "8d4d5306",
   "metadata": {},
   "source": [
    "### 3.7 Definindo e executando o quinto *Grid Search*"
   ]
  },
  {
   "cell_type": "markdown",
   "id": "9a6142d6",
   "metadata": {},
   "source": [
    "Agora, avaliaremos o número de neurônios na camada intermediária."
   ]
  },
  {
   "cell_type": "code",
   "execution_count": 36,
   "id": "647f3e44",
   "metadata": {},
   "outputs": [],
   "source": [
    "model_cv_5 = KerasRegressor(build_fn=mlp_gridsearch.gridsearch, epochs=100, verbose=0, batch_size=2, batch_normalization='OFF', learning_rate=0.003, activation='tanh', init_mode='glorot_uniform')"
   ]
  },
  {
   "cell_type": "code",
   "execution_count": 37,
   "id": "9d2293fb",
   "metadata": {},
   "outputs": [],
   "source": [
    "param_grid_5 = dict(n_neurons = [5, 10, 15, 20, 30, 50, 75, 100])"
   ]
  },
  {
   "cell_type": "code",
   "execution_count": 38,
   "id": "f37e7bbe",
   "metadata": {},
   "outputs": [],
   "source": [
    "grid = GridSearchCV(estimator=model_cv_5, param_grid=param_grid_5, n_jobs=1, cv=4, scoring='neg_mean_squared_error')"
   ]
  },
  {
   "cell_type": "code",
   "execution_count": 39,
   "id": "e2920aef",
   "metadata": {},
   "outputs": [],
   "source": [
    "grid_result = grid.fit(X_treino, y_treino)"
   ]
  },
  {
   "cell_type": "code",
   "execution_count": 40,
   "id": "a79163c6",
   "metadata": {},
   "outputs": [
    {
     "name": "stdout",
     "output_type": "stream",
     "text": [
      "Best: -0.001795 using {'n_neurons': 10}\n"
     ]
    }
   ],
   "source": [
    "print(\"Best: %f using %s\" % (grid_result.best_score_, grid_result.best_params_))"
   ]
  },
  {
   "cell_type": "code",
   "execution_count": 41,
   "id": "93039b61",
   "metadata": {},
   "outputs": [
    {
     "name": "stdout",
     "output_type": "stream",
     "text": [
      "-0.007413 (0.006256) with: {'n_neurons': 5}\n",
      "-0.001795 (0.001840) with: {'n_neurons': 10}\n",
      "-0.003611 (0.002886) with: {'n_neurons': 15}\n",
      "-0.002872 (0.002484) with: {'n_neurons': 20}\n",
      "-0.005684 (0.006433) with: {'n_neurons': 30}\n",
      "-0.013174 (0.010937) with: {'n_neurons': 50}\n",
      "-0.018582 (0.017341) with: {'n_neurons': 75}\n",
      "-0.010835 (0.007711) with: {'n_neurons': 100}\n"
     ]
    }
   ],
   "source": [
    "means = grid_result.cv_results_['mean_test_score']\n",
    "stds = grid_result.cv_results_['std_test_score']\n",
    "params = grid_result.cv_results_['params']\n",
    "for mean, stdev, param in zip(means, stds, params):\n",
    "    print(\"%f (%f) with: %r\" % (mean, stdev, param))"
   ]
  },
  {
   "cell_type": "markdown",
   "id": "951ad001",
   "metadata": {},
   "source": [
    "### Treino com o melhor modelo"
   ]
  },
  {
   "cell_type": "code",
   "execution_count": 24,
   "id": "8adeaafa",
   "metadata": {},
   "outputs": [],
   "source": [
    "model = criar_modelo(name='MLP-basica-logistic', batch_normalization='OFF', learning_rate=0.003, activation='tanh', init_mode='glorot_uniform', n_neurons=10)"
   ]
  },
  {
   "cell_type": "code",
   "execution_count": 25,
   "id": "bcb9e2c1",
   "metadata": {},
   "outputs": [
    {
     "name": "stdout",
     "output_type": "stream",
     "text": [
      "Model: \"MLP-basica-logistic\"\n",
      "_________________________________________________________________\n",
      "Layer (type)                 Output Shape              Param #   \n",
      "=================================================================\n",
      "camada_de_entrada (Dense)    (None, 4)                 20        \n",
      "_________________________________________________________________\n",
      "camada_intermediaria (Dense) (None, 10)                50        \n",
      "_________________________________________________________________\n",
      "camada_de_saida (Dense)      (None, 1)                 11        \n",
      "=================================================================\n",
      "Total params: 81\n",
      "Trainable params: 81\n",
      "Non-trainable params: 0\n",
      "_________________________________________________________________\n"
     ]
    }
   ],
   "source": [
    "model.summary()"
   ]
  },
  {
   "cell_type": "code",
   "execution_count": 26,
   "id": "4783882d",
   "metadata": {},
   "outputs": [],
   "source": [
    "X_treino, X_val, y_treino, y_val = train_test_split(X_treino, y_treino, test_size=0.1)"
   ]
  },
  {
   "cell_type": "code",
   "execution_count": 27,
   "id": "e2a6ff00",
   "metadata": {},
   "outputs": [],
   "source": [
    "early_stopping = tf.keras.callbacks.EarlyStopping(patience=10, restore_best_weights=True, monitor='val_loss')"
   ]
  },
  {
   "cell_type": "code",
   "execution_count": 28,
   "id": "ddcecf7b",
   "metadata": {},
   "outputs": [],
   "source": [
    "batch_size = 2"
   ]
  },
  {
   "cell_type": "code",
   "execution_count": 29,
   "id": "33c15fc5",
   "metadata": {},
   "outputs": [
    {
     "name": "stdout",
     "output_type": "stream",
     "text": [
      "Epoch 1/100\n",
      "1719/1719 [==============================] - 2s 1ms/step - loss: 0.0572 - val_loss: 0.0504\n",
      "Epoch 2/100\n",
      "1719/1719 [==============================] - 2s 1ms/step - loss: 0.0439 - val_loss: 0.0492\n",
      "Epoch 3/100\n",
      "1719/1719 [==============================] - 2s 1ms/step - loss: 0.0428 - val_loss: 0.0434\n",
      "Epoch 4/100\n",
      "1719/1719 [==============================] - 2s 1ms/step - loss: 0.0405 - val_loss: 0.0468\n",
      "Epoch 5/100\n",
      "1719/1719 [==============================] - 2s 1ms/step - loss: 0.0392 - val_loss: 0.0403\n",
      "Epoch 6/100\n",
      "1719/1719 [==============================] - 2s 1ms/step - loss: 0.0367 - val_loss: 0.0380\n",
      "Epoch 7/100\n",
      "1719/1719 [==============================] - 2s 1ms/step - loss: 0.0350 - val_loss: 0.0365\n",
      "Epoch 8/100\n",
      "1719/1719 [==============================] - 2s 1ms/step - loss: 0.0337 - val_loss: 0.0322\n",
      "Epoch 9/100\n",
      "1719/1719 [==============================] - 2s 1ms/step - loss: 0.0337 - val_loss: 0.0317\n",
      "Epoch 10/100\n",
      "1719/1719 [==============================] - 2s 1ms/step - loss: 0.0322 - val_loss: 0.0317\n",
      "Epoch 11/100\n",
      "1719/1719 [==============================] - 2s 1ms/step - loss: 0.0284 - val_loss: 0.0313\n",
      "Epoch 12/100\n",
      "1719/1719 [==============================] - 2s 1ms/step - loss: 0.0310 - val_loss: 0.0302\n",
      "Epoch 13/100\n",
      "1719/1719 [==============================] - 2s 1ms/step - loss: 0.0298 - val_loss: 0.0315\n",
      "Epoch 14/100\n",
      "1719/1719 [==============================] - 2s 1ms/step - loss: 0.0301 - val_loss: 0.0332\n",
      "Epoch 15/100\n",
      "1719/1719 [==============================] - 2s 1ms/step - loss: 0.0295 - val_loss: 0.0302\n",
      "Epoch 16/100\n",
      "1719/1719 [==============================] - 2s 1ms/step - loss: 0.0301 - val_loss: 0.0304\n",
      "Epoch 17/100\n",
      "1719/1719 [==============================] - 2s 1ms/step - loss: 0.0277 - val_loss: 0.0290\n",
      "Epoch 18/100\n",
      "1719/1719 [==============================] - 2s 1ms/step - loss: 0.0278 - val_loss: 0.0279\n",
      "Epoch 19/100\n",
      "1719/1719 [==============================] - 2s 1ms/step - loss: 0.0268 - val_loss: 0.0268\n",
      "Epoch 20/100\n",
      "1719/1719 [==============================] - 2s 1ms/step - loss: 0.0259 - val_loss: 0.0257\n",
      "Epoch 21/100\n",
      "1719/1719 [==============================] - 2s 1ms/step - loss: 0.0263 - val_loss: 0.0295\n",
      "Epoch 22/100\n",
      "1719/1719 [==============================] - 2s 1ms/step - loss: 0.0252 - val_loss: 0.0267\n",
      "Epoch 23/100\n",
      "1719/1719 [==============================] - 2s 1ms/step - loss: 0.0228 - val_loss: 0.0254\n",
      "Epoch 24/100\n",
      "1719/1719 [==============================] - 2s 1ms/step - loss: 0.0234 - val_loss: 0.0244\n",
      "Epoch 25/100\n",
      "1719/1719 [==============================] - 2s 1ms/step - loss: 0.0217 - val_loss: 0.0178\n",
      "Epoch 26/100\n",
      "1719/1719 [==============================] - 2s 1ms/step - loss: 0.0186 - val_loss: 0.0189\n",
      "Epoch 27/100\n",
      "1719/1719 [==============================] - 2s 1ms/step - loss: 0.0206 - val_loss: 0.0190\n",
      "Epoch 28/100\n",
      "1719/1719 [==============================] - 2s 1ms/step - loss: 0.0169 - val_loss: 0.0154\n",
      "Epoch 29/100\n",
      "1719/1719 [==============================] - 2s 1ms/step - loss: 0.0148 - val_loss: 0.0135\n",
      "Epoch 30/100\n",
      "1719/1719 [==============================] - 2s 1ms/step - loss: 0.0132 - val_loss: 0.0108\n",
      "Epoch 31/100\n",
      "1719/1719 [==============================] - 2s 1ms/step - loss: 0.0110 - val_loss: 0.0059\n",
      "Epoch 32/100\n",
      "1719/1719 [==============================] - 2s 1ms/step - loss: 0.0082 - val_loss: 0.0064\n",
      "Epoch 33/100\n",
      "1719/1719 [==============================] - 2s 1ms/step - loss: 0.0063 - val_loss: 0.0032\n",
      "Epoch 34/100\n",
      "1719/1719 [==============================] - 2s 1ms/step - loss: 0.0045 - val_loss: 0.0022\n",
      "Epoch 35/100\n",
      "1719/1719 [==============================] - 2s 1ms/step - loss: 0.0034 - val_loss: 0.0067\n",
      "Epoch 36/100\n",
      "1719/1719 [==============================] - 2s 1ms/step - loss: 0.0024 - val_loss: 0.0016\n",
      "Epoch 37/100\n",
      "1719/1719 [==============================] - 2s 1ms/step - loss: 0.0018 - val_loss: 8.5532e-04\n",
      "Epoch 38/100\n",
      "1719/1719 [==============================] - 2s 1ms/step - loss: 0.0012 - val_loss: 5.0273e-04\n",
      "Epoch 39/100\n",
      "1719/1719 [==============================] - 2s 1ms/step - loss: 8.5201e-04 - val_loss: 5.0686e-04\n",
      "Epoch 40/100\n",
      "1719/1719 [==============================] - 2s 1ms/step - loss: 8.5170e-04 - val_loss: 0.0012\n",
      "Epoch 41/100\n",
      "1719/1719 [==============================] - 2s 1ms/step - loss: 7.6131e-04 - val_loss: 5.6377e-04\n",
      "Epoch 42/100\n",
      "1719/1719 [==============================] - 2s 1ms/step - loss: 6.5377e-04 - val_loss: 4.2641e-04\n",
      "Epoch 43/100\n",
      "1719/1719 [==============================] - 2s 1ms/step - loss: 6.5216e-04 - val_loss: 5.0097e-04\n",
      "Epoch 44/100\n",
      "1719/1719 [==============================] - 2s 1ms/step - loss: 6.6445e-04 - val_loss: 3.4779e-04\n",
      "Epoch 45/100\n",
      "1719/1719 [==============================] - 2s 1ms/step - loss: 5.9163e-04 - val_loss: 4.1342e-04\n",
      "Epoch 46/100\n",
      "1719/1719 [==============================] - 2s 1ms/step - loss: 5.7683e-04 - val_loss: 4.6908e-04\n",
      "Epoch 47/100\n",
      "1719/1719 [==============================] - 2s 1ms/step - loss: 5.7086e-04 - val_loss: 8.4125e-04\n",
      "Epoch 48/100\n",
      "1719/1719 [==============================] - 2s 1ms/step - loss: 5.5870e-04 - val_loss: 4.0035e-04\n",
      "Epoch 49/100\n",
      "1719/1719 [==============================] - 2s 1ms/step - loss: 6.2293e-04 - val_loss: 4.9470e-04\n",
      "Epoch 50/100\n",
      "1719/1719 [==============================] - 2s 1ms/step - loss: 5.6275e-04 - val_loss: 4.0155e-04\n",
      "Epoch 51/100\n",
      "1719/1719 [==============================] - 2s 1ms/step - loss: 5.4430e-04 - val_loss: 4.1279e-04\n",
      "Epoch 52/100\n",
      "1719/1719 [==============================] - 2s 1ms/step - loss: 5.1857e-04 - val_loss: 0.0017\n",
      "Epoch 53/100\n",
      "1719/1719 [==============================] - 2s 1ms/step - loss: 6.3228e-04 - val_loss: 3.9765e-04\n",
      "Epoch 54/100\n",
      "1719/1719 [==============================] - 2s 1ms/step - loss: 5.5534e-04 - val_loss: 3.1818e-04\n",
      "Epoch 55/100\n",
      "1719/1719 [==============================] - 2s 1ms/step - loss: 5.2420e-04 - val_loss: 3.9965e-04\n",
      "Epoch 56/100\n",
      "1719/1719 [==============================] - 2s 1ms/step - loss: 6.3088e-04 - val_loss: 4.7460e-04\n",
      "Epoch 57/100\n",
      "1719/1719 [==============================] - 2s 1ms/step - loss: 5.4193e-04 - val_loss: 5.7991e-04\n",
      "Epoch 58/100\n",
      "1719/1719 [==============================] - 2s 1ms/step - loss: 5.8465e-04 - val_loss: 3.9483e-04\n",
      "Epoch 59/100\n",
      "1719/1719 [==============================] - 2s 1ms/step - loss: 5.1611e-04 - val_loss: 7.2056e-04\n",
      "Epoch 60/100\n",
      "1719/1719 [==============================] - 2s 1ms/step - loss: 6.2105e-04 - val_loss: 4.9320e-04\n",
      "Epoch 61/100\n",
      "1719/1719 [==============================] - 2s 1ms/step - loss: 5.0188e-04 - val_loss: 7.8925e-04\n",
      "Epoch 62/100\n",
      "1719/1719 [==============================] - 2s 1ms/step - loss: 5.3927e-04 - val_loss: 4.4999e-04\n",
      "Epoch 63/100\n",
      "1719/1719 [==============================] - 2s 1ms/step - loss: 5.2239e-04 - val_loss: 4.2283e-04\n",
      "Epoch 64/100\n",
      "1719/1719 [==============================] - 2s 1ms/step - loss: 5.0920e-04 - val_loss: 6.3411e-04\n"
     ]
    }
   ],
   "source": [
    "history = model.fit(X_treino, y_treino, epochs=100,\n",
    "                            callbacks=early_stopping, validation_data=(X_val, y_val),\n",
    "                            batch_size=batch_size)\n",
    "treinamento = pd.DataFrame(history.history)"
   ]
  },
  {
   "cell_type": "markdown",
   "id": "b7d228f1",
   "metadata": {},
   "source": [
    "## Teste com o melhor modelo"
   ]
  },
  {
   "cell_type": "code",
   "execution_count": 30,
   "id": "13475987",
   "metadata": {},
   "outputs": [],
   "source": [
    "y_pred = model.predict(X_teste)"
   ]
  },
  {
   "cell_type": "markdown",
   "id": "7925297b",
   "metadata": {},
   "source": [
    "### Gráfico"
   ]
  },
  {
   "cell_type": "code",
   "execution_count": 31,
   "id": "57921d17",
   "metadata": {},
   "outputs": [
    {
     "data": {
      "application/vnd.jupyter.widget-view+json": {
       "model_id": "6f99e65325284c7db1257c16bfd849e7",
       "version_major": 2,
       "version_minor": 0
      },
      "text/plain": [
       "Canvas(toolbar=Toolbar(toolitems=[('Home', 'Reset original view', 'home', 'home'), ('Back', 'Back to previous …"
      ]
     },
     "metadata": {},
     "output_type": "display_data"
    },
    {
     "name": "stderr",
     "output_type": "stream",
     "text": [
      "findfont: Font family ['serif'] not found. Falling back to DejaVu Sans.\n"
     ]
    }
   ],
   "source": [
    "fig, ax = plt.subplots()\n",
    "ax.plot(n[len(n)-int(len(n)*tam_teste):,], y_teste, color='Crimson', label='Valor real')\n",
    "ax.plot(n[len(n)-int(len(n)*tam_teste):,], y_pred, color='Silver', label='MLP')\n",
    "\n",
    "ax.set_title(\"Comparação da predição da MLP com o valor real do mapa logístico\\n utilizando a rede neural ótima no conjunto de teste\")\n",
    "ax.set_ylabel('$x[n]$')\n",
    "ax.set_xlabel('$n$')\n",
    "ax.set_xlim(4900, 5000)\n",
    "    \n",
    "ax.grid(True)\n",
    "sns.despine()\n",
    "ax.legend()\n",
    "\n",
    "plt.show()\n",
    "fig.savefig(\"../../../../images/mlp-basica/performance/mlp-basica-vs-logistic.png\")"
   ]
  },
  {
   "cell_type": "markdown",
   "id": "7324858f",
   "metadata": {},
   "source": [
    "### Erro Quadrático Médio"
   ]
  },
  {
   "cell_type": "code",
   "execution_count": 32,
   "id": "4286530c",
   "metadata": {},
   "outputs": [],
   "source": [
    "from sklearn.metrics import mean_squared_error"
   ]
  },
  {
   "cell_type": "code",
   "execution_count": 33,
   "id": "3553c25f",
   "metadata": {},
   "outputs": [
    {
     "name": "stdout",
     "output_type": "stream",
     "text": [
      "MSE = 0.00034681427238340606\n"
     ]
    }
   ],
   "source": [
    "mse = mean_squared_error(y_teste, y_pred)\n",
    "print(\"MSE = \" + str(mse))"
   ]
  },
  {
   "cell_type": "markdown",
   "id": "5d4501ff",
   "metadata": {},
   "source": [
    "### Salvando o Modelo"
   ]
  },
  {
   "cell_type": "code",
   "execution_count": 34,
   "id": "7ba7856b",
   "metadata": {},
   "outputs": [],
   "source": [
    "model.save(\"../../../../models/mlp-basica/mlp-basica-logistic.h5\", include_optimizer=True)"
   ]
  },
  {
   "cell_type": "code",
   "execution_count": null,
   "id": "c6c84d2c",
   "metadata": {},
   "outputs": [],
   "source": []
  }
 ],
 "metadata": {
  "kernelspec": {
   "display_name": "Python 3",
   "language": "python",
   "name": "python3"
  },
  "language_info": {
   "codemirror_mode": {
    "name": "ipython",
    "version": 3
   },
   "file_extension": ".py",
   "mimetype": "text/x-python",
   "name": "python",
   "nbconvert_exporter": "python",
   "pygments_lexer": "ipython3",
   "version": "3.8.0"
  }
 },
 "nbformat": 4,
 "nbformat_minor": 5
}