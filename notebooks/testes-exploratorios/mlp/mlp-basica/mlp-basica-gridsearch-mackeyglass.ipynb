{
 "cells": [
  {
   "cell_type": "markdown",
   "id": "55871400",
   "metadata": {},
   "source": [
    "# Implementando uma MLP básica com Grid Search para escolher melhor os parâmetros no sistema de Mackey-Glass"
   ]
  },
  {
   "cell_type": "markdown",
   "id": "62c4739c",
   "metadata": {},
   "source": [
    "## 1. Importando as bibliotecas necessárias"
   ]
  },
  {
   "cell_type": "markdown",
   "id": "c6a1887b",
   "metadata": {},
   "source": [
    "### 1.1 Bibliotecas gerais"
   ]
  },
  {
   "cell_type": "code",
   "execution_count": 1,
   "id": "18a5a802",
   "metadata": {},
   "outputs": [],
   "source": [
    "%matplotlib widget\n",
    "import numpy as np\n",
    "import pandas as pd\n",
    "import matplotlib.pyplot as plt\n",
    "import seaborn as sns # a biblioteca 'seaborn' contém vários estilos para os gráficos do 'matpĺotlib'\n",
    "\n",
    "# agora, melhoramos a qualidade de saida e de visualizacao da imagem \n",
    "# alem de mudar a fonte padrao para uma do latex\n",
    "sns.set_style(\"ticks\")\n",
    "plt.rcParams['savefig.dpi'] = 200\n",
    "plt.rcParams[\"figure.dpi\"] = 150\n",
    "\n",
    "plt.rcParams.update({\n",
    "    \"text.usetex\": True,\n",
    "    \"font.family\": \"serif\",\n",
    "    \"font.serif\": [\"Palatino\"],\n",
    "})\n",
    "plt.style.use('dark_background')"
   ]
  },
  {
   "cell_type": "markdown",
   "id": "49efb6e5",
   "metadata": {},
   "source": [
    "### 1.2 Bibliotecas para MLP"
   ]
  },
  {
   "cell_type": "code",
   "execution_count": 2,
   "id": "4f7f234c",
   "metadata": {},
   "outputs": [],
   "source": [
    "import tensorflow as tf\n",
    "physical_devices = tf.config.list_physical_devices('GPU')\n",
    "\n",
    "from tensorflow import keras"
   ]
  },
  {
   "cell_type": "code",
   "execution_count": 3,
   "id": "fae85db3",
   "metadata": {},
   "outputs": [],
   "source": [
    "from sklearn.model_selection import GridSearchCV\n",
    "from sklearn.model_selection import train_test_split"
   ]
  },
  {
   "cell_type": "code",
   "execution_count": 4,
   "id": "e8b32ab5",
   "metadata": {},
   "outputs": [],
   "source": [
    "from tensorflow.keras.wrappers.scikit_learn import KerasRegressor"
   ]
  },
  {
   "cell_type": "code",
   "execution_count": 1,
   "id": "43598c15",
   "metadata": {},
   "outputs": [],
   "source": [
    "from pibic2020.models import mlp_model"
   ]
  },
  {
   "cell_type": "markdown",
   "id": "ed325a32",
   "metadata": {},
   "source": [
    "### 1.3 Bibliotecas dos sistemas caóticos"
   ]
  },
  {
   "cell_type": "code",
   "execution_count": 2,
   "id": "e60a3b9a",
   "metadata": {},
   "outputs": [],
   "source": [
    "from pibic2020.tools import timeseries as times\n",
    "from pibic2020.data import mackeyglass as mgeq"
   ]
  },
  {
   "cell_type": "markdown",
   "id": "4e0d6c7b",
   "metadata": {},
   "source": [
    "## 2. Gerando a série temporal"
   ]
  },
  {
   "cell_type": "code",
   "execution_count": 6,
   "id": "037da275",
   "metadata": {},
   "outputs": [],
   "source": [
    "t_inicial = 0\n",
    "t_final = 5000\n",
    "tau = 22\n",
    "n = 10\n",
    "gamma = 0.1\n",
    "beta = 0.2\n",
    "theta = 1"
   ]
  },
  {
   "cell_type": "code",
   "execution_count": 7,
   "id": "ceb8f366",
   "metadata": {},
   "outputs": [],
   "source": [
    "macglass = mgeq.MackeyGlass(tau=tau, gamma=gamma, beta=beta, n=n, theta=theta)"
   ]
  },
  {
   "cell_type": "code",
   "execution_count": 8,
   "id": "2f74b082",
   "metadata": {},
   "outputs": [
    {
     "name": "stdout",
     "output_type": "stream",
     "text": [
      "Generating, compiling, and loading C code.\n",
      "Using default integration parameters.\n"
     ]
    }
   ],
   "source": [
    "solucoes, instantes_temporais = macglass.calcular(t_inicial = t_inicial, t_final = t_final)"
   ]
  },
  {
   "cell_type": "markdown",
   "id": "319f4fd1",
   "metadata": {},
   "source": [
    "### Série Temporal de Mackey-Glass"
   ]
  },
  {
   "cell_type": "code",
   "execution_count": 9,
   "id": "3df4f291",
   "metadata": {},
   "outputs": [
    {
     "data": {
      "application/vnd.jupyter.widget-view+json": {
       "model_id": "a0ea9ae6543f4343ad8ee175002d1f6a",
       "version_major": 2,
       "version_minor": 0
      },
      "text/plain": [
       "Canvas(toolbar=Toolbar(toolitems=[('Home', 'Reset original view', 'home', 'home'), ('Back', 'Back to previous …"
      ]
     },
     "metadata": {},
     "output_type": "display_data"
    }
   ],
   "source": [
    "fig, ax = plt.subplots()\n",
    "ax.set_title('Série temporal de 0 a 600 dias da equação de Mackey-Glass para\\n' + r'$\\tau =$ ' + str(tau) + r', $\\beta =$ ' + str(beta) + r', $\\gamma =$ ' + str(gamma) + r', $n =$ ' + str(n) + r' e $\\theta =$ ' + str(theta) + ' utilizando $P(0) =$ ' + str(0.1*theta))\n",
    "ax.plot(instantes_temporais, solucoes, color='Gold')\n",
    "\n",
    "ax.set_ylabel('$P(t)$')\n",
    "ax.set_xlabel('$t$')\n",
    "ax.set_xlim(0,600)\n",
    "    \n",
    "ax.grid(True)\n",
    "\n",
    "fig.tight_layout()\n",
    "sns.despine()\n",
    "plt.show()"
   ]
  },
  {
   "cell_type": "markdown",
   "id": "e91cdf89",
   "metadata": {},
   "source": [
    "### 2.1 Dividindo em um conjunto de treinamento e de teste, para K = 4 e L = 3"
   ]
  },
  {
   "cell_type": "code",
   "execution_count": 10,
   "id": "db7e2b9d",
   "metadata": {},
   "outputs": [],
   "source": [
    "K = 4\n",
    "L = 1\n",
    "tam_teste = 0.15"
   ]
  },
  {
   "cell_type": "code",
   "execution_count": 11,
   "id": "0541630e",
   "metadata": {},
   "outputs": [],
   "source": [
    "x = np.array(solucoes)\n",
    "x = np.reshape(x, (1, len(x)))\n",
    "x = x[0]"
   ]
  },
  {
   "cell_type": "code",
   "execution_count": 12,
   "id": "238cef19",
   "metadata": {},
   "outputs": [],
   "source": [
    "serie_temporal = times.SerieTemporal(x, K=K, L=L)"
   ]
  },
  {
   "cell_type": "code",
   "execution_count": 14,
   "id": "673a8532",
   "metadata": {},
   "outputs": [],
   "source": [
    "X_treino, X_teste, y_treino, y_teste = serie_temporal.dividir_treino_teste(tam_teste)"
   ]
  },
  {
   "cell_type": "markdown",
   "id": "2ed4f962",
   "metadata": {},
   "source": [
    "## 3. Definindo o modelo para a MLP"
   ]
  },
  {
   "cell_type": "markdown",
   "id": "15760f95",
   "metadata": {},
   "source": [
    "### 3.1 Definindo função para criar a MLP"
   ]
  },
  {
   "cell_type": "code",
   "execution_count": 29,
   "id": "074047f4",
   "metadata": {},
   "outputs": [],
   "source": [
    "mlp_gridsearch = mlp_model.ModeloMLP(input_size=K)"
   ]
  },
  {
   "cell_type": "markdown",
   "id": "ce13953f",
   "metadata": {},
   "source": [
    "Utilizaremos os seguintes parâmetros no *Grid Search*:"
   ]
  },
  {
   "cell_type": "code",
   "execution_count": 16,
   "id": "77d8b437",
   "metadata": {},
   "outputs": [],
   "source": [
    "param_grid = dict(batch_size=[2, 4, 8, 16, 32], \n",
    "                  batch_normalization=['ON', 'OFF'], \n",
    "                  activation=['selu', 'relu', 'elu', 'sigmoid', 'tanh'], \n",
    "                  init_mode = ['lecun_uniform', 'lecun_normal', 'glorot_normal', 'glorot_uniform', 'he_normal', 'he_uniform'],\n",
    "                  n_neurons = [5, 10, 15, 20, 30, 50, 75, 100],\n",
    "                  learning_rate = [0.001, 0.003, 0.005, 0.008, 0.01])"
   ]
  },
  {
   "cell_type": "markdown",
   "id": "1c11b0dc",
   "metadata": {},
   "source": [
    "Para facilitar, dividiremos esse processo em etapas."
   ]
  },
  {
   "cell_type": "markdown",
   "id": "d0673d0a",
   "metadata": {},
   "source": [
    "### 3.2 Definindo parâmetros que não serão definidos pelo *Grid Search*"
   ]
  },
  {
   "cell_type": "code",
   "execution_count": 17,
   "id": "9ec6397f",
   "metadata": {},
   "outputs": [],
   "source": [
    "loss = \"mean_squared_error\"\n",
    "optimizer = keras.optimizers.Nadam()"
   ]
  },
  {
   "cell_type": "markdown",
   "id": "c8c00fbf",
   "metadata": {},
   "source": [
    "### 3.3 Definindo e executando o primeiro *Grid Search*"
   ]
  },
  {
   "cell_type": "markdown",
   "id": "9692de0a",
   "metadata": {},
   "source": [
    "Primeiro, avaliaremos o impacto do *batch size* e da camada de *batch normalization*."
   ]
  },
  {
   "cell_type": "code",
   "execution_count": 71,
   "id": "9d801488",
   "metadata": {},
   "outputs": [],
   "source": [
    "param_grid_1 = dict(batch_size=[2, 4, 8, 16, 32], \n",
    "                  batch_normalization=['ON', 'OFF'])"
   ]
  },
  {
   "cell_type": "code",
   "execution_count": 72,
   "id": "f63529aa",
   "metadata": {},
   "outputs": [],
   "source": [
    "model_cv_1 = KerasRegressor(build_fn=mlp_gridsearch.gridsearch, epochs=100, verbose=0)"
   ]
  },
  {
   "cell_type": "code",
   "execution_count": 73,
   "id": "16b66e8c",
   "metadata": {},
   "outputs": [],
   "source": [
    "grid = GridSearchCV(estimator=model_cv_1, param_grid=param_grid_1, n_jobs=1, cv=4, scoring='neg_mean_squared_error', verbose=1)"
   ]
  },
  {
   "cell_type": "code",
   "execution_count": 74,
   "id": "ff1f16cb",
   "metadata": {},
   "outputs": [
    {
     "name": "stdout",
     "output_type": "stream",
     "text": [
      "Fitting 4 folds for each of 10 candidates, totalling 40 fits\n"
     ]
    }
   ],
   "source": [
    "grid_result = grid.fit(X_treino, y_treino)"
   ]
  },
  {
   "cell_type": "code",
   "execution_count": 75,
   "id": "6e7dc165",
   "metadata": {},
   "outputs": [
    {
     "name": "stdout",
     "output_type": "stream",
     "text": [
      "Best: -0.000548 using {'batch_normalization': 'OFF', 'batch_size': 2}\n"
     ]
    }
   ],
   "source": [
    "print(\"Best: %f using %s\" % (grid_result.best_score_, grid_result.best_params_))"
   ]
  },
  {
   "cell_type": "code",
   "execution_count": 76,
   "id": "1a118364",
   "metadata": {},
   "outputs": [
    {
     "name": "stdout",
     "output_type": "stream",
     "text": [
      "-0.079693 (0.039688) with: {'batch_normalization': 'ON', 'batch_size': 2}\n",
      "-0.014648 (0.005031) with: {'batch_normalization': 'ON', 'batch_size': 4}\n",
      "-0.007042 (0.004442) with: {'batch_normalization': 'ON', 'batch_size': 8}\n",
      "-0.019222 (0.029663) with: {'batch_normalization': 'ON', 'batch_size': 16}\n",
      "-0.002713 (0.001854) with: {'batch_normalization': 'ON', 'batch_size': 32}\n",
      "-0.000548 (0.000218) with: {'batch_normalization': 'OFF', 'batch_size': 2}\n",
      "-0.000560 (0.000132) with: {'batch_normalization': 'OFF', 'batch_size': 4}\n",
      "-0.000661 (0.000213) with: {'batch_normalization': 'OFF', 'batch_size': 8}\n",
      "-0.000614 (0.000241) with: {'batch_normalization': 'OFF', 'batch_size': 16}\n",
      "-0.001450 (0.001221) with: {'batch_normalization': 'OFF', 'batch_size': 32}\n"
     ]
    }
   ],
   "source": [
    "means = grid_result.cv_results_['mean_test_score']\n",
    "stds = grid_result.cv_results_['std_test_score']\n",
    "params = grid_result.cv_results_['params']\n",
    "for mean, stdev, param in zip(means, stds, params):\n",
    "    print(\"%f (%f) with: %r\" % (mean, stdev, param))"
   ]
  },
  {
   "cell_type": "markdown",
   "id": "3b39cc51",
   "metadata": {},
   "source": [
    "### 3.4 Definindo e executando o segundo *Grid Search*"
   ]
  },
  {
   "cell_type": "markdown",
   "id": "2973d486",
   "metadata": {},
   "source": [
    "Agora, avaliaremos o impacto do *learning rate* do otimizador."
   ]
  },
  {
   "cell_type": "code",
   "execution_count": 77,
   "id": "846a8417",
   "metadata": {},
   "outputs": [],
   "source": [
    "model_cv_2 = KerasRegressor(build_fn=mlp_gridsearch.gridsearch, epochs=100, verbose=0, batch_size=4, batch_normalization='OFF')"
   ]
  },
  {
   "cell_type": "code",
   "execution_count": 78,
   "id": "5bf81c9c",
   "metadata": {},
   "outputs": [],
   "source": [
    "param_grid_2 = dict(learning_rate=[0.001, 0.003, 0.005, 0.008, 0.01])"
   ]
  },
  {
   "cell_type": "code",
   "execution_count": 79,
   "id": "eefdc5db",
   "metadata": {},
   "outputs": [],
   "source": [
    "grid = GridSearchCV(estimator=model_cv_2, param_grid=param_grid_2, n_jobs=1, cv=4, scoring='neg_mean_squared_error', verbose=1)"
   ]
  },
  {
   "cell_type": "code",
   "execution_count": 80,
   "id": "d7bbfb08",
   "metadata": {},
   "outputs": [
    {
     "name": "stdout",
     "output_type": "stream",
     "text": [
      "Fitting 4 folds for each of 5 candidates, totalling 20 fits\n"
     ]
    }
   ],
   "source": [
    "grid_result = grid.fit(X_treino, y_treino)"
   ]
  },
  {
   "cell_type": "code",
   "execution_count": 81,
   "id": "46007055",
   "metadata": {},
   "outputs": [
    {
     "name": "stdout",
     "output_type": "stream",
     "text": [
      "Best: -0.000467 using {'learning_rate': 0.001}\n"
     ]
    }
   ],
   "source": [
    "print(\"Best: %f using %s\" % (grid_result.best_score_, grid_result.best_params_))"
   ]
  },
  {
   "cell_type": "code",
   "execution_count": 82,
   "id": "7ce17127",
   "metadata": {},
   "outputs": [
    {
     "name": "stdout",
     "output_type": "stream",
     "text": [
      "-0.000467 (0.000137) with: {'learning_rate': 0.001}\n",
      "-0.000634 (0.000213) with: {'learning_rate': 0.003}\n",
      "-0.001303 (0.000945) with: {'learning_rate': 0.005}\n",
      "-0.001094 (0.000368) with: {'learning_rate': 0.008}\n",
      "-0.000923 (0.000415) with: {'learning_rate': 0.01}\n"
     ]
    }
   ],
   "source": [
    "means = grid_result.cv_results_['mean_test_score']\n",
    "stds = grid_result.cv_results_['std_test_score']\n",
    "params = grid_result.cv_results_['params']\n",
    "for mean, stdev, param in zip(means, stds, params):\n",
    "    print(\"%f (%f) with: %r\" % (mean, stdev, param))"
   ]
  },
  {
   "cell_type": "markdown",
   "id": "c634906b",
   "metadata": {},
   "source": [
    "### 3.5 Definindo e executando o terceiro *Grid Search*"
   ]
  },
  {
   "cell_type": "markdown",
   "id": "05c0cbe9",
   "metadata": {},
   "source": [
    "Agora, avaliaremos o impacto da função de ativação da camada intermediária."
   ]
  },
  {
   "cell_type": "code",
   "execution_count": 83,
   "id": "5ee1e224",
   "metadata": {},
   "outputs": [],
   "source": [
    "model_cv_3 = KerasRegressor(build_fn=mlp_gridsearch.gridsearch, epochs=100, verbose=0, batch_size=4, batch_normalization='OFF', learning_rate=0.001)"
   ]
  },
  {
   "cell_type": "code",
   "execution_count": 84,
   "id": "afbcd440",
   "metadata": {},
   "outputs": [],
   "source": [
    "param_grid_3 = dict(activation=['selu', 'relu', 'elu', 'sigmoid', 'tanh'])"
   ]
  },
  {
   "cell_type": "code",
   "execution_count": 85,
   "id": "fb3bd4a7",
   "metadata": {},
   "outputs": [],
   "source": [
    "grid = GridSearchCV(estimator=model_cv_3, param_grid=param_grid_3, n_jobs=1, cv=4, scoring='neg_mean_squared_error', verbose=1)"
   ]
  },
  {
   "cell_type": "code",
   "execution_count": 86,
   "id": "a788c442",
   "metadata": {},
   "outputs": [
    {
     "name": "stdout",
     "output_type": "stream",
     "text": [
      "Fitting 4 folds for each of 5 candidates, totalling 20 fits\n"
     ]
    }
   ],
   "source": [
    "grid_result = grid.fit(X_treino, y_treino)"
   ]
  },
  {
   "cell_type": "code",
   "execution_count": 87,
   "id": "e171673b",
   "metadata": {},
   "outputs": [
    {
     "name": "stdout",
     "output_type": "stream",
     "text": [
      "Best: -0.000512 using {'activation': 'tanh'}\n"
     ]
    }
   ],
   "source": [
    "print(\"Best: %f using %s\" % (grid_result.best_score_, grid_result.best_params_))"
   ]
  },
  {
   "cell_type": "code",
   "execution_count": 88,
   "id": "40e57fbd",
   "metadata": {},
   "outputs": [
    {
     "name": "stdout",
     "output_type": "stream",
     "text": [
      "-0.000671 (0.000351) with: {'activation': 'selu'}\n",
      "-0.000708 (0.000111) with: {'activation': 'relu'}\n",
      "-0.000572 (0.000145) with: {'activation': 'elu'}\n",
      "-0.000926 (0.000323) with: {'activation': 'sigmoid'}\n",
      "-0.000512 (0.000042) with: {'activation': 'tanh'}\n"
     ]
    }
   ],
   "source": [
    "means = grid_result.cv_results_['mean_test_score']\n",
    "stds = grid_result.cv_results_['std_test_score']\n",
    "params = grid_result.cv_results_['params']\n",
    "for mean, stdev, param in zip(means, stds, params):\n",
    "    print(\"%f (%f) with: %r\" % (mean, stdev, param))"
   ]
  },
  {
   "cell_type": "markdown",
   "id": "75a475c1",
   "metadata": {},
   "source": [
    "### 3.6 Definindo e executando o quarto *Grid Search*"
   ]
  },
  {
   "cell_type": "markdown",
   "id": "2b158d62",
   "metadata": {},
   "source": [
    "Agora, avaliaremos o impacto do inicializador da camada intermediária."
   ]
  },
  {
   "cell_type": "code",
   "execution_count": 18,
   "id": "df8c8383",
   "metadata": {},
   "outputs": [],
   "source": [
    "model_cv_4 = KerasRegressor(build_fn=mlp_gridsearch.gridsearch, epochs=100, verbose=0, batch_size=4, batch_normalization='OFF', learning_rate=0.001, activation='tanh')"
   ]
  },
  {
   "cell_type": "code",
   "execution_count": 19,
   "id": "65e0004b",
   "metadata": {},
   "outputs": [],
   "source": [
    "param_grid_4 = dict(init_mode = ['glorot_uniform', 'glorot_normal'])"
   ]
  },
  {
   "cell_type": "code",
   "execution_count": 20,
   "id": "f5b08ed1",
   "metadata": {},
   "outputs": [],
   "source": [
    "grid = GridSearchCV(estimator=model_cv_4, param_grid=param_grid_4, n_jobs=1, cv=4, scoring='neg_mean_squared_error', verbose=1)"
   ]
  },
  {
   "cell_type": "code",
   "execution_count": 21,
   "id": "f8143194",
   "metadata": {},
   "outputs": [
    {
     "name": "stdout",
     "output_type": "stream",
     "text": [
      "Fitting 4 folds for each of 2 candidates, totalling 8 fits\n"
     ]
    }
   ],
   "source": [
    "grid_result = grid.fit(X_treino, y_treino)"
   ]
  },
  {
   "cell_type": "code",
   "execution_count": 22,
   "id": "7ff57605",
   "metadata": {},
   "outputs": [
    {
     "name": "stdout",
     "output_type": "stream",
     "text": [
      "Best: -0.000654 using {'init_mode': 'glorot_normal'}\n"
     ]
    }
   ],
   "source": [
    "print(\"Best: %f using %s\" % (grid_result.best_score_, grid_result.best_params_))"
   ]
  },
  {
   "cell_type": "code",
   "execution_count": 23,
   "id": "1ae1f752",
   "metadata": {},
   "outputs": [
    {
     "name": "stdout",
     "output_type": "stream",
     "text": [
      "-0.000667 (0.000392) with: {'init_mode': 'glorot_uniform'}\n",
      "-0.000654 (0.000139) with: {'init_mode': 'glorot_normal'}\n"
     ]
    }
   ],
   "source": [
    "means = grid_result.cv_results_['mean_test_score']\n",
    "stds = grid_result.cv_results_['std_test_score']\n",
    "params = grid_result.cv_results_['params']\n",
    "for mean, stdev, param in zip(means, stds, params):\n",
    "    print(\"%f (%f) with: %r\" % (mean, stdev, param))"
   ]
  },
  {
   "cell_type": "markdown",
   "id": "de90dec0",
   "metadata": {},
   "source": [
    "### 3.7 Definindo e executando o quinto *Grid Search*"
   ]
  },
  {
   "cell_type": "markdown",
   "id": "879f1d5d",
   "metadata": {},
   "source": [
    "Agora, avaliaremos o número de neurônios na camada intermediária."
   ]
  },
  {
   "cell_type": "code",
   "execution_count": 24,
   "id": "874ee827",
   "metadata": {},
   "outputs": [],
   "source": [
    "model_cv_5 = KerasRegressor(build_fn=mlp_gridsearch.gridsearch, epochs=100, verbose=0, batch_size=4, batch_normalization='OFF', learning_rate=0.001, activation='tanh', init_mode='glorot_normal')"
   ]
  },
  {
   "cell_type": "code",
   "execution_count": 25,
   "id": "282b4747",
   "metadata": {},
   "outputs": [],
   "source": [
    "param_grid_5 = dict(n_neurons = [5, 10, 15, 20, 30, 50, 75, 100])"
   ]
  },
  {
   "cell_type": "code",
   "execution_count": 26,
   "id": "ee4f1e9b",
   "metadata": {},
   "outputs": [],
   "source": [
    "grid = GridSearchCV(estimator=model_cv_5, param_grid=param_grid_5, n_jobs=1, cv=4, scoring='neg_mean_squared_error')"
   ]
  },
  {
   "cell_type": "code",
   "execution_count": 27,
   "id": "e08384ff",
   "metadata": {},
   "outputs": [],
   "source": [
    "grid_result = grid.fit(X_treino, y_treino)"
   ]
  },
  {
   "cell_type": "code",
   "execution_count": 28,
   "id": "171b4aa2",
   "metadata": {},
   "outputs": [
    {
     "name": "stdout",
     "output_type": "stream",
     "text": [
      "Best: -0.000501 using {'n_neurons': 5}\n"
     ]
    }
   ],
   "source": [
    "print(\"Best: %f using %s\" % (grid_result.best_score_, grid_result.best_params_))"
   ]
  },
  {
   "cell_type": "code",
   "execution_count": 29,
   "id": "5bdcaef1",
   "metadata": {},
   "outputs": [
    {
     "name": "stdout",
     "output_type": "stream",
     "text": [
      "-0.000501 (0.000037) with: {'n_neurons': 5}\n",
      "-0.000663 (0.000188) with: {'n_neurons': 10}\n",
      "-0.000645 (0.000165) with: {'n_neurons': 15}\n",
      "-0.000725 (0.000328) with: {'n_neurons': 20}\n",
      "-0.000575 (0.000145) with: {'n_neurons': 30}\n",
      "-0.000797 (0.000286) with: {'n_neurons': 50}\n",
      "-0.000548 (0.000190) with: {'n_neurons': 75}\n",
      "-0.000585 (0.000092) with: {'n_neurons': 100}\n"
     ]
    }
   ],
   "source": [
    "means = grid_result.cv_results_['mean_test_score']\n",
    "stds = grid_result.cv_results_['std_test_score']\n",
    "params = grid_result.cv_results_['params']\n",
    "for mean, stdev, param in zip(means, stds, params):\n",
    "    print(\"%f (%f) with: %r\" % (mean, stdev, param))"
   ]
  },
  {
   "cell_type": "markdown",
   "id": "074d50b3",
   "metadata": {},
   "source": [
    "### Treino com o melhor modelo"
   ]
  },
  {
   "cell_type": "code",
   "execution_count": 19,
   "id": "73c4e88a",
   "metadata": {},
   "outputs": [],
   "source": [
    "model = criar_modelo(name='MLP-basica-mackeyglass', batch_normalization='OFF', learning_rate=0.001, activation='tanh', init_mode='glorot_normal', n_neurons=5)"
   ]
  },
  {
   "cell_type": "code",
   "execution_count": 20,
   "id": "81e3ae67",
   "metadata": {},
   "outputs": [
    {
     "name": "stdout",
     "output_type": "stream",
     "text": [
      "Model: \"MLP-basica-mackeyglass\"\n",
      "_________________________________________________________________\n",
      "Layer (type)                 Output Shape              Param #   \n",
      "=================================================================\n",
      "camada_de_entrada (Dense)    (None, 4)                 20        \n",
      "_________________________________________________________________\n",
      "camada_intermediaria (Dense) (None, 5)                 25        \n",
      "_________________________________________________________________\n",
      "camada_de_saida (Dense)      (None, 1)                 6         \n",
      "=================================================================\n",
      "Total params: 51\n",
      "Trainable params: 51\n",
      "Non-trainable params: 0\n",
      "_________________________________________________________________\n"
     ]
    }
   ],
   "source": [
    "model.summary()"
   ]
  },
  {
   "cell_type": "code",
   "execution_count": 21,
   "id": "db7f18a5",
   "metadata": {},
   "outputs": [],
   "source": [
    "X_treino, X_val, y_treino, y_val = train_test_split(X_treino, y_treino, test_size=0.1)"
   ]
  },
  {
   "cell_type": "code",
   "execution_count": 22,
   "id": "9be716ef",
   "metadata": {},
   "outputs": [],
   "source": [
    "early_stopping = tf.keras.callbacks.EarlyStopping(patience=10, restore_best_weights=True, monitor='val_loss')"
   ]
  },
  {
   "cell_type": "code",
   "execution_count": 23,
   "id": "64761f15",
   "metadata": {},
   "outputs": [],
   "source": [
    "batch_size = 4"
   ]
  },
  {
   "cell_type": "code",
   "execution_count": 24,
   "id": "03f52aae",
   "metadata": {},
   "outputs": [
    {
     "name": "stdout",
     "output_type": "stream",
     "text": [
      "Epoch 1/100\n",
      "955/955 [==============================] - 2s 1ms/step - loss: 0.0314 - val_loss: 0.0046\n",
      "Epoch 2/100\n",
      "955/955 [==============================] - 1s 1ms/step - loss: 0.0037 - val_loss: 0.0021\n",
      "Epoch 3/100\n",
      "955/955 [==============================] - 2s 2ms/step - loss: 0.0022 - val_loss: 0.0019\n",
      "Epoch 4/100\n",
      "955/955 [==============================] - 1s 1ms/step - loss: 0.0021 - val_loss: 0.0019\n",
      "Epoch 5/100\n",
      "955/955 [==============================] - 1s 1ms/step - loss: 0.0020 - val_loss: 0.0027\n",
      "Epoch 6/100\n",
      "955/955 [==============================] - 1s 1ms/step - loss: 0.0021 - val_loss: 0.0023\n",
      "Epoch 7/100\n",
      "955/955 [==============================] - 1s 1ms/step - loss: 0.0020 - val_loss: 0.0018\n",
      "Epoch 8/100\n",
      "955/955 [==============================] - 1s 1ms/step - loss: 0.0020 - val_loss: 0.0018\n",
      "Epoch 9/100\n",
      "955/955 [==============================] - 1s 1ms/step - loss: 0.0020 - val_loss: 0.0020\n",
      "Epoch 10/100\n",
      "955/955 [==============================] - 1s 1ms/step - loss: 0.0020 - val_loss: 0.0017\n",
      "Epoch 11/100\n",
      "955/955 [==============================] - 1s 1ms/step - loss: 0.0020 - val_loss: 0.0017\n",
      "Epoch 12/100\n",
      "955/955 [==============================] - 1s 1ms/step - loss: 0.0020 - val_loss: 0.0019\n",
      "Epoch 13/100\n",
      "955/955 [==============================] - 1s 1ms/step - loss: 0.0019 - val_loss: 0.0021\n",
      "Epoch 14/100\n",
      "955/955 [==============================] - 1s 1ms/step - loss: 0.0019 - val_loss: 0.0021\n",
      "Epoch 15/100\n",
      "955/955 [==============================] - 1s 1ms/step - loss: 0.0019 - val_loss: 0.0018\n",
      "Epoch 16/100\n",
      "955/955 [==============================] - 1s 1ms/step - loss: 0.0019 - val_loss: 0.0017\n",
      "Epoch 17/100\n",
      "955/955 [==============================] - 1s 1ms/step - loss: 0.0019 - val_loss: 0.0025\n",
      "Epoch 18/100\n",
      "955/955 [==============================] - 1s 1ms/step - loss: 0.0018 - val_loss: 0.0016\n",
      "Epoch 19/100\n",
      "955/955 [==============================] - 1s 1ms/step - loss: 0.0018 - val_loss: 0.0016\n",
      "Epoch 20/100\n",
      "955/955 [==============================] - 1s 1ms/step - loss: 0.0018 - val_loss: 0.0016\n",
      "Epoch 21/100\n",
      "955/955 [==============================] - 1s 1ms/step - loss: 0.0018 - val_loss: 0.0016\n",
      "Epoch 22/100\n",
      "955/955 [==============================] - 1s 1ms/step - loss: 0.0018 - val_loss: 0.0017\n",
      "Epoch 23/100\n",
      "955/955 [==============================] - 1s 1ms/step - loss: 0.0017 - val_loss: 0.0015\n",
      "Epoch 24/100\n",
      "955/955 [==============================] - 1s 1ms/step - loss: 0.0017 - val_loss: 0.0014\n",
      "Epoch 25/100\n",
      "955/955 [==============================] - 1s 1ms/step - loss: 0.0017 - val_loss: 0.0016\n",
      "Epoch 26/100\n",
      "955/955 [==============================] - 1s 1ms/step - loss: 0.0016 - val_loss: 0.0014\n",
      "Epoch 27/100\n",
      "955/955 [==============================] - 1s 1ms/step - loss: 0.0016 - val_loss: 0.0016\n",
      "Epoch 28/100\n",
      "955/955 [==============================] - 1s 1ms/step - loss: 0.0016 - val_loss: 0.0014\n",
      "Epoch 29/100\n",
      "955/955 [==============================] - 1s 1ms/step - loss: 0.0016 - val_loss: 0.0013\n",
      "Epoch 30/100\n",
      "955/955 [==============================] - 1s 1ms/step - loss: 0.0015 - val_loss: 0.0016\n",
      "Epoch 31/100\n",
      "955/955 [==============================] - 1s 1ms/step - loss: 0.0015 - val_loss: 0.0013\n",
      "Epoch 32/100\n",
      "955/955 [==============================] - 1s 1ms/step - loss: 0.0015 - val_loss: 0.0013\n",
      "Epoch 33/100\n",
      "955/955 [==============================] - 1s 1ms/step - loss: 0.0014 - val_loss: 0.0012\n",
      "Epoch 34/100\n",
      "955/955 [==============================] - 1s 1ms/step - loss: 0.0014 - val_loss: 0.0014\n",
      "Epoch 35/100\n",
      "955/955 [==============================] - 1s 1ms/step - loss: 0.0013 - val_loss: 0.0021\n",
      "Epoch 36/100\n",
      "955/955 [==============================] - 1s 1ms/step - loss: 0.0013 - val_loss: 0.0012\n",
      "Epoch 37/100\n",
      "955/955 [==============================] - 1s 1ms/step - loss: 0.0013 - val_loss: 0.0011\n",
      "Epoch 38/100\n",
      "955/955 [==============================] - 1s 1ms/step - loss: 0.0012 - val_loss: 0.0014\n",
      "Epoch 39/100\n",
      "955/955 [==============================] - 1s 1ms/step - loss: 0.0012 - val_loss: 0.0012\n",
      "Epoch 40/100\n",
      "955/955 [==============================] - 1s 1ms/step - loss: 0.0011 - val_loss: 9.2863e-04\n",
      "Epoch 41/100\n",
      "955/955 [==============================] - 1s 1ms/step - loss: 0.0011 - val_loss: 0.0012\n",
      "Epoch 42/100\n",
      "955/955 [==============================] - 1s 1ms/step - loss: 0.0010 - val_loss: 9.1628e-04\n",
      "Epoch 43/100\n",
      "955/955 [==============================] - 1s 1ms/step - loss: 0.0010 - val_loss: 8.5579e-04\n",
      "Epoch 44/100\n",
      "955/955 [==============================] - 1s 1ms/step - loss: 9.2596e-04 - val_loss: 9.7406e-04\n",
      "Epoch 45/100\n",
      "955/955 [==============================] - 1s 1ms/step - loss: 9.3168e-04 - val_loss: 7.4548e-04\n",
      "Epoch 46/100\n",
      "955/955 [==============================] - 1s 1ms/step - loss: 8.4871e-04 - val_loss: 7.9694e-04\n",
      "Epoch 47/100\n",
      "955/955 [==============================] - 1s 1ms/step - loss: 8.2019e-04 - val_loss: 8.2871e-04\n",
      "Epoch 48/100\n",
      "955/955 [==============================] - 1s 1ms/step - loss: 8.0753e-04 - val_loss: 8.7395e-04\n",
      "Epoch 49/100\n",
      "955/955 [==============================] - 1s 1ms/step - loss: 7.7416e-04 - val_loss: 6.6108e-04\n",
      "Epoch 50/100\n",
      "955/955 [==============================] - 1s 1ms/step - loss: 7.2883e-04 - val_loss: 8.4019e-04\n",
      "Epoch 51/100\n",
      "955/955 [==============================] - 1s 1ms/step - loss: 6.9752e-04 - val_loss: 5.9555e-04\n",
      "Epoch 52/100\n",
      "955/955 [==============================] - 1s 1ms/step - loss: 6.7548e-04 - val_loss: 7.7375e-04\n",
      "Epoch 53/100\n",
      "955/955 [==============================] - 1s 1ms/step - loss: 6.3078e-04 - val_loss: 5.3164e-04\n",
      "Epoch 54/100\n",
      "955/955 [==============================] - 1s 1ms/step - loss: 6.3978e-04 - val_loss: 5.3351e-04\n",
      "Epoch 55/100\n",
      "955/955 [==============================] - 1s 1ms/step - loss: 6.0791e-04 - val_loss: 5.4318e-04\n",
      "Epoch 56/100\n",
      "955/955 [==============================] - 1s 1ms/step - loss: 5.8499e-04 - val_loss: 8.0331e-04\n",
      "Epoch 57/100\n",
      "955/955 [==============================] - 1s 1ms/step - loss: 6.1005e-04 - val_loss: 5.4572e-04\n",
      "Epoch 58/100\n",
      "955/955 [==============================] - 1s 1ms/step - loss: 5.7588e-04 - val_loss: 4.7595e-04\n",
      "Epoch 59/100\n",
      "955/955 [==============================] - 1s 1ms/step - loss: 5.4955e-04 - val_loss: 5.8814e-04\n",
      "Epoch 60/100\n",
      "955/955 [==============================] - 1s 1ms/step - loss: 5.5007e-04 - val_loss: 6.8798e-04\n",
      "Epoch 61/100\n",
      "955/955 [==============================] - 1s 1ms/step - loss: 5.6072e-04 - val_loss: 4.8479e-04\n",
      "Epoch 62/100\n",
      "955/955 [==============================] - 1s 1ms/step - loss: 5.7433e-04 - val_loss: 4.7630e-04\n",
      "Epoch 63/100\n",
      "955/955 [==============================] - 1s 1ms/step - loss: 5.4120e-04 - val_loss: 4.6346e-04\n",
      "Epoch 64/100\n",
      "955/955 [==============================] - 1s 1ms/step - loss: 5.5247e-04 - val_loss: 6.5832e-04\n",
      "Epoch 65/100\n",
      "955/955 [==============================] - 1s 1ms/step - loss: 5.5280e-04 - val_loss: 4.5937e-04\n",
      "Epoch 66/100\n",
      "955/955 [==============================] - 1s 1ms/step - loss: 5.3194e-04 - val_loss: 5.6341e-04\n",
      "Epoch 67/100\n",
      "955/955 [==============================] - 1s 1ms/step - loss: 5.4685e-04 - val_loss: 6.2435e-04\n",
      "Epoch 68/100\n",
      "955/955 [==============================] - 1s 1ms/step - loss: 5.4264e-04 - val_loss: 6.6648e-04\n",
      "Epoch 69/100\n",
      "955/955 [==============================] - 1s 1ms/step - loss: 5.5670e-04 - val_loss: 5.2951e-04\n",
      "Epoch 70/100\n",
      "955/955 [==============================] - 1s 2ms/step - loss: 5.2368e-04 - val_loss: 4.6975e-04\n",
      "Epoch 71/100\n",
      "955/955 [==============================] - 1s 2ms/step - loss: 5.5185e-04 - val_loss: 4.6652e-04\n",
      "Epoch 72/100\n",
      "955/955 [==============================] - 1s 1ms/step - loss: 5.3573e-04 - val_loss: 4.7528e-04\n",
      "Epoch 73/100\n",
      "955/955 [==============================] - 1s 1ms/step - loss: 5.4477e-04 - val_loss: 6.2996e-04\n",
      "Epoch 74/100\n",
      "955/955 [==============================] - 1s 1ms/step - loss: 5.4234e-04 - val_loss: 4.4066e-04\n",
      "Epoch 75/100\n",
      "955/955 [==============================] - 1s 1ms/step - loss: 5.2036e-04 - val_loss: 7.1544e-04\n",
      "Epoch 76/100\n",
      "955/955 [==============================] - 1s 1ms/step - loss: 5.5870e-04 - val_loss: 4.6485e-04\n",
      "Epoch 77/100\n",
      "955/955 [==============================] - 1s 2ms/step - loss: 5.3035e-04 - val_loss: 4.4372e-04\n",
      "Epoch 78/100\n",
      "955/955 [==============================] - 1s 2ms/step - loss: 5.2747e-04 - val_loss: 6.5528e-04\n",
      "Epoch 79/100\n",
      "955/955 [==============================] - 1s 1ms/step - loss: 5.3684e-04 - val_loss: 4.4146e-04\n",
      "Epoch 80/100\n",
      "955/955 [==============================] - 1s 1ms/step - loss: 5.6134e-04 - val_loss: 4.7429e-04\n",
      "Epoch 81/100\n",
      "955/955 [==============================] - 1s 1ms/step - loss: 5.2242e-04 - val_loss: 6.1811e-04\n",
      "Epoch 82/100\n",
      "955/955 [==============================] - 1s 2ms/step - loss: 5.4102e-04 - val_loss: 5.2193e-04\n",
      "Epoch 83/100\n",
      "955/955 [==============================] - 1s 2ms/step - loss: 5.4347e-04 - val_loss: 6.4980e-04\n",
      "Epoch 84/100\n",
      "955/955 [==============================] - 1s 1ms/step - loss: 5.2270e-04 - val_loss: 4.6766e-04\n"
     ]
    }
   ],
   "source": [
    "history = model.fit(X_treino, y_treino, epochs=100,\n",
    "                            callbacks=early_stopping, validation_data=(X_val, y_val),\n",
    "                            batch_size=batch_size)\n",
    "treinamento = pd.DataFrame(history.history)"
   ]
  },
  {
   "cell_type": "markdown",
   "id": "553a367d",
   "metadata": {},
   "source": [
    "## Teste com o melhor modelo"
   ]
  },
  {
   "cell_type": "code",
   "execution_count": 25,
   "id": "d673fe8e",
   "metadata": {},
   "outputs": [],
   "source": [
    "y_pred = model.predict(X_teste)"
   ]
  },
  {
   "cell_type": "markdown",
   "id": "80a90fd8",
   "metadata": {},
   "source": [
    "### Gráfico"
   ]
  },
  {
   "cell_type": "code",
   "execution_count": 26,
   "id": "90ca6c7e",
   "metadata": {},
   "outputs": [
    {
     "data": {
      "application/vnd.jupyter.widget-view+json": {
       "model_id": "a7fe3819506c4a7c9f07fc0534b1dab3",
       "version_major": 2,
       "version_minor": 0
      },
      "text/plain": [
       "Canvas(toolbar=Toolbar(toolitems=[('Home', 'Reset original view', 'home', 'home'), ('Back', 'Back to previous …"
      ]
     },
     "metadata": {},
     "output_type": "display_data"
    },
    {
     "name": "stderr",
     "output_type": "stream",
     "text": [
      "findfont: Font family ['serif'] not found. Falling back to DejaVu Sans.\n"
     ]
    }
   ],
   "source": [
    "fig, ax = plt.subplots(figsize=(6.8,6))\n",
    "\n",
    "ax.plot(instantes_temporais[len(instantes_temporais)-int(len(instantes_temporais)*tam_teste):,], y_teste, color='Gold', label='Valor real')\n",
    "ax.plot(instantes_temporais[len(instantes_temporais)-int(len(instantes_temporais)*tam_teste):,], y_pred, color='Silver', label='MLP')\n",
    "\n",
    "ax.set_title('Comparação da predição da MLP com o valor real da equação de Mackey-Glass\\n utilizando a rede neural ótima no conjunto de teste')\n",
    "ax.set_ylabel('$P(t)$')\n",
    "ax.set_xlabel('$t$')\n",
    "ax.set_xlim(5000*(1-tam_teste), 5000)\n",
    "    \n",
    "ax.grid(True)\n",
    "sns.despine()\n",
    "ax.legend()\n",
    "\n",
    "plt.show()\n",
    "fig.savefig(\"../../../../images/mlp-basica/performance/mlp-basica-vs-mackeyglass.png\")"
   ]
  },
  {
   "cell_type": "markdown",
   "id": "8d2e131b",
   "metadata": {},
   "source": [
    "### Erro Quadrático Médio"
   ]
  },
  {
   "cell_type": "code",
   "execution_count": 27,
   "id": "f5f5a30e",
   "metadata": {},
   "outputs": [],
   "source": [
    "from sklearn.metrics import mean_squared_error"
   ]
  },
  {
   "cell_type": "code",
   "execution_count": 28,
   "id": "c71c7dff",
   "metadata": {},
   "outputs": [
    {
     "name": "stdout",
     "output_type": "stream",
     "text": [
      "MSE = 0.0004040550838816368\n"
     ]
    }
   ],
   "source": [
    "mse = mean_squared_error(y_teste, y_pred)\n",
    "print(\"MSE = \" + str(mse))"
   ]
  },
  {
   "cell_type": "markdown",
   "id": "20bcb88c",
   "metadata": {},
   "source": [
    "### Salvando o Modelo"
   ]
  },
  {
   "cell_type": "code",
   "execution_count": 29,
   "id": "bb59aedc",
   "metadata": {},
   "outputs": [],
   "source": [
    "model.save(\"../../../../models/mlp-basica/mlp-basica-mackeyglass.h5\", include_optimizer=True)"
   ]
  },
  {
   "cell_type": "code",
   "execution_count": null,
   "id": "0cbfe51b",
   "metadata": {},
   "outputs": [],
   "source": []
  }
 ],
 "metadata": {
  "kernelspec": {
   "display_name": "Python 3",
   "language": "python",
   "name": "python3"
  },
  "language_info": {
   "codemirror_mode": {
    "name": "ipython",
    "version": 3
   },
   "file_extension": ".py",
   "mimetype": "text/x-python",
   "name": "python",
   "nbconvert_exporter": "python",
   "pygments_lexer": "ipython3",
   "version": "3.8.0"
  }
 },
 "nbformat": 4,
 "nbformat_minor": 5
}
