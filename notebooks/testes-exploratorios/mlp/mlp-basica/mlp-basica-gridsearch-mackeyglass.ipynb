{
 "cells": [
  {
   "cell_type": "markdown",
   "id": "d8534d24",
   "metadata": {},
   "source": [
    "# Implementando uma MLP básica com Grid Search para escolher melhor os parâmetros no sistema de Mackey-Glass"
   ]
  },
  {
   "cell_type": "markdown",
   "id": "bd229320",
   "metadata": {},
   "source": [
    "## 1. Importando as bibliotecas necessárias"
   ]
  },
  {
   "cell_type": "markdown",
   "id": "94c17445",
   "metadata": {},
   "source": [
    "### 1.1 Bibliotecas gerais"
   ]
  },
  {
   "cell_type": "code",
   "execution_count": 1,
   "id": "692b97b9",
   "metadata": {},
   "outputs": [],
   "source": [
    "%matplotlib widget\n",
    "import numpy as np\n",
    "import pandas as pd\n",
    "import matplotlib.pyplot as plt\n",
    "import seaborn as sns # a biblioteca 'seaborn' contém vários estilos para os gráficos do 'matpĺotlib'\n",
    "\n",
    "# agora, melhoramos a qualidade de saida e de visualizacao da imagem \n",
    "# alem de mudar a fonte padrao para uma do latex\n",
    "sns.set_style(\"ticks\")\n",
    "plt.rcParams['savefig.dpi'] = 200\n",
    "plt.rcParams[\"figure.dpi\"] = 150\n",
    "\n",
    "plt.rcParams.update({\n",
    "    \"text.usetex\": True,\n",
    "    \"font.family\": \"serif\",\n",
    "    \"font.serif\": [\"Palatino\"],\n",
    "})\n",
    "plt.style.use('dark_background')"
   ]
  },
  {
   "cell_type": "markdown",
   "id": "ce7f5769",
   "metadata": {},
   "source": [
    "### 1.2 Bibliotecas para MLP"
   ]
  },
  {
   "cell_type": "code",
   "execution_count": 2,
   "id": "31523135",
   "metadata": {},
   "outputs": [],
   "source": [
    "import tensorflow as tf\n",
    "physical_devices = tf.config.list_physical_devices('GPU')\n",
    "\n",
    "from tensorflow import keras"
   ]
  },
  {
   "cell_type": "code",
   "execution_count": 3,
   "id": "41053b33",
   "metadata": {},
   "outputs": [],
   "source": [
    "from sklearn.model_selection import GridSearchCV\n",
    "from sklearn.model_selection import train_test_split"
   ]
  },
  {
   "cell_type": "code",
   "execution_count": 4,
   "id": "9c8f4241",
   "metadata": {},
   "outputs": [],
   "source": [
    "from tensorflow.keras.wrappers.scikit_learn import KerasRegressor"
   ]
  },
  {
   "cell_type": "markdown",
   "id": "50282032",
   "metadata": {},
   "source": [
    "### 1.3 Bibliotecas dos sistemas caóticos"
   ]
  },
  {
   "cell_type": "code",
   "execution_count": 5,
   "id": "a775dace",
   "metadata": {},
   "outputs": [],
   "source": [
    "import sys \n",
    "sys.path.insert(0, '../../../../scripts')\n",
    "\n",
    "import timeseries as times\n",
    "import mackeyglassequations as mgeq"
   ]
  },
  {
   "cell_type": "markdown",
   "id": "fae0164e",
   "metadata": {},
   "source": [
    "## 2. Gerando a série temporal"
   ]
  },
  {
   "cell_type": "code",
   "execution_count": 6,
   "id": "96a4576f",
   "metadata": {},
   "outputs": [],
   "source": [
    "t_inicial = 0\n",
    "t_final = 5000\n",
    "tau = 22\n",
    "n = 10\n",
    "gamma = 0.1\n",
    "beta = 0.2\n",
    "theta = 1"
   ]
  },
  {
   "cell_type": "code",
   "execution_count": 7,
   "id": "5693b38d",
   "metadata": {},
   "outputs": [],
   "source": [
    "macglass = mgeq.MackeyGlass(tau=tau, gamma=gamma, beta=beta, n=n, theta=theta)"
   ]
  },
  {
   "cell_type": "code",
   "execution_count": 8,
   "id": "5fac3998",
   "metadata": {},
   "outputs": [
    {
     "name": "stdout",
     "output_type": "stream",
     "text": [
      "Generating, compiling, and loading C code.\n",
      "Using default integration parameters.\n"
     ]
    }
   ],
   "source": [
    "solucoes, instantes_temporais = macglass.calcular(t_inicial = t_inicial, t_final = t_final)"
   ]
  },
  {
   "cell_type": "markdown",
   "id": "c5fe0ba3",
   "metadata": {},
   "source": [
    "### Série Temporal de Mackey-Glass"
   ]
  },
  {
   "cell_type": "code",
   "execution_count": 9,
   "id": "f01db241",
   "metadata": {},
   "outputs": [
    {
     "data": {
      "application/vnd.jupyter.widget-view+json": {
       "model_id": "a0ea9ae6543f4343ad8ee175002d1f6a",
       "version_major": 2,
       "version_minor": 0
      },
      "text/plain": [
       "Canvas(toolbar=Toolbar(toolitems=[('Home', 'Reset original view', 'home', 'home'), ('Back', 'Back to previous …"
      ]
     },
     "metadata": {},
     "output_type": "display_data"
    }
   ],
   "source": [
    "fig, ax = plt.subplots()\n",
    "ax.set_title('Série temporal de 0 a 600 dias da equação de Mackey-Glass para\\n' + r'$\\tau =$ ' + str(tau) + r', $\\beta =$ ' + str(beta) + r', $\\gamma =$ ' + str(gamma) + r', $n =$ ' + str(n) + r' e $\\theta =$ ' + str(theta) + ' utilizando $P(0) =$ ' + str(0.1*theta))\n",
    "ax.plot(instantes_temporais, solucoes, color='Gold')\n",
    "\n",
    "ax.set_ylabel('$P(t)$')\n",
    "ax.set_xlabel('$t$')\n",
    "ax.set_xlim(0,600)\n",
    "    \n",
    "ax.grid(True)\n",
    "\n",
    "fig.tight_layout()\n",
    "sns.despine()\n",
    "plt.show()"
   ]
  },
  {
   "cell_type": "markdown",
   "id": "aa316181",
   "metadata": {},
   "source": [
    "### 2.1 Dividindo em um conjunto de treinamento e de teste, para K = 4 e L = 3"
   ]
  },
  {
   "cell_type": "code",
   "execution_count": 10,
   "id": "ad161308",
   "metadata": {},
   "outputs": [],
   "source": [
    "K = 4\n",
    "L = 3\n",
    "tam_teste = 0.15"
   ]
  },
  {
   "cell_type": "code",
   "execution_count": 11,
   "id": "7996a219",
   "metadata": {},
   "outputs": [],
   "source": [
    "x = np.array(solucoes)\n",
    "x = np.reshape(x, (1, len(x)))\n",
    "x = x[0]"
   ]
  },
  {
   "cell_type": "code",
   "execution_count": 12,
   "id": "01b9f40e",
   "metadata": {},
   "outputs": [],
   "source": [
    "serie_temporal = times.SerieTemporal(x, K=K, L=L)"
   ]
  },
  {
   "cell_type": "code",
   "execution_count": 13,
   "id": "320d6899",
   "metadata": {},
   "outputs": [],
   "source": [
    "serie_temporal.criar_matrizes()"
   ]
  },
  {
   "cell_type": "code",
   "execution_count": 14,
   "id": "99d8717e",
   "metadata": {},
   "outputs": [],
   "source": [
    "X_treino, X_teste, y_treino, y_teste = serie_temporal.dividir_treino_teste(tam_teste)"
   ]
  },
  {
   "cell_type": "markdown",
   "id": "4e443104",
   "metadata": {},
   "source": [
    "## 3. Definindo o modelo para a MLP"
   ]
  },
  {
   "cell_type": "markdown",
   "id": "58cfd953",
   "metadata": {},
   "source": [
    "### 3.1 Definindo função para criar a MLP"
   ]
  },
  {
   "cell_type": "code",
   "execution_count": 15,
   "id": "6471be40",
   "metadata": {},
   "outputs": [],
   "source": [
    "def criar_modelo(batch_normalization='OFF', learning_rate=0.001, activation='selu', init_mode='lecun_normal', n_neurons=30, name=\"MLP-1-camada-intermediaria\"):\n",
    "\n",
    "    optimizer_gs = optimizer\n",
    "    optimizer_gs.learning_rate.assign(learning_rate)\n",
    "    \n",
    "    model = keras.Sequential(name=name)\n",
    "    model.add(keras.layers.Dense(K, input_dim=K, name=\"camada_de_entrada\", activation = 'linear'))\n",
    "    if (batch_normalization == 'ON'):\n",
    "        model.add(keras.layers.BatchNormalization(name=\"camada_de_batch_normalization\"))\n",
    "    model.add(keras.layers.Dense(n_neurons, input_dim=K, activation=activation, kernel_initializer=init_mode, name=\"camada_intermediaria\"))\n",
    "    model.add(keras.layers.Dense(1, activation='linear', name=\"camada_de_saida\"))\n",
    "    \n",
    "    model.compile(\n",
    "        optimizer = optimizer_gs,\n",
    "        loss = loss)\n",
    "    \n",
    "    model.build()\n",
    "    return model"
   ]
  },
  {
   "cell_type": "markdown",
   "id": "1a48eff3",
   "metadata": {},
   "source": [
    "Utilizaremos os seguintes parâmetros no *Grid Search*:"
   ]
  },
  {
   "cell_type": "code",
   "execution_count": 16,
   "id": "0f966252",
   "metadata": {},
   "outputs": [],
   "source": [
    "param_grid = dict(batch_size=[2, 4, 8, 16, 32], \n",
    "                  batch_normalization=['ON', 'OFF'], \n",
    "                  activation=['selu', 'relu', 'elu', 'sigmoid', 'tanh'], \n",
    "                  init_mode = ['lecun_uniform', 'lecun_normal', 'glorot_normal', 'glorot_uniform', 'he_normal', 'he_uniform'],\n",
    "                  n_neurons = [5, 10, 15, 20, 30, 50, 75, 100],\n",
    "                  learning_rate = [0.001, 0.003, 0.005, 0.008, 0.01])"
   ]
  },
  {
   "cell_type": "markdown",
   "id": "05cdf115",
   "metadata": {},
   "source": [
    "Para facilitar, dividiremos esse processo em etapas."
   ]
  },
  {
   "cell_type": "markdown",
   "id": "98a81481",
   "metadata": {},
   "source": [
    "### 3.2 Definindo parâmetros que não serão definidos pelo *Grid Search*"
   ]
  },
  {
   "cell_type": "code",
   "execution_count": 17,
   "id": "8b39b6ab",
   "metadata": {},
   "outputs": [],
   "source": [
    "loss = \"mean_squared_error\"\n",
    "optimizer = keras.optimizers.Nadam()"
   ]
  },
  {
   "cell_type": "markdown",
   "id": "bbd04835",
   "metadata": {},
   "source": [
    "### 3.3 Definindo e executando o primeiro *Grid Search*"
   ]
  },
  {
   "cell_type": "markdown",
   "id": "fe255b35",
   "metadata": {},
   "source": [
    "Primeiro, avaliaremos o impacto do *batch size* e da camada de *batch normalization*."
   ]
  },
  {
   "cell_type": "code",
   "execution_count": 71,
   "id": "a8c85d04",
   "metadata": {},
   "outputs": [],
   "source": [
    "param_grid_1 = dict(batch_size=[2, 4, 8, 16, 32], \n",
    "                  batch_normalization=['ON', 'OFF'])"
   ]
  },
  {
   "cell_type": "code",
   "execution_count": 72,
   "id": "ce62a47f",
   "metadata": {},
   "outputs": [],
   "source": [
    "model_cv_1 = KerasRegressor(build_fn=criar_modelo, epochs=100, verbose=0)"
   ]
  },
  {
   "cell_type": "code",
   "execution_count": 73,
   "id": "79a9017f",
   "metadata": {},
   "outputs": [],
   "source": [
    "grid = GridSearchCV(estimator=model_cv_1, param_grid=param_grid_1, n_jobs=1, cv=4, scoring='neg_mean_squared_error', verbose=1)"
   ]
  },
  {
   "cell_type": "code",
   "execution_count": 74,
   "id": "b003b238",
   "metadata": {},
   "outputs": [
    {
     "name": "stdout",
     "output_type": "stream",
     "text": [
      "Fitting 4 folds for each of 10 candidates, totalling 40 fits\n"
     ]
    }
   ],
   "source": [
    "grid_result = grid.fit(X_treino, y_treino)"
   ]
  },
  {
   "cell_type": "code",
   "execution_count": 75,
   "id": "41a994b5",
   "metadata": {},
   "outputs": [
    {
     "name": "stdout",
     "output_type": "stream",
     "text": [
      "Best: -0.000548 using {'batch_normalization': 'OFF', 'batch_size': 2}\n"
     ]
    }
   ],
   "source": [
    "print(\"Best: %f using %s\" % (grid_result.best_score_, grid_result.best_params_))"
   ]
  },
  {
   "cell_type": "code",
   "execution_count": 76,
   "id": "f1a21660",
   "metadata": {},
   "outputs": [
    {
     "name": "stdout",
     "output_type": "stream",
     "text": [
      "-0.079693 (0.039688) with: {'batch_normalization': 'ON', 'batch_size': 2}\n",
      "-0.014648 (0.005031) with: {'batch_normalization': 'ON', 'batch_size': 4}\n",
      "-0.007042 (0.004442) with: {'batch_normalization': 'ON', 'batch_size': 8}\n",
      "-0.019222 (0.029663) with: {'batch_normalization': 'ON', 'batch_size': 16}\n",
      "-0.002713 (0.001854) with: {'batch_normalization': 'ON', 'batch_size': 32}\n",
      "-0.000548 (0.000218) with: {'batch_normalization': 'OFF', 'batch_size': 2}\n",
      "-0.000560 (0.000132) with: {'batch_normalization': 'OFF', 'batch_size': 4}\n",
      "-0.000661 (0.000213) with: {'batch_normalization': 'OFF', 'batch_size': 8}\n",
      "-0.000614 (0.000241) with: {'batch_normalization': 'OFF', 'batch_size': 16}\n",
      "-0.001450 (0.001221) with: {'batch_normalization': 'OFF', 'batch_size': 32}\n"
     ]
    }
   ],
   "source": [
    "means = grid_result.cv_results_['mean_test_score']\n",
    "stds = grid_result.cv_results_['std_test_score']\n",
    "params = grid_result.cv_results_['params']\n",
    "for mean, stdev, param in zip(means, stds, params):\n",
    "    print(\"%f (%f) with: %r\" % (mean, stdev, param))"
   ]
  },
  {
   "cell_type": "markdown",
   "id": "7d92f6e1",
   "metadata": {},
   "source": [
    "### 3.4 Definindo e executando o segundo *Grid Search*"
   ]
  },
  {
   "cell_type": "markdown",
   "id": "f4454d9d",
   "metadata": {},
   "source": [
    "Agora, avaliaremos o impacto do *learning rate* do otimizador."
   ]
  },
  {
   "cell_type": "code",
   "execution_count": 77,
   "id": "fa543cc9",
   "metadata": {},
   "outputs": [],
   "source": [
    "model_cv_2 = KerasRegressor(build_fn=criar_modelo, epochs=100, verbose=0, batch_size=4, batch_normalization='OFF')"
   ]
  },
  {
   "cell_type": "code",
   "execution_count": 78,
   "id": "4396b2bc",
   "metadata": {},
   "outputs": [],
   "source": [
    "param_grid_2 = dict(learning_rate=[0.001, 0.003, 0.005, 0.008, 0.01])"
   ]
  },
  {
   "cell_type": "code",
   "execution_count": 79,
   "id": "ed4233bc",
   "metadata": {},
   "outputs": [],
   "source": [
    "grid = GridSearchCV(estimator=model_cv_2, param_grid=param_grid_2, n_jobs=1, cv=4, scoring='neg_mean_squared_error', verbose=1)"
   ]
  },
  {
   "cell_type": "code",
   "execution_count": 80,
   "id": "201eed1b",
   "metadata": {},
   "outputs": [
    {
     "name": "stdout",
     "output_type": "stream",
     "text": [
      "Fitting 4 folds for each of 5 candidates, totalling 20 fits\n"
     ]
    }
   ],
   "source": [
    "grid_result = grid.fit(X_treino, y_treino)"
   ]
  },
  {
   "cell_type": "code",
   "execution_count": 81,
   "id": "35832c53",
   "metadata": {},
   "outputs": [
    {
     "name": "stdout",
     "output_type": "stream",
     "text": [
      "Best: -0.000467 using {'learning_rate': 0.001}\n"
     ]
    }
   ],
   "source": [
    "print(\"Best: %f using %s\" % (grid_result.best_score_, grid_result.best_params_))"
   ]
  },
  {
   "cell_type": "code",
   "execution_count": 82,
   "id": "15c245ff",
   "metadata": {},
   "outputs": [
    {
     "name": "stdout",
     "output_type": "stream",
     "text": [
      "-0.000467 (0.000137) with: {'learning_rate': 0.001}\n",
      "-0.000634 (0.000213) with: {'learning_rate': 0.003}\n",
      "-0.001303 (0.000945) with: {'learning_rate': 0.005}\n",
      "-0.001094 (0.000368) with: {'learning_rate': 0.008}\n",
      "-0.000923 (0.000415) with: {'learning_rate': 0.01}\n"
     ]
    }
   ],
   "source": [
    "means = grid_result.cv_results_['mean_test_score']\n",
    "stds = grid_result.cv_results_['std_test_score']\n",
    "params = grid_result.cv_results_['params']\n",
    "for mean, stdev, param in zip(means, stds, params):\n",
    "    print(\"%f (%f) with: %r\" % (mean, stdev, param))"
   ]
  },
  {
   "cell_type": "markdown",
   "id": "a80581a4",
   "metadata": {},
   "source": [
    "### 3.5 Definindo e executando o terceiro *Grid Search*"
   ]
  },
  {
   "cell_type": "markdown",
   "id": "d0214954",
   "metadata": {},
   "source": [
    "Agora, avaliaremos o impacto da função de ativação da camada intermediária."
   ]
  },
  {
   "cell_type": "code",
   "execution_count": 83,
   "id": "181e8376",
   "metadata": {},
   "outputs": [],
   "source": [
    "model_cv_3 = KerasRegressor(build_fn=criar_modelo, epochs=100, verbose=0, batch_size=4, batch_normalization='OFF', learning_rate=0.001)"
   ]
  },
  {
   "cell_type": "code",
   "execution_count": 84,
   "id": "7e414115",
   "metadata": {},
   "outputs": [],
   "source": [
    "param_grid_3 = dict(activation=['selu', 'relu', 'elu', 'sigmoid', 'tanh'])"
   ]
  },
  {
   "cell_type": "code",
   "execution_count": 85,
   "id": "06e23250",
   "metadata": {},
   "outputs": [],
   "source": [
    "grid = GridSearchCV(estimator=model_cv_3, param_grid=param_grid_3, n_jobs=1, cv=4, scoring='neg_mean_squared_error', verbose=1)"
   ]
  },
  {
   "cell_type": "code",
   "execution_count": 86,
   "id": "f71c5ad0",
   "metadata": {},
   "outputs": [
    {
     "name": "stdout",
     "output_type": "stream",
     "text": [
      "Fitting 4 folds for each of 5 candidates, totalling 20 fits\n"
     ]
    }
   ],
   "source": [
    "grid_result = grid.fit(X_treino, y_treino)"
   ]
  },
  {
   "cell_type": "code",
   "execution_count": 87,
   "id": "cacb5524",
   "metadata": {},
   "outputs": [
    {
     "name": "stdout",
     "output_type": "stream",
     "text": [
      "Best: -0.000512 using {'activation': 'tanh'}\n"
     ]
    }
   ],
   "source": [
    "print(\"Best: %f using %s\" % (grid_result.best_score_, grid_result.best_params_))"
   ]
  },
  {
   "cell_type": "code",
   "execution_count": 88,
   "id": "9b771d35",
   "metadata": {},
   "outputs": [
    {
     "name": "stdout",
     "output_type": "stream",
     "text": [
      "-0.000671 (0.000351) with: {'activation': 'selu'}\n",
      "-0.000708 (0.000111) with: {'activation': 'relu'}\n",
      "-0.000572 (0.000145) with: {'activation': 'elu'}\n",
      "-0.000926 (0.000323) with: {'activation': 'sigmoid'}\n",
      "-0.000512 (0.000042) with: {'activation': 'tanh'}\n"
     ]
    }
   ],
   "source": [
    "means = grid_result.cv_results_['mean_test_score']\n",
    "stds = grid_result.cv_results_['std_test_score']\n",
    "params = grid_result.cv_results_['params']\n",
    "for mean, stdev, param in zip(means, stds, params):\n",
    "    print(\"%f (%f) with: %r\" % (mean, stdev, param))"
   ]
  },
  {
   "cell_type": "markdown",
   "id": "7f43194f",
   "metadata": {},
   "source": [
    "### 3.6 Definindo e executando o quarto *Grid Search*"
   ]
  },
  {
   "cell_type": "markdown",
   "id": "03eca76c",
   "metadata": {},
   "source": [
    "Agora, avaliaremos o impacto do inicializador da camada intermediária."
   ]
  },
  {
   "cell_type": "code",
   "execution_count": 18,
   "id": "26908274",
   "metadata": {},
   "outputs": [],
   "source": [
    "model_cv_4 = KerasRegressor(build_fn=criar_modelo, epochs=100, verbose=0, batch_size=4, batch_normalization='OFF', learning_rate=0.001, activation='tanh')"
   ]
  },
  {
   "cell_type": "code",
   "execution_count": 19,
   "id": "4b3fe0e3",
   "metadata": {},
   "outputs": [],
   "source": [
    "param_grid_4 = dict(init_mode = ['glorot_uniform', 'glorot_normal'])"
   ]
  },
  {
   "cell_type": "code",
   "execution_count": 20,
   "id": "40fcd54e",
   "metadata": {},
   "outputs": [],
   "source": [
    "grid = GridSearchCV(estimator=model_cv_4, param_grid=param_grid_4, n_jobs=1, cv=4, scoring='neg_mean_squared_error', verbose=1)"
   ]
  },
  {
   "cell_type": "code",
   "execution_count": 21,
   "id": "22169110",
   "metadata": {},
   "outputs": [
    {
     "name": "stdout",
     "output_type": "stream",
     "text": [
      "Fitting 4 folds for each of 2 candidates, totalling 8 fits\n"
     ]
    }
   ],
   "source": [
    "grid_result = grid.fit(X_treino, y_treino)"
   ]
  },
  {
   "cell_type": "code",
   "execution_count": 22,
   "id": "1de81c09",
   "metadata": {},
   "outputs": [
    {
     "name": "stdout",
     "output_type": "stream",
     "text": [
      "Best: -0.000654 using {'init_mode': 'glorot_normal'}\n"
     ]
    }
   ],
   "source": [
    "print(\"Best: %f using %s\" % (grid_result.best_score_, grid_result.best_params_))"
   ]
  },
  {
   "cell_type": "code",
   "execution_count": 23,
   "id": "41d0df8a",
   "metadata": {},
   "outputs": [
    {
     "name": "stdout",
     "output_type": "stream",
     "text": [
      "-0.000667 (0.000392) with: {'init_mode': 'glorot_uniform'}\n",
      "-0.000654 (0.000139) with: {'init_mode': 'glorot_normal'}\n"
     ]
    }
   ],
   "source": [
    "means = grid_result.cv_results_['mean_test_score']\n",
    "stds = grid_result.cv_results_['std_test_score']\n",
    "params = grid_result.cv_results_['params']\n",
    "for mean, stdev, param in zip(means, stds, params):\n",
    "    print(\"%f (%f) with: %r\" % (mean, stdev, param))"
   ]
  },
  {
   "cell_type": "markdown",
   "id": "d629aa98",
   "metadata": {},
   "source": [
    "### 3.7 Definindo e executando o quinto *Grid Search*"
   ]
  },
  {
   "cell_type": "markdown",
   "id": "84a63415",
   "metadata": {},
   "source": [
    "Agora, avaliaremos o número de neurônios na camada intermediária."
   ]
  },
  {
   "cell_type": "code",
   "execution_count": 24,
   "id": "51a4813f",
   "metadata": {},
   "outputs": [],
   "source": [
    "model_cv_5 = KerasRegressor(build_fn=criar_modelo, epochs=100, verbose=0, batch_size=4, batch_normalization='OFF', learning_rate=0.001, activation='tanh', init_mode='glorot_normal')"
   ]
  },
  {
   "cell_type": "code",
   "execution_count": 25,
   "id": "3d6e5acc",
   "metadata": {},
   "outputs": [],
   "source": [
    "param_grid_5 = dict(n_neurons = [5, 10, 15, 20, 30, 50, 75, 100])"
   ]
  },
  {
   "cell_type": "code",
   "execution_count": 26,
   "id": "87b4f041",
   "metadata": {},
   "outputs": [],
   "source": [
    "grid = GridSearchCV(estimator=model_cv_5, param_grid=param_grid_5, n_jobs=1, cv=4, scoring='neg_mean_squared_error')"
   ]
  },
  {
   "cell_type": "code",
   "execution_count": 27,
   "id": "4b91da28",
   "metadata": {},
   "outputs": [],
   "source": [
    "grid_result = grid.fit(X_treino, y_treino)"
   ]
  },
  {
   "cell_type": "code",
   "execution_count": 28,
   "id": "a90fcaa4",
   "metadata": {},
   "outputs": [
    {
     "name": "stdout",
     "output_type": "stream",
     "text": [
      "Best: -0.000501 using {'n_neurons': 5}\n"
     ]
    }
   ],
   "source": [
    "print(\"Best: %f using %s\" % (grid_result.best_score_, grid_result.best_params_))"
   ]
  },
  {
   "cell_type": "code",
   "execution_count": 29,
   "id": "95861e9a",
   "metadata": {},
   "outputs": [
    {
     "name": "stdout",
     "output_type": "stream",
     "text": [
      "-0.000501 (0.000037) with: {'n_neurons': 5}\n",
      "-0.000663 (0.000188) with: {'n_neurons': 10}\n",
      "-0.000645 (0.000165) with: {'n_neurons': 15}\n",
      "-0.000725 (0.000328) with: {'n_neurons': 20}\n",
      "-0.000575 (0.000145) with: {'n_neurons': 30}\n",
      "-0.000797 (0.000286) with: {'n_neurons': 50}\n",
      "-0.000548 (0.000190) with: {'n_neurons': 75}\n",
      "-0.000585 (0.000092) with: {'n_neurons': 100}\n"
     ]
    }
   ],
   "source": [
    "means = grid_result.cv_results_['mean_test_score']\n",
    "stds = grid_result.cv_results_['std_test_score']\n",
    "params = grid_result.cv_results_['params']\n",
    "for mean, stdev, param in zip(means, stds, params):\n",
    "    print(\"%f (%f) with: %r\" % (mean, stdev, param))"
   ]
  },
  {
   "cell_type": "markdown",
   "id": "4219af8e",
   "metadata": {},
   "source": [
    "### Treino com o melhor modelo"
   ]
  },
  {
   "cell_type": "code",
   "execution_count": 19,
   "id": "d762a946",
   "metadata": {},
   "outputs": [],
   "source": [
    "model = criar_modelo(name='MLP-basica-mackeyglass', batch_normalization='OFF', learning_rate=0.001, activation='tanh', init_mode='glorot_normal', n_neurons=5)"
   ]
  },
  {
   "cell_type": "code",
   "execution_count": 20,
   "id": "8abeede0",
   "metadata": {},
   "outputs": [
    {
     "name": "stdout",
     "output_type": "stream",
     "text": [
      "Model: \"MLP-basica-mackeyglass\"\n",
      "_________________________________________________________________\n",
      "Layer (type)                 Output Shape              Param #   \n",
      "=================================================================\n",
      "camada_de_entrada (Dense)    (None, 4)                 20        \n",
      "_________________________________________________________________\n",
      "camada_intermediaria (Dense) (None, 5)                 25        \n",
      "_________________________________________________________________\n",
      "camada_de_saida (Dense)      (None, 1)                 6         \n",
      "=================================================================\n",
      "Total params: 51\n",
      "Trainable params: 51\n",
      "Non-trainable params: 0\n",
      "_________________________________________________________________\n"
     ]
    }
   ],
   "source": [
    "model.summary()"
   ]
  },
  {
   "cell_type": "code",
   "execution_count": 21,
   "id": "93a36ffb",
   "metadata": {},
   "outputs": [],
   "source": [
    "X_treino, X_val, y_treino, y_val = train_test_split(X_treino, y_treino, test_size=0.1)"
   ]
  },
  {
   "cell_type": "code",
   "execution_count": 22,
   "id": "41a80d21",
   "metadata": {},
   "outputs": [],
   "source": [
    "early_stopping = tf.keras.callbacks.EarlyStopping(patience=10, restore_best_weights=True, monitor='val_loss')"
   ]
  },
  {
   "cell_type": "code",
   "execution_count": 23,
   "id": "521dfa9c",
   "metadata": {},
   "outputs": [],
   "source": [
    "batch_size = 4"
   ]
  },
  {
   "cell_type": "code",
   "execution_count": 24,
   "id": "3b0128f7",
   "metadata": {},
   "outputs": [
    {
     "name": "stdout",
     "output_type": "stream",
     "text": [
      "Epoch 1/100\n",
      "955/955 [==============================] - 2s 1ms/step - loss: 0.0314 - val_loss: 0.0046\n",
      "Epoch 2/100\n",
      "955/955 [==============================] - 1s 1ms/step - loss: 0.0037 - val_loss: 0.0021\n",
      "Epoch 3/100\n",
      "955/955 [==============================] - 2s 2ms/step - loss: 0.0022 - val_loss: 0.0019\n",
      "Epoch 4/100\n",
      "955/955 [==============================] - 1s 1ms/step - loss: 0.0021 - val_loss: 0.0019\n",
      "Epoch 5/100\n",
      "955/955 [==============================] - 1s 1ms/step - loss: 0.0020 - val_loss: 0.0027\n",
      "Epoch 6/100\n",
      "955/955 [==============================] - 1s 1ms/step - loss: 0.0021 - val_loss: 0.0023\n",
      "Epoch 7/100\n",
      "955/955 [==============================] - 1s 1ms/step - loss: 0.0020 - val_loss: 0.0018\n",
      "Epoch 8/100\n",
      "955/955 [==============================] - 1s 1ms/step - loss: 0.0020 - val_loss: 0.0018\n",
      "Epoch 9/100\n",
      "955/955 [==============================] - 1s 1ms/step - loss: 0.0020 - val_loss: 0.0020\n",
      "Epoch 10/100\n",
      "955/955 [==============================] - 1s 1ms/step - loss: 0.0020 - val_loss: 0.0017\n",
      "Epoch 11/100\n",
      "955/955 [==============================] - 1s 1ms/step - loss: 0.0020 - val_loss: 0.0017\n",
      "Epoch 12/100\n",
      "955/955 [==============================] - 1s 1ms/step - loss: 0.0020 - val_loss: 0.0019\n",
      "Epoch 13/100\n",
      "955/955 [==============================] - 1s 1ms/step - loss: 0.0019 - val_loss: 0.0021\n",
      "Epoch 14/100\n",
      "955/955 [==============================] - 1s 1ms/step - loss: 0.0019 - val_loss: 0.0021\n",
      "Epoch 15/100\n",
      "955/955 [==============================] - 1s 1ms/step - loss: 0.0019 - val_loss: 0.0018\n",
      "Epoch 16/100\n",
      "955/955 [==============================] - 1s 1ms/step - loss: 0.0019 - val_loss: 0.0017\n",
      "Epoch 17/100\n",
      "955/955 [==============================] - 1s 1ms/step - loss: 0.0019 - val_loss: 0.0025\n",
      "Epoch 18/100\n",
      "955/955 [==============================] - 1s 1ms/step - loss: 0.0018 - val_loss: 0.0016\n",
      "Epoch 19/100\n",
      "955/955 [==============================] - 1s 1ms/step - loss: 0.0018 - val_loss: 0.0016\n",
      "Epoch 20/100\n",
      "955/955 [==============================] - 1s 1ms/step - loss: 0.0018 - val_loss: 0.0016\n",
      "Epoch 21/100\n",
      "955/955 [==============================] - 1s 1ms/step - loss: 0.0018 - val_loss: 0.0016\n",
      "Epoch 22/100\n",
      "955/955 [==============================] - 1s 1ms/step - loss: 0.0018 - val_loss: 0.0017\n",
      "Epoch 23/100\n",
      "955/955 [==============================] - 1s 1ms/step - loss: 0.0017 - val_loss: 0.0015\n",
      "Epoch 24/100\n",
      "955/955 [==============================] - 1s 1ms/step - loss: 0.0017 - val_loss: 0.0014\n",
      "Epoch 25/100\n",
      "955/955 [==============================] - 1s 1ms/step - loss: 0.0017 - val_loss: 0.0016\n",
      "Epoch 26/100\n",
      "955/955 [==============================] - 1s 1ms/step - loss: 0.0016 - val_loss: 0.0014\n",
      "Epoch 27/100\n",
      "955/955 [==============================] - 1s 1ms/step - loss: 0.0016 - val_loss: 0.0016\n",
      "Epoch 28/100\n",
      "955/955 [==============================] - 1s 1ms/step - loss: 0.0016 - val_loss: 0.0014\n",
      "Epoch 29/100\n",
      "955/955 [==============================] - 1s 1ms/step - loss: 0.0016 - val_loss: 0.0013\n",
      "Epoch 30/100\n",
      "955/955 [==============================] - 1s 1ms/step - loss: 0.0015 - val_loss: 0.0016\n",
      "Epoch 31/100\n",
      "955/955 [==============================] - 1s 1ms/step - loss: 0.0015 - val_loss: 0.0013\n",
      "Epoch 32/100\n",
      "955/955 [==============================] - 1s 1ms/step - loss: 0.0015 - val_loss: 0.0013\n",
      "Epoch 33/100\n",
      "955/955 [==============================] - 1s 1ms/step - loss: 0.0014 - val_loss: 0.0012\n",
      "Epoch 34/100\n",
      "955/955 [==============================] - 1s 1ms/step - loss: 0.0014 - val_loss: 0.0014\n",
      "Epoch 35/100\n",
      "955/955 [==============================] - 1s 1ms/step - loss: 0.0013 - val_loss: 0.0021\n",
      "Epoch 36/100\n",
      "955/955 [==============================] - 1s 1ms/step - loss: 0.0013 - val_loss: 0.0012\n",
      "Epoch 37/100\n",
      "955/955 [==============================] - 1s 1ms/step - loss: 0.0013 - val_loss: 0.0011\n",
      "Epoch 38/100\n",
      "955/955 [==============================] - 1s 1ms/step - loss: 0.0012 - val_loss: 0.0014\n",
      "Epoch 39/100\n",
      "955/955 [==============================] - 1s 1ms/step - loss: 0.0012 - val_loss: 0.0012\n",
      "Epoch 40/100\n",
      "955/955 [==============================] - 1s 1ms/step - loss: 0.0011 - val_loss: 9.2863e-04\n",
      "Epoch 41/100\n",
      "955/955 [==============================] - 1s 1ms/step - loss: 0.0011 - val_loss: 0.0012\n",
      "Epoch 42/100\n",
      "955/955 [==============================] - 1s 1ms/step - loss: 0.0010 - val_loss: 9.1628e-04\n",
      "Epoch 43/100\n",
      "955/955 [==============================] - 1s 1ms/step - loss: 0.0010 - val_loss: 8.5579e-04\n",
      "Epoch 44/100\n",
      "955/955 [==============================] - 1s 1ms/step - loss: 9.2596e-04 - val_loss: 9.7406e-04\n",
      "Epoch 45/100\n",
      "955/955 [==============================] - 1s 1ms/step - loss: 9.3168e-04 - val_loss: 7.4548e-04\n",
      "Epoch 46/100\n",
      "955/955 [==============================] - 1s 1ms/step - loss: 8.4871e-04 - val_loss: 7.9694e-04\n",
      "Epoch 47/100\n",
      "955/955 [==============================] - 1s 1ms/step - loss: 8.2019e-04 - val_loss: 8.2871e-04\n",
      "Epoch 48/100\n",
      "955/955 [==============================] - 1s 1ms/step - loss: 8.0753e-04 - val_loss: 8.7395e-04\n",
      "Epoch 49/100\n",
      "955/955 [==============================] - 1s 1ms/step - loss: 7.7416e-04 - val_loss: 6.6108e-04\n",
      "Epoch 50/100\n",
      "955/955 [==============================] - 1s 1ms/step - loss: 7.2883e-04 - val_loss: 8.4019e-04\n",
      "Epoch 51/100\n",
      "955/955 [==============================] - 1s 1ms/step - loss: 6.9752e-04 - val_loss: 5.9555e-04\n",
      "Epoch 52/100\n",
      "955/955 [==============================] - 1s 1ms/step - loss: 6.7548e-04 - val_loss: 7.7375e-04\n",
      "Epoch 53/100\n",
      "955/955 [==============================] - 1s 1ms/step - loss: 6.3078e-04 - val_loss: 5.3164e-04\n",
      "Epoch 54/100\n",
      "955/955 [==============================] - 1s 1ms/step - loss: 6.3978e-04 - val_loss: 5.3351e-04\n",
      "Epoch 55/100\n",
      "955/955 [==============================] - 1s 1ms/step - loss: 6.0791e-04 - val_loss: 5.4318e-04\n",
      "Epoch 56/100\n",
      "955/955 [==============================] - 1s 1ms/step - loss: 5.8499e-04 - val_loss: 8.0331e-04\n",
      "Epoch 57/100\n",
      "955/955 [==============================] - 1s 1ms/step - loss: 6.1005e-04 - val_loss: 5.4572e-04\n",
      "Epoch 58/100\n",
      "955/955 [==============================] - 1s 1ms/step - loss: 5.7588e-04 - val_loss: 4.7595e-04\n",
      "Epoch 59/100\n",
      "955/955 [==============================] - 1s 1ms/step - loss: 5.4955e-04 - val_loss: 5.8814e-04\n",
      "Epoch 60/100\n",
      "955/955 [==============================] - 1s 1ms/step - loss: 5.5007e-04 - val_loss: 6.8798e-04\n",
      "Epoch 61/100\n",
      "955/955 [==============================] - 1s 1ms/step - loss: 5.6072e-04 - val_loss: 4.8479e-04\n",
      "Epoch 62/100\n",
      "955/955 [==============================] - 1s 1ms/step - loss: 5.7433e-04 - val_loss: 4.7630e-04\n",
      "Epoch 63/100\n",
      "955/955 [==============================] - 1s 1ms/step - loss: 5.4120e-04 - val_loss: 4.6346e-04\n",
      "Epoch 64/100\n",
      "955/955 [==============================] - 1s 1ms/step - loss: 5.5247e-04 - val_loss: 6.5832e-04\n",
      "Epoch 65/100\n",
      "955/955 [==============================] - 1s 1ms/step - loss: 5.5280e-04 - val_loss: 4.5937e-04\n",
      "Epoch 66/100\n",
      "955/955 [==============================] - 1s 1ms/step - loss: 5.3194e-04 - val_loss: 5.6341e-04\n",
      "Epoch 67/100\n",
      "955/955 [==============================] - 1s 1ms/step - loss: 5.4685e-04 - val_loss: 6.2435e-04\n",
      "Epoch 68/100\n",
      "955/955 [==============================] - 1s 1ms/step - loss: 5.4264e-04 - val_loss: 6.6648e-04\n",
      "Epoch 69/100\n",
      "955/955 [==============================] - 1s 1ms/step - loss: 5.5670e-04 - val_loss: 5.2951e-04\n",
      "Epoch 70/100\n",
      "955/955 [==============================] - 1s 2ms/step - loss: 5.2368e-04 - val_loss: 4.6975e-04\n",
      "Epoch 71/100\n",
      "955/955 [==============================] - 1s 2ms/step - loss: 5.5185e-04 - val_loss: 4.6652e-04\n",
      "Epoch 72/100\n",
      "955/955 [==============================] - 1s 1ms/step - loss: 5.3573e-04 - val_loss: 4.7528e-04\n",
      "Epoch 73/100\n",
      "955/955 [==============================] - 1s 1ms/step - loss: 5.4477e-04 - val_loss: 6.2996e-04\n",
      "Epoch 74/100\n",
      "955/955 [==============================] - 1s 1ms/step - loss: 5.4234e-04 - val_loss: 4.4066e-04\n",
      "Epoch 75/100\n",
      "955/955 [==============================] - 1s 1ms/step - loss: 5.2036e-04 - val_loss: 7.1544e-04\n",
      "Epoch 76/100\n",
      "955/955 [==============================] - 1s 1ms/step - loss: 5.5870e-04 - val_loss: 4.6485e-04\n",
      "Epoch 77/100\n",
      "955/955 [==============================] - 1s 2ms/step - loss: 5.3035e-04 - val_loss: 4.4372e-04\n",
      "Epoch 78/100\n",
      "955/955 [==============================] - 1s 2ms/step - loss: 5.2747e-04 - val_loss: 6.5528e-04\n",
      "Epoch 79/100\n",
      "955/955 [==============================] - 1s 1ms/step - loss: 5.3684e-04 - val_loss: 4.4146e-04\n",
      "Epoch 80/100\n",
      "955/955 [==============================] - 1s 1ms/step - loss: 5.6134e-04 - val_loss: 4.7429e-04\n",
      "Epoch 81/100\n",
      "955/955 [==============================] - 1s 1ms/step - loss: 5.2242e-04 - val_loss: 6.1811e-04\n",
      "Epoch 82/100\n",
      "955/955 [==============================] - 1s 2ms/step - loss: 5.4102e-04 - val_loss: 5.2193e-04\n",
      "Epoch 83/100\n",
      "955/955 [==============================] - 1s 2ms/step - loss: 5.4347e-04 - val_loss: 6.4980e-04\n",
      "Epoch 84/100\n",
      "955/955 [==============================] - 1s 1ms/step - loss: 5.2270e-04 - val_loss: 4.6766e-04\n"
     ]
    }
   ],
   "source": [
    "history = model.fit(X_treino, y_treino, epochs=100,\n",
    "                            callbacks=early_stopping, validation_data=(X_val, y_val),\n",
    "                            batch_size=batch_size)\n",
    "treinamento = pd.DataFrame(history.history)"
   ]
  },
  {
   "cell_type": "markdown",
   "id": "3f12bec3",
   "metadata": {},
   "source": [
    "## Teste com o melhor modelo"
   ]
  },
  {
   "cell_type": "code",
   "execution_count": 25,
   "id": "bf3908ca",
   "metadata": {},
   "outputs": [],
   "source": [
    "y_pred = model.predict(X_teste)"
   ]
  },
  {
   "cell_type": "markdown",
   "id": "da0f6803",
   "metadata": {},
   "source": [
    "### Gráfico"
   ]
  },
  {
   "cell_type": "code",
   "execution_count": 26,
   "id": "a4ffb873",
   "metadata": {},
   "outputs": [
    {
     "data": {
      "application/vnd.jupyter.widget-view+json": {
       "model_id": "a7fe3819506c4a7c9f07fc0534b1dab3",
       "version_major": 2,
       "version_minor": 0
      },
      "text/plain": [
       "Canvas(toolbar=Toolbar(toolitems=[('Home', 'Reset original view', 'home', 'home'), ('Back', 'Back to previous …"
      ]
     },
     "metadata": {},
     "output_type": "display_data"
    },
    {
     "name": "stderr",
     "output_type": "stream",
     "text": [
      "findfont: Font family ['serif'] not found. Falling back to DejaVu Sans.\n"
     ]
    }
   ],
   "source": [
    "fig, ax = plt.subplots(figsize=(6.8,6))\n",
    "\n",
    "ax.plot(instantes_temporais[len(instantes_temporais)-int(len(instantes_temporais)*tam_teste):,], y_teste, color='Gold', label='Valor real')\n",
    "ax.plot(instantes_temporais[len(instantes_temporais)-int(len(instantes_temporais)*tam_teste):,], y_pred, color='Silver', label='MLP')\n",
    "\n",
    "ax.set_title('Comparação da predição da MLP com o valor real da equação de Mackey-Glass\\n utilizando a rede neural ótima no conjunto de teste')\n",
    "ax.set_ylabel('$P(t)$')\n",
    "ax.set_xlabel('$t$')\n",
    "ax.set_xlim(5000*(1-tam_teste), 5000)\n",
    "    \n",
    "ax.grid(True)\n",
    "sns.despine()\n",
    "ax.legend()\n",
    "\n",
    "plt.show()\n",
    "fig.savefig(\"../../../../images/mlp-basica/performance/mlp-basica-vs-mackeyglass.png\")"
   ]
  },
  {
   "cell_type": "markdown",
   "id": "05dddbde",
   "metadata": {},
   "source": [
    "### Erro Quadrático Médio"
   ]
  },
  {
   "cell_type": "code",
   "execution_count": 27,
   "id": "aa4c26d4",
   "metadata": {},
   "outputs": [],
   "source": [
    "from sklearn.metrics import mean_squared_error"
   ]
  },
  {
   "cell_type": "code",
   "execution_count": 28,
   "id": "cbfee9be",
   "metadata": {},
   "outputs": [
    {
     "name": "stdout",
     "output_type": "stream",
     "text": [
      "MSE = 0.0004040550838816368\n"
     ]
    }
   ],
   "source": [
    "mse = mean_squared_error(y_teste, y_pred)\n",
    "print(\"MSE = \" + str(mse))"
   ]
  },
  {
   "cell_type": "markdown",
   "id": "6a9954c7",
   "metadata": {},
   "source": [
    "### Salvando o Modelo"
   ]
  },
  {
   "cell_type": "code",
   "execution_count": 29,
   "id": "5a9b4377",
   "metadata": {},
   "outputs": [],
   "source": [
    "model.save(\"../../../../models/mlp-basica/mlp-basica-mackeyglass.h5\", include_optimizer=True)"
   ]
  },
  {
   "cell_type": "code",
   "execution_count": null,
   "id": "4763fde2",
   "metadata": {},
   "outputs": [],
   "source": []
  }
 ],
 "metadata": {
  "kernelspec": {
   "display_name": "Python 3",
   "language": "python",
   "name": "python3"
  },
  "language_info": {
   "codemirror_mode": {
    "name": "ipython",
    "version": 3
   },
   "file_extension": ".py",
   "mimetype": "text/x-python",
   "name": "python",
   "nbconvert_exporter": "python",
   "pygments_lexer": "ipython3",
   "version": "3.8.0"
  }
 },
 "nbformat": 4,
 "nbformat_minor": 5
}
