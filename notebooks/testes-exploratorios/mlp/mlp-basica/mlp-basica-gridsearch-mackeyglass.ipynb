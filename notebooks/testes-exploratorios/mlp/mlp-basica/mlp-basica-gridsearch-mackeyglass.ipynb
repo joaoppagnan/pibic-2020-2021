{
 "cells": [
  {
   "cell_type": "markdown",
   "id": "e3cea868",
   "metadata": {},
   "source": [
    "# Implementando uma MLP básica com Grid Search para escolher melhor os parâmetros no sistema de Mackey-Glass"
   ]
  },
  {
   "cell_type": "markdown",
   "id": "28699e5d",
   "metadata": {},
   "source": [
    "## 1. Importando as bibliotecas necessárias"
   ]
  },
  {
   "cell_type": "markdown",
   "id": "d2f92710",
   "metadata": {},
   "source": [
    "### 1.1 Bibliotecas gerais"
   ]
  },
  {
   "cell_type": "code",
   "execution_count": 1,
   "id": "92bcfa0e",
   "metadata": {},
   "outputs": [],
   "source": [
    "%matplotlib widget\n",
    "import numpy as np\n",
    "import pandas as pd\n",
    "import matplotlib.pyplot as plt\n",
    "import seaborn as sns # a biblioteca 'seaborn' contém vários estilos para os gráficos do 'matpĺotlib'\n",
    "\n",
    "# agora, melhoramos a qualidade de saida e de visualizacao da imagem \n",
    "# alem de mudar a fonte padrao para uma do latex\n",
    "sns.set_style(\"ticks\")\n",
    "plt.rcParams['savefig.dpi'] = 200\n",
    "plt.rcParams[\"figure.dpi\"] = 100\n",
    "\n",
    "plt.rcParams.update({\n",
    "    \"text.usetex\": True,\n",
    "    \"font.family\": \"serif\",\n",
    "    \"font.serif\": [\"Palatino\"],\n",
    "})\n",
    "plt.style.use('dark_background')"
   ]
  },
  {
   "cell_type": "markdown",
   "id": "43e678cc",
   "metadata": {},
   "source": [
    "### 1.2 Bibliotecas para MLP"
   ]
  },
  {
   "cell_type": "code",
   "execution_count": 2,
   "id": "d1ba167e",
   "metadata": {},
   "outputs": [],
   "source": [
    "import tensorflow as tf\n",
    "physical_devices = tf.config.list_physical_devices('GPU')\n",
    "\n",
    "from tensorflow import keras"
   ]
  },
  {
   "cell_type": "code",
   "execution_count": 3,
   "id": "105d18f0",
   "metadata": {},
   "outputs": [],
   "source": [
    "from sklearn.model_selection import GridSearchCV\n",
    "from sklearn.model_selection import train_test_split"
   ]
  },
  {
   "cell_type": "code",
   "execution_count": 4,
   "id": "365468e5",
   "metadata": {},
   "outputs": [],
   "source": [
    "from tensorflow.keras.wrappers.scikit_learn import KerasRegressor"
   ]
  },
  {
   "cell_type": "markdown",
   "id": "47280919",
   "metadata": {},
   "source": [
    "### 1.3 Bibliotecas dos sistemas caóticos"
   ]
  },
  {
   "cell_type": "code",
   "execution_count": 5,
   "id": "6aa3f54c",
   "metadata": {},
   "outputs": [],
   "source": [
    "import sys \n",
    "sys.path.insert(0, '../../../../scripts')\n",
    "\n",
    "import timeseries as times\n",
    "import mackeyglassequations as mgeq"
   ]
  },
  {
   "cell_type": "markdown",
   "id": "7f46018b",
   "metadata": {},
   "source": [
    "## 2. Gerando a série temporal"
   ]
  },
  {
   "cell_type": "code",
   "execution_count": 6,
   "id": "eee6930a",
   "metadata": {},
   "outputs": [],
   "source": [
    "t_inicial = 0\n",
    "t_final = 5000\n",
    "tau = 22\n",
    "n = 10\n",
    "gamma = 0.1\n",
    "beta = 0.2\n",
    "theta = 1"
   ]
  },
  {
   "cell_type": "code",
   "execution_count": 7,
   "id": "797292b1",
   "metadata": {},
   "outputs": [],
   "source": [
    "macglass = mgeq.MackeyGlass(tau=tau, gamma=gamma, beta=beta, n=n, theta=theta)"
   ]
  },
  {
   "cell_type": "code",
   "execution_count": 8,
   "id": "bf13689d",
   "metadata": {},
   "outputs": [
    {
     "name": "stdout",
     "output_type": "stream",
     "text": [
      "Generating, compiling, and loading C code.\n",
      "Using default integration parameters.\n"
     ]
    }
   ],
   "source": [
    "solucoes, instantes_temporais = macglass.calcular(t_inicial = t_inicial, t_final = t_final)"
   ]
  },
  {
   "cell_type": "markdown",
   "id": "02125ded",
   "metadata": {},
   "source": [
    "### Série Temporal de Mackey-Glass"
   ]
  },
  {
   "cell_type": "code",
   "execution_count": 9,
   "id": "55013b3c",
   "metadata": {},
   "outputs": [
    {
     "data": {
      "application/vnd.jupyter.widget-view+json": {
       "model_id": "e167daaaa6764bddb73894ecffdeb89c",
       "version_major": 2,
       "version_minor": 0
      },
      "text/plain": [
       "Canvas(toolbar=Toolbar(toolitems=[('Home', 'Reset original view', 'home', 'home'), ('Back', 'Back to previous …"
      ]
     },
     "metadata": {},
     "output_type": "display_data"
    }
   ],
   "source": [
    "fig, ax = plt.subplots()\n",
    "ax.set_title('Série temporal de 0 a 600 dias da equação de Mackey-Glass para\\n' + r'$\\tau =$ ' + str(tau) + r', $\\beta =$ ' + str(beta) + r', $\\gamma =$ ' + str(gamma) + r', $n =$ ' + str(n) + r' e $\\theta =$ ' + str(theta) + ' utilizando P(0) = ' + str(0.1*theta))\n",
    "ax.plot(instantes_temporais, solucoes, color='Crimson')\n",
    "\n",
    "ax.set_ylabel('P(t)')\n",
    "ax.set_xlabel('t')\n",
    "ax.set_xlim(0,600)\n",
    "    \n",
    "ax.grid(True)\n",
    "\n",
    "fig.tight_layout()\n",
    "sns.despine()\n",
    "plt.show()"
   ]
  },
  {
   "cell_type": "markdown",
   "id": "eb3c5df7",
   "metadata": {},
   "source": [
    "### 2.1 Dividindo em um conjunto de treinamento e de teste, para K = 4 e L = 3"
   ]
  },
  {
   "cell_type": "code",
   "execution_count": 10,
   "id": "c070b1dd",
   "metadata": {},
   "outputs": [],
   "source": [
    "K = 4\n",
    "L = 3\n",
    "tam_teste = 0.15"
   ]
  },
  {
   "cell_type": "code",
   "execution_count": 11,
   "id": "ce9a49aa",
   "metadata": {},
   "outputs": [],
   "source": [
    "x = np.array(solucoes)\n",
    "x = np.reshape(x, (1, len(x)))\n",
    "x = x[0]"
   ]
  },
  {
   "cell_type": "code",
   "execution_count": 12,
   "id": "a677e0d6",
   "metadata": {},
   "outputs": [],
   "source": [
    "serie_temporal = times.SerieTemporal(x, K=K, L=L)"
   ]
  },
  {
   "cell_type": "code",
   "execution_count": 13,
   "id": "6eda6f40",
   "metadata": {},
   "outputs": [],
   "source": [
    "serie_temporal.criar_matrizes()"
   ]
  },
  {
   "cell_type": "code",
   "execution_count": 14,
   "id": "35b90499",
   "metadata": {},
   "outputs": [],
   "source": [
    "X_treino, X_teste, y_treino, y_teste = serie_temporal.dividir_treino_teste(tam_teste)"
   ]
  },
  {
   "cell_type": "markdown",
   "id": "ae348483",
   "metadata": {},
   "source": [
    "## 3. Definindo o modelo para a MLP"
   ]
  },
  {
   "cell_type": "markdown",
   "id": "63de489e",
   "metadata": {},
   "source": [
    "### 3.1 Definindo função para criar a MLP"
   ]
  },
  {
   "cell_type": "code",
   "execution_count": 33,
   "id": "19718dae",
   "metadata": {},
   "outputs": [],
   "source": [
    "def criar_modelo(batch_normalization='OFF', learning_rate=0.001, activation='selu', init_mode='lecun_normal', n_neurons=30, name=\"MLP-1-camada-intermediaria\"):\n",
    "\n",
    "    optimizer_gs = optimizer\n",
    "    optimizer_gs.learning_rate.assign(learning_rate)\n",
    "    \n",
    "    model = keras.Sequential(name=name)\n",
    "    model.add(keras.layers.Dense(K, input_dim=K, name=\"camada_de_entrada\", activation = 'linear'))\n",
    "    if (batch_normalization == 'ON'):\n",
    "        model.add(keras.layers.BatchNormalization(name=\"camada_de_batch_normalization\"))\n",
    "    model.add(keras.layers.Dense(n_neurons, input_dim=K, activation=activation, kernel_initializer=init_mode, name=\"camada_intermediaria\"))\n",
    "    model.add(keras.layers.Dense(1, activation='linear', name=\"camada_de_saida\"))\n",
    "    \n",
    "    model.compile(\n",
    "        optimizer = optimizer_gs,\n",
    "        loss = loss)\n",
    "    \n",
    "    model.build()\n",
    "    return model"
   ]
  },
  {
   "cell_type": "markdown",
   "id": "a15bfb65",
   "metadata": {},
   "source": [
    "Utilizaremos os seguintes parâmetros no *Grid Search*:"
   ]
  },
  {
   "cell_type": "code",
   "execution_count": 16,
   "id": "78ff4f8e",
   "metadata": {},
   "outputs": [],
   "source": [
    "param_grid = dict(batch_size=[2, 4, 8, 16, 32], \n",
    "                  batch_normalization=['ON', 'OFF'], \n",
    "                  activation=['selu', 'relu', 'elu', 'sigmoid', 'tanh'], \n",
    "                  init_mode = ['lecun_uniform', 'lecun_normal', 'glorot_normal', 'glorot_uniform', 'he_normal', 'he_uniform'],\n",
    "                  n_neurons = [5, 10, 15, 20, 30, 50, 75, 100],\n",
    "                  learning_rate = [0.001, 0.003, 0.005, 0.008, 0.01])"
   ]
  },
  {
   "cell_type": "markdown",
   "id": "844cf119",
   "metadata": {},
   "source": [
    "Para facilitar, dividiremos esse processo em etapas."
   ]
  },
  {
   "cell_type": "markdown",
   "id": "2a187c75",
   "metadata": {},
   "source": [
    "### 3.2 Definindo parâmetros que não serão definidos pelo *Grid Search*"
   ]
  },
  {
   "cell_type": "code",
   "execution_count": 17,
   "id": "d2c3b097",
   "metadata": {},
   "outputs": [],
   "source": [
    "loss = \"mean_squared_error\"\n",
    "optimizer = keras.optimizers.Nadam()"
   ]
  },
  {
   "cell_type": "markdown",
   "id": "9ce70345",
   "metadata": {},
   "source": [
    "### 3.3 Definindo e executando o primeiro *Grid Search*"
   ]
  },
  {
   "cell_type": "markdown",
   "id": "8bacf6a8",
   "metadata": {},
   "source": [
    "Primeiro, avaliaremos o impacto do *batch size* e da camada de *batch normalization*."
   ]
  },
  {
   "cell_type": "code",
   "execution_count": 71,
   "id": "724f1be9",
   "metadata": {},
   "outputs": [],
   "source": [
    "param_grid_1 = dict(batch_size=[2, 4, 8, 16, 32], \n",
    "                  batch_normalization=['ON', 'OFF'])"
   ]
  },
  {
   "cell_type": "code",
   "execution_count": 72,
   "id": "b11511d5",
   "metadata": {},
   "outputs": [],
   "source": [
    "model_cv_1 = KerasRegressor(build_fn=criar_modelo, epochs=100, verbose=0)"
   ]
  },
  {
   "cell_type": "code",
   "execution_count": 73,
   "id": "06621b2a",
   "metadata": {},
   "outputs": [],
   "source": [
    "grid = GridSearchCV(estimator=model_cv_1, param_grid=param_grid_1, n_jobs=1, cv=4, scoring='neg_mean_squared_error', verbose=1)"
   ]
  },
  {
   "cell_type": "code",
   "execution_count": 74,
   "id": "046f8275",
   "metadata": {},
   "outputs": [
    {
     "name": "stdout",
     "output_type": "stream",
     "text": [
      "Fitting 4 folds for each of 10 candidates, totalling 40 fits\n"
     ]
    }
   ],
   "source": [
    "grid_result = grid.fit(X_treino, y_treino)"
   ]
  },
  {
   "cell_type": "code",
   "execution_count": 75,
   "id": "cf7812ec",
   "metadata": {},
   "outputs": [
    {
     "name": "stdout",
     "output_type": "stream",
     "text": [
      "Best: -0.000548 using {'batch_normalization': 'OFF', 'batch_size': 2}\n"
     ]
    }
   ],
   "source": [
    "print(\"Best: %f using %s\" % (grid_result.best_score_, grid_result.best_params_))"
   ]
  },
  {
   "cell_type": "code",
   "execution_count": 76,
   "id": "685b4c1f",
   "metadata": {},
   "outputs": [
    {
     "name": "stdout",
     "output_type": "stream",
     "text": [
      "-0.079693 (0.039688) with: {'batch_normalization': 'ON', 'batch_size': 2}\n",
      "-0.014648 (0.005031) with: {'batch_normalization': 'ON', 'batch_size': 4}\n",
      "-0.007042 (0.004442) with: {'batch_normalization': 'ON', 'batch_size': 8}\n",
      "-0.019222 (0.029663) with: {'batch_normalization': 'ON', 'batch_size': 16}\n",
      "-0.002713 (0.001854) with: {'batch_normalization': 'ON', 'batch_size': 32}\n",
      "-0.000548 (0.000218) with: {'batch_normalization': 'OFF', 'batch_size': 2}\n",
      "-0.000560 (0.000132) with: {'batch_normalization': 'OFF', 'batch_size': 4}\n",
      "-0.000661 (0.000213) with: {'batch_normalization': 'OFF', 'batch_size': 8}\n",
      "-0.000614 (0.000241) with: {'batch_normalization': 'OFF', 'batch_size': 16}\n",
      "-0.001450 (0.001221) with: {'batch_normalization': 'OFF', 'batch_size': 32}\n"
     ]
    }
   ],
   "source": [
    "means = grid_result.cv_results_['mean_test_score']\n",
    "stds = grid_result.cv_results_['std_test_score']\n",
    "params = grid_result.cv_results_['params']\n",
    "for mean, stdev, param in zip(means, stds, params):\n",
    "    print(\"%f (%f) with: %r\" % (mean, stdev, param))"
   ]
  },
  {
   "cell_type": "markdown",
   "id": "26ea5e6e",
   "metadata": {},
   "source": [
    "### 3.4 Definindo e executando o segundo *Grid Search*"
   ]
  },
  {
   "cell_type": "markdown",
   "id": "2e7ae2f9",
   "metadata": {},
   "source": [
    "Agora, avaliaremos o impacto do *learning rate* do otimizador."
   ]
  },
  {
   "cell_type": "code",
   "execution_count": 77,
   "id": "b0657678",
   "metadata": {},
   "outputs": [],
   "source": [
    "model_cv_2 = KerasRegressor(build_fn=criar_modelo, epochs=100, verbose=0, batch_size=4, batch_normalization='OFF')"
   ]
  },
  {
   "cell_type": "code",
   "execution_count": 78,
   "id": "046a7f1a",
   "metadata": {},
   "outputs": [],
   "source": [
    "param_grid_2 = dict(learning_rate=[0.001, 0.003, 0.005, 0.008, 0.01])"
   ]
  },
  {
   "cell_type": "code",
   "execution_count": 79,
   "id": "2175374a",
   "metadata": {},
   "outputs": [],
   "source": [
    "grid = GridSearchCV(estimator=model_cv_2, param_grid=param_grid_2, n_jobs=1, cv=4, scoring='neg_mean_squared_error', verbose=1)"
   ]
  },
  {
   "cell_type": "code",
   "execution_count": 80,
   "id": "8d459484",
   "metadata": {},
   "outputs": [
    {
     "name": "stdout",
     "output_type": "stream",
     "text": [
      "Fitting 4 folds for each of 5 candidates, totalling 20 fits\n"
     ]
    }
   ],
   "source": [
    "grid_result = grid.fit(X_treino, y_treino)"
   ]
  },
  {
   "cell_type": "code",
   "execution_count": 81,
   "id": "2a3d3ca0",
   "metadata": {},
   "outputs": [
    {
     "name": "stdout",
     "output_type": "stream",
     "text": [
      "Best: -0.000467 using {'learning_rate': 0.001}\n"
     ]
    }
   ],
   "source": [
    "print(\"Best: %f using %s\" % (grid_result.best_score_, grid_result.best_params_))"
   ]
  },
  {
   "cell_type": "code",
   "execution_count": 82,
   "id": "b7f36ab8",
   "metadata": {},
   "outputs": [
    {
     "name": "stdout",
     "output_type": "stream",
     "text": [
      "-0.000467 (0.000137) with: {'learning_rate': 0.001}\n",
      "-0.000634 (0.000213) with: {'learning_rate': 0.003}\n",
      "-0.001303 (0.000945) with: {'learning_rate': 0.005}\n",
      "-0.001094 (0.000368) with: {'learning_rate': 0.008}\n",
      "-0.000923 (0.000415) with: {'learning_rate': 0.01}\n"
     ]
    }
   ],
   "source": [
    "means = grid_result.cv_results_['mean_test_score']\n",
    "stds = grid_result.cv_results_['std_test_score']\n",
    "params = grid_result.cv_results_['params']\n",
    "for mean, stdev, param in zip(means, stds, params):\n",
    "    print(\"%f (%f) with: %r\" % (mean, stdev, param))"
   ]
  },
  {
   "cell_type": "markdown",
   "id": "ad2032ec",
   "metadata": {},
   "source": [
    "### 3.5 Definindo e executando o terceiro *Grid Search*"
   ]
  },
  {
   "cell_type": "markdown",
   "id": "131073de",
   "metadata": {},
   "source": [
    "Agora, avaliaremos o impacto da função de ativação da camada intermediária."
   ]
  },
  {
   "cell_type": "code",
   "execution_count": 83,
   "id": "3576265a",
   "metadata": {},
   "outputs": [],
   "source": [
    "model_cv_3 = KerasRegressor(build_fn=criar_modelo, epochs=100, verbose=0, batch_size=4, batch_normalization='OFF', learning_rate=0.001)"
   ]
  },
  {
   "cell_type": "code",
   "execution_count": 84,
   "id": "67ef84ab",
   "metadata": {},
   "outputs": [],
   "source": [
    "param_grid_3 = dict(activation=['selu', 'relu', 'elu', 'sigmoid', 'tanh'])"
   ]
  },
  {
   "cell_type": "code",
   "execution_count": 85,
   "id": "2d7a9a91",
   "metadata": {},
   "outputs": [],
   "source": [
    "grid = GridSearchCV(estimator=model_cv_3, param_grid=param_grid_3, n_jobs=1, cv=4, scoring='neg_mean_squared_error', verbose=1)"
   ]
  },
  {
   "cell_type": "code",
   "execution_count": 86,
   "id": "7dfe99c5",
   "metadata": {},
   "outputs": [
    {
     "name": "stdout",
     "output_type": "stream",
     "text": [
      "Fitting 4 folds for each of 5 candidates, totalling 20 fits\n"
     ]
    }
   ],
   "source": [
    "grid_result = grid.fit(X_treino, y_treino)"
   ]
  },
  {
   "cell_type": "code",
   "execution_count": 87,
   "id": "292de433",
   "metadata": {},
   "outputs": [
    {
     "name": "stdout",
     "output_type": "stream",
     "text": [
      "Best: -0.000512 using {'activation': 'tanh'}\n"
     ]
    }
   ],
   "source": [
    "print(\"Best: %f using %s\" % (grid_result.best_score_, grid_result.best_params_))"
   ]
  },
  {
   "cell_type": "code",
   "execution_count": 88,
   "id": "63cbc335",
   "metadata": {},
   "outputs": [
    {
     "name": "stdout",
     "output_type": "stream",
     "text": [
      "-0.000671 (0.000351) with: {'activation': 'selu'}\n",
      "-0.000708 (0.000111) with: {'activation': 'relu'}\n",
      "-0.000572 (0.000145) with: {'activation': 'elu'}\n",
      "-0.000926 (0.000323) with: {'activation': 'sigmoid'}\n",
      "-0.000512 (0.000042) with: {'activation': 'tanh'}\n"
     ]
    }
   ],
   "source": [
    "means = grid_result.cv_results_['mean_test_score']\n",
    "stds = grid_result.cv_results_['std_test_score']\n",
    "params = grid_result.cv_results_['params']\n",
    "for mean, stdev, param in zip(means, stds, params):\n",
    "    print(\"%f (%f) with: %r\" % (mean, stdev, param))"
   ]
  },
  {
   "cell_type": "markdown",
   "id": "0e630b5d",
   "metadata": {},
   "source": [
    "### 3.6 Definindo e executando o quarto *Grid Search*"
   ]
  },
  {
   "cell_type": "markdown",
   "id": "c2224929",
   "metadata": {},
   "source": [
    "Agora, avaliaremos o impacto do inicializador da camada intermediária."
   ]
  },
  {
   "cell_type": "code",
   "execution_count": 18,
   "id": "e65e2670",
   "metadata": {},
   "outputs": [],
   "source": [
    "model_cv_4 = KerasRegressor(build_fn=criar_modelo, epochs=100, verbose=0, batch_size=4, batch_normalization='OFF', learning_rate=0.001, activation='tanh')"
   ]
  },
  {
   "cell_type": "code",
   "execution_count": 19,
   "id": "84e8c611",
   "metadata": {},
   "outputs": [],
   "source": [
    "param_grid_4 = dict(init_mode = ['glorot_uniform', 'glorot_normal'])"
   ]
  },
  {
   "cell_type": "code",
   "execution_count": 20,
   "id": "7bc6ba35",
   "metadata": {},
   "outputs": [],
   "source": [
    "grid = GridSearchCV(estimator=model_cv_4, param_grid=param_grid_4, n_jobs=1, cv=4, scoring='neg_mean_squared_error', verbose=1)"
   ]
  },
  {
   "cell_type": "code",
   "execution_count": 21,
   "id": "78b40220",
   "metadata": {},
   "outputs": [
    {
     "name": "stdout",
     "output_type": "stream",
     "text": [
      "Fitting 4 folds for each of 2 candidates, totalling 8 fits\n"
     ]
    }
   ],
   "source": [
    "grid_result = grid.fit(X_treino, y_treino)"
   ]
  },
  {
   "cell_type": "code",
   "execution_count": 22,
   "id": "9be49d7a",
   "metadata": {},
   "outputs": [
    {
     "name": "stdout",
     "output_type": "stream",
     "text": [
      "Best: -0.000654 using {'init_mode': 'glorot_normal'}\n"
     ]
    }
   ],
   "source": [
    "print(\"Best: %f using %s\" % (grid_result.best_score_, grid_result.best_params_))"
   ]
  },
  {
   "cell_type": "code",
   "execution_count": 23,
   "id": "eb857f03",
   "metadata": {},
   "outputs": [
    {
     "name": "stdout",
     "output_type": "stream",
     "text": [
      "-0.000667 (0.000392) with: {'init_mode': 'glorot_uniform'}\n",
      "-0.000654 (0.000139) with: {'init_mode': 'glorot_normal'}\n"
     ]
    }
   ],
   "source": [
    "means = grid_result.cv_results_['mean_test_score']\n",
    "stds = grid_result.cv_results_['std_test_score']\n",
    "params = grid_result.cv_results_['params']\n",
    "for mean, stdev, param in zip(means, stds, params):\n",
    "    print(\"%f (%f) with: %r\" % (mean, stdev, param))"
   ]
  },
  {
   "cell_type": "markdown",
   "id": "b1ca20e0",
   "metadata": {},
   "source": [
    "### 3.7 Definindo e executando o quinto *Grid Search*"
   ]
  },
  {
   "cell_type": "markdown",
   "id": "60bc672b",
   "metadata": {},
   "source": [
    "Agora, avaliaremos o número de neurônios na camada intermediária."
   ]
  },
  {
   "cell_type": "code",
   "execution_count": 24,
   "id": "7b99e31f",
   "metadata": {},
   "outputs": [],
   "source": [
    "model_cv_5 = KerasRegressor(build_fn=criar_modelo, epochs=100, verbose=0, batch_size=4, batch_normalization='OFF', learning_rate=0.001, activation='tanh', init_mode='glorot_normal')"
   ]
  },
  {
   "cell_type": "code",
   "execution_count": 25,
   "id": "3aad51b7",
   "metadata": {},
   "outputs": [],
   "source": [
    "param_grid_5 = dict(n_neurons = [5, 10, 15, 20, 30, 50, 75, 100])"
   ]
  },
  {
   "cell_type": "code",
   "execution_count": 26,
   "id": "c163d01f",
   "metadata": {},
   "outputs": [],
   "source": [
    "grid = GridSearchCV(estimator=model_cv_5, param_grid=param_grid_5, n_jobs=1, cv=4, scoring='neg_mean_squared_error')"
   ]
  },
  {
   "cell_type": "code",
   "execution_count": 27,
   "id": "ca79ed7a",
   "metadata": {},
   "outputs": [],
   "source": [
    "grid_result = grid.fit(X_treino, y_treino)"
   ]
  },
  {
   "cell_type": "code",
   "execution_count": 28,
   "id": "0e4736dd",
   "metadata": {},
   "outputs": [
    {
     "name": "stdout",
     "output_type": "stream",
     "text": [
      "Best: -0.000501 using {'n_neurons': 5}\n"
     ]
    }
   ],
   "source": [
    "print(\"Best: %f using %s\" % (grid_result.best_score_, grid_result.best_params_))"
   ]
  },
  {
   "cell_type": "code",
   "execution_count": 29,
   "id": "288f14bc",
   "metadata": {},
   "outputs": [
    {
     "name": "stdout",
     "output_type": "stream",
     "text": [
      "-0.000501 (0.000037) with: {'n_neurons': 5}\n",
      "-0.000663 (0.000188) with: {'n_neurons': 10}\n",
      "-0.000645 (0.000165) with: {'n_neurons': 15}\n",
      "-0.000725 (0.000328) with: {'n_neurons': 20}\n",
      "-0.000575 (0.000145) with: {'n_neurons': 30}\n",
      "-0.000797 (0.000286) with: {'n_neurons': 50}\n",
      "-0.000548 (0.000190) with: {'n_neurons': 75}\n",
      "-0.000585 (0.000092) with: {'n_neurons': 100}\n"
     ]
    }
   ],
   "source": [
    "means = grid_result.cv_results_['mean_test_score']\n",
    "stds = grid_result.cv_results_['std_test_score']\n",
    "params = grid_result.cv_results_['params']\n",
    "for mean, stdev, param in zip(means, stds, params):\n",
    "    print(\"%f (%f) with: %r\" % (mean, stdev, param))"
   ]
  },
  {
   "cell_type": "markdown",
   "id": "dd3d4546",
   "metadata": {},
   "source": [
    "### Treino com o melhor modelo"
   ]
  },
  {
   "cell_type": "code",
   "execution_count": 34,
   "id": "5c6b72a3",
   "metadata": {},
   "outputs": [],
   "source": [
    "model = criar_modelo(batch_normalization='OFF', learning_rate=0.001, activation='tanh', init_mode='glorot_normal', n_neurons=5, name=\"MLP-1-camada-intermediaria-MackeyGlass\")"
   ]
  },
  {
   "cell_type": "code",
   "execution_count": 35,
   "id": "59195a22",
   "metadata": {},
   "outputs": [
    {
     "name": "stdout",
     "output_type": "stream",
     "text": [
      "Model: \"MLP-1-camada-intermediaria-MackeyGlass\"\n",
      "_________________________________________________________________\n",
      "Layer (type)                 Output Shape              Param #   \n",
      "=================================================================\n",
      "camada_de_entrada (Dense)    (None, 4)                 20        \n",
      "_________________________________________________________________\n",
      "camada_intermediaria (Dense) (None, 5)                 25        \n",
      "_________________________________________________________________\n",
      "camada_de_saida (Dense)      (None, 1)                 6         \n",
      "=================================================================\n",
      "Total params: 51\n",
      "Trainable params: 51\n",
      "Non-trainable params: 0\n",
      "_________________________________________________________________\n"
     ]
    }
   ],
   "source": [
    "model.summary()"
   ]
  },
  {
   "cell_type": "code",
   "execution_count": 36,
   "id": "310bd2a3",
   "metadata": {},
   "outputs": [],
   "source": [
    "X_treino, X_val, y_treino, y_val = train_test_split(X_treino, y_treino, test_size=0.1)"
   ]
  },
  {
   "cell_type": "code",
   "execution_count": 37,
   "id": "541085c5",
   "metadata": {},
   "outputs": [],
   "source": [
    "early_stopping = tf.keras.callbacks.EarlyStopping(patience=10, restore_best_weights=True, monitor='val_loss')"
   ]
  },
  {
   "cell_type": "code",
   "execution_count": 38,
   "id": "cb8a0e25",
   "metadata": {},
   "outputs": [],
   "source": [
    "batch_size = 4"
   ]
  },
  {
   "cell_type": "code",
   "execution_count": 39,
   "id": "1c963134",
   "metadata": {},
   "outputs": [
    {
     "name": "stdout",
     "output_type": "stream",
     "text": [
      "Epoch 1/100\n",
      "955/955 [==============================] - 2s 2ms/step - loss: 0.0324 - val_loss: 0.0041\n",
      "Epoch 2/100\n",
      "955/955 [==============================] - 1s 1ms/step - loss: 0.0033 - val_loss: 0.0017\n",
      "Epoch 3/100\n",
      "955/955 [==============================] - 1s 1ms/step - loss: 0.0019 - val_loss: 0.0019\n",
      "Epoch 4/100\n",
      "955/955 [==============================] - 1s 1ms/step - loss: 0.0018 - val_loss: 0.0014\n",
      "Epoch 5/100\n",
      "955/955 [==============================] - 1s 1ms/step - loss: 0.0018 - val_loss: 0.0014\n",
      "Epoch 6/100\n",
      "955/955 [==============================] - 1s 1ms/step - loss: 0.0017 - val_loss: 0.0017\n",
      "Epoch 7/100\n",
      "955/955 [==============================] - 1s 1ms/step - loss: 0.0017 - val_loss: 0.0013\n",
      "Epoch 8/100\n",
      "955/955 [==============================] - 1s 1ms/step - loss: 0.0017 - val_loss: 0.0013\n",
      "Epoch 9/100\n",
      "955/955 [==============================] - 1s 1ms/step - loss: 0.0016 - val_loss: 0.0014\n",
      "Epoch 10/100\n",
      "955/955 [==============================] - 1s 1ms/step - loss: 0.0016 - val_loss: 0.0013\n",
      "Epoch 11/100\n",
      "955/955 [==============================] - 1s 1ms/step - loss: 0.0015 - val_loss: 0.0012\n",
      "Epoch 12/100\n",
      "955/955 [==============================] - 1s 1ms/step - loss: 0.0015 - val_loss: 0.0014\n",
      "Epoch 13/100\n",
      "955/955 [==============================] - 1s 1ms/step - loss: 0.0014 - val_loss: 0.0013\n",
      "Epoch 14/100\n",
      "955/955 [==============================] - 1s 1ms/step - loss: 0.0014 - val_loss: 0.0012\n",
      "Epoch 15/100\n",
      "955/955 [==============================] - 2s 2ms/step - loss: 0.0014 - val_loss: 0.0014\n",
      "Epoch 16/100\n",
      "955/955 [==============================] - 1s 1ms/step - loss: 0.0013 - val_loss: 0.0012\n",
      "Epoch 17/100\n",
      "955/955 [==============================] - 1s 1ms/step - loss: 0.0013 - val_loss: 0.0011\n",
      "Epoch 18/100\n",
      "955/955 [==============================] - 1s 1ms/step - loss: 0.0013 - val_loss: 0.0016\n",
      "Epoch 19/100\n",
      "955/955 [==============================] - 1s 1ms/step - loss: 0.0013 - val_loss: 0.0012\n",
      "Epoch 20/100\n",
      "955/955 [==============================] - 1s 1ms/step - loss: 0.0013 - val_loss: 0.0011\n",
      "Epoch 21/100\n",
      "955/955 [==============================] - 1s 1ms/step - loss: 0.0012 - val_loss: 0.0015\n",
      "Epoch 22/100\n",
      "955/955 [==============================] - 1s 1ms/step - loss: 0.0012 - val_loss: 0.0011\n",
      "Epoch 23/100\n",
      "955/955 [==============================] - 1s 1ms/step - loss: 0.0012 - val_loss: 0.0010\n",
      "Epoch 24/100\n",
      "955/955 [==============================] - 1s 1ms/step - loss: 0.0011 - val_loss: 8.5643e-04\n",
      "Epoch 25/100\n",
      "955/955 [==============================] - 1s 1ms/step - loss: 0.0011 - val_loss: 8.8745e-04\n",
      "Epoch 26/100\n",
      "955/955 [==============================] - 1s 1ms/step - loss: 0.0010 - val_loss: 8.6785e-04\n",
      "Epoch 27/100\n",
      "955/955 [==============================] - 1s 1ms/step - loss: 9.6370e-04 - val_loss: 7.6930e-04\n",
      "Epoch 28/100\n",
      "955/955 [==============================] - 1s 1ms/step - loss: 9.3012e-04 - val_loss: 7.2957e-04\n",
      "Epoch 29/100\n",
      "955/955 [==============================] - 1s 1ms/step - loss: 9.1734e-04 - val_loss: 7.7225e-04\n",
      "Epoch 30/100\n",
      "955/955 [==============================] - 2s 2ms/step - loss: 8.4618e-04 - val_loss: 7.0293e-04\n",
      "Epoch 31/100\n",
      "955/955 [==============================] - 1s 1ms/step - loss: 8.3329e-04 - val_loss: 7.7601e-04\n",
      "Epoch 32/100\n",
      "955/955 [==============================] - 1s 1ms/step - loss: 7.6802e-04 - val_loss: 5.7970e-04\n",
      "Epoch 33/100\n",
      "955/955 [==============================] - 1s 1ms/step - loss: 7.3556e-04 - val_loss: 6.7078e-04\n",
      "Epoch 34/100\n",
      "955/955 [==============================] - 1s 1ms/step - loss: 6.9407e-04 - val_loss: 5.1769e-04\n",
      "Epoch 35/100\n",
      "955/955 [==============================] - 1s 1ms/step - loss: 6.9129e-04 - val_loss: 0.0010\n",
      "Epoch 36/100\n",
      "955/955 [==============================] - 1s 1ms/step - loss: 6.3381e-04 - val_loss: 6.3059e-04\n",
      "Epoch 37/100\n",
      "955/955 [==============================] - 1s 1ms/step - loss: 5.9610e-04 - val_loss: 6.4520e-04\n",
      "Epoch 38/100\n",
      "955/955 [==============================] - 1s 1ms/step - loss: 5.6820e-04 - val_loss: 4.7084e-04\n",
      "Epoch 39/100\n",
      "955/955 [==============================] - 1s 1ms/step - loss: 5.7429e-04 - val_loss: 4.1486e-04\n",
      "Epoch 40/100\n",
      "955/955 [==============================] - 1s 1ms/step - loss: 5.3328e-04 - val_loss: 4.2538e-04\n",
      "Epoch 41/100\n",
      "955/955 [==============================] - 1s 1ms/step - loss: 5.3018e-04 - val_loss: 4.0369e-04\n",
      "Epoch 42/100\n",
      "955/955 [==============================] - 1s 1ms/step - loss: 5.2511e-04 - val_loss: 4.1857e-04\n",
      "Epoch 43/100\n",
      "955/955 [==============================] - 1s 1ms/step - loss: 5.1610e-04 - val_loss: 4.2911e-04\n",
      "Epoch 44/100\n",
      "955/955 [==============================] - 1s 1ms/step - loss: 4.9488e-04 - val_loss: 3.9586e-04\n",
      "Epoch 45/100\n",
      "955/955 [==============================] - 1s 1ms/step - loss: 4.9536e-04 - val_loss: 4.6432e-04\n",
      "Epoch 46/100\n",
      "955/955 [==============================] - 1s 1ms/step - loss: 5.1983e-04 - val_loss: 3.9643e-04\n",
      "Epoch 47/100\n",
      "955/955 [==============================] - 1s 1ms/step - loss: 5.0419e-04 - val_loss: 3.8719e-04\n",
      "Epoch 48/100\n",
      "955/955 [==============================] - 1s 1ms/step - loss: 4.9784e-04 - val_loss: 4.2668e-04\n",
      "Epoch 49/100\n",
      "955/955 [==============================] - 1s 1ms/step - loss: 4.8885e-04 - val_loss: 4.0507e-04\n",
      "Epoch 50/100\n",
      "955/955 [==============================] - 1s 1ms/step - loss: 5.1002e-04 - val_loss: 3.9024e-04\n",
      "Epoch 51/100\n",
      "955/955 [==============================] - 1s 1ms/step - loss: 5.0148e-04 - val_loss: 3.8361e-04\n",
      "Epoch 52/100\n",
      "955/955 [==============================] - 1s 1ms/step - loss: 5.1583e-04 - val_loss: 4.0543e-04\n",
      "Epoch 53/100\n",
      "955/955 [==============================] - 1s 1ms/step - loss: 4.9847e-04 - val_loss: 4.6179e-04\n",
      "Epoch 54/100\n",
      "955/955 [==============================] - 1s 1ms/step - loss: 5.0102e-04 - val_loss: 4.0032e-04\n",
      "Epoch 55/100\n",
      "955/955 [==============================] - 1s 1ms/step - loss: 4.9262e-04 - val_loss: 3.7426e-04\n",
      "Epoch 56/100\n",
      "955/955 [==============================] - 1s 1ms/step - loss: 5.0751e-04 - val_loss: 3.8080e-04\n",
      "Epoch 57/100\n",
      "955/955 [==============================] - 1s 1ms/step - loss: 5.0472e-04 - val_loss: 3.8296e-04\n",
      "Epoch 58/100\n",
      "955/955 [==============================] - 1s 1ms/step - loss: 4.7739e-04 - val_loss: 4.0231e-04\n",
      "Epoch 59/100\n",
      "955/955 [==============================] - 1s 1ms/step - loss: 4.8594e-04 - val_loss: 4.1049e-04\n",
      "Epoch 60/100\n",
      "955/955 [==============================] - 1s 1ms/step - loss: 4.9604e-04 - val_loss: 4.4044e-04\n",
      "Epoch 61/100\n",
      "955/955 [==============================] - 1s 1ms/step - loss: 5.0553e-04 - val_loss: 6.9301e-04\n",
      "Epoch 62/100\n",
      "955/955 [==============================] - 1s 1ms/step - loss: 5.0185e-04 - val_loss: 3.7907e-04\n",
      "Epoch 63/100\n",
      "955/955 [==============================] - 1s 1ms/step - loss: 4.8749e-04 - val_loss: 4.0179e-04\n",
      "Epoch 64/100\n",
      "955/955 [==============================] - 1s 1ms/step - loss: 5.1949e-04 - val_loss: 3.8233e-04\n",
      "Epoch 65/100\n",
      "955/955 [==============================] - 1s 1ms/step - loss: 4.9392e-04 - val_loss: 4.2349e-04\n"
     ]
    }
   ],
   "source": [
    "history = model.fit(X_treino, y_treino, epochs=100,\n",
    "                            callbacks=early_stopping, validation_data=(X_val, y_val),\n",
    "                            batch_size=batch_size)\n",
    "treinamento = pd.DataFrame(history.history)"
   ]
  },
  {
   "cell_type": "markdown",
   "id": "091eb535",
   "metadata": {},
   "source": [
    "## Teste com o melhor modelo"
   ]
  },
  {
   "cell_type": "code",
   "execution_count": 40,
   "id": "4ad5c62a",
   "metadata": {},
   "outputs": [],
   "source": [
    "y_pred = model.predict(X_teste)"
   ]
  },
  {
   "cell_type": "code",
   "execution_count": 71,
   "id": "8bdab65a",
   "metadata": {},
   "outputs": [
    {
     "data": {
      "application/vnd.jupyter.widget-view+json": {
       "model_id": "a442096abb614540aa8a21d0c577bc2a",
       "version_major": 2,
       "version_minor": 0
      },
      "text/plain": [
       "Canvas(toolbar=Toolbar(toolitems=[('Home', 'Reset original view', 'home', 'home'), ('Back', 'Back to previous …"
      ]
     },
     "metadata": {},
     "output_type": "display_data"
    }
   ],
   "source": [
    "fig, ax = plt.subplots(figsize=(6.8,6))\n",
    "\n",
    "ax.plot(instantes_temporais[len(instantes_temporais)-int(len(instantes_temporais)*tam_teste):,], y_teste, color='DodgerBlue', label='Valor real')\n",
    "ax.plot(instantes_temporais[len(instantes_temporais)-int(len(instantes_temporais)*tam_teste):,], y_pred, color='Crimson', label='MLP')\n",
    "\n",
    "ax.set_title('Comparação da predição da MLP com o valor real da equação de Mackey-Glass\\n para ' + r'$\\tau =$ ' + str(tau) + r', $\\beta =$ ' + str(beta) + r', $\\gamma =$ ' + str(gamma) + r', $n =$ ' + str(n) + r', $\\theta =$ ' + str(theta) + ' e P(0) = ' + str(0.1*theta) + ',\\n utilizando a rede neural ótima no conjunto de teste')\n",
    "ax.set_ylabel('P(t)')\n",
    "ax.set_xlabel('t')\n",
    "ax.set_xlim(5000*(1-tam_teste), 5000)\n",
    "    \n",
    "ax.grid(True)\n",
    "sns.despine()\n",
    "ax.legend()\n",
    "\n",
    "plt.show()\n",
    "fig.savefig(\"../../../../images/mlp-basica/performance/mlp-vs-mackeyglass.png\")"
   ]
  },
  {
   "cell_type": "code",
   "execution_count": 70,
   "id": "dd594563",
   "metadata": {},
   "outputs": [],
   "source": [
    "model.save(\"../../../../models/mlp-basica/mlp-basica-mackeyglass.h5\", include_optimizer=False)"
   ]
  }
 ],
 "metadata": {
  "kernelspec": {
   "display_name": "Python 3",
   "language": "python",
   "name": "python3"
  },
  "language_info": {
   "codemirror_mode": {
    "name": "ipython",
    "version": 3
   },
   "file_extension": ".py",
   "mimetype": "text/x-python",
   "name": "python",
   "nbconvert_exporter": "python",
   "pygments_lexer": "ipython3",
   "version": "3.8.0"
  }
 },
 "nbformat": 4,
 "nbformat_minor": 5
}
