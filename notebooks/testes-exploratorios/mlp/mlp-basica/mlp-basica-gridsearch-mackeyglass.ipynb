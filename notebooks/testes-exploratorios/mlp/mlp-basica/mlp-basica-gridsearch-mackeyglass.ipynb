{
 "cells": [
  {
   "cell_type": "markdown",
   "id": "04bbd152",
   "metadata": {},
   "source": [
    "# Implementando uma MLP básica com Grid Search para escolher melhor os parâmetros no sistema de Mackey-Glass"
   ]
  },
  {
   "cell_type": "markdown",
   "id": "5a8edf6f",
   "metadata": {},
   "source": [
    "## 1. Importando as bibliotecas necessárias"
   ]
  },
  {
   "cell_type": "markdown",
   "id": "c441a10e",
   "metadata": {},
   "source": [
    "### 1.1 Bibliotecas gerais"
   ]
  },
  {
   "cell_type": "code",
   "execution_count": 1,
   "id": "4bced535",
   "metadata": {},
   "outputs": [],
   "source": [
    "%matplotlib widget\n",
    "import numpy as np\n",
    "import pandas as pd\n",
    "import matplotlib.pyplot as plt\n",
    "import seaborn as sns # a biblioteca 'seaborn' contém vários estilos para os gráficos do 'matpĺotlib'\n",
    "\n",
    "# agora, melhoramos a qualidade de saida e de visualizacao da imagem \n",
    "# alem de mudar a fonte padrao para uma do latex\n",
    "sns.set_style(\"ticks\")\n",
    "plt.rcParams['savefig.dpi'] = 200\n",
    "plt.rcParams[\"figure.dpi\"] = 100\n",
    "\n",
    "plt.rcParams.update({\n",
    "    \"text.usetex\": True,\n",
    "    \"font.family\": \"serif\",\n",
    "    \"font.serif\": [\"Palatino\"],\n",
    "})\n",
    "plt.style.use('dark_background')"
   ]
  },
  {
   "cell_type": "markdown",
   "id": "38b6a51a",
   "metadata": {},
   "source": [
    "### 1.2 Bibliotecas para MLP"
   ]
  },
  {
   "cell_type": "code",
   "execution_count": 2,
   "id": "0e224cb7",
   "metadata": {},
   "outputs": [],
   "source": [
    "import tensorflow as tf\n",
    "physical_devices = tf.config.list_physical_devices('GPU')\n",
    "\n",
    "from tensorflow import keras"
   ]
  },
  {
   "cell_type": "code",
   "execution_count": 3,
   "id": "f67e70da",
   "metadata": {},
   "outputs": [],
   "source": [
    "from sklearn.model_selection import GridSearchCV\n",
    "from sklearn.model_selection import train_test_split"
   ]
  },
  {
   "cell_type": "code",
   "execution_count": 4,
   "id": "19fef0f8",
   "metadata": {},
   "outputs": [],
   "source": [
    "from tensorflow.keras.wrappers.scikit_learn import KerasRegressor"
   ]
  },
  {
   "cell_type": "markdown",
   "id": "d56bfa44",
   "metadata": {},
   "source": [
    "### 1.3 Bibliotecas dos sistemas caóticos"
   ]
  },
  {
   "cell_type": "code",
   "execution_count": 6,
   "id": "4911e635",
   "metadata": {},
   "outputs": [],
   "source": [
    "import sys \n",
    "sys.path.insert(0, '../../../../scripts')\n",
    "\n",
    "import timeseries as times\n",
    "import mackeyglassequations as mgeq"
   ]
  },
  {
   "cell_type": "markdown",
   "id": "9cd5c891",
   "metadata": {},
   "source": [
    "## 2. Gerando a série temporal"
   ]
  },
  {
   "cell_type": "code",
   "execution_count": 16,
   "id": "4305a679",
   "metadata": {},
   "outputs": [],
   "source": [
    "t_inicial = 0\n",
    "t_final = 5000\n",
    "tau = 22\n",
    "n = 10\n",
    "gamma = 0.1\n",
    "beta = 0.2\n",
    "theta = 1"
   ]
  },
  {
   "cell_type": "code",
   "execution_count": 17,
   "id": "91ddd757",
   "metadata": {},
   "outputs": [],
   "source": [
    "macglass = mgeq.MackeyGlass(tau=tau, gamma=gamma, beta=beta, n=n, theta=theta)"
   ]
  },
  {
   "cell_type": "code",
   "execution_count": 18,
   "id": "b5c50624",
   "metadata": {},
   "outputs": [
    {
     "name": "stdout",
     "output_type": "stream",
     "text": [
      "Generating, compiling, and loading C code.\n",
      "Using default integration parameters.\n"
     ]
    }
   ],
   "source": [
    "solucoes, instantes_temporais = macglass.calcular(t_inicial = t_inicial, t_final = t_final)"
   ]
  },
  {
   "cell_type": "markdown",
   "id": "275c8bdd",
   "metadata": {},
   "source": [
    "### 3.a) Série Temporal I de Mackey-Glass"
   ]
  },
  {
   "cell_type": "code",
   "execution_count": 19,
   "id": "1ce133b1",
   "metadata": {},
   "outputs": [
    {
     "data": {
      "application/vnd.jupyter.widget-view+json": {
       "model_id": "1b1c4e94815a4cefa046e787b2f8326a",
       "version_major": 2,
       "version_minor": 0
      },
      "text/plain": [
       "Canvas(toolbar=Toolbar(toolitems=[('Home', 'Reset original view', 'home', 'home'), ('Back', 'Back to previous …"
      ]
     },
     "metadata": {},
     "output_type": "display_data"
    }
   ],
   "source": [
    "fig, ax = plt.subplots()\n",
    "ax.set_title('Série temporal de 0 a 600 dias da equação de Mackey-Glass para\\n' + r'$\\tau =$ ' + str(tau) + r', $\\beta =$ ' + str(beta) + r', $\\gamma =$ ' + str(gamma) + r', $n =$ ' + str(n) + r' e $\\theta =$ ' + str(theta) + ' utilizando P(0) = ' + str(0.1*theta))\n",
    "ax.plot(instantes_temporais, solucoes, color='Crimson')\n",
    "\n",
    "ax.set_ylabel('P(t)')\n",
    "ax.set_xlabel('t')\n",
    "ax.set_xlim(0,600)\n",
    "    \n",
    "ax.grid(True)\n",
    "\n",
    "fig.tight_layout()\n",
    "sns.despine()\n",
    "plt.show()"
   ]
  },
  {
   "cell_type": "markdown",
   "id": "ed1d3533",
   "metadata": {},
   "source": [
    "### 2.1 Dividindo em um conjunto de treinamento e de teste, para K = 4 e L = 3"
   ]
  },
  {
   "cell_type": "code",
   "execution_count": 42,
   "id": "e8b7df2e",
   "metadata": {},
   "outputs": [],
   "source": [
    "K = 4\n",
    "L = 3\n",
    "tam_teste = 0.15"
   ]
  },
  {
   "cell_type": "code",
   "execution_count": 60,
   "id": "9c002e61",
   "metadata": {},
   "outputs": [],
   "source": [
    "x = np.array(solucoes)\n",
    "x = np.reshape(x, (1, len(x)))\n",
    "x = x[0]"
   ]
  },
  {
   "cell_type": "code",
   "execution_count": 62,
   "id": "87793c41",
   "metadata": {},
   "outputs": [],
   "source": [
    "serie_temporal = times.SerieTemporal(x, K=K, L=L)"
   ]
  },
  {
   "cell_type": "code",
   "execution_count": 63,
   "id": "a358cf0f",
   "metadata": {},
   "outputs": [],
   "source": [
    "serie_temporal.criar_matrizes()"
   ]
  },
  {
   "cell_type": "code",
   "execution_count": 64,
   "id": "edc136bb",
   "metadata": {},
   "outputs": [],
   "source": [
    "X_treino, X_teste, y_treino, y_teste = serie_temporal.dividir_treino_teste(tam_teste)"
   ]
  },
  {
   "cell_type": "markdown",
   "id": "56cb4e4e",
   "metadata": {},
   "source": [
    "## 3. Definindo o modelo para a MLP"
   ]
  },
  {
   "cell_type": "markdown",
   "id": "d8bf2f33",
   "metadata": {},
   "source": [
    "### 3.1 Definindo função para criar a MLP"
   ]
  },
  {
   "cell_type": "code",
   "execution_count": 68,
   "id": "48bf8a5d",
   "metadata": {},
   "outputs": [],
   "source": [
    "def criar_modelo(batch_normalization='OFF', learning_rate=0.001, activation='selu', init_mode='lecun_normal', n_neurons=30):\n",
    "\n",
    "    optimizer_gs = optimizer\n",
    "    optimizer_gs.learning_rate.assign(learning_rate)\n",
    "    \n",
    "    model = keras.Sequential(name=\"MLP-1-camada-intermediaria\")\n",
    "    model.add(keras.layers.Dense(K, input_dim=K, name=\"camada_de_entrada\", activation = 'linear'))\n",
    "    if (batch_normalization == 'ON'):\n",
    "        model.add(keras.layers.BatchNormalization(name=\"camada_de_batch_normalization\"))\n",
    "    model.add(keras.layers.Dense(n_neurons, input_dim=K, activation=activation, kernel_initializer=init_mode, name=\"camada_intermediaria\"))\n",
    "    model.add(keras.layers.Dense(1, activation='linear', name=\"camada_de_saida\"))\n",
    "    \n",
    "    model.compile(\n",
    "        optimizer = optimizer_gs,\n",
    "        loss = loss)\n",
    "    \n",
    "    model.build()\n",
    "    return model"
   ]
  },
  {
   "cell_type": "markdown",
   "id": "e33fa4a1",
   "metadata": {},
   "source": [
    "Utilizaremos os seguintes parâmetros no *Grid Search*:"
   ]
  },
  {
   "cell_type": "code",
   "execution_count": 69,
   "id": "e3079eb1",
   "metadata": {},
   "outputs": [],
   "source": [
    "param_grid = dict(batch_size=[2, 4, 8, 16, 32], \n",
    "                  batch_normalization=['ON', 'OFF'], \n",
    "                  activation=['selu', 'relu', 'elu', 'sigmoid', 'tanh'], \n",
    "                  init_mode = ['lecun_uniform', 'lecun_normal', 'glorot_normal', 'glorot_uniform', 'he_normal', 'he_uniform'],\n",
    "                  n_neurons = [5, 10, 15, 20, 30, 50, 75, 100],\n",
    "                  learning_rate = [0.001, 0.003, 0.005, 0.008, 0.01])"
   ]
  },
  {
   "cell_type": "markdown",
   "id": "4ab8d327",
   "metadata": {},
   "source": [
    "Para facilitar, dividiremos esse processo em etapas."
   ]
  },
  {
   "cell_type": "markdown",
   "id": "82516460",
   "metadata": {},
   "source": [
    "### 3.2 Definindo parâmetros que não serão definidos pelo *Grid Search*"
   ]
  },
  {
   "cell_type": "code",
   "execution_count": 70,
   "id": "a97b2a5a",
   "metadata": {},
   "outputs": [],
   "source": [
    "loss = \"mean_squared_error\"\n",
    "optimizer = keras.optimizers.Nadam()"
   ]
  },
  {
   "cell_type": "markdown",
   "id": "a1420ae6",
   "metadata": {},
   "source": [
    "### 3.3 Definindo e executando o primeiro *Grid Search*"
   ]
  },
  {
   "cell_type": "markdown",
   "id": "6bce6124",
   "metadata": {},
   "source": [
    "Primeiro, avaliaremos o impacto do *batch size* e da camada de *batch normalization*."
   ]
  },
  {
   "cell_type": "code",
   "execution_count": 71,
   "id": "59cb4a7f",
   "metadata": {},
   "outputs": [],
   "source": [
    "param_grid_1 = dict(batch_size=[2, 4, 8, 16, 32], \n",
    "                  batch_normalization=['ON', 'OFF'])"
   ]
  },
  {
   "cell_type": "code",
   "execution_count": 72,
   "id": "dd7334d1",
   "metadata": {},
   "outputs": [],
   "source": [
    "model_cv_1 = KerasRegressor(build_fn=criar_modelo, epochs=100, verbose=0)"
   ]
  },
  {
   "cell_type": "code",
   "execution_count": 73,
   "id": "a321f2dc",
   "metadata": {},
   "outputs": [],
   "source": [
    "grid = GridSearchCV(estimator=model_cv_1, param_grid=param_grid_1, n_jobs=1, cv=4, scoring='neg_mean_squared_error', verbose=1)"
   ]
  },
  {
   "cell_type": "code",
   "execution_count": 74,
   "id": "dec94193",
   "metadata": {},
   "outputs": [
    {
     "name": "stdout",
     "output_type": "stream",
     "text": [
      "Fitting 4 folds for each of 10 candidates, totalling 40 fits\n"
     ]
    }
   ],
   "source": [
    "grid_result = grid.fit(X_treino, y_treino)"
   ]
  },
  {
   "cell_type": "code",
   "execution_count": 75,
   "id": "78119885",
   "metadata": {},
   "outputs": [
    {
     "name": "stdout",
     "output_type": "stream",
     "text": [
      "Best: -0.000548 using {'batch_normalization': 'OFF', 'batch_size': 2}\n"
     ]
    }
   ],
   "source": [
    "print(\"Best: %f using %s\" % (grid_result.best_score_, grid_result.best_params_))"
   ]
  },
  {
   "cell_type": "code",
   "execution_count": 76,
   "id": "fe9a8d0c",
   "metadata": {},
   "outputs": [
    {
     "name": "stdout",
     "output_type": "stream",
     "text": [
      "-0.079693 (0.039688) with: {'batch_normalization': 'ON', 'batch_size': 2}\n",
      "-0.014648 (0.005031) with: {'batch_normalization': 'ON', 'batch_size': 4}\n",
      "-0.007042 (0.004442) with: {'batch_normalization': 'ON', 'batch_size': 8}\n",
      "-0.019222 (0.029663) with: {'batch_normalization': 'ON', 'batch_size': 16}\n",
      "-0.002713 (0.001854) with: {'batch_normalization': 'ON', 'batch_size': 32}\n",
      "-0.000548 (0.000218) with: {'batch_normalization': 'OFF', 'batch_size': 2}\n",
      "-0.000560 (0.000132) with: {'batch_normalization': 'OFF', 'batch_size': 4}\n",
      "-0.000661 (0.000213) with: {'batch_normalization': 'OFF', 'batch_size': 8}\n",
      "-0.000614 (0.000241) with: {'batch_normalization': 'OFF', 'batch_size': 16}\n",
      "-0.001450 (0.001221) with: {'batch_normalization': 'OFF', 'batch_size': 32}\n"
     ]
    }
   ],
   "source": [
    "means = grid_result.cv_results_['mean_test_score']\n",
    "stds = grid_result.cv_results_['std_test_score']\n",
    "params = grid_result.cv_results_['params']\n",
    "for mean, stdev, param in zip(means, stds, params):\n",
    "    print(\"%f (%f) with: %r\" % (mean, stdev, param))"
   ]
  },
  {
   "cell_type": "markdown",
   "id": "2037c1d3",
   "metadata": {},
   "source": [
    "### 3.4 Definindo e executando o segundo *Grid Search*"
   ]
  },
  {
   "cell_type": "markdown",
   "id": "24473f81",
   "metadata": {},
   "source": [
    "Agora, avaliaremos o impacto do *learning rate* do otimizador."
   ]
  },
  {
   "cell_type": "code",
   "execution_count": 77,
   "id": "411106cc",
   "metadata": {},
   "outputs": [],
   "source": [
    "model_cv_2 = KerasRegressor(build_fn=criar_modelo, epochs=100, verbose=0, batch_size=4, batch_normalization='OFF')"
   ]
  },
  {
   "cell_type": "code",
   "execution_count": 78,
   "id": "0ceb4df2",
   "metadata": {},
   "outputs": [],
   "source": [
    "param_grid_2 = dict(learning_rate=[0.001, 0.003, 0.005, 0.008, 0.01])"
   ]
  },
  {
   "cell_type": "code",
   "execution_count": 79,
   "id": "938d0a88",
   "metadata": {},
   "outputs": [],
   "source": [
    "grid = GridSearchCV(estimator=model_cv_2, param_grid=param_grid_2, n_jobs=1, cv=4, scoring='neg_mean_squared_error', verbose=1)"
   ]
  },
  {
   "cell_type": "code",
   "execution_count": 80,
   "id": "65254076",
   "metadata": {},
   "outputs": [
    {
     "name": "stdout",
     "output_type": "stream",
     "text": [
      "Fitting 4 folds for each of 5 candidates, totalling 20 fits\n"
     ]
    }
   ],
   "source": [
    "grid_result = grid.fit(X_treino, y_treino)"
   ]
  },
  {
   "cell_type": "code",
   "execution_count": 81,
   "id": "8205c017",
   "metadata": {},
   "outputs": [
    {
     "name": "stdout",
     "output_type": "stream",
     "text": [
      "Best: -0.000467 using {'learning_rate': 0.001}\n"
     ]
    }
   ],
   "source": [
    "print(\"Best: %f using %s\" % (grid_result.best_score_, grid_result.best_params_))"
   ]
  },
  {
   "cell_type": "code",
   "execution_count": 82,
   "id": "aa7fa96f",
   "metadata": {},
   "outputs": [
    {
     "name": "stdout",
     "output_type": "stream",
     "text": [
      "-0.000467 (0.000137) with: {'learning_rate': 0.001}\n",
      "-0.000634 (0.000213) with: {'learning_rate': 0.003}\n",
      "-0.001303 (0.000945) with: {'learning_rate': 0.005}\n",
      "-0.001094 (0.000368) with: {'learning_rate': 0.008}\n",
      "-0.000923 (0.000415) with: {'learning_rate': 0.01}\n"
     ]
    }
   ],
   "source": [
    "means = grid_result.cv_results_['mean_test_score']\n",
    "stds = grid_result.cv_results_['std_test_score']\n",
    "params = grid_result.cv_results_['params']\n",
    "for mean, stdev, param in zip(means, stds, params):\n",
    "    print(\"%f (%f) with: %r\" % (mean, stdev, param))"
   ]
  },
  {
   "cell_type": "markdown",
   "id": "5bcbd031",
   "metadata": {},
   "source": [
    "### 3.5 Definindo e executando o terceiro *Grid Search*"
   ]
  },
  {
   "cell_type": "markdown",
   "id": "94bca8a2",
   "metadata": {},
   "source": [
    "Agora, avaliaremos o impacto da função de ativação da camada intermediária."
   ]
  },
  {
   "cell_type": "code",
   "execution_count": 83,
   "id": "c7a7eafa",
   "metadata": {},
   "outputs": [],
   "source": [
    "model_cv_3 = KerasRegressor(build_fn=criar_modelo, epochs=100, verbose=0, batch_size=4, batch_normalization='OFF', learning_rate=0.001)"
   ]
  },
  {
   "cell_type": "code",
   "execution_count": 84,
   "id": "b9b6d88e",
   "metadata": {},
   "outputs": [],
   "source": [
    "param_grid_3 = dict(activation=['selu', 'relu', 'elu', 'sigmoid', 'tanh'])"
   ]
  },
  {
   "cell_type": "code",
   "execution_count": 85,
   "id": "3a33874a",
   "metadata": {},
   "outputs": [],
   "source": [
    "grid = GridSearchCV(estimator=model_cv_3, param_grid=param_grid_3, n_jobs=1, cv=4, scoring='neg_mean_squared_error', verbose=1)"
   ]
  },
  {
   "cell_type": "code",
   "execution_count": 86,
   "id": "5d395232",
   "metadata": {},
   "outputs": [
    {
     "name": "stdout",
     "output_type": "stream",
     "text": [
      "Fitting 4 folds for each of 5 candidates, totalling 20 fits\n"
     ]
    }
   ],
   "source": [
    "grid_result = grid.fit(X_treino, y_treino)"
   ]
  },
  {
   "cell_type": "code",
   "execution_count": 87,
   "id": "478ae82b",
   "metadata": {},
   "outputs": [
    {
     "name": "stdout",
     "output_type": "stream",
     "text": [
      "Best: -0.000512 using {'activation': 'tanh'}\n"
     ]
    }
   ],
   "source": [
    "print(\"Best: %f using %s\" % (grid_result.best_score_, grid_result.best_params_))"
   ]
  },
  {
   "cell_type": "code",
   "execution_count": 88,
   "id": "6b54d8b1",
   "metadata": {},
   "outputs": [
    {
     "name": "stdout",
     "output_type": "stream",
     "text": [
      "-0.000671 (0.000351) with: {'activation': 'selu'}\n",
      "-0.000708 (0.000111) with: {'activation': 'relu'}\n",
      "-0.000572 (0.000145) with: {'activation': 'elu'}\n",
      "-0.000926 (0.000323) with: {'activation': 'sigmoid'}\n",
      "-0.000512 (0.000042) with: {'activation': 'tanh'}\n"
     ]
    }
   ],
   "source": [
    "means = grid_result.cv_results_['mean_test_score']\n",
    "stds = grid_result.cv_results_['std_test_score']\n",
    "params = grid_result.cv_results_['params']\n",
    "for mean, stdev, param in zip(means, stds, params):\n",
    "    print(\"%f (%f) with: %r\" % (mean, stdev, param))"
   ]
  },
  {
   "cell_type": "markdown",
   "id": "7b1995ea",
   "metadata": {},
   "source": [
    "### 3.6 Definindo e executando o quarto *Grid Search*"
   ]
  },
  {
   "cell_type": "markdown",
   "id": "2938bb24",
   "metadata": {},
   "source": [
    "Agora, avaliaremos o impacto do inicializador da camada intermediária."
   ]
  },
  {
   "cell_type": "code",
   "execution_count": 31,
   "id": "6c6c5d53",
   "metadata": {},
   "outputs": [],
   "source": [
    "model_cv_4 = KerasRegressor(build_fn=criar_modelo, epochs=100, verbose=0, batch_size=4, batch_normalization='OFF', learning_rate=0.001, activation='tanh')"
   ]
  },
  {
   "cell_type": "code",
   "execution_count": 32,
   "id": "7cde1472",
   "metadata": {},
   "outputs": [],
   "source": [
    "param_grid_4 = dict(init_mode = ['glorot_uniform', 'glorot_normal'])"
   ]
  },
  {
   "cell_type": "code",
   "execution_count": 34,
   "id": "a219cbcd",
   "metadata": {},
   "outputs": [],
   "source": [
    "grid = GridSearchCV(estimator=model_cv_4, param_grid=param_grid_4, n_jobs=1, cv=4, scoring='neg_mean_squared_error', verbose=1)"
   ]
  },
  {
   "cell_type": "code",
   "execution_count": 35,
   "id": "bc7e0a86",
   "metadata": {},
   "outputs": [
    {
     "name": "stdout",
     "output_type": "stream",
     "text": [
      "Fitting 4 folds for each of 2 candidates, totalling 8 fits\n"
     ]
    }
   ],
   "source": [
    "grid_result = grid.fit(X_treino, y_treino)"
   ]
  },
  {
   "cell_type": "code",
   "execution_count": 36,
   "id": "df1413e0",
   "metadata": {},
   "outputs": [
    {
     "name": "stdout",
     "output_type": "stream",
     "text": [
      "Best: -0.002853 using {'init_mode': 'glorot_normal'}\n"
     ]
    }
   ],
   "source": [
    "print(\"Best: %f using %s\" % (grid_result.best_score_, grid_result.best_params_))"
   ]
  },
  {
   "cell_type": "code",
   "execution_count": 37,
   "id": "996e1066",
   "metadata": {},
   "outputs": [
    {
     "name": "stdout",
     "output_type": "stream",
     "text": [
      "-0.005647 (0.005858) with: {'init_mode': 'glorot_uniform'}\n",
      "-0.002853 (0.000296) with: {'init_mode': 'glorot_normal'}\n"
     ]
    }
   ],
   "source": [
    "means = grid_result.cv_results_['mean_test_score']\n",
    "stds = grid_result.cv_results_['std_test_score']\n",
    "params = grid_result.cv_results_['params']\n",
    "for mean, stdev, param in zip(means, stds, params):\n",
    "    print(\"%f (%f) with: %r\" % (mean, stdev, param))"
   ]
  },
  {
   "cell_type": "markdown",
   "id": "25be2449",
   "metadata": {},
   "source": [
    "### 3.7 Definindo e executando o quinto *Grid Search*"
   ]
  },
  {
   "cell_type": "markdown",
   "id": "b4a0ed73",
   "metadata": {},
   "source": [
    "Agora, avaliaremos o número de neurônios na camada intermediária."
   ]
  },
  {
   "cell_type": "code",
   "execution_count": 38,
   "id": "3ee32cb6",
   "metadata": {},
   "outputs": [],
   "source": [
    "model_cv_5 = KerasRegressor(build_fn=criar_modelo, epochs=100, verbose=0, batch_size=8, batch_normalization='OFF', learning_rate=0.003, activation='sigmoid', init_mode='glorot_normal')"
   ]
  },
  {
   "cell_type": "code",
   "execution_count": 39,
   "id": "19be07db",
   "metadata": {},
   "outputs": [],
   "source": [
    "param_grid_5 = dict(n_neurons = [5, 10, 15, 20, 30, 50, 75, 100])"
   ]
  },
  {
   "cell_type": "code",
   "execution_count": 40,
   "id": "afcc8680",
   "metadata": {},
   "outputs": [],
   "source": [
    "grid = GridSearchCV(estimator=model_cv_5, param_grid=param_grid_5, n_jobs=1, cv=4, scoring='neg_mean_squared_error')"
   ]
  },
  {
   "cell_type": "code",
   "execution_count": 41,
   "id": "41e472f4",
   "metadata": {},
   "outputs": [],
   "source": [
    "grid_result = grid.fit(X_treino, y_treino)"
   ]
  },
  {
   "cell_type": "code",
   "execution_count": 42,
   "id": "f9f520ac",
   "metadata": {},
   "outputs": [
    {
     "name": "stdout",
     "output_type": "stream",
     "text": [
      "Best: -0.002392 using {'n_neurons': 50}\n"
     ]
    }
   ],
   "source": [
    "print(\"Best: %f using %s\" % (grid_result.best_score_, grid_result.best_params_))"
   ]
  },
  {
   "cell_type": "code",
   "execution_count": 43,
   "id": "46d92c09",
   "metadata": {},
   "outputs": [
    {
     "name": "stdout",
     "output_type": "stream",
     "text": [
      "-0.070237 (0.028566) with: {'n_neurons': 5}\n",
      "-0.016834 (0.005783) with: {'n_neurons': 10}\n",
      "-0.008536 (0.005339) with: {'n_neurons': 15}\n",
      "-0.009367 (0.005866) with: {'n_neurons': 20}\n",
      "-0.003289 (0.001008) with: {'n_neurons': 30}\n",
      "-0.002392 (0.001208) with: {'n_neurons': 50}\n",
      "-0.004312 (0.001394) with: {'n_neurons': 75}\n",
      "-0.003799 (0.002850) with: {'n_neurons': 100}\n"
     ]
    }
   ],
   "source": [
    "means = grid_result.cv_results_['mean_test_score']\n",
    "stds = grid_result.cv_results_['std_test_score']\n",
    "params = grid_result.cv_results_['params']\n",
    "for mean, stdev, param in zip(means, stds, params):\n",
    "    print(\"%f (%f) with: %r\" % (mean, stdev, param))"
   ]
  },
  {
   "cell_type": "markdown",
   "id": "5e8ac35a",
   "metadata": {},
   "source": [
    "### Treino com o melhor modelo"
   ]
  },
  {
   "cell_type": "code",
   "execution_count": 44,
   "id": "fb2ad976",
   "metadata": {},
   "outputs": [],
   "source": [
    "model = criar_modelo(batch_normalization='OFF', learning_rate=0.003, activation='sigmoid', init_mode='glorot_normal', n_neurons=50)"
   ]
  },
  {
   "cell_type": "code",
   "execution_count": 45,
   "id": "14f30c8c",
   "metadata": {},
   "outputs": [
    {
     "name": "stdout",
     "output_type": "stream",
     "text": [
      "Model: \"MLP-1-camada-intermediaria\"\n",
      "_________________________________________________________________\n",
      "Layer (type)                 Output Shape              Param #   \n",
      "=================================================================\n",
      "camada_de_entrada (Dense)    (None, 4)                 20        \n",
      "_________________________________________________________________\n",
      "camada_intermediaria (Dense) (None, 50)                250       \n",
      "_________________________________________________________________\n",
      "camada_de_saida (Dense)      (None, 1)                 51        \n",
      "=================================================================\n",
      "Total params: 321\n",
      "Trainable params: 321\n",
      "Non-trainable params: 0\n",
      "_________________________________________________________________\n"
     ]
    }
   ],
   "source": [
    "model.summary()"
   ]
  },
  {
   "cell_type": "code",
   "execution_count": 46,
   "id": "d9f83400",
   "metadata": {},
   "outputs": [],
   "source": [
    "X_treino, X_val, y_treino, y_val = train_test_split(X_treino, y_treino, test_size=0.1)"
   ]
  },
  {
   "cell_type": "code",
   "execution_count": 47,
   "id": "0ac561c3",
   "metadata": {},
   "outputs": [],
   "source": [
    "early_stopping = tf.keras.callbacks.EarlyStopping(patience=10, restore_best_weights=True, monitor='val_loss')"
   ]
  },
  {
   "cell_type": "code",
   "execution_count": 48,
   "id": "79166af7",
   "metadata": {},
   "outputs": [],
   "source": [
    "batch_size = 8"
   ]
  },
  {
   "cell_type": "code",
   "execution_count": 49,
   "id": "1d239af6",
   "metadata": {},
   "outputs": [
    {
     "name": "stdout",
     "output_type": "stream",
     "text": [
      "Epoch 1/100\n",
      "478/478 [==============================] - 1s 1ms/step - loss: 0.4624 - val_loss: 0.4394\n",
      "Epoch 2/100\n",
      "478/478 [==============================] - 1s 1ms/step - loss: 0.4581 - val_loss: 0.3851\n",
      "Epoch 3/100\n",
      "478/478 [==============================] - 1s 1ms/step - loss: 0.4322 - val_loss: 0.3855\n",
      "Epoch 4/100\n",
      "478/478 [==============================] - 1s 1ms/step - loss: 0.4281 - val_loss: 0.3926\n",
      "Epoch 5/100\n",
      "478/478 [==============================] - 1s 1ms/step - loss: 0.4295 - val_loss: 0.3948\n",
      "Epoch 6/100\n",
      "478/478 [==============================] - 1s 1ms/step - loss: 0.4139 - val_loss: 0.3778\n",
      "Epoch 7/100\n",
      "478/478 [==============================] - 1s 1ms/step - loss: 0.3831 - val_loss: 0.3002\n",
      "Epoch 8/100\n",
      "478/478 [==============================] - 1s 1ms/step - loss: 0.3076 - val_loss: 0.2280\n",
      "Epoch 9/100\n",
      "478/478 [==============================] - 1s 1ms/step - loss: 0.2375 - val_loss: 0.1986\n",
      "Epoch 10/100\n",
      "478/478 [==============================] - 1s 1ms/step - loss: 0.1899 - val_loss: 0.1467\n",
      "Epoch 11/100\n",
      "478/478 [==============================] - 1s 1ms/step - loss: 0.1541 - val_loss: 0.1458\n",
      "Epoch 12/100\n",
      "478/478 [==============================] - 1s 1ms/step - loss: 0.1268 - val_loss: 0.1111\n",
      "Epoch 13/100\n",
      "478/478 [==============================] - 1s 1ms/step - loss: 0.1105 - val_loss: 0.1177\n",
      "Epoch 14/100\n",
      "478/478 [==============================] - 1s 1ms/step - loss: 0.0956 - val_loss: 0.0881\n",
      "Epoch 15/100\n",
      "478/478 [==============================] - 1s 1ms/step - loss: 0.0827 - val_loss: 0.1070\n",
      "Epoch 16/100\n",
      "478/478 [==============================] - 1s 1ms/step - loss: 0.0778 - val_loss: 0.0795\n",
      "Epoch 17/100\n",
      "478/478 [==============================] - 1s 1ms/step - loss: 0.0726 - val_loss: 0.0974\n",
      "Epoch 18/100\n",
      "478/478 [==============================] - 1s 1ms/step - loss: 0.0678 - val_loss: 0.0737\n",
      "Epoch 19/100\n",
      "478/478 [==============================] - 1s 1ms/step - loss: 0.0581 - val_loss: 0.0720\n",
      "Epoch 20/100\n",
      "478/478 [==============================] - 1s 1ms/step - loss: 0.0568 - val_loss: 0.0652\n",
      "Epoch 21/100\n",
      "478/478 [==============================] - 1s 1ms/step - loss: 0.0543 - val_loss: 0.0635\n",
      "Epoch 22/100\n",
      "478/478 [==============================] - 1s 1ms/step - loss: 0.0483 - val_loss: 0.0640\n",
      "Epoch 23/100\n",
      "478/478 [==============================] - 1s 1ms/step - loss: 0.0522 - val_loss: 0.0687\n",
      "Epoch 24/100\n",
      "478/478 [==============================] - 1s 1ms/step - loss: 0.0491 - val_loss: 0.0642\n",
      "Epoch 25/100\n",
      "478/478 [==============================] - 1s 1ms/step - loss: 0.0441 - val_loss: 0.0573\n",
      "Epoch 26/100\n",
      "478/478 [==============================] - 1s 1ms/step - loss: 0.0435 - val_loss: 0.0550\n",
      "Epoch 27/100\n",
      "478/478 [==============================] - 1s 1ms/step - loss: 0.0403 - val_loss: 0.0545\n",
      "Epoch 28/100\n",
      "478/478 [==============================] - 1s 1ms/step - loss: 0.0416 - val_loss: 0.0488\n",
      "Epoch 29/100\n",
      "478/478 [==============================] - 1s 1ms/step - loss: 0.0375 - val_loss: 0.0482\n",
      "Epoch 30/100\n",
      "478/478 [==============================] - 1s 1ms/step - loss: 0.0371 - val_loss: 0.0490\n",
      "Epoch 31/100\n",
      "478/478 [==============================] - 1s 1ms/step - loss: 0.0331 - val_loss: 0.0428\n",
      "Epoch 32/100\n",
      "478/478 [==============================] - 1s 1ms/step - loss: 0.0343 - val_loss: 0.0438\n",
      "Epoch 33/100\n",
      "478/478 [==============================] - 1s 1ms/step - loss: 0.0315 - val_loss: 0.0405\n",
      "Epoch 34/100\n",
      "478/478 [==============================] - 1s 1ms/step - loss: 0.0289 - val_loss: 0.0314\n",
      "Epoch 35/100\n",
      "478/478 [==============================] - 1s 1ms/step - loss: 0.0238 - val_loss: 0.0259\n",
      "Epoch 36/100\n",
      "478/478 [==============================] - 1s 1ms/step - loss: 0.0210 - val_loss: 0.0232\n",
      "Epoch 37/100\n",
      "478/478 [==============================] - 1s 1ms/step - loss: 0.0189 - val_loss: 0.0230\n",
      "Epoch 38/100\n",
      "478/478 [==============================] - 1s 1ms/step - loss: 0.0179 - val_loss: 0.0204\n",
      "Epoch 39/100\n",
      "478/478 [==============================] - 1s 1ms/step - loss: 0.0157 - val_loss: 0.0184\n",
      "Epoch 40/100\n",
      "478/478 [==============================] - 1s 1ms/step - loss: 0.0152 - val_loss: 0.0167\n",
      "Epoch 41/100\n",
      "478/478 [==============================] - 1s 1ms/step - loss: 0.0128 - val_loss: 0.0142\n",
      "Epoch 42/100\n",
      "478/478 [==============================] - 1s 1ms/step - loss: 0.0125 - val_loss: 0.0130\n",
      "Epoch 43/100\n",
      "478/478 [==============================] - 1s 1ms/step - loss: 0.0111 - val_loss: 0.0134\n",
      "Epoch 44/100\n",
      "478/478 [==============================] - 1s 1ms/step - loss: 0.0112 - val_loss: 0.0103\n",
      "Epoch 45/100\n",
      "478/478 [==============================] - 1s 1ms/step - loss: 0.0101 - val_loss: 0.0105\n",
      "Epoch 46/100\n",
      "478/478 [==============================] - 1s 1ms/step - loss: 0.0101 - val_loss: 0.0098\n",
      "Epoch 47/100\n",
      "478/478 [==============================] - 1s 1ms/step - loss: 0.0096 - val_loss: 0.0112\n",
      "Epoch 48/100\n",
      "478/478 [==============================] - 1s 1ms/step - loss: 0.0088 - val_loss: 0.0087\n",
      "Epoch 49/100\n",
      "478/478 [==============================] - 1s 1ms/step - loss: 0.0082 - val_loss: 0.0073\n",
      "Epoch 50/100\n",
      "478/478 [==============================] - 1s 1ms/step - loss: 0.0072 - val_loss: 0.0072\n",
      "Epoch 51/100\n",
      "478/478 [==============================] - 1s 1ms/step - loss: 0.0074 - val_loss: 0.0100\n",
      "Epoch 52/100\n",
      "478/478 [==============================] - 1s 1ms/step - loss: 0.0070 - val_loss: 0.0069\n",
      "Epoch 53/100\n",
      "478/478 [==============================] - 1s 1ms/step - loss: 0.0066 - val_loss: 0.0053\n",
      "Epoch 54/100\n",
      "478/478 [==============================] - 1s 1ms/step - loss: 0.0068 - val_loss: 0.0050\n",
      "Epoch 55/100\n",
      "478/478 [==============================] - 1s 1ms/step - loss: 0.0065 - val_loss: 0.0054\n",
      "Epoch 56/100\n",
      "478/478 [==============================] - 1s 1ms/step - loss: 0.0061 - val_loss: 0.0055\n",
      "Epoch 57/100\n",
      "478/478 [==============================] - 1s 1ms/step - loss: 0.0063 - val_loss: 0.0055\n",
      "Epoch 58/100\n",
      "478/478 [==============================] - 1s 1ms/step - loss: 0.0054 - val_loss: 0.0059\n",
      "Epoch 59/100\n",
      "478/478 [==============================] - 1s 1ms/step - loss: 0.0051 - val_loss: 0.0045\n",
      "Epoch 60/100\n",
      "478/478 [==============================] - 1s 1ms/step - loss: 0.0058 - val_loss: 0.0046\n",
      "Epoch 61/100\n",
      "478/478 [==============================] - 1s 1ms/step - loss: 0.0045 - val_loss: 0.0043\n",
      "Epoch 62/100\n",
      "478/478 [==============================] - 1s 1ms/step - loss: 0.0049 - val_loss: 0.0078\n",
      "Epoch 63/100\n",
      "478/478 [==============================] - 1s 1ms/step - loss: 0.0057 - val_loss: 0.0042\n",
      "Epoch 64/100\n",
      "478/478 [==============================] - 1s 1ms/step - loss: 0.0051 - val_loss: 0.0037\n",
      "Epoch 65/100\n",
      "478/478 [==============================] - 1s 1ms/step - loss: 0.0042 - val_loss: 0.0037\n",
      "Epoch 66/100\n",
      "478/478 [==============================] - 1s 1ms/step - loss: 0.0042 - val_loss: 0.0038\n",
      "Epoch 67/100\n",
      "478/478 [==============================] - 1s 1ms/step - loss: 0.0042 - val_loss: 0.0045\n",
      "Epoch 68/100\n",
      "478/478 [==============================] - 1s 1ms/step - loss: 0.0040 - val_loss: 0.0037\n",
      "Epoch 69/100\n",
      "478/478 [==============================] - 1s 1ms/step - loss: 0.0041 - val_loss: 0.0049\n",
      "Epoch 70/100\n",
      "478/478 [==============================] - 1s 1ms/step - loss: 0.0040 - val_loss: 0.0065\n",
      "Epoch 71/100\n",
      "478/478 [==============================] - 1s 1ms/step - loss: 0.0039 - val_loss: 0.0034\n",
      "Epoch 72/100\n",
      "478/478 [==============================] - 1s 1ms/step - loss: 0.0039 - val_loss: 0.0033\n",
      "Epoch 73/100\n",
      "478/478 [==============================] - 1s 1ms/step - loss: 0.0037 - val_loss: 0.0032\n",
      "Epoch 74/100\n",
      "478/478 [==============================] - 1s 1ms/step - loss: 0.0040 - val_loss: 0.0032\n",
      "Epoch 75/100\n",
      "478/478 [==============================] - 1s 1ms/step - loss: 0.0036 - val_loss: 0.0028\n",
      "Epoch 76/100\n",
      "478/478 [==============================] - 1s 1ms/step - loss: 0.0036 - val_loss: 0.0030\n",
      "Epoch 77/100\n",
      "478/478 [==============================] - 1s 1ms/step - loss: 0.0034 - val_loss: 0.0041\n",
      "Epoch 78/100\n",
      "478/478 [==============================] - 1s 1ms/step - loss: 0.0031 - val_loss: 0.0039\n",
      "Epoch 79/100\n",
      "478/478 [==============================] - 1s 1ms/step - loss: 0.0034 - val_loss: 0.0027\n",
      "Epoch 80/100\n",
      "478/478 [==============================] - 1s 1ms/step - loss: 0.0029 - val_loss: 0.0024\n",
      "Epoch 81/100\n",
      "478/478 [==============================] - 1s 1ms/step - loss: 0.0033 - val_loss: 0.0025\n",
      "Epoch 82/100\n",
      "478/478 [==============================] - 1s 1ms/step - loss: 0.0032 - val_loss: 0.0040\n",
      "Epoch 83/100\n",
      "478/478 [==============================] - 1s 1ms/step - loss: 0.0032 - val_loss: 0.0032\n",
      "Epoch 84/100\n",
      "478/478 [==============================] - 1s 1ms/step - loss: 0.0029 - val_loss: 0.0029\n",
      "Epoch 85/100\n",
      "478/478 [==============================] - 1s 1ms/step - loss: 0.0029 - val_loss: 0.0037\n",
      "Epoch 86/100\n",
      "478/478 [==============================] - 1s 1ms/step - loss: 0.0035 - val_loss: 0.0025\n",
      "Epoch 87/100\n",
      "478/478 [==============================] - 1s 1ms/step - loss: 0.0030 - val_loss: 0.0039\n",
      "Epoch 88/100\n",
      "478/478 [==============================] - 1s 1ms/step - loss: 0.0030 - val_loss: 0.0026\n",
      "Epoch 89/100\n",
      "478/478 [==============================] - 1s 1ms/step - loss: 0.0028 - val_loss: 0.0023\n",
      "Epoch 90/100\n",
      "478/478 [==============================] - 1s 1ms/step - loss: 0.0026 - val_loss: 0.0023\n",
      "Epoch 91/100\n",
      "478/478 [==============================] - 1s 1ms/step - loss: 0.0026 - val_loss: 0.0022\n",
      "Epoch 92/100\n",
      "478/478 [==============================] - 1s 1ms/step - loss: 0.0028 - val_loss: 0.0025\n",
      "Epoch 93/100\n",
      "478/478 [==============================] - 1s 1ms/step - loss: 0.0028 - val_loss: 0.0030\n",
      "Epoch 94/100\n",
      "478/478 [==============================] - 1s 1ms/step - loss: 0.0028 - val_loss: 0.0020\n",
      "Epoch 95/100\n",
      "478/478 [==============================] - 1s 1ms/step - loss: 0.0027 - val_loss: 0.0022\n",
      "Epoch 96/100\n",
      "478/478 [==============================] - 1s 1ms/step - loss: 0.0025 - val_loss: 0.0025\n",
      "Epoch 97/100\n",
      "478/478 [==============================] - 1s 1ms/step - loss: 0.0028 - val_loss: 0.0021\n",
      "Epoch 98/100\n",
      "478/478 [==============================] - 1s 1ms/step - loss: 0.0027 - val_loss: 0.0029\n",
      "Epoch 99/100\n",
      "478/478 [==============================] - 1s 1ms/step - loss: 0.0025 - val_loss: 0.0032\n",
      "Epoch 100/100\n",
      "478/478 [==============================] - 1s 1ms/step - loss: 0.0022 - val_loss: 0.0021\n"
     ]
    }
   ],
   "source": [
    "history = model.fit(X_treino, y_treino, epochs=100,\n",
    "                            callbacks=early_stopping, validation_data=(X_val, y_val),\n",
    "                            batch_size=batch_size)\n",
    "treinamento = pd.DataFrame(history.history)"
   ]
  },
  {
   "cell_type": "markdown",
   "id": "259e02bf",
   "metadata": {},
   "source": [
    "## Teste com o melhor modelo"
   ]
  },
  {
   "cell_type": "code",
   "execution_count": 50,
   "id": "05d60d04",
   "metadata": {},
   "outputs": [],
   "source": [
    "y_pred = model.predict(X_teste)"
   ]
  },
  {
   "cell_type": "code",
   "execution_count": 57,
   "id": "b3a8ffa9",
   "metadata": {},
   "outputs": [
    {
     "data": {
      "application/vnd.jupyter.widget-view+json": {
       "model_id": "6f4f9fe55af84f1a8dd64cb015d7b3a6",
       "version_major": 2,
       "version_minor": 0
      },
      "text/plain": [
       "Canvas(toolbar=Toolbar(toolitems=[('Home', 'Reset original view', 'home', 'home'), ('Back', 'Back to previous …"
      ]
     },
     "metadata": {},
     "output_type": "display_data"
    }
   ],
   "source": [
    "fig, ax = plt.subplots()\n",
    "ax.plot(n[len(n)-int(len(n)*tam_teste):,], y_teste, color='DodgerBlue', label='Valor real')\n",
    "ax.plot(n[len(n)-int(len(n)*tam_teste):,], y_pred, color='Crimson', label='MLP')\n",
    "\n",
    "ax.set_title(\"Comparação da predição da MLP com o valor real do mapa de Hénon com\\n $x_{0} =$ \" + str(x[0]) + \" e $y_{0} =$ \" + str(y[0]) + \" utilizando a rede neural ótima no conjunto de teste\")\n",
    "ax.set_ylabel('x[n]')\n",
    "ax.set_xlabel('n')\n",
    "ax.set_xlim(4900, 5000)\n",
    "    \n",
    "ax.grid(True)\n",
    "sns.despine()\n",
    "ax.legend()\n",
    "\n",
    "plt.show()\n",
    "fig.savefig(\"../../../../images/mlp-basica/performance/mlp-vs-henon.png\")"
   ]
  },
  {
   "cell_type": "code",
   "execution_count": null,
   "id": "3c94fb4a",
   "metadata": {},
   "outputs": [],
   "source": []
  }
 ],
 "metadata": {
  "kernelspec": {
   "display_name": "Python 3",
   "language": "python",
   "name": "python3"
  },
  "language_info": {
   "codemirror_mode": {
    "name": "ipython",
    "version": 3
   },
   "file_extension": ".py",
   "mimetype": "text/x-python",
   "name": "python",
   "nbconvert_exporter": "python",
   "pygments_lexer": "ipython3",
   "version": "3.8.0"
  }
 },
 "nbformat": 4,
 "nbformat_minor": 5
}
