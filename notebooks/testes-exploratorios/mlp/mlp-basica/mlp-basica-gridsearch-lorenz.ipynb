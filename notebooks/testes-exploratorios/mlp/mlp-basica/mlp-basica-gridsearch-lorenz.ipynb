{
 "cells": [
  {
   "cell_type": "markdown",
   "id": "883aae26",
   "metadata": {},
   "source": [
    "# Implementando uma MLP básica com Grid Search para escolher os melhores parâmetros"
   ]
  },
  {
   "cell_type": "markdown",
   "id": "f5453c3d",
   "metadata": {},
   "source": [
    "## 1. Importando as bibliotecas necessárias"
   ]
  },
  {
   "cell_type": "markdown",
   "id": "d06b04f1",
   "metadata": {},
   "source": [
    "### 1.1 Bibliotecas gerais"
   ]
  },
  {
   "cell_type": "code",
   "execution_count": 1,
   "id": "d3b6f596",
   "metadata": {},
   "outputs": [],
   "source": [
    "%matplotlib widget\n",
    "import numpy as np\n",
    "import pandas as pd\n",
    "import matplotlib.pyplot as plt\n",
    "import seaborn as sns # a biblioteca 'seaborn' contém vários estilos para os gráficos do 'matpĺotlib'\n",
    "\n",
    "# agora, melhoramos a qualidade de saida e de visualizacao da imagem \n",
    "# alem de mudar a fonte padrao para uma do latex\n",
    "sns.set_style(\"ticks\")\n",
    "plt.rcParams['savefig.dpi'] = 200\n",
    "plt.rcParams[\"figure.dpi\"] = 100\n",
    "\n",
    "plt.rcParams.update({\n",
    "    \"text.usetex\": True,\n",
    "    \"font.family\": \"serif\",\n",
    "    \"font.serif\": [\"Palatino\"],\n",
    "})\n",
    "plt.style.use('dark_background')"
   ]
  },
  {
   "cell_type": "markdown",
   "id": "31d7c473",
   "metadata": {},
   "source": [
    "### 1.2 Bibliotecas para MLP"
   ]
  },
  {
   "cell_type": "code",
   "execution_count": 2,
   "id": "1076bf2f",
   "metadata": {},
   "outputs": [],
   "source": [
    "import tensorflow as tf\n",
    "physical_devices = tf.config.list_physical_devices('GPU')\n",
    "tf.config.experimental.set_memory_growth(physical_devices[0], True)\n",
    "\n",
    "from tensorflow import keras\n",
    "from tensorflow.keras import backend as keras_backend"
   ]
  },
  {
   "cell_type": "code",
   "execution_count": 3,
   "id": "3534c514",
   "metadata": {},
   "outputs": [],
   "source": [
    "from sklearn.model_selection import GridSearchCV\n",
    "from sklearn.model_selection import train_test_split\n",
    "\n",
    "from tensorboard.plugins.hparams import api as hp"
   ]
  },
  {
   "cell_type": "code",
   "execution_count": 4,
   "id": "a6ed3b61",
   "metadata": {},
   "outputs": [],
   "source": [
    "from tensorflow.keras.wrappers.scikit_learn import KerasRegressor"
   ]
  },
  {
   "cell_type": "markdown",
   "id": "38e737b1",
   "metadata": {},
   "source": [
    "### 1.3 Bibliotecas dos sistemas caóticos"
   ]
  },
  {
   "cell_type": "code",
   "execution_count": 5,
   "id": "dbb5c037",
   "metadata": {},
   "outputs": [],
   "source": [
    "import sys \n",
    "sys.path.insert(0, '../../../../scripts')\n",
    "\n",
    "import timeseries as times\n",
    "import lorenzsystem as lsys"
   ]
  },
  {
   "cell_type": "markdown",
   "id": "594c9322",
   "metadata": {},
   "source": [
    "## 2. Gerando a série temporal do sistema de Lorenz"
   ]
  },
  {
   "cell_type": "markdown",
   "id": "b9e0b407",
   "metadata": {},
   "source": [
    "Os valores para os parâmetros das equações serão os \"básicos\" apresentados no *paper* original."
   ]
  },
  {
   "cell_type": "code",
   "execution_count": 6,
   "id": "4f9f95ec",
   "metadata": {},
   "outputs": [],
   "source": [
    "t_inicial = 0\n",
    "t_final = 50\n",
    "dt = 0.01"
   ]
  },
  {
   "cell_type": "code",
   "execution_count": 7,
   "id": "6187017e",
   "metadata": {},
   "outputs": [],
   "source": [
    "estado_inicial = np.array([0.1, 0, 0])"
   ]
  },
  {
   "cell_type": "code",
   "execution_count": 8,
   "id": "7c5e2700",
   "metadata": {},
   "outputs": [],
   "source": [
    "sis_lorenz = lsys.SistemaLorenz(estado_inicial, dt=dt)"
   ]
  },
  {
   "cell_type": "code",
   "execution_count": 9,
   "id": "7555388a",
   "metadata": {},
   "outputs": [],
   "source": [
    "solucoes, instantes_temporais = sis_lorenz.calcular(t_inicial = t_inicial, t_final = t_final)"
   ]
  },
  {
   "cell_type": "code",
   "execution_count": 10,
   "id": "59cb0bfc",
   "metadata": {},
   "outputs": [],
   "source": [
    "x = solucoes[:, 0]\n",
    "y = solucoes[:, 1]\n",
    "z = solucoes[:, 2]"
   ]
  },
  {
   "cell_type": "code",
   "execution_count": 11,
   "id": "8678b71f",
   "metadata": {},
   "outputs": [
    {
     "data": {
      "application/vnd.jupyter.widget-view+json": {
       "model_id": "d34946c100cc47c09133c28f7dde16d3",
       "version_major": 2,
       "version_minor": 0
      },
      "text/plain": [
       "Canvas(toolbar=Toolbar(toolitems=[('Home', 'Reset original view', 'home', 'home'), ('Back', 'Back to previous …"
      ]
     },
     "metadata": {},
     "output_type": "display_data"
    }
   ],
   "source": [
    "fig, ax = plt.subplots(3)\n",
    "fig.suptitle(\"Séries temporais de 0 a 100 segundos das coordenadas xyz do Sistema de Lorenz\")\n",
    "ax[0].plot(instantes_temporais, x, color='DeepSkyBlue')\n",
    "\n",
    "ax[0].set_ylabel('x(t)')\n",
    "ax[0].set_xlabel('t')\n",
    "ax[0].set_xlim(0,)\n",
    "    \n",
    "ax[0].grid(True)\n",
    "\n",
    "ax[1].plot(instantes_temporais, y, color='LightCoral')\n",
    "ax[1].set_ylabel('y(t)')\n",
    "ax[1].set_xlabel('t')\n",
    "ax[1].set_xlim(0,)\n",
    "ax[1].grid(True)\n",
    "\n",
    "ax[2].plot(instantes_temporais, z, color='PaleGreen')\n",
    "ax[2].set_ylabel('z(t)')\n",
    "ax[2].set_xlabel('t')\n",
    "ax[2].set_xlim(0,)\n",
    "ax[2].grid(True)\n",
    "\n",
    "fig.tight_layout()\n",
    "sns.despine()\n",
    "plt.show()"
   ]
  },
  {
   "cell_type": "markdown",
   "id": "ad25a574",
   "metadata": {},
   "source": [
    "### 2.1 Dividindo em um conjunto de treinamento e de teste, para K = 4 e L = 3"
   ]
  },
  {
   "cell_type": "code",
   "execution_count": 12,
   "id": "cfc3b192",
   "metadata": {},
   "outputs": [],
   "source": [
    "K = 4\n",
    "L = 3\n",
    "tam_teste = 0.15"
   ]
  },
  {
   "cell_type": "code",
   "execution_count": 13,
   "id": "afce7bd5",
   "metadata": {},
   "outputs": [],
   "source": [
    "serie_temporal = times.SerieTemporal(x, K=K, L=L)"
   ]
  },
  {
   "cell_type": "code",
   "execution_count": 14,
   "id": "5118fc33",
   "metadata": {},
   "outputs": [],
   "source": [
    "serie_temporal.criar_matrizes()"
   ]
  },
  {
   "cell_type": "code",
   "execution_count": 15,
   "id": "446292f5",
   "metadata": {},
   "outputs": [],
   "source": [
    "X_treino, X_teste, y_treino, y_teste = serie_temporal.dividir_treino_teste(tam_teste)"
   ]
  },
  {
   "cell_type": "markdown",
   "id": "39e96c38",
   "metadata": {},
   "source": [
    "## 3. Definindo o modelo para a MLP"
   ]
  },
  {
   "cell_type": "markdown",
   "id": "ded72512",
   "metadata": {},
   "source": [
    "### 3.1 Definindo função para criar a MLP"
   ]
  },
  {
   "cell_type": "code",
   "execution_count": 16,
   "id": "27ef1d8a",
   "metadata": {},
   "outputs": [],
   "source": [
    "def criar_modelo(batch_normalization='OFF', learning_rate=0.001, activation='selu', init_mode='lecun_normal', n_neurons=30):\n",
    "    \n",
    "    keras_backend.clear_session()\n",
    "    optimizer_gs = optimizer\n",
    "    optimizer_gs.learning_rate.assign(learning_rate)\n",
    "    \n",
    "    model = keras.Sequential(name=\"MLP-1-camada-intermediaria\")\n",
    "    model.add(keras.layers.Dense(K, input_dim=K, name=\"camada_de_entrada\", activation = 'linear'))\n",
    "    if (batch_normalization == 'ON'):\n",
    "        model.add(keras.layers.BatchNormalization(name=\"camada_de_batch_normalization\"))\n",
    "    model.add(keras.layers.Dense(n_neurons, input_dim=K, activation=activation, kernel_initializer=init_mode, name=\"camada_intermediaria\"))\n",
    "    model.add(keras.layers.Dense(1, activation='linear', name=\"camada_de_saida\"))\n",
    "    \n",
    "    model.compile(\n",
    "        optimizer = optimizer_gs,\n",
    "        loss = loss)\n",
    "    \n",
    "    model.build()\n",
    "    return model"
   ]
  },
  {
   "cell_type": "markdown",
   "id": "2bd2daa2",
   "metadata": {},
   "source": [
    "Utilizaremos os seguintes parâmetros no *Grid Search*:"
   ]
  },
  {
   "cell_type": "code",
   "execution_count": 17,
   "id": "d546f523",
   "metadata": {},
   "outputs": [],
   "source": [
    "param_grid = dict(batch_size=[2, 4, 8, 16, 32], \n",
    "                  batch_normalization=['ON', 'OFF'], \n",
    "                  activation=['selu', 'relu', 'elu', 'sigmoid', 'tanh'], \n",
    "                  init_mode = ['lecun_uniform', 'lecun_normal', 'glorot_normal', 'glorot_uniform', 'he_normal', 'he_uniform'],\n",
    "                  learning_rate = [0.001, 0.003, 0.005, 0.008, 0.01])"
   ]
  },
  {
   "cell_type": "markdown",
   "id": "717df310",
   "metadata": {},
   "source": [
    "Para facilitar, dividiremos esse processo em etapas."
   ]
  },
  {
   "cell_type": "markdown",
   "id": "9203e33b",
   "metadata": {},
   "source": [
    "### 3.2 Definindo parâmetros que não serão definidos pelo *Grid Search*"
   ]
  },
  {
   "cell_type": "code",
   "execution_count": 18,
   "id": "a404fb49",
   "metadata": {},
   "outputs": [],
   "source": [
    "loss = \"mean_squared_error\"\n",
    "optimizer = keras.optimizers.Nadam()"
   ]
  },
  {
   "cell_type": "code",
   "execution_count": 19,
   "id": "3ef444c7",
   "metadata": {},
   "outputs": [],
   "source": [
    "early_stopping_cv = tf.keras.callbacks.EarlyStopping(patience=10, restore_best_weights=True, monitor='loss')"
   ]
  },
  {
   "cell_type": "markdown",
   "id": "d4df4c1b",
   "metadata": {},
   "source": [
    "### 3.3 Definindo e executando o primeiro *Grid Search*"
   ]
  },
  {
   "cell_type": "markdown",
   "id": "1b6c7784",
   "metadata": {},
   "source": [
    "Primeiro, avaliaremos o impacto do *batch size* e da camada de *batch normalization*."
   ]
  },
  {
   "cell_type": "code",
   "execution_count": 21,
   "id": "ed40a9b0",
   "metadata": {},
   "outputs": [],
   "source": [
    "param_grid_1 = dict(batch_size=[2, 4, 8, 16, 32], \n",
    "                  batch_normalization=['ON', 'OFF'])"
   ]
  },
  {
   "cell_type": "code",
   "execution_count": 17,
   "id": "9a21bcb1",
   "metadata": {},
   "outputs": [],
   "source": [
    "model_cv_1 = KerasRegressor(build_fn=criar_modelo, epochs=100, verbose=0)"
   ]
  },
  {
   "cell_type": "code",
   "execution_count": 22,
   "id": "91d3f64a",
   "metadata": {},
   "outputs": [],
   "source": [
    "grid = GridSearchCV(estimator=model_cv_1, param_grid=param_grid_1, n_jobs=1, cv=4, scoring='neg_mean_squared_error')"
   ]
  },
  {
   "cell_type": "code",
   "execution_count": 23,
   "id": "85d64e11",
   "metadata": {},
   "outputs": [],
   "source": [
    "grid_result = grid.fit(X_treino, y_treino)"
   ]
  },
  {
   "cell_type": "code",
   "execution_count": 24,
   "id": "530e63a8",
   "metadata": {},
   "outputs": [
    {
     "name": "stdout",
     "output_type": "stream",
     "text": [
      "Best: -0.002345 using {'batch_normalization': 'OFF', 'batch_size': 2}\n"
     ]
    }
   ],
   "source": [
    "print(\"Best: %f using %s\" % (grid_result.best_score_, grid_result.best_params_))"
   ]
  },
  {
   "cell_type": "code",
   "execution_count": 25,
   "id": "c95f7fdc",
   "metadata": {},
   "outputs": [
    {
     "name": "stdout",
     "output_type": "stream",
     "text": [
      "-880.265476 (836.886323) with: {'batch_normalization': 'ON', 'batch_size': 2}\n",
      "-6.513526 (6.133123) with: {'batch_normalization': 'ON', 'batch_size': 4}\n",
      "-2.239374 (1.483018) with: {'batch_normalization': 'ON', 'batch_size': 8}\n",
      "-1.178373 (1.102326) with: {'batch_normalization': 'ON', 'batch_size': 16}\n",
      "-0.105025 (0.008642) with: {'batch_normalization': 'ON', 'batch_size': 32}\n",
      "-0.002345 (0.001048) with: {'batch_normalization': 'OFF', 'batch_size': 2}\n",
      "-0.004359 (0.002789) with: {'batch_normalization': 'OFF', 'batch_size': 4}\n",
      "-0.011143 (0.013236) with: {'batch_normalization': 'OFF', 'batch_size': 8}\n",
      "-0.006979 (0.001934) with: {'batch_normalization': 'OFF', 'batch_size': 16}\n",
      "-0.016586 (0.007931) with: {'batch_normalization': 'OFF', 'batch_size': 32}\n"
     ]
    }
   ],
   "source": [
    "means = grid_result.cv_results_['mean_test_score']\n",
    "stds = grid_result.cv_results_['std_test_score']\n",
    "params = grid_result.cv_results_['params']\n",
    "for mean, stdev, param in zip(means, stds, params):\n",
    "    print(\"%f (%f) with: %r\" % (mean, stdev, param))"
   ]
  },
  {
   "cell_type": "markdown",
   "id": "dba8254c",
   "metadata": {},
   "source": [
    "### 3.4 Definindo e executando o segundo *Grid Search*"
   ]
  },
  {
   "cell_type": "markdown",
   "id": "c6e0d7fa",
   "metadata": {},
   "source": [
    "Agora, avaliaremos o impacto do *learning rate* do otimizador."
   ]
  },
  {
   "cell_type": "code",
   "execution_count": 31,
   "id": "588556d1",
   "metadata": {},
   "outputs": [],
   "source": [
    "model_cv_2 = KerasRegressor(build_fn=criar_modelo, epochs=100, verbose=0, batch_size=2, batch_normalization='OFF')"
   ]
  },
  {
   "cell_type": "code",
   "execution_count": 32,
   "id": "1e8bab44",
   "metadata": {},
   "outputs": [],
   "source": [
    "param_grid_2 = dict(learning_rate=[0.001, 0.003, 0.005, 0.008, 0.01])"
   ]
  },
  {
   "cell_type": "code",
   "execution_count": 27,
   "id": "ef5f222a",
   "metadata": {},
   "outputs": [],
   "source": [
    "grid = GridSearchCV(estimator=model_cv_2, param_grid=param_grid_2, n_jobs=1, cv=4, scoring='neg_mean_squared_error')"
   ]
  },
  {
   "cell_type": "code",
   "execution_count": 28,
   "id": "44d6364f",
   "metadata": {},
   "outputs": [],
   "source": [
    "grid_result = grid.fit(X_treino, y_treino)"
   ]
  },
  {
   "cell_type": "code",
   "execution_count": 29,
   "id": "294127cc",
   "metadata": {},
   "outputs": [
    {
     "name": "stdout",
     "output_type": "stream",
     "text": [
      "Best: -0.005364 using {'batch_normalization': 'OFF', 'batch_size': 2, 'learning_rate': 0.001}\n"
     ]
    }
   ],
   "source": [
    "print(\"Best: %f using %s\" % (grid_result.best_score_, grid_result.best_params_))"
   ]
  },
  {
   "cell_type": "code",
   "execution_count": 30,
   "id": "1283dfc5",
   "metadata": {},
   "outputs": [
    {
     "name": "stdout",
     "output_type": "stream",
     "text": [
      "-0.005364 (0.003892) with: {'batch_normalization': 'OFF', 'batch_size': 2, 'learning_rate': 0.001}\n",
      "-0.021907 (0.018123) with: {'batch_normalization': 'OFF', 'batch_size': 2, 'learning_rate': 0.003}\n",
      "-0.017272 (0.010556) with: {'batch_normalization': 'OFF', 'batch_size': 2, 'learning_rate': 0.005}\n",
      "-0.027322 (0.010686) with: {'batch_normalization': 'OFF', 'batch_size': 2, 'learning_rate': 0.008}\n",
      "-0.046148 (0.045759) with: {'batch_normalization': 'OFF', 'batch_size': 2, 'learning_rate': 0.01}\n"
     ]
    }
   ],
   "source": [
    "means = grid_result.cv_results_['mean_test_score']\n",
    "stds = grid_result.cv_results_['std_test_score']\n",
    "params = grid_result.cv_results_['params']\n",
    "for mean, stdev, param in zip(means, stds, params):\n",
    "    print(\"%f (%f) with: %r\" % (mean, stdev, param))"
   ]
  },
  {
   "cell_type": "markdown",
   "id": "216a779a",
   "metadata": {},
   "source": [
    "### 3.5 Definindo e executando o terceiro *Grid Search*"
   ]
  },
  {
   "cell_type": "markdown",
   "id": "7aa02854",
   "metadata": {},
   "source": [
    "Agora, avaliaremos o impacto da função de ativação da camada intermediária."
   ]
  },
  {
   "cell_type": "code",
   "execution_count": 21,
   "id": "0c2c7bf2",
   "metadata": {},
   "outputs": [],
   "source": [
    "param_grid_3 = dict(activation=['selu', 'relu', 'elu', 'sigmoid', 'tanh'])"
   ]
  },
  {
   "cell_type": "code",
   "execution_count": 22,
   "id": "60bb9a10",
   "metadata": {},
   "outputs": [],
   "source": [
    "grid = GridSearchCV(estimator=model_cv_3, param_grid=param_grid_3, n_jobs=1, cv=4, scoring='neg_mean_squared_error')"
   ]
  },
  {
   "cell_type": "code",
   "execution_count": 23,
   "id": "d34a3a35",
   "metadata": {},
   "outputs": [
    {
     "name": "stderr",
     "output_type": "stream",
     "text": [
      "/usr/local/lib/python3.8/dist-packages/sklearn/model_selection/_validation.py:610: FitFailedWarning: Estimator fit failed. The score on this train-test partition for these parameters will be set to nan. Details: \n",
      "Traceback (most recent call last):\n",
      "  File \"/usr/local/lib/python3.8/dist-packages/sklearn/model_selection/_validation.py\", line 593, in _fit_and_score\n",
      "    estimator.fit(X_train, y_train, **fit_params)\n",
      "  File \"/usr/local/lib/python3.8/dist-packages/tensorflow/python/keras/wrappers/scikit_learn.py\", line 157, in fit\n",
      "    self.model = self.build_fn(**self.filter_sk_params(self.build_fn))\n",
      "  File \"<ipython-input-16-72fd68e47f13>\", line 11, in criar_modelo\n",
      "    model.add(keras.layers.Dense(n_neurons, input_dim=K, activation=activation, kernel_initializer=init_mode, name=\"camada_intermediaria\"))\n",
      "  File \"/usr/local/lib/python3.8/dist-packages/tensorflow/python/keras/layers/core.py\", line 1161, in __init__\n",
      "    self.activation = activations.get(activation)\n",
      "  File \"/usr/local/lib/python3.8/dist-packages/tensorflow/python/util/dispatch.py\", line 201, in wrapper\n",
      "    return target(*args, **kwargs)\n",
      "  File \"/usr/local/lib/python3.8/dist-packages/tensorflow/python/keras/activations.py\", line 573, in get\n",
      "    return deserialize(identifier)\n",
      "  File \"/usr/local/lib/python3.8/dist-packages/tensorflow/python/util/dispatch.py\", line 201, in wrapper\n",
      "    return target(*args, **kwargs)\n",
      "  File \"/usr/local/lib/python3.8/dist-packages/tensorflow/python/keras/activations.py\", line 532, in deserialize\n",
      "    return deserialize_keras_object(\n",
      "  File \"/usr/local/lib/python3.8/dist-packages/tensorflow/python/keras/utils/generic_utils.py\", line 377, in deserialize_keras_object\n",
      "    raise ValueError(\n",
      "ValueError: Unknown activation function: logistic\n",
      "\n",
      "  warnings.warn(\"Estimator fit failed. The score on this train-test\"\n",
      "/usr/local/lib/python3.8/dist-packages/sklearn/model_selection/_validation.py:610: FitFailedWarning: Estimator fit failed. The score on this train-test partition for these parameters will be set to nan. Details: \n",
      "Traceback (most recent call last):\n",
      "  File \"/usr/local/lib/python3.8/dist-packages/sklearn/model_selection/_validation.py\", line 593, in _fit_and_score\n",
      "    estimator.fit(X_train, y_train, **fit_params)\n",
      "  File \"/usr/local/lib/python3.8/dist-packages/tensorflow/python/keras/wrappers/scikit_learn.py\", line 157, in fit\n",
      "    self.model = self.build_fn(**self.filter_sk_params(self.build_fn))\n",
      "  File \"<ipython-input-16-72fd68e47f13>\", line 11, in criar_modelo\n",
      "    model.add(keras.layers.Dense(n_neurons, input_dim=K, activation=activation, kernel_initializer=init_mode, name=\"camada_intermediaria\"))\n",
      "  File \"/usr/local/lib/python3.8/dist-packages/tensorflow/python/keras/layers/core.py\", line 1161, in __init__\n",
      "    self.activation = activations.get(activation)\n",
      "  File \"/usr/local/lib/python3.8/dist-packages/tensorflow/python/util/dispatch.py\", line 201, in wrapper\n",
      "    return target(*args, **kwargs)\n",
      "  File \"/usr/local/lib/python3.8/dist-packages/tensorflow/python/keras/activations.py\", line 573, in get\n",
      "    return deserialize(identifier)\n",
      "  File \"/usr/local/lib/python3.8/dist-packages/tensorflow/python/util/dispatch.py\", line 201, in wrapper\n",
      "    return target(*args, **kwargs)\n",
      "  File \"/usr/local/lib/python3.8/dist-packages/tensorflow/python/keras/activations.py\", line 532, in deserialize\n",
      "    return deserialize_keras_object(\n",
      "  File \"/usr/local/lib/python3.8/dist-packages/tensorflow/python/keras/utils/generic_utils.py\", line 377, in deserialize_keras_object\n",
      "    raise ValueError(\n",
      "ValueError: Unknown activation function: logistic\n",
      "\n",
      "  warnings.warn(\"Estimator fit failed. The score on this train-test\"\n",
      "/usr/local/lib/python3.8/dist-packages/sklearn/model_selection/_validation.py:610: FitFailedWarning: Estimator fit failed. The score on this train-test partition for these parameters will be set to nan. Details: \n",
      "Traceback (most recent call last):\n",
      "  File \"/usr/local/lib/python3.8/dist-packages/sklearn/model_selection/_validation.py\", line 593, in _fit_and_score\n",
      "    estimator.fit(X_train, y_train, **fit_params)\n",
      "  File \"/usr/local/lib/python3.8/dist-packages/tensorflow/python/keras/wrappers/scikit_learn.py\", line 157, in fit\n",
      "    self.model = self.build_fn(**self.filter_sk_params(self.build_fn))\n",
      "  File \"<ipython-input-16-72fd68e47f13>\", line 11, in criar_modelo\n",
      "    model.add(keras.layers.Dense(n_neurons, input_dim=K, activation=activation, kernel_initializer=init_mode, name=\"camada_intermediaria\"))\n",
      "  File \"/usr/local/lib/python3.8/dist-packages/tensorflow/python/keras/layers/core.py\", line 1161, in __init__\n",
      "    self.activation = activations.get(activation)\n",
      "  File \"/usr/local/lib/python3.8/dist-packages/tensorflow/python/util/dispatch.py\", line 201, in wrapper\n",
      "    return target(*args, **kwargs)\n",
      "  File \"/usr/local/lib/python3.8/dist-packages/tensorflow/python/keras/activations.py\", line 573, in get\n",
      "    return deserialize(identifier)\n",
      "  File \"/usr/local/lib/python3.8/dist-packages/tensorflow/python/util/dispatch.py\", line 201, in wrapper\n",
      "    return target(*args, **kwargs)\n",
      "  File \"/usr/local/lib/python3.8/dist-packages/tensorflow/python/keras/activations.py\", line 532, in deserialize\n",
      "    return deserialize_keras_object(\n",
      "  File \"/usr/local/lib/python3.8/dist-packages/tensorflow/python/keras/utils/generic_utils.py\", line 377, in deserialize_keras_object\n",
      "    raise ValueError(\n",
      "ValueError: Unknown activation function: logistic\n",
      "\n",
      "  warnings.warn(\"Estimator fit failed. The score on this train-test\"\n",
      "/usr/local/lib/python3.8/dist-packages/sklearn/model_selection/_validation.py:610: FitFailedWarning: Estimator fit failed. The score on this train-test partition for these parameters will be set to nan. Details: \n",
      "Traceback (most recent call last):\n",
      "  File \"/usr/local/lib/python3.8/dist-packages/sklearn/model_selection/_validation.py\", line 593, in _fit_and_score\n",
      "    estimator.fit(X_train, y_train, **fit_params)\n",
      "  File \"/usr/local/lib/python3.8/dist-packages/tensorflow/python/keras/wrappers/scikit_learn.py\", line 157, in fit\n",
      "    self.model = self.build_fn(**self.filter_sk_params(self.build_fn))\n",
      "  File \"<ipython-input-16-72fd68e47f13>\", line 11, in criar_modelo\n",
      "    model.add(keras.layers.Dense(n_neurons, input_dim=K, activation=activation, kernel_initializer=init_mode, name=\"camada_intermediaria\"))\n",
      "  File \"/usr/local/lib/python3.8/dist-packages/tensorflow/python/keras/layers/core.py\", line 1161, in __init__\n",
      "    self.activation = activations.get(activation)\n",
      "  File \"/usr/local/lib/python3.8/dist-packages/tensorflow/python/util/dispatch.py\", line 201, in wrapper\n",
      "    return target(*args, **kwargs)\n",
      "  File \"/usr/local/lib/python3.8/dist-packages/tensorflow/python/keras/activations.py\", line 573, in get\n",
      "    return deserialize(identifier)\n",
      "  File \"/usr/local/lib/python3.8/dist-packages/tensorflow/python/util/dispatch.py\", line 201, in wrapper\n",
      "    return target(*args, **kwargs)\n",
      "  File \"/usr/local/lib/python3.8/dist-packages/tensorflow/python/keras/activations.py\", line 532, in deserialize\n",
      "    return deserialize_keras_object(\n",
      "  File \"/usr/local/lib/python3.8/dist-packages/tensorflow/python/keras/utils/generic_utils.py\", line 377, in deserialize_keras_object\n",
      "    raise ValueError(\n",
      "ValueError: Unknown activation function: logistic\n",
      "\n",
      "  warnings.warn(\"Estimator fit failed. The score on this train-test\"\n",
      "/usr/local/lib/python3.8/dist-packages/sklearn/model_selection/_search.py:918: UserWarning: One or more of the test scores are non-finite: [-0.00421502 -0.0053168  -0.00515019 -0.00762358 -0.00679555         nan]\n",
      "  warnings.warn(\n"
     ]
    }
   ],
   "source": [
    "grid_result = grid.fit(X_treino, y_treino)"
   ]
  },
  {
   "cell_type": "code",
   "execution_count": 24,
   "id": "a3337223",
   "metadata": {},
   "outputs": [
    {
     "name": "stdout",
     "output_type": "stream",
     "text": [
      "Best: -0.004215 using {'activation': 'selu'}\n"
     ]
    }
   ],
   "source": [
    "print(\"Best: %f using %s\" % (grid_result.best_score_, grid_result.best_params_))"
   ]
  },
  {
   "cell_type": "code",
   "execution_count": 25,
   "id": "964cdf57",
   "metadata": {},
   "outputs": [
    {
     "name": "stdout",
     "output_type": "stream",
     "text": [
      "-0.004215 (0.003605) with: {'activation': 'selu'}\n",
      "-0.005317 (0.001054) with: {'activation': 'relu'}\n",
      "-0.005150 (0.002186) with: {'activation': 'elu'}\n",
      "-0.007624 (0.004030) with: {'activation': 'sigmoid'}\n",
      "-0.006796 (0.005910) with: {'activation': 'tanh'}\n",
      "nan (nan) with: {'activation': 'logistic'}\n"
     ]
    }
   ],
   "source": [
    "means = grid_result.cv_results_['mean_test_score']\n",
    "stds = grid_result.cv_results_['std_test_score']\n",
    "params = grid_result.cv_results_['params']\n",
    "for mean, stdev, param in zip(means, stds, params):\n",
    "    print(\"%f (%f) with: %r\" % (mean, stdev, param))"
   ]
  },
  {
   "cell_type": "markdown",
   "id": "130e08c2",
   "metadata": {},
   "source": [
    "### 3.6 Definindo e executando o quarto *Grid Search*"
   ]
  },
  {
   "cell_type": "markdown",
   "id": "f9a14e62",
   "metadata": {},
   "source": [
    "Agora, avaliaremos o impacto do inicializador da camada intermediária."
   ]
  },
  {
   "cell_type": "code",
   "execution_count": 26,
   "id": "eaf305bc",
   "metadata": {},
   "outputs": [],
   "source": [
    "model_cv_4 = KerasRegressor(build_fn=criar_modelo, epochs=100, verbose=0, batch_size=2, batch_normalization='OFF', learning_rate=0.001, activation='selu')"
   ]
  },
  {
   "cell_type": "code",
   "execution_count": 27,
   "id": "6241d060",
   "metadata": {},
   "outputs": [],
   "source": [
    "param_grid_4 = dict(init_mode = ['lecun_uniform', 'lecun_normal'])"
   ]
  },
  {
   "cell_type": "code",
   "execution_count": 28,
   "id": "0d8b7b79",
   "metadata": {},
   "outputs": [],
   "source": [
    "grid = GridSearchCV(estimator=model_cv_4, param_grid=param_grid_4, n_jobs=1, cv=4, scoring='neg_mean_squared_error')"
   ]
  },
  {
   "cell_type": "code",
   "execution_count": 29,
   "id": "9166e0c8",
   "metadata": {},
   "outputs": [],
   "source": [
    "grid_result = grid.fit(X_treino, y_treino)"
   ]
  },
  {
   "cell_type": "code",
   "execution_count": 30,
   "id": "dfec2793",
   "metadata": {},
   "outputs": [
    {
     "name": "stdout",
     "output_type": "stream",
     "text": [
      "Best: -0.002853 using {'init_mode': 'lecun_normal'}\n"
     ]
    }
   ],
   "source": [
    "print(\"Best: %f using %s\" % (grid_result.best_score_, grid_result.best_params_))"
   ]
  },
  {
   "cell_type": "code",
   "execution_count": 31,
   "id": "0e544a06",
   "metadata": {},
   "outputs": [
    {
     "name": "stdout",
     "output_type": "stream",
     "text": [
      "-0.004224 (0.001119) with: {'init_mode': 'lecun_uniform'}\n",
      "-0.002853 (0.001127) with: {'init_mode': 'lecun_normal'}\n"
     ]
    }
   ],
   "source": [
    "means = grid_result.cv_results_['mean_test_score']\n",
    "stds = grid_result.cv_results_['std_test_score']\n",
    "params = grid_result.cv_results_['params']\n",
    "for mean, stdev, param in zip(means, stds, params):\n",
    "    print(\"%f (%f) with: %r\" % (mean, stdev, param))"
   ]
  },
  {
   "cell_type": "markdown",
   "id": "15fccbc6",
   "metadata": {},
   "source": [
    "### Treino com o melhor modelo"
   ]
  },
  {
   "cell_type": "code",
   "execution_count": 32,
   "id": "2a2c4a8f",
   "metadata": {},
   "outputs": [],
   "source": [
    "model = criar_modelo(batch_normalization='OFF', learning_rate=0.001, activation='selu', init_mode='lecun_normal')"
   ]
  },
  {
   "cell_type": "code",
   "execution_count": 33,
   "id": "94f57ac1",
   "metadata": {},
   "outputs": [
    {
     "name": "stdout",
     "output_type": "stream",
     "text": [
      "Model: \"MLP-1-camada-intermediaria\"\n",
      "_________________________________________________________________\n",
      "Layer (type)                 Output Shape              Param #   \n",
      "=================================================================\n",
      "camada_de_entrada (Dense)    (None, 4)                 20        \n",
      "_________________________________________________________________\n",
      "camada_intermediaria (Dense) (None, 30)                150       \n",
      "_________________________________________________________________\n",
      "camada_de_saida (Dense)      (None, 1)                 31        \n",
      "=================================================================\n",
      "Total params: 201\n",
      "Trainable params: 201\n",
      "Non-trainable params: 0\n",
      "_________________________________________________________________\n"
     ]
    }
   ],
   "source": [
    "model.summary()"
   ]
  },
  {
   "cell_type": "code",
   "execution_count": 34,
   "id": "77f37da7",
   "metadata": {},
   "outputs": [],
   "source": [
    "X_treino, X_val, y_treino, y_val = train_test_split(X_treino, y_treino, test_size=0.1)"
   ]
  },
  {
   "cell_type": "code",
   "execution_count": 35,
   "id": "12a52183",
   "metadata": {},
   "outputs": [],
   "source": [
    "early_stopping = tf.keras.callbacks.EarlyStopping(patience=10, restore_best_weights=True, monitor='val_loss')"
   ]
  },
  {
   "cell_type": "code",
   "execution_count": 36,
   "id": "130493e5",
   "metadata": {},
   "outputs": [],
   "source": [
    "batch_size = 2"
   ]
  },
  {
   "cell_type": "code",
   "execution_count": 37,
   "id": "def17050",
   "metadata": {},
   "outputs": [
    {
     "name": "stdout",
     "output_type": "stream",
     "text": [
      "Epoch 1/100\n",
      "1910/1910 [==============================] - 3s 1ms/step - loss: 15.3152 - val_loss: 0.0650\n",
      "Epoch 2/100\n",
      "1910/1910 [==============================] - 2s 1ms/step - loss: 0.0757 - val_loss: 0.0712\n",
      "Epoch 3/100\n",
      "1910/1910 [==============================] - 2s 1ms/step - loss: 0.0673 - val_loss: 0.0348\n",
      "Epoch 4/100\n",
      "1910/1910 [==============================] - 2s 1ms/step - loss: 0.0699 - val_loss: 0.0304\n",
      "Epoch 5/100\n",
      "1910/1910 [==============================] - 2s 1ms/step - loss: 0.0708 - val_loss: 0.0917\n",
      "Epoch 6/100\n",
      "1910/1910 [==============================] - 2s 1ms/step - loss: 0.0555 - val_loss: 0.0456\n",
      "Epoch 7/100\n",
      "1910/1910 [==============================] - 2s 1ms/step - loss: 0.0603 - val_loss: 0.1911\n",
      "Epoch 8/100\n",
      "1910/1910 [==============================] - 2s 1ms/step - loss: 0.0557 - val_loss: 0.0174\n",
      "Epoch 9/100\n",
      "1910/1910 [==============================] - 2s 1ms/step - loss: 0.0383 - val_loss: 0.0320\n",
      "Epoch 10/100\n",
      "1910/1910 [==============================] - 2s 1ms/step - loss: 0.0345 - val_loss: 0.0152\n",
      "Epoch 11/100\n",
      "1910/1910 [==============================] - 2s 1ms/step - loss: 0.0449 - val_loss: 0.0105\n",
      "Epoch 12/100\n",
      "1910/1910 [==============================] - 2s 1ms/step - loss: 0.0354 - val_loss: 0.0259\n",
      "Epoch 13/100\n",
      "1910/1910 [==============================] - 2s 1ms/step - loss: 0.0303 - val_loss: 0.2171\n",
      "Epoch 14/100\n",
      "1910/1910 [==============================] - 2s 1ms/step - loss: 0.0425 - val_loss: 0.0086\n",
      "Epoch 15/100\n",
      "1910/1910 [==============================] - 2s 1ms/step - loss: 0.0230 - val_loss: 0.0203\n",
      "Epoch 16/100\n",
      "1910/1910 [==============================] - 2s 1ms/step - loss: 0.0217 - val_loss: 0.0147\n",
      "Epoch 17/100\n",
      "1910/1910 [==============================] - 2s 1ms/step - loss: 0.0253 - val_loss: 0.0114\n",
      "Epoch 18/100\n",
      "1910/1910 [==============================] - 2s 1ms/step - loss: 0.0257 - val_loss: 0.0175\n",
      "Epoch 19/100\n",
      "1910/1910 [==============================] - 2s 1ms/step - loss: 0.0194 - val_loss: 0.0275\n",
      "Epoch 20/100\n",
      "1910/1910 [==============================] - 2s 1ms/step - loss: 0.0250 - val_loss: 0.0242\n",
      "Epoch 21/100\n",
      "1910/1910 [==============================] - 3s 1ms/step - loss: 0.0202 - val_loss: 0.0051\n",
      "Epoch 22/100\n",
      "1910/1910 [==============================] - 2s 1ms/step - loss: 0.0151 - val_loss: 0.0135\n",
      "Epoch 23/100\n",
      "1910/1910 [==============================] - 2s 1ms/step - loss: 0.0191 - val_loss: 0.0114\n",
      "Epoch 24/100\n",
      "1910/1910 [==============================] - 2s 1ms/step - loss: 0.0181 - val_loss: 0.0257\n",
      "Epoch 25/100\n",
      "1910/1910 [==============================] - 2s 1ms/step - loss: 0.0185 - val_loss: 0.0054\n",
      "Epoch 26/100\n",
      "1910/1910 [==============================] - 2s 1ms/step - loss: 0.0189 - val_loss: 0.0076\n",
      "Epoch 27/100\n",
      "1910/1910 [==============================] - 2s 1ms/step - loss: 0.0129 - val_loss: 0.0038\n",
      "Epoch 28/100\n",
      "1910/1910 [==============================] - 2s 1ms/step - loss: 0.0140 - val_loss: 0.0039\n",
      "Epoch 29/100\n",
      "1910/1910 [==============================] - 2s 1ms/step - loss: 0.0139 - val_loss: 0.0061\n",
      "Epoch 30/100\n",
      "1910/1910 [==============================] - 3s 1ms/step - loss: 0.0115 - val_loss: 0.0046\n",
      "Epoch 31/100\n",
      "1910/1910 [==============================] - 2s 1ms/step - loss: 0.0091 - val_loss: 0.0098\n",
      "Epoch 32/100\n",
      "1910/1910 [==============================] - 3s 1ms/step - loss: 0.0101 - val_loss: 0.0074\n",
      "Epoch 33/100\n",
      "1910/1910 [==============================] - 3s 1ms/step - loss: 0.0094 - val_loss: 0.0048\n",
      "Epoch 34/100\n",
      "1910/1910 [==============================] - 2s 1ms/step - loss: 0.0083 - val_loss: 0.0046\n",
      "Epoch 35/100\n",
      "1910/1910 [==============================] - 2s 1ms/step - loss: 0.0115 - val_loss: 0.0241\n",
      "Epoch 36/100\n",
      "1910/1910 [==============================] - 2s 1ms/step - loss: 0.0091 - val_loss: 0.0077\n",
      "Epoch 37/100\n",
      "1910/1910 [==============================] - 2s 1ms/step - loss: 0.0110 - val_loss: 0.0023\n",
      "Epoch 38/100\n",
      "1910/1910 [==============================] - 2s 1ms/step - loss: 0.0090 - val_loss: 0.0053\n",
      "Epoch 39/100\n",
      "1910/1910 [==============================] - 2s 1ms/step - loss: 0.0060 - val_loss: 0.0084\n",
      "Epoch 40/100\n",
      "1910/1910 [==============================] - 2s 1ms/step - loss: 0.0095 - val_loss: 0.0027\n",
      "Epoch 41/100\n",
      "1910/1910 [==============================] - 2s 1ms/step - loss: 0.0050 - val_loss: 0.0023\n",
      "Epoch 42/100\n",
      "1910/1910 [==============================] - 2s 1ms/step - loss: 0.0072 - val_loss: 0.0024\n",
      "Epoch 43/100\n",
      "1910/1910 [==============================] - 2s 1ms/step - loss: 0.0076 - val_loss: 0.0058\n",
      "Epoch 44/100\n",
      "1910/1910 [==============================] - 2s 1ms/step - loss: 0.0080 - val_loss: 0.0031\n",
      "Epoch 45/100\n",
      "1910/1910 [==============================] - 2s 1ms/step - loss: 0.0062 - val_loss: 0.0058\n",
      "Epoch 46/100\n",
      "1910/1910 [==============================] - 2s 1ms/step - loss: 0.0057 - val_loss: 0.0046\n",
      "Epoch 47/100\n",
      "1910/1910 [==============================] - 3s 1ms/step - loss: 0.0083 - val_loss: 0.0025\n",
      "Epoch 48/100\n",
      "1910/1910 [==============================] - 2s 1ms/step - loss: 0.0068 - val_loss: 0.0046\n",
      "Epoch 49/100\n",
      "1910/1910 [==============================] - 2s 1ms/step - loss: 0.0063 - val_loss: 0.0030\n",
      "Epoch 50/100\n",
      "1910/1910 [==============================] - 2s 1ms/step - loss: 0.0048 - val_loss: 0.0144\n",
      "Epoch 51/100\n",
      "1910/1910 [==============================] - 3s 1ms/step - loss: 0.0065 - val_loss: 0.0026\n"
     ]
    }
   ],
   "source": [
    "history = model.fit(X_treino, y_treino, epochs=100,\n",
    "                            callbacks=early_stopping, validation_data=(X_val, y_val),\n",
    "                            batch_size=batch_size)\n",
    "treinamento = pd.DataFrame(history.history)"
   ]
  },
  {
   "cell_type": "markdown",
   "id": "1998746d",
   "metadata": {},
   "source": [
    "## Teste com o melhor modelo"
   ]
  },
  {
   "cell_type": "code",
   "execution_count": 38,
   "id": "84c88135",
   "metadata": {},
   "outputs": [],
   "source": [
    "y_pred = model.predict(X_teste)"
   ]
  },
  {
   "cell_type": "code",
   "execution_count": 44,
   "id": "6ef45210",
   "metadata": {},
   "outputs": [
    {
     "data": {
      "application/vnd.jupyter.widget-view+json": {
       "model_id": "c8f2b0cc00c44abd98388eb387999910",
       "version_major": 2,
       "version_minor": 0
      },
      "text/plain": [
       "Canvas(toolbar=Toolbar(toolitems=[('Home', 'Reset original view', 'home', 'home'), ('Back', 'Back to previous …"
      ]
     },
     "metadata": {},
     "output_type": "display_data"
    }
   ],
   "source": [
    "fig, ax = plt.subplots()\n",
    "ax.plot(instantes_temporais[len(instantes_temporais)-int(len(instantes_temporais)*tam_teste):,], y_teste, color='DeepSkyBlue', label='Valor real')\n",
    "ax.plot(instantes_temporais[len(instantes_temporais)-int(len(instantes_temporais)*tam_teste):,], y_pred, color='Red', label='MLP')\n",
    "\n",
    "ax.set_title(\"Comparação da predição da MLP com o valor real do sistema de Lorenz \\npara $x_{0} = $ \" + str(estado_inicial[0]) + \", $y_{0} = $ \" + str(estado_inicial[1]) + \", $z_{0} = $ \" + str(estado_inicial[2]) + \" utilizando a rede neural ótima\")\n",
    "ax.set_ylabel('x')\n",
    "ax.set_xlabel('t')\n",
    "ax.set_xlim(42.5, 50)\n",
    "    \n",
    "ax.grid(True)\n",
    "sns.despine()\n",
    "ax.legend()\n",
    "\n",
    "plt.show()"
   ]
  },
  {
   "cell_type": "code",
   "execution_count": null,
   "id": "e6a8ff21",
   "metadata": {},
   "outputs": [],
   "source": []
  }
 ],
 "metadata": {
  "kernelspec": {
   "display_name": "Python 3",
   "language": "python",
   "name": "python3"
  },
  "language_info": {
   "codemirror_mode": {
    "name": "ipython",
    "version": 3
   },
   "file_extension": ".py",
   "mimetype": "text/x-python",
   "name": "python",
   "nbconvert_exporter": "python",
   "pygments_lexer": "ipython3",
   "version": "3.8.0"
  }
 },
 "nbformat": 4,
 "nbformat_minor": 5
}
