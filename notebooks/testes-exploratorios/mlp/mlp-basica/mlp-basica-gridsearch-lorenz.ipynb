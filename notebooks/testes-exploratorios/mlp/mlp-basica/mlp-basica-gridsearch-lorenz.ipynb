{
 "cells": [
  {
   "cell_type": "markdown",
   "id": "18a0bf5b",
   "metadata": {},
   "source": [
    "# Implementando uma MLP básica com Grid Search para escolher os melhores parâmetros no Sistema de Lorenz"
   ]
  },
  {
   "cell_type": "markdown",
   "id": "8794f19d",
   "metadata": {},
   "source": [
    "## 1. Importando as bibliotecas necessárias"
   ]
  },
  {
   "cell_type": "markdown",
   "id": "27c13fd9",
   "metadata": {},
   "source": [
    "### 1.1 Bibliotecas gerais"
   ]
  },
  {
   "cell_type": "code",
   "execution_count": 1,
   "id": "cf928079",
   "metadata": {},
   "outputs": [],
   "source": [
    "%matplotlib widget\n",
    "import numpy as np\n",
    "import pandas as pd\n",
    "import matplotlib.pyplot as plt\n",
    "import seaborn as sns # a biblioteca 'seaborn' contém vários estilos para os gráficos do 'matpĺotlib'\n",
    "\n",
    "# agora, melhoramos a qualidade de saida e de visualizacao da imagem \n",
    "# alem de mudar a fonte padrao para uma do latex\n",
    "sns.set_style(\"ticks\")\n",
    "plt.rcParams['savefig.dpi'] = 200\n",
    "plt.rcParams[\"figure.dpi\"] = 150\n",
    "\n",
    "plt.rcParams.update({\n",
    "    \"text.usetex\": True,\n",
    "    \"font.family\": \"serif\",\n",
    "    \"font.serif\": [\"Palatino\"],\n",
    "})\n",
    "plt.style.use('dark_background')"
   ]
  },
  {
   "cell_type": "markdown",
   "id": "8d468c42",
   "metadata": {},
   "source": [
    "### 1.2 Bibliotecas para MLP"
   ]
  },
  {
   "cell_type": "code",
   "execution_count": 2,
   "id": "91b84b95",
   "metadata": {},
   "outputs": [],
   "source": [
    "import tensorflow as tf\n",
    "physical_devices = tf.config.list_physical_devices('GPU')\n",
    "tf.config.experimental.set_memory_growth(physical_devices[0], True)\n",
    "\n",
    "from tensorflow import keras\n",
    "from tensorflow.keras import backend as keras_backend"
   ]
  },
  {
   "cell_type": "code",
   "execution_count": 3,
   "id": "45f30b50",
   "metadata": {},
   "outputs": [],
   "source": [
    "from sklearn.model_selection import GridSearchCV\n",
    "from sklearn.model_selection import train_test_split"
   ]
  },
  {
   "cell_type": "code",
   "execution_count": 4,
   "id": "6d77431e",
   "metadata": {},
   "outputs": [],
   "source": [
    "from tensorflow.keras.wrappers.scikit_learn import KerasRegressor"
   ]
  },
  {
   "cell_type": "markdown",
   "id": "8f61da63",
   "metadata": {},
   "source": [
    "### 1.3 Bibliotecas dos sistemas caóticos"
   ]
  },
  {
   "cell_type": "code",
   "execution_count": 5,
   "id": "17a58824",
   "metadata": {},
   "outputs": [],
   "source": [
    "import sys \n",
    "sys.path.insert(0, '../../../../scripts')\n",
    "\n",
    "import timeseries as times\n",
    "import lorenzsystem as lsys"
   ]
  },
  {
   "cell_type": "markdown",
   "id": "8f25f81a",
   "metadata": {},
   "source": [
    "## 2. Gerando a série temporal do sistema de Lorenz"
   ]
  },
  {
   "cell_type": "markdown",
   "id": "54861896",
   "metadata": {},
   "source": [
    "Os valores para os parâmetros das equações serão os \"básicos\" apresentados no *paper* original."
   ]
  },
  {
   "cell_type": "code",
   "execution_count": 6,
   "id": "2d4940e9",
   "metadata": {},
   "outputs": [],
   "source": [
    "t_inicial = 0\n",
    "t_final = 50\n",
    "dt = 0.01"
   ]
  },
  {
   "cell_type": "code",
   "execution_count": 7,
   "id": "12697f07",
   "metadata": {},
   "outputs": [],
   "source": [
    "estado_inicial = np.array([0.1, 0, 0])"
   ]
  },
  {
   "cell_type": "code",
   "execution_count": 8,
   "id": "5104470b",
   "metadata": {},
   "outputs": [],
   "source": [
    "sis_lorenz = lsys.SistemaLorenz(estado_inicial, dt=dt)"
   ]
  },
  {
   "cell_type": "code",
   "execution_count": 9,
   "id": "056e851a",
   "metadata": {},
   "outputs": [],
   "source": [
    "solucoes, instantes_temporais = sis_lorenz.calcular(t_inicial = t_inicial, t_final = t_final)"
   ]
  },
  {
   "cell_type": "code",
   "execution_count": 10,
   "id": "5ccca73c",
   "metadata": {},
   "outputs": [],
   "source": [
    "x = solucoes[:, 0]\n",
    "y = solucoes[:, 1]\n",
    "z = solucoes[:, 2]"
   ]
  },
  {
   "cell_type": "code",
   "execution_count": 11,
   "id": "fb078d19",
   "metadata": {},
   "outputs": [
    {
     "data": {
      "application/vnd.jupyter.widget-view+json": {
       "model_id": "035356649e444b3c8b03e832ed5e9f65",
       "version_major": 2,
       "version_minor": 0
      },
      "text/plain": [
       "Canvas(toolbar=Toolbar(toolitems=[('Home', 'Reset original view', 'home', 'home'), ('Back', 'Back to previous …"
      ]
     },
     "metadata": {},
     "output_type": "display_data"
    }
   ],
   "source": [
    "fig, ax = plt.subplots()\n",
    "ax.set_title(\"Série temporal em $\\hat{x}$ de 0 a 50 segundos do Sistema de Lorenz\\n utilizando $\\sigma = 10$, \" + r\"$\\beta =\\frac{8}{3}$, \" + r\"$\\rho=28$, com \" + \"$x(0) =$ \" + str(estado_inicial[0]) + \", $y(0) = $ \" + str(estado_inicial[1]) + \" e $z(0) =$ \" + str(estado_inicial[2]))\n",
    "ax.plot(instantes_temporais, x, color='DodgerBlue')\n",
    "\n",
    "ax.set_ylabel('$x(t)$')\n",
    "ax.set_xlabel('$t$')\n",
    "ax.set_xlim(0,50)\n",
    "ax.grid(True)\n",
    "\n",
    "fig.tight_layout()\n",
    "sns.despine()\n",
    "plt.show()"
   ]
  },
  {
   "cell_type": "markdown",
   "id": "3d6aae52",
   "metadata": {},
   "source": [
    "### 2.1 Dividindo em um conjunto de treinamento e de teste, para K = 4 e L = 3"
   ]
  },
  {
   "cell_type": "code",
   "execution_count": 12,
   "id": "181cf996",
   "metadata": {},
   "outputs": [],
   "source": [
    "K = 4\n",
    "L = 3\n",
    "tam_teste = 0.15"
   ]
  },
  {
   "cell_type": "code",
   "execution_count": 13,
   "id": "74ee098b",
   "metadata": {},
   "outputs": [],
   "source": [
    "serie_temporal = times.SerieTemporal(x, K=K, L=L)"
   ]
  },
  {
   "cell_type": "code",
   "execution_count": 14,
   "id": "23613d87",
   "metadata": {},
   "outputs": [],
   "source": [
    "serie_temporal.criar_matrizes()"
   ]
  },
  {
   "cell_type": "code",
   "execution_count": 15,
   "id": "7ec24f70",
   "metadata": {},
   "outputs": [],
   "source": [
    "X_treino, X_teste, y_treino, y_teste = serie_temporal.dividir_treino_teste(tam_teste)"
   ]
  },
  {
   "cell_type": "markdown",
   "id": "6d260fc3",
   "metadata": {},
   "source": [
    "## 3. Definindo o modelo para a MLP"
   ]
  },
  {
   "cell_type": "markdown",
   "id": "5869b17e",
   "metadata": {},
   "source": [
    "### 3.1 Definindo função para criar a MLP"
   ]
  },
  {
   "cell_type": "code",
   "execution_count": 16,
   "id": "69c622f4",
   "metadata": {},
   "outputs": [],
   "source": [
    "def criar_modelo(batch_normalization='OFF', learning_rate=0.001, activation='selu', init_mode='lecun_normal', n_neurons=30, name=\"MLP-1-camada-intermediaria\"):\n",
    "\n",
    "    optimizer_gs = optimizer\n",
    "    optimizer_gs.learning_rate.assign(learning_rate)\n",
    "    \n",
    "    model = keras.Sequential(name=name)\n",
    "    model.add(keras.layers.Dense(K, input_dim=K, name=\"camada_de_entrada\", activation = 'linear'))\n",
    "    if (batch_normalization == 'ON'):\n",
    "        model.add(keras.layers.BatchNormalization(name=\"camada_de_batch_normalization\"))\n",
    "    model.add(keras.layers.Dense(n_neurons, input_dim=K, activation=activation, kernel_initializer=init_mode, name=\"camada_intermediaria\"))\n",
    "    model.add(keras.layers.Dense(1, activation='linear', name=\"camada_de_saida\"))\n",
    "    \n",
    "    model.compile(\n",
    "        optimizer = optimizer_gs,\n",
    "        loss = loss)\n",
    "    \n",
    "    model.build()\n",
    "    return model"
   ]
  },
  {
   "cell_type": "markdown",
   "id": "8385035e",
   "metadata": {},
   "source": [
    "Utilizaremos os seguintes parâmetros no *Grid Search*:"
   ]
  },
  {
   "cell_type": "code",
   "execution_count": 17,
   "id": "ab00623a",
   "metadata": {},
   "outputs": [],
   "source": [
    "param_grid = dict(batch_size=[2, 4, 8, 16, 32], \n",
    "                  batch_normalization=['ON', 'OFF'], \n",
    "                  activation=['selu', 'relu', 'elu', 'sigmoid', 'tanh'], \n",
    "                  init_mode = ['lecun_uniform', 'lecun_normal', 'glorot_normal', 'glorot_uniform', 'he_normal', 'he_uniform'],\n",
    "                  n_neurons = [5, 10, 15, 20, 30, 50, 75, 100],\n",
    "                  learning_rate = [0.001, 0.003, 0.005, 0.008, 0.01])"
   ]
  },
  {
   "cell_type": "markdown",
   "id": "bd41a9a2",
   "metadata": {},
   "source": [
    "Para facilitar, dividiremos esse processo em etapas."
   ]
  },
  {
   "cell_type": "markdown",
   "id": "00ead73f",
   "metadata": {},
   "source": [
    "### 3.2 Definindo parâmetros que não serão definidos pelo *Grid Search*"
   ]
  },
  {
   "cell_type": "code",
   "execution_count": 18,
   "id": "b5cf51da",
   "metadata": {},
   "outputs": [],
   "source": [
    "loss = \"mean_squared_error\"\n",
    "optimizer = keras.optimizers.Nadam()"
   ]
  },
  {
   "cell_type": "code",
   "execution_count": 19,
   "id": "8fe2fd62",
   "metadata": {},
   "outputs": [],
   "source": [
    "early_stopping_cv = tf.keras.callbacks.EarlyStopping(patience=10, restore_best_weights=True, monitor='loss')"
   ]
  },
  {
   "cell_type": "markdown",
   "id": "c2a62cab",
   "metadata": {},
   "source": [
    "### 3.3 Definindo e executando o primeiro *Grid Search*"
   ]
  },
  {
   "cell_type": "markdown",
   "id": "4e75e646",
   "metadata": {},
   "source": [
    "Primeiro, avaliaremos o impacto do *batch size* e da camada de *batch normalization*."
   ]
  },
  {
   "cell_type": "code",
   "execution_count": 21,
   "id": "e953b353",
   "metadata": {},
   "outputs": [],
   "source": [
    "param_grid_1 = dict(batch_size=[2, 4, 8, 16, 32], \n",
    "                  batch_normalization=['ON', 'OFF'])"
   ]
  },
  {
   "cell_type": "code",
   "execution_count": 17,
   "id": "65c59b33",
   "metadata": {},
   "outputs": [],
   "source": [
    "model_cv_1 = KerasRegressor(build_fn=criar_modelo, epochs=100, verbose=0)"
   ]
  },
  {
   "cell_type": "code",
   "execution_count": 22,
   "id": "a10a8d53",
   "metadata": {},
   "outputs": [],
   "source": [
    "grid = GridSearchCV(estimator=model_cv_1, param_grid=param_grid_1, n_jobs=1, cv=4, scoring='neg_mean_squared_error')"
   ]
  },
  {
   "cell_type": "code",
   "execution_count": 23,
   "id": "f852217a",
   "metadata": {},
   "outputs": [],
   "source": [
    "grid_result = grid.fit(X_treino, y_treino)"
   ]
  },
  {
   "cell_type": "code",
   "execution_count": 24,
   "id": "983997f4",
   "metadata": {},
   "outputs": [
    {
     "name": "stdout",
     "output_type": "stream",
     "text": [
      "Best: -0.002345 using {'batch_normalization': 'OFF', 'batch_size': 2}\n"
     ]
    }
   ],
   "source": [
    "print(\"Best: %f using %s\" % (grid_result.best_score_, grid_result.best_params_))"
   ]
  },
  {
   "cell_type": "code",
   "execution_count": 25,
   "id": "42377ec3",
   "metadata": {},
   "outputs": [
    {
     "name": "stdout",
     "output_type": "stream",
     "text": [
      "-880.265476 (836.886323) with: {'batch_normalization': 'ON', 'batch_size': 2}\n",
      "-6.513526 (6.133123) with: {'batch_normalization': 'ON', 'batch_size': 4}\n",
      "-2.239374 (1.483018) with: {'batch_normalization': 'ON', 'batch_size': 8}\n",
      "-1.178373 (1.102326) with: {'batch_normalization': 'ON', 'batch_size': 16}\n",
      "-0.105025 (0.008642) with: {'batch_normalization': 'ON', 'batch_size': 32}\n",
      "-0.002345 (0.001048) with: {'batch_normalization': 'OFF', 'batch_size': 2}\n",
      "-0.004359 (0.002789) with: {'batch_normalization': 'OFF', 'batch_size': 4}\n",
      "-0.011143 (0.013236) with: {'batch_normalization': 'OFF', 'batch_size': 8}\n",
      "-0.006979 (0.001934) with: {'batch_normalization': 'OFF', 'batch_size': 16}\n",
      "-0.016586 (0.007931) with: {'batch_normalization': 'OFF', 'batch_size': 32}\n"
     ]
    }
   ],
   "source": [
    "means = grid_result.cv_results_['mean_test_score']\n",
    "stds = grid_result.cv_results_['std_test_score']\n",
    "params = grid_result.cv_results_['params']\n",
    "for mean, stdev, param in zip(means, stds, params):\n",
    "    print(\"%f (%f) with: %r\" % (mean, stdev, param))"
   ]
  },
  {
   "cell_type": "markdown",
   "id": "f2442e0b",
   "metadata": {},
   "source": [
    "### 3.4 Definindo e executando o segundo *Grid Search*"
   ]
  },
  {
   "cell_type": "markdown",
   "id": "3d865a9c",
   "metadata": {},
   "source": [
    "Agora, avaliaremos o impacto do *learning rate* do otimizador."
   ]
  },
  {
   "cell_type": "code",
   "execution_count": 31,
   "id": "ed2b2e86",
   "metadata": {},
   "outputs": [],
   "source": [
    "model_cv_2 = KerasRegressor(build_fn=criar_modelo, epochs=100, verbose=0, batch_size=2, batch_normalization='OFF')"
   ]
  },
  {
   "cell_type": "code",
   "execution_count": 32,
   "id": "7fb1a5b5",
   "metadata": {},
   "outputs": [],
   "source": [
    "param_grid_2 = dict(learning_rate=[0.001, 0.003, 0.005, 0.008, 0.01])"
   ]
  },
  {
   "cell_type": "code",
   "execution_count": 27,
   "id": "733947be",
   "metadata": {},
   "outputs": [],
   "source": [
    "grid = GridSearchCV(estimator=model_cv_2, param_grid=param_grid_2, n_jobs=1, cv=4, scoring='neg_mean_squared_error')"
   ]
  },
  {
   "cell_type": "code",
   "execution_count": 28,
   "id": "c26e6ab5",
   "metadata": {},
   "outputs": [],
   "source": [
    "grid_result = grid.fit(X_treino, y_treino)"
   ]
  },
  {
   "cell_type": "code",
   "execution_count": 29,
   "id": "52b1b12c",
   "metadata": {},
   "outputs": [
    {
     "name": "stdout",
     "output_type": "stream",
     "text": [
      "Best: -0.005364 using {'batch_normalization': 'OFF', 'batch_size': 2, 'learning_rate': 0.001}\n"
     ]
    }
   ],
   "source": [
    "print(\"Best: %f using %s\" % (grid_result.best_score_, grid_result.best_params_))"
   ]
  },
  {
   "cell_type": "code",
   "execution_count": 30,
   "id": "99a2904e",
   "metadata": {},
   "outputs": [
    {
     "name": "stdout",
     "output_type": "stream",
     "text": [
      "-0.005364 (0.003892) with: {'batch_normalization': 'OFF', 'batch_size': 2, 'learning_rate': 0.001}\n",
      "-0.021907 (0.018123) with: {'batch_normalization': 'OFF', 'batch_size': 2, 'learning_rate': 0.003}\n",
      "-0.017272 (0.010556) with: {'batch_normalization': 'OFF', 'batch_size': 2, 'learning_rate': 0.005}\n",
      "-0.027322 (0.010686) with: {'batch_normalization': 'OFF', 'batch_size': 2, 'learning_rate': 0.008}\n",
      "-0.046148 (0.045759) with: {'batch_normalization': 'OFF', 'batch_size': 2, 'learning_rate': 0.01}\n"
     ]
    }
   ],
   "source": [
    "means = grid_result.cv_results_['mean_test_score']\n",
    "stds = grid_result.cv_results_['std_test_score']\n",
    "params = grid_result.cv_results_['params']\n",
    "for mean, stdev, param in zip(means, stds, params):\n",
    "    print(\"%f (%f) with: %r\" % (mean, stdev, param))"
   ]
  },
  {
   "cell_type": "markdown",
   "id": "46ca538f",
   "metadata": {},
   "source": [
    "### 3.5 Definindo e executando o terceiro *Grid Search*"
   ]
  },
  {
   "cell_type": "markdown",
   "id": "3ed21aff",
   "metadata": {},
   "source": [
    "Agora, avaliaremos o impacto da função de ativação da camada intermediária."
   ]
  },
  {
   "cell_type": "code",
   "execution_count": 31,
   "id": "b965c42e",
   "metadata": {},
   "outputs": [],
   "source": [
    "model_cv_3 = KerasRegressor(build_fn=criar_modelo, epochs=100, verbose=0, batch_size=2, batch_normalization='OFF', learning_rate=0.001)"
   ]
  },
  {
   "cell_type": "code",
   "execution_count": 21,
   "id": "4af90c62",
   "metadata": {},
   "outputs": [],
   "source": [
    "param_grid_3 = dict(activation=['selu', 'relu', 'elu', 'sigmoid', 'tanh'])"
   ]
  },
  {
   "cell_type": "code",
   "execution_count": 22,
   "id": "01c2b9ff",
   "metadata": {},
   "outputs": [],
   "source": [
    "grid = GridSearchCV(estimator=model_cv_3, param_grid=param_grid_3, n_jobs=1, cv=4, scoring='neg_mean_squared_error')"
   ]
  },
  {
   "cell_type": "code",
   "execution_count": 23,
   "id": "88cc8fca",
   "metadata": {},
   "outputs": [
    {
     "name": "stderr",
     "output_type": "stream",
     "text": [
      "/usr/local/lib/python3.8/dist-packages/sklearn/model_selection/_validation.py:610: FitFailedWarning: Estimator fit failed. The score on this train-test partition for these parameters will be set to nan. Details: \n",
      "Traceback (most recent call last):\n",
      "  File \"/usr/local/lib/python3.8/dist-packages/sklearn/model_selection/_validation.py\", line 593, in _fit_and_score\n",
      "    estimator.fit(X_train, y_train, **fit_params)\n",
      "  File \"/usr/local/lib/python3.8/dist-packages/tensorflow/python/keras/wrappers/scikit_learn.py\", line 157, in fit\n",
      "    self.model = self.build_fn(**self.filter_sk_params(self.build_fn))\n",
      "  File \"<ipython-input-16-72fd68e47f13>\", line 11, in criar_modelo\n",
      "    model.add(keras.layers.Dense(n_neurons, input_dim=K, activation=activation, kernel_initializer=init_mode, name=\"camada_intermediaria\"))\n",
      "  File \"/usr/local/lib/python3.8/dist-packages/tensorflow/python/keras/layers/core.py\", line 1161, in __init__\n",
      "    self.activation = activations.get(activation)\n",
      "  File \"/usr/local/lib/python3.8/dist-packages/tensorflow/python/util/dispatch.py\", line 201, in wrapper\n",
      "    return target(*args, **kwargs)\n",
      "  File \"/usr/local/lib/python3.8/dist-packages/tensorflow/python/keras/activations.py\", line 573, in get\n",
      "    return deserialize(identifier)\n",
      "  File \"/usr/local/lib/python3.8/dist-packages/tensorflow/python/util/dispatch.py\", line 201, in wrapper\n",
      "    return target(*args, **kwargs)\n",
      "  File \"/usr/local/lib/python3.8/dist-packages/tensorflow/python/keras/activations.py\", line 532, in deserialize\n",
      "    return deserialize_keras_object(\n",
      "  File \"/usr/local/lib/python3.8/dist-packages/tensorflow/python/keras/utils/generic_utils.py\", line 377, in deserialize_keras_object\n",
      "    raise ValueError(\n",
      "ValueError: Unknown activation function: logistic\n",
      "\n",
      "  warnings.warn(\"Estimator fit failed. The score on this train-test\"\n",
      "/usr/local/lib/python3.8/dist-packages/sklearn/model_selection/_validation.py:610: FitFailedWarning: Estimator fit failed. The score on this train-test partition for these parameters will be set to nan. Details: \n",
      "Traceback (most recent call last):\n",
      "  File \"/usr/local/lib/python3.8/dist-packages/sklearn/model_selection/_validation.py\", line 593, in _fit_and_score\n",
      "    estimator.fit(X_train, y_train, **fit_params)\n",
      "  File \"/usr/local/lib/python3.8/dist-packages/tensorflow/python/keras/wrappers/scikit_learn.py\", line 157, in fit\n",
      "    self.model = self.build_fn(**self.filter_sk_params(self.build_fn))\n",
      "  File \"<ipython-input-16-72fd68e47f13>\", line 11, in criar_modelo\n",
      "    model.add(keras.layers.Dense(n_neurons, input_dim=K, activation=activation, kernel_initializer=init_mode, name=\"camada_intermediaria\"))\n",
      "  File \"/usr/local/lib/python3.8/dist-packages/tensorflow/python/keras/layers/core.py\", line 1161, in __init__\n",
      "    self.activation = activations.get(activation)\n",
      "  File \"/usr/local/lib/python3.8/dist-packages/tensorflow/python/util/dispatch.py\", line 201, in wrapper\n",
      "    return target(*args, **kwargs)\n",
      "  File \"/usr/local/lib/python3.8/dist-packages/tensorflow/python/keras/activations.py\", line 573, in get\n",
      "    return deserialize(identifier)\n",
      "  File \"/usr/local/lib/python3.8/dist-packages/tensorflow/python/util/dispatch.py\", line 201, in wrapper\n",
      "    return target(*args, **kwargs)\n",
      "  File \"/usr/local/lib/python3.8/dist-packages/tensorflow/python/keras/activations.py\", line 532, in deserialize\n",
      "    return deserialize_keras_object(\n",
      "  File \"/usr/local/lib/python3.8/dist-packages/tensorflow/python/keras/utils/generic_utils.py\", line 377, in deserialize_keras_object\n",
      "    raise ValueError(\n",
      "ValueError: Unknown activation function: logistic\n",
      "\n",
      "  warnings.warn(\"Estimator fit failed. The score on this train-test\"\n",
      "/usr/local/lib/python3.8/dist-packages/sklearn/model_selection/_validation.py:610: FitFailedWarning: Estimator fit failed. The score on this train-test partition for these parameters will be set to nan. Details: \n",
      "Traceback (most recent call last):\n",
      "  File \"/usr/local/lib/python3.8/dist-packages/sklearn/model_selection/_validation.py\", line 593, in _fit_and_score\n",
      "    estimator.fit(X_train, y_train, **fit_params)\n",
      "  File \"/usr/local/lib/python3.8/dist-packages/tensorflow/python/keras/wrappers/scikit_learn.py\", line 157, in fit\n",
      "    self.model = self.build_fn(**self.filter_sk_params(self.build_fn))\n",
      "  File \"<ipython-input-16-72fd68e47f13>\", line 11, in criar_modelo\n",
      "    model.add(keras.layers.Dense(n_neurons, input_dim=K, activation=activation, kernel_initializer=init_mode, name=\"camada_intermediaria\"))\n",
      "  File \"/usr/local/lib/python3.8/dist-packages/tensorflow/python/keras/layers/core.py\", line 1161, in __init__\n",
      "    self.activation = activations.get(activation)\n",
      "  File \"/usr/local/lib/python3.8/dist-packages/tensorflow/python/util/dispatch.py\", line 201, in wrapper\n",
      "    return target(*args, **kwargs)\n",
      "  File \"/usr/local/lib/python3.8/dist-packages/tensorflow/python/keras/activations.py\", line 573, in get\n",
      "    return deserialize(identifier)\n",
      "  File \"/usr/local/lib/python3.8/dist-packages/tensorflow/python/util/dispatch.py\", line 201, in wrapper\n",
      "    return target(*args, **kwargs)\n",
      "  File \"/usr/local/lib/python3.8/dist-packages/tensorflow/python/keras/activations.py\", line 532, in deserialize\n",
      "    return deserialize_keras_object(\n",
      "  File \"/usr/local/lib/python3.8/dist-packages/tensorflow/python/keras/utils/generic_utils.py\", line 377, in deserialize_keras_object\n",
      "    raise ValueError(\n",
      "ValueError: Unknown activation function: logistic\n",
      "\n",
      "  warnings.warn(\"Estimator fit failed. The score on this train-test\"\n",
      "/usr/local/lib/python3.8/dist-packages/sklearn/model_selection/_validation.py:610: FitFailedWarning: Estimator fit failed. The score on this train-test partition for these parameters will be set to nan. Details: \n",
      "Traceback (most recent call last):\n",
      "  File \"/usr/local/lib/python3.8/dist-packages/sklearn/model_selection/_validation.py\", line 593, in _fit_and_score\n",
      "    estimator.fit(X_train, y_train, **fit_params)\n",
      "  File \"/usr/local/lib/python3.8/dist-packages/tensorflow/python/keras/wrappers/scikit_learn.py\", line 157, in fit\n",
      "    self.model = self.build_fn(**self.filter_sk_params(self.build_fn))\n",
      "  File \"<ipython-input-16-72fd68e47f13>\", line 11, in criar_modelo\n",
      "    model.add(keras.layers.Dense(n_neurons, input_dim=K, activation=activation, kernel_initializer=init_mode, name=\"camada_intermediaria\"))\n",
      "  File \"/usr/local/lib/python3.8/dist-packages/tensorflow/python/keras/layers/core.py\", line 1161, in __init__\n",
      "    self.activation = activations.get(activation)\n",
      "  File \"/usr/local/lib/python3.8/dist-packages/tensorflow/python/util/dispatch.py\", line 201, in wrapper\n",
      "    return target(*args, **kwargs)\n",
      "  File \"/usr/local/lib/python3.8/dist-packages/tensorflow/python/keras/activations.py\", line 573, in get\n",
      "    return deserialize(identifier)\n",
      "  File \"/usr/local/lib/python3.8/dist-packages/tensorflow/python/util/dispatch.py\", line 201, in wrapper\n",
      "    return target(*args, **kwargs)\n",
      "  File \"/usr/local/lib/python3.8/dist-packages/tensorflow/python/keras/activations.py\", line 532, in deserialize\n",
      "    return deserialize_keras_object(\n",
      "  File \"/usr/local/lib/python3.8/dist-packages/tensorflow/python/keras/utils/generic_utils.py\", line 377, in deserialize_keras_object\n",
      "    raise ValueError(\n",
      "ValueError: Unknown activation function: logistic\n",
      "\n",
      "  warnings.warn(\"Estimator fit failed. The score on this train-test\"\n",
      "/usr/local/lib/python3.8/dist-packages/sklearn/model_selection/_search.py:918: UserWarning: One or more of the test scores are non-finite: [-0.00421502 -0.0053168  -0.00515019 -0.00762358 -0.00679555         nan]\n",
      "  warnings.warn(\n"
     ]
    }
   ],
   "source": [
    "grid_result = grid.fit(X_treino, y_treino)"
   ]
  },
  {
   "cell_type": "code",
   "execution_count": 24,
   "id": "e95b1a03",
   "metadata": {},
   "outputs": [
    {
     "name": "stdout",
     "output_type": "stream",
     "text": [
      "Best: -0.004215 using {'activation': 'selu'}\n"
     ]
    }
   ],
   "source": [
    "print(\"Best: %f using %s\" % (grid_result.best_score_, grid_result.best_params_))"
   ]
  },
  {
   "cell_type": "code",
   "execution_count": 25,
   "id": "be0365f7",
   "metadata": {},
   "outputs": [
    {
     "name": "stdout",
     "output_type": "stream",
     "text": [
      "-0.004215 (0.003605) with: {'activation': 'selu'}\n",
      "-0.005317 (0.001054) with: {'activation': 'relu'}\n",
      "-0.005150 (0.002186) with: {'activation': 'elu'}\n",
      "-0.007624 (0.004030) with: {'activation': 'sigmoid'}\n",
      "-0.006796 (0.005910) with: {'activation': 'tanh'}\n",
      "nan (nan) with: {'activation': 'logistic'}\n"
     ]
    }
   ],
   "source": [
    "means = grid_result.cv_results_['mean_test_score']\n",
    "stds = grid_result.cv_results_['std_test_score']\n",
    "params = grid_result.cv_results_['params']\n",
    "for mean, stdev, param in zip(means, stds, params):\n",
    "    print(\"%f (%f) with: %r\" % (mean, stdev, param))"
   ]
  },
  {
   "cell_type": "markdown",
   "id": "3174f55c",
   "metadata": {},
   "source": [
    "### 3.6 Definindo e executando o quarto *Grid Search*"
   ]
  },
  {
   "cell_type": "markdown",
   "id": "80df1ecf",
   "metadata": {},
   "source": [
    "Agora, avaliaremos o impacto do inicializador da camada intermediária."
   ]
  },
  {
   "cell_type": "code",
   "execution_count": 26,
   "id": "fffdf92a",
   "metadata": {},
   "outputs": [],
   "source": [
    "model_cv_4 = KerasRegressor(build_fn=criar_modelo, epochs=100, verbose=0, batch_size=2, batch_normalization='OFF', learning_rate=0.001, activation='selu')"
   ]
  },
  {
   "cell_type": "code",
   "execution_count": 27,
   "id": "958c5eb3",
   "metadata": {},
   "outputs": [],
   "source": [
    "param_grid_4 = dict(init_mode = ['lecun_uniform', 'lecun_normal'])"
   ]
  },
  {
   "cell_type": "code",
   "execution_count": 28,
   "id": "02093e44",
   "metadata": {},
   "outputs": [],
   "source": [
    "grid = GridSearchCV(estimator=model_cv_4, param_grid=param_grid_4, n_jobs=1, cv=4, scoring='neg_mean_squared_error')"
   ]
  },
  {
   "cell_type": "code",
   "execution_count": 29,
   "id": "ca6671ca",
   "metadata": {},
   "outputs": [],
   "source": [
    "grid_result = grid.fit(X_treino, y_treino)"
   ]
  },
  {
   "cell_type": "code",
   "execution_count": 30,
   "id": "4fd2d4b5",
   "metadata": {},
   "outputs": [
    {
     "name": "stdout",
     "output_type": "stream",
     "text": [
      "Best: -0.002853 using {'init_mode': 'lecun_normal'}\n"
     ]
    }
   ],
   "source": [
    "print(\"Best: %f using %s\" % (grid_result.best_score_, grid_result.best_params_))"
   ]
  },
  {
   "cell_type": "code",
   "execution_count": 31,
   "id": "4f55f95f",
   "metadata": {},
   "outputs": [
    {
     "name": "stdout",
     "output_type": "stream",
     "text": [
      "-0.004224 (0.001119) with: {'init_mode': 'lecun_uniform'}\n",
      "-0.002853 (0.001127) with: {'init_mode': 'lecun_normal'}\n"
     ]
    }
   ],
   "source": [
    "means = grid_result.cv_results_['mean_test_score']\n",
    "stds = grid_result.cv_results_['std_test_score']\n",
    "params = grid_result.cv_results_['params']\n",
    "for mean, stdev, param in zip(means, stds, params):\n",
    "    print(\"%f (%f) with: %r\" % (mean, stdev, param))"
   ]
  },
  {
   "cell_type": "markdown",
   "id": "e0d4be4a",
   "metadata": {},
   "source": [
    "### 3.7 Definindo e executando o quinto *Grid Search*"
   ]
  },
  {
   "cell_type": "markdown",
   "id": "170f05b7",
   "metadata": {},
   "source": [
    "Agora, avaliaremos o número de neurônios na camada intermediária."
   ]
  },
  {
   "cell_type": "code",
   "execution_count": 26,
   "id": "a61ac863",
   "metadata": {},
   "outputs": [],
   "source": [
    "model_cv_5 = KerasRegressor(build_fn=criar_modelo, epochs=100, verbose=0, batch_size=2, batch_normalization='OFF', learning_rate=0.001, activation='selu', init_mode='lecun_normal')"
   ]
  },
  {
   "cell_type": "code",
   "execution_count": 27,
   "id": "be8ac7a5",
   "metadata": {},
   "outputs": [],
   "source": [
    "param_grid_5 = dict(n_neurons = [5, 10, 15, 20, 30, 50, 75, 100])"
   ]
  },
  {
   "cell_type": "code",
   "execution_count": 28,
   "id": "25e8cecb",
   "metadata": {},
   "outputs": [],
   "source": [
    "grid = GridSearchCV(estimator=model_cv_5, param_grid=param_grid_5, n_jobs=1, cv=4, scoring='neg_mean_squared_error')"
   ]
  },
  {
   "cell_type": "code",
   "execution_count": 29,
   "id": "96a4b8b3",
   "metadata": {},
   "outputs": [],
   "source": [
    "grid_result = grid.fit(X_treino, y_treino)"
   ]
  },
  {
   "cell_type": "code",
   "execution_count": 30,
   "id": "5b6b777d",
   "metadata": {},
   "outputs": [
    {
     "name": "stdout",
     "output_type": "stream",
     "text": [
      "Best: -0.002935 using {'n_neurons': 50}\n"
     ]
    }
   ],
   "source": [
    "print(\"Best: %f using %s\" % (grid_result.best_score_, grid_result.best_params_))"
   ]
  },
  {
   "cell_type": "code",
   "execution_count": 31,
   "id": "53292fec",
   "metadata": {},
   "outputs": [
    {
     "name": "stdout",
     "output_type": "stream",
     "text": [
      "-0.018823 (0.011848) with: {'n_neurons': 5}\n",
      "-0.008087 (0.004896) with: {'n_neurons': 10}\n",
      "-0.005119 (0.002090) with: {'n_neurons': 15}\n",
      "-0.004149 (0.001801) with: {'n_neurons': 20}\n",
      "-0.007057 (0.004875) with: {'n_neurons': 30}\n",
      "-0.002935 (0.001644) with: {'n_neurons': 50}\n",
      "-0.004026 (0.002144) with: {'n_neurons': 75}\n",
      "-0.093165 (0.156294) with: {'n_neurons': 100}\n"
     ]
    }
   ],
   "source": [
    "means = grid_result.cv_results_['mean_test_score']\n",
    "stds = grid_result.cv_results_['std_test_score']\n",
    "params = grid_result.cv_results_['params']\n",
    "for mean, stdev, param in zip(means, stds, params):\n",
    "    print(\"%f (%f) with: %r\" % (mean, stdev, param))"
   ]
  },
  {
   "cell_type": "markdown",
   "id": "969eacaa",
   "metadata": {},
   "source": [
    "### Treino com o melhor modelo"
   ]
  },
  {
   "cell_type": "code",
   "execution_count": 20,
   "id": "a92ef504",
   "metadata": {},
   "outputs": [],
   "source": [
    "model = criar_modelo(name='MLP-basica-lorenz', batch_normalization='OFF', learning_rate=0.001, activation='selu', init_mode='lecun_normal', n_neurons=50)"
   ]
  },
  {
   "cell_type": "code",
   "execution_count": 21,
   "id": "ab1fadcc",
   "metadata": {},
   "outputs": [
    {
     "name": "stdout",
     "output_type": "stream",
     "text": [
      "Model: \"MLP-basica-lorenz\"\n",
      "_________________________________________________________________\n",
      "Layer (type)                 Output Shape              Param #   \n",
      "=================================================================\n",
      "camada_de_entrada (Dense)    (None, 4)                 20        \n",
      "_________________________________________________________________\n",
      "camada_intermediaria (Dense) (None, 50)                250       \n",
      "_________________________________________________________________\n",
      "camada_de_saida (Dense)      (None, 1)                 51        \n",
      "=================================================================\n",
      "Total params: 321\n",
      "Trainable params: 321\n",
      "Non-trainable params: 0\n",
      "_________________________________________________________________\n"
     ]
    }
   ],
   "source": [
    "model.summary()"
   ]
  },
  {
   "cell_type": "code",
   "execution_count": 22,
   "id": "d3fe72b6",
   "metadata": {},
   "outputs": [],
   "source": [
    "X_treino, X_val, y_treino, y_val = train_test_split(X_treino, y_treino, test_size=0.1)"
   ]
  },
  {
   "cell_type": "code",
   "execution_count": 23,
   "id": "66b6da45",
   "metadata": {},
   "outputs": [],
   "source": [
    "early_stopping = tf.keras.callbacks.EarlyStopping(patience=10, restore_best_weights=True, monitor='val_loss')"
   ]
  },
  {
   "cell_type": "code",
   "execution_count": 24,
   "id": "dcdb3c2f",
   "metadata": {},
   "outputs": [],
   "source": [
    "batch_size = 2"
   ]
  },
  {
   "cell_type": "code",
   "execution_count": 25,
   "id": "7da1d7d6",
   "metadata": {},
   "outputs": [
    {
     "name": "stdout",
     "output_type": "stream",
     "text": [
      "Epoch 1/100\n",
      "1910/1910 [==============================] - 3s 1ms/step - loss: 11.3384 - val_loss: 0.1466\n",
      "Epoch 2/100\n",
      "1910/1910 [==============================] - 4s 2ms/step - loss: 0.1599 - val_loss: 0.0753\n",
      "Epoch 3/100\n",
      "1910/1910 [==============================] - 3s 1ms/step - loss: 0.0831 - val_loss: 0.0243\n",
      "Epoch 4/100\n",
      "1910/1910 [==============================] - 3s 2ms/step - loss: 0.0463 - val_loss: 0.0117\n",
      "Epoch 5/100\n",
      "1910/1910 [==============================] - 3s 2ms/step - loss: 0.0282 - val_loss: 0.0132\n",
      "Epoch 6/100\n",
      "1910/1910 [==============================] - 3s 2ms/step - loss: 0.0309 - val_loss: 0.0167\n",
      "Epoch 7/100\n",
      "1910/1910 [==============================] - 3s 2ms/step - loss: 0.0198 - val_loss: 0.0052\n",
      "Epoch 8/100\n",
      "1910/1910 [==============================] - 2s 1ms/step - loss: 0.0171 - val_loss: 0.0103\n",
      "Epoch 9/100\n",
      "1910/1910 [==============================] - 3s 2ms/step - loss: 0.0191 - val_loss: 0.0053\n",
      "Epoch 10/100\n",
      "1910/1910 [==============================] - 3s 1ms/step - loss: 0.0181 - val_loss: 0.0057\n",
      "Epoch 11/100\n",
      "1910/1910 [==============================] - 4s 2ms/step - loss: 0.0131 - val_loss: 0.0047\n",
      "Epoch 12/100\n",
      "1910/1910 [==============================] - 3s 1ms/step - loss: 0.0159 - val_loss: 0.0120\n",
      "Epoch 13/100\n",
      "1910/1910 [==============================] - 2s 1ms/step - loss: 0.0095 - val_loss: 0.0030\n",
      "Epoch 14/100\n",
      "1910/1910 [==============================] - 3s 2ms/step - loss: 0.0096 - val_loss: 0.0155\n",
      "Epoch 15/100\n",
      "1910/1910 [==============================] - 3s 2ms/step - loss: 0.0097 - val_loss: 0.0035\n",
      "Epoch 16/100\n",
      "1910/1910 [==============================] - 3s 2ms/step - loss: 0.0102 - val_loss: 0.0042\n",
      "Epoch 17/100\n",
      "1910/1910 [==============================] - 4s 2ms/step - loss: 0.0084 - val_loss: 0.0065\n",
      "Epoch 18/100\n",
      "1910/1910 [==============================] - 3s 1ms/step - loss: 0.0066 - val_loss: 0.0027\n",
      "Epoch 19/100\n",
      "1910/1910 [==============================] - 3s 2ms/step - loss: 0.0099 - val_loss: 0.0066\n",
      "Epoch 20/100\n",
      "1910/1910 [==============================] - 3s 2ms/step - loss: 0.0085 - val_loss: 0.0022\n",
      "Epoch 21/100\n",
      "1910/1910 [==============================] - 3s 2ms/step - loss: 0.0071 - val_loss: 0.0034\n",
      "Epoch 22/100\n",
      "1910/1910 [==============================] - 3s 2ms/step - loss: 0.0068 - val_loss: 0.0176\n",
      "Epoch 23/100\n",
      "1910/1910 [==============================] - 3s 2ms/step - loss: 0.0054 - val_loss: 0.0049\n",
      "Epoch 24/100\n",
      "1910/1910 [==============================] - 3s 2ms/step - loss: 0.0062 - val_loss: 0.0023\n",
      "Epoch 25/100\n",
      "1910/1910 [==============================] - 3s 2ms/step - loss: 0.0053 - val_loss: 0.0034\n",
      "Epoch 26/100\n",
      "1910/1910 [==============================] - 3s 2ms/step - loss: 0.0044 - val_loss: 0.0034\n",
      "Epoch 27/100\n",
      "1910/1910 [==============================] - 3s 2ms/step - loss: 0.0048 - val_loss: 0.0060\n",
      "Epoch 28/100\n",
      "1910/1910 [==============================] - 4s 2ms/step - loss: 0.0062 - val_loss: 0.0020\n",
      "Epoch 29/100\n",
      "1910/1910 [==============================] - 3s 1ms/step - loss: 0.0070 - val_loss: 0.0052\n",
      "Epoch 30/100\n",
      "1910/1910 [==============================] - 4s 2ms/step - loss: 0.0042 - val_loss: 0.0037\n",
      "Epoch 31/100\n",
      "1910/1910 [==============================] - 3s 1ms/step - loss: 0.0037 - val_loss: 0.0043\n",
      "Epoch 32/100\n",
      "1910/1910 [==============================] - 3s 2ms/step - loss: 0.0053 - val_loss: 0.0026\n",
      "Epoch 33/100\n",
      "1910/1910 [==============================] - 3s 1ms/step - loss: 0.0043 - val_loss: 0.0026\n",
      "Epoch 34/100\n",
      "1910/1910 [==============================] - 2s 1ms/step - loss: 0.0061 - val_loss: 0.0028\n",
      "Epoch 35/100\n",
      "1910/1910 [==============================] - 2s 1ms/step - loss: 0.0044 - val_loss: 0.0072\n",
      "Epoch 36/100\n",
      "1910/1910 [==============================] - 4s 2ms/step - loss: 0.0047 - val_loss: 0.0033\n",
      "Epoch 37/100\n",
      "1910/1910 [==============================] - 3s 2ms/step - loss: 0.0051 - val_loss: 0.0033\n",
      "Epoch 38/100\n",
      "1910/1910 [==============================] - 3s 1ms/step - loss: 0.0037 - val_loss: 0.0017\n",
      "Epoch 39/100\n",
      "1910/1910 [==============================] - 3s 2ms/step - loss: 0.0038 - val_loss: 0.0017\n",
      "Epoch 40/100\n",
      "1910/1910 [==============================] - 4s 2ms/step - loss: 0.0035 - val_loss: 0.0020\n",
      "Epoch 41/100\n",
      "1910/1910 [==============================] - 3s 1ms/step - loss: 0.0042 - val_loss: 0.0030\n",
      "Epoch 42/100\n",
      "1910/1910 [==============================] - 3s 2ms/step - loss: 0.0041 - val_loss: 0.0148\n",
      "Epoch 43/100\n",
      "1910/1910 [==============================] - 3s 2ms/step - loss: 0.0046 - val_loss: 0.0022\n",
      "Epoch 44/100\n",
      "1910/1910 [==============================] - 2s 1ms/step - loss: 0.0044 - val_loss: 0.0027\n",
      "Epoch 45/100\n",
      "1910/1910 [==============================] - 2s 1ms/step - loss: 0.0041 - val_loss: 0.0040\n",
      "Epoch 46/100\n",
      "1910/1910 [==============================] - 3s 2ms/step - loss: 0.0035 - val_loss: 0.0034\n",
      "Epoch 47/100\n",
      "1910/1910 [==============================] - 3s 2ms/step - loss: 0.0029 - val_loss: 0.0063\n",
      "Epoch 48/100\n",
      "1910/1910 [==============================] - 4s 2ms/step - loss: 0.0033 - val_loss: 0.0140\n"
     ]
    }
   ],
   "source": [
    "history = model.fit(X_treino, y_treino, epochs=100,\n",
    "                            callbacks=early_stopping, validation_data=(X_val, y_val),\n",
    "                            batch_size=batch_size)\n",
    "treinamento = pd.DataFrame(history.history)"
   ]
  },
  {
   "cell_type": "markdown",
   "id": "1765f859",
   "metadata": {},
   "source": [
    "## Teste com o melhor modelo"
   ]
  },
  {
   "cell_type": "code",
   "execution_count": 26,
   "id": "d365e1e9",
   "metadata": {},
   "outputs": [],
   "source": [
    "y_pred = model.predict(X_teste)"
   ]
  },
  {
   "cell_type": "markdown",
   "id": "ad723bb6",
   "metadata": {},
   "source": [
    "### Gráfico"
   ]
  },
  {
   "cell_type": "code",
   "execution_count": 27,
   "id": "99e5273a",
   "metadata": {},
   "outputs": [
    {
     "data": {
      "application/vnd.jupyter.widget-view+json": {
       "model_id": "11b044a5802644dc8bb72ac227b03420",
       "version_major": 2,
       "version_minor": 0
      },
      "text/plain": [
       "Canvas(toolbar=Toolbar(toolitems=[('Home', 'Reset original view', 'home', 'home'), ('Back', 'Back to previous …"
      ]
     },
     "metadata": {},
     "output_type": "display_data"
    },
    {
     "name": "stderr",
     "output_type": "stream",
     "text": [
      "findfont: Font family ['serif'] not found. Falling back to DejaVu Sans.\n"
     ]
    }
   ],
   "source": [
    "fig, ax = plt.subplots()\n",
    "ax.plot(instantes_temporais[len(instantes_temporais)-int(len(instantes_temporais)*tam_teste):,], y_teste, color='DodgerBlue', label='Valor real')\n",
    "ax.plot(instantes_temporais[len(instantes_temporais)-int(len(instantes_temporais)*tam_teste):,], y_pred, color='Silver', label='MLP')\n",
    "\n",
    "ax.set_title(\"Comparação da predição da MLP com o valor real do sistema de Lorenz\\n utilizando a rede neural ótima\")\n",
    "ax.set_ylabel('$x(t)$')\n",
    "ax.set_xlabel('$t$')\n",
    "ax.set_xlim(42.5, 50)\n",
    "    \n",
    "ax.grid(True)\n",
    "sns.despine()\n",
    "ax.legend()\n",
    "\n",
    "plt.show()\n",
    "fig.savefig(\"../../../../images/mlp-basica/performance/mlp-basica-vs-lorenz.png\")"
   ]
  },
  {
   "cell_type": "markdown",
   "id": "9d136fa1",
   "metadata": {},
   "source": [
    "### Erro Quadrático Médio"
   ]
  },
  {
   "cell_type": "code",
   "execution_count": 28,
   "id": "38594ea6",
   "metadata": {},
   "outputs": [],
   "source": [
    "from sklearn.metrics import mean_squared_error"
   ]
  },
  {
   "cell_type": "code",
   "execution_count": 29,
   "id": "7f1d99d4",
   "metadata": {},
   "outputs": [
    {
     "name": "stdout",
     "output_type": "stream",
     "text": [
      "MSE = 0.0025802980278888626\n"
     ]
    }
   ],
   "source": [
    "mse = mean_squared_error(y_teste, y_pred)\n",
    "print(\"MSE = \" + str(mse))"
   ]
  },
  {
   "cell_type": "markdown",
   "id": "86b78752",
   "metadata": {},
   "source": [
    "### Salvando o Modelo"
   ]
  },
  {
   "cell_type": "code",
   "execution_count": 31,
   "id": "d9ff8041",
   "metadata": {},
   "outputs": [],
   "source": [
    "model.save(\"../../../../models/mlp-basica/mlp-basica-lorenz.h5\", include_optimizer=True)"
   ]
  },
  {
   "cell_type": "code",
   "execution_count": null,
   "id": "74ded3dd",
   "metadata": {},
   "outputs": [],
   "source": []
  }
 ],
 "metadata": {
  "kernelspec": {
   "display_name": "Python 3",
   "language": "python",
   "name": "python3"
  },
  "language_info": {
   "codemirror_mode": {
    "name": "ipython",
    "version": 3
   },
   "file_extension": ".py",
   "mimetype": "text/x-python",
   "name": "python",
   "nbconvert_exporter": "python",
   "pygments_lexer": "ipython3",
   "version": "3.8.0"
  }
 },
 "nbformat": 4,
 "nbformat_minor": 5
}
