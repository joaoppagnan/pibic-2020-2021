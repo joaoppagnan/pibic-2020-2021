{
 "cells": [
  {
   "cell_type": "markdown",
   "id": "467f12b0",
   "metadata": {},
   "source": [
    "# Implementando uma MLP básica com Grid Search para escolher melhor os parâmetros no Mapa de Hénon"
   ]
  },
  {
   "cell_type": "markdown",
   "id": "7038cd2c",
   "metadata": {},
   "source": [
    "## 1. Importando as bibliotecas necessárias"
   ]
  },
  {
   "cell_type": "markdown",
   "id": "2af87475",
   "metadata": {},
   "source": [
    "### 1.1 Bibliotecas gerais"
   ]
  },
  {
   "cell_type": "code",
   "execution_count": 1,
   "id": "37d4a5f4",
   "metadata": {},
   "outputs": [],
   "source": [
    "%matplotlib widget\n",
    "import numpy as np\n",
    "import pandas as pd\n",
    "import matplotlib.pyplot as plt\n",
    "import seaborn as sns # a biblioteca 'seaborn' contém vários estilos para os gráficos do 'matpĺotlib'\n",
    "\n",
    "# agora, melhoramos a qualidade de saida e de visualizacao da imagem \n",
    "# alem de mudar a fonte padrao para uma do latex\n",
    "sns.set_style(\"ticks\")\n",
    "plt.rcParams['savefig.dpi'] = 200\n",
    "plt.rcParams[\"figure.dpi\"] = 100\n",
    "\n",
    "plt.rcParams.update({\n",
    "    \"text.usetex\": True,\n",
    "    \"font.family\": \"serif\",\n",
    "    \"font.serif\": [\"Palatino\"],\n",
    "})\n",
    "plt.style.use('dark_background')"
   ]
  },
  {
   "cell_type": "markdown",
   "id": "b44b81ca",
   "metadata": {},
   "source": [
    "### 1.2 Bibliotecas para MLP"
   ]
  },
  {
   "cell_type": "code",
   "execution_count": 2,
   "id": "77d9090e",
   "metadata": {},
   "outputs": [],
   "source": [
    "import tensorflow as tf\n",
    "physical_devices = tf.config.list_physical_devices('GPU')\n",
    "\n",
    "from tensorflow import keras"
   ]
  },
  {
   "cell_type": "code",
   "execution_count": 3,
   "id": "9cb09800",
   "metadata": {},
   "outputs": [],
   "source": [
    "from sklearn.model_selection import GridSearchCV\n",
    "from sklearn.model_selection import train_test_split"
   ]
  },
  {
   "cell_type": "code",
   "execution_count": 4,
   "id": "0d17987a",
   "metadata": {},
   "outputs": [],
   "source": [
    "from tensorflow.keras.wrappers.scikit_learn import KerasRegressor"
   ]
  },
  {
   "cell_type": "markdown",
   "id": "b4ef1fd0",
   "metadata": {},
   "source": [
    "### 1.3 Bibliotecas dos sistemas caóticos"
   ]
  },
  {
   "cell_type": "code",
   "execution_count": 5,
   "id": "5765dd07",
   "metadata": {},
   "outputs": [],
   "source": [
    "import sys \n",
    "sys.path.insert(0, '../../../../scripts')\n",
    "\n",
    "import timeseries as times\n",
    "import henonmap as hmap"
   ]
  },
  {
   "cell_type": "markdown",
   "id": "fd285db7",
   "metadata": {},
   "source": [
    "## 2. Gerando a série temporal do mapa de Hénon"
   ]
  },
  {
   "cell_type": "markdown",
   "id": "a7176b70",
   "metadata": {},
   "source": [
    "Os valores para os parâmetros das equações serão os \"básicos\" apresentados no *paper* original."
   ]
  },
  {
   "cell_type": "code",
   "execution_count": 6,
   "id": "f4fc358e",
   "metadata": {},
   "outputs": [],
   "source": [
    "a = 1.4\n",
    "b = 0.3\n",
    "x_inicial = 1.0\n",
    "y_inicial = 0.0\n",
    "n_inicial = 0\n",
    "\n",
    "estados = np.array([x_inicial, y_inicial, n_inicial])\n",
    "\n",
    "mapa = hmap.MapaHenon(estado_inicial=estados)"
   ]
  },
  {
   "cell_type": "code",
   "execution_count": 7,
   "id": "c0ddb2e8",
   "metadata": {
    "tags": []
   },
   "outputs": [],
   "source": [
    "n_iteracoes = 5000\n",
    "\n",
    "for n in range(0, n_iteracoes):\n",
    "    mapa.iterar()\n",
    "    estados = np.vstack((estados, mapa.ler_estado()))"
   ]
  },
  {
   "cell_type": "code",
   "execution_count": 8,
   "id": "f21c2391",
   "metadata": {},
   "outputs": [],
   "source": [
    "x = estados[:, 0]\n",
    "y = estados[:, 1]\n",
    "n = estados[:, 2]"
   ]
  },
  {
   "cell_type": "code",
   "execution_count": 9,
   "id": "5bcd5eb1",
   "metadata": {},
   "outputs": [
    {
     "data": {
      "application/vnd.jupyter.widget-view+json": {
       "model_id": "5bd3fdf6f04e49e2a7a526a0ae141829",
       "version_major": 2,
       "version_minor": 0
      },
      "text/plain": [
       "Canvas(toolbar=Toolbar(toolitems=[('Home', 'Reset original view', 'home', 'home'), ('Back', 'Back to previous …"
      ]
     },
     "metadata": {},
     "output_type": "display_data"
    }
   ],
   "source": [
    "fig, ax = plt.subplots(2)\n",
    "ax[0].plot(n, x, color='Crimson')\n",
    "\n",
    "ax[0].set_title(\"100 primeiras iterações das séries temporais do Mapa de Hénon para\\n $a =$ \" + str(a) + \" e $b =$ \" + str(b) + \" com $x_{0} =$ \" + str(x[0]) + \" e $y_{0} =$ \" + str(y[0]))\n",
    "ax[0].set_ylabel('x[n]')\n",
    "ax[0].set_xlabel('n')\n",
    "ax[0].set_xlim(0, 100)\n",
    "    \n",
    "ax[0].grid(True)\n",
    "\n",
    "ax[1].plot(n, y, color='LimeGreen')\n",
    "ax[1].set_ylabel('y[n]')\n",
    "ax[1].set_xlabel('n')\n",
    "ax[1].set_xlim(0, 100)\n",
    "ax[1].grid(True)\n",
    "\n",
    "fig.tight_layout()\n",
    "sns.despine()\n",
    "plt.show()"
   ]
  },
  {
   "cell_type": "markdown",
   "id": "dfb72ec1",
   "metadata": {},
   "source": [
    "### 2.1 Dividindo em um conjunto de treinamento e de teste, para K = 4 e L = 3"
   ]
  },
  {
   "cell_type": "code",
   "execution_count": 11,
   "id": "72f13f7b",
   "metadata": {},
   "outputs": [],
   "source": [
    "K = 4\n",
    "L = 3\n",
    "tam_teste = 0.15"
   ]
  },
  {
   "cell_type": "code",
   "execution_count": 12,
   "id": "c3edb817",
   "metadata": {},
   "outputs": [],
   "source": [
    "serie_temporal = times.SerieTemporal(x, K=K, L=L)"
   ]
  },
  {
   "cell_type": "code",
   "execution_count": 13,
   "id": "556b0e38",
   "metadata": {},
   "outputs": [],
   "source": [
    "serie_temporal.criar_matrizes()"
   ]
  },
  {
   "cell_type": "code",
   "execution_count": 14,
   "id": "0697c091",
   "metadata": {},
   "outputs": [],
   "source": [
    "X_treino, X_teste, y_treino, y_teste = serie_temporal.dividir_treino_teste(tam_teste)"
   ]
  },
  {
   "cell_type": "markdown",
   "id": "c320b8ff",
   "metadata": {},
   "source": [
    "## 3. Definindo o modelo para a MLP"
   ]
  },
  {
   "cell_type": "markdown",
   "id": "8e1eb73a",
   "metadata": {},
   "source": [
    "### 3.1 Definindo função para criar a MLP"
   ]
  },
  {
   "cell_type": "code",
   "execution_count": 15,
   "id": "5645c5a2",
   "metadata": {},
   "outputs": [],
   "source": [
    "def criar_modelo(batch_normalization='OFF', learning_rate=0.001, activation='selu', init_mode='lecun_normal', n_neurons=30):\n",
    "\n",
    "    optimizer_gs = optimizer\n",
    "    optimizer_gs.learning_rate.assign(learning_rate)\n",
    "    \n",
    "    model = keras.Sequential(name=\"MLP-1-camada-intermediaria\")\n",
    "    model.add(keras.layers.Dense(K, input_dim=K, name=\"camada_de_entrada\", activation = 'linear'))\n",
    "    if (batch_normalization == 'ON'):\n",
    "        model.add(keras.layers.BatchNormalization(name=\"camada_de_batch_normalization\"))\n",
    "    model.add(keras.layers.Dense(n_neurons, input_dim=K, activation=activation, kernel_initializer=init_mode, name=\"camada_intermediaria\"))\n",
    "    model.add(keras.layers.Dense(1, activation='linear', name=\"camada_de_saida\"))\n",
    "    \n",
    "    model.compile(\n",
    "        optimizer = optimizer_gs,\n",
    "        loss = loss)\n",
    "    \n",
    "    model.build()\n",
    "    return model"
   ]
  },
  {
   "cell_type": "markdown",
   "id": "932acccf",
   "metadata": {},
   "source": [
    "Utilizaremos os seguintes parâmetros no *Grid Search*:"
   ]
  },
  {
   "cell_type": "code",
   "execution_count": 16,
   "id": "e647d001",
   "metadata": {},
   "outputs": [],
   "source": [
    "param_grid = dict(batch_size=[2, 4, 8, 16, 32], \n",
    "                  batch_normalization=['ON', 'OFF'], \n",
    "                  activation=['selu', 'relu', 'elu', 'sigmoid', 'tanh'], \n",
    "                  init_mode = ['lecun_uniform', 'lecun_normal', 'glorot_normal', 'glorot_uniform', 'he_normal', 'he_uniform'],\n",
    "                  n_neurons = [5, 10, 15, 20, 30, 50, 75, 100],\n",
    "                  learning_rate = [0.001, 0.003, 0.005, 0.008, 0.01])"
   ]
  },
  {
   "cell_type": "markdown",
   "id": "c44f42bc",
   "metadata": {},
   "source": [
    "Para facilitar, dividiremos esse processo em etapas."
   ]
  },
  {
   "cell_type": "markdown",
   "id": "005f995d",
   "metadata": {},
   "source": [
    "### 3.2 Definindo parâmetros que não serão definidos pelo *Grid Search*"
   ]
  },
  {
   "cell_type": "code",
   "execution_count": 17,
   "id": "4fe35036",
   "metadata": {},
   "outputs": [],
   "source": [
    "loss = \"mean_squared_error\"\n",
    "optimizer = keras.optimizers.Nadam()"
   ]
  },
  {
   "cell_type": "markdown",
   "id": "8a0d8915",
   "metadata": {},
   "source": [
    "### 3.3 Definindo e executando o primeiro *Grid Search*"
   ]
  },
  {
   "cell_type": "markdown",
   "id": "a34e8a6a",
   "metadata": {},
   "source": [
    "Primeiro, avaliaremos o impacto do *batch size* e da camada de *batch normalization*."
   ]
  },
  {
   "cell_type": "code",
   "execution_count": 22,
   "id": "ba6b56c9",
   "metadata": {},
   "outputs": [],
   "source": [
    "param_grid_1 = dict(batch_size=[2, 4, 8, 16, 32], \n",
    "                  batch_normalization=['ON', 'OFF'])"
   ]
  },
  {
   "cell_type": "code",
   "execution_count": 23,
   "id": "e2fd2d42",
   "metadata": {},
   "outputs": [],
   "source": [
    "model_cv_1 = KerasRegressor(build_fn=criar_modelo, epochs=100, verbose=0)"
   ]
  },
  {
   "cell_type": "code",
   "execution_count": 24,
   "id": "af30c1c0",
   "metadata": {},
   "outputs": [],
   "source": [
    "grid = GridSearchCV(estimator=model_cv_1, param_grid=param_grid_1, n_jobs=1, cv=4, scoring='neg_mean_squared_error', verbose=1)"
   ]
  },
  {
   "cell_type": "code",
   "execution_count": 25,
   "id": "779dae6d",
   "metadata": {},
   "outputs": [],
   "source": [
    "grid_result = grid.fit(X_treino, y_treino)"
   ]
  },
  {
   "cell_type": "code",
   "execution_count": 26,
   "id": "e786f81a",
   "metadata": {},
   "outputs": [
    {
     "name": "stdout",
     "output_type": "stream",
     "text": [
      "Best: -0.031684 using {'batch_normalization': 'OFF', 'batch_size': 8}\n"
     ]
    }
   ],
   "source": [
    "print(\"Best: %f using %s\" % (grid_result.best_score_, grid_result.best_params_))"
   ]
  },
  {
   "cell_type": "code",
   "execution_count": 27,
   "id": "50017c11",
   "metadata": {},
   "outputs": [
    {
     "name": "stdout",
     "output_type": "stream",
     "text": [
      "-0.531136 (0.081344) with: {'batch_normalization': 'ON', 'batch_size': 2}\n",
      "-0.362861 (0.005263) with: {'batch_normalization': 'ON', 'batch_size': 4}\n",
      "-0.263085 (0.008577) with: {'batch_normalization': 'ON', 'batch_size': 8}\n",
      "-0.168302 (0.011296) with: {'batch_normalization': 'ON', 'batch_size': 16}\n",
      "-0.123444 (0.023527) with: {'batch_normalization': 'ON', 'batch_size': 32}\n",
      "-0.041960 (0.012089) with: {'batch_normalization': 'OFF', 'batch_size': 2}\n",
      "-0.033340 (0.013276) with: {'batch_normalization': 'OFF', 'batch_size': 4}\n",
      "-0.031684 (0.008750) with: {'batch_normalization': 'OFF', 'batch_size': 8}\n",
      "-0.036820 (0.010447) with: {'batch_normalization': 'OFF', 'batch_size': 16}\n",
      "-0.085695 (0.019583) with: {'batch_normalization': 'OFF', 'batch_size': 32}\n"
     ]
    }
   ],
   "source": [
    "means = grid_result.cv_results_['mean_test_score']\n",
    "stds = grid_result.cv_results_['std_test_score']\n",
    "params = grid_result.cv_results_['params']\n",
    "for mean, stdev, param in zip(means, stds, params):\n",
    "    print(\"%f (%f) with: %r\" % (mean, stdev, param))"
   ]
  },
  {
   "cell_type": "markdown",
   "id": "1f105bdf",
   "metadata": {},
   "source": [
    "### 3.4 Definindo e executando o segundo *Grid Search*"
   ]
  },
  {
   "cell_type": "markdown",
   "id": "d8b28d60",
   "metadata": {},
   "source": [
    "Agora, avaliaremos o impacto do *learning rate* do otimizador."
   ]
  },
  {
   "cell_type": "code",
   "execution_count": 18,
   "id": "79abc73f",
   "metadata": {},
   "outputs": [],
   "source": [
    "model_cv_2 = KerasRegressor(build_fn=criar_modelo, epochs=100, verbose=0, batch_size=8, batch_normalization='OFF')"
   ]
  },
  {
   "cell_type": "code",
   "execution_count": 19,
   "id": "0bf4283b",
   "metadata": {},
   "outputs": [],
   "source": [
    "param_grid_2 = dict(learning_rate=[0.001, 0.003, 0.005, 0.008, 0.01])"
   ]
  },
  {
   "cell_type": "code",
   "execution_count": 20,
   "id": "4b4f606b",
   "metadata": {},
   "outputs": [],
   "source": [
    "grid = GridSearchCV(estimator=model_cv_2, param_grid=param_grid_2, n_jobs=1, cv=4, scoring='neg_mean_squared_error', verbose=1)"
   ]
  },
  {
   "cell_type": "code",
   "execution_count": 21,
   "id": "6befbb2a",
   "metadata": {},
   "outputs": [],
   "source": [
    "grid_result = grid.fit(X_treino, y_treino)"
   ]
  },
  {
   "cell_type": "code",
   "execution_count": 22,
   "id": "6652ddbe",
   "metadata": {},
   "outputs": [
    {
     "name": "stdout",
     "output_type": "stream",
     "text": [
      "Best: -0.015915 using {'learning_rate': 0.003}\n"
     ]
    }
   ],
   "source": [
    "print(\"Best: %f using %s\" % (grid_result.best_score_, grid_result.best_params_))"
   ]
  },
  {
   "cell_type": "code",
   "execution_count": 23,
   "id": "1d2bd448",
   "metadata": {},
   "outputs": [
    {
     "name": "stdout",
     "output_type": "stream",
     "text": [
      "-0.040259 (0.002800) with: {'learning_rate': 0.001}\n",
      "-0.015915 (0.004685) with: {'learning_rate': 0.003}\n",
      "-0.024764 (0.004251) with: {'learning_rate': 0.005}\n",
      "-0.032914 (0.006057) with: {'learning_rate': 0.008}\n",
      "-0.107939 (0.120647) with: {'learning_rate': 0.01}\n"
     ]
    }
   ],
   "source": [
    "means = grid_result.cv_results_['mean_test_score']\n",
    "stds = grid_result.cv_results_['std_test_score']\n",
    "params = grid_result.cv_results_['params']\n",
    "for mean, stdev, param in zip(means, stds, params):\n",
    "    print(\"%f (%f) with: %r\" % (mean, stdev, param))"
   ]
  },
  {
   "cell_type": "markdown",
   "id": "ce0cd918",
   "metadata": {},
   "source": [
    "### 3.5 Definindo e executando o terceiro *Grid Search*"
   ]
  },
  {
   "cell_type": "markdown",
   "id": "f0d15303",
   "metadata": {},
   "source": [
    "Agora, avaliaremos o impacto da função de ativação da camada intermediária."
   ]
  },
  {
   "cell_type": "code",
   "execution_count": 25,
   "id": "ca98f005",
   "metadata": {},
   "outputs": [],
   "source": [
    "model_cv_3 = KerasRegressor(build_fn=criar_modelo, epochs=100, verbose=0, batch_size=8, batch_normalization='OFF', learning_rate=0.003)"
   ]
  },
  {
   "cell_type": "code",
   "execution_count": 26,
   "id": "98034a49",
   "metadata": {},
   "outputs": [],
   "source": [
    "param_grid_3 = dict(activation=['selu', 'relu', 'elu', 'sigmoid', 'tanh'])"
   ]
  },
  {
   "cell_type": "code",
   "execution_count": 27,
   "id": "e9dc3378",
   "metadata": {},
   "outputs": [],
   "source": [
    "grid = GridSearchCV(estimator=model_cv_3, param_grid=param_grid_3, n_jobs=1, cv=4, scoring='neg_mean_squared_error', verbose=1)"
   ]
  },
  {
   "cell_type": "code",
   "execution_count": 28,
   "id": "8cdabb4f",
   "metadata": {},
   "outputs": [
    {
     "name": "stdout",
     "output_type": "stream",
     "text": [
      "Fitting 4 folds for each of 5 candidates, totalling 20 fits\n"
     ]
    }
   ],
   "source": [
    "grid_result = grid.fit(X_treino, y_treino)"
   ]
  },
  {
   "cell_type": "code",
   "execution_count": 29,
   "id": "4212c051",
   "metadata": {},
   "outputs": [
    {
     "name": "stdout",
     "output_type": "stream",
     "text": [
      "Best: -0.002688 using {'activation': 'sigmoid'}\n"
     ]
    }
   ],
   "source": [
    "print(\"Best: %f using %s\" % (grid_result.best_score_, grid_result.best_params_))"
   ]
  },
  {
   "cell_type": "code",
   "execution_count": 30,
   "id": "93ee5d1b",
   "metadata": {},
   "outputs": [
    {
     "name": "stdout",
     "output_type": "stream",
     "text": [
      "-0.025435 (0.010703) with: {'activation': 'selu'}\n",
      "-0.017485 (0.010364) with: {'activation': 'relu'}\n",
      "-0.016884 (0.010223) with: {'activation': 'elu'}\n",
      "-0.002688 (0.000557) with: {'activation': 'sigmoid'}\n",
      "-0.003098 (0.001063) with: {'activation': 'tanh'}\n"
     ]
    }
   ],
   "source": [
    "means = grid_result.cv_results_['mean_test_score']\n",
    "stds = grid_result.cv_results_['std_test_score']\n",
    "params = grid_result.cv_results_['params']\n",
    "for mean, stdev, param in zip(means, stds, params):\n",
    "    print(\"%f (%f) with: %r\" % (mean, stdev, param))"
   ]
  },
  {
   "cell_type": "markdown",
   "id": "62a9368b",
   "metadata": {},
   "source": [
    "### 3.6 Definindo e executando o quarto *Grid Search*"
   ]
  },
  {
   "cell_type": "markdown",
   "id": "29368f29",
   "metadata": {},
   "source": [
    "Agora, avaliaremos o impacto do inicializador da camada intermediária."
   ]
  },
  {
   "cell_type": "code",
   "execution_count": 31,
   "id": "a63cd58a",
   "metadata": {},
   "outputs": [],
   "source": [
    "model_cv_4 = KerasRegressor(build_fn=criar_modelo, epochs=100, verbose=0, batch_size=8, batch_normalization='OFF', learning_rate=0.003, activation='sigmoid')"
   ]
  },
  {
   "cell_type": "code",
   "execution_count": 32,
   "id": "2bf1c69a",
   "metadata": {},
   "outputs": [],
   "source": [
    "param_grid_4 = dict(init_mode = ['glorot_uniform', 'glorot_normal'])"
   ]
  },
  {
   "cell_type": "code",
   "execution_count": 34,
   "id": "e6fa0a21",
   "metadata": {},
   "outputs": [],
   "source": [
    "grid = GridSearchCV(estimator=model_cv_4, param_grid=param_grid_4, n_jobs=1, cv=4, scoring='neg_mean_squared_error', verbose=1)"
   ]
  },
  {
   "cell_type": "code",
   "execution_count": 35,
   "id": "d033d716",
   "metadata": {},
   "outputs": [
    {
     "name": "stdout",
     "output_type": "stream",
     "text": [
      "Fitting 4 folds for each of 2 candidates, totalling 8 fits\n"
     ]
    }
   ],
   "source": [
    "grid_result = grid.fit(X_treino, y_treino)"
   ]
  },
  {
   "cell_type": "code",
   "execution_count": 36,
   "id": "4b45b1cd",
   "metadata": {},
   "outputs": [
    {
     "name": "stdout",
     "output_type": "stream",
     "text": [
      "Best: -0.002853 using {'init_mode': 'glorot_normal'}\n"
     ]
    }
   ],
   "source": [
    "print(\"Best: %f using %s\" % (grid_result.best_score_, grid_result.best_params_))"
   ]
  },
  {
   "cell_type": "code",
   "execution_count": 37,
   "id": "4e1e445b",
   "metadata": {},
   "outputs": [
    {
     "name": "stdout",
     "output_type": "stream",
     "text": [
      "-0.005647 (0.005858) with: {'init_mode': 'glorot_uniform'}\n",
      "-0.002853 (0.000296) with: {'init_mode': 'glorot_normal'}\n"
     ]
    }
   ],
   "source": [
    "means = grid_result.cv_results_['mean_test_score']\n",
    "stds = grid_result.cv_results_['std_test_score']\n",
    "params = grid_result.cv_results_['params']\n",
    "for mean, stdev, param in zip(means, stds, params):\n",
    "    print(\"%f (%f) with: %r\" % (mean, stdev, param))"
   ]
  },
  {
   "cell_type": "markdown",
   "id": "84b12b4c",
   "metadata": {},
   "source": [
    "### 3.7 Definindo e executando o quinto *Grid Search*"
   ]
  },
  {
   "cell_type": "markdown",
   "id": "1a8367a4",
   "metadata": {},
   "source": [
    "Agora, avaliaremos o número de neurônios na camada intermediária."
   ]
  },
  {
   "cell_type": "code",
   "execution_count": 38,
   "id": "6127158f",
   "metadata": {},
   "outputs": [],
   "source": [
    "model_cv_5 = KerasRegressor(build_fn=criar_modelo, epochs=100, verbose=0, batch_size=8, batch_normalization='OFF', learning_rate=0.003, activation='sigmoid', init_mode='glorot_normal')"
   ]
  },
  {
   "cell_type": "code",
   "execution_count": 39,
   "id": "85eec99b",
   "metadata": {},
   "outputs": [],
   "source": [
    "param_grid_5 = dict(n_neurons = [5, 10, 15, 20, 30, 50, 75, 100])"
   ]
  },
  {
   "cell_type": "code",
   "execution_count": 40,
   "id": "d3c93ea9",
   "metadata": {},
   "outputs": [],
   "source": [
    "grid = GridSearchCV(estimator=model_cv_5, param_grid=param_grid_5, n_jobs=1, cv=4, scoring='neg_mean_squared_error')"
   ]
  },
  {
   "cell_type": "code",
   "execution_count": 41,
   "id": "024eb30f",
   "metadata": {},
   "outputs": [],
   "source": [
    "grid_result = grid.fit(X_treino, y_treino)"
   ]
  },
  {
   "cell_type": "code",
   "execution_count": 42,
   "id": "c5bdba9f",
   "metadata": {},
   "outputs": [
    {
     "name": "stdout",
     "output_type": "stream",
     "text": [
      "Best: -0.002392 using {'n_neurons': 50}\n"
     ]
    }
   ],
   "source": [
    "print(\"Best: %f using %s\" % (grid_result.best_score_, grid_result.best_params_))"
   ]
  },
  {
   "cell_type": "code",
   "execution_count": 43,
   "id": "4e2a59bd",
   "metadata": {},
   "outputs": [
    {
     "name": "stdout",
     "output_type": "stream",
     "text": [
      "-0.070237 (0.028566) with: {'n_neurons': 5}\n",
      "-0.016834 (0.005783) with: {'n_neurons': 10}\n",
      "-0.008536 (0.005339) with: {'n_neurons': 15}\n",
      "-0.009367 (0.005866) with: {'n_neurons': 20}\n",
      "-0.003289 (0.001008) with: {'n_neurons': 30}\n",
      "-0.002392 (0.001208) with: {'n_neurons': 50}\n",
      "-0.004312 (0.001394) with: {'n_neurons': 75}\n",
      "-0.003799 (0.002850) with: {'n_neurons': 100}\n"
     ]
    }
   ],
   "source": [
    "means = grid_result.cv_results_['mean_test_score']\n",
    "stds = grid_result.cv_results_['std_test_score']\n",
    "params = grid_result.cv_results_['params']\n",
    "for mean, stdev, param in zip(means, stds, params):\n",
    "    print(\"%f (%f) with: %r\" % (mean, stdev, param))"
   ]
  },
  {
   "cell_type": "markdown",
   "id": "913abe32",
   "metadata": {},
   "source": [
    "### Treino com o melhor modelo"
   ]
  },
  {
   "cell_type": "code",
   "execution_count": 44,
   "id": "ab93a99f",
   "metadata": {},
   "outputs": [],
   "source": [
    "model = criar_modelo(batch_normalization='OFF', learning_rate=0.003, activation='sigmoid', init_mode='glorot_normal', n_neurons=50)"
   ]
  },
  {
   "cell_type": "code",
   "execution_count": 45,
   "id": "9726015f",
   "metadata": {},
   "outputs": [
    {
     "name": "stdout",
     "output_type": "stream",
     "text": [
      "Model: \"MLP-1-camada-intermediaria\"\n",
      "_________________________________________________________________\n",
      "Layer (type)                 Output Shape              Param #   \n",
      "=================================================================\n",
      "camada_de_entrada (Dense)    (None, 4)                 20        \n",
      "_________________________________________________________________\n",
      "camada_intermediaria (Dense) (None, 50)                250       \n",
      "_________________________________________________________________\n",
      "camada_de_saida (Dense)      (None, 1)                 51        \n",
      "=================================================================\n",
      "Total params: 321\n",
      "Trainable params: 321\n",
      "Non-trainable params: 0\n",
      "_________________________________________________________________\n"
     ]
    }
   ],
   "source": [
    "model.summary()"
   ]
  },
  {
   "cell_type": "code",
   "execution_count": 46,
   "id": "49d4647a",
   "metadata": {},
   "outputs": [],
   "source": [
    "X_treino, X_val, y_treino, y_val = train_test_split(X_treino, y_treino, test_size=0.1)"
   ]
  },
  {
   "cell_type": "code",
   "execution_count": 47,
   "id": "970808cf",
   "metadata": {},
   "outputs": [],
   "source": [
    "early_stopping = tf.keras.callbacks.EarlyStopping(patience=10, restore_best_weights=True, monitor='val_loss')"
   ]
  },
  {
   "cell_type": "code",
   "execution_count": 48,
   "id": "5566cb66",
   "metadata": {},
   "outputs": [],
   "source": [
    "batch_size = 8"
   ]
  },
  {
   "cell_type": "code",
   "execution_count": 49,
   "id": "5519ef70",
   "metadata": {},
   "outputs": [
    {
     "name": "stdout",
     "output_type": "stream",
     "text": [
      "Epoch 1/100\n",
      "478/478 [==============================] - 1s 1ms/step - loss: 0.4624 - val_loss: 0.4394\n",
      "Epoch 2/100\n",
      "478/478 [==============================] - 1s 1ms/step - loss: 0.4581 - val_loss: 0.3851\n",
      "Epoch 3/100\n",
      "478/478 [==============================] - 1s 1ms/step - loss: 0.4322 - val_loss: 0.3855\n",
      "Epoch 4/100\n",
      "478/478 [==============================] - 1s 1ms/step - loss: 0.4281 - val_loss: 0.3926\n",
      "Epoch 5/100\n",
      "478/478 [==============================] - 1s 1ms/step - loss: 0.4295 - val_loss: 0.3948\n",
      "Epoch 6/100\n",
      "478/478 [==============================] - 1s 1ms/step - loss: 0.4139 - val_loss: 0.3778\n",
      "Epoch 7/100\n",
      "478/478 [==============================] - 1s 1ms/step - loss: 0.3831 - val_loss: 0.3002\n",
      "Epoch 8/100\n",
      "478/478 [==============================] - 1s 1ms/step - loss: 0.3076 - val_loss: 0.2280\n",
      "Epoch 9/100\n",
      "478/478 [==============================] - 1s 1ms/step - loss: 0.2375 - val_loss: 0.1986\n",
      "Epoch 10/100\n",
      "478/478 [==============================] - 1s 1ms/step - loss: 0.1899 - val_loss: 0.1467\n",
      "Epoch 11/100\n",
      "478/478 [==============================] - 1s 1ms/step - loss: 0.1541 - val_loss: 0.1458\n",
      "Epoch 12/100\n",
      "478/478 [==============================] - 1s 1ms/step - loss: 0.1268 - val_loss: 0.1111\n",
      "Epoch 13/100\n",
      "478/478 [==============================] - 1s 1ms/step - loss: 0.1105 - val_loss: 0.1177\n",
      "Epoch 14/100\n",
      "478/478 [==============================] - 1s 1ms/step - loss: 0.0956 - val_loss: 0.0881\n",
      "Epoch 15/100\n",
      "478/478 [==============================] - 1s 1ms/step - loss: 0.0827 - val_loss: 0.1070\n",
      "Epoch 16/100\n",
      "478/478 [==============================] - 1s 1ms/step - loss: 0.0778 - val_loss: 0.0795\n",
      "Epoch 17/100\n",
      "478/478 [==============================] - 1s 1ms/step - loss: 0.0726 - val_loss: 0.0974\n",
      "Epoch 18/100\n",
      "478/478 [==============================] - 1s 1ms/step - loss: 0.0678 - val_loss: 0.0737\n",
      "Epoch 19/100\n",
      "478/478 [==============================] - 1s 1ms/step - loss: 0.0581 - val_loss: 0.0720\n",
      "Epoch 20/100\n",
      "478/478 [==============================] - 1s 1ms/step - loss: 0.0568 - val_loss: 0.0652\n",
      "Epoch 21/100\n",
      "478/478 [==============================] - 1s 1ms/step - loss: 0.0543 - val_loss: 0.0635\n",
      "Epoch 22/100\n",
      "478/478 [==============================] - 1s 1ms/step - loss: 0.0483 - val_loss: 0.0640\n",
      "Epoch 23/100\n",
      "478/478 [==============================] - 1s 1ms/step - loss: 0.0522 - val_loss: 0.0687\n",
      "Epoch 24/100\n",
      "478/478 [==============================] - 1s 1ms/step - loss: 0.0491 - val_loss: 0.0642\n",
      "Epoch 25/100\n",
      "478/478 [==============================] - 1s 1ms/step - loss: 0.0441 - val_loss: 0.0573\n",
      "Epoch 26/100\n",
      "478/478 [==============================] - 1s 1ms/step - loss: 0.0435 - val_loss: 0.0550\n",
      "Epoch 27/100\n",
      "478/478 [==============================] - 1s 1ms/step - loss: 0.0403 - val_loss: 0.0545\n",
      "Epoch 28/100\n",
      "478/478 [==============================] - 1s 1ms/step - loss: 0.0416 - val_loss: 0.0488\n",
      "Epoch 29/100\n",
      "478/478 [==============================] - 1s 1ms/step - loss: 0.0375 - val_loss: 0.0482\n",
      "Epoch 30/100\n",
      "478/478 [==============================] - 1s 1ms/step - loss: 0.0371 - val_loss: 0.0490\n",
      "Epoch 31/100\n",
      "478/478 [==============================] - 1s 1ms/step - loss: 0.0331 - val_loss: 0.0428\n",
      "Epoch 32/100\n",
      "478/478 [==============================] - 1s 1ms/step - loss: 0.0343 - val_loss: 0.0438\n",
      "Epoch 33/100\n",
      "478/478 [==============================] - 1s 1ms/step - loss: 0.0315 - val_loss: 0.0405\n",
      "Epoch 34/100\n",
      "478/478 [==============================] - 1s 1ms/step - loss: 0.0289 - val_loss: 0.0314\n",
      "Epoch 35/100\n",
      "478/478 [==============================] - 1s 1ms/step - loss: 0.0238 - val_loss: 0.0259\n",
      "Epoch 36/100\n",
      "478/478 [==============================] - 1s 1ms/step - loss: 0.0210 - val_loss: 0.0232\n",
      "Epoch 37/100\n",
      "478/478 [==============================] - 1s 1ms/step - loss: 0.0189 - val_loss: 0.0230\n",
      "Epoch 38/100\n",
      "478/478 [==============================] - 1s 1ms/step - loss: 0.0179 - val_loss: 0.0204\n",
      "Epoch 39/100\n",
      "478/478 [==============================] - 1s 1ms/step - loss: 0.0157 - val_loss: 0.0184\n",
      "Epoch 40/100\n",
      "478/478 [==============================] - 1s 1ms/step - loss: 0.0152 - val_loss: 0.0167\n",
      "Epoch 41/100\n",
      "478/478 [==============================] - 1s 1ms/step - loss: 0.0128 - val_loss: 0.0142\n",
      "Epoch 42/100\n",
      "478/478 [==============================] - 1s 1ms/step - loss: 0.0125 - val_loss: 0.0130\n",
      "Epoch 43/100\n",
      "478/478 [==============================] - 1s 1ms/step - loss: 0.0111 - val_loss: 0.0134\n",
      "Epoch 44/100\n",
      "478/478 [==============================] - 1s 1ms/step - loss: 0.0112 - val_loss: 0.0103\n",
      "Epoch 45/100\n",
      "478/478 [==============================] - 1s 1ms/step - loss: 0.0101 - val_loss: 0.0105\n",
      "Epoch 46/100\n",
      "478/478 [==============================] - 1s 1ms/step - loss: 0.0101 - val_loss: 0.0098\n",
      "Epoch 47/100\n",
      "478/478 [==============================] - 1s 1ms/step - loss: 0.0096 - val_loss: 0.0112\n",
      "Epoch 48/100\n",
      "478/478 [==============================] - 1s 1ms/step - loss: 0.0088 - val_loss: 0.0087\n",
      "Epoch 49/100\n",
      "478/478 [==============================] - 1s 1ms/step - loss: 0.0082 - val_loss: 0.0073\n",
      "Epoch 50/100\n",
      "478/478 [==============================] - 1s 1ms/step - loss: 0.0072 - val_loss: 0.0072\n",
      "Epoch 51/100\n",
      "478/478 [==============================] - 1s 1ms/step - loss: 0.0074 - val_loss: 0.0100\n",
      "Epoch 52/100\n",
      "478/478 [==============================] - 1s 1ms/step - loss: 0.0070 - val_loss: 0.0069\n",
      "Epoch 53/100\n",
      "478/478 [==============================] - 1s 1ms/step - loss: 0.0066 - val_loss: 0.0053\n",
      "Epoch 54/100\n",
      "478/478 [==============================] - 1s 1ms/step - loss: 0.0068 - val_loss: 0.0050\n",
      "Epoch 55/100\n",
      "478/478 [==============================] - 1s 1ms/step - loss: 0.0065 - val_loss: 0.0054\n",
      "Epoch 56/100\n",
      "478/478 [==============================] - 1s 1ms/step - loss: 0.0061 - val_loss: 0.0055\n",
      "Epoch 57/100\n",
      "478/478 [==============================] - 1s 1ms/step - loss: 0.0063 - val_loss: 0.0055\n",
      "Epoch 58/100\n",
      "478/478 [==============================] - 1s 1ms/step - loss: 0.0054 - val_loss: 0.0059\n",
      "Epoch 59/100\n",
      "478/478 [==============================] - 1s 1ms/step - loss: 0.0051 - val_loss: 0.0045\n",
      "Epoch 60/100\n",
      "478/478 [==============================] - 1s 1ms/step - loss: 0.0058 - val_loss: 0.0046\n",
      "Epoch 61/100\n",
      "478/478 [==============================] - 1s 1ms/step - loss: 0.0045 - val_loss: 0.0043\n",
      "Epoch 62/100\n",
      "478/478 [==============================] - 1s 1ms/step - loss: 0.0049 - val_loss: 0.0078\n",
      "Epoch 63/100\n",
      "478/478 [==============================] - 1s 1ms/step - loss: 0.0057 - val_loss: 0.0042\n",
      "Epoch 64/100\n",
      "478/478 [==============================] - 1s 1ms/step - loss: 0.0051 - val_loss: 0.0037\n",
      "Epoch 65/100\n",
      "478/478 [==============================] - 1s 1ms/step - loss: 0.0042 - val_loss: 0.0037\n",
      "Epoch 66/100\n",
      "478/478 [==============================] - 1s 1ms/step - loss: 0.0042 - val_loss: 0.0038\n",
      "Epoch 67/100\n",
      "478/478 [==============================] - 1s 1ms/step - loss: 0.0042 - val_loss: 0.0045\n",
      "Epoch 68/100\n",
      "478/478 [==============================] - 1s 1ms/step - loss: 0.0040 - val_loss: 0.0037\n",
      "Epoch 69/100\n",
      "478/478 [==============================] - 1s 1ms/step - loss: 0.0041 - val_loss: 0.0049\n",
      "Epoch 70/100\n",
      "478/478 [==============================] - 1s 1ms/step - loss: 0.0040 - val_loss: 0.0065\n",
      "Epoch 71/100\n",
      "478/478 [==============================] - 1s 1ms/step - loss: 0.0039 - val_loss: 0.0034\n",
      "Epoch 72/100\n",
      "478/478 [==============================] - 1s 1ms/step - loss: 0.0039 - val_loss: 0.0033\n",
      "Epoch 73/100\n",
      "478/478 [==============================] - 1s 1ms/step - loss: 0.0037 - val_loss: 0.0032\n",
      "Epoch 74/100\n",
      "478/478 [==============================] - 1s 1ms/step - loss: 0.0040 - val_loss: 0.0032\n",
      "Epoch 75/100\n",
      "478/478 [==============================] - 1s 1ms/step - loss: 0.0036 - val_loss: 0.0028\n",
      "Epoch 76/100\n",
      "478/478 [==============================] - 1s 1ms/step - loss: 0.0036 - val_loss: 0.0030\n",
      "Epoch 77/100\n",
      "478/478 [==============================] - 1s 1ms/step - loss: 0.0034 - val_loss: 0.0041\n",
      "Epoch 78/100\n",
      "478/478 [==============================] - 1s 1ms/step - loss: 0.0031 - val_loss: 0.0039\n",
      "Epoch 79/100\n",
      "478/478 [==============================] - 1s 1ms/step - loss: 0.0034 - val_loss: 0.0027\n",
      "Epoch 80/100\n",
      "478/478 [==============================] - 1s 1ms/step - loss: 0.0029 - val_loss: 0.0024\n",
      "Epoch 81/100\n",
      "478/478 [==============================] - 1s 1ms/step - loss: 0.0033 - val_loss: 0.0025\n",
      "Epoch 82/100\n",
      "478/478 [==============================] - 1s 1ms/step - loss: 0.0032 - val_loss: 0.0040\n",
      "Epoch 83/100\n",
      "478/478 [==============================] - 1s 1ms/step - loss: 0.0032 - val_loss: 0.0032\n",
      "Epoch 84/100\n",
      "478/478 [==============================] - 1s 1ms/step - loss: 0.0029 - val_loss: 0.0029\n",
      "Epoch 85/100\n",
      "478/478 [==============================] - 1s 1ms/step - loss: 0.0029 - val_loss: 0.0037\n",
      "Epoch 86/100\n",
      "478/478 [==============================] - 1s 1ms/step - loss: 0.0035 - val_loss: 0.0025\n",
      "Epoch 87/100\n",
      "478/478 [==============================] - 1s 1ms/step - loss: 0.0030 - val_loss: 0.0039\n",
      "Epoch 88/100\n",
      "478/478 [==============================] - 1s 1ms/step - loss: 0.0030 - val_loss: 0.0026\n",
      "Epoch 89/100\n",
      "478/478 [==============================] - 1s 1ms/step - loss: 0.0028 - val_loss: 0.0023\n",
      "Epoch 90/100\n",
      "478/478 [==============================] - 1s 1ms/step - loss: 0.0026 - val_loss: 0.0023\n",
      "Epoch 91/100\n",
      "478/478 [==============================] - 1s 1ms/step - loss: 0.0026 - val_loss: 0.0022\n",
      "Epoch 92/100\n",
      "478/478 [==============================] - 1s 1ms/step - loss: 0.0028 - val_loss: 0.0025\n",
      "Epoch 93/100\n",
      "478/478 [==============================] - 1s 1ms/step - loss: 0.0028 - val_loss: 0.0030\n",
      "Epoch 94/100\n",
      "478/478 [==============================] - 1s 1ms/step - loss: 0.0028 - val_loss: 0.0020\n",
      "Epoch 95/100\n",
      "478/478 [==============================] - 1s 1ms/step - loss: 0.0027 - val_loss: 0.0022\n",
      "Epoch 96/100\n",
      "478/478 [==============================] - 1s 1ms/step - loss: 0.0025 - val_loss: 0.0025\n",
      "Epoch 97/100\n",
      "478/478 [==============================] - 1s 1ms/step - loss: 0.0028 - val_loss: 0.0021\n",
      "Epoch 98/100\n",
      "478/478 [==============================] - 1s 1ms/step - loss: 0.0027 - val_loss: 0.0029\n",
      "Epoch 99/100\n",
      "478/478 [==============================] - 1s 1ms/step - loss: 0.0025 - val_loss: 0.0032\n",
      "Epoch 100/100\n",
      "478/478 [==============================] - 1s 1ms/step - loss: 0.0022 - val_loss: 0.0021\n"
     ]
    }
   ],
   "source": [
    "history = model.fit(X_treino, y_treino, epochs=100,\n",
    "                            callbacks=early_stopping, validation_data=(X_val, y_val),\n",
    "                            batch_size=batch_size)\n",
    "treinamento = pd.DataFrame(history.history)"
   ]
  },
  {
   "cell_type": "markdown",
   "id": "f432b823",
   "metadata": {},
   "source": [
    "## Teste com o melhor modelo"
   ]
  },
  {
   "cell_type": "code",
   "execution_count": 50,
   "id": "0c46d16d",
   "metadata": {},
   "outputs": [],
   "source": [
    "y_pred = model.predict(X_teste)"
   ]
  },
  {
   "cell_type": "code",
   "execution_count": 57,
   "id": "7c092f8a",
   "metadata": {},
   "outputs": [
    {
     "data": {
      "application/vnd.jupyter.widget-view+json": {
       "model_id": "6f4f9fe55af84f1a8dd64cb015d7b3a6",
       "version_major": 2,
       "version_minor": 0
      },
      "text/plain": [
       "Canvas(toolbar=Toolbar(toolitems=[('Home', 'Reset original view', 'home', 'home'), ('Back', 'Back to previous …"
      ]
     },
     "metadata": {},
     "output_type": "display_data"
    }
   ],
   "source": [
    "fig, ax = plt.subplots()\n",
    "ax.plot(n[len(n)-int(len(n)*tam_teste):,], y_teste, color='DodgerBlue', label='Valor real')\n",
    "ax.plot(n[len(n)-int(len(n)*tam_teste):,], y_pred, color='Crimson', label='MLP')\n",
    "\n",
    "ax.set_title(\"Comparação da predição da MLP com o valor real do mapa de Hénon com\\n $x_{0} =$ \" + str(x[0]) + \" e $y_{0} =$ \" + str(y[0]) + \" utilizando a rede neural ótima no conjunto de teste\")\n",
    "ax.set_ylabel('x[n]')\n",
    "ax.set_xlabel('n')\n",
    "ax.set_xlim(4900, 5000)\n",
    "    \n",
    "ax.grid(True)\n",
    "sns.despine()\n",
    "ax.legend()\n",
    "\n",
    "plt.show()\n",
    "fig.savefig(\"../../../../images/mlp-basica/performance/mlp-vs-henon.png\")"
   ]
  },
  {
   "cell_type": "code",
   "execution_count": null,
   "id": "8ecebe33",
   "metadata": {},
   "outputs": [],
   "source": []
  }
 ],
 "metadata": {
  "kernelspec": {
   "display_name": "Python 3",
   "language": "python",
   "name": "python3"
  },
  "language_info": {
   "codemirror_mode": {
    "name": "ipython",
    "version": 3
   },
   "file_extension": ".py",
   "mimetype": "text/x-python",
   "name": "python",
   "nbconvert_exporter": "python",
   "pygments_lexer": "ipython3",
   "version": "3.8.0"
  }
 },
 "nbformat": 4,
 "nbformat_minor": 5
}
