{
 "cells": [
  {
   "cell_type": "markdown",
   "id": "58aeef9b",
   "metadata": {},
   "source": [
    "# Implementando uma MLP básica com Grid Search para escolher melhor os parâmetros no Mapa de Hénon"
   ]
  },
  {
   "cell_type": "markdown",
   "id": "95226438",
   "metadata": {},
   "source": [
    "## 1. Importando as bibliotecas necessárias"
   ]
  },
  {
   "cell_type": "markdown",
   "id": "6df8a4db",
   "metadata": {},
   "source": [
    "### 1.1 Bibliotecas gerais"
   ]
  },
  {
   "cell_type": "code",
   "execution_count": 3,
   "id": "99620b43",
   "metadata": {},
   "outputs": [],
   "source": [
    "%matplotlib widget\n",
    "import numpy as np\n",
    "import pandas as pd\n",
    "import matplotlib.pyplot as plt\n",
    "import seaborn as sns # a biblioteca 'seaborn' contém vários estilos para os gráficos do 'matpĺotlib'\n",
    "\n",
    "# agora, melhoramos a qualidade de saida e de visualizacao da imagem \n",
    "# alem de mudar a fonte padrao para uma do latex\n",
    "sns.set_style(\"ticks\")\n",
    "plt.rcParams['savefig.dpi'] = 200\n",
    "plt.rcParams[\"figure.dpi\"] = 150\n",
    "\n",
    "plt.rcParams.update({\n",
    "    \"text.usetex\": True,\n",
    "    \"font.family\": \"serif\",\n",
    "    \"font.serif\": [\"Palatino\"],\n",
    "})\n",
    "plt.style.use('dark_background')"
   ]
  },
  {
   "cell_type": "markdown",
   "id": "e3dcc98e",
   "metadata": {},
   "source": [
    "### 1.2 Bibliotecas para MLP"
   ]
  },
  {
   "cell_type": "code",
   "execution_count": 4,
   "id": "fb52d494",
   "metadata": {},
   "outputs": [],
   "source": [
    "import tensorflow as tf\n",
    "physical_devices = tf.config.list_physical_devices('GPU')\n",
    "\n",
    "from tensorflow import keras"
   ]
  },
  {
   "cell_type": "code",
   "execution_count": 5,
   "id": "23b282e4",
   "metadata": {},
   "outputs": [],
   "source": [
    "from sklearn.model_selection import GridSearchCV\n",
    "from sklearn.model_selection import train_test_split"
   ]
  },
  {
   "cell_type": "code",
   "execution_count": 1,
   "id": "3a86b403",
   "metadata": {},
   "outputs": [],
   "source": [
    "from pibic2020.models import mlp_model"
   ]
  },
  {
   "cell_type": "markdown",
   "id": "80f4196b",
   "metadata": {},
   "source": [
    "### 1.3 Bibliotecas dos sistemas caóticos"
   ]
  },
  {
   "cell_type": "code",
   "execution_count": 2,
   "id": "e53024bd",
   "metadata": {},
   "outputs": [],
   "source": [
    "from pibic2020.tools import timeseries as times\n",
    "from pibic2020.data import henon as hmap"
   ]
  },
  {
   "cell_type": "markdown",
   "id": "87fc373d",
   "metadata": {},
   "source": [
    "## 2. Gerando a série temporal do mapa de Hénon"
   ]
  },
  {
   "cell_type": "markdown",
   "id": "7d9aeba6",
   "metadata": {},
   "source": [
    "Os valores para os parâmetros das equações serão os \"básicos\" apresentados no *paper* original."
   ]
  },
  {
   "cell_type": "code",
   "execution_count": 8,
   "id": "af722718",
   "metadata": {},
   "outputs": [],
   "source": [
    "a = 1.4\n",
    "b = 0.3\n",
    "x_inicial = 1.0\n",
    "y_inicial = 0.0\n",
    "n_inicial = 0\n",
    "\n",
    "estados = np.array([x_inicial, y_inicial, n_inicial])\n",
    "\n",
    "mapa = hmap.MapaHenon(estado_inicial=estados)"
   ]
  },
  {
   "cell_type": "code",
   "execution_count": 9,
   "id": "4b4c2446",
   "metadata": {
    "tags": []
   },
   "outputs": [],
   "source": [
    "n_iteracoes = 5000\n",
    "estados = mapa.simular(n_iteracoes)"
   ]
  },
  {
   "cell_type": "code",
   "execution_count": 10,
   "id": "55f60bbf",
   "metadata": {},
   "outputs": [],
   "source": [
    "x = estados[:, 0]\n",
    "y = estados[:, 1]\n",
    "n = estados[:, 2]"
   ]
  },
  {
   "cell_type": "code",
   "execution_count": 11,
   "id": "52d29641",
   "metadata": {},
   "outputs": [
    {
     "data": {
      "application/vnd.jupyter.widget-view+json": {
       "model_id": "b70a349b57a742b285e93797b1e16422",
       "version_major": 2,
       "version_minor": 0
      },
      "text/plain": [
       "Canvas(toolbar=Toolbar(toolitems=[('Home', 'Reset original view', 'home', 'home'), ('Back', 'Back to previous …"
      ]
     },
     "metadata": {},
     "output_type": "display_data"
    }
   ],
   "source": [
    "fig, ax = plt.subplots()\n",
    "ax.plot(n, x, color='LimeGreen', linewidth=0.9)\n",
    "\n",
    "ax.set_title(\"100 primeiras iterações da série temporal em $\\hat{x}$ do Mapa de Hénon para\\n $a =$ \" + str(a) + \" e $b =$ \" + str(b) + \" com $x[0] =$ \" + str(x[0]) + \" e $y[0] =$ \" + str(y[0]))\n",
    "ax.set_ylabel('$x[n]$')\n",
    "ax.set_xlabel('$n$')\n",
    "ax.set_xlim(0, 100)  \n",
    "ax.grid(True)\n",
    "\n",
    "fig.tight_layout()\n",
    "sns.despine()\n",
    "plt.show()"
   ]
  },
  {
   "cell_type": "markdown",
   "id": "267160f3",
   "metadata": {},
   "source": [
    "### 2.1 Dividindo em um conjunto de treinamento e de teste, para K = 4 e L = 3"
   ]
  },
  {
   "cell_type": "code",
   "execution_count": 12,
   "id": "dccde968",
   "metadata": {},
   "outputs": [],
   "source": [
    "K = 4\n",
    "L = 3\n",
    "tam_teste = 0.15"
   ]
  },
  {
   "cell_type": "code",
   "execution_count": 13,
   "id": "80bfb1b1",
   "metadata": {},
   "outputs": [],
   "source": [
    "serie_temporal = times.SerieTemporal(x, K=K, L=L)"
   ]
  },
  {
   "cell_type": "code",
   "execution_count": 15,
   "id": "23d0df32",
   "metadata": {},
   "outputs": [],
   "source": [
    "X_treino, X_teste, y_treino, y_teste = serie_temporal.dividir_treino_teste(tam_teste)"
   ]
  },
  {
   "cell_type": "markdown",
   "id": "28286440",
   "metadata": {},
   "source": [
    "## 3. Definindo o modelo para a MLP"
   ]
  },
  {
   "cell_type": "markdown",
   "id": "432abc8a",
   "metadata": {},
   "source": [
    "### 3.1 Definindo função para criar a MLP"
   ]
  },
  {
   "cell_type": "code",
   "execution_count": 29,
   "id": "76aed98c",
   "metadata": {},
   "outputs": [],
   "source": [
    "mlp_gridsearch = mlp_model.ModeloMLP(input_size=K)"
   ]
  },
  {
   "cell_type": "markdown",
   "id": "e569516c",
   "metadata": {},
   "source": [
    "Utilizaremos os seguintes parâmetros no *Grid Search*:"
   ]
  },
  {
   "cell_type": "code",
   "execution_count": 16,
   "id": "913c51d3",
   "metadata": {},
   "outputs": [],
   "source": [
    "param_grid = dict(batch_size=[2, 4, 8, 16, 32], \n",
    "                  batch_normalization=['ON', 'OFF'], \n",
    "                  activation=['selu', 'relu', 'elu', 'sigmoid', 'tanh'], \n",
    "                  init_mode = ['lecun_uniform', 'lecun_normal', 'glorot_normal', 'glorot_uniform', 'he_normal', 'he_uniform'],\n",
    "                  n_neurons = [5, 10, 15, 20, 30, 50, 75, 100],\n",
    "                  learning_rate = [0.001, 0.003, 0.005, 0.008, 0.01])"
   ]
  },
  {
   "cell_type": "markdown",
   "id": "ef190c50",
   "metadata": {},
   "source": [
    "Para facilitar, dividiremos esse processo em etapas."
   ]
  },
  {
   "cell_type": "markdown",
   "id": "b69cae7c",
   "metadata": {},
   "source": [
    "### 3.2 Definindo parâmetros que não serão definidos pelo *Grid Search*"
   ]
  },
  {
   "cell_type": "code",
   "execution_count": 17,
   "id": "9e7fc85c",
   "metadata": {},
   "outputs": [],
   "source": [
    "loss = \"mean_squared_error\"\n",
    "optimizer = keras.optimizers.Nadam()"
   ]
  },
  {
   "cell_type": "markdown",
   "id": "e12b8c26",
   "metadata": {},
   "source": [
    "### 3.3 Definindo e executando o primeiro *Grid Search*"
   ]
  },
  {
   "cell_type": "markdown",
   "id": "96646a20",
   "metadata": {},
   "source": [
    "Primeiro, avaliaremos o impacto do *batch size* e da camada de *batch normalization*."
   ]
  },
  {
   "cell_type": "code",
   "execution_count": 22,
   "id": "fe1dbd02",
   "metadata": {},
   "outputs": [],
   "source": [
    "param_grid_1 = dict(batch_size=[2, 4, 8, 16, 32], \n",
    "                  batch_normalization=['ON', 'OFF'])"
   ]
  },
  {
   "cell_type": "code",
   "execution_count": 23,
   "id": "c593b5b3",
   "metadata": {},
   "outputs": [],
   "source": [
    "model_cv_1 = KerasRegressor(build_fn=mlp_gridsearch.gridsearch, epochs=100, verbose=0)"
   ]
  },
  {
   "cell_type": "code",
   "execution_count": 24,
   "id": "b17f2f24",
   "metadata": {},
   "outputs": [],
   "source": [
    "grid = GridSearchCV(estimator=model_cv_1, param_grid=param_grid_1, n_jobs=1, cv=4, scoring='neg_mean_squared_error', verbose=1)"
   ]
  },
  {
   "cell_type": "code",
   "execution_count": 25,
   "id": "5822d1bf",
   "metadata": {},
   "outputs": [],
   "source": [
    "grid_result = grid.fit(X_treino, y_treino)"
   ]
  },
  {
   "cell_type": "code",
   "execution_count": 26,
   "id": "24d3a907",
   "metadata": {},
   "outputs": [
    {
     "name": "stdout",
     "output_type": "stream",
     "text": [
      "Best: -0.031684 using {'batch_normalization': 'OFF', 'batch_size': 8}\n"
     ]
    }
   ],
   "source": [
    "print(\"Best: %f using %s\" % (grid_result.best_score_, grid_result.best_params_))"
   ]
  },
  {
   "cell_type": "code",
   "execution_count": 27,
   "id": "a7369cef",
   "metadata": {},
   "outputs": [
    {
     "name": "stdout",
     "output_type": "stream",
     "text": [
      "-0.531136 (0.081344) with: {'batch_normalization': 'ON', 'batch_size': 2}\n",
      "-0.362861 (0.005263) with: {'batch_normalization': 'ON', 'batch_size': 4}\n",
      "-0.263085 (0.008577) with: {'batch_normalization': 'ON', 'batch_size': 8}\n",
      "-0.168302 (0.011296) with: {'batch_normalization': 'ON', 'batch_size': 16}\n",
      "-0.123444 (0.023527) with: {'batch_normalization': 'ON', 'batch_size': 32}\n",
      "-0.041960 (0.012089) with: {'batch_normalization': 'OFF', 'batch_size': 2}\n",
      "-0.033340 (0.013276) with: {'batch_normalization': 'OFF', 'batch_size': 4}\n",
      "-0.031684 (0.008750) with: {'batch_normalization': 'OFF', 'batch_size': 8}\n",
      "-0.036820 (0.010447) with: {'batch_normalization': 'OFF', 'batch_size': 16}\n",
      "-0.085695 (0.019583) with: {'batch_normalization': 'OFF', 'batch_size': 32}\n"
     ]
    }
   ],
   "source": [
    "means = grid_result.cv_results_['mean_test_score']\n",
    "stds = grid_result.cv_results_['std_test_score']\n",
    "params = grid_result.cv_results_['params']\n",
    "for mean, stdev, param in zip(means, stds, params):\n",
    "    print(\"%f (%f) with: %r\" % (mean, stdev, param))"
   ]
  },
  {
   "cell_type": "markdown",
   "id": "c93ea274",
   "metadata": {},
   "source": [
    "### 3.4 Definindo e executando o segundo *Grid Search*"
   ]
  },
  {
   "cell_type": "markdown",
   "id": "1032fa24",
   "metadata": {},
   "source": [
    "Agora, avaliaremos o impacto do *learning rate* do otimizador."
   ]
  },
  {
   "cell_type": "code",
   "execution_count": 18,
   "id": "d8568e76",
   "metadata": {},
   "outputs": [],
   "source": [
    "model_cv_2 = KerasRegressor(build_fn=mlp_gridsearch.gridsearch, epochs=100, verbose=0, batch_size=8, batch_normalization='OFF')"
   ]
  },
  {
   "cell_type": "code",
   "execution_count": 19,
   "id": "aceb1ff2",
   "metadata": {},
   "outputs": [],
   "source": [
    "param_grid_2 = dict(learning_rate=[0.001, 0.003, 0.005, 0.008, 0.01])"
   ]
  },
  {
   "cell_type": "code",
   "execution_count": 20,
   "id": "5fbd14e0",
   "metadata": {},
   "outputs": [],
   "source": [
    "grid = GridSearchCV(estimator=model_cv_2, param_grid=param_grid_2, n_jobs=1, cv=4, scoring='neg_mean_squared_error', verbose=1)"
   ]
  },
  {
   "cell_type": "code",
   "execution_count": 21,
   "id": "ddd69aa3",
   "metadata": {},
   "outputs": [],
   "source": [
    "grid_result = grid.fit(X_treino, y_treino)"
   ]
  },
  {
   "cell_type": "code",
   "execution_count": 22,
   "id": "7fb98d9e",
   "metadata": {},
   "outputs": [
    {
     "name": "stdout",
     "output_type": "stream",
     "text": [
      "Best: -0.015915 using {'learning_rate': 0.003}\n"
     ]
    }
   ],
   "source": [
    "print(\"Best: %f using %s\" % (grid_result.best_score_, grid_result.best_params_))"
   ]
  },
  {
   "cell_type": "code",
   "execution_count": 23,
   "id": "c7430a6e",
   "metadata": {},
   "outputs": [
    {
     "name": "stdout",
     "output_type": "stream",
     "text": [
      "-0.040259 (0.002800) with: {'learning_rate': 0.001}\n",
      "-0.015915 (0.004685) with: {'learning_rate': 0.003}\n",
      "-0.024764 (0.004251) with: {'learning_rate': 0.005}\n",
      "-0.032914 (0.006057) with: {'learning_rate': 0.008}\n",
      "-0.107939 (0.120647) with: {'learning_rate': 0.01}\n"
     ]
    }
   ],
   "source": [
    "means = grid_result.cv_results_['mean_test_score']\n",
    "stds = grid_result.cv_results_['std_test_score']\n",
    "params = grid_result.cv_results_['params']\n",
    "for mean, stdev, param in zip(means, stds, params):\n",
    "    print(\"%f (%f) with: %r\" % (mean, stdev, param))"
   ]
  },
  {
   "cell_type": "markdown",
   "id": "bdb5da59",
   "metadata": {},
   "source": [
    "### 3.5 Definindo e executando o terceiro *Grid Search*"
   ]
  },
  {
   "cell_type": "markdown",
   "id": "75a22bbd",
   "metadata": {},
   "source": [
    "Agora, avaliaremos o impacto da função de ativação da camada intermediária."
   ]
  },
  {
   "cell_type": "code",
   "execution_count": 25,
   "id": "fd193c5c",
   "metadata": {},
   "outputs": [],
   "source": [
    "model_cv_3 = KerasRegressor(build_fn=mlp_gridsearch.gridsearch, epochs=100, verbose=0, batch_size=8, batch_normalization='OFF', learning_rate=0.003)"
   ]
  },
  {
   "cell_type": "code",
   "execution_count": 26,
   "id": "56370900",
   "metadata": {},
   "outputs": [],
   "source": [
    "param_grid_3 = dict(activation=['selu', 'relu', 'elu', 'sigmoid', 'tanh'])"
   ]
  },
  {
   "cell_type": "code",
   "execution_count": 27,
   "id": "90b4c61e",
   "metadata": {},
   "outputs": [],
   "source": [
    "grid = GridSearchCV(estimator=model_cv_3, param_grid=param_grid_3, n_jobs=1, cv=4, scoring='neg_mean_squared_error', verbose=1)"
   ]
  },
  {
   "cell_type": "code",
   "execution_count": 28,
   "id": "4be3a6e7",
   "metadata": {},
   "outputs": [
    {
     "name": "stdout",
     "output_type": "stream",
     "text": [
      "Fitting 4 folds for each of 5 candidates, totalling 20 fits\n"
     ]
    }
   ],
   "source": [
    "grid_result = grid.fit(X_treino, y_treino)"
   ]
  },
  {
   "cell_type": "code",
   "execution_count": 29,
   "id": "40d423f3",
   "metadata": {},
   "outputs": [
    {
     "name": "stdout",
     "output_type": "stream",
     "text": [
      "Best: -0.002688 using {'activation': 'sigmoid'}\n"
     ]
    }
   ],
   "source": [
    "print(\"Best: %f using %s\" % (grid_result.best_score_, grid_result.best_params_))"
   ]
  },
  {
   "cell_type": "code",
   "execution_count": 30,
   "id": "fd9593a5",
   "metadata": {},
   "outputs": [
    {
     "name": "stdout",
     "output_type": "stream",
     "text": [
      "-0.025435 (0.010703) with: {'activation': 'selu'}\n",
      "-0.017485 (0.010364) with: {'activation': 'relu'}\n",
      "-0.016884 (0.010223) with: {'activation': 'elu'}\n",
      "-0.002688 (0.000557) with: {'activation': 'sigmoid'}\n",
      "-0.003098 (0.001063) with: {'activation': 'tanh'}\n"
     ]
    }
   ],
   "source": [
    "means = grid_result.cv_results_['mean_test_score']\n",
    "stds = grid_result.cv_results_['std_test_score']\n",
    "params = grid_result.cv_results_['params']\n",
    "for mean, stdev, param in zip(means, stds, params):\n",
    "    print(\"%f (%f) with: %r\" % (mean, stdev, param))"
   ]
  },
  {
   "cell_type": "markdown",
   "id": "8dc44c77",
   "metadata": {},
   "source": [
    "### 3.6 Definindo e executando o quarto *Grid Search*"
   ]
  },
  {
   "cell_type": "markdown",
   "id": "88cf45f2",
   "metadata": {},
   "source": [
    "Agora, avaliaremos o impacto do inicializador da camada intermediária."
   ]
  },
  {
   "cell_type": "code",
   "execution_count": 31,
   "id": "6cd20142",
   "metadata": {},
   "outputs": [],
   "source": [
    "model_cv_4 = KerasRegressor(build_fn=mlp_gridsearch.gridsearch, epochs=100, verbose=0, batch_size=8, batch_normalization='OFF', learning_rate=0.003, activation='sigmoid')"
   ]
  },
  {
   "cell_type": "code",
   "execution_count": 32,
   "id": "711ea337",
   "metadata": {},
   "outputs": [],
   "source": [
    "param_grid_4 = dict(init_mode = ['glorot_uniform', 'glorot_normal'])"
   ]
  },
  {
   "cell_type": "code",
   "execution_count": 34,
   "id": "6948e4f1",
   "metadata": {},
   "outputs": [],
   "source": [
    "grid = GridSearchCV(estimator=model_cv_4, param_grid=param_grid_4, n_jobs=1, cv=4, scoring='neg_mean_squared_error', verbose=1)"
   ]
  },
  {
   "cell_type": "code",
   "execution_count": 35,
   "id": "e6cbc411",
   "metadata": {},
   "outputs": [
    {
     "name": "stdout",
     "output_type": "stream",
     "text": [
      "Fitting 4 folds for each of 2 candidates, totalling 8 fits\n"
     ]
    }
   ],
   "source": [
    "grid_result = grid.fit(X_treino, y_treino)"
   ]
  },
  {
   "cell_type": "code",
   "execution_count": 36,
   "id": "035f2389",
   "metadata": {},
   "outputs": [
    {
     "name": "stdout",
     "output_type": "stream",
     "text": [
      "Best: -0.002853 using {'init_mode': 'glorot_normal'}\n"
     ]
    }
   ],
   "source": [
    "print(\"Best: %f using %s\" % (grid_result.best_score_, grid_result.best_params_))"
   ]
  },
  {
   "cell_type": "code",
   "execution_count": 37,
   "id": "48aef505",
   "metadata": {},
   "outputs": [
    {
     "name": "stdout",
     "output_type": "stream",
     "text": [
      "-0.005647 (0.005858) with: {'init_mode': 'glorot_uniform'}\n",
      "-0.002853 (0.000296) with: {'init_mode': 'glorot_normal'}\n"
     ]
    }
   ],
   "source": [
    "means = grid_result.cv_results_['mean_test_score']\n",
    "stds = grid_result.cv_results_['std_test_score']\n",
    "params = grid_result.cv_results_['params']\n",
    "for mean, stdev, param in zip(means, stds, params):\n",
    "    print(\"%f (%f) with: %r\" % (mean, stdev, param))"
   ]
  },
  {
   "cell_type": "markdown",
   "id": "64bac642",
   "metadata": {},
   "source": [
    "### 3.7 Definindo e executando o quinto *Grid Search*"
   ]
  },
  {
   "cell_type": "markdown",
   "id": "6c175a77",
   "metadata": {},
   "source": [
    "Agora, avaliaremos o número de neurônios na camada intermediária."
   ]
  },
  {
   "cell_type": "code",
   "execution_count": 38,
   "id": "1455d368",
   "metadata": {},
   "outputs": [],
   "source": [
    "model_cv_5 = KerasRegressor(build_fn=mlp_gridsearch.gridsearch, epochs=100, verbose=0, batch_size=8, batch_normalization='OFF', learning_rate=0.003, activation='sigmoid', init_mode='glorot_normal')"
   ]
  },
  {
   "cell_type": "code",
   "execution_count": 39,
   "id": "cd3cca5e",
   "metadata": {},
   "outputs": [],
   "source": [
    "param_grid_5 = dict(n_neurons = [5, 10, 15, 20, 30, 50, 75, 100])"
   ]
  },
  {
   "cell_type": "code",
   "execution_count": 40,
   "id": "319ca7ec",
   "metadata": {},
   "outputs": [],
   "source": [
    "grid = GridSearchCV(estimator=model_cv_5, param_grid=param_grid_5, n_jobs=1, cv=4, scoring='neg_mean_squared_error')"
   ]
  },
  {
   "cell_type": "code",
   "execution_count": 41,
   "id": "4eede6ce",
   "metadata": {},
   "outputs": [],
   "source": [
    "grid_result = grid.fit(X_treino, y_treino)"
   ]
  },
  {
   "cell_type": "code",
   "execution_count": 42,
   "id": "d1d69355",
   "metadata": {},
   "outputs": [
    {
     "name": "stdout",
     "output_type": "stream",
     "text": [
      "Best: -0.002392 using {'n_neurons': 50}\n"
     ]
    }
   ],
   "source": [
    "print(\"Best: %f using %s\" % (grid_result.best_score_, grid_result.best_params_))"
   ]
  },
  {
   "cell_type": "code",
   "execution_count": 43,
   "id": "4a346eb9",
   "metadata": {},
   "outputs": [
    {
     "name": "stdout",
     "output_type": "stream",
     "text": [
      "-0.070237 (0.028566) with: {'n_neurons': 5}\n",
      "-0.016834 (0.005783) with: {'n_neurons': 10}\n",
      "-0.008536 (0.005339) with: {'n_neurons': 15}\n",
      "-0.009367 (0.005866) with: {'n_neurons': 20}\n",
      "-0.003289 (0.001008) with: {'n_neurons': 30}\n",
      "-0.002392 (0.001208) with: {'n_neurons': 50}\n",
      "-0.004312 (0.001394) with: {'n_neurons': 75}\n",
      "-0.003799 (0.002850) with: {'n_neurons': 100}\n"
     ]
    }
   ],
   "source": [
    "means = grid_result.cv_results_['mean_test_score']\n",
    "stds = grid_result.cv_results_['std_test_score']\n",
    "params = grid_result.cv_results_['params']\n",
    "for mean, stdev, param in zip(means, stds, params):\n",
    "    print(\"%f (%f) with: %r\" % (mean, stdev, param))"
   ]
  },
  {
   "cell_type": "markdown",
   "id": "a74ef582",
   "metadata": {},
   "source": [
    "### Treino com o melhor modelo"
   ]
  },
  {
   "cell_type": "code",
   "execution_count": 21,
   "id": "5bfe6795",
   "metadata": {},
   "outputs": [],
   "source": [
    "model = criar_modelo(name='MLP-basica-henon', batch_normalization='OFF', learning_rate=0.003, activation='sigmoid', init_mode='glorot_normal', n_neurons=50)"
   ]
  },
  {
   "cell_type": "code",
   "execution_count": 22,
   "id": "f45517c5",
   "metadata": {},
   "outputs": [
    {
     "name": "stdout",
     "output_type": "stream",
     "text": [
      "Model: \"MLP-basica-henon\"\n",
      "_________________________________________________________________\n",
      "Layer (type)                 Output Shape              Param #   \n",
      "=================================================================\n",
      "camada_de_entrada (Dense)    (None, 4)                 20        \n",
      "_________________________________________________________________\n",
      "camada_intermediaria (Dense) (None, 50)                250       \n",
      "_________________________________________________________________\n",
      "camada_de_saida (Dense)      (None, 1)                 51        \n",
      "=================================================================\n",
      "Total params: 321\n",
      "Trainable params: 321\n",
      "Non-trainable params: 0\n",
      "_________________________________________________________________\n"
     ]
    }
   ],
   "source": [
    "model.summary()"
   ]
  },
  {
   "cell_type": "code",
   "execution_count": 23,
   "id": "ea76acb4",
   "metadata": {},
   "outputs": [],
   "source": [
    "X_treino, X_val, y_treino, y_val = train_test_split(X_treino, y_treino, test_size=0.1)"
   ]
  },
  {
   "cell_type": "code",
   "execution_count": 24,
   "id": "e870aaa3",
   "metadata": {},
   "outputs": [],
   "source": [
    "early_stopping = tf.keras.callbacks.EarlyStopping(patience=10, restore_best_weights=True, monitor='val_loss')"
   ]
  },
  {
   "cell_type": "code",
   "execution_count": 25,
   "id": "2fc0b204",
   "metadata": {},
   "outputs": [],
   "source": [
    "batch_size = 8"
   ]
  },
  {
   "cell_type": "code",
   "execution_count": 26,
   "id": "bc95d605",
   "metadata": {},
   "outputs": [
    {
     "name": "stdout",
     "output_type": "stream",
     "text": [
      "Epoch 1/100\n",
      "478/478 [==============================] - 1s 2ms/step - loss: 0.4812 - val_loss: 0.4085\n",
      "Epoch 2/100\n",
      "478/478 [==============================] - 1s 1ms/step - loss: 0.4341 - val_loss: 0.4168\n",
      "Epoch 3/100\n",
      "478/478 [==============================] - 1s 1ms/step - loss: 0.4180 - val_loss: 0.4297\n",
      "Epoch 4/100\n",
      "478/478 [==============================] - 1s 1ms/step - loss: 0.4214 - val_loss: 0.3791\n",
      "Epoch 5/100\n",
      "478/478 [==============================] - 1s 1ms/step - loss: 0.4070 - val_loss: 0.3666\n",
      "Epoch 6/100\n",
      "478/478 [==============================] - 1s 1ms/step - loss: 0.3647 - val_loss: 0.3493\n",
      "Epoch 7/100\n",
      "478/478 [==============================] - 1s 1ms/step - loss: 0.3405 - val_loss: 0.3179\n",
      "Epoch 8/100\n",
      "478/478 [==============================] - 1s 1ms/step - loss: 0.3177 - val_loss: 0.2331\n",
      "Epoch 9/100\n",
      "478/478 [==============================] - 1s 1ms/step - loss: 0.2274 - val_loss: 0.1859\n",
      "Epoch 10/100\n",
      "478/478 [==============================] - 1s 1ms/step - loss: 0.1883 - val_loss: 0.1596\n",
      "Epoch 11/100\n",
      "478/478 [==============================] - 1s 1ms/step - loss: 0.1581 - val_loss: 0.1589\n",
      "Epoch 12/100\n",
      "478/478 [==============================] - 1s 1ms/step - loss: 0.1351 - val_loss: 0.1195\n",
      "Epoch 13/100\n",
      "478/478 [==============================] - 1s 1ms/step - loss: 0.1244 - val_loss: 0.1058\n",
      "Epoch 14/100\n",
      "478/478 [==============================] - 1s 1ms/step - loss: 0.1151 - val_loss: 0.1010\n",
      "Epoch 15/100\n",
      "478/478 [==============================] - 1s 1ms/step - loss: 0.1016 - val_loss: 0.0897\n",
      "Epoch 16/100\n",
      "478/478 [==============================] - 1s 1ms/step - loss: 0.0981 - val_loss: 0.0822\n",
      "Epoch 17/100\n",
      "478/478 [==============================] - 1s 1ms/step - loss: 0.0936 - val_loss: 0.0761\n",
      "Epoch 18/100\n",
      "478/478 [==============================] - 1s 1ms/step - loss: 0.0850 - val_loss: 0.0735\n",
      "Epoch 19/100\n",
      "478/478 [==============================] - 1s 1ms/step - loss: 0.0806 - val_loss: 0.0672\n",
      "Epoch 20/100\n",
      "478/478 [==============================] - 1s 1ms/step - loss: 0.0748 - val_loss: 0.0642\n",
      "Epoch 21/100\n",
      "478/478 [==============================] - 1s 1ms/step - loss: 0.0701 - val_loss: 0.0586\n",
      "Epoch 22/100\n",
      "478/478 [==============================] - 1s 1ms/step - loss: 0.0621 - val_loss: 0.0528\n",
      "Epoch 23/100\n",
      "478/478 [==============================] - 1s 1ms/step - loss: 0.0601 - val_loss: 0.0499\n",
      "Epoch 24/100\n",
      "478/478 [==============================] - 1s 1ms/step - loss: 0.0627 - val_loss: 0.0494\n",
      "Epoch 25/100\n",
      "478/478 [==============================] - 1s 1ms/step - loss: 0.0525 - val_loss: 0.0471\n",
      "Epoch 26/100\n",
      "478/478 [==============================] - 1s 1ms/step - loss: 0.0534 - val_loss: 0.0465\n",
      "Epoch 27/100\n",
      "478/478 [==============================] - 1s 1ms/step - loss: 0.0511 - val_loss: 0.0465\n",
      "Epoch 28/100\n",
      "478/478 [==============================] - 1s 1ms/step - loss: 0.0520 - val_loss: 0.0575\n",
      "Epoch 29/100\n",
      "478/478 [==============================] - 1s 1ms/step - loss: 0.0496 - val_loss: 0.0561\n",
      "Epoch 30/100\n",
      "478/478 [==============================] - 1s 1ms/step - loss: 0.0477 - val_loss: 0.0431\n",
      "Epoch 31/100\n",
      "478/478 [==============================] - 1s 1ms/step - loss: 0.0433 - val_loss: 0.0408\n",
      "Epoch 32/100\n",
      "478/478 [==============================] - 1s 2ms/step - loss: 0.0457 - val_loss: 0.0394\n",
      "Epoch 33/100\n",
      "478/478 [==============================] - 1s 1ms/step - loss: 0.0408 - val_loss: 0.0379\n",
      "Epoch 34/100\n",
      "478/478 [==============================] - 1s 1ms/step - loss: 0.0444 - val_loss: 0.0377\n",
      "Epoch 35/100\n",
      "478/478 [==============================] - 1s 2ms/step - loss: 0.0434 - val_loss: 0.0376\n",
      "Epoch 36/100\n",
      "478/478 [==============================] - 1s 1ms/step - loss: 0.0416 - val_loss: 0.0344\n",
      "Epoch 37/100\n",
      "478/478 [==============================] - 1s 2ms/step - loss: 0.0403 - val_loss: 0.0352\n",
      "Epoch 38/100\n",
      "478/478 [==============================] - 1s 1ms/step - loss: 0.0374 - val_loss: 0.0313\n",
      "Epoch 39/100\n",
      "478/478 [==============================] - 1s 1ms/step - loss: 0.0373 - val_loss: 0.0337\n",
      "Epoch 40/100\n",
      "478/478 [==============================] - 1s 1ms/step - loss: 0.0352 - val_loss: 0.0344\n",
      "Epoch 41/100\n",
      "478/478 [==============================] - 1s 1ms/step - loss: 0.0344 - val_loss: 0.0295\n",
      "Epoch 42/100\n",
      "478/478 [==============================] - 1s 1ms/step - loss: 0.0304 - val_loss: 0.0269\n",
      "Epoch 43/100\n",
      "478/478 [==============================] - 1s 1ms/step - loss: 0.0299 - val_loss: 0.0272\n",
      "Epoch 44/100\n",
      "478/478 [==============================] - 1s 1ms/step - loss: 0.0278 - val_loss: 0.0263\n",
      "Epoch 45/100\n",
      "478/478 [==============================] - 1s 1ms/step - loss: 0.0267 - val_loss: 0.0291\n",
      "Epoch 46/100\n",
      "478/478 [==============================] - 1s 1ms/step - loss: 0.0273 - val_loss: 0.0248\n",
      "Epoch 47/100\n",
      "478/478 [==============================] - 1s 2ms/step - loss: 0.0236 - val_loss: 0.0205\n",
      "Epoch 48/100\n",
      "478/478 [==============================] - 1s 1ms/step - loss: 0.0219 - val_loss: 0.0200\n",
      "Epoch 49/100\n",
      "478/478 [==============================] - 1s 1ms/step - loss: 0.0211 - val_loss: 0.0210\n",
      "Epoch 50/100\n",
      "478/478 [==============================] - 1s 1ms/step - loss: 0.0215 - val_loss: 0.0166\n",
      "Epoch 51/100\n",
      "478/478 [==============================] - 1s 1ms/step - loss: 0.0171 - val_loss: 0.0161\n",
      "Epoch 52/100\n",
      "478/478 [==============================] - 1s 1ms/step - loss: 0.0167 - val_loss: 0.0143\n",
      "Epoch 53/100\n",
      "478/478 [==============================] - 1s 2ms/step - loss: 0.0136 - val_loss: 0.0138\n",
      "Epoch 54/100\n",
      "478/478 [==============================] - 1s 1ms/step - loss: 0.0147 - val_loss: 0.0131\n",
      "Epoch 55/100\n",
      "478/478 [==============================] - 1s 2ms/step - loss: 0.0139 - val_loss: 0.0139\n",
      "Epoch 56/100\n",
      "478/478 [==============================] - 1s 1ms/step - loss: 0.0124 - val_loss: 0.0114\n",
      "Epoch 57/100\n",
      "478/478 [==============================] - 1s 1ms/step - loss: 0.0120 - val_loss: 0.0094\n",
      "Epoch 58/100\n",
      "478/478 [==============================] - 1s 1ms/step - loss: 0.0109 - val_loss: 0.0091\n",
      "Epoch 59/100\n",
      "478/478 [==============================] - 1s 2ms/step - loss: 0.0094 - val_loss: 0.0102\n",
      "Epoch 60/100\n",
      "478/478 [==============================] - 1s 2ms/step - loss: 0.0092 - val_loss: 0.0084\n",
      "Epoch 61/100\n",
      "478/478 [==============================] - 1s 1ms/step - loss: 0.0092 - val_loss: 0.0080\n",
      "Epoch 62/100\n",
      "478/478 [==============================] - 1s 2ms/step - loss: 0.0085 - val_loss: 0.0091\n",
      "Epoch 63/100\n",
      "478/478 [==============================] - 1s 1ms/step - loss: 0.0084 - val_loss: 0.0064\n",
      "Epoch 64/100\n",
      "478/478 [==============================] - 1s 2ms/step - loss: 0.0075 - val_loss: 0.0079\n",
      "Epoch 65/100\n",
      "478/478 [==============================] - 1s 1ms/step - loss: 0.0069 - val_loss: 0.0064\n",
      "Epoch 66/100\n",
      "478/478 [==============================] - 1s 1ms/step - loss: 0.0066 - val_loss: 0.0060\n",
      "Epoch 67/100\n",
      "478/478 [==============================] - 1s 1ms/step - loss: 0.0068 - val_loss: 0.0055\n",
      "Epoch 68/100\n",
      "478/478 [==============================] - 1s 1ms/step - loss: 0.0059 - val_loss: 0.0061\n",
      "Epoch 69/100\n",
      "478/478 [==============================] - 1s 1ms/step - loss: 0.0056 - val_loss: 0.0057\n",
      "Epoch 70/100\n",
      "478/478 [==============================] - 1s 1ms/step - loss: 0.0055 - val_loss: 0.0062\n",
      "Epoch 71/100\n",
      "478/478 [==============================] - 1s 1ms/step - loss: 0.0061 - val_loss: 0.0049\n",
      "Epoch 72/100\n",
      "478/478 [==============================] - 1s 1ms/step - loss: 0.0047 - val_loss: 0.0066\n",
      "Epoch 73/100\n",
      "478/478 [==============================] - 1s 1ms/step - loss: 0.0053 - val_loss: 0.0041\n",
      "Epoch 74/100\n",
      "478/478 [==============================] - 1s 1ms/step - loss: 0.0041 - val_loss: 0.0067\n",
      "Epoch 75/100\n",
      "478/478 [==============================] - 1s 1ms/step - loss: 0.0044 - val_loss: 0.0045\n",
      "Epoch 76/100\n",
      "478/478 [==============================] - 1s 1ms/step - loss: 0.0043 - val_loss: 0.0048\n",
      "Epoch 77/100\n",
      "478/478 [==============================] - 1s 1ms/step - loss: 0.0041 - val_loss: 0.0048\n",
      "Epoch 78/100\n",
      "478/478 [==============================] - 1s 1ms/step - loss: 0.0036 - val_loss: 0.0049\n",
      "Epoch 79/100\n",
      "478/478 [==============================] - 1s 1ms/step - loss: 0.0039 - val_loss: 0.0046\n",
      "Epoch 80/100\n",
      "478/478 [==============================] - 1s 1ms/step - loss: 0.0039 - val_loss: 0.0040\n",
      "Epoch 81/100\n",
      "478/478 [==============================] - 1s 1ms/step - loss: 0.0040 - val_loss: 0.0053\n",
      "Epoch 82/100\n",
      "478/478 [==============================] - 1s 1ms/step - loss: 0.0035 - val_loss: 0.0045\n",
      "Epoch 83/100\n",
      "478/478 [==============================] - 1s 1ms/step - loss: 0.0036 - val_loss: 0.0049\n",
      "Epoch 84/100\n",
      "478/478 [==============================] - 1s 1ms/step - loss: 0.0032 - val_loss: 0.0037\n",
      "Epoch 85/100\n",
      "478/478 [==============================] - 1s 1ms/step - loss: 0.0036 - val_loss: 0.0040\n",
      "Epoch 86/100\n",
      "478/478 [==============================] - 1s 1ms/step - loss: 0.0033 - val_loss: 0.0036\n",
      "Epoch 87/100\n",
      "478/478 [==============================] - 1s 1ms/step - loss: 0.0033 - val_loss: 0.0038\n",
      "Epoch 88/100\n",
      "478/478 [==============================] - 1s 1ms/step - loss: 0.0031 - val_loss: 0.0037\n",
      "Epoch 89/100\n",
      "478/478 [==============================] - 1s 1ms/step - loss: 0.0030 - val_loss: 0.0030\n",
      "Epoch 90/100\n",
      "478/478 [==============================] - 1s 1ms/step - loss: 0.0031 - val_loss: 0.0033\n",
      "Epoch 91/100\n",
      "478/478 [==============================] - 1s 1ms/step - loss: 0.0031 - val_loss: 0.0038\n",
      "Epoch 92/100\n",
      "478/478 [==============================] - 1s 1ms/step - loss: 0.0026 - val_loss: 0.0036\n",
      "Epoch 93/100\n",
      "478/478 [==============================] - 1s 1ms/step - loss: 0.0035 - val_loss: 0.0046\n",
      "Epoch 94/100\n",
      "478/478 [==============================] - 1s 1ms/step - loss: 0.0031 - val_loss: 0.0045\n",
      "Epoch 95/100\n",
      "478/478 [==============================] - 1s 1ms/step - loss: 0.0032 - val_loss: 0.0032\n",
      "Epoch 96/100\n",
      "478/478 [==============================] - 1s 1ms/step - loss: 0.0028 - val_loss: 0.0033\n",
      "Epoch 97/100\n",
      "478/478 [==============================] - 1s 1ms/step - loss: 0.0034 - val_loss: 0.0027\n",
      "Epoch 98/100\n",
      "478/478 [==============================] - 1s 1ms/step - loss: 0.0027 - val_loss: 0.0027\n",
      "Epoch 99/100\n",
      "478/478 [==============================] - 1s 1ms/step - loss: 0.0027 - val_loss: 0.0027\n",
      "Epoch 100/100\n",
      "478/478 [==============================] - 1s 1ms/step - loss: 0.0028 - val_loss: 0.0031\n"
     ]
    }
   ],
   "source": [
    "history = model.fit(X_treino, y_treino, epochs=100,\n",
    "                            callbacks=early_stopping, validation_data=(X_val, y_val),\n",
    "                            batch_size=batch_size)\n",
    "treinamento = pd.DataFrame(history.history)"
   ]
  },
  {
   "cell_type": "markdown",
   "id": "f49a8e75",
   "metadata": {},
   "source": [
    "## Teste com o melhor modelo"
   ]
  },
  {
   "cell_type": "code",
   "execution_count": 27,
   "id": "a8964bb2",
   "metadata": {},
   "outputs": [],
   "source": [
    "y_pred = model.predict(X_teste)"
   ]
  },
  {
   "cell_type": "markdown",
   "id": "76042ee1",
   "metadata": {},
   "source": [
    "### Gráfico"
   ]
  },
  {
   "cell_type": "code",
   "execution_count": 33,
   "id": "5e118440",
   "metadata": {},
   "outputs": [
    {
     "data": {
      "application/vnd.jupyter.widget-view+json": {
       "model_id": "4300c266a57d44918155077cd2b39501",
       "version_major": 2,
       "version_minor": 0
      },
      "text/plain": [
       "Canvas(toolbar=Toolbar(toolitems=[('Home', 'Reset original view', 'home', 'home'), ('Back', 'Back to previous …"
      ]
     },
     "metadata": {},
     "output_type": "display_data"
    }
   ],
   "source": [
    "fig, ax = plt.subplots()\n",
    "ax.plot(n[len(n)-int(len(n)*tam_teste):,], y_teste, color='LimeGreen', label='Valor real')\n",
    "ax.plot(n[len(n)-int(len(n)*tam_teste):,], y_pred, color='Silver', label='MLP')\n",
    "\n",
    "ax.set_title(\"Comparação da predição da MLP com o valor real do mapa de Hénon\\n utilizando a rede neural ótima no conjunto de teste\")\n",
    "ax.set_ylabel('$x[n]$')\n",
    "ax.set_xlabel('$n$')\n",
    "ax.set_xlim(4900, 5000)\n",
    "    \n",
    "ax.grid(True)\n",
    "sns.despine()\n",
    "ax.legend()\n",
    "\n",
    "plt.show()\n",
    "fig.savefig(\"../../../../images/mlp-basica/performance/mlp-basica-vs-henon.png\")"
   ]
  },
  {
   "cell_type": "markdown",
   "id": "e36c1774",
   "metadata": {},
   "source": [
    "### Erro Quadrático Médio"
   ]
  },
  {
   "cell_type": "code",
   "execution_count": 29,
   "id": "1fa16739",
   "metadata": {},
   "outputs": [],
   "source": [
    "from sklearn.metrics import mean_squared_error"
   ]
  },
  {
   "cell_type": "code",
   "execution_count": 30,
   "id": "83ce5c8d",
   "metadata": {},
   "outputs": [
    {
     "name": "stdout",
     "output_type": "stream",
     "text": [
      "MSE = 0.003014219721098479\n"
     ]
    }
   ],
   "source": [
    "mse = mean_squared_error(y_teste, y_pred)\n",
    "print(\"MSE = \" + str(mse))"
   ]
  },
  {
   "cell_type": "markdown",
   "id": "769fe673",
   "metadata": {},
   "source": [
    "### Salvando o Modelo"
   ]
  },
  {
   "cell_type": "code",
   "execution_count": 32,
   "id": "a9ffe11a",
   "metadata": {},
   "outputs": [],
   "source": [
    "model.save(\"../../../../models/mlp-basica/mlp-basica-henon.h5\", include_optimizer=True)"
   ]
  }
 ],
 "metadata": {
  "kernelspec": {
   "display_name": "Python 3",
   "language": "python",
   "name": "python3"
  },
  "language_info": {
   "codemirror_mode": {
    "name": "ipython",
    "version": 3
   },
   "file_extension": ".py",
   "mimetype": "text/x-python",
   "name": "python",
   "nbconvert_exporter": "python",
   "pygments_lexer": "ipython3",
   "version": "3.8.0"
  }
 },
 "nbformat": 4,
 "nbformat_minor": 5
}