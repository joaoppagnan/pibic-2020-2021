{
 "cells": [
  {
   "cell_type": "markdown",
   "id": "e51a9c0b",
   "metadata": {},
   "source": [
    "# Testes da rotina da classe do Mapa Logístico"
   ]
  },
  {
   "cell_type": "markdown",
   "id": "b7eb7b15",
   "metadata": {},
   "source": [
    "## 1. Importando as bibliotecas necessárias"
   ]
  },
  {
   "cell_type": "markdown",
   "id": "cb879392",
   "metadata": {},
   "source": [
    "### Bibliotecas obrigatórias"
   ]
  },
  {
   "cell_type": "code",
   "execution_count": 1,
   "id": "ab6de15a",
   "metadata": {},
   "outputs": [],
   "source": [
    "import numpy as np\n",
    "\n",
    "%matplotlib widget\n",
    "import matplotlib.pyplot as plt\n",
    "\n",
    "import seaborn as sns # a biblioteca 'seaborn' contém vários estilos para os gráficos do 'matpĺotlib'\n",
    "\n",
    "# agora, melhoramos a qualidade de saida e de visualizacao da imagem \n",
    "# alem de mudar a fonte padrao para uma do latex\n",
    "sns.set_style(\"ticks\")\n",
    "plt.rcParams['savefig.dpi'] = 200\n",
    "plt.rcParams[\"figure.dpi\"] = 100\n",
    "\n",
    "plt.rcParams.update({\n",
    "    \"text.usetex\": True,\n",
    "    \"font.family\": \"serif\",\n",
    "    \"font.serif\": [\"Palatino\"],\n",
    "})\n",
    "\n",
    "plt.style.use('dark_background')"
   ]
  },
  {
   "cell_type": "markdown",
   "id": "581e449c",
   "metadata": {},
   "source": [
    "### Bibliotecas não-obrigatórias"
   ]
  },
  {
   "cell_type": "code",
   "execution_count": 2,
   "id": "a75e8cef",
   "metadata": {},
   "outputs": [],
   "source": [
    "import sys \n",
    "sys.path.insert(0, '../../../scripts')\n",
    "import logisticmap as lm"
   ]
  },
  {
   "cell_type": "markdown",
   "id": "d160efa1",
   "metadata": {},
   "source": [
    "## 2. Definindo a função (debug)"
   ]
  },
  {
   "cell_type": "markdown",
   "id": "61459acd",
   "metadata": {},
   "source": [
    "Não é necessário executar essa linha se você estiver importando o arquivo com a classe."
   ]
  },
  {
   "cell_type": "code",
   "execution_count": 3,
   "id": "4ca39e78",
   "metadata": {},
   "outputs": [],
   "source": [
    "class MapaLogistico:\n",
    "\n",
    "    def __init__(self, estado_inicial, r=3.86):\n",
    "        \"\"\"\n",
    "        Descrição:\n",
    "        ----------\n",
    "        Construtor da classe 'MapaHenon'\n",
    "\n",
    "        Parâmetros:\n",
    "        -----------\n",
    "        estado_inicial: np.ndarray\n",
    "            Parâmetro da população x inicial do mapa e do instante n inicial (deve ser 0)\n",
    "        r: float\n",
    "            Parâmetro do Mapa Logístico representando a taxa de crescimento populacional. Deve ser entre 0.0 e 4.0\n",
    "            \n",
    "        Retorna:\n",
    "        --------\n",
    "        Nada\n",
    "        \"\"\"\n",
    "\n",
    "        if not ((type(r) is float) & ((r >= 0) & (r <= 4) )):\n",
    "            raise TypeError(\"A taxa de crescimento populacional deve ser um float entre 0.0 e 4.0!\")\n",
    "            \n",
    "        if not (type(estado_inicial) is np.ndarray):\n",
    "            raise TypeError(\"O vetor estado inicial deve ser um array do numpy!\")            \n",
    "            \n",
    "        if not ((type(estado_inicial[0]) is np.float64) & ((estado_inicial[0] >= 0) & (estado_inicial[0] <= 1))):\n",
    "            raise TypeError(\"A população inicial deve ser um float entre 0 e 1!\")\n",
    "            \n",
    "        if not (estado_inicial[1] == 0):\n",
    "            raise ValueError(\"O instante inicial deve ser igual a 0!\")    \n",
    "\n",
    "        self._r = r\n",
    "        self._x_atual = estado_inicial[0]\n",
    "        self._n_atual = estado_inicial[1]\n",
    "        pass\n",
    "\n",
    "    def iterar(self):\n",
    "        \"\"\"\n",
    "        Descrição:\n",
    "        ----------\n",
    "        Aplicar as equações de diferenças do Mapa Logístico para os pontos e parâmetrs atuais\n",
    "\n",
    "        Parâmetros:\n",
    "        -----------\n",
    "        Nenhum\n",
    "        \n",
    "        Retorna:\n",
    "        --------\n",
    "        Nada\n",
    "        \"\"\"\n",
    "        \n",
    "        r = self._r\n",
    "        x = self._x_atual\n",
    "        n = self._n_atual\n",
    "\n",
    "        prox_x = r*x*(1 - x)\n",
    "        self._x_atual = prox_x\n",
    "        self._n_atual = n + 1\n",
    "        pass\n",
    "    \n",
    "    def atualizar_r(self, r=3.86):\n",
    "        \"\"\"\n",
    "        Descrição:\n",
    "        ----------\n",
    "        Atualizar a taxa de crescimento do mapa\n",
    "        \n",
    "        Parâmetros:\n",
    "        -----------\n",
    "        r: float\n",
    "            Parâmetro do Mapa Logístico representando a taxa de crescimento populacional. Deve ser entre 0.0 e 4.0\n",
    "            \n",
    "        Retorna:\n",
    "        --------\n",
    "        Nada\n",
    "        \"\"\"\n",
    "        \n",
    "        if not ((type(r) is float) & ((r >= 0) & (r <= 4) )):\n",
    "            raise TypeError(\"A taxa de crescimento populacional deve ser um float entre 0.0 e 4.0!\")\n",
    "        \n",
    "        self._r = r\n",
    "        pass\n",
    "\n",
    "    def atualizar_estado(self, estado):\n",
    "        \"\"\"\n",
    "        Descrição:\n",
    "        ----------\n",
    "        Atualizar o estado do mapa (sem aplicar a regra)\n",
    "        \n",
    "        Parâmetros:\n",
    "        -----------\n",
    "        estado_inicial: np.ndarray\n",
    "            Parâmetro da população x do mapa e do instante n \n",
    "            \n",
    "        Retorna:\n",
    "        --------\n",
    "        Nada\n",
    "        \"\"\"\n",
    "        \n",
    "        if not (type(estado) is np.ndarray):\n",
    "            raise TypeError(\"O vetor estado deve ser um array do numpy!\")            \n",
    "            \n",
    "        if not ((type(estado[0]) is np.float64) & ((estado[0] >= 0) & (estado[0] <= 1))):\n",
    "            raise TypeError(\"A população deve ser um float entre 0 e 1!\")\n",
    "        \n",
    "        self._x_atual = estado[0]\n",
    "        self._n_atual = estado[1]\n",
    "        pass    \n",
    "\n",
    "    def ler_estado(self):\n",
    "        \"\"\"\n",
    "        Descrição:\n",
    "        ----------\n",
    "        Retorna o estado atual (x, n) do mapa\n",
    "\n",
    "        Parâmetros:\n",
    "        -----------\n",
    "        Nenhum\n",
    "        \n",
    "        Retorna:\n",
    "        --------\n",
    "        Um array do numpy (np.ndarray) com o estado (x, n) atual do mapa\n",
    "        \"\"\"\n",
    "\n",
    "        x = self._x_atual\n",
    "        n = self._n_atual\n",
    "        \n",
    "        estado = np.array([x, n])\n",
    "        return estado"
   ]
  },
  {
   "cell_type": "markdown",
   "id": "915c4649",
   "metadata": {},
   "source": [
    "## 3. Gerando a série temporal para $r = 3.86$"
   ]
  },
  {
   "cell_type": "code",
   "execution_count": 3,
   "id": "29d3e683",
   "metadata": {},
   "outputs": [],
   "source": [
    "x_inicial = 0.5\n",
    "n_inicial = 0\n",
    "r=3.86\n",
    "\n",
    "estados = np.array([x_inicial, n_inicial])\n",
    "\n",
    "mapa = lm.MapaLogistico(estado_inicial=estados)"
   ]
  },
  {
   "cell_type": "code",
   "execution_count": 4,
   "id": "0cbf6d21",
   "metadata": {
    "tags": []
   },
   "outputs": [],
   "source": [
    "n_iteracoes = 500\n",
    "\n",
    "for n in range(0, n_iteracoes):\n",
    "    mapa.iterar()\n",
    "    estados = np.vstack((estados, mapa.ler_estado()))"
   ]
  },
  {
   "cell_type": "code",
   "execution_count": 5,
   "id": "2c73b9eb",
   "metadata": {},
   "outputs": [],
   "source": [
    "x = estados[:, 0]\n",
    "n = estados[:, 1]"
   ]
  },
  {
   "cell_type": "code",
   "execution_count": 6,
   "id": "d075bc9d",
   "metadata": {},
   "outputs": [
    {
     "data": {
      "application/vnd.jupyter.widget-view+json": {
       "model_id": "ff17499577084d3a8f15f5ddc4f41308",
       "version_major": 2,
       "version_minor": 0
      },
      "text/plain": [
       "Canvas(toolbar=Toolbar(toolitems=[('Home', 'Reset original view', 'home', 'home'), ('Back', 'Back to previous …"
      ]
     },
     "metadata": {},
     "output_type": "display_data"
    }
   ],
   "source": [
    "fig, ax = plt.subplots()\n",
    "ax.plot(n, x, color='DeepSkyBlue')\n",
    "\n",
    "ax.set_title(\"100 iterações iniciais da série temporal do Mapa Logístico para $r = $\" + str(r) + \" \\n com $x_{0} =$ \" + str(x[0]))\n",
    "ax.set_ylabel('x')\n",
    "ax.set_xlabel('n')\n",
    "ax.set_xlim(0, 100)\n",
    "    \n",
    "ax.grid(True)\n",
    "sns.despine()\n",
    "\n",
    "plt.show()"
   ]
  },
  {
   "cell_type": "markdown",
   "id": "9ace908d",
   "metadata": {},
   "source": [
    "## 4. Gerando o diagrama de Bifurcação"
   ]
  },
  {
   "cell_type": "code",
   "execution_count": 8,
   "id": "8be684d2",
   "metadata": {},
   "outputs": [],
   "source": [
    "conjunto_r = np.linspace(0.0, 4.0, 1000)"
   ]
  },
  {
   "cell_type": "code",
   "execution_count": 9,
   "id": "528d8edf",
   "metadata": {},
   "outputs": [],
   "source": [
    "x_inicial = 0.5\n",
    "n_inicial = 0\n",
    "estado_inicial = np.array([x_inicial, n_inicial])"
   ]
  },
  {
   "cell_type": "code",
   "execution_count": 10,
   "id": "42fd5e31",
   "metadata": {},
   "outputs": [],
   "source": [
    "n_iteracoes = 1000\n",
    "n_valores_finais = int(0.1*n_iteracoes)"
   ]
  },
  {
   "cell_type": "code",
   "execution_count": 11,
   "id": "b9885725",
   "metadata": {},
   "outputs": [
    {
     "data": {
      "application/vnd.jupyter.widget-view+json": {
       "model_id": "445882c5f5bf4a14ac4318c4bcaf5d58",
       "version_major": 2,
       "version_minor": 0
      },
      "text/plain": [
       "Canvas(toolbar=Toolbar(toolitems=[('Home', 'Reset original view', 'home', 'home'), ('Back', 'Back to previous …"
      ]
     },
     "metadata": {},
     "output_type": "display_data"
    }
   ],
   "source": [
    "fig, ax = plt.subplots()\n",
    "ax.set_title(\"Diagrama de bifurcação para o mapa logístico\")\n",
    "ax.set_ylabel('x')\n",
    "ax.set_xlabel('r')\n",
    "ax.grid(False)\n",
    "sns.despine()\n",
    "\n",
    "x_plot = []\n",
    "r_plot = []\n",
    "mapa_log = MapaLogistico(r=0.0, estado_inicial=estado_inicial)\n",
    "\n",
    "for ri in range(0, len(conjunto_r)):\n",
    "    \n",
    "    estados = estado_inicial\n",
    "    mapa_log.atualizar_estado(estados)\n",
    "    mapa_log.atualizar_r(float(conjunto_r[ri]))\n",
    "    \n",
    "    for iteracao in range(0, n_iteracoes):\n",
    "        mapa_log.iterar()\n",
    "        estados = np.vstack((estados, mapa_log.ler_estado()))\n",
    "    \n",
    "    x = estados[:, 0]    \n",
    "    x_unicos = np.unique(x[-n_valores_finais:])\n",
    "    r_unicos = conjunto_r[ri]*np.ones(len(x_unicos))\n",
    "\n",
    "    ax.scatter(r_unicos, x_unicos, color='White', marker='o', s=0.5)\n",
    "    \n",
    "plt.show()"
   ]
  },
  {
   "cell_type": "code",
   "execution_count": null,
   "id": "19736c58",
   "metadata": {},
   "outputs": [],
   "source": []
  }
 ],
 "metadata": {
  "kernelspec": {
   "display_name": "Python 3",
   "language": "python",
   "name": "python3"
  },
  "language_info": {
   "codemirror_mode": {
    "name": "ipython",
    "version": 3
   },
   "file_extension": ".py",
   "mimetype": "text/x-python",
   "name": "python",
   "nbconvert_exporter": "python",
   "pygments_lexer": "ipython3",
   "version": "3.8.0"
  }
 },
 "nbformat": 4,
 "nbformat_minor": 5
}
