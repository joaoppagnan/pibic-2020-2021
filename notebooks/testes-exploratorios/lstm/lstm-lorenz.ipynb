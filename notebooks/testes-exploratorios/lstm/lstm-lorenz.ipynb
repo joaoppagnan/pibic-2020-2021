{
 "cells": [
  {
   "cell_type": "markdown",
   "id": "587d32f2",
   "metadata": {},
   "source": [
    "# Implementando uma LSTM no Sistema de Lorenz"
   ]
  },
  {
   "cell_type": "markdown",
   "id": "78aa6b3c",
   "metadata": {},
   "source": [
    "## 1. Importando as bibliotecas necessárias"
   ]
  },
  {
   "cell_type": "markdown",
   "id": "4df5f939",
   "metadata": {},
   "source": [
    "### 1.1 Bibliotecas gerais"
   ]
  },
  {
   "cell_type": "code",
   "execution_count": 1,
   "id": "73d546d4",
   "metadata": {},
   "outputs": [],
   "source": [
    "%matplotlib inline\n",
    "import numpy as np\n",
    "import pandas as pd\n",
    "import matplotlib.pyplot as plt\n",
    "import seaborn as sns # a biblioteca 'seaborn' contém vários estilos para os gráficos do 'matpĺotlib'\n",
    "\n",
    "# agora, melhoramos a qualidade de saida e de visualizacao da imagem \n",
    "# alem de mudar a fonte padrao para uma do latex\n",
    "sns.set_style(\"ticks\")\n",
    "plt.rcParams['savefig.dpi'] = 200\n",
    "plt.rcParams[\"figure.dpi\"] = 125\n",
    "\n",
    "plt.rcParams.update({\n",
    "    \"text.usetex\": True,\n",
    "    \"font.family\": \"serif\",\n",
    "    \"font.serif\": [\"Palatino\"],\n",
    "})\n",
    "plt.style.use('dark_background')"
   ]
  },
  {
   "cell_type": "markdown",
   "id": "9728189c",
   "metadata": {},
   "source": [
    "### 1.2 Bibliotecas para Redes Neurais"
   ]
  },
  {
   "cell_type": "code",
   "execution_count": 2,
   "id": "6c186052",
   "metadata": {},
   "outputs": [],
   "source": [
    "import tensorflow as tf\n",
    "physical_devices = tf.config.list_physical_devices('GPU')\n",
    "tf.config.experimental.set_memory_growth(physical_devices[0], True)\n",
    "\n",
    "from tensorflow import keras\n",
    "from tensorflow.keras import backend as keras_backend"
   ]
  },
  {
   "cell_type": "code",
   "execution_count": 3,
   "id": "88762ec9",
   "metadata": {},
   "outputs": [],
   "source": [
    "from sklearn.model_selection import GridSearchCV"
   ]
  },
  {
   "cell_type": "code",
   "execution_count": 4,
   "id": "493dd5c1",
   "metadata": {},
   "outputs": [],
   "source": [
    "from tensorflow.keras.wrappers.scikit_learn import KerasRegressor"
   ]
  },
  {
   "cell_type": "markdown",
   "id": "5c84a569",
   "metadata": {},
   "source": [
    "### 1.3 Bibliotecas dos sistemas caóticos"
   ]
  },
  {
   "cell_type": "code",
   "execution_count": 5,
   "id": "83a5dd1c",
   "metadata": {},
   "outputs": [],
   "source": [
    "import sys \n",
    "sys.path.insert(0, '../../../scripts')\n",
    "\n",
    "import timeseries as times\n",
    "import lorenzsystem as lsys"
   ]
  },
  {
   "cell_type": "markdown",
   "id": "4c78e4c8",
   "metadata": {},
   "source": [
    "## 2. Gerando a série temporal do sistema de Lorenz"
   ]
  },
  {
   "cell_type": "markdown",
   "id": "c996f758",
   "metadata": {},
   "source": [
    "Os valores para os parâmetros das equações serão os \"básicos\" apresentados no *paper* original."
   ]
  },
  {
   "cell_type": "code",
   "execution_count": 6,
   "id": "b4a89001",
   "metadata": {},
   "outputs": [],
   "source": [
    "t_inicial = 0\n",
    "t_final = 50\n",
    "dt = 0.01"
   ]
  },
  {
   "cell_type": "code",
   "execution_count": 7,
   "id": "635f9937",
   "metadata": {},
   "outputs": [],
   "source": [
    "estado_inicial = np.array([0.1, 0, 0])"
   ]
  },
  {
   "cell_type": "code",
   "execution_count": 8,
   "id": "1d0fff53",
   "metadata": {},
   "outputs": [],
   "source": [
    "sis_lorenz = lsys.SistemaLorenz(estado_inicial, dt=dt)"
   ]
  },
  {
   "cell_type": "code",
   "execution_count": 9,
   "id": "469687ee",
   "metadata": {},
   "outputs": [],
   "source": [
    "solucoes, instantes_temporais = sis_lorenz.calcular(t_inicial = t_inicial, t_final = t_final)"
   ]
  },
  {
   "cell_type": "code",
   "execution_count": 10,
   "id": "edaff17c",
   "metadata": {},
   "outputs": [],
   "source": [
    "x = solucoes[:, 0]\n",
    "y = solucoes[:, 1]\n",
    "z = solucoes[:, 2]"
   ]
  },
  {
   "cell_type": "code",
   "execution_count": 11,
   "id": "c2d06bba",
   "metadata": {},
   "outputs": [
    {
     "data": {
      "application/vnd.jupyter.widget-view+json": {
       "model_id": "f662693061544016a978a9acde396ad9",
       "version_major": 2,
       "version_minor": 0
      },
      "text/plain": [
       "Canvas(toolbar=Toolbar(toolitems=[('Home', 'Reset original view', 'home', 'home'), ('Back', 'Back to previous …"
      ]
     },
     "metadata": {},
     "output_type": "display_data"
    }
   ],
   "source": [
    "fig, ax = plt.subplots()\n",
    "ax.set_title(\"Série temporal em $\\hat{x}$ de 0 a 50 segundos do Sistema de Lorenz\\n utilizando $\\sigma = 10$, \" + r\"$\\beta =\\frac{8}{3}$, \" + r\"$\\rho=28$, com \" + \"$x(0) =$ \" + str(estado_inicial[0]) + \", $y(0) = $ \" + str(estado_inicial[1]) + \" e $z(0) =$ \" + str(estado_inicial[2]))\n",
    "ax.plot(instantes_temporais, x, color='DodgerBlue', linewidth = 0.9)\n",
    "\n",
    "ax.set_ylabel('$x(t)$')\n",
    "ax.set_xlabel('$t$')\n",
    "ax.set_xlim(0,50)\n",
    "ax.grid(True)\n",
    "\n",
    "fig.tight_layout()\n",
    "sns.despine()\n",
    "plt.show()"
   ]
  },
  {
   "cell_type": "markdown",
   "id": "075d6366",
   "metadata": {},
   "source": [
    "### 2.1 Dividindo em um conjunto de treinamento e de teste, para K = 4 e L = 3"
   ]
  },
  {
   "cell_type": "code",
   "execution_count": 12,
   "id": "d206e51b",
   "metadata": {},
   "outputs": [],
   "source": [
    "K = 4\n",
    "L = 3\n",
    "tam_teste = 0.15\n",
    "tam_val = 0.1"
   ]
  },
  {
   "cell_type": "code",
   "execution_count": 13,
   "id": "75eab62c",
   "metadata": {},
   "outputs": [],
   "source": [
    "serie_temporal = times.SerieTemporal(x, K=K, L=L)"
   ]
  },
  {
   "cell_type": "code",
   "execution_count": 15,
   "id": "98e14687",
   "metadata": {},
   "outputs": [],
   "source": [
    "X_treino, X_teste, X_val, y_treino, y_teste, y_val = serie_temporal.dividir_treino_teste_validacao(tam_teste, tam_val)"
   ]
  },
  {
   "cell_type": "markdown",
   "id": "0c6f8bf3",
   "metadata": {},
   "source": [
    "## 3. Definindo o modelo LSTM, treinando e realizando a predição"
   ]
  },
  {
   "cell_type": "markdown",
   "id": "9c2b6158",
   "metadata": {},
   "source": [
    "### 3.1 Definindo a função para criar a LSTM"
   ]
  },
  {
   "cell_type": "code",
   "execution_count": 16,
   "id": "201fe185",
   "metadata": {},
   "outputs": [],
   "source": [
    "def criar_modelo(activation='selu', init_mode='lecun_normal', n_neurons=30, learning_rate=0.001, name=\"LSTM-basica\"):\n",
    "    \n",
    "    model = keras.Sequential(name=name)\n",
    "    model.add(keras.Input(shape=(K,1)))\n",
    "    model.add(keras.layers.LSTM(n_neurons, activation=activation, kernel_initializer=init_mode, name=\"camada_lstm\"))\n",
    "    model.add(keras.layers.Dense(1, activation='linear', name=\"camada_de_saida\"))\n",
    "    \n",
    "    model_optimizer = keras.optimizers.Nadam()\n",
    "    model_optimizer.learning_rate.assign(learning_rate)\n",
    "    \n",
    "    model.compile(\n",
    "        optimizer = model_optimizer,\n",
    "        loss = 'mse')\n",
    "    \n",
    "    model.build()\n",
    "    return model"
   ]
  },
  {
   "cell_type": "markdown",
   "id": "3c944ad1",
   "metadata": {},
   "source": [
    "### 3.2 Pré-processamento nos dados de entrada"
   ]
  },
  {
   "cell_type": "markdown",
   "id": "83326c3a",
   "metadata": {},
   "source": [
    "Dimensões dos vetores de entrada:"
   ]
  },
  {
   "cell_type": "code",
   "execution_count": 17,
   "id": "838f6eef",
   "metadata": {},
   "outputs": [],
   "source": [
    "len_treino = X_treino.shape[0]\n",
    "len_teste = X_teste.shape[0]\n",
    "len_val = X_val.shape[0]"
   ]
  },
  {
   "cell_type": "markdown",
   "id": "c22c5a3c",
   "metadata": {},
   "source": [
    "Ajustando os vetores para a abordagem *Many-to-One*:"
   ]
  },
  {
   "cell_type": "code",
   "execution_count": 18,
   "id": "35382cf9",
   "metadata": {},
   "outputs": [],
   "source": [
    "X_treino = np.reshape(X_treino,(len_treino, K, 1))\n",
    "X_teste = np.reshape(X_teste,(len_teste, K, 1))\n",
    "X_val = np.reshape(X_val,(len_val, K, 1))"
   ]
  },
  {
   "cell_type": "markdown",
   "id": "c166d426",
   "metadata": {},
   "source": [
    "### 3.3 Treino com o modelo"
   ]
  },
  {
   "cell_type": "code",
   "execution_count": 19,
   "id": "d1ecbd06",
   "metadata": {},
   "outputs": [
    {
     "name": "stdout",
     "output_type": "stream",
     "text": [
      "WARNING:tensorflow:Layer camada_lstm will not use cuDNN kernel since it doesn't meet the cuDNN kernel criteria. It will use generic GPU kernel as fallback when running on GPU\n"
     ]
    }
   ],
   "source": [
    "model = criar_modelo()"
   ]
  },
  {
   "cell_type": "code",
   "execution_count": 20,
   "id": "cbba21af",
   "metadata": {},
   "outputs": [
    {
     "name": "stdout",
     "output_type": "stream",
     "text": [
      "Model: \"LSTM-basica\"\n",
      "_________________________________________________________________\n",
      "Layer (type)                 Output Shape              Param #   \n",
      "=================================================================\n",
      "camada_lstm (LSTM)           (None, 30)                3840      \n",
      "_________________________________________________________________\n",
      "camada_de_saida (Dense)      (None, 1)                 31        \n",
      "=================================================================\n",
      "Total params: 3,871\n",
      "Trainable params: 3,871\n",
      "Non-trainable params: 0\n",
      "_________________________________________________________________\n"
     ]
    }
   ],
   "source": [
    "model.summary()"
   ]
  },
  {
   "cell_type": "code",
   "execution_count": 21,
   "id": "0cf26836",
   "metadata": {},
   "outputs": [],
   "source": [
    "early_stopping = tf.keras.callbacks.EarlyStopping(patience=10, restore_best_weights=True, monitor='val_loss')"
   ]
  },
  {
   "cell_type": "code",
   "execution_count": 22,
   "id": "0d158934",
   "metadata": {},
   "outputs": [],
   "source": [
    "batch_size = 32"
   ]
  },
  {
   "cell_type": "code",
   "execution_count": 23,
   "id": "e6fad17f",
   "metadata": {},
   "outputs": [
    {
     "name": "stdout",
     "output_type": "stream",
     "text": [
      "Epoch 1/100\n",
      "120/120 [==============================] - 2s 6ms/step - loss: 47.0077 - val_loss: 1.8275\n",
      "Epoch 2/100\n",
      "120/120 [==============================] - 0s 4ms/step - loss: 0.9263 - val_loss: 0.3241\n",
      "Epoch 3/100\n",
      "120/120 [==============================] - 0s 4ms/step - loss: 0.2678 - val_loss: 0.0845\n",
      "Epoch 4/100\n",
      "120/120 [==============================] - 0s 4ms/step - loss: 0.1109 - val_loss: 0.0250\n",
      "Epoch 5/100\n",
      "120/120 [==============================] - 0s 4ms/step - loss: 0.0311 - val_loss: 0.0111\n",
      "Epoch 6/100\n",
      "120/120 [==============================] - 0s 4ms/step - loss: 0.0637 - val_loss: 0.0113\n",
      "Epoch 7/100\n",
      "120/120 [==============================] - 0s 4ms/step - loss: 0.0168 - val_loss: 0.0411\n",
      "Epoch 8/100\n",
      "120/120 [==============================] - 0s 4ms/step - loss: 0.0284 - val_loss: 0.0053\n",
      "Epoch 9/100\n",
      "120/120 [==============================] - 0s 4ms/step - loss: 0.0168 - val_loss: 0.1800\n",
      "Epoch 10/100\n",
      "120/120 [==============================] - 0s 4ms/step - loss: 0.0470 - val_loss: 0.0089\n",
      "Epoch 11/100\n",
      "120/120 [==============================] - 0s 4ms/step - loss: 0.0213 - val_loss: 0.0066\n",
      "Epoch 12/100\n",
      "120/120 [==============================] - 0s 4ms/step - loss: 0.0069 - val_loss: 0.0060\n",
      "Epoch 13/100\n",
      "120/120 [==============================] - 0s 4ms/step - loss: 0.0237 - val_loss: 0.0105\n",
      "Epoch 14/100\n",
      "120/120 [==============================] - 0s 4ms/step - loss: 0.0203 - val_loss: 0.0068\n",
      "Epoch 15/100\n",
      "120/120 [==============================] - 0s 4ms/step - loss: 0.0189 - val_loss: 0.0035\n",
      "Epoch 16/100\n",
      "120/120 [==============================] - 0s 4ms/step - loss: 0.0059 - val_loss: 0.0026\n",
      "Epoch 17/100\n",
      "120/120 [==============================] - 0s 4ms/step - loss: 0.0073 - val_loss: 0.0221\n",
      "Epoch 18/100\n",
      "120/120 [==============================] - 0s 4ms/step - loss: 0.0192 - val_loss: 0.0290\n",
      "Epoch 19/100\n",
      "120/120 [==============================] - 0s 4ms/step - loss: 0.0317 - val_loss: 0.0047\n",
      "Epoch 20/100\n",
      "120/120 [==============================] - 0s 4ms/step - loss: 0.0070 - val_loss: 0.0039\n",
      "Epoch 21/100\n",
      "120/120 [==============================] - 0s 4ms/step - loss: 0.0110 - val_loss: 0.0069\n",
      "Epoch 22/100\n",
      "120/120 [==============================] - 0s 4ms/step - loss: 0.0147 - val_loss: 0.0126\n",
      "Epoch 23/100\n",
      "120/120 [==============================] - 0s 4ms/step - loss: 0.0087 - val_loss: 0.0045\n",
      "Epoch 24/100\n",
      "120/120 [==============================] - 0s 4ms/step - loss: 0.0125 - val_loss: 0.0122\n",
      "Epoch 25/100\n",
      "120/120 [==============================] - 0s 4ms/step - loss: 0.0116 - val_loss: 0.1033\n",
      "Epoch 26/100\n",
      "120/120 [==============================] - 0s 4ms/step - loss: 0.0400 - val_loss: 0.0112\n"
     ]
    }
   ],
   "source": [
    "history = model.fit(X_treino, y_treino, epochs=100,\n",
    "                            callbacks=early_stopping, validation_data=(X_val, y_val),\n",
    "                            batch_size=batch_size, verbose=1)\n",
    "treinamento = pd.DataFrame(history.history)"
   ]
  },
  {
   "cell_type": "markdown",
   "id": "dcfcb122",
   "metadata": {},
   "source": [
    "## Teste com o melhor modelo"
   ]
  },
  {
   "cell_type": "code",
   "execution_count": 24,
   "id": "342a825d",
   "metadata": {},
   "outputs": [],
   "source": [
    "y_pred = model.predict(X_teste)"
   ]
  },
  {
   "cell_type": "code",
   "execution_count": 25,
   "id": "d14de2fe",
   "metadata": {},
   "outputs": [
    {
     "data": {
      "text/plain": [
       "750"
      ]
     },
     "execution_count": 25,
     "metadata": {},
     "output_type": "execute_result"
    }
   ],
   "source": [
    "len(instantes_temporais[len(instantes_temporais)-int(len(instantes_temporais)*tam_teste):,])"
   ]
  },
  {
   "cell_type": "markdown",
   "id": "449d20b6",
   "metadata": {},
   "source": [
    "### Gráfico"
   ]
  },
  {
   "cell_type": "code",
   "execution_count": 27,
   "id": "0fb7ee72",
   "metadata": {},
   "outputs": [
    {
     "data": {
      "application/vnd.jupyter.widget-view+json": {
       "model_id": "31226e6d6ef8420684dc2779317ef2d8",
       "version_major": 2,
       "version_minor": 0
      },
      "text/plain": [
       "Canvas(toolbar=Toolbar(toolitems=[('Home', 'Reset original view', 'home', 'home'), ('Back', 'Back to previous …"
      ]
     },
     "metadata": {},
     "output_type": "display_data"
    }
   ],
   "source": [
    "fig, ax = plt.subplots()\n",
    "ax.plot(instantes_temporais[len(instantes_temporais)-int(len(instantes_temporais)*tam_teste):,], y_teste, color='DodgerBlue', label='Valor real')\n",
    "ax.plot(instantes_temporais[len(instantes_temporais)-int(len(instantes_temporais)*tam_teste):,], y_pred, color='Silver', label='LSTM')\n",
    "\n",
    "ax.set_title(\"Comparação da predição da LSTM com o valor real do sistema de Lorenz\")\n",
    "ax.set_ylabel('$x(t)$')\n",
    "ax.set_xlabel('$t$')\n",
    "ax.set_xlim(42.5, 50)\n",
    "    \n",
    "ax.grid(True)\n",
    "sns.despine()\n",
    "ax.legend()\n",
    "\n",
    "plt.show()"
   ]
  },
  {
   "cell_type": "markdown",
   "id": "3fac464f",
   "metadata": {},
   "source": [
    "### Erro Quadrático Médio"
   ]
  },
  {
   "cell_type": "code",
   "execution_count": 28,
   "id": "015735e6",
   "metadata": {},
   "outputs": [],
   "source": [
    "from sklearn.metrics import mean_squared_error"
   ]
  },
  {
   "cell_type": "code",
   "execution_count": 29,
   "id": "5621e45a",
   "metadata": {},
   "outputs": [
    {
     "name": "stdout",
     "output_type": "stream",
     "text": [
      "MSE = 0.0047299637797572\n"
     ]
    }
   ],
   "source": [
    "mse = mean_squared_error(y_teste, y_pred)\n",
    "print(\"MSE = \" + str(mse))"
   ]
  }
 ],
 "metadata": {
  "kernelspec": {
   "display_name": "Python 3",
   "language": "python",
   "name": "python3"
  },
  "language_info": {
   "codemirror_mode": {
    "name": "ipython",
    "version": 3
   },
   "file_extension": ".py",
   "mimetype": "text/x-python",
   "name": "python",
   "nbconvert_exporter": "python",
   "pygments_lexer": "ipython3",
   "version": "3.8.0"
  }
 },
 "nbformat": 4,
 "nbformat_minor": 5
}