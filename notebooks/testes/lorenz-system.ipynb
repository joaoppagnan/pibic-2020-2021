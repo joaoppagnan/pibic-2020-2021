{
 "cells": [
  {
   "cell_type": "markdown",
   "id": "stock-baseball",
   "metadata": {},
   "source": [
    "# Testes da rotina da classe do Sistema de Lorenz"
   ]
  },
  {
   "cell_type": "markdown",
   "id": "derived-sunset",
   "metadata": {},
   "source": [
    "## 1. Importando as bibliotecas necessárias"
   ]
  },
  {
   "cell_type": "markdown",
   "id": "built-bradford",
   "metadata": {},
   "source": [
    "### Bibliotecas obrigatórias"
   ]
  },
  {
   "cell_type": "code",
   "execution_count": 111,
   "id": "median-pension",
   "metadata": {},
   "outputs": [],
   "source": [
    "import numpy as np\n",
    "from scipy.integrate import odeint\n",
    "\n",
    "%matplotlib widget\n",
    "import matplotlib.pyplot as plt\n",
    "\n",
    "import seaborn as sns # a biblioteca 'seaborn' contém vários estilos para os gráficos do 'matpĺotlib'\n",
    "\n",
    "# agora, melhoramos a qualidade de saida e de visualizacao da imagem \n",
    "# alem de mudar a fonte padrao para uma do latex\n",
    "sns.set_style(\"ticks\")\n",
    "plt.rcParams['savefig.dpi'] = 200\n",
    "plt.rcParams[\"figure.dpi\"] = 100\n",
    "\n",
    "plt.rcParams.update({\n",
    "    \"text.usetex\": True,\n",
    "    \"font.family\": \"serif\",\n",
    "    \"font.serif\": [\"Palatino\"],\n",
    "})\n",
    "\n",
    "plt.style.use('dark_background')"
   ]
  },
  {
   "cell_type": "markdown",
   "id": "binary-cambridge",
   "metadata": {},
   "source": [
    "### Bibliotecas não-obrigatórias"
   ]
  },
  {
   "cell_type": "code",
   "execution_count": 112,
   "id": "indie-james",
   "metadata": {},
   "outputs": [],
   "source": [
    "import sys \n",
    "sys.path.insert(0, '../../scripts')\n",
    "import lorenzsystem as lsys"
   ]
  },
  {
   "cell_type": "markdown",
   "id": "olive-cement",
   "metadata": {},
   "source": [
    "## 2. Definindo a função (debug)"
   ]
  },
  {
   "cell_type": "markdown",
   "id": "delayed-wagon",
   "metadata": {},
   "source": [
    "Não é necessário executar essa linha se você estiver importando o arquivo com a classe."
   ]
  },
  {
   "cell_type": "code",
   "execution_count": 170,
   "id": "unable-thomson",
   "metadata": {},
   "outputs": [],
   "source": [
    "class SistemaLorenz:\n",
    "    \n",
    "    def __init__(self, sigma=10, beta=8/3, rho=28):\n",
    "        \"\"\"\n",
    "        Descrição:\n",
    "        ----------\n",
    "        Construtor da classe 'SistemaLorenz'\n",
    "\n",
    "        Parâmetros:\n",
    "        -----------\n",
    "        sigma: int ou float\n",
    "            Parâmetro do Sistema de Lorenz\n",
    "        beta: int ou float\n",
    "            Parâmetro do Sistema de Lorenz\n",
    "        rho: int ou float\n",
    "            Parâmetro do Sistema de Lorenz\n",
    "        estado_inicial: np.ndarray\n",
    "            Vetor das posições xyz iniciais do sistema\n",
    "        \"\"\"\n",
    "        \n",
    "        if not (((type(sigma) is int) | (type(sigma) is float)) & (sigma > 0)):\n",
    "            raise TypeError(\"Sigma deve ser um int ou float positivo!\")\n",
    "\n",
    "        if not (((type(beta) is int) | (type(beta) is float)) & (beta >= 0)):\n",
    "            raise TypeError(\"Beta deve ser um int ou float positivo!\")\n",
    "\n",
    "        if not (((type(rho) is int) | (type(rho) is float)) & (rho >= 0)):\n",
    "            raise TypeError(\"Rho deve ser um int ou float positivo!\")\n",
    "        \n",
    "        self._sigma = sigma\n",
    "        self._beta = beta\n",
    "        self._rho = rho\n",
    "        pass\n",
    "    \n",
    "    def equacoes(self, estado_atual, t):\n",
    "        \"\"\"\n",
    "        Descrição:\n",
    "        ----------\n",
    "        Retorna as equações do Sistema de Lorenz calculadas no instante t atual\n",
    "        \n",
    "        Parâmetros:\n",
    "        -----------\n",
    "        estado_inicial: np.ndarray\n",
    "            Vetor das posições xyz atuais do sistema\n",
    "        \"\"\"\n",
    "        \n",
    "        if not (type(estado_atual) is np.ndarray):\n",
    "            raise TypeError(\"O vetor estado atual deve ser um array do numpy!\")        \n",
    "        \n",
    "        sigma = self._sigma\n",
    "        beta = self._beta\n",
    "        rho = self._rho\n",
    "        x, y, z = estado_atual\n",
    "        \n",
    "        dx_dt = sigma * (y - x)\n",
    "        dy_dt = x * (rho - z) - y\n",
    "        dz_dt = x * y - beta * z\n",
    "        return [dx_dt, dy_dt, dz_dt]"
   ]
  },
  {
   "cell_type": "markdown",
   "id": "velvet-highland",
   "metadata": {},
   "source": [
    "## 3. Testando com o atrator de Lorenz"
   ]
  },
  {
   "cell_type": "code",
   "execution_count": 179,
   "id": "advised-latter",
   "metadata": {},
   "outputs": [],
   "source": [
    "t_inicial = 0\n",
    "t_final = 100\n",
    "instantes_temporais = np.linspace(t_inicial, t_final, (t_final - t_inicial)*1000)"
   ]
  },
  {
   "cell_type": "code",
   "execution_count": 180,
   "id": "refined-express",
   "metadata": {},
   "outputs": [],
   "source": [
    "sis_lorenz = SistemaLorenz()"
   ]
  },
  {
   "cell_type": "code",
   "execution_count": 181,
   "id": "specific-connectivity",
   "metadata": {},
   "outputs": [],
   "source": [
    "estado_inicial = 0.1, 0, 0"
   ]
  },
  {
   "cell_type": "code",
   "execution_count": 182,
   "id": "interior-colleague",
   "metadata": {},
   "outputs": [],
   "source": [
    "xyz = odeint(func=sis_lorenz.equacoes, t=instantes_temporais, y0=estado_inicial)"
   ]
  },
  {
   "cell_type": "code",
   "execution_count": 183,
   "id": "labeled-wesley",
   "metadata": {},
   "outputs": [],
   "source": [
    "x = xyz[:, 0]\n",
    "y = xyz[:, 1]\n",
    "z = xyz[:, 2]"
   ]
  },
  {
   "cell_type": "markdown",
   "id": "inclusive-cycle",
   "metadata": {},
   "source": [
    "### 3.a) Diagrama de Fases"
   ]
  },
  {
   "cell_type": "code",
   "execution_count": 184,
   "id": "executive-greek",
   "metadata": {},
   "outputs": [
    {
     "data": {
      "application/vnd.jupyter.widget-view+json": {
       "model_id": "6afb1a41e8994067885af2a017f3f7ee",
       "version_major": 2,
       "version_minor": 0
      },
      "text/plain": [
       "Canvas(toolbar=Toolbar(toolitems=[('Home', 'Reset original view', 'home', 'home'), ('Back', 'Back to previous …"
      ]
     },
     "metadata": {},
     "output_type": "display_data"
    }
   ],
   "source": [
    "fig, ax = plt.subplots()\n",
    "ax = plt.axes(projection='3d')\n",
    "ax.plot(x, y, z, alpha=1, linewidth=0.6, color='White')\n",
    "ax.set_title(\"Diagrama de fase do Atrator de Lorenz\")\n",
    "ax.set_xlabel('x')\n",
    "ax.set_ylabel('y')\n",
    "ax.set_zlabel('z')\n",
    "\n",
    "ax.w_xaxis.set_pane_color((0, 0, 0, 0))\n",
    "ax.w_yaxis.set_pane_color((0, 0, 0, 0))\n",
    "ax.w_zaxis.set_pane_color((0, 0, 0, 0))\n",
    "\n",
    "ax.grid(False)\n",
    "sns.despine()\n",
    "plt.show()"
   ]
  },
  {
   "cell_type": "markdown",
   "id": "shared-stick",
   "metadata": {},
   "source": [
    "### 3.b) Séries Temporais"
   ]
  },
  {
   "cell_type": "code",
   "execution_count": 185,
   "id": "adverse-workstation",
   "metadata": {},
   "outputs": [
    {
     "data": {
      "application/vnd.jupyter.widget-view+json": {
       "model_id": "f747a92d7b78443c976bf0458afc544c",
       "version_major": 2,
       "version_minor": 0
      },
      "text/plain": [
       "Canvas(toolbar=Toolbar(toolitems=[('Home', 'Reset original view', 'home', 'home'), ('Back', 'Back to previous …"
      ]
     },
     "metadata": {},
     "output_type": "display_data"
    }
   ],
   "source": [
    "fig, ax = plt.subplots(3)\n",
    "fig.suptitle(\"Séries temporais de 0 a 100 segundos das coordenadas xyz do Sistema de Lorenz\")\n",
    "ax[0].plot(instantes_temporais, x, color='DeepSkyBlue')\n",
    "\n",
    "ax[0].set_ylabel('x(t)')\n",
    "ax[0].set_xlabel('t')\n",
    "ax[0].set_xlim(0,)\n",
    "    \n",
    "ax[0].grid(True)\n",
    "\n",
    "ax[1].plot(instantes_temporais, y, color='LightCoral')\n",
    "ax[1].set_ylabel('y(t)')\n",
    "ax[1].set_xlabel('t')\n",
    "ax[1].set_xlim(0,)\n",
    "ax[1].grid(True)\n",
    "\n",
    "ax[2].plot(instantes_temporais, z, color='PaleGreen')\n",
    "ax[2].set_ylabel('z(t)')\n",
    "ax[2].set_xlabel('t')\n",
    "ax[2].set_xlim(0,)\n",
    "ax[2].grid(True)\n",
    "\n",
    "fig.tight_layout()\n",
    "sns.despine()\n",
    "plt.show()"
   ]
  },
  {
   "cell_type": "code",
   "execution_count": null,
   "id": "fifty-girlfriend",
   "metadata": {},
   "outputs": [],
   "source": []
  }
 ],
 "metadata": {
  "kernelspec": {
   "display_name": "pibic2020-env",
   "language": "python",
   "name": "pibic2020-env"
  },
  "language_info": {
   "codemirror_mode": {
    "name": "ipython",
    "version": 3
   },
   "file_extension": ".py",
   "mimetype": "text/x-python",
   "name": "python",
   "nbconvert_exporter": "python",
   "pygments_lexer": "ipython3",
   "version": "3.8.5"
  }
 },
 "nbformat": 4,
 "nbformat_minor": 5
}
