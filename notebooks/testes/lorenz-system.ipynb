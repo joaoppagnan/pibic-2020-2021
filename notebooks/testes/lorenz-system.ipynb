{
 "cells": [
  {
   "cell_type": "markdown",
   "id": "inside-object",
   "metadata": {},
   "source": [
    "# Testes da rotina da classe do Sistema de Lorenz"
   ]
  },
  {
   "cell_type": "markdown",
   "id": "headed-class",
   "metadata": {},
   "source": [
    "## 1. Importando as bibliotecas necessárias"
   ]
  },
  {
   "cell_type": "markdown",
   "id": "psychological-edwards",
   "metadata": {},
   "source": [
    "### Bibliotecas obrigatórias"
   ]
  },
  {
   "cell_type": "code",
   "execution_count": 1,
   "id": "therapeutic-geometry",
   "metadata": {},
   "outputs": [],
   "source": [
    "import numpy as np\n",
    "from scipy.integrate import odeint\n",
    "\n",
    "%matplotlib widget\n",
    "import matplotlib.pyplot as plt\n",
    "\n",
    "import seaborn as sns # a biblioteca 'seaborn' contém vários estilos para os gráficos do 'matpĺotlib'\n",
    "\n",
    "# agora, melhoramos a qualidade de saida e de visualizacao da imagem \n",
    "# alem de mudar a fonte padrao para uma do latex\n",
    "sns.set_style(\"ticks\")\n",
    "plt.rcParams['savefig.dpi'] = 200\n",
    "plt.rcParams[\"figure.dpi\"] = 100\n",
    "\n",
    "plt.rcParams.update({\n",
    "    \"text.usetex\": True,\n",
    "    \"font.family\": \"serif\",\n",
    "    \"font.serif\": [\"Palatino\"],\n",
    "})\n",
    "\n",
    "plt.style.use('dark_background')"
   ]
  },
  {
   "cell_type": "markdown",
   "id": "parental-resource",
   "metadata": {},
   "source": [
    "### Bibliotecas não-obrigatórias"
   ]
  },
  {
   "cell_type": "code",
   "execution_count": 2,
   "id": "attended-leisure",
   "metadata": {},
   "outputs": [],
   "source": [
    "import sys \n",
    "sys.path.insert(0, '../../scripts')\n",
    "import lorenzsystem as lsys"
   ]
  },
  {
   "cell_type": "markdown",
   "id": "broke-demographic",
   "metadata": {},
   "source": [
    "## 2. Definindo a função (debug)"
   ]
  },
  {
   "cell_type": "markdown",
   "id": "technical-agriculture",
   "metadata": {},
   "source": [
    "Não é necessário executar essa linha se você estiver importando o arquivo com a classe."
   ]
  },
  {
   "cell_type": "code",
   "execution_count": 9,
   "id": "political-chain",
   "metadata": {},
   "outputs": [],
   "source": [
    "class SistemaLorenz:\n",
    "    \n",
    "    def __init__(self, sigma, beta, rho, estado_inicial):\n",
    "        \"\"\"\n",
    "        Descrição:\n",
    "        ----------\n",
    "        Construtor da classe 'SistemaLorenz'\n",
    "\n",
    "        Parâmetros:\n",
    "        -----------\n",
    "        sigma: float\n",
    "            Parâmetro do Sistema de Lorenz\n",
    "        beta: float\n",
    "            Parâmetro do Sistema de Lorenz\n",
    "        rho: float\n",
    "            Parâmetro do Sistema de Lorenz\n",
    "        estado_inicial: np.ndarray\n",
    "            Vetor das posições xyz iniciais do sistema\n",
    "        \"\"\"\n",
    "        \n",
    "        if not ((type(sigma) is float) & (sigma > 0)):\n",
    "            raise TypeError(\"Sigma deve ser um float positivo!\")\n",
    "\n",
    "        if not ((type(beta) is float) & (beta >= 0)):\n",
    "            raise TypeError(\"Beta deve ser um float positivo!\")\n",
    "\n",
    "        if not ((type(rho) is float) & (rho >= 0)):\n",
    "            raise TypeError(\"Rho deve ser um float positivo!\")\n",
    "        \n",
    "        if not (type(estado_inicial) is np.ndarray):\n",
    "            raise TypeError(\"O vetor estado inicial deve ser um array do numpy!\")\n",
    "        \n",
    "        self._sigma = sigma\n",
    "        self._beta = beta\n",
    "        self._rho = rho\n",
    "        self._x_inicial = estado_inicial[0]\n",
    "        self._y_inicial = estado_inicial[1]\n",
    "        self._z_inicial = estado_inicial[2]        \n",
    "        \n",
    "        pass"
   ]
  },
  {
   "cell_type": "code",
   "execution_count": null,
   "id": "rocky-fraud",
   "metadata": {},
   "outputs": [],
   "source": []
  }
 ],
 "metadata": {
  "kernelspec": {
   "display_name": "pibic2020-env",
   "language": "python",
   "name": "pibic2020-env"
  },
  "language_info": {
   "codemirror_mode": {
    "name": "ipython",
    "version": 3
   },
   "file_extension": ".py",
   "mimetype": "text/x-python",
   "name": "python",
   "nbconvert_exporter": "python",
   "pygments_lexer": "ipython3",
   "version": "3.8.5"
  }
 },
 "nbformat": 4,
 "nbformat_minor": 5
}
