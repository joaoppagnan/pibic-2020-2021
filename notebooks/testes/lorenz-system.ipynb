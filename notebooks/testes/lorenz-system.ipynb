{
 "cells": [
  {
   "cell_type": "markdown",
   "id": "3a07352d",
   "metadata": {},
   "source": [
    "# Testes da rotina da classe do Sistema de Lorenz"
   ]
  },
  {
   "cell_type": "markdown",
   "id": "069fec7b",
   "metadata": {},
   "source": [
    "## 1. Importando as bibliotecas necessárias"
   ]
  },
  {
   "cell_type": "markdown",
   "id": "d3b78ff2",
   "metadata": {},
   "source": [
    "### Bibliotecas obrigatórias"
   ]
  },
  {
   "cell_type": "code",
   "execution_count": 2,
   "id": "79906aa6",
   "metadata": {},
   "outputs": [],
   "source": [
    "import numpy as np\n",
    "from scipy.integrate import odeint\n",
    "\n",
    "\n",
    "%matplotlib widget\n",
    "\n",
    "import matplotlib.pyplot as plt\n",
    "\n",
    "import seaborn as sns # a biblioteca 'seaborn' contém vários estilos para os gráficos do 'matpĺotlib'\n",
    "\n",
    "# agora, melhoramos a qualidade de saida e de visualizacao da imagem \n",
    "# alem de mudar a fonte padrao para uma do latex\n",
    "sns.set_style(\"ticks\")\n",
    "plt.rcParams['savefig.dpi'] = 200\n",
    "plt.rcParams[\"figure.dpi\"] = 100\n",
    "\n",
    "plt.rcParams.update({\n",
    "    \"text.usetex\": True,\n",
    "    \"font.family\": \"serif\",\n",
    "    \"font.serif\": [\"Palatino\"],\n",
    "})\n",
    "plt.style.use('dark_background')"
   ]
  },
  {
   "cell_type": "markdown",
   "id": "2868f448",
   "metadata": {},
   "source": [
    "### Bibliotecas não-obrigatórias"
   ]
  },
  {
   "cell_type": "code",
   "execution_count": 3,
   "id": "3d91ff28",
   "metadata": {},
   "outputs": [],
   "source": [
    "import sys \n",
    "sys.path.insert(0, '../../scripts')\n",
    "import lorenzsystem as lsys"
   ]
  },
  {
   "cell_type": "markdown",
   "id": "4072dc9f",
   "metadata": {},
   "source": [
    "## 2. Definindo a função (debug)"
   ]
  },
  {
   "cell_type": "markdown",
   "id": "82d585fb",
   "metadata": {},
   "source": [
    "Não é necessário executar essa linha se você estiver importando o arquivo com a classe."
   ]
  },
  {
   "cell_type": "code",
   "execution_count": 4,
   "id": "770da0c5",
   "metadata": {},
   "outputs": [],
   "source": [
    "class SistemaLorenz:\n",
    "    \n",
    "    def __init__(self, estado_inicial, sigma=10, beta=8/3, rho=28, dt=0.0001):\n",
    "        \"\"\"\n",
    "        Descrição:\n",
    "        ----------\n",
    "        Construtor da classe 'SistemaLorenz'\n",
    "\n",
    "        Parâmetros:\n",
    "        -----------\n",
    "        estado_inicial: np.ndarray\n",
    "            Vetor das posições xyz iniciais do sistema        \n",
    "        sigma: int ou float\n",
    "            Parâmetro do Sistema de Lorenz\n",
    "        beta: int ou float\n",
    "            Parâmetro do Sistema de Lorenz\n",
    "        rho: int ou float\n",
    "            Parâmetro do Sistema de Lorenz\n",
    "        dt: float\n",
    "            Tamanho do diferencial de tempo que iremos utilizar nos cálculos, ou seja, a resolução temporal de nossa solução\n",
    "            \n",
    "        Retorna:\n",
    "        --------\n",
    "        Nada\n",
    "        \"\"\"\n",
    "        \n",
    "        if not (type(estado_inicial) is np.ndarray):\n",
    "            raise TypeError(\"O vetor estado inicial deve ser um array do numpy!\") \n",
    "        \n",
    "        if not (((type(sigma) is int) | (type(sigma) is float)) & (sigma > 0)):\n",
    "            raise TypeError(\"Sigma deve ser um int ou float positivo!\")\n",
    "\n",
    "        if not (((type(beta) is int) | (type(beta) is float)) & (beta > 0)):\n",
    "            raise TypeError(\"Beta deve ser um int ou float positivo!\")\n",
    "\n",
    "        if not (((type(rho) is int) | (type(rho) is float)) & (rho > 0)):\n",
    "            raise TypeError(\"Rho deve ser um int ou float positivo!\")\n",
    "            \n",
    "        if not ((type(dt) is float) & (dt > 0)):\n",
    "            raise TypeError(\"dt deve ser um float positivo!\")\n",
    "        \n",
    "        self._estado_inicial = estado_inicial\n",
    "        self._sigma = sigma\n",
    "        self._beta = beta\n",
    "        self._rho = rho\n",
    "        self._dt = dt\n",
    "        pass\n",
    "    \n",
    "    def _equacoes(self, estado_atual, t):\n",
    "        \"\"\"\n",
    "        Descrição:\n",
    "        ----------\n",
    "        Função interna que retorna as equações do Sistema de Lorenz calculadas no instante t atual\n",
    "        \n",
    "        Parâmetros:\n",
    "        -----------\n",
    "        estado_atual: np.ndarray\n",
    "            Vetor das posições xyz atuais do sistema    \n",
    "        t: float\n",
    "            Instante t no qual estamos calculando as derivadas\n",
    "            \n",
    "        Retorna:\n",
    "        --------\n",
    "        Um sistema de EDOs de Lorenz para os parâmetros estimados na forma de um array\n",
    "        \"\"\"\n",
    "        \n",
    "        if not (type(estado_atual) is np.ndarray):\n",
    "            raise TypeError(\"O vetor estado atual deve ser um array do numpy!\")        \n",
    "        \n",
    "        if not (type(t) is float):\n",
    "            raise TypeError(\"t deve ser um float!\")\n",
    "        \n",
    "        sigma = self._sigma\n",
    "        beta = self._beta\n",
    "        rho = self._rho\n",
    "        x, y, z = estado_atual\n",
    "        \n",
    "        dx_dt = sigma * (y - x)\n",
    "        dy_dt = x * (rho - z) - y\n",
    "        dz_dt = x * y - beta * z\n",
    "        return [dx_dt, dy_dt, dz_dt]\n",
    "    \n",
    "    def calcular(self, t_inicial, t_final):\n",
    "        \"\"\"\n",
    "        Descrição:\n",
    "        ----------\n",
    "        Evolui o sistema de Lorenz com base nas condições iniciais configuradas, para um t indo de t_inicial até t_final, com n_instantes calculados\n",
    "        \n",
    "        Parâmetros:\n",
    "        -----------\n",
    "        t_inicial: int\n",
    "            Instante temporal em que iniciamos os cálculos\n",
    "        t_final: int\n",
    "            Instante temporal em que terminamos os cálculos\n",
    "            \n",
    "        Retorna:\n",
    "        --------\n",
    "        Um vetor com as soluções estimadas e um vetor com os instantes temporais utilizados\n",
    "        \"\"\"\n",
    "        \n",
    "        if not ((type(t_inicial) is int) & (t_inicial >= 0)):\n",
    "            raise TypeError(\"t_inicial deve ser um int não nulo!\")\n",
    "            \n",
    "        if not ((type(t_final) is int) & (t_final > 0)):\n",
    "            raise TypeError(\"t_final deve ser um int positivo!\")        \n",
    "        \n",
    "        estado_inicial = self._estado_inicial\n",
    "        dt = self._dt\n",
    "        \n",
    "        n_instantes = int((t_final - t_inicial)/dt)\n",
    "        instantes_temporais = np.linspace(t_inicial, t_final, n_instantes)\n",
    "        \n",
    "        solucoes = odeint(self._equacoes, t=instantes_temporais, y0=estado_inicial)\n",
    "        return solucoes, instantes_temporais"
   ]
  },
  {
   "cell_type": "markdown",
   "id": "646c2c44",
   "metadata": {},
   "source": [
    "## 3. Testando com o atrator de Lorenz"
   ]
  },
  {
   "cell_type": "code",
   "execution_count": 5,
   "id": "3be7dd3a",
   "metadata": {},
   "outputs": [],
   "source": [
    "t_inicial = 0\n",
    "t_final = 100\n",
    "dt = 0.001"
   ]
  },
  {
   "cell_type": "code",
   "execution_count": 6,
   "id": "668e073e",
   "metadata": {},
   "outputs": [],
   "source": [
    "estado_inicial = np.array([0.1, 0, 0])"
   ]
  },
  {
   "cell_type": "code",
   "execution_count": 7,
   "id": "d3113bad",
   "metadata": {},
   "outputs": [],
   "source": [
    "sis_lorenz = lsys.SistemaLorenz(estado_inicial, dt=dt)"
   ]
  },
  {
   "cell_type": "code",
   "execution_count": 8,
   "id": "a9e1cc54",
   "metadata": {},
   "outputs": [],
   "source": [
    "solucoes, instantes_temporais = sis_lorenz.calcular(t_inicial = t_inicial, t_final = t_final)"
   ]
  },
  {
   "cell_type": "code",
   "execution_count": 9,
   "id": "2501da16",
   "metadata": {},
   "outputs": [],
   "source": [
    "x = solucoes[:, 0]\n",
    "y = solucoes[:, 1]\n",
    "z = solucoes[:, 2]"
   ]
  },
  {
   "cell_type": "markdown",
   "id": "1464bd60",
   "metadata": {},
   "source": [
    "### 3.a) Diagrama de Fases"
   ]
  },
  {
   "cell_type": "code",
   "execution_count": 10,
   "id": "a9190fde",
   "metadata": {},
   "outputs": [
    {
     "data": {
      "application/vnd.jupyter.widget-view+json": {
       "model_id": "5b7aefb5514f44238bcf2f4218115ef6",
       "version_major": 2,
       "version_minor": 0
      },
      "text/plain": [
       "Canvas(toolbar=Toolbar(toolitems=[('Home', 'Reset original view', 'home', 'home'), ('Back', 'Back to previous …"
      ]
     },
     "metadata": {},
     "output_type": "display_data"
    }
   ],
   "source": [
    "fig, ax = plt.subplots()\n",
    "ax = plt.axes(projection='3d')\n",
    "ax.plot(x, y, z, alpha=1, linewidth=0.6, color='White')\n",
    "ax.set_title(\"Diagrama de fase do Atrator de Lorenz\")\n",
    "ax.set_xlabel('x')\n",
    "ax.set_ylabel('y')\n",
    "ax.set_zlabel('z')\n",
    "\n",
    "ax.w_xaxis.set_pane_color((0, 0, 0, 0))\n",
    "ax.w_yaxis.set_pane_color((0, 0, 0, 0))\n",
    "ax.w_zaxis.set_pane_color((0, 0, 0, 0))\n",
    "\n",
    "ax.grid(False)\n",
    "sns.despine()\n",
    "plt.show()"
   ]
  },
  {
   "cell_type": "markdown",
   "id": "3f0ad899",
   "metadata": {},
   "source": [
    "### 3.b) Séries Temporais"
   ]
  },
  {
   "cell_type": "code",
   "execution_count": 10,
   "id": "520c488d",
   "metadata": {},
   "outputs": [],
   "source": [
    "fig, ax = plt.subplots(3)\n",
    "fig.suptitle(\"Séries temporais de 0 a 100 segundos das coordenadas xyz do Sistema de Lorenz\")\n",
    "ax[0].plot(instantes_temporais, x, color='DeepSkyBlue')\n",
    "\n",
    "ax[0].set_ylabel('x(t)')\n",
    "ax[0].set_xlabel('t')\n",
    "ax[0].set_xlim(0,)\n",
    "    \n",
    "ax[0].grid(True)\n",
    "\n",
    "ax[1].plot(instantes_temporais, y, color='LightCoral')\n",
    "ax[1].set_ylabel('y(t)')\n",
    "ax[1].set_xlabel('t')\n",
    "ax[1].set_xlim(0,)\n",
    "ax[1].grid(True)\n",
    "\n",
    "ax[2].plot(instantes_temporais, z, color='PaleGreen')\n",
    "ax[2].set_ylabel('z(t)')\n",
    "ax[2].set_xlabel('t')\n",
    "ax[2].set_xlim(0,)\n",
    "ax[2].grid(True)\n",
    "\n",
    "fig.tight_layout()\n",
    "sns.despine()\n",
    "plt.show()"
   ]
  },
  {
   "cell_type": "code",
   "execution_count": null,
   "id": "6d43fa0f",
   "metadata": {},
   "outputs": [],
   "source": []
  }
 ],
 "metadata": {
  "kernelspec": {
   "display_name": "Python 3",
   "language": "python",
   "name": "python3"
  },
  "language_info": {
   "codemirror_mode": {
    "name": "ipython",
    "version": 3
   },
   "file_extension": ".py",
   "mimetype": "text/x-python",
   "name": "python",
   "nbconvert_exporter": "python",
   "pygments_lexer": "ipython3",
   "version": "3.8.0"
  }
 },
 "nbformat": 4,
 "nbformat_minor": 5
}
