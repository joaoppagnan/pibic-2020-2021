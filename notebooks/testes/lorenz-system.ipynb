{
 "cells": [
  {
   "cell_type": "markdown",
   "id": "declared-yahoo",
   "metadata": {},
   "source": [
    "# Testes da rotina da classe do Sistema de Lorenz"
   ]
  },
  {
   "cell_type": "markdown",
   "id": "foreign-platinum",
   "metadata": {},
   "source": [
    "## 1. Importando as bibliotecas necessárias"
   ]
  },
  {
   "cell_type": "markdown",
   "id": "mechanical-funds",
   "metadata": {},
   "source": [
    "### Bibliotecas obrigatórias"
   ]
  },
  {
   "cell_type": "code",
   "execution_count": 1,
   "id": "duplicate-colonial",
   "metadata": {},
   "outputs": [],
   "source": [
    "import numpy as np\n",
    "from scipy.integrate import odeint\n",
    "\n",
    "%matplotlib widget\n",
    "import matplotlib.pyplot as plt\n",
    "\n",
    "import seaborn as sns # a biblioteca 'seaborn' contém vários estilos para os gráficos do 'matpĺotlib'\n",
    "\n",
    "# agora, melhoramos a qualidade de saida e de visualizacao da imagem \n",
    "# alem de mudar a fonte padrao para uma do latex\n",
    "sns.set_style(\"ticks\")\n",
    "plt.rcParams['savefig.dpi'] = 200\n",
    "plt.rcParams[\"figure.dpi\"] = 100\n",
    "\n",
    "plt.rcParams.update({\n",
    "    \"text.usetex\": True,\n",
    "    \"font.family\": \"serif\",\n",
    "    \"font.serif\": [\"Palatino\"],\n",
    "})\n",
    "\n",
    "plt.style.use('dark_background')"
   ]
  },
  {
   "cell_type": "markdown",
   "id": "double-steps",
   "metadata": {},
   "source": [
    "### Bibliotecas não-obrigatórias"
   ]
  },
  {
   "cell_type": "code",
   "execution_count": 2,
   "id": "vietnamese-difference",
   "metadata": {},
   "outputs": [],
   "source": [
    "import sys \n",
    "sys.path.insert(0, '../../scripts')\n",
    "import lorenzsystem as lsys"
   ]
  },
  {
   "cell_type": "markdown",
   "id": "disabled-trinidad",
   "metadata": {},
   "source": [
    "## 2. Definindo a função (debug)"
   ]
  },
  {
   "cell_type": "markdown",
   "id": "scenic-threat",
   "metadata": {},
   "source": [
    "Não é necessário executar essa linha se você estiver importando o arquivo com a classe."
   ]
  },
  {
   "cell_type": "code",
   "execution_count": 3,
   "id": "ambient-london",
   "metadata": {},
   "outputs": [],
   "source": [
    "class SistemaLorenz:\n",
    "    \n",
    "    def __init__(self, estado_inicial, sigma=10, beta=8/3, rho=28, dt=0.0001):\n",
    "        \"\"\"\n",
    "        Descrição:\n",
    "        ----------\n",
    "        Construtor da classe 'SistemaLorenz'\n",
    "\n",
    "        Parâmetros:\n",
    "        -----------\n",
    "        estado_inicial: np.ndarray\n",
    "            Vetor das posições xyz iniciais do sistema        \n",
    "        sigma: int ou float\n",
    "            Parâmetro do Sistema de Lorenz\n",
    "        beta: int ou float\n",
    "            Parâmetro do Sistema de Lorenz\n",
    "        rho: int ou float\n",
    "            Parâmetro do Sistema de Lorenz\n",
    "        dt: float\n",
    "            Tamanho do diferencial de tempo que iremos utilizar nos cálculos, ou seja, a resolução temporal de nossa solução\n",
    "            \n",
    "        Retorna:\n",
    "        --------\n",
    "        Nada\n",
    "        \"\"\"\n",
    "        \n",
    "        if not (type(estado_inicial) is np.ndarray):\n",
    "            raise TypeError(\"O vetor estado inicial deve ser um array do numpy!\") \n",
    "        \n",
    "        if not (((type(sigma) is int) | (type(sigma) is float)) & (sigma > 0)):\n",
    "            raise TypeError(\"Sigma deve ser um int ou float positivo!\")\n",
    "\n",
    "        if not (((type(beta) is int) | (type(beta) is float)) & (beta > 0)):\n",
    "            raise TypeError(\"Beta deve ser um int ou float positivo!\")\n",
    "\n",
    "        if not (((type(rho) is int) | (type(rho) is float)) & (rho > 0)):\n",
    "            raise TypeError(\"Rho deve ser um int ou float positivo!\")\n",
    "            \n",
    "        if not ((type(dt) is float) & (dt > 0)):\n",
    "            raise TypeError(\"dt deve ser um float positivo!\")\n",
    "        \n",
    "        self._estado_inicial = estado_inicial\n",
    "        self._sigma = sigma\n",
    "        self._beta = beta\n",
    "        self._rho = rho\n",
    "        self._dt = dt\n",
    "        pass\n",
    "    \n",
    "    def _equacoes(self, estado_atual, t):\n",
    "        \"\"\"\n",
    "        Descrição:\n",
    "        ----------\n",
    "        Função interna que retorna as equações do Sistema de Lorenz calculadas no instante t atual\n",
    "        \n",
    "        Parâmetros:\n",
    "        -----------\n",
    "        estado_atual: np.ndarray\n",
    "            Vetor das posições xyz atuais do sistema    \n",
    "        t: float\n",
    "            Instante t no qual estamos calculando as derivadas\n",
    "            \n",
    "        Retorna:\n",
    "        --------\n",
    "        Um sistema de EDOs de Lorenz para os parâmetros estimados na forma de um array\n",
    "        \"\"\"\n",
    "        \n",
    "        if not (type(estado_atual) is np.ndarray):\n",
    "            raise TypeError(\"O vetor estado atual deve ser um array do numpy!\")        \n",
    "        \n",
    "        if not (type(t) is float):\n",
    "            raise TypeError(\"t deve ser um float!\")\n",
    "        \n",
    "        sigma = self._sigma\n",
    "        beta = self._beta\n",
    "        rho = self._rho\n",
    "        x, y, z = estado_atual\n",
    "        \n",
    "        dx_dt = sigma * (y - x)\n",
    "        dy_dt = x * (rho - z) - y\n",
    "        dz_dt = x * y - beta * z\n",
    "        return [dx_dt, dy_dt, dz_dt]\n",
    "    \n",
    "    def calcular(self, t_inicial, t_final):\n",
    "        \"\"\"\n",
    "        Descrição:\n",
    "        ----------\n",
    "        Evolui o sistema de Lorenz com base nas condições iniciais configuradas, para um t indo de t_inicial até t_final, com n_instantes calculados\n",
    "        \n",
    "        Parâmetros:\n",
    "        -----------\n",
    "        t_inicial: int\n",
    "            Instante temporal em que iniciamos os cálculos\n",
    "        t_final: int\n",
    "            Instante temporal em que terminamos os cálculos\n",
    "            \n",
    "        Retorna:\n",
    "        --------\n",
    "        Um vetor com as soluções estimadas e um vetor com os instantes temporais utilizados\n",
    "        \"\"\"\n",
    "        \n",
    "        if not ((type(t_inicial) is int) & (t_inicial >= 0)):\n",
    "            raise TypeError(\"t_inicial deve ser um int não nulo!\")\n",
    "            \n",
    "        if not ((type(t_final) is int) & (t_final > 0)):\n",
    "            raise TypeError(\"t_final deve ser um int positivo!\")        \n",
    "        \n",
    "        estado_inicial = self._estado_inicial\n",
    "        dt = self._dt\n",
    "        \n",
    "        n_instantes = int((t_final - t_inicial)/dt)\n",
    "        instantes_temporais = np.linspace(t_inicial, t_final, n_instantes)\n",
    "        \n",
    "        solucoes = odeint(self._equacoes, t=instantes_temporais, y0=estado_inicial)\n",
    "        return solucoes, instantes_temporais"
   ]
  },
  {
   "cell_type": "markdown",
   "id": "quiet-softball",
   "metadata": {},
   "source": [
    "## 3. Testando com o atrator de Lorenz"
   ]
  },
  {
   "cell_type": "code",
   "execution_count": 4,
   "id": "opponent-knife",
   "metadata": {},
   "outputs": [],
   "source": [
    "t_inicial = 0\n",
    "t_final = 100\n",
    "dt = 0.001"
   ]
  },
  {
   "cell_type": "code",
   "execution_count": 5,
   "id": "severe-savannah",
   "metadata": {},
   "outputs": [],
   "source": [
    "estado_inicial = np.array([1, 1, 1])"
   ]
  },
  {
   "cell_type": "code",
   "execution_count": 6,
   "id": "conceptual-agent",
   "metadata": {},
   "outputs": [],
   "source": [
    "sis_lorenz = lsys.SistemaLorenz(estado_inicial, dt=dt)"
   ]
  },
  {
   "cell_type": "code",
   "execution_count": 7,
   "id": "empty-butterfly",
   "metadata": {},
   "outputs": [],
   "source": [
    "solucoes, instantes_temporais = sis_lorenz.calcular(t_inicial = t_inicial, t_final = t_final)"
   ]
  },
  {
   "cell_type": "code",
   "execution_count": 8,
   "id": "marine-winter",
   "metadata": {},
   "outputs": [],
   "source": [
    "x = solucoes[:, 0]\n",
    "y = solucoes[:, 1]\n",
    "z = solucoes[:, 2]"
   ]
  },
  {
   "cell_type": "markdown",
   "id": "informational-literacy",
   "metadata": {},
   "source": [
    "### 3.a) Diagrama de Fases"
   ]
  },
  {
   "cell_type": "code",
   "execution_count": 9,
   "id": "universal-opinion",
   "metadata": {},
   "outputs": [
    {
     "data": {
      "application/vnd.jupyter.widget-view+json": {
       "model_id": "b8fc93e3777d45b499066b442721fb37",
       "version_major": 2,
       "version_minor": 0
      },
      "text/plain": [
       "Canvas(toolbar=Toolbar(toolitems=[('Home', 'Reset original view', 'home', 'home'), ('Back', 'Back to previous …"
      ]
     },
     "metadata": {},
     "output_type": "display_data"
    }
   ],
   "source": [
    "fig, ax = plt.subplots()\n",
    "ax = plt.axes(projection='3d')\n",
    "ax.plot(x, y, z, alpha=1, linewidth=0.6, color='White')\n",
    "ax.set_title(\"Diagrama de fase do Atrator de Lorenz\")\n",
    "ax.set_xlabel('x')\n",
    "ax.set_ylabel('y')\n",
    "ax.set_zlabel('z')\n",
    "\n",
    "ax.w_xaxis.set_pane_color((0, 0, 0, 0))\n",
    "ax.w_yaxis.set_pane_color((0, 0, 0, 0))\n",
    "ax.w_zaxis.set_pane_color((0, 0, 0, 0))\n",
    "\n",
    "ax.grid(False)\n",
    "sns.despine()\n",
    "plt.show()"
   ]
  },
  {
   "cell_type": "markdown",
   "id": "incredible-assault",
   "metadata": {},
   "source": [
    "### 3.b) Séries Temporais"
   ]
  },
  {
   "cell_type": "code",
   "execution_count": 10,
   "id": "electronic-quarter",
   "metadata": {},
   "outputs": [
    {
     "data": {
      "application/vnd.jupyter.widget-view+json": {
       "model_id": "a352fe9adf7947ba9ef2371b1772a610",
       "version_major": 2,
       "version_minor": 0
      },
      "text/plain": [
       "Canvas(toolbar=Toolbar(toolitems=[('Home', 'Reset original view', 'home', 'home'), ('Back', 'Back to previous …"
      ]
     },
     "metadata": {},
     "output_type": "display_data"
    }
   ],
   "source": [
    "fig, ax = plt.subplots(3)\n",
    "fig.suptitle(\"Séries temporais de 0 a 100 segundos das coordenadas xyz do Sistema de Lorenz\")\n",
    "ax[0].plot(instantes_temporais, x, color='DeepSkyBlue')\n",
    "\n",
    "ax[0].set_ylabel('x(t)')\n",
    "ax[0].set_xlabel('t')\n",
    "ax[0].set_xlim(0,)\n",
    "    \n",
    "ax[0].grid(True)\n",
    "\n",
    "ax[1].plot(instantes_temporais, y, color='LightCoral')\n",
    "ax[1].set_ylabel('y(t)')\n",
    "ax[1].set_xlabel('t')\n",
    "ax[1].set_xlim(0,)\n",
    "ax[1].grid(True)\n",
    "\n",
    "ax[2].plot(instantes_temporais, z, color='PaleGreen')\n",
    "ax[2].set_ylabel('z(t)')\n",
    "ax[2].set_xlabel('t')\n",
    "ax[2].set_xlim(0,)\n",
    "ax[2].grid(True)\n",
    "\n",
    "fig.tight_layout()\n",
    "sns.despine()\n",
    "plt.show()"
   ]
  },
  {
   "cell_type": "markdown",
   "id": "attached-custom",
   "metadata": {},
   "source": [
    "### 3.c) Animação"
   ]
  },
  {
   "cell_type": "code",
   "execution_count": 11,
   "id": "reasonable-brand",
   "metadata": {},
   "outputs": [],
   "source": [
    "from matplotlib.animation import FuncAnimation\n",
    "import mpl_toolkits.mplot3d.axes3d as p3\n",
    "from IPython.display import HTML, Image"
   ]
  },
  {
   "cell_type": "code",
   "execution_count": 12,
   "id": "average-allah",
   "metadata": {},
   "outputs": [],
   "source": [
    "def update_lines(num, dataLines, lines):\n",
    "    ax.view_init(30, 0.01 * num)\n",
    "    num = 5*num\n",
    "    for line, data in zip(lines, dataLines):\n",
    "        line.set_data(data[0:2, :num])\n",
    "        line.set_3d_properties(data[2, :num])\n",
    "    return lines"
   ]
  },
  {
   "cell_type": "code",
   "execution_count": 13,
   "id": "intended-platinum",
   "metadata": {},
   "outputs": [
    {
     "data": {
      "application/vnd.jupyter.widget-view+json": {
       "model_id": "e624f4ca308a4f10b39863829ba160ab",
       "version_major": 2,
       "version_minor": 0
      },
      "text/plain": [
       "Canvas(toolbar=Toolbar(toolitems=[('Home', 'Reset original view', 'home', 'home'), ('Back', 'Back to previous …"
      ]
     },
     "metadata": {},
     "output_type": "display_data"
    }
   ],
   "source": [
    "fig, ax = plt.subplots()\n",
    "ax = plt.axes(projection='3d')\n",
    "\n",
    "dados = np.array([[x, y, z]])\n",
    "plots = [ax.plot(dat[0, 0:1], dat[1, 0:1], dat[2, 0:1], alpha=1, linewidth=0.6, color='White')[0] for dat in dados]\n",
    "\n",
    "ax.set_title(\"Animação de uma trajetória no diagrama de fase\\n do Atrator de Lorenz com $x_{0} = 1$, $y_{0} = 1$ e $z_{0} = 1$\")\n",
    "ax.set_xlabel(\"x\")\n",
    "ax.set_ylabel(\"y\")\n",
    "ax.set_zlabel(\"z\")\n",
    "\n",
    "ax.w_xaxis.set_pane_color((0, 0, 0, 0))\n",
    "ax.w_yaxis.set_pane_color((0, 0, 0, 0))\n",
    "ax.w_zaxis.set_pane_color((0, 0, 0, 0))\n",
    "\n",
    "ax.set_xlim(-20,20)\n",
    "ax.set_ylim(-30,30)\n",
    "ax.set_zlim(-0,50)\n",
    "\n",
    "plt.rcParams['animation.html'] = 'html5'\n",
    "\n",
    "ax.grid(False)\n",
    "sns.despine()\n",
    "\n",
    "lorenz_animacao = FuncAnimation(fig, update_lines, frames=int(0.1*t_final/dt), fargs=(dados, plots),\n",
    "                                   interval=1, blit=True, repeat=False)\n",
    "\n",
    "lorenz_animacao.save('../../visualization/chaos/lorenz-attractor.mp4', writer='ffmpeg')"
   ]
  },
  {
   "cell_type": "markdown",
   "id": "forward-business",
   "metadata": {},
   "source": [
    "## 4. Animação de três trajetórias próximas"
   ]
  },
  {
   "cell_type": "code",
   "execution_count": 14,
   "id": "identical-chocolate",
   "metadata": {},
   "outputs": [],
   "source": [
    "t_inicial = 0\n",
    "t_final = 40\n",
    "dt = 0.001"
   ]
  },
  {
   "cell_type": "code",
   "execution_count": 15,
   "id": "progressive-johnson",
   "metadata": {},
   "outputs": [],
   "source": [
    "estado_inicial_1 = np.array([1.01, 1, 1])\n",
    "estado_inicial_2 = np.array([1, 1.01, 1])\n",
    "estado_inicial_3 = np.array([1, 1, 1.01])"
   ]
  },
  {
   "cell_type": "code",
   "execution_count": 16,
   "id": "classical-worship",
   "metadata": {},
   "outputs": [],
   "source": [
    "sis_lorenz_1 = lsys.SistemaLorenz(estado_inicial_1, dt=dt)\n",
    "sis_lorenz_2 = lsys.SistemaLorenz(estado_inicial_2, dt=dt)\n",
    "sis_lorenz_3 = lsys.SistemaLorenz(estado_inicial_3, dt=dt)"
   ]
  },
  {
   "cell_type": "code",
   "execution_count": 17,
   "id": "swiss-knock",
   "metadata": {},
   "outputs": [],
   "source": [
    "trajetoria_1, instantes_temporais = sis_lorenz_1.calcular(t_inicial = t_inicial, t_final = t_final)\n",
    "trajetoria_2, instantes_temporais = sis_lorenz_2.calcular(t_inicial = t_inicial, t_final = t_final)\n",
    "trajetoria_3, instantes_temporais = sis_lorenz_3.calcular(t_inicial = t_inicial, t_final = t_final)"
   ]
  },
  {
   "cell_type": "code",
   "execution_count": 18,
   "id": "amazing-simple",
   "metadata": {},
   "outputs": [],
   "source": [
    "x_1 = trajetoria_1[:, 0]\n",
    "y_1 = trajetoria_1[:, 1]\n",
    "z_1 = trajetoria_1[:, 2]\n",
    "\n",
    "x_2 = trajetoria_2[:, 0]\n",
    "y_2 = trajetoria_2[:, 1]\n",
    "z_2 = trajetoria_2[:, 2]\n",
    "\n",
    "x_3 = trajetoria_3[:, 0]\n",
    "y_3 = trajetoria_3[:, 1]\n",
    "z_3 = trajetoria_3[:, 2]"
   ]
  },
  {
   "cell_type": "code",
   "execution_count": 19,
   "id": "beautiful-genesis",
   "metadata": {},
   "outputs": [],
   "source": [
    "dados = np.array([[x_1, y_1, z_1], [x_2, y_2, z_2], [x_3, y_3, z_3]], dtype=object)"
   ]
  },
  {
   "cell_type": "code",
   "execution_count": 21,
   "id": "acoustic-andrews",
   "metadata": {},
   "outputs": [
    {
     "data": {
      "application/vnd.jupyter.widget-view+json": {
       "model_id": "2aa2830806e9491d805dc00bda32a5e6",
       "version_major": 2,
       "version_minor": 0
      },
      "text/plain": [
       "Canvas(toolbar=Toolbar(toolitems=[('Home', 'Reset original view', 'home', 'home'), ('Back', 'Back to previous …"
      ]
     },
     "metadata": {},
     "output_type": "display_data"
    }
   ],
   "source": [
    "fig, ax = plt.subplots()\n",
    "ax = plt.axes(projection='3d')\n",
    "\n",
    "plots = [ax.plot(dados[0, 0][0], dados[0, 1][0], dados[0, 2][0], alpha=1, linewidth=0.6, color='LightCoral', label='$x_{0}=1.01$, $y_{0}=1$, $z_{0}=1$')[0],\n",
    "         ax.plot(dados[1, 0][0], dados[1, 1][0], dados[1, 2][0], alpha=1, linewidth=0.6, color='DeepSkyBlue', label='$x_{0}=1$, $y_{0}=1.01$, $z_{0}=1$')[0],\n",
    "         ax.plot(dados[2, 0][0], dados[2, 1][0], dados[2, 2][0], alpha=1, linewidth=0.6, color='PaleGreen', label='$x_{0}=1$, $y_{0}=1$, $z_{0}=1.01$')[0]]\n",
    "\n",
    "ax.set_title(\"Comparação de três trajetórias no diagrama de fase\\n do Atrator de Lorenz com pontos de partida próximos\")\n",
    "ax.set_xlabel(\"x\")\n",
    "ax.set_ylabel(\"y\")\n",
    "ax.set_zlabel(\"z\")\n",
    "\n",
    "ax.w_xaxis.set_pane_color((0, 0, 0, 0))\n",
    "ax.w_yaxis.set_pane_color((0, 0, 0, 0))\n",
    "ax.w_zaxis.set_pane_color((0, 0, 0, 0))\n",
    "\n",
    "ax.set_xlim(-20,20)\n",
    "ax.set_ylim(-30,30)\n",
    "ax.set_zlim(-0,50)\n",
    "\n",
    "plt.rcParams['animation.html'] = 'html5'\n",
    "\n",
    "ax.grid(False)\n",
    "ax.legend(frameon=False);\n",
    "sns.despine()\n",
    "\n",
    "lorenz_3_trajetorias = FuncAnimation(fig, update_lines, frames=int(0.25*t_final/dt), fargs=(dados, plots),\n",
    "                                   interval=1, blit=True, repeat=False)\n",
    "\n",
    "#lorenz_3_trajetorias.save('../../visualization/chaos/lorenz-3-trajectories.mp4', writer='ffmpeg')"
   ]
  },
  {
   "cell_type": "code",
   "execution_count": null,
   "id": "willing-medicine",
   "metadata": {},
   "outputs": [],
   "source": []
  }
 ],
 "metadata": {
  "kernelspec": {
   "display_name": "pibic2020-env",
   "language": "python",
   "name": "pibic2020-env"
  },
  "language_info": {
   "codemirror_mode": {
    "name": "ipython",
    "version": 3
   },
   "file_extension": ".py",
   "mimetype": "text/x-python",
   "name": "python",
   "nbconvert_exporter": "python",
   "pygments_lexer": "ipython3",
   "version": "3.8.5"
  }
 },
 "nbformat": 4,
 "nbformat_minor": 5
}
