{
 "cells": [
  {
   "cell_type": "markdown",
   "id": "single-basic",
   "metadata": {},
   "source": [
    "# Testes da rotina da classe do Mapa de Hénon"
   ]
  },
  {
   "cell_type": "markdown",
   "id": "prerequisite-eugene",
   "metadata": {},
   "source": [
    "## 1. Importando as bibliotecas necessárias"
   ]
  },
  {
   "cell_type": "markdown",
   "id": "designed-excerpt",
   "metadata": {},
   "source": [
    "### Bibliotecas obrigatórias"
   ]
  },
  {
   "cell_type": "code",
   "execution_count": 1,
   "id": "brown-welding",
   "metadata": {},
   "outputs": [],
   "source": [
    "import numpy as np\n",
    "\n",
    "%matplotlib widget\n",
    "import matplotlib.pyplot as plt\n",
    "\n",
    "import seaborn as sns # a biblioteca 'seaborn' contém vários estilos para os gráficos do 'matpĺotlib'\n",
    "\n",
    "# agora, melhoramos a qualidade de saida e de visualizacao da imagem \n",
    "# alem de mudar a fonte padrao para uma do latex\n",
    "sns.set_style(\"ticks\")\n",
    "plt.rcParams['savefig.dpi'] = 200\n",
    "plt.rcParams[\"figure.dpi\"] = 100\n",
    "\n",
    "plt.rcParams.update({\n",
    "    \"text.usetex\": True,\n",
    "    \"font.family\": \"serif\",\n",
    "    \"font.serif\": [\"Palatino\"],\n",
    "})"
   ]
  },
  {
   "cell_type": "markdown",
   "id": "boring-prediction",
   "metadata": {},
   "source": [
    "### Bibliotecas não-obrigatórias"
   ]
  },
  {
   "cell_type": "code",
   "execution_count": 2,
   "id": "lovely-charge",
   "metadata": {},
   "outputs": [],
   "source": [
    "import sys \n",
    "sys.path.insert(0, '../../scripts')\n",
    "import henonmap as hm"
   ]
  },
  {
   "cell_type": "markdown",
   "id": "german-antibody",
   "metadata": {},
   "source": [
    "## 2. Definindo a função (debug)"
   ]
  },
  {
   "cell_type": "markdown",
   "id": "soviet-authority",
   "metadata": {},
   "source": [
    "Não é necessário executar essa linha se você estiver importando o arquivo com a classe."
   ]
  },
  {
   "cell_type": "code",
   "execution_count": 2,
   "id": "experienced-guyana",
   "metadata": {},
   "outputs": [],
   "source": [
    "class MapaHenon:\n",
    "\n",
    "    def __init__(self, a, b, x_inicial, y_inicial):\n",
    "        \"\"\"\n",
    "        Descrição:\n",
    "        ----------\n",
    "        Construtor da classe 'MapaHenon'\n",
    "\n",
    "        Parâmetros:\n",
    "        -----------\n",
    "        a: float\n",
    "            Parâmetro do Mapa de Hénon\n",
    "        b: float\n",
    "            Parâmetro do Mapa de Hénon    \n",
    "        \"\"\"\n",
    "\n",
    "        if not ((type(a) is float) & (type(b) is float)):\n",
    "            raise TypeError(\"Os parâmetros devem ser floats!\")        \n",
    "\n",
    "        self._a = a\n",
    "        self._b = b\n",
    "        self._x_atual = x_inicial\n",
    "        self._y_atual = y_inicial\n",
    "\n",
    "    def iterar(self):\n",
    "        \"\"\"\n",
    "        Descrição:\n",
    "        ----------\n",
    "        Aplicar as equações de diferenças do Mapa e Hénon para os pontos e parâmetrs atuais\n",
    "\n",
    "        Parâmetros:\n",
    "        -----------\n",
    "        Nenhum\n",
    "        \"\"\"\n",
    "\n",
    "        x_atual = self._x_atual\n",
    "        y_atual = self._x_atual\n",
    "        a = self._a\n",
    "        b = self._b\n",
    "\n",
    "        prox_x = 1 - a*(x_atual**2) + y_atual\n",
    "        prox_y = b*x_atual\n",
    "\n",
    "        self._x_atual = prox_x\n",
    "        self._y_atual = prox_y\n",
    "\n",
    "    def posicao(self):\n",
    "        \"\"\"\n",
    "        Descrição:\n",
    "        ----------\n",
    "        Retorna a posição x,y atual do mapa\n",
    "\n",
    "        Parâmetros:\n",
    "        -----------\n",
    "        Nenhum\n",
    "        \"\"\"\n",
    "\n",
    "        posicao = np.array([self._x_atual, self._y_atual])\n",
    "        return posicao"
   ]
  },
  {
   "cell_type": "markdown",
   "id": "failing-march",
   "metadata": {},
   "source": [
    "## 3. Testando"
   ]
  },
  {
   "cell_type": "code",
   "execution_count": 16,
   "id": "pregnant-standard",
   "metadata": {},
   "outputs": [],
   "source": [
    "mapa = MapaHenon(a=1.4, b=0.7, x_inicial=0.7, y_inicial=0.3)"
   ]
  },
  {
   "cell_type": "code",
   "execution_count": 17,
   "id": "bottom-advancement",
   "metadata": {
    "tags": []
   },
   "outputs": [],
   "source": [
    "dados = np.array([0.7, 0.3])\n",
    "\n",
    "for n in range(0,30000):\n",
    "    mapa.iterar()\n",
    "    dados = np.vstack((dados, mapa.posicao()))"
   ]
  },
  {
   "cell_type": "code",
   "execution_count": 18,
   "id": "detected-tuner",
   "metadata": {},
   "outputs": [],
   "source": [
    "x = dados[:,0]\n",
    "y = dados[:,1]"
   ]
  },
  {
   "cell_type": "code",
   "execution_count": 19,
   "id": "closed-disability",
   "metadata": {},
   "outputs": [
    {
     "data": {
      "application/vnd.jupyter.widget-view+json": {
       "model_id": "692c6985b3cb4534866aaeeda1cc41df",
       "version_major": 2,
       "version_minor": 0
      },
      "text/plain": [
       "Canvas(toolbar=Toolbar(toolitems=[('Home', 'Reset original view', 'home', 'home'), ('Back', 'Back to previous …"
      ]
     },
     "metadata": {},
     "output_type": "display_data"
    }
   ],
   "source": [
    "fig, ax = plt.subplots()\n",
    "ax.scatter(x, y, color='Blue', s = 0.5)\n",
    "\n",
    "ax.set_title(\"$30000$ iterações do Mapa de Hénon para $a = 1.4$ e $b = 0.7$ com $x_{0} = 0.7$ e $y_{0} = 0.3$\")\n",
    "ax.set_ylabel('y')\n",
    "ax.set_xlabel('x')\n",
    "    \n",
    "ax.grid(True)\n",
    "sns.despine()\n",
    "plt.show()"
   ]
  },
  {
   "cell_type": "code",
   "execution_count": null,
   "id": "electrical-bridges",
   "metadata": {},
   "outputs": [],
   "source": []
  }
 ],
 "metadata": {
  "kernelspec": {
   "display_name": "pibic2020-env",
   "language": "python",
   "name": "pibic2020-env"
  },
  "language_info": {
   "codemirror_mode": {
    "name": "ipython",
    "version": 3
   },
   "file_extension": ".py",
   "mimetype": "text/x-python",
   "name": "python",
   "nbconvert_exporter": "python",
   "pygments_lexer": "ipython3",
   "version": "3.8.5"
  }
 },
 "nbformat": 4,
 "nbformat_minor": 5
}
