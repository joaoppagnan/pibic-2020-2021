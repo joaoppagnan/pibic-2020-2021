{
 "cells": [
  {
   "cell_type": "markdown",
   "id": "manufactured-start",
   "metadata": {},
   "source": [
    "# Testes da rotina da classe do Mapa de Hénon"
   ]
  },
  {
   "cell_type": "markdown",
   "id": "material-prairie",
   "metadata": {},
   "source": [
    "## 1. Importando as bibliotecas necessárias"
   ]
  },
  {
   "cell_type": "markdown",
   "id": "therapeutic-tulsa",
   "metadata": {},
   "source": [
    "### Bibliotecas obrigatórias"
   ]
  },
  {
   "cell_type": "code",
   "execution_count": 1,
   "id": "controversial-capture",
   "metadata": {},
   "outputs": [],
   "source": [
    "import numpy as np\n",
    "\n",
    "%matplotlib widget\n",
    "import matplotlib.pyplot as plt\n",
    "\n",
    "import seaborn as sns # a biblioteca 'seaborn' contém vários estilos para os gráficos do 'matpĺotlib'\n",
    "\n",
    "# agora, melhoramos a qualidade de saida e de visualizacao da imagem \n",
    "# alem de mudar a fonte padrao para uma do latex\n",
    "sns.set_style(\"ticks\")\n",
    "plt.rcParams['savefig.dpi'] = 200\n",
    "plt.rcParams[\"figure.dpi\"] = 100\n",
    "\n",
    "plt.rcParams.update({\n",
    "    \"text.usetex\": True,\n",
    "    \"font.family\": \"serif\",\n",
    "    \"font.serif\": [\"Palatino\"],\n",
    "})"
   ]
  },
  {
   "cell_type": "markdown",
   "id": "identical-tourist",
   "metadata": {},
   "source": [
    "### Bibliotecas não-obrigatórias"
   ]
  },
  {
   "cell_type": "code",
   "execution_count": 2,
   "id": "absolute-things",
   "metadata": {},
   "outputs": [],
   "source": [
    "import sys \n",
    "sys.path.insert(0, '../../scripts')\n",
    "import henonmap as hm"
   ]
  },
  {
   "cell_type": "markdown",
   "id": "sudden-premises",
   "metadata": {},
   "source": [
    "## 2. Definindo a função (debug)"
   ]
  },
  {
   "cell_type": "markdown",
   "id": "elementary-ballet",
   "metadata": {},
   "source": [
    "Não é necessário executar essa linha se você estiver importando o arquivo com a classe."
   ]
  },
  {
   "cell_type": "code",
   "execution_count": 30,
   "id": "entitled-trash",
   "metadata": {},
   "outputs": [],
   "source": [
    "class MapaHenon:\n",
    "\n",
    "    def __init__(self, a, b, posicao_inicial):\n",
    "        \"\"\"\n",
    "        Descrição:\n",
    "        ----------\n",
    "        Construtor da classe 'MapaHenon'\n",
    "\n",
    "        Parâmetros:\n",
    "        -----------\n",
    "        a: float\n",
    "            Parâmetro do Mapa de Hénon\n",
    "        b: float\n",
    "            Parâmetro do Mapa de Hénon\n",
    "        posicao_inicial: np.ndarray\n",
    "            Parâmetro das posições xy iniciais do mapa e do instante n inicial (deve ser 0)\n",
    "        \"\"\"\n",
    "\n",
    "        if not ((type(a) is float) & (type(b) is float)):\n",
    "            raise TypeError(\"Os parâmetros devem ser floats!\")\n",
    "            \n",
    "        if not (type(posicao_inicial) is np.ndarray):\n",
    "            raise TypeError(\"O vetor posição inicial deve ser um array do numpy!\")\n",
    "            \n",
    "        if not (posicao_inicial[2] == 0):\n",
    "            raise ValueError(\"O instante inicial deve ser igual a 0!\")\n",
    "\n",
    "        self.__a = a\n",
    "        self.__b = b\n",
    "        self._x_atual = posicao_inicial[0]\n",
    "        self._y_atual = posicao_inicial[1]\n",
    "        self._n_atual = posicao_inicial[2]\n",
    "        pass\n",
    "\n",
    "    def iterar(self):\n",
    "        \"\"\"\n",
    "        Descrição:\n",
    "        ----------\n",
    "        Aplicar as equações de diferenças do Mapa e Hénon para os pontos e parâmetrs atuais\n",
    "\n",
    "        Parâmetros:\n",
    "        -----------\n",
    "        Nenhum\n",
    "        \"\"\"\n",
    "\n",
    "        a = self.__a\n",
    "        b = self.__b\n",
    "        x = self._x_atual\n",
    "        y = self._y_atual\n",
    "        n = self._n_atual\n",
    "\n",
    "        prox_x = 1 - a*(x**2) + y\n",
    "        prox_y = b*x\n",
    "        self._x_atual = prox_x\n",
    "        self._y_atual = prox_y\n",
    "        self._n_atual = n + 1\n",
    "        pass\n",
    "\n",
    "    def posicao(self):\n",
    "        \"\"\"\n",
    "        Descrição:\n",
    "        ----------\n",
    "        Retorna a posição x,y atual do mapa\n",
    "\n",
    "        Parâmetros:\n",
    "        -----------\n",
    "        Nenhum\n",
    "        \"\"\"\n",
    "\n",
    "        x = self._x_atual\n",
    "        y = self._y_atual\n",
    "        n = self._n_atual\n",
    "\n",
    "        posicao = np.array([x, y, n])\n",
    "        return posicao"
   ]
  },
  {
   "cell_type": "markdown",
   "id": "built-terrace",
   "metadata": {},
   "source": [
    "## 3. Testando"
   ]
  },
  {
   "cell_type": "code",
   "execution_count": 3,
   "id": "great-event",
   "metadata": {},
   "outputs": [],
   "source": [
    "a = 1.4\n",
    "b = 0.3\n",
    "n = 0\n",
    "posicao = np.array([1.0, 0.0, 0])\n",
    "\n",
    "mapa = hm.MapaHenon(a=a, b=b, posicao_inicial=posicao)"
   ]
  },
  {
   "cell_type": "code",
   "execution_count": 4,
   "id": "western-macintosh",
   "metadata": {
    "tags": []
   },
   "outputs": [],
   "source": [
    "n_iteracoes = 100000\n",
    "\n",
    "for n in range(0, n_iteracoes):\n",
    "    mapa.iterar()\n",
    "    posicao = np.vstack((posicao, mapa.posicao()))"
   ]
  },
  {
   "cell_type": "code",
   "execution_count": 5,
   "id": "addressed-thanksgiving",
   "metadata": {},
   "outputs": [],
   "source": [
    "x = posicao[:, 0]\n",
    "y = posicao[:, 1]\n",
    "n = posicao[:, 2]"
   ]
  },
  {
   "cell_type": "markdown",
   "id": "honest-sellers",
   "metadata": {},
   "source": [
    "### 3.a Mapa "
   ]
  },
  {
   "cell_type": "code",
   "execution_count": 6,
   "id": "nervous-kenya",
   "metadata": {},
   "outputs": [
    {
     "data": {
      "application/vnd.jupyter.widget-view+json": {
       "model_id": "f45aaee281514279ae184d599830c844",
       "version_major": 2,
       "version_minor": 0
      },
      "text/plain": [
       "Canvas(toolbar=Toolbar(toolitems=[('Home', 'Reset original view', 'home', 'home'), ('Back', 'Back to previous …"
      ]
     },
     "metadata": {},
     "output_type": "display_data"
    }
   ],
   "source": [
    "fig, ax = plt.subplots()\n",
    "ax.scatter(x, y, color='Black', s = 0.5, marker=\"o\")\n",
    "\n",
    "ax.set_title(str(n_iteracoes) + \" iterações do Mapa de Hénon para $a =$\" + str(a) + \" e $b =$ \" + str(b) + \"\\n com $x_{0} =$ \" + str(x[0]) + \" e $y_{0} =$ \" + str(y[0]))\n",
    "ax.set_ylabel('y')\n",
    "ax.set_xlabel('x')\n",
    "    \n",
    "ax.grid(False)\n",
    "sns.despine()\n",
    "plt.show()"
   ]
  },
  {
   "cell_type": "markdown",
   "id": "declared-claim",
   "metadata": {},
   "source": [
    "### 3.b Série Temporal"
   ]
  },
  {
   "cell_type": "code",
   "execution_count": 7,
   "id": "applied-printing",
   "metadata": {},
   "outputs": [
    {
     "data": {
      "application/vnd.jupyter.widget-view+json": {
       "model_id": "f9e9421a2bab478e976d99352c6f3a32",
       "version_major": 2,
       "version_minor": 0
      },
      "text/plain": [
       "Canvas(toolbar=Toolbar(toolitems=[('Home', 'Reset original view', 'home', 'home'), ('Back', 'Back to previous …"
      ]
     },
     "metadata": {},
     "output_type": "display_data"
    }
   ],
   "source": [
    "fig, ax = plt.subplots(2)\n",
    "ax[0].plot(n[:100], x[:100], color='Blue')\n",
    "\n",
    "ax[0].set_title(\"100 primeiras iterações das séries temporais do Mapa de Hénon para\\n $a =$\" + str(a) + \" e $b =$ \" + str(b) + \" com $x_{0} =$ \" + str(x[0]) + \" e $y_{0} =$ \" + str(y[0]))\n",
    "ax[0].set_ylabel('x[n]')\n",
    "ax[0].set_xlabel('n')\n",
    "ax[0].set_xlim(0, 100)\n",
    "    \n",
    "ax[0].grid(True)\n",
    "\n",
    "ax[1].plot(n[:100], y[:100], color='Red')\n",
    "ax[1].set_ylabel('y[n]')\n",
    "ax[1].set_xlabel('n')\n",
    "ax[1].set_xlim(0, 100)\n",
    "ax[1].grid(True)\n",
    "\n",
    "fig.tight_layout()\n",
    "sns.despine()\n",
    "plt.show()"
   ]
  },
  {
   "cell_type": "code",
   "execution_count": null,
   "id": "extreme-calendar",
   "metadata": {},
   "outputs": [],
   "source": []
  }
 ],
 "metadata": {
  "kernelspec": {
   "display_name": "pibic2020-env",
   "language": "python",
   "name": "pibic2020-env"
  },
  "language_info": {
   "codemirror_mode": {
    "name": "ipython",
    "version": 3
   },
   "file_extension": ".py",
   "mimetype": "text/x-python",
   "name": "python",
   "nbconvert_exporter": "python",
   "pygments_lexer": "ipython3",
   "version": "3.8.5"
  }
 },
 "nbformat": 4,
 "nbformat_minor": 5
}
