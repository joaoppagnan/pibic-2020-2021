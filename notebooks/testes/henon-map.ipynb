{
 "cells": [
  {
   "cell_type": "markdown",
   "id": "baking-surge",
   "metadata": {},
   "source": [
    "# Testes da rotina da classe do Mapa de Hénon"
   ]
  },
  {
   "cell_type": "markdown",
   "id": "exposed-satellite",
   "metadata": {},
   "source": [
    "## 1. Importando as bibliotecas necessárias"
   ]
  },
  {
   "cell_type": "markdown",
   "id": "handy-plastic",
   "metadata": {},
   "source": [
    "### Bibliotecas obrigatórias"
   ]
  },
  {
   "cell_type": "code",
   "execution_count": 1,
   "id": "attempted-mixer",
   "metadata": {},
   "outputs": [],
   "source": [
    "import numpy as np\n",
    "\n",
    "%matplotlib widget\n",
    "import matplotlib.pyplot as plt\n",
    "\n",
    "import seaborn as sns # a biblioteca 'seaborn' contém vários estilos para os gráficos do 'matpĺotlib'\n",
    "\n",
    "# agora, melhoramos a qualidade de saida e de visualizacao da imagem \n",
    "# alem de mudar a fonte padrao para uma do latex\n",
    "sns.set_style(\"ticks\")\n",
    "plt.rcParams['savefig.dpi'] = 200\n",
    "plt.rcParams[\"figure.dpi\"] = 100\n",
    "\n",
    "plt.rcParams.update({\n",
    "    \"text.usetex\": True,\n",
    "    \"font.family\": \"serif\",\n",
    "    \"font.serif\": [\"Palatino\"],\n",
    "})"
   ]
  },
  {
   "cell_type": "markdown",
   "id": "rolled-karen",
   "metadata": {},
   "source": [
    "### Bibliotecas não-obrigatórias"
   ]
  },
  {
   "cell_type": "code",
   "execution_count": 2,
   "id": "pending-fever",
   "metadata": {},
   "outputs": [],
   "source": [
    "import sys \n",
    "sys.path.insert(0, '../../scripts')\n",
    "import henonmap as hm"
   ]
  },
  {
   "cell_type": "markdown",
   "id": "tender-natural",
   "metadata": {},
   "source": [
    "## 2. Definindo a função (debug)"
   ]
  },
  {
   "cell_type": "markdown",
   "id": "proprietary-glory",
   "metadata": {},
   "source": [
    "Não é necessário executar essa linha se você estiver importando o arquivo com a classe."
   ]
  },
  {
   "cell_type": "code",
   "execution_count": 91,
   "id": "representative-alignment",
   "metadata": {},
   "outputs": [],
   "source": [
    "class MapaHenon:\n",
    "\n",
    "    def __init__(self, a, b, posicao_inicial):\n",
    "        \"\"\"\n",
    "        Descrição:\n",
    "        ----------\n",
    "        Construtor da classe 'MapaHenon'\n",
    "\n",
    "        Parâmetros:\n",
    "        -----------\n",
    "        a: float\n",
    "            Parâmetro do Mapa de Hénon\n",
    "        b: float\n",
    "            Parâmetro do Mapa de Hénon\n",
    "        posicao_inicial: np.ndarray\n",
    "            Parâmetro das posições xy iniciais do mapa\n",
    "        \"\"\"\n",
    "\n",
    "        if not ((type(a) is float) & (type(b) is float)):\n",
    "            raise TypeError(\"Os parâmetros devem ser floats!\")\n",
    "            \n",
    "        if not (type(posicao_inicial) is np.ndarray):\n",
    "            raise TypeError(\"O vetor posição inicial deve ser um array do numpy!\")\n",
    "\n",
    "        self.__a = a\n",
    "        self.__b = b\n",
    "        self._x_atual = posicao_inicial[0]\n",
    "        self._y_atual = posicao_inicial[1]\n",
    "        pass\n",
    "\n",
    "    def iterar(self):\n",
    "        \"\"\"\n",
    "        Descrição:\n",
    "        ----------\n",
    "        Aplicar as equações de diferenças do Mapa e Hénon para os pontos e parâmetrs atuais\n",
    "\n",
    "        Parâmetros:\n",
    "        -----------\n",
    "        Nenhum\n",
    "        \"\"\"\n",
    "\n",
    "        a = self.__a\n",
    "        b = self.__b\n",
    "        x = self._x_atual\n",
    "        y = self._y_atual\n",
    "\n",
    "        prox_x = 1 - a*(x**2) + y\n",
    "        prox_y = b*x\n",
    "        self._x_atual = prox_x\n",
    "        self._y_atual = prox_y\n",
    "        pass\n",
    "\n",
    "    def posicao(self):\n",
    "        \"\"\"\n",
    "        Descrição:\n",
    "        ----------\n",
    "        Retorna a posição x,y atual do mapa\n",
    "\n",
    "        Parâmetros:\n",
    "        -----------\n",
    "        Nenhum\n",
    "        \"\"\"\n",
    "\n",
    "        x = self._x_atual\n",
    "        y = self._y_atual\n",
    "\n",
    "        posicao = np.array([x, y])\n",
    "        return posicao"
   ]
  },
  {
   "cell_type": "markdown",
   "id": "soviet-terrorism",
   "metadata": {},
   "source": [
    "## 3. Testando"
   ]
  },
  {
   "cell_type": "code",
   "execution_count": 3,
   "id": "difficult-terrain",
   "metadata": {},
   "outputs": [],
   "source": [
    "a = 1.4\n",
    "b = 0.3\n",
    "posicao = np.array([1.0, 0.0])\n",
    "\n",
    "mapa = hm.MapaHenon(a=a, b=b, posicao_inicial=posicao)"
   ]
  },
  {
   "cell_type": "code",
   "execution_count": 4,
   "id": "engaging-poker",
   "metadata": {
    "tags": []
   },
   "outputs": [],
   "source": [
    "n_iteracoes = 100000\n",
    "\n",
    "for n in range(0, n_iteracoes):\n",
    "    mapa.iterar()\n",
    "    posicao = np.vstack((posicao, mapa.posicao()))"
   ]
  },
  {
   "cell_type": "code",
   "execution_count": 5,
   "id": "broken-speaker",
   "metadata": {},
   "outputs": [],
   "source": [
    "x = posicao[:, 0]\n",
    "y = posicao[:, 1]"
   ]
  },
  {
   "cell_type": "code",
   "execution_count": 8,
   "id": "confused-pierce",
   "metadata": {},
   "outputs": [
    {
     "data": {
      "application/vnd.jupyter.widget-view+json": {
       "model_id": "a8c1056e18e94731baf566fb2937df40",
       "version_major": 2,
       "version_minor": 0
      },
      "text/plain": [
       "Canvas(toolbar=Toolbar(toolitems=[('Home', 'Reset original view', 'home', 'home'), ('Back', 'Back to previous …"
      ]
     },
     "metadata": {},
     "output_type": "display_data"
    }
   ],
   "source": [
    "fig, ax = plt.subplots()\n",
    "ax.scatter(x, y, color='Black', s = 0.5, marker=\"o\")\n",
    "\n",
    "ax.set_title(str(n_iteracoes) + \" iterações do Mapa de Hénon para $a =$\" + str(a) + \" e $b =$ \" + str(b) + \"\\n com $x_{0} =$ \" + str(x[0]) + \" e $y_{0} =$ \" + str(y[0]))\n",
    "ax.set_ylabel('y')\n",
    "ax.set_xlabel('x')\n",
    "    \n",
    "ax.grid(False)\n",
    "sns.despine()\n",
    "plt.show()"
   ]
  },
  {
   "cell_type": "code",
   "execution_count": null,
   "id": "stuffed-journey",
   "metadata": {},
   "outputs": [],
   "source": []
  }
 ],
 "metadata": {
  "kernelspec": {
   "display_name": "pibic2020-env",
   "language": "python",
   "name": "pibic2020-env"
  },
  "language_info": {
   "codemirror_mode": {
    "name": "ipython",
    "version": 3
   },
   "file_extension": ".py",
   "mimetype": "text/x-python",
   "name": "python",
   "nbconvert_exporter": "python",
   "pygments_lexer": "ipython3",
   "version": "3.8.5"
  }
 },
 "nbformat": 4,
 "nbformat_minor": 5
}
