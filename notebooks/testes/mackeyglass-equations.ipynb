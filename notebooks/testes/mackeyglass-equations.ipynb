{
 "cells": [
  {
   "cell_type": "markdown",
   "id": "oriented-formation",
   "metadata": {},
   "source": [
    "# Testes da rotina da classe das Equações de Mackey-Glass"
   ]
  },
  {
   "cell_type": "markdown",
   "id": "voluntary-cowboy",
   "metadata": {},
   "source": [
    "## 1. Importando as bibliotecas necessárias"
   ]
  },
  {
   "cell_type": "markdown",
   "id": "latter-devon",
   "metadata": {},
   "source": [
    "### Bibliotecas obrigatórias"
   ]
  },
  {
   "cell_type": "code",
   "execution_count": 1,
   "id": "later-worse",
   "metadata": {},
   "outputs": [],
   "source": [
    "import numpy as np\n",
    "from scipy.integrate import odeint\n",
    "\n",
    "%matplotlib widget\n",
    "import matplotlib.pyplot as plt\n",
    "\n",
    "import seaborn as sns # a biblioteca 'seaborn' contém vários estilos para os gráficos do 'matpĺotlib'\n",
    "\n",
    "# agora, melhoramos a qualidade de saida e de visualizacao da imagem \n",
    "# alem de mudar a fonte padrao para uma do latex\n",
    "sns.set_style(\"ticks\")\n",
    "plt.rcParams['savefig.dpi'] = 200\n",
    "plt.rcParams[\"figure.dpi\"] = 100\n",
    "\n",
    "plt.rcParams.update({\n",
    "    \"text.usetex\": True,\n",
    "    \"font.family\": \"serif\",\n",
    "    \"font.serif\": [\"Palatino\"],\n",
    "})\n",
    "\n",
    "plt.style.use('dark_background')"
   ]
  },
  {
   "cell_type": "markdown",
   "id": "offensive-paragraph",
   "metadata": {},
   "source": [
    "### Bibliotecas não-obrigatórias"
   ]
  },
  {
   "cell_type": "code",
   "execution_count": 2,
   "id": "stylish-devices",
   "metadata": {},
   "outputs": [],
   "source": [
    "import sys \n",
    "sys.path.insert(0, '../../scripts')\n",
    "import mackeyglassequations as mgeq"
   ]
  },
  {
   "cell_type": "markdown",
   "id": "sweet-filling",
   "metadata": {},
   "source": [
    "## 2. Definindo a função (debug)"
   ]
  },
  {
   "cell_type": "markdown",
   "id": "endangered-society",
   "metadata": {},
   "source": [
    "Não é necessário executar essa linha se você estiver importando o arquivo com a classe."
   ]
  },
  {
   "cell_type": "code",
   "execution_count": 1,
   "id": "nonprofit-deficit",
   "metadata": {},
   "outputs": [],
   "source": [
    "class MackeyGlass:\n",
    "    \n",
    "    def __init__(self, estado_inicial, gamma=0.1, beta=0.2, theta=1, tau=30, n=30, dt=0.0001):\n",
    "        \"\"\"\n",
    "        Descrição:\n",
    "        ----------\n",
    "        Construtor da classe 'SistemaLorenz'\n",
    "\n",
    "        Parâmetros:\n",
    "        -----------\n",
    "        estado_inicial: np.ndarray\n",
    "            Vetor das posições (P_atual, P_delay) iniciais do sistema \n",
    "        gamma: int ou float\n",
    "            Parâmetro das Equações de Mackey-Glass\n",
    "        beta: int ou float\n",
    "            Parâmetro das Equações de Mackey-Glass\n",
    "        theta: int ou float\n",
    "            Parâmetro das Equações de Mackey-Glass\n",
    "        tau: int\n",
    "            Parâmetro das Equações de Mackey-Glass\n",
    "        n: int\n",
    "            Parâmetro das Equações de Mackey-Glass\n",
    "        dt: float\n",
    "            Tamanho do diferencial de tempo que iremos utilizar nos cálculos, ou seja, a resolução temporal de nossa solução\n",
    "            \n",
    "        Retorna:\n",
    "        --------\n",
    "        Nada\n",
    "        \"\"\"\n",
    "        \n",
    "        if not (type(estado_inicial) is np.ndarray):\n",
    "            raise TypeError(\"O vetor estado inicial deve ser um array do numpy!\") \n",
    "        \n",
    "        if not (((type(gamma) is int) | (type(gamma) is float)) & (gamma > 0)):\n",
    "            raise TypeError(\"Gamma deve ser um int ou float positivo!\")\n",
    "\n",
    "        if not (((type(beta) is int) | (type(beta) is float)) & (beta > 0)):\n",
    "            raise TypeError(\"Beta deve ser um int ou float positivo!\")\n",
    "\n",
    "        if not (((type(theta) is int) | (type(theta) is float)) & (theta > 0)):\n",
    "            raise TypeError(\"Theta deve ser um int ou float positivo!\")\n",
    "                \n",
    "        if not (((type(tau) is int) | (type(tau) is float)) & (tau > 0)):\n",
    "            raise TypeError(\"Tau deve ser um int ou float positivo!\")\n",
    "                \n",
    "        if not ((type(n) is int) & (n > 0)):\n",
    "            raise TypeError(\"n deve ser um int positivo!\")\n",
    "            \n",
    "        if not ((type(dt) is float) & (dt > 0)):\n",
    "            raise TypeError(\"dt deve ser um float positivo!\")\n",
    "        \n",
    "        self._estado_inicial = estado_inicial\n",
    "        self._gamma = gamma\n",
    "        self._beta = beta\n",
    "        self._theta = theta\n",
    "        self._tau = tau\n",
    "        self._n = n\n",
    "        self._dt = dt\n",
    "        pass\n",
    "    \n",
    "    def _equacoes(self, estado_atual, t):\n",
    "        \"\"\"\n",
    "        Descrição:\n",
    "        ----------\n",
    "        Função interna que retorna as equações de Mackey-Glass calculadas no instante t atual\n",
    "        \n",
    "        Parâmetros:\n",
    "        -----------\n",
    "        estado_atual: np.ndarray\n",
    "            Vetor das posições (p_atual, p_delay) atuais do sistema    \n",
    "        t: float\n",
    "            Instante t no qual estamos calculando as derivadas\n",
    "            \n",
    "        Retorna:\n",
    "        --------\n",
    "        As equações de Mackey-Glass para os parâmetros estimados na forma de um array\n",
    "        \"\"\"\n",
    "        \n",
    "        if not (type(estado_atual) is np.ndarray):\n",
    "            raise TypeError(\"O vetor estado atual deve ser um array do numpy!\")        \n",
    "        \n",
    "        if not (type(t) is float):\n",
    "            raise TypeError(\"t deve ser um float!\")\n",
    "        \n",
    "        gamma = self._gamma\n",
    "        beta = self._beta\n",
    "        theta = self._theta\n",
    "        tau = self._tau\n",
    "        n = self._n\n",
    "        p_atual, p_delay = estado_atual\n",
    "        \n",
    "        dp_dt = (beta*((theta)**n))/(((theta)**n) + (p_delay**n)) - gamma*p_atual\n",
    "        dq_dt = (beta*((theta)**n)*p_delay)/(((theta)**n) + (p_delay**n)) - gamma*p_atual\n",
    "        return [dp_dt, dq_dt]\n",
    "    \n",
    "    def calcular(self, t_inicial, t_final):\n",
    "        \"\"\"\n",
    "        Descrição:\n",
    "        ----------\n",
    "        Evolui as equações de Mackey-Glass com base nas condições iniciais configuradas, para um t indo de t_inicial até t_final, com n_instantes calculados\n",
    "        \n",
    "        Parâmetros:\n",
    "        -----------\n",
    "        t_inicial: int\n",
    "            Dia em que iniciamos os cálculos\n",
    "        t_final: int\n",
    "            Dia em que terminamos os cálculos\n",
    "            \n",
    "        Retorna:\n",
    "        --------\n",
    "        Um vetor com as soluções estimadas e um vetor com os instantes temporais utilizados\n",
    "        \"\"\"\n",
    "        \n",
    "        if not ((type(t_inicial) is int) & (t_inicial >= 0)):\n",
    "            raise TypeError(\"t_inicial deve ser um int não nulo!\")\n",
    "            \n",
    "        if not ((type(t_final) is int) & (t_final > 0)):\n",
    "            raise TypeError(\"t_final deve ser um int positivo!\")\n",
    "        \n",
    "        estado_inicial = self._estado_inicial\n",
    "        dt = self._dt\n",
    "        \n",
    "        n_instantes = int((t_final - t_inicial)/dt)        \n",
    "        instantes_temporais = np.linspace(t_inicial, t_final, n_instantes)\n",
    "        \n",
    "        solucoes = odeint(self._equacoes, t=instantes_temporais, y0=estado_inicial)\n",
    "        return solucoes, instantes_temporais"
   ]
  },
  {
   "cell_type": "markdown",
   "id": "joined-wyoming",
   "metadata": {},
   "source": [
    "## 3. Testando a classe"
   ]
  },
  {
   "cell_type": "code",
   "execution_count": 2,
   "id": "silver-mountain",
   "metadata": {},
   "outputs": [],
   "source": [
    "t_inicial = 0\n",
    "t_final = 800\n",
    "dt = 0.001"
   ]
  },
  {
   "cell_type": "code",
   "execution_count": 3,
   "id": "unusual-glasgow",
   "metadata": {},
   "outputs": [
    {
     "ename": "NameError",
     "evalue": "name 'np' is not defined",
     "output_type": "error",
     "traceback": [
      "\u001b[0;31m---------------------------------------------------------------------------\u001b[0m",
      "\u001b[0;31mNameError\u001b[0m                                 Traceback (most recent call last)",
      "\u001b[0;32m<ipython-input-3-bd17fd2269e2>\u001b[0m in \u001b[0;36m<module>\u001b[0;34m\u001b[0m\n\u001b[0;32m----> 1\u001b[0;31m \u001b[0mestado_inicial\u001b[0m \u001b[0;34m=\u001b[0m \u001b[0mnp\u001b[0m\u001b[0;34m.\u001b[0m\u001b[0marray\u001b[0m\u001b[0;34m(\u001b[0m\u001b[0;34m[\u001b[0m\u001b[0;36m0.8\u001b[0m\u001b[0;34m,\u001b[0m \u001b[0;36m0.6\u001b[0m\u001b[0;34m]\u001b[0m\u001b[0;34m)\u001b[0m\u001b[0;34m\u001b[0m\u001b[0;34m\u001b[0m\u001b[0m\n\u001b[0m",
      "\u001b[0;31mNameError\u001b[0m: name 'np' is not defined"
     ]
    }
   ],
   "source": [
    "estado_inicial = np.array([0.8, 0.6])"
   ]
  },
  {
   "cell_type": "code",
   "execution_count": 4,
   "id": "accepted-international",
   "metadata": {},
   "outputs": [
    {
     "ename": "NameError",
     "evalue": "name 'estado_inicial' is not defined",
     "output_type": "error",
     "traceback": [
      "\u001b[0;31m---------------------------------------------------------------------------\u001b[0m",
      "\u001b[0;31mNameError\u001b[0m                                 Traceback (most recent call last)",
      "\u001b[0;32m<ipython-input-4-5fc5de845d59>\u001b[0m in \u001b[0;36m<module>\u001b[0;34m\u001b[0m\n\u001b[0;32m----> 1\u001b[0;31m \u001b[0mmacglass\u001b[0m \u001b[0;34m=\u001b[0m \u001b[0mMackeyGlass\u001b[0m\u001b[0;34m(\u001b[0m\u001b[0mestado_inicial\u001b[0m\u001b[0;34m,\u001b[0m \u001b[0mdt\u001b[0m\u001b[0;34m=\u001b[0m\u001b[0mdt\u001b[0m\u001b[0;34m)\u001b[0m\u001b[0;34m\u001b[0m\u001b[0;34m\u001b[0m\u001b[0m\n\u001b[0m",
      "\u001b[0;31mNameError\u001b[0m: name 'estado_inicial' is not defined"
     ]
    }
   ],
   "source": [
    "macglass = MackeyGlass(estado_inicial, dt=dt)"
   ]
  },
  {
   "cell_type": "code",
   "execution_count": null,
   "id": "legislative-coating",
   "metadata": {},
   "outputs": [],
   "source": [
    "solucoes, instantes_temporais = macglass.calcular(t_inicial = t_inicial, t_final = t_final)"
   ]
  },
  {
   "cell_type": "code",
   "execution_count": null,
   "id": "civic-airline",
   "metadata": {},
   "outputs": [],
   "source": [
    "p = solucoes[:, 0]\n",
    "q = solucoes[:, 1]"
   ]
  },
  {
   "cell_type": "markdown",
   "id": "earned-point",
   "metadata": {},
   "source": [
    "### 3.a) Série Temporal de Mackey-Glass"
   ]
  },
  {
   "cell_type": "code",
   "execution_count": null,
   "id": "fitted-membership",
   "metadata": {},
   "outputs": [],
   "source": [
    "fig, ax = plt.subplots(2)\n",
    "fig.suptitle(\"Séries temporais de 0 a 100 segundos das coordenadas xyz do Sistema de Lorenz\")\n",
    "ax[0].plot(instantes_temporais, p, color='DeepSkyBlue')\n",
    "\n",
    "ax[0].set_ylabel('x(t)')\n",
    "ax[0].set_xlabel('t')\n",
    "ax[0].set_xlim(0,)\n",
    "    \n",
    "ax[0].grid(True)\n",
    "\n",
    "ax[1].plot(instantes_temporais, q, color='LightCoral')\n",
    "ax[1].set_ylabel('y(t)')\n",
    "ax[1].set_xlabel('t')\n",
    "ax[1].set_xlim(0,)\n",
    "ax[1].grid(True)\n",
    "\n",
    "fig.tight_layout()\n",
    "sns.despine()\n",
    "plt.show()"
   ]
  },
  {
   "cell_type": "markdown",
   "id": "failing-velvet",
   "metadata": {},
   "source": [
    "### 3.b) Atrator de Mackey-Glass"
   ]
  },
  {
   "cell_type": "code",
   "execution_count": null,
   "id": "functional-october",
   "metadata": {},
   "outputs": [],
   "source": []
  }
 ],
 "metadata": {
  "kernelspec": {
   "display_name": "pibic2020-env",
   "language": "python",
   "name": "pibic2020-env"
  },
  "language_info": {
   "codemirror_mode": {
    "name": "ipython",
    "version": 3
   },
   "file_extension": ".py",
   "mimetype": "text/x-python",
   "name": "python",
   "nbconvert_exporter": "python",
   "pygments_lexer": "ipython3",
   "version": "3.8.5"
  }
 },
 "nbformat": 4,
 "nbformat_minor": 5
}
