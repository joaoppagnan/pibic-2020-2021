{
 "cells": [
  {
   "cell_type": "markdown",
   "id": "latin-bibliography",
   "metadata": {},
   "source": [
    "## Testes da rotina da classe das Equações de Mackey-Glass"
   ]
  },
  {
   "cell_type": "markdown",
   "id": "bacterial-least",
   "metadata": {},
   "source": [
    "## 1. Importando as bibliotecas necessárias"
   ]
  },
  {
   "cell_type": "markdown",
   "id": "unavailable-yeast",
   "metadata": {},
   "source": [
    "### Bibliotecas obrigatórias"
   ]
  },
  {
   "cell_type": "code",
   "execution_count": 18,
   "id": "thermal-control",
   "metadata": {},
   "outputs": [],
   "source": [
    "import numpy as np\n",
    "from jitcdde import jitcdde, y, t\n",
    "\n",
    "%matplotlib widget\n",
    "import matplotlib.pyplot as plt\n",
    "\n",
    "import seaborn as sns # a biblioteca 'seaborn' contém vários estilos para os gráficos do 'matpĺotlib'\n",
    "\n",
    "# agora, melhoramos a qualidade de saida e de visualizacao da imagem \n",
    "# alem de mudar a fonte padrao para uma do latex\n",
    "sns.set_style(\"ticks\")\n",
    "plt.rcParams['savefig.dpi'] = 200\n",
    "plt.rcParams[\"figure.dpi\"] = 100\n",
    "\n",
    "plt.rcParams.update({\n",
    "    \"text.usetex\": True,\n",
    "    \"font.family\": \"serif\",\n",
    "    \"font.serif\": [\"Palatino\"],\n",
    "})\n",
    "\n",
    "plt.style.use('dark_background')"
   ]
  },
  {
   "cell_type": "markdown",
   "id": "demanding-handle",
   "metadata": {},
   "source": [
    "### Bibliotecas não-obrigatórias"
   ]
  },
  {
   "cell_type": "code",
   "execution_count": 2,
   "id": "unable-battle",
   "metadata": {},
   "outputs": [],
   "source": [
    "import sys \n",
    "sys.path.insert(0, '../../scripts')\n",
    "import mackeyglassequations as mgeq"
   ]
  },
  {
   "cell_type": "markdown",
   "id": "backed-offering",
   "metadata": {},
   "source": [
    "## 2. Definindo a função (debug)"
   ]
  },
  {
   "cell_type": "markdown",
   "id": "informed-breast",
   "metadata": {},
   "source": [
    "Não é necessário executar essa linha se você estiver importando o arquivo com a classe."
   ]
  },
  {
   "cell_type": "code",
   "execution_count": 451,
   "id": "thick-torture",
   "metadata": {},
   "outputs": [],
   "source": [
    "class MackeyGlass:\n",
    "    \n",
    "    def __init__(self, p_iniciais, tau, gamma=0.1, beta=0.2, theta=1, n=10, dt=0.0001):\n",
    "        \"\"\"\n",
    "        Descrição:\n",
    "        ----------\n",
    "        Construtor da classe 'SistemaLorenz'\n",
    "\n",
    "        Parâmetros:\n",
    "        -----------\n",
    "        p_iniciais: np.ndarray\n",
    "            Valores iniciais da concentração de glóbulos vermelhos no sangue. O numero de valores deve ser igual à Tau\n",
    "        tau: int\n",
    "            Parâmetro das Equações de Mackey-Glass\n",
    "        gamma: int ou float\n",
    "            Parâmetro das Equações de Mackey-Glass\n",
    "        beta: int ou float\n",
    "            Parâmetro das Equações de Mackey-Glass\n",
    "        theta: int ou float\n",
    "            Parâmetro das Equações de Mackey-Glass\n",
    "        n: int\n",
    "            Parâmetro das Equações de Mackey-Glass\n",
    "        dt: float\n",
    "            Tamanho do diferencial de tempo que iremos utilizar nos cálculos, ou seja, a resolução temporal de nossa solução\n",
    "            \n",
    "        Retorna:\n",
    "        --------\n",
    "        Nada\n",
    "        \"\"\"\n",
    "        \n",
    "        if not (type(p_iniciais) is np.ndarray):\n",
    "            raise TypeError(\"0 valor da concentração de glóbulos vermelhos no sangue deve ser um array do numpy!\")\n",
    "        \n",
    "        if not (((type(gamma) is int) | (type(gamma) is float)) & (gamma > 0)):\n",
    "            raise TypeError(\"Gamma deve ser um int ou float positivo!\")\n",
    "\n",
    "        if not (((type(beta) is int) | (type(beta) is float)) & (beta > 0)):\n",
    "            raise TypeError(\"Beta deve ser um int ou float positivo!\")\n",
    "\n",
    "        if not (((type(theta) is int) | (type(theta) is float)) & (theta > 0)):\n",
    "            raise TypeError(\"Theta deve ser um int ou float positivo!\")\n",
    "                \n",
    "        if not (((type(tau) is int) | (type(tau) is float)) & (tau > 0)):\n",
    "            raise TypeError(\"Tau deve ser um int ou float positivo!\")\n",
    "                \n",
    "        if not ((type(n) is int) & (n > 0)):\n",
    "            raise TypeError(\"n deve ser um int positivo!\")\n",
    "            \n",
    "        if not ((type(dt) is float) & (dt > 0)):\n",
    "            raise TypeError(\"dt deve ser um float positivo!\")\n",
    "        \n",
    "        self._p_iniciais = p_iniciais\n",
    "        self._gamma = gamma\n",
    "        self._beta = beta\n",
    "        self._theta = theta\n",
    "        self._tau = tau\n",
    "        self._n = n\n",
    "        self._dt = dt\n",
    "        pass\n",
    "    \n",
    "    def _equacao(self):\n",
    "        \"\"\"\n",
    "        Descrição:\n",
    "        ----------\n",
    "        Função interna que retorna as equações de Mackey-Glass calculadas no instante t atual\n",
    "        \n",
    "        Parâmetros:\n",
    "        -----------\n",
    "        Nenhum\n",
    "        \n",
    "        Retorna:\n",
    "        --------\n",
    "        A equação de Mackey-Glass para os parâmetros estimados na forma de um array\n",
    "        \"\"\"     \n",
    "        \n",
    "        gamma = self._gamma\n",
    "        beta = self._beta\n",
    "        theta = self._theta\n",
    "        tau = self._tau\n",
    "        n = self._n\n",
    "        \n",
    "        dp_dt = (beta*((theta)**n)*y(0,t-tau))/(((theta)**n) + (y(0,t-tau)**n)) - gamma*y(0)\n",
    "        return [dp_dt]\n",
    "    \n",
    "    def calcular(self, t_inicial, t_final):\n",
    "        \"\"\"\n",
    "        Descrição:\n",
    "        ----------\n",
    "        Evolui as equações de Mackey-Glass com base nas condições iniciais configuradas, para um t indo de t_inicial até t_final,\n",
    "        \n",
    "        Parâmetros:\n",
    "        -----------\n",
    "        t_inicial: int\n",
    "            Dia em que iniciamos os cálculos\n",
    "        t_final: int\n",
    "            Dia em que terminamos os cálculos\n",
    "            \n",
    "        Retorna:\n",
    "        --------\n",
    "        Um vetor com as soluções estimadas e um vetor com os instantes temporais utilizados\n",
    "        \"\"\"\n",
    "        \n",
    "        if not ((type(t_inicial) is int) & (t_inicial >= 0)):\n",
    "            raise TypeError(\"t_inicial deve ser um int não nulo!\")\n",
    "            \n",
    "        if not ((type(t_final) is int) & (t_final > 0)):\n",
    "            raise TypeError(\"t_final deve ser um int positivo!\")\n",
    "        \n",
    "        p_iniciais = self._p_iniciais\n",
    "        dt = self._dt\n",
    "        \n",
    "        p_derivadas_iniciais = np.zeros(len(p_iniciais))\n",
    "        t_anteriores = np.arange(-len(p_iniciais), 0, 1)\n",
    "        condicoes_iniciais = []\n",
    "        \n",
    "        for i in range(0, len(p_iniciais), 1):\n",
    "            condicao = (t_anteriores[i], p_iniciais[i], p_derivadas_iniciais[i])\n",
    "            condicoes_iniciais.append(condicao)\n",
    "        \n",
    "        equacao = self._equacao()\n",
    "        DDE = jitcdde(equacao)\n",
    "        \n",
    "        DDE.add_past_points(condicoes_iniciais)\n",
    "        DDE.step_on_discontinuities()\n",
    "        DDE.set_integration_parameters(first_step = dt, max_step = dt)\n",
    "         \n",
    "        instantes_temporais = np.arange(t_inicial, t_final, dt)\n",
    "        t_integracao = np.arange(DDE.t + t_inicial, DDE.t + t_final, dt)\n",
    "        \n",
    "        solucoes = []\n",
    "        for t in t_integracao:\n",
    "            solucoes.append(DDE.integrate(t))\n",
    "        \n",
    "        return solucoes, instantes_temporais"
   ]
  },
  {
   "cell_type": "markdown",
   "id": "dutch-coast",
   "metadata": {},
   "source": [
    "## 3. Testando a classe"
   ]
  },
  {
   "cell_type": "code",
   "execution_count": 59,
   "id": "functional-vertex",
   "metadata": {},
   "outputs": [],
   "source": [
    "t_inicial = 0\n",
    "t_final = 800\n",
    "dt = 0.001\n",
    "tau = 30"
   ]
  },
  {
   "cell_type": "code",
   "execution_count": 60,
   "id": "frozen-humanity",
   "metadata": {},
   "outputs": [],
   "source": [
    "p_iniciais = np.random.rand(tau, 1)"
   ]
  },
  {
   "cell_type": "code",
   "execution_count": 61,
   "id": "overhead-waterproof",
   "metadata": {},
   "outputs": [],
   "source": [
    "macglass = mgeq.MackeyGlass(p_iniciais, tau=tau, dt=dt)"
   ]
  },
  {
   "cell_type": "code",
   "execution_count": 62,
   "id": "impossible-adventure",
   "metadata": {},
   "outputs": [
    {
     "name": "stdout",
     "output_type": "stream",
     "text": [
      "Generating, compiling, and loading C code.\n",
      "Using default integration parameters.\n"
     ]
    }
   ],
   "source": [
    "solucoes, instantes_temporais = macglass.calcular(t_inicial = t_inicial, t_final = t_final)"
   ]
  },
  {
   "cell_type": "markdown",
   "id": "annual-gossip",
   "metadata": {},
   "source": [
    "### 3.a) Série Temporal de Mackey-Glass"
   ]
  },
  {
   "cell_type": "code",
   "execution_count": 63,
   "id": "improving-louis",
   "metadata": {},
   "outputs": [
    {
     "data": {
      "application/vnd.jupyter.widget-view+json": {
       "model_id": "e9c02e372b2242649f1a697d2b7ff30c",
       "version_major": 2,
       "version_minor": 0
      },
      "text/plain": [
       "Canvas(toolbar=Toolbar(toolitems=[('Home', 'Reset original view', 'home', 'home'), ('Back', 'Back to previous …"
      ]
     },
     "metadata": {},
     "output_type": "display_data"
    }
   ],
   "source": [
    "fig, ax = plt.subplots()\n",
    "ax.set_title('Série temporal de 0 a 800 dias da equação de Mackey-Glass para\\n' + r'$\\tau = $ ' + str(tau) + r', $\\beta = 0.2$, $\\gamma = 0.1$, $n = 1$ e $\\theta = 1$')\n",
    "ax.plot(instantes_temporais, solucoes, color='DeepSkyBlue')\n",
    "\n",
    "ax.set_ylabel('P(t)')\n",
    "ax.set_xlabel('t')\n",
    "ax.set_xlim(0,)\n",
    "    \n",
    "ax.grid(True)\n",
    "\n",
    "fig.tight_layout()\n",
    "sns.despine()\n",
    "plt.show()"
   ]
  },
  {
   "cell_type": "markdown",
   "id": "secret-conducting",
   "metadata": {},
   "source": [
    "### 3.b) Atrator de Mackey-Glass"
   ]
  },
  {
   "cell_type": "code",
   "execution_count": null,
   "id": "breathing-finger",
   "metadata": {},
   "outputs": [],
   "source": []
  }
 ],
 "metadata": {
  "kernelspec": {
   "display_name": "pibic2020-env",
   "language": "python",
   "name": "pibic2020-env"
  },
  "language_info": {
   "codemirror_mode": {
    "name": "ipython",
    "version": 3
   },
   "file_extension": ".py",
   "mimetype": "text/x-python",
   "name": "python",
   "nbconvert_exporter": "python",
   "pygments_lexer": "ipython3",
   "version": "3.8.5"
  }
 },
 "nbformat": 4,
 "nbformat_minor": 5
}
