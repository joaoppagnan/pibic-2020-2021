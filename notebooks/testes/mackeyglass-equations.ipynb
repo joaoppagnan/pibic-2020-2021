{
 "cells": [
  {
   "cell_type": "markdown",
   "id": "significant-pride",
   "metadata": {},
   "source": [
    "## Testes da rotina da classe das Equações de Mackey-Glass"
   ]
  },
  {
   "cell_type": "markdown",
   "id": "involved-stockholm",
   "metadata": {},
   "source": [
    "## 1. Importando as bibliotecas necessárias"
   ]
  },
  {
   "cell_type": "markdown",
   "id": "alpine-classic",
   "metadata": {},
   "source": [
    "### Bibliotecas obrigatórias"
   ]
  },
  {
   "cell_type": "code",
   "execution_count": 1,
   "id": "detected-passion",
   "metadata": {},
   "outputs": [],
   "source": [
    "import numpy as np\n",
    "from jitcdde import jitcdde, y, t\n",
    "\n",
    "%matplotlib widget\n",
    "import matplotlib.pyplot as plt\n",
    "\n",
    "import seaborn as sns # a biblioteca 'seaborn' contém vários estilos para os gráficos do 'matpĺotlib'\n",
    "\n",
    "# agora, melhoramos a qualidade de saida e de visualizacao da imagem \n",
    "# alem de mudar a fonte padrao para uma do latex\n",
    "sns.set_style(\"ticks\")\n",
    "plt.rcParams['savefig.dpi'] = 200\n",
    "plt.rcParams[\"figure.dpi\"] = 100\n",
    "\n",
    "plt.rcParams.update({\n",
    "    \"text.usetex\": True,\n",
    "    \"font.family\": \"serif\",\n",
    "    \"font.serif\": [\"Palatino\"],\n",
    "})\n",
    "\n",
    "plt.style.use('dark_background')"
   ]
  },
  {
   "cell_type": "markdown",
   "id": "ancient-candle",
   "metadata": {},
   "source": [
    "### Bibliotecas não-obrigatórias"
   ]
  },
  {
   "cell_type": "code",
   "execution_count": 2,
   "id": "dental-phone",
   "metadata": {},
   "outputs": [],
   "source": [
    "import sys \n",
    "sys.path.insert(0, '../../scripts')\n",
    "import mackeyglassequations as mgeq"
   ]
  },
  {
   "cell_type": "markdown",
   "id": "indie-lounge",
   "metadata": {},
   "source": [
    "## 2. Definindo a função (debug)"
   ]
  },
  {
   "cell_type": "markdown",
   "id": "right-peripheral",
   "metadata": {},
   "source": [
    "Não é necessário executar essa linha se você estiver importando o arquivo com a classe."
   ]
  },
  {
   "cell_type": "code",
   "execution_count": 296,
   "id": "early-payroll",
   "metadata": {},
   "outputs": [],
   "source": [
    "class MackeyGlass:\n",
    "    \n",
    "    def __init__(self, p_iniciais, tau, gamma=0.1, beta=0.2, theta=1, n=10, dt=0.0001):\n",
    "        \"\"\"\n",
    "        Descrição:\n",
    "        ----------\n",
    "        Construtor da classe 'SistemaLorenz'\n",
    "\n",
    "        Parâmetros:\n",
    "        -----------\n",
    "        p_iniciais: np.ndarray\n",
    "            Valores iniciais da concentração de glóbulos vermelhos no sangue, o numero de valores deve ser igual à Tau\n",
    "        tau: int\n",
    "            Parâmetro das Equações de Mackey-Glass\n",
    "        gamma: int ou float\n",
    "            Parâmetro das Equações de Mackey-Glass\n",
    "        beta: int ou float\n",
    "            Parâmetro das Equações de Mackey-Glass\n",
    "        theta: int ou float\n",
    "            Parâmetro das Equações de Mackey-Glass\n",
    "        n: int\n",
    "            Parâmetro das Equações de Mackey-Glass\n",
    "        dt: float\n",
    "            Tamanho do diferencial de tempo que iremos utilizar nos cálculos, ou seja, a resolução temporal de nossa solução\n",
    "            \n",
    "        Retorna:\n",
    "        --------\n",
    "        Nada\n",
    "        \"\"\"\n",
    "        \n",
    "        if not (type(p_inicial) is np.ndarray):\n",
    "            raise TypeError(\"0 valor da concentração de glóbulos vermelhos no sangue deve ser um array do numpy!\")\n",
    "        \n",
    "        if not (((type(gamma) is int) | (type(gamma) is float)) & (gamma > 0)):\n",
    "            raise TypeError(\"Gamma deve ser um int ou float positivo!\")\n",
    "\n",
    "        if not (((type(beta) is int) | (type(beta) is float)) & (beta > 0)):\n",
    "            raise TypeError(\"Beta deve ser um int ou float positivo!\")\n",
    "\n",
    "        if not (((type(theta) is int) | (type(theta) is float)) & (theta > 0)):\n",
    "            raise TypeError(\"Theta deve ser um int ou float positivo!\")\n",
    "                \n",
    "        if not (((type(tau) is int) | (type(tau) is float)) & (tau > 0)):\n",
    "            raise TypeError(\"Tau deve ser um int ou float positivo!\")\n",
    "                \n",
    "        if not ((type(n) is int) & (n > 0)):\n",
    "            raise TypeError(\"n deve ser um int positivo!\")\n",
    "            \n",
    "        if not ((type(dt) is float) & (dt > 0)):\n",
    "            raise TypeError(\"dt deve ser um float positivo!\")\n",
    "        \n",
    "        self._p_inicial = p_inicial\n",
    "        self._gamma = gamma\n",
    "        self._beta = beta\n",
    "        self._theta = theta\n",
    "        self._tau = tau\n",
    "        self._n = n\n",
    "        self._dt = dt\n",
    "        pass\n",
    "    \n",
    "    def _equacao(self):\n",
    "        \"\"\"\n",
    "        Descrição:\n",
    "        ----------\n",
    "        Função interna que retorna as equações de Mackey-Glass calculadas no instante t atual\n",
    "        \n",
    "        Parâmetros:\n",
    "        -----------\n",
    "        estado_atual: np.ndarray\n",
    "            Vetor das posições (p_atual, p_delay) atuais do sistema    \n",
    "        t: float\n",
    "            Instante t no qual estamos calculando as derivadas\n",
    "            \n",
    "        Retorna:\n",
    "        --------\n",
    "        As equações de Mackey-Glass para os parâmetros estimados na forma de um array\n",
    "        \"\"\"     \n",
    "        \n",
    "        gamma = self._gamma\n",
    "        beta = self._beta\n",
    "        theta = self._theta\n",
    "        tau = self._tau\n",
    "        n = self._n\n",
    "        \n",
    "        dp_dt = (beta*((theta)**n)*y(0,t-tau))/(((theta)**n) + (y(0,t-tau)**n)) - gamma*y(0)\n",
    "        return [dp_dt]\n",
    "    \n",
    "    def calcular(self, t_inicial, t_final):\n",
    "        \"\"\"\n",
    "        Descrição:\n",
    "        ----------\n",
    "        Evolui as equações de Mackey-Glass com base nas condições iniciais configuradas, para um t indo de t_inicial até t_final, com n_instantes calculados\n",
    "        \n",
    "        Parâmetros:\n",
    "        -----------\n",
    "        t_inicial: int\n",
    "            Dia em que iniciamos os cálculos\n",
    "        t_final: int\n",
    "            Dia em que terminamos os cálculos\n",
    "            \n",
    "        Retorna:\n",
    "        --------\n",
    "        Um vetor com as soluções estimadas e um vetor com os instantes temporais utilizados\n",
    "        \"\"\"\n",
    "        \n",
    "        if not ((type(t_inicial) is int) & (t_inicial >= 0)):\n",
    "            raise TypeError(\"t_inicial deve ser um int não nulo!\")\n",
    "            \n",
    "        if not ((type(t_final) is int) & (t_final > 0)):\n",
    "            raise TypeError(\"t_final deve ser um int positivo!\")\n",
    "        \n",
    "        p_anteriores = self._p_delays\n",
    "        dt = self._dt\n",
    "        \n",
    "        p_iniciais = np.append(p_anteriores, self._p_inicial)\n",
    "        p_anteriores_derivada = np.zeros(len(p_iniciais))\n",
    "        t_anteriores = np.arange(-len(p_iniciais)+1, 1, 1)\n",
    "        condicoes_iniciais = []\n",
    "        \n",
    "        for i in range(0, len(p_iniciais), 1):\n",
    "            condicao = (t_anteriores[i], p_iniciais[i], p_anteriores_derivada[i])\n",
    "            condicoes_iniciais.append(condicao)\n",
    "        \n",
    "        equacao = self._equacao()\n",
    "        DDE = jitcdde(equacao)\n",
    "        \n",
    "        DDE.add_past_points(condicoes_iniciais)\n",
    "        DDE.step_on_discontinuities()\n",
    "        \n",
    "        n_instantes = int((t_final - t_inicial)/dt)        \n",
    "        instantes_temporais = np.linspace(t_inicial, t_final, n_instantes)\n",
    "        t_integracao = DDE.t + instantes_temporais\n",
    "        \n",
    "        solucoes = []\n",
    "        for t in t_integracao:\n",
    "            solucoes.append(DDE.integrate(t))\n",
    "        \n",
    "        return solucoes, instantes_temporais, p_anteriores"
   ]
  },
  {
   "cell_type": "markdown",
   "id": "breeding-annotation",
   "metadata": {},
   "source": [
    "## 3. Testando a classe"
   ]
  },
  {
   "cell_type": "code",
   "execution_count": 290,
   "id": "elementary-interstate",
   "metadata": {},
   "outputs": [],
   "source": [
    "t_inicial = 0\n",
    "t_final = 800\n",
    "dt = 0.001\n",
    "tau = 30"
   ]
  },
  {
   "cell_type": "code",
   "execution_count": 291,
   "id": "fatty-needle",
   "metadata": {},
   "outputs": [],
   "source": [
    "p_inicial = 0.8"
   ]
  },
  {
   "cell_type": "code",
   "execution_count": 292,
   "id": "crazy-findings",
   "metadata": {},
   "outputs": [],
   "source": [
    "macglass = MackeyGlass(p_inicial, tau=tau, dt=dt)"
   ]
  },
  {
   "cell_type": "code",
   "execution_count": 293,
   "id": "competitive-running",
   "metadata": {},
   "outputs": [
    {
     "name": "stdout",
     "output_type": "stream",
     "text": [
      "Generating, compiling, and loading C code.\n",
      "Using default integration parameters.\n"
     ]
    },
    {
     "name": "stderr",
     "output_type": "stream",
     "text": [
      "/mnt/C492FBF292FBE6B8/Unicamp/pibic/pibic-2020-2021/pibic2020-env/lib/python3.8/site-packages/jitcdde/_jitcdde.py:791: UserWarning: The target time is smaller than the current time. No integration step will happen. The returned state will be extrapolated from the interpolating Hermite polynomial for the last integration step. You may see this because you try to integrate backwards in time, in which case you did something wrong. You may see this just because your sampling step is small, in which case there is no need to worry.\n",
      "  warn(\"The target time is smaller than the current time. No integration step will happen. The returned state will be extrapolated from the interpolating Hermite polynomial for the last integration step. You may see this because you try to integrate backwards in time, in which case you did something wrong. You may see this just because your sampling step is small, in which case there is no need to worry.\")\n"
     ]
    }
   ],
   "source": [
    "solucoes, instantes_temporais, p_iniciais = macglass.calcular(t_inicial = t_inicial, t_final = t_final)"
   ]
  },
  {
   "cell_type": "markdown",
   "id": "banned-japan",
   "metadata": {},
   "source": [
    "### 3.a) Série Temporal de Mackey-Glass"
   ]
  },
  {
   "cell_type": "code",
   "execution_count": 294,
   "id": "wired-nitrogen",
   "metadata": {},
   "outputs": [
    {
     "data": {
      "application/vnd.jupyter.widget-view+json": {
       "model_id": "e0cb3e67aa6347a7ae228583561892a3",
       "version_major": 2,
       "version_minor": 0
      },
      "text/plain": [
       "Canvas(toolbar=Toolbar(toolitems=[('Home', 'Reset original view', 'home', 'home'), ('Back', 'Back to previous …"
      ]
     },
     "metadata": {},
     "output_type": "display_data"
    }
   ],
   "source": [
    "fig, ax = plt.subplots()\n",
    "fig.suptitle(\"Série temporal de 0 a 800 dias da equação de Mackey-Glass para\\n \")\n",
    "ax.plot(instantes_temporais, solucoes, color='DeepSkyBlue')\n",
    "\n",
    "ax.set_ylabel('P(t)')\n",
    "ax.set_xlabel('t')\n",
    "ax.set_xlim(0,)\n",
    "    \n",
    "ax.grid(True)\n",
    "\n",
    "fig.tight_layout()\n",
    "sns.despine()\n",
    "plt.show()"
   ]
  },
  {
   "cell_type": "markdown",
   "id": "sought-extreme",
   "metadata": {},
   "source": [
    "### 3.b) Atrator de Mackey-Glass"
   ]
  },
  {
   "cell_type": "code",
   "execution_count": null,
   "id": "immune-fighter",
   "metadata": {},
   "outputs": [],
   "source": []
  }
 ],
 "metadata": {
  "kernelspec": {
   "display_name": "pibic2020-env",
   "language": "python",
   "name": "pibic2020-env"
  },
  "language_info": {
   "codemirror_mode": {
    "name": "ipython",
    "version": 3
   },
   "file_extension": ".py",
   "mimetype": "text/x-python",
   "name": "python",
   "nbconvert_exporter": "python",
   "pygments_lexer": "ipython3",
   "version": "3.8.5"
  }
 },
 "nbformat": 4,
 "nbformat_minor": 5
}
