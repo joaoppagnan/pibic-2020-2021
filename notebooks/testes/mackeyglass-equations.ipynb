{
 "cells": [
  {
   "cell_type": "markdown",
   "id": "proud-kenya",
   "metadata": {},
   "source": [
    "## Testes da rotina da classe das Equações de Mackey-Glass"
   ]
  },
  {
   "cell_type": "markdown",
   "id": "sixth-rider",
   "metadata": {},
   "source": [
    "## 1. Importando as bibliotecas necessárias"
   ]
  },
  {
   "cell_type": "markdown",
   "id": "sharing-horizontal",
   "metadata": {},
   "source": [
    "### Bibliotecas obrigatórias"
   ]
  },
  {
   "cell_type": "code",
   "execution_count": 1,
   "id": "retired-symposium",
   "metadata": {},
   "outputs": [],
   "source": [
    "import numpy as np\n",
    "from jitcdde import jitcdde, y, t\n",
    "\n",
    "%matplotlib widget\n",
    "import matplotlib.pyplot as plt\n",
    "\n",
    "import seaborn as sns # a biblioteca 'seaborn' contém vários estilos para os gráficos do 'matpĺotlib'\n",
    "\n",
    "# agora, melhoramos a qualidade de saida e de visualizacao da imagem \n",
    "# alem de mudar a fonte padrao para uma do latex\n",
    "sns.set_style(\"ticks\")\n",
    "plt.rcParams['savefig.dpi'] = 200\n",
    "plt.rcParams[\"figure.dpi\"] = 100\n",
    "\n",
    "plt.rcParams.update({\n",
    "    \"text.usetex\": True,\n",
    "    \"font.family\": \"serif\",\n",
    "    \"font.serif\": [\"Palatino\"],\n",
    "})\n",
    "\n",
    "plt.style.use('dark_background')"
   ]
  },
  {
   "cell_type": "markdown",
   "id": "consecutive-seeking",
   "metadata": {},
   "source": [
    "### Bibliotecas não-obrigatórias"
   ]
  },
  {
   "cell_type": "code",
   "execution_count": 2,
   "id": "israeli-sucking",
   "metadata": {},
   "outputs": [],
   "source": [
    "import sys \n",
    "sys.path.insert(0, '../../scripts')\n",
    "import mackeyglassequations as mgeq"
   ]
  },
  {
   "cell_type": "markdown",
   "id": "vocational-alignment",
   "metadata": {},
   "source": [
    "## 2. Definindo a função (debug)"
   ]
  },
  {
   "cell_type": "markdown",
   "id": "lightweight-coverage",
   "metadata": {},
   "source": [
    "Não é necessário executar essa linha se você estiver importando o arquivo com a classe."
   ]
  },
  {
   "cell_type": "code",
   "execution_count": 3,
   "id": "elementary-manitoba",
   "metadata": {},
   "outputs": [],
   "source": [
    "class MackeyGlass:\n",
    "    \n",
    "    def __init__(self, inicializacao='padrao', tau=6, gamma=0.1, beta=0.2, theta=1, n=10, dt=1.0):\n",
    "        \"\"\"\n",
    "        Descrição:\n",
    "        ----------\n",
    "        Construtor da classe 'SistemaLorenz'\n",
    "\n",
    "        Parâmetros:\n",
    "        -----------\n",
    "        inicializacao: str\n",
    "            String referente ao tipo de valores iniciais utilizado para as equações. \n",
    "            Se for 'padrao', utiliza a mesma usada no paper de Mackey e Glass, ie, 0.1 para todos os instantes anteriores ao início da medição.\n",
    "            Caso seja 'aleatoria', utiliza valores aleatorios para esses instantes anteriores.\n",
    "        tau: int\n",
    "            Parâmetro das Equações de Mackey-Glass\n",
    "        gamma: int ou float\n",
    "            Parâmetro das Equações de Mackey-Glass\n",
    "        beta: int ou float\n",
    "            Parâmetro das Equações de Mackey-Glass\n",
    "        theta: int ou float\n",
    "            Parâmetro das Equações de Mackey-Glass\n",
    "        n: int ou float\n",
    "            Parâmetro das Equações de Mackey-Glass\n",
    "        dt: float\n",
    "            Tamanho do diferencial de tempo que iremos utilizar nos cálculos, ou seja, a resolução temporal de nossa solução\n",
    "            \n",
    "        Retorna:\n",
    "        --------\n",
    "        Nada\n",
    "        \"\"\"\n",
    "        \n",
    "        if not (type(inicializacao) is str):\n",
    "            raise TypeError(\"O tipo da inicialização deve ser uma string!\")\n",
    "        \n",
    "        if not (((type(gamma) is int) | (type(gamma) is float)) & (gamma > 0)):\n",
    "            raise TypeError(\"Gamma deve ser um int ou float positivo!\")\n",
    "\n",
    "        if not (((type(beta) is int) | (type(beta) is float)) & (beta > 0)):\n",
    "            raise TypeError(\"Beta deve ser um int ou float positivo!\")\n",
    "\n",
    "        if not (((type(theta) is int) | (type(theta) is float)) & (theta > 0)):\n",
    "            raise TypeError(\"Theta deve ser um int ou float positivo!\")\n",
    "                \n",
    "        if not (((type(tau) is int) | (type(tau) is float)) & (tau > 0)):\n",
    "            raise TypeError(\"Tau deve ser um int ou float positivo!\")\n",
    "                \n",
    "        if not (((type(n) is int) | (type(n) is float)) & (n > 0)):\n",
    "            raise TypeError(\"n deve ser um int ou float positivo!\")\n",
    "            \n",
    "        if not ((type(dt) is float) & (dt > 0)):\n",
    "            raise TypeError(\"dt deve ser um float positivo!\")\n",
    "        \n",
    "        if (inicializacao == 'padrao'):\n",
    "            p_iniciais = (np.ones((tau, 1))*0.1)*theta\n",
    "            \n",
    "        elif (inicializacao == 'aleatoria'):\n",
    "            p_iniciais = np.random.rand(tau, 1)*theta\n",
    "            \n",
    "        else:\n",
    "            raise ValueError(\"O tipo da inicialização deve ser um dos dois apresentados(aleatoria ou padrao)!\")\n",
    "        \n",
    "        self._p_iniciais = p_iniciais\n",
    "        self._gamma = gamma\n",
    "        self._beta = beta\n",
    "        self._theta = theta\n",
    "        self._tau = tau\n",
    "        self._n = n\n",
    "        self._dt = dt\n",
    "        pass\n",
    "    \n",
    "    def _equacao(self):\n",
    "        \"\"\"\n",
    "        Descrição:\n",
    "        ----------\n",
    "        Função interna que retorna as equações de Mackey-Glass calculadas no instante t atual\n",
    "        \n",
    "        Parâmetros:\n",
    "        -----------\n",
    "        Nenhum\n",
    "        \n",
    "        Retorna:\n",
    "        --------\n",
    "        A equação de Mackey-Glass para os parâmetros estimados na forma de um array\n",
    "        \"\"\"     \n",
    "        \n",
    "        gamma = self._gamma\n",
    "        beta = self._beta\n",
    "        tau = self._tau\n",
    "        theta = self._theta\n",
    "        n = self._n\n",
    "        \n",
    "        dp_dt = ((beta)*y(0,t-tau)*(theta**n))/((theta**n) + (y(0,t-tau))**n) - gamma*y(0)\n",
    "        return [dp_dt]\n",
    "    \n",
    "    def calcular(self, t_inicial, t_final):\n",
    "        \"\"\"\n",
    "        Descrição:\n",
    "        ----------\n",
    "        Evolui as equações de Mackey-Glass com base nas condições iniciais configuradas, para um t indo de t_inicial até t_final,\n",
    "        \n",
    "        Parâmetros:\n",
    "        -----------\n",
    "        t_inicial: int\n",
    "            Dia em que iniciamos os cálculos\n",
    "        t_final: int\n",
    "            Dia em que terminamos os cálculos\n",
    "            \n",
    "        Retorna:\n",
    "        --------\n",
    "        Um vetor com as soluções estimadas e um vetor com os instantes temporais utilizados\n",
    "        \"\"\"\n",
    "        \n",
    "        if not ((type(t_inicial) is int) & (t_inicial >= 0)):\n",
    "            raise TypeError(\"t_inicial deve ser um int não nulo!\")\n",
    "            \n",
    "        if not ((type(t_final) is int) & (t_final > 0)):\n",
    "            raise TypeError(\"t_final deve ser um int positivo!\")\n",
    "        \n",
    "        p_iniciais = self._p_iniciais\n",
    "        dt = self._dt\n",
    "        \n",
    "        p_derivadas_iniciais = np.zeros(len(p_iniciais))\n",
    "        t_anteriores = np.arange(-len(p_iniciais), 0, 1)\n",
    "        condicoes_iniciais = []\n",
    "        \n",
    "        for i in range(0, len(p_iniciais), 1):\n",
    "            condicao = (t_anteriores[i], p_iniciais[i], p_derivadas_iniciais[i])\n",
    "            condicoes_iniciais.append(condicao)\n",
    "        \n",
    "        equacao = self._equacao()\n",
    "        DDE = jitcdde(equacao)\n",
    "        \n",
    "        DDE.add_past_points(condicoes_iniciais)\n",
    "        DDE.step_on_discontinuities()\n",
    "        DDE.set_integration_parameters(first_step = dt, max_step = dt)\n",
    "        \n",
    "        instantes_temporais = np.arange(t_inicial, t_final, dt)\n",
    "        t_integracao = np.arange(DDE.t + t_inicial, DDE.t + t_final, dt)\n",
    "        \n",
    "        solucoes = []\n",
    "        for t in t_integracao:\n",
    "            solucoes.append(DDE.integrate(t))\n",
    "        \n",
    "        return solucoes, instantes_temporais"
   ]
  },
  {
   "cell_type": "markdown",
   "id": "meaning-reach",
   "metadata": {},
   "source": [
    "## 3. Testando a classe"
   ]
  },
  {
   "cell_type": "code",
   "execution_count": 25,
   "id": "overall-option",
   "metadata": {},
   "outputs": [],
   "source": [
    "t_inicial = 0\n",
    "t_final = 800\n",
    "tau = 6\n",
    "n = 10\n",
    "gamma = 0.1\n",
    "beta = 0.2\n",
    "theta = 1"
   ]
  },
  {
   "cell_type": "code",
   "execution_count": 26,
   "id": "raised-mortality",
   "metadata": {},
   "outputs": [],
   "source": [
    "macglass = mgeq.MackeyGlass(tau=tau, gamma=gamma, beta=beta, n=n, theta=theta)"
   ]
  },
  {
   "cell_type": "code",
   "execution_count": 27,
   "id": "exceptional-speaking",
   "metadata": {},
   "outputs": [
    {
     "name": "stdout",
     "output_type": "stream",
     "text": [
      "Generating, compiling, and loading C code.\n",
      "Using default integration parameters.\n"
     ]
    }
   ],
   "source": [
    "solucoes, instantes_temporais = macglass.calcular(t_inicial = t_inicial, t_final = t_final)"
   ]
  },
  {
   "cell_type": "markdown",
   "id": "organizational-episode",
   "metadata": {},
   "source": [
    "### 3.a) Série Temporal de Mackey-Glass"
   ]
  },
  {
   "cell_type": "code",
   "execution_count": 28,
   "id": "purple-tenant",
   "metadata": {},
   "outputs": [
    {
     "data": {
      "application/vnd.jupyter.widget-view+json": {
       "model_id": "4909be708d59423ba40cf6feb39472f8",
       "version_major": 2,
       "version_minor": 0
      },
      "text/plain": [
       "Canvas(toolbar=Toolbar(toolitems=[('Home', 'Reset original view', 'home', 'home'), ('Back', 'Back to previous …"
      ]
     },
     "metadata": {},
     "output_type": "display_data"
    }
   ],
   "source": [
    "fig, ax = plt.subplots()\n",
    "ax.set_title('Série temporal de 0 a 600 dias da equação de Mackey-Glass para\\n' + r'$\\tau =$ ' + str(tau) + r', $\\beta =$ ' + str(beta) + r', $\\gamma =$ ' + str(gamma) + r', $n =$ ' + str(n) + r' e $\\theta =$ ' + str(theta))\n",
    "ax.plot(instantes_temporais, solucoes, color='DeepSkyBlue')\n",
    "\n",
    "ax.set_ylabel('P(t)/')\n",
    "ax.set_xlabel('t')\n",
    "ax.set_xlim(0,)\n",
    "    \n",
    "ax.grid(True)\n",
    "\n",
    "fig.tight_layout()\n",
    "sns.despine()\n",
    "plt.show()"
   ]
  },
  {
   "cell_type": "markdown",
   "id": "certain-momentum",
   "metadata": {},
   "source": [
    "### 3.b) Atrator de Mackey-Glass"
   ]
  },
  {
   "cell_type": "markdown",
   "id": "accredited-robertson",
   "metadata": {},
   "source": [
    "#### Visualização em 2D"
   ]
  },
  {
   "cell_type": "code",
   "execution_count": 29,
   "id": "hidden-contrary",
   "metadata": {},
   "outputs": [],
   "source": [
    "p_atual_2D = np.array([])\n",
    "p_tau_2D = np.array([])   "
   ]
  },
  {
   "cell_type": "code",
   "execution_count": 30,
   "id": "equal-filing",
   "metadata": {},
   "outputs": [],
   "source": [
    "for i in range(tau, len(solucoes)):\n",
    "    p_atual_2D = np.append(p_atual_2D, solucoes[i])\n",
    "    p_tau_2D = np.append(p_tau_2D, solucoes[i - tau])"
   ]
  },
  {
   "cell_type": "code",
   "execution_count": 31,
   "id": "looking-shelter",
   "metadata": {},
   "outputs": [
    {
     "data": {
      "application/vnd.jupyter.widget-view+json": {
       "model_id": "2b0c32d5b2614db884d7be5526b6055f",
       "version_major": 2,
       "version_minor": 0
      },
      "text/plain": [
       "Canvas(toolbar=Toolbar(toolitems=[('Home', 'Reset original view', 'home', 'home'), ('Back', 'Back to previous …"
      ]
     },
     "metadata": {},
     "output_type": "display_data"
    }
   ],
   "source": [
    "fig, ax = plt.subplots()\n",
    "ax.set_title('Atrator de Mackey-Glass em 2D para ' + r'$\\tau =$ ' + str(tau) + r', $\\beta =$ ' + str(beta) + r', $\\gamma =$ ' + str(gamma) + r', $n =$ ' + str(n) + r' e $\\theta =$ ' + str(theta) + \n",
    "             ',\\n utilizando P(0) = ' + str(0.1*theta))\n",
    "ax.plot(p_atual_2D, p_tau_2D, color='White')\n",
    "\n",
    "ax.set_ylabel(r'P(t - $\\tau$)')\n",
    "ax.set_xlabel('P(t)')\n",
    "\n",
    "\n",
    "ax.grid(False)\n",
    "\n",
    "fig.tight_layout()\n",
    "sns.despine()\n",
    "plt.show()"
   ]
  },
  {
   "cell_type": "markdown",
   "id": "freelance-narrative",
   "metadata": {},
   "source": [
    "#### Visualização em 3D"
   ]
  },
  {
   "cell_type": "code",
   "execution_count": 32,
   "id": "another-making",
   "metadata": {},
   "outputs": [],
   "source": [
    "p_atual_3D = np.array([])\n",
    "p_tau_3D = np.array([])   \n",
    "p_2tau_3D = np.array([])"
   ]
  },
  {
   "cell_type": "code",
   "execution_count": 33,
   "id": "broke-train",
   "metadata": {},
   "outputs": [],
   "source": [
    "for i in range(2*tau, len(solucoes)):\n",
    "    p_atual_3D = np.append(p_atual_3D, solucoes[i])\n",
    "    p_tau_3D = np.append(p_tau_3D, solucoes[i - tau])\n",
    "    p_2tau_3D = np.append(p_2tau_3D, solucoes[i - 2*tau])"
   ]
  },
  {
   "cell_type": "code",
   "execution_count": 34,
   "id": "affiliated-incidence",
   "metadata": {},
   "outputs": [
    {
     "data": {
      "application/vnd.jupyter.widget-view+json": {
       "model_id": "946c29bc0ac34384b2e1c7d0103dcb35",
       "version_major": 2,
       "version_minor": 0
      },
      "text/plain": [
       "Canvas(toolbar=Toolbar(toolitems=[('Home', 'Reset original view', 'home', 'home'), ('Back', 'Back to previous …"
      ]
     },
     "metadata": {},
     "output_type": "display_data"
    }
   ],
   "source": [
    "fig, ax = plt.subplots()\n",
    "ax = plt.axes(projection='3d')\n",
    "\n",
    "ax.set_title('Atrator de Mackey-Glass em 3D para ' + r'$\\tau =$ ' + str(tau) + r', $\\beta =$ ' + str(beta) + r', $\\gamma =$ ' + str(gamma) + r', $n =$ ' + str(n) + r' e $\\theta =$ ' + str(theta) + \n",
    "             ',\\n utilizando P(0) = ' + str(0.1*theta))\n",
    "ax.plot(p_atual_3D, p_tau_3D, p_2tau_3D, color='White')\n",
    "\n",
    "ax.set_xlabel('P(t)')\n",
    "ax.set_ylabel(r'P(t - $\\tau$)')\n",
    "ax.set_zlabel(r'P(t - 2$\\tau$)')\n",
    "\n",
    "\n",
    "ax.w_xaxis.set_pane_color((0, 0, 0, 0))\n",
    "ax.w_yaxis.set_pane_color((0, 0, 0, 0))\n",
    "ax.w_zaxis.set_pane_color((0, 0, 0, 0))\n",
    "\n",
    "ax.grid(False)\n",
    "\n",
    "fig.tight_layout()\n",
    "sns.despine()\n",
    "plt.show()"
   ]
  },
  {
   "cell_type": "code",
   "execution_count": null,
   "id": "eleven-salvation",
   "metadata": {},
   "outputs": [],
   "source": []
  }
 ],
 "metadata": {
  "kernelspec": {
   "display_name": "pibic2020-env",
   "language": "python",
   "name": "pibic2020-env"
  },
  "language_info": {
   "codemirror_mode": {
    "name": "ipython",
    "version": 3
   },
   "file_extension": ".py",
   "mimetype": "text/x-python",
   "name": "python",
   "nbconvert_exporter": "python",
   "pygments_lexer": "ipython3",
   "version": "3.8.5"
  }
 },
 "nbformat": 4,
 "nbformat_minor": 5
}
