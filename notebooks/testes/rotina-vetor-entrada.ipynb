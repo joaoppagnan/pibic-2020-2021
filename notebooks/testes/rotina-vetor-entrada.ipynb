{
 "cells": [
  {
   "cell_type": "markdown",
   "id": "statewide-carroll",
   "metadata": {},
   "source": [
    "# Testes da rotina que gera os vetores de entrada com base em uma série temporal"
   ]
  },
  {
   "cell_type": "markdown",
   "id": "apart-interval",
   "metadata": {},
   "source": [
    "## 1. Importando as bibliotecas necessárias"
   ]
  },
  {
   "cell_type": "markdown",
   "id": "imposed-pilot",
   "metadata": {},
   "source": [
    "### Bibliotecas obrigatórias"
   ]
  },
  {
   "cell_type": "code",
   "execution_count": 5,
   "id": "boolean-healing",
   "metadata": {},
   "outputs": [],
   "source": [
    "import numpy as np"
   ]
  },
  {
   "cell_type": "markdown",
   "id": "valued-pittsburgh",
   "metadata": {},
   "source": [
    "### Bibliotecas não-obrigatórias"
   ]
  },
  {
   "cell_type": "code",
   "execution_count": 2,
   "id": "amazing-detective",
   "metadata": {},
   "outputs": [],
   "source": [
    "import sys \n",
    "sys.path.insert(0, '../../scripts')\n",
    "import timeseries as ts"
   ]
  },
  {
   "cell_type": "markdown",
   "id": "plain-douglas",
   "metadata": {},
   "source": [
    "## 2. Definindo a função (debug)"
   ]
  },
  {
   "cell_type": "markdown",
   "id": "mediterranean-jonathan",
   "metadata": {},
   "source": [
    "Não é necessário executar essa linha se você estiver importando o arquivo com a classe."
   ]
  },
  {
   "cell_type": "code",
   "execution_count": 6,
   "id": "passive-extreme",
   "metadata": {},
   "outputs": [],
   "source": [
    "class SerieTemporal:\n",
    "\n",
    "    def __init__(self, dados, K, L):\n",
    "        \"\"\"\n",
    "        Descrição:\n",
    "        ----------\n",
    "        Construtor da classe 'SerieTemporal'\n",
    "\n",
    "        Parâmetros:\n",
    "        -----------\n",
    "        dados: np.ndarray\n",
    "            Conjunto de valores da série temporal\n",
    "        K: int\n",
    "            O número de entradas utilizado para a predição\n",
    "        L: int\n",
    "            O passo de predição     \n",
    "        \"\"\"\n",
    "\n",
    "        if not type(dados) is np.ndarray:\n",
    "            raise TypeError(\"Os dados devem ser um array do numpy!\")        \n",
    "\n",
    "        if (K <= 0):\n",
    "            raise ValueError(\"O hiperparâmetro 'K' deve ser um inteiro positivo!\")\n",
    "\n",
    "        if (L > len(dados)):\n",
    "            raise ValueError(\"L deve ser menor que o número de dados temporais!\")\n",
    "\n",
    "        self.__dados = dados\n",
    "        self.__K = K\n",
    "        self.__L = L\n",
    "        self._matriz_entrada = np.array([])\n",
    "        self._matriz_saida = np.array([])\n",
    "\n",
    "        pass\n",
    "\n",
    "    def _criar_vetores(self, indice):\n",
    "        \"\"\"\n",
    "        Descrição:\n",
    "        ----------\n",
    "        Função para criar os vetores de entrada e saída para as etapas de treinamento e teste para uma série temporal.\n",
    "    \n",
    "        Parâmetros:\n",
    "        -----------\n",
    "        indice: int\n",
    "            A posicao a partir da qual se deseja prever algum valor\n",
    "        \"\"\"\n",
    "\n",
    "        K, L = self.__K, self.__L\n",
    "        dados = self.__dados\n",
    "    \n",
    "        # checa se a partir da posição atual podemos criar um vetor de amostras dado um K\n",
    "        if ((indice + 1) < (K - 1)):\n",
    "            raise ValueError(\"(indice + 1) = \"+str(indice + 1)+\" deve ser maior ou igual a (K - 1) = \"+str(K - 1)+\" !\")\n",
    "        \n",
    "        # checa se o valor que queremos prever (que vai ser armazenado na matriz de saida), está dentro da série temporal\n",
    "        if ((indice+L) > (len(dados)-1)):\n",
    "            raise ValueError(\"O passo de predição (L = \"+str(L)+\") somado com o índice atual (indice = \"+str(indice)+\") não deve estourar o número de dados na série temporal!\")\n",
    "    \n",
    "        vetor_entrada = np.array(dados[(indice-(K-1)):(indice+1)])\n",
    "        vetor_entrada = np.insert(vetor_entrada, 0, 1) # insere o elemento x^0 no vetor\n",
    "        vetor_saida = np.array(dados[indice+L])\n",
    "\n",
    "        return vetor_entrada, vetor_saida    \n",
    "\n",
    "    def dividir_treino_teste(self, tam_teste):\n",
    "        \"\"\"\n",
    "        Descrição:\n",
    "        ----------\n",
    "        Função para selecionar os 'n' primeiros dados das matrizes para o treinamento.\n",
    "\n",
    "        Parâmetros:\n",
    "        -----------\n",
    "        tam_teste: float\n",
    "            Proporção de dados que iremos separar para o teste. Deve ser entre 0.0 e 1.0.\n",
    "        \"\"\"\n",
    "        \n",
    "        if ((tam_teste < 0.0) | (tam_teste > 1.0)):\n",
    "            raise ValueError(\"A proporção dos dados de teste deve ser entre 0.0 e 1.0!\")\n",
    "            \n",
    "        matriz_entrada = self._matriz_entrada\n",
    "        matriz_saida = self._matriz_saida\n",
    "            \n",
    "        tam_treino = 1.0 - tam_teste\n",
    "        n_dados = len(matriz_saida)\n",
    "\n",
    "        return (matriz_entrada[:int(tam_treino*n_dados)], matriz_entrada[int(n_dados*(1 - tam_teste)):],\n",
    "                matriz_saida[:int(tam_treino*n_dados)], matriz_saida[int(n_dados*(1 - tam_teste)):])\n",
    "\n",
    "    def criar_matrizes(self):\n",
    "        \"\"\"\n",
    "        Descrição:\n",
    "        ----------\n",
    "        Função para criar as matrizes com os vetores de entrada e saída para as etapas de treinamento e teste.\n",
    "    \n",
    "        Parâmetros:\n",
    "        -----------\n",
    "        Nenhum\n",
    "        \"\"\"\n",
    "    \n",
    "        K, L = self.__K, self.__L\n",
    "        num_dados = len(self.__dados)\n",
    "    \n",
    "        for indice in range((K-1), (num_dados-L)):\n",
    "            vetor_entrada, vetor_saida = self._criar_vetores(indice)\n",
    "        \n",
    "            if (len(self._matriz_entrada) == 0):\n",
    "                self._matriz_entrada = vetor_entrada\n",
    "            else:\n",
    "                self._matriz_entrada = np.vstack((self._matriz_entrada, vetor_entrada))\n",
    "                \n",
    "            if (len(self._matriz_saida) == 0):\n",
    "                self._matriz_saida = np.array([vetor_saida])\n",
    "            else:\n",
    "                self._matriz_saida = np.vstack((self._matriz_saida, vetor_saida))\n",
    "\n",
    "        pass"
   ]
  },
  {
   "cell_type": "markdown",
   "id": "utility-edwards",
   "metadata": {},
   "source": [
    "## 3. Testando"
   ]
  },
  {
   "cell_type": "code",
   "execution_count": 7,
   "id": "exact-bouquet",
   "metadata": {},
   "outputs": [],
   "source": [
    "serie_temporal = SerieTemporal(dados=np.array(range(0, 100)), K=4, L=1)"
   ]
  },
  {
   "cell_type": "code",
   "execution_count": 8,
   "id": "inner-analyst",
   "metadata": {},
   "outputs": [],
   "source": [
    "serie_temporal.criar_matrizes()"
   ]
  },
  {
   "cell_type": "code",
   "execution_count": 9,
   "id": "ranking-health",
   "metadata": {},
   "outputs": [],
   "source": [
    "X_treino, X_teste, y_treino, y_teste = serie_temporal.dividir_treino_teste(tam_teste=0.35)"
   ]
  },
  {
   "cell_type": "code",
   "execution_count": null,
   "id": "medieval-track",
   "metadata": {},
   "outputs": [],
   "source": [
    "print(\"Matriz de entrada do conjunto de treinamento:\\n\", X_treino, \"\\n\")\n",
    "print(\"Matriz de saída do conjunto de treinamento:\\n\", y_treino, \"\\n\")\n",
    "print(\"Matriz de entrada do conjunto de teste:\\n\", X_teste, \"\\n\")\n",
    "print(\"Matriz de saída do conjunto de teste:\\n\", y_teste)"
   ]
  }
 ],
 "metadata": {
  "kernelspec": {
   "display_name": "pibic2020-env",
   "language": "python",
   "name": "pibic2020-env"
  },
  "language_info": {
   "codemirror_mode": {
    "name": "ipython",
    "version": 3
   },
   "file_extension": ".py",
   "mimetype": "text/x-python",
   "name": "python",
   "nbconvert_exporter": "python",
   "pygments_lexer": "ipython3",
   "version": "3.8.5"
  }
 },
 "nbformat": 4,
 "nbformat_minor": 5
}
