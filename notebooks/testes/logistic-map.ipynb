{
 "cells": [
  {
   "cell_type": "markdown",
   "id": "fewer-income",
   "metadata": {},
   "source": [
    "# Testes da rotina da classe do Mapa Logístico"
   ]
  },
  {
   "cell_type": "markdown",
   "id": "horizontal-serial",
   "metadata": {},
   "source": [
    "## 1. Importando as bibliotecas necessárias"
   ]
  },
  {
   "cell_type": "markdown",
   "id": "fatal-breed",
   "metadata": {},
   "source": [
    "### Bibliotecas obrigatórias"
   ]
  },
  {
   "cell_type": "code",
   "execution_count": 58,
   "id": "important-editing",
   "metadata": {},
   "outputs": [],
   "source": [
    "import numpy as np\n",
    "\n",
    "#%matplotlib widget\n",
    "import matplotlib.pyplot as plt\n",
    "\n",
    "import seaborn as sns # a biblioteca 'seaborn' contém vários estilos para os gráficos do 'matpĺotlib'\n",
    "\n",
    "# agora, melhoramos a qualidade de saida e de visualizacao da imagem \n",
    "# alem de mudar a fonte padrao para uma do latex\n",
    "sns.set_style(\"ticks\")\n",
    "plt.rcParams['savefig.dpi'] = 200\n",
    "plt.rcParams[\"figure.dpi\"] = 100\n",
    "\n",
    "plt.rcParams.update({\n",
    "    \"text.usetex\": True,\n",
    "    \"font.family\": \"serif\",\n",
    "    \"font.serif\": [\"Palatino\"],\n",
    "})"
   ]
  },
  {
   "cell_type": "markdown",
   "id": "capital-hostel",
   "metadata": {},
   "source": [
    "### Bibliotecas não-obrigatórias"
   ]
  },
  {
   "cell_type": "code",
   "execution_count": 2,
   "id": "incorrect-selling",
   "metadata": {},
   "outputs": [],
   "source": [
    "import sys \n",
    "sys.path.insert(0, '../../scripts')\n",
    "import logisticmap as lm"
   ]
  },
  {
   "cell_type": "markdown",
   "id": "electrical-trading",
   "metadata": {},
   "source": [
    "## 2. Definindo a função (debug)"
   ]
  },
  {
   "cell_type": "markdown",
   "id": "dedicated-shape",
   "metadata": {},
   "source": [
    "Não é necessário executar essa linha se você estiver importando o arquivo com a classe."
   ]
  },
  {
   "cell_type": "code",
   "execution_count": 61,
   "id": "retained-weekly",
   "metadata": {},
   "outputs": [],
   "source": [
    "class MapaLogistico:\n",
    "\n",
    "    def __init__(self, r, x_inicial):\n",
    "        \"\"\"\n",
    "        Descrição:\n",
    "        ----------\n",
    "        Construtor da classe 'MapaHenon'\n",
    "\n",
    "        Parâmetros:\n",
    "        -----------\n",
    "        r: float\n",
    "            Parâmetro do Mapa Logístico representando a taxa de crescimento populacional. Deve ser entre 0.0 e 4.0.\n",
    "        x_inicial: float\n",
    "            População inicial, deve variar entre 0 e 1.\n",
    "        \"\"\"\n",
    "\n",
    "        if not ((type(r) is float) & ((r >= 0) & (r <= 4) )):\n",
    "            raise TypeError(\"A taxa de crescimento populacional deve ser um float entre 0.0 e 4.0!\")\n",
    "            \n",
    "        if not ((type(x_inicial) is float) & ((x_inicial >= 0) & (x_inicial <= 1))):\n",
    "            raise TypeError(\"A população inicial deve ser um float!\")\n",
    "\n",
    "        self.__r = r\n",
    "        self._x_atual = x_inicial\n",
    "        \n",
    "        pass\n",
    "\n",
    "    def iterar(self):\n",
    "        \"\"\"\n",
    "        Descrição:\n",
    "        ----------\n",
    "        Aplicar as equações de diferenças do Mapa Logístico para os pontos e parâmetrs atuais\n",
    "\n",
    "        Parâmetros:\n",
    "        -----------\n",
    "        Nenhum\n",
    "        \"\"\"\n",
    "        \n",
    "        r = self.__r\n",
    "        x = self._x_atual\n",
    "\n",
    "        prox_x = r*x*(1 - x)\n",
    "        self._x_atual = prox_x\n",
    "        \n",
    "        pass\n",
    "\n",
    "    def posicao(self):\n",
    "        \"\"\"\n",
    "        Descrição:\n",
    "        ----------\n",
    "        Retorna a posição x do mapa\n",
    "\n",
    "        Parâmetros:\n",
    "        -----------\n",
    "        Nenhum\n",
    "        \"\"\"\n",
    "\n",
    "        x = self._x_atual\n",
    "        \n",
    "        posicao = np.array([x])\n",
    "        return posicao"
   ]
  },
  {
   "cell_type": "markdown",
   "id": "diverse-merchandise",
   "metadata": {},
   "source": [
    "## 3. Testando"
   ]
  },
  {
   "cell_type": "code",
   "execution_count": 62,
   "id": "honest-sunrise",
   "metadata": {},
   "outputs": [],
   "source": [
    "r = 0.0\n",
    "x_inicial = float(0.5)\n",
    "\n",
    "mapa = MapaLogistico(r_inicial=r, x_inicial=x_inicial)"
   ]
  },
  {
   "cell_type": "code",
   "execution_count": 63,
   "id": "material-ontario",
   "metadata": {
    "tags": []
   },
   "outputs": [],
   "source": [
    "x = np.array([])\n",
    "prox_x = np.array([])\n",
    "n_iteracoes = 100000\n",
    "\n",
    "for n in range(0, n_iteracoes):\n",
    "    x = np.append(x, mapa.posicao())\n",
    "    mapa.iterar()\n",
    "    prox_x = np.append(prox_x, mapa.posicao())"
   ]
  },
  {
   "cell_type": "code",
   "execution_count": 64,
   "id": "affected-nicholas",
   "metadata": {},
   "outputs": [
    {
     "data": {
      "image/png": "[encoded data removed]",
      "text/plain": [
       "<Figure size 600x400 with 1 Axes>"
      ]
     },
     "metadata": {},
     "output_type": "display_data"
    }
   ],
   "source": [
    "fig, ax = plt.subplots()\n",
    "ax.scatter(x, prox_x, color='Black', s = 0.5, marker=\".\")\n",
    "\n",
    "#ax.set_title(str(n_iteracoes) + \" iterações do Mapa de Hénon para $a =$\" + str(a) + \" e $b =$ \" + str(b) + \"\\n com $x_{0} =$ \" + str(x[0]) + \" e $y_{0} =$ \" + str(y[0]))\n",
    "ax.set_ylabel('y')\n",
    "ax.set_xlabel('x')\n",
    "    \n",
    "ax.grid(False)\n",
    "sns.despine()\n",
    "plt.show()"
   ]
  },
  {
   "cell_type": "code",
   "execution_count": null,
   "id": "chicken-instrumentation",
   "metadata": {},
   "outputs": [],
   "source": []
  }
 ],
 "metadata": {
  "kernelspec": {
   "display_name": "pibic2020-env",
   "language": "python",
   "name": "pibic2020-env"
  },
  "language_info": {
   "codemirror_mode": {
    "name": "ipython",
    "version": 3
   },
   "file_extension": ".py",
   "mimetype": "text/x-python",
   "name": "python",
   "nbconvert_exporter": "python",
   "pygments_lexer": "ipython3",
   "version": "3.8.5"
  }
 },
 "nbformat": 4,
 "nbformat_minor": 5
}
