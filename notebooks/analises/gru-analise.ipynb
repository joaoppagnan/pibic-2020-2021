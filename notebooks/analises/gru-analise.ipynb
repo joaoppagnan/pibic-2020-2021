{
 "cells": [
  {
   "cell_type": "markdown",
   "id": "fa0ac8ad",
   "metadata": {},
   "source": [
    "# Analisando os resultados da GRU nos cenários de sistemas caóticos testados"
   ]
  },
  {
   "cell_type": "markdown",
   "id": "fe4ee508",
   "metadata": {},
   "source": [
    "## 1. Importando as bibliotecas necessárias"
   ]
  },
  {
   "cell_type": "markdown",
   "id": "6731eff1",
   "metadata": {},
   "source": [
    "### Bibliotecas Externas"
   ]
  },
  {
   "cell_type": "code",
   "execution_count": 1,
   "id": "3689aa99",
   "metadata": {},
   "outputs": [],
   "source": [
    "import numpy as np\n",
    "import pandas as pd\n",
    "\n",
    "import tensorflow as tf\n",
    "physical_devices = tf.config.list_physical_devices('GPU')"
   ]
  },
  {
   "cell_type": "markdown",
   "id": "8f38e000",
   "metadata": {},
   "source": [
    "### Bibliotecas do projeto"
   ]
  },
  {
   "cell_type": "code",
   "execution_count": 2,
   "id": "05ede887",
   "metadata": {},
   "outputs": [],
   "source": [
    "# arquivos de configurações\n",
    "from pibic2020.parameters.gru import *\n",
    "from pibic2020.parameters import k_set\n",
    "\n",
    "# sistemas caoticos\n",
    "from pibic2020.data import henon\n",
    "from pibic2020.data import logistic\n",
    "from pibic2020.data import lorenz\n",
    "from pibic2020.data import mackeyglass\n",
    "\n",
    "# avaliação do modelo\n",
    "from pibic2020.tools import evaluate"
   ]
  },
  {
   "cell_type": "markdown",
   "id": "bc78afd2",
   "metadata": {},
   "source": [
    "## 2. Modelo a ser testado"
   ]
  },
  {
   "cell_type": "code",
   "execution_count": 3,
   "id": "1fac43fa",
   "metadata": {},
   "outputs": [],
   "source": [
    "modelo = 'GRU'"
   ]
  },
  {
   "cell_type": "markdown",
   "id": "61faabf9",
   "metadata": {},
   "source": [
    "## Gerando os dados"
   ]
  },
  {
   "cell_type": "markdown",
   "id": "ddfdb664",
   "metadata": {},
   "source": [
    "### Mapa de Hénon"
   ]
  },
  {
   "cell_type": "code",
   "execution_count": 4,
   "id": "c4ca2401",
   "metadata": {},
   "outputs": [],
   "source": [
    "mapa_henon = henon.MapaHenon()"
   ]
  },
  {
   "cell_type": "code",
   "execution_count": 5,
   "id": "63ae19f5",
   "metadata": {},
   "outputs": [],
   "source": [
    "n_iteracoes = 5000\n",
    "vetor_estados = mapa_henon.simular(n_iteracoes)\n",
    "dados_henon = vetor_estados[:, 0]"
   ]
  },
  {
   "cell_type": "markdown",
   "id": "14393ed8",
   "metadata": {},
   "source": [
    "### Mapa logístico"
   ]
  },
  {
   "cell_type": "code",
   "execution_count": 6,
   "id": "e39ff544",
   "metadata": {},
   "outputs": [],
   "source": [
    "mapa_logistico = logistic.MapaLogistico()"
   ]
  },
  {
   "cell_type": "code",
   "execution_count": 7,
   "id": "cc8d2846",
   "metadata": {},
   "outputs": [],
   "source": [
    "n_iteracoes = 5000\n",
    "vetor_estados = mapa_logistico.simular(n_iteracoes)\n",
    "dados_logistic = vetor_estados[:, 0]"
   ]
  },
  {
   "cell_type": "markdown",
   "id": "6b5a7ddf",
   "metadata": {},
   "source": [
    "### Sistema de Lorenz"
   ]
  },
  {
   "cell_type": "code",
   "execution_count": 8,
   "id": "da19b4c9",
   "metadata": {},
   "outputs": [],
   "source": [
    "sistema_lorenz = lorenz.SistemaLorenz(estado_inicial=np.array([0.1, 0, 0]), dt=0.01)"
   ]
  },
  {
   "cell_type": "code",
   "execution_count": 9,
   "id": "e85b033a",
   "metadata": {},
   "outputs": [],
   "source": [
    "t_inicial = 0\n",
    "t_final = 50\n",
    "vetor_estados, instantes_temporais = sistema_lorenz.calcular(t_inicial=t_inicial, t_final=t_final)\n",
    "dados_lorenz = vetor_estados[:, 0]"
   ]
  },
  {
   "cell_type": "markdown",
   "id": "21bed59e",
   "metadata": {},
   "source": [
    "### Equações de Mackey-Glass"
   ]
  },
  {
   "cell_type": "code",
   "execution_count": 10,
   "id": "97aebde1",
   "metadata": {},
   "outputs": [],
   "source": [
    "t_inicial = 0\n",
    "t_final = 5000\n",
    "tau = 22\n",
    "n = 10\n",
    "gamma = 0.1\n",
    "beta = 0.2\n",
    "theta = 1"
   ]
  },
  {
   "cell_type": "code",
   "execution_count": 11,
   "id": "d3a7cd74",
   "metadata": {},
   "outputs": [],
   "source": [
    "mackeyglass_eq = mackeyglass.MackeyGlass(tau=tau, gamma=gamma, beta=beta, n=n, theta=theta)"
   ]
  },
  {
   "cell_type": "code",
   "execution_count": 12,
   "id": "b346213b",
   "metadata": {},
   "outputs": [],
   "source": [
    "dados_mackeyglass, instantes_temporais = mackeyglass_eq.calcular(t_inicial=t_inicial, t_final=t_final)"
   ]
  },
  {
   "cell_type": "markdown",
   "id": "ff251c0d",
   "metadata": {},
   "source": [
    "## 3. Análise para o Mapa de Hénon"
   ]
  },
  {
   "cell_type": "markdown",
   "id": "ddf0ebf6",
   "metadata": {},
   "source": [
    "### Pegando o arquivo com as configurações"
   ]
  },
  {
   "cell_type": "code",
   "execution_count": 6,
   "id": "fd4e1534",
   "metadata": {},
   "outputs": [],
   "source": [
    "config = gru_henon.gru_henon"
   ]
  },
  {
   "cell_type": "code",
   "execution_count": 7,
   "id": "a655f371",
   "metadata": {},
   "outputs": [],
   "source": [
    "conjunto_k = k_set.K_set[\"K_henon\"]"
   ]
  },
  {
   "cell_type": "markdown",
   "id": "67f48739",
   "metadata": {},
   "source": [
    "### Executando a avaliação"
   ]
  },
  {
   "cell_type": "code",
   "execution_count": 8,
   "id": "64c59dca",
   "metadata": {},
   "outputs": [
    {
     "name": "stdout",
     "output_type": "stream",
     "text": [
      "Testando para K = 1...\n",
      "Valor Médio do MSE para esse K: 0.1646257523551599\n",
      "Desvio Padrão do MSE para esse K: 0.013865242650975508\n",
      "\n",
      "Testando para K = 2...\n",
      "Valor Médio do MSE para esse K: 0.0043145613922332396\n",
      "Desvio Padrão do MSE para esse K: 0.001957805857871681\n",
      "\n",
      "Testando para K = 3...\n",
      "Valor Médio do MSE para esse K: 0.001252266778726026\n",
      "Desvio Padrão do MSE para esse K: 0.0010817906253134271\n",
      "\n",
      "Testando para K = 4...\n",
      "Valor Médio do MSE para esse K: 0.0007557461042864256\n",
      "Desvio Padrão do MSE para esse K: 0.0002607044775364099\n",
      "\n",
      "Testando para K = 5...\n",
      "Valor Médio do MSE para esse K: 0.0006826932812592812\n",
      "Desvio Padrão do MSE para esse K: 0.000364569064171183\n",
      "\n",
      "Testando para K = 6...\n",
      "Valor Médio do MSE para esse K: 0.0005685641650993704\n",
      "Desvio Padrão do MSE para esse K: 0.00022537039662111068\n",
      "\n",
      "Testando para K = 7...\n",
      "Valor Médio do MSE para esse K: 0.00044863039752801614\n",
      "Desvio Padrão do MSE para esse K: 8.766495410892208e-05\n",
      "\n",
      "Testando para K = 8...\n",
      "Valor Médio do MSE para esse K: 0.00024114644972076835\n",
      "Desvio Padrão do MSE para esse K: 0.00013911598796092697\n",
      "\n",
      "Testando para K = 9...\n",
      "Valor Médio do MSE para esse K: 0.00030068421423883767\n",
      "Desvio Padrão do MSE para esse K: 0.00021563905545562195\n",
      "\n"
     ]
    }
   ],
   "source": [
    "results_henon = evaluate.evaluate(modelo, dados_henon, config, conjunto_k, verbose=1)"
   ]
  },
  {
   "cell_type": "markdown",
   "id": "7b5414e7",
   "metadata": {},
   "source": [
    "### Salvando os resultados num .csv"
   ]
  },
  {
   "cell_type": "code",
   "execution_count": 11,
   "id": "909302a3",
   "metadata": {},
   "outputs": [],
   "source": [
    "results_henon = pd.DataFrame(results_henon, columns=['K', 'Media do MSE', 'Desvio Padrao do MSE'])"
   ]
  },
  {
   "cell_type": "code",
   "execution_count": 12,
   "id": "b28100e7",
   "metadata": {},
   "outputs": [],
   "source": [
    "results_henon.to_csv('../../results/gru/gru-henon.csv', index = False, header=True)"
   ]
  },
  {
   "cell_type": "markdown",
   "id": "ddba745a",
   "metadata": {},
   "source": [
    "## 4. Análise para o Mapa Logístico"
   ]
  },
  {
   "cell_type": "markdown",
   "id": "e49061e5",
   "metadata": {},
   "source": [
    "### Pegando o arquivo com as configurações"
   ]
  },
  {
   "cell_type": "code",
   "execution_count": 15,
   "id": "f610d925",
   "metadata": {},
   "outputs": [],
   "source": [
    "config = gru_logistic.gru_logistic"
   ]
  },
  {
   "cell_type": "code",
   "execution_count": 16,
   "id": "76182903",
   "metadata": {},
   "outputs": [],
   "source": [
    "conjunto_k = k_set.K_set[\"K_logistic\"]"
   ]
  },
  {
   "cell_type": "markdown",
   "id": "6859d133",
   "metadata": {},
   "source": [
    "### Executando a avaliação"
   ]
  },
  {
   "cell_type": "code",
   "execution_count": 17,
   "id": "7ca8b2ae",
   "metadata": {},
   "outputs": [
    {
     "name": "stdout",
     "output_type": "stream",
     "text": [
      "Testando para K = 1...\n",
      "Valor Médio do MSE para esse K: 0.0022960329369193684\n",
      "Desvio Padrão do MSE para esse K: 0.0021945097638538234\n",
      "\n",
      "Testando para K = 2...\n",
      "Valor Médio do MSE para esse K: 0.00015885623007905186\n",
      "Desvio Padrão do MSE para esse K: 4.244681049936508e-05\n",
      "\n",
      "Testando para K = 3...\n",
      "Valor Médio do MSE para esse K: 0.00019650099909881448\n",
      "Desvio Padrão do MSE para esse K: 8.491677972565855e-05\n",
      "\n",
      "Testando para K = 4...\n",
      "Valor Médio do MSE para esse K: 0.00033218813404209386\n",
      "Desvio Padrão do MSE para esse K: 0.00012968345799693588\n",
      "\n",
      "Testando para K = 5...\n",
      "Valor Médio do MSE para esse K: 0.000722631876195285\n",
      "Desvio Padrão do MSE para esse K: 0.0006237247909875487\n",
      "\n",
      "Testando para K = 6...\n",
      "Valor Médio do MSE para esse K: 0.00023116061509981578\n",
      "Desvio Padrão do MSE para esse K: 0.00013969854202886017\n",
      "\n",
      "Testando para K = 7...\n",
      "Valor Médio do MSE para esse K: 0.0002159020306866539\n",
      "Desvio Padrão do MSE para esse K: 0.00021279828334199363\n",
      "\n",
      "Testando para K = 8...\n",
      "Valor Médio do MSE para esse K: 0.00011725807681399102\n",
      "Desvio Padrão do MSE para esse K: 6.77868933713171e-05\n",
      "\n"
     ]
    }
   ],
   "source": [
    "results_logistic = evaluate.evaluate(modelo, dados_logistic, config, conjunto_k, verbose=1)"
   ]
  },
  {
   "cell_type": "markdown",
   "id": "e93f5faa",
   "metadata": {},
   "source": [
    "### Salvando os resultados num .csv"
   ]
  },
  {
   "cell_type": "code",
   "execution_count": 18,
   "id": "eb14a7cc",
   "metadata": {},
   "outputs": [],
   "source": [
    "results_logistic = pd.DataFrame(results_logistic, columns=['K', 'Media do MSE', 'Desvio Padrao do MSE'])"
   ]
  },
  {
   "cell_type": "code",
   "execution_count": 19,
   "id": "48383bdf",
   "metadata": {},
   "outputs": [],
   "source": [
    "results_logistic.to_csv('../../results/gru/gru-logistic.csv', index = False, header=True)"
   ]
  },
  {
   "cell_type": "markdown",
   "id": "c6cf06d8",
   "metadata": {},
   "source": [
    "## 5. Análise para o Sistema de Lorenz"
   ]
  },
  {
   "cell_type": "markdown",
   "id": "e502c83a",
   "metadata": {},
   "source": [
    "### Pegando o arquivo com as configurações"
   ]
  },
  {
   "cell_type": "code",
   "execution_count": 22,
   "id": "005f8bc7",
   "metadata": {},
   "outputs": [],
   "source": [
    "config = gru_lorenz.gru_lorenz"
   ]
  },
  {
   "cell_type": "code",
   "execution_count": 23,
   "id": "9ef80628",
   "metadata": {},
   "outputs": [],
   "source": [
    "conjunto_k = k_set.K_set[\"K_lorenz\"]"
   ]
  },
  {
   "cell_type": "markdown",
   "id": "cf4f2e03",
   "metadata": {},
   "source": [
    "### Executando a avaliação"
   ]
  },
  {
   "cell_type": "code",
   "execution_count": 25,
   "id": "ce915e48",
   "metadata": {},
   "outputs": [],
   "source": [
    "from sklearn.preprocessing import MinMaxScaler"
   ]
  },
  {
   "cell_type": "code",
   "execution_count": 26,
   "id": "363a4101",
   "metadata": {},
   "outputs": [],
   "source": [
    "scaler = MinMaxScaler(feature_range=(-1,1))"
   ]
  },
  {
   "cell_type": "code",
   "execution_count": 27,
   "id": "e56a1b42",
   "metadata": {},
   "outputs": [
    {
     "name": "stdout",
     "output_type": "stream",
     "text": [
      "Testando para K = 1...\n",
      "Valor Médio do MSE para esse K: 1.4474871484887013\n",
      "Desvio Padrão do MSE para esse K: 0.0035232677055866235\n",
      "\n",
      "Testando para K = 2...\n",
      "Valor Médio do MSE para esse K: 0.004896940250091972\n",
      "Desvio Padrão do MSE para esse K: 0.0007666017704532976\n",
      "\n",
      "Testando para K = 3...\n",
      "Valor Médio do MSE para esse K: 0.005308171297968187\n",
      "Desvio Padrão do MSE para esse K: 0.0013336767476013276\n",
      "\n",
      "Testando para K = 4...\n",
      "Valor Médio do MSE para esse K: 0.005502954665020701\n",
      "Desvio Padrão do MSE para esse K: 0.001162128597647708\n",
      "\n",
      "Testando para K = 5...\n",
      "Valor Médio do MSE para esse K: 0.00443299130132305\n",
      "Desvio Padrão do MSE para esse K: 0.00166984354587729\n",
      "\n",
      "Testando para K = 6...\n",
      "Valor Médio do MSE para esse K: 0.0023183365267914723\n",
      "Desvio Padrão do MSE para esse K: 0.0008711829068599523\n",
      "\n",
      "Testando para K = 7...\n",
      "Valor Médio do MSE para esse K: 0.003037242650963054\n",
      "Desvio Padrão do MSE para esse K: 0.002925777012430598\n",
      "\n",
      "Testando para K = 8...\n",
      "Valor Médio do MSE para esse K: 0.001532193513531678\n",
      "Desvio Padrão do MSE para esse K: 0.001164269773414111\n",
      "\n",
      "Testando para K = 9...\n",
      "Valor Médio do MSE para esse K: 0.0005611496104771938\n",
      "Desvio Padrão do MSE para esse K: 0.0003224702118224728\n",
      "\n",
      "Testando para K = 10...\n",
      "Valor Médio do MSE para esse K: 0.0005358588220055794\n",
      "Desvio Padrão do MSE para esse K: 0.0004945093641826127\n",
      "\n"
     ]
    }
   ],
   "source": [
    "results_lorenz = evaluate.evaluate(modelo, dados_lorenz, config, conjunto_k, verbose=1, scaler=scaler)"
   ]
  },
  {
   "cell_type": "markdown",
   "id": "c8b110b6",
   "metadata": {},
   "source": [
    "### Salvando os resultados num .csv"
   ]
  },
  {
   "cell_type": "code",
   "execution_count": 28,
   "id": "ba82b51f",
   "metadata": {},
   "outputs": [],
   "source": [
    "results_lorenz = pd.DataFrame(results_lorenz, columns=['K', 'Media do MSE', 'Desvio Padrao do MSE'])"
   ]
  },
  {
   "cell_type": "code",
   "execution_count": 29,
   "id": "88027cd8",
   "metadata": {},
   "outputs": [],
   "source": [
    "results_lorenz.to_csv('../../results/gru/gru-lorenz.csv', index = False, header=True)"
   ]
  },
  {
   "cell_type": "markdown",
   "id": "fe1f3e99",
   "metadata": {},
   "source": [
    "## 6. Análise para as equações de Mackey-Glass"
   ]
  },
  {
   "cell_type": "markdown",
   "id": "db8ad406",
   "metadata": {},
   "source": [
    "### Pegando o arquivo com as configurações"
   ]
  },
  {
   "cell_type": "code",
   "execution_count": 33,
   "id": "f22470ba",
   "metadata": {},
   "outputs": [],
   "source": [
    "config = gru_mackeyglass.gru_mackeyglass"
   ]
  },
  {
   "cell_type": "code",
   "execution_count": 34,
   "id": "22a0aa46",
   "metadata": {},
   "outputs": [],
   "source": [
    "conjunto_k = k_set.K_set[\"K_mackeyglass\"]"
   ]
  },
  {
   "cell_type": "markdown",
   "id": "1b83c50e",
   "metadata": {},
   "source": [
    "### Executando a avaliação"
   ]
  },
  {
   "cell_type": "code",
   "execution_count": 35,
   "id": "41eddc9e",
   "metadata": {},
   "outputs": [
    {
     "name": "stdout",
     "output_type": "stream",
     "text": [
      "Testando para K = 1...\n",
      "Valor Médio do MSE para esse K: 0.009243812172540089\n",
      "Desvio Padrão do MSE para esse K: 2.8732352495835505e-05\n",
      "\n",
      "Testando para K = 2...\n",
      "Valor Médio do MSE para esse K: 0.0009152928068398581\n",
      "Desvio Padrão do MSE para esse K: 1.2334313884757154e-05\n",
      "\n",
      "Testando para K = 3...\n",
      "Valor Médio do MSE para esse K: 0.00027802440233820684\n",
      "Desvio Padrão do MSE para esse K: 1.204081583666856e-05\n",
      "\n",
      "Testando para K = 4...\n",
      "Valor Médio do MSE para esse K: 0.0001075398764471735\n",
      "Desvio Padrão do MSE para esse K: 8.320906629107015e-06\n",
      "\n",
      "Testando para K = 5...\n",
      "Valor Médio do MSE para esse K: 6.608332210844083e-05\n",
      "Desvio Padrão do MSE para esse K: 2.3097606045698112e-05\n",
      "\n",
      "Testando para K = 6...\n",
      "Valor Médio do MSE para esse K: 8.06676825217944e-05\n",
      "Desvio Padrão do MSE para esse K: 2.6800122904735814e-05\n",
      "\n",
      "Testando para K = 7...\n",
      "Valor Médio do MSE para esse K: 4.3926294999663145e-05\n",
      "Desvio Padrão do MSE para esse K: 9.755455512424859e-06\n",
      "\n"
     ]
    }
   ],
   "source": [
    "results_mackeyglass = evaluate.evaluate(modelo, dados_mackeyglass, config, conjunto_k, verbose=1)"
   ]
  },
  {
   "cell_type": "markdown",
   "id": "fcb6dcd7",
   "metadata": {},
   "source": [
    "### Salvando os resultados num .csv"
   ]
  },
  {
   "cell_type": "code",
   "execution_count": 36,
   "id": "43d37cef",
   "metadata": {},
   "outputs": [],
   "source": [
    "results_mackeyglass = pd.DataFrame(results_mackeyglass, columns=['K', 'Media do MSE', 'Desvio Padrao do MSE'])"
   ]
  },
  {
   "cell_type": "code",
   "execution_count": 37,
   "id": "31837cf3",
   "metadata": {},
   "outputs": [],
   "source": [
    "results_mackeyglass.to_csv('../../results/gru/gru-mackeyglass.csv', index = False, header=True)"
   ]
  },
  {
   "cell_type": "markdown",
   "id": "24d216ad",
   "metadata": {},
   "source": [
    "## Avaliando os três melhores valores para K em cada cenário"
   ]
  },
  {
   "cell_type": "code",
   "execution_count": 13,
   "id": "157d57dd",
   "metadata": {},
   "outputs": [],
   "source": [
    "from pibic2020.parameters.gru import gru_best_k"
   ]
  },
  {
   "cell_type": "markdown",
   "id": "a6be3bda",
   "metadata": {},
   "source": [
    "### Análise para o Mapa de Hénon"
   ]
  },
  {
   "cell_type": "markdown",
   "id": "0da8ae01",
   "metadata": {},
   "source": [
    "#### Pegando o arquivo com as configurações"
   ]
  },
  {
   "cell_type": "code",
   "execution_count": 14,
   "id": "78e66323",
   "metadata": {},
   "outputs": [],
   "source": [
    "config = gru_henon.gru_henon"
   ]
  },
  {
   "cell_type": "code",
   "execution_count": 15,
   "id": "baf8b75b",
   "metadata": {},
   "outputs": [],
   "source": [
    "conjunto_k = gru_best_k.K_3best_henon_gru\n",
    "conjunto_k = [k-1 for k in conjunto_k]"
   ]
  },
  {
   "cell_type": "markdown",
   "id": "c0890cb4",
   "metadata": {},
   "source": [
    "#### Executando a avaliação"
   ]
  },
  {
   "cell_type": "code",
   "execution_count": 16,
   "id": "81f1d6dc",
   "metadata": {},
   "outputs": [
    {
     "name": "stdout",
     "output_type": "stream",
     "text": [
      "Testando para K = 8...\n",
      "Valor Médio do MSE para esse K: 0.0006083425568084427\n",
      "Desvio Padrão do MSE para esse K: 0.00028387671830152364\n",
      "\n",
      "Testando para K = 9...\n",
      "Valor Médio do MSE para esse K: 0.00033488216412494106\n",
      "Desvio Padrão do MSE para esse K: 7.26561345346872e-05\n",
      "\n",
      "Testando para K = 7...\n",
      "Valor Médio do MSE para esse K: 0.0004103801416017222\n",
      "Desvio Padrão do MSE para esse K: 0.00013541974808923212\n",
      "\n"
     ]
    }
   ],
   "source": [
    "results_henon = evaluate.evaluate(modelo, dados_henon, config, conjunto_k, verbose=1)"
   ]
  },
  {
   "cell_type": "markdown",
   "id": "27626426",
   "metadata": {},
   "source": [
    "### Salvando os dados"
   ]
  },
  {
   "cell_type": "code",
   "execution_count": 17,
   "id": "a9dce71d",
   "metadata": {},
   "outputs": [],
   "source": [
    "results_henon_3best = pd.DataFrame(results_henon, columns=['K', 'Media do MSE', 'Desvio Padrao do MSE'])"
   ]
  },
  {
   "cell_type": "code",
   "execution_count": 18,
   "id": "f0ccd9a7",
   "metadata": {},
   "outputs": [],
   "source": [
    "results_henon_3best.to_csv('../../results/gru/gru-henon-3best.csv', index = False, header=True)"
   ]
  },
  {
   "cell_type": "markdown",
   "id": "14e40246",
   "metadata": {},
   "source": [
    "### Análise para o Mapa logístico"
   ]
  },
  {
   "cell_type": "markdown",
   "id": "616942ce",
   "metadata": {},
   "source": [
    "#### Pegando o arquivo com as configurações"
   ]
  },
  {
   "cell_type": "code",
   "execution_count": 19,
   "id": "7a8c03ba",
   "metadata": {},
   "outputs": [],
   "source": [
    "config = gru_logistic.gru_logistic"
   ]
  },
  {
   "cell_type": "code",
   "execution_count": 20,
   "id": "95279267",
   "metadata": {},
   "outputs": [],
   "source": [
    "conjunto_k = gru_best_k.K_3best_logistic_gru\n",
    "conjunto_k = [k-1 for k in conjunto_k]"
   ]
  },
  {
   "cell_type": "markdown",
   "id": "eeaf07e9",
   "metadata": {},
   "source": [
    "#### Executando a avaliação"
   ]
  },
  {
   "cell_type": "code",
   "execution_count": 21,
   "id": "be7eff10",
   "metadata": {},
   "outputs": [
    {
     "name": "stdout",
     "output_type": "stream",
     "text": [
      "Testando para K = 8...\n",
      "Valor Médio do MSE para esse K: 0.00010536836659957182\n",
      "Desvio Padrão do MSE para esse K: 4.885077111016405e-05\n",
      "\n",
      "Testando para K = 2...\n",
      "Valor Médio do MSE para esse K: 0.00013203862931001053\n",
      "Desvio Padrão do MSE para esse K: 6.866362681692923e-05\n",
      "\n",
      "Testando para K = 3...\n",
      "Valor Médio do MSE para esse K: 0.00013791098884269456\n",
      "Desvio Padrão do MSE para esse K: 3.348551289901722e-05\n",
      "\n"
     ]
    }
   ],
   "source": [
    "results_logistic = evaluate.evaluate(modelo, dados_logistic, config, conjunto_k, verbose=1)"
   ]
  },
  {
   "cell_type": "markdown",
   "id": "be229878",
   "metadata": {},
   "source": [
    "### Salvando os dados"
   ]
  },
  {
   "cell_type": "code",
   "execution_count": 24,
   "id": "d0816ae1",
   "metadata": {},
   "outputs": [],
   "source": [
    "results_logistic_3best = pd.DataFrame(results_logistic, columns=['K', 'Media do MSE', 'Desvio Padrao do MSE'])"
   ]
  },
  {
   "cell_type": "code",
   "execution_count": 25,
   "id": "4dbc040a",
   "metadata": {},
   "outputs": [],
   "source": [
    "results_logistic_3best.to_csv('../../results/gru/gru-logistic-3best.csv', index = False, header=True)"
   ]
  },
  {
   "cell_type": "markdown",
   "id": "60bf12cb",
   "metadata": {},
   "source": [
    "### Análise para o sistema de Lorenz"
   ]
  },
  {
   "cell_type": "markdown",
   "id": "4633e79f",
   "metadata": {},
   "source": [
    "#### Pegando o arquivo com as configurações"
   ]
  },
  {
   "cell_type": "code",
   "execution_count": 38,
   "id": "b140121f",
   "metadata": {},
   "outputs": [],
   "source": [
    "config = gru_lorenz.gru_lorenz"
   ]
  },
  {
   "cell_type": "code",
   "execution_count": 39,
   "id": "4cbe900d",
   "metadata": {},
   "outputs": [],
   "source": [
    "conjunto_k = gru_best_k.K_3best_lorenz_gru\n",
    "conjunto_k = [k-1 for k in conjunto_k]"
   ]
  },
  {
   "cell_type": "markdown",
   "id": "89cdc72d",
   "metadata": {},
   "source": [
    "#### Executando a avaliação"
   ]
  },
  {
   "cell_type": "code",
   "execution_count": 41,
   "id": "bf443bf2",
   "metadata": {},
   "outputs": [
    {
     "name": "stdout",
     "output_type": "stream",
     "text": [
      "Testando para K = 10...\n",
      "Valor Médio do MSE para esse K: 0.0003020062586595047\n",
      "Desvio Padrão do MSE para esse K: 0.0003998196476567911\n",
      "\n",
      "Testando para K = 9...\n",
      "Valor Médio do MSE para esse K: 0.0004512017434400014\n",
      "Desvio Padrão do MSE para esse K: 0.0004481283039000262\n",
      "\n",
      "Testando para K = 8...\n",
      "Valor Médio do MSE para esse K: 0.0004904613659854261\n",
      "Desvio Padrão do MSE para esse K: 0.00038676028640280023\n",
      "\n"
     ]
    }
   ],
   "source": [
    "results_lorenz = evaluate.evaluate(modelo, dados_lorenz, config, conjunto_k, verbose=1)"
   ]
  },
  {
   "cell_type": "markdown",
   "id": "65e32e69",
   "metadata": {},
   "source": [
    "### Salvando os dados"
   ]
  },
  {
   "cell_type": "code",
   "execution_count": 42,
   "id": "984e9b58",
   "metadata": {},
   "outputs": [],
   "source": [
    "results_lorenz_3best = pd.DataFrame(results_lorenz, columns=['K', 'Media do MSE', 'Desvio Padrao do MSE'])"
   ]
  },
  {
   "cell_type": "code",
   "execution_count": 43,
   "id": "e89799e0",
   "metadata": {},
   "outputs": [],
   "source": [
    "results_lorenz_3best.to_csv('../../results/gru/gru-lorenz-3best.csv', index = False, header=True)"
   ]
  },
  {
   "cell_type": "markdown",
   "id": "347fbbec",
   "metadata": {},
   "source": [
    "### Análise para as equações de Mackey-Glass"
   ]
  },
  {
   "cell_type": "markdown",
   "id": "f1da99b9",
   "metadata": {},
   "source": [
    "#### Pegando o arquivo com as configurações"
   ]
  },
  {
   "cell_type": "code",
   "execution_count": 44,
   "id": "e287aa21",
   "metadata": {},
   "outputs": [],
   "source": [
    "config = gru_mackeyglass.gru_mackeyglass"
   ]
  },
  {
   "cell_type": "code",
   "execution_count": 45,
   "id": "f3e46c4d",
   "metadata": {},
   "outputs": [],
   "source": [
    "conjunto_k = gru_best_k.k_3best_mackeyglass_gru\n",
    "conjunto_k = [k-1 for k in conjunto_k]"
   ]
  },
  {
   "cell_type": "markdown",
   "id": "9d556dbf",
   "metadata": {},
   "source": [
    "#### Executando a avaliação"
   ]
  },
  {
   "cell_type": "code",
   "execution_count": 47,
   "id": "da2ec93c",
   "metadata": {},
   "outputs": [
    {
     "name": "stdout",
     "output_type": "stream",
     "text": [
      "Testando para K = 7...\n",
      "Valor Médio do MSE para esse K: 5.8173116625045836e-05\n",
      "Desvio Padrão do MSE para esse K: 6.32519540184255e-06\n",
      "\n",
      "Testando para K = 5...\n",
      "Valor Médio do MSE para esse K: 8.594300500844604e-05\n",
      "Desvio Padrão do MSE para esse K: 2.4126007698421957e-05\n",
      "\n",
      "Testando para K = 6...\n",
      "Valor Médio do MSE para esse K: 5.1011247153191254e-05\n",
      "Desvio Padrão do MSE para esse K: 9.375900324069459e-06\n",
      "\n"
     ]
    }
   ],
   "source": [
    "results_mackeyglass = evaluate.evaluate(modelo, dados_mackeyglass, config, conjunto_k, verbose=1)"
   ]
  },
  {
   "cell_type": "markdown",
   "id": "3dbd99a4",
   "metadata": {},
   "source": [
    "### Salvando os dados"
   ]
  },
  {
   "cell_type": "code",
   "execution_count": 48,
   "id": "483d094b",
   "metadata": {},
   "outputs": [],
   "source": [
    "results_mackeyglass_3best = pd.DataFrame(results_mackeyglass, columns=['K', 'Media do MSE', 'Desvio Padrao do MSE'])"
   ]
  },
  {
   "cell_type": "code",
   "execution_count": 49,
   "id": "f4548990",
   "metadata": {},
   "outputs": [],
   "source": [
    "results_mackeyglass_3best.to_csv('../../results/gru/gru-mackeyglass-3best.csv', index = False, header=True)"
   ]
  },
  {
   "cell_type": "markdown",
   "id": "c0f989d4",
   "metadata": {},
   "source": [
    "## Avaliando o melhor valor para K em cada cenário"
   ]
  },
  {
   "cell_type": "markdown",
   "id": "95bee50c",
   "metadata": {},
   "source": [
    "### Análise para o Mapa de Hénon"
   ]
  },
  {
   "cell_type": "markdown",
   "id": "9fb74a4d",
   "metadata": {},
   "source": [
    "#### Pegando o arquivo com as configurações"
   ]
  },
  {
   "cell_type": "code",
   "execution_count": 34,
   "id": "d028ea32",
   "metadata": {},
   "outputs": [],
   "source": [
    "config = gru_henon.gru_henon"
   ]
  },
  {
   "cell_type": "code",
   "execution_count": 35,
   "id": "65bf653d",
   "metadata": {},
   "outputs": [],
   "source": [
    "conjunto_k = gru_best_k.K_best_henon_gru\n",
    "conjunto_k = [k-1 for k in conjunto_k]"
   ]
  },
  {
   "cell_type": "markdown",
   "id": "c3165017",
   "metadata": {},
   "source": [
    "#### Executando a avaliação"
   ]
  },
  {
   "cell_type": "code",
   "execution_count": 36,
   "id": "59a29c2c",
   "metadata": {},
   "outputs": [
    {
     "name": "stdout",
     "output_type": "stream",
     "text": [
      "Testando para K = 9...\n",
      "Valor Médio do MSE para esse K: 0.00034553994701132967\n",
      "Desvio Padrão do MSE para esse K: 0.00010140664744165733\n",
      "\n"
     ]
    }
   ],
   "source": [
    "results_henon = evaluate.evaluate(modelo, dados_henon, config, conjunto_k, verbose=1)"
   ]
  },
  {
   "cell_type": "markdown",
   "id": "d52627bb",
   "metadata": {},
   "source": [
    "### Salvando os dados"
   ]
  },
  {
   "cell_type": "code",
   "execution_count": 37,
   "id": "41fa1cae",
   "metadata": {},
   "outputs": [],
   "source": [
    "results_henon_best = pd.DataFrame(results_henon, columns=['K', 'Media do MSE', 'Desvio Padrao do MSE'])"
   ]
  },
  {
   "cell_type": "code",
   "execution_count": 38,
   "id": "ac6a97db",
   "metadata": {},
   "outputs": [],
   "source": [
    "results_henon_best.to_csv('../../results/gru/gru-henon-best.csv', index = False, header=True)"
   ]
  },
  {
   "cell_type": "markdown",
   "id": "61b84fca",
   "metadata": {},
   "source": [
    "### Análise para o Mapa logístico"
   ]
  },
  {
   "cell_type": "markdown",
   "id": "4e1b6f03",
   "metadata": {},
   "source": [
    "#### Pegando o arquivo com as configurações"
   ]
  },
  {
   "cell_type": "code",
   "execution_count": 19,
   "id": "1fafeb37",
   "metadata": {},
   "outputs": [],
   "source": [
    "config = gru_logistic.gru_logistic"
   ]
  },
  {
   "cell_type": "code",
   "execution_count": 20,
   "id": "2462f7d8",
   "metadata": {},
   "outputs": [],
   "source": [
    "conjunto_k = gru_best_k.K_best_logistic_gru\n",
    "conjunto_k = [k-1 for k in conjunto_k]"
   ]
  },
  {
   "cell_type": "markdown",
   "id": "d7ded709",
   "metadata": {},
   "source": [
    "#### Executando a avaliação"
   ]
  },
  {
   "cell_type": "code",
   "execution_count": 21,
   "id": "4835f165",
   "metadata": {},
   "outputs": [
    {
     "name": "stdout",
     "output_type": "stream",
     "text": [
      "Testando para K = 8...\n",
      "Valor Médio do MSE para esse K: 9.782039112942859e-05\n",
      "Desvio Padrão do MSE para esse K: 5.248396590497669e-05\n",
      "\n"
     ]
    }
   ],
   "source": [
    "results_logistic = evaluate.evaluate(modelo, dados_logistic, config, conjunto_k, verbose=1)"
   ]
  },
  {
   "cell_type": "markdown",
   "id": "3eb76d5c",
   "metadata": {},
   "source": [
    "### Salvando os dados"
   ]
  },
  {
   "cell_type": "code",
   "execution_count": 22,
   "id": "81dc23ae",
   "metadata": {},
   "outputs": [],
   "source": [
    "results_logistic_best = pd.DataFrame(results_logistic, columns=['K', 'Media do MSE', 'Desvio Padrao do MSE'])"
   ]
  },
  {
   "cell_type": "code",
   "execution_count": 23,
   "id": "d5601924",
   "metadata": {},
   "outputs": [],
   "source": [
    "results_logistic_best.to_csv('../../results/gru/gru-logistic-best.csv', index = False, header=True)"
   ]
  },
  {
   "cell_type": "markdown",
   "id": "c45cd150",
   "metadata": {},
   "source": [
    "### Análise para o sistema de Lorenz"
   ]
  },
  {
   "cell_type": "markdown",
   "id": "f02bccd6",
   "metadata": {},
   "source": [
    "#### Pegando o arquivo com as configurações"
   ]
  },
  {
   "cell_type": "code",
   "execution_count": 39,
   "id": "7aab8613",
   "metadata": {},
   "outputs": [],
   "source": [
    "config = gru_lorenz.gru_lorenz"
   ]
  },
  {
   "cell_type": "code",
   "execution_count": 40,
   "id": "3beb5710",
   "metadata": {},
   "outputs": [],
   "source": [
    "conjunto_k = gru_best_k.K_best_lorenz_gru\n",
    "conjunto_k = [k-1 for k in conjunto_k]"
   ]
  },
  {
   "cell_type": "markdown",
   "id": "5523cfa4",
   "metadata": {},
   "source": [
    "#### Executando a avaliação"
   ]
  },
  {
   "cell_type": "code",
   "execution_count": 41,
   "id": "423c3022",
   "metadata": {},
   "outputs": [
    {
     "name": "stdout",
     "output_type": "stream",
     "text": [
      "Testando para K = 10...\n",
      "Valor Médio do MSE para esse K: 0.0002631749493327186\n",
      "Desvio Padrão do MSE para esse K: 0.00018208743473178206\n",
      "\n"
     ]
    }
   ],
   "source": [
    "results_lorenz = evaluate.evaluate(modelo, dados_lorenz, config, conjunto_k, verbose=1)"
   ]
  },
  {
   "cell_type": "markdown",
   "id": "71ab8356",
   "metadata": {},
   "source": [
    "### Salvando os dados"
   ]
  },
  {
   "cell_type": "code",
   "execution_count": 42,
   "id": "e3cbe2b5",
   "metadata": {},
   "outputs": [],
   "source": [
    "results_lorenz_best = pd.DataFrame(results_lorenz, columns=['K', 'Media do MSE', 'Desvio Padrao do MSE'])"
   ]
  },
  {
   "cell_type": "code",
   "execution_count": 43,
   "id": "e3049c0f",
   "metadata": {},
   "outputs": [],
   "source": [
    "results_lorenz_best.to_csv('../../results/gru/gru-lorenz-best.csv', index = False, header=True)"
   ]
  },
  {
   "cell_type": "markdown",
   "id": "fb1084b4",
   "metadata": {},
   "source": [
    "### Análise para as equações de Mackey-Glass"
   ]
  },
  {
   "cell_type": "markdown",
   "id": "ab64c1d8",
   "metadata": {},
   "source": [
    "#### Pegando o arquivo com as configurações"
   ]
  },
  {
   "cell_type": "code",
   "execution_count": 29,
   "id": "aefde774",
   "metadata": {},
   "outputs": [],
   "source": [
    "config = gru_mackeyglass.gru_mackeyglass"
   ]
  },
  {
   "cell_type": "code",
   "execution_count": 30,
   "id": "529e8f67",
   "metadata": {},
   "outputs": [],
   "source": [
    "conjunto_k = gru_best_k.K_best_mackeyglass_gru\n",
    "conjunto_k = [k-1 for k in conjunto_k]"
   ]
  },
  {
   "cell_type": "markdown",
   "id": "e01e0309",
   "metadata": {},
   "source": [
    "#### Executando a avaliação"
   ]
  },
  {
   "cell_type": "code",
   "execution_count": 31,
   "id": "baf6ab3a",
   "metadata": {},
   "outputs": [
    {
     "name": "stdout",
     "output_type": "stream",
     "text": [
      "Testando para K = 6...\n",
      "Valor Médio do MSE para esse K: 4.842631423946459e-05\n",
      "Desvio Padrão do MSE para esse K: 9.985698131909342e-06\n",
      "\n"
     ]
    }
   ],
   "source": [
    "results_mackeyglass = evaluate.evaluate(modelo, dados_mackeyglass, config, conjunto_k, verbose=1)"
   ]
  },
  {
   "cell_type": "markdown",
   "id": "835ba1fb",
   "metadata": {},
   "source": [
    "### Salvando os dados"
   ]
  },
  {
   "cell_type": "code",
   "execution_count": 32,
   "id": "e2be3c00",
   "metadata": {},
   "outputs": [],
   "source": [
    "results_mackeyglass_best = pd.DataFrame(results_mackeyglass, columns=['K', 'Media do MSE', 'Desvio Padrao do MSE'])"
   ]
  },
  {
   "cell_type": "code",
   "execution_count": 33,
   "id": "bbb12802",
   "metadata": {},
   "outputs": [],
   "source": [
    "results_mackeyglass_best.to_csv('../../results/gru/gru-mackeyglass-best.csv', index = False, header=True)"
   ]
  },
  {
   "cell_type": "code",
   "execution_count": null,
   "id": "4b88a06b",
   "metadata": {},
   "outputs": [],
   "source": []
  }
 ],
 "metadata": {
  "interpreter": {
   "hash": "1c73b65f1466549bfc741a37b577edb55fb777ecaa1f1b9885584a42de505515"
  },
  "kernelspec": {
   "display_name": "Python 3",
   "language": "python",
   "name": "python3"
  },
  "language_info": {
   "codemirror_mode": {
    "name": "ipython",
    "version": 3
   },
   "file_extension": ".py",
   "mimetype": "text/x-python",
   "name": "python",
   "nbconvert_exporter": "python",
   "pygments_lexer": "ipython3",
   "version": "3.8.0"
  }
 },
 "nbformat": 4,
 "nbformat_minor": 5
}
