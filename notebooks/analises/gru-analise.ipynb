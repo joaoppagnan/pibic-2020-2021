{
 "cells": [
  {
   "cell_type": "markdown",
   "id": "2bc57235",
   "metadata": {},
   "source": [
    "# Analisando os resultados da GRU nos cenários de sistemas caóticos testados"
   ]
  },
  {
   "cell_type": "markdown",
   "id": "9243ed87",
   "metadata": {},
   "source": [
    "## 1. Importando as bibliotecas necessárias"
   ]
  },
  {
   "cell_type": "markdown",
   "id": "96231c3e",
   "metadata": {},
   "source": [
    "### Bibliotecas Externas"
   ]
  },
  {
   "cell_type": "code",
   "execution_count": 1,
   "id": "5583a57c",
   "metadata": {},
   "outputs": [],
   "source": [
    "import numpy as np\n",
    "import pandas as pd\n",
    "\n",
    "import tensorflow as tf\n",
    "physical_devices = tf.config.list_physical_devices('GPU')"
   ]
  },
  {
   "cell_type": "markdown",
   "id": "0b4c38e7",
   "metadata": {},
   "source": [
    "### Bibliotecas do projeto"
   ]
  },
  {
   "cell_type": "code",
   "execution_count": 2,
   "id": "82b0b323",
   "metadata": {},
   "outputs": [],
   "source": [
    "# arquivos de configurações\n",
    "from pibic2020.parameters.gru import *\n",
    "from pibic2020.parameters import k_set\n",
    "\n",
    "# sistemas caoticos\n",
    "from pibic2020.data import henon\n",
    "from pibic2020.data import logistic\n",
    "from pibic2020.data import lorenz\n",
    "from pibic2020.data import mackeyglass\n",
    "\n",
    "# avaliação do modelo\n",
    "from pibic2020.tools import evaluate"
   ]
  },
  {
   "cell_type": "markdown",
   "id": "ea7bf07f",
   "metadata": {},
   "source": [
    "## 2. Modelo a ser testado"
   ]
  },
  {
   "cell_type": "code",
   "execution_count": 3,
   "id": "55405188",
   "metadata": {},
   "outputs": [],
   "source": [
    "modelo = 'GRU'"
   ]
  },
  {
   "cell_type": "markdown",
   "id": "039c7190",
   "metadata": {},
   "source": [
    "## 3. Análise para o Mapa de Hénon"
   ]
  },
  {
   "cell_type": "markdown",
   "id": "d2a93c61",
   "metadata": {},
   "source": [
    "### Gerando os dados"
   ]
  },
  {
   "cell_type": "code",
   "execution_count": 4,
   "id": "e73eeece",
   "metadata": {},
   "outputs": [],
   "source": [
    "mapa_henon = henon.MapaHenon()"
   ]
  },
  {
   "cell_type": "code",
   "execution_count": 5,
   "id": "1d80e047",
   "metadata": {},
   "outputs": [],
   "source": [
    "n_iteracoes = 5000\n",
    "vetor_estados = mapa_henon.simular(n_iteracoes)\n",
    "dados = vetor_estados[:, 0]"
   ]
  },
  {
   "cell_type": "markdown",
   "id": "b7f42ade",
   "metadata": {},
   "source": [
    "### Pegando o arquivo com as configurações"
   ]
  },
  {
   "cell_type": "code",
   "execution_count": 6,
   "id": "8e928c93",
   "metadata": {},
   "outputs": [],
   "source": [
    "config = gru_henon.gru_henon"
   ]
  },
  {
   "cell_type": "code",
   "execution_count": 7,
   "id": "14e3db8c",
   "metadata": {},
   "outputs": [],
   "source": [
    "conjunto_k = k_set.K_set[\"K_henon\"]"
   ]
  },
  {
   "cell_type": "markdown",
   "id": "59138a38",
   "metadata": {},
   "source": [
    "### Executando a avaliação"
   ]
  },
  {
   "cell_type": "code",
   "execution_count": 8,
   "id": "93359470",
   "metadata": {},
   "outputs": [
    {
     "name": "stdout",
     "output_type": "stream",
     "text": [
      "Testando para K = 1...\n",
      "Valor Médio do MSE para esse K: 0.1646257523551599\n",
      "Desvio Padrão do MSE para esse K: 0.013865242650975508\n",
      "\n",
      "Testando para K = 2...\n",
      "Valor Médio do MSE para esse K: 0.0043145613922332396\n",
      "Desvio Padrão do MSE para esse K: 0.001957805857871681\n",
      "\n",
      "Testando para K = 3...\n",
      "Valor Médio do MSE para esse K: 0.001252266778726026\n",
      "Desvio Padrão do MSE para esse K: 0.0010817906253134271\n",
      "\n",
      "Testando para K = 4...\n",
      "Valor Médio do MSE para esse K: 0.0007557461042864256\n",
      "Desvio Padrão do MSE para esse K: 0.0002607044775364099\n",
      "\n",
      "Testando para K = 5...\n",
      "Valor Médio do MSE para esse K: 0.0006826932812592812\n",
      "Desvio Padrão do MSE para esse K: 0.000364569064171183\n",
      "\n",
      "Testando para K = 6...\n",
      "Valor Médio do MSE para esse K: 0.0005685641650993704\n",
      "Desvio Padrão do MSE para esse K: 0.00022537039662111068\n",
      "\n",
      "Testando para K = 7...\n",
      "Valor Médio do MSE para esse K: 0.00044863039752801614\n",
      "Desvio Padrão do MSE para esse K: 8.766495410892208e-05\n",
      "\n",
      "Testando para K = 8...\n",
      "Valor Médio do MSE para esse K: 0.00024114644972076835\n",
      "Desvio Padrão do MSE para esse K: 0.00013911598796092697\n",
      "\n",
      "Testando para K = 9...\n",
      "Valor Médio do MSE para esse K: 0.00030068421423883767\n",
      "Desvio Padrão do MSE para esse K: 0.00021563905545562195\n",
      "\n"
     ]
    }
   ],
   "source": [
    "results_henon = evaluate.evaluate(modelo, dados, config, conjunto_k, verbose=1)"
   ]
  },
  {
   "source": [
    "### Salvando os resultados num .csv"
   ],
   "cell_type": "markdown",
   "metadata": {}
  },
  {
   "cell_type": "code",
   "execution_count": 11,
   "id": "8ccb62dd",
   "metadata": {},
   "outputs": [],
   "source": [
    "results_henon = pd.DataFrame(results_henon, columns=['K', 'Media do MSE', 'Desvio Padrao do MSE'])"
   ]
  },
  {
   "cell_type": "code",
   "execution_count": 12,
   "id": "f40e51a9",
   "metadata": {},
   "outputs": [],
   "source": [
    "results_henon.to_csv('../../results/gru/gru-henon.csv', index = False, header=True)"
   ]
  },
  {
   "cell_type": "markdown",
   "id": "f04effd8",
   "metadata": {},
   "source": [
    "## 4. Análise para o Mapa Logístico"
   ]
  },
  {
   "cell_type": "markdown",
   "id": "5659f923",
   "metadata": {},
   "source": [
    "### Gerando os dados"
   ]
  },
  {
   "cell_type": "code",
   "execution_count": 13,
   "id": "cf34ef85",
   "metadata": {},
   "outputs": [],
   "source": [
    "mapa_logistico = logistic.MapaLogistico()"
   ]
  },
  {
   "cell_type": "code",
   "execution_count": 14,
   "id": "80f95c2e",
   "metadata": {},
   "outputs": [],
   "source": [
    "n_iteracoes = 5000\n",
    "vetor_estados = mapa_logistico.simular(n_iteracoes)\n",
    "dados = vetor_estados[:, 0]"
   ]
  },
  {
   "cell_type": "markdown",
   "id": "423e2044",
   "metadata": {},
   "source": [
    "### Pegando o arquivo com as configurações"
   ]
  },
  {
   "cell_type": "code",
   "execution_count": 15,
   "id": "b3d0fb59",
   "metadata": {},
   "outputs": [],
   "source": [
    "config = gru_logistic.gru_logistic"
   ]
  },
  {
   "cell_type": "code",
   "execution_count": 16,
   "id": "f2efa3ef",
   "metadata": {},
   "outputs": [],
   "source": [
    "conjunto_k = k_set.K_set[\"K_logistic\"]"
   ]
  },
  {
   "cell_type": "markdown",
   "id": "3623af44",
   "metadata": {},
   "source": [
    "### Executando a avaliação"
   ]
  },
  {
   "cell_type": "code",
   "execution_count": 17,
   "id": "13b4dca0",
   "metadata": {},
   "outputs": [
    {
     "name": "stdout",
     "output_type": "stream",
     "text": [
      "Testando para K = 1...\n",
      "Valor Médio do MSE para esse K: 0.0022960329369193684\n",
      "Desvio Padrão do MSE para esse K: 0.0021945097638538234\n",
      "\n",
      "Testando para K = 2...\n",
      "Valor Médio do MSE para esse K: 0.00015885623007905186\n",
      "Desvio Padrão do MSE para esse K: 4.244681049936508e-05\n",
      "\n",
      "Testando para K = 3...\n",
      "Valor Médio do MSE para esse K: 0.00019650099909881448\n",
      "Desvio Padrão do MSE para esse K: 8.491677972565855e-05\n",
      "\n",
      "Testando para K = 4...\n",
      "Valor Médio do MSE para esse K: 0.00033218813404209386\n",
      "Desvio Padrão do MSE para esse K: 0.00012968345799693588\n",
      "\n",
      "Testando para K = 5...\n",
      "Valor Médio do MSE para esse K: 0.000722631876195285\n",
      "Desvio Padrão do MSE para esse K: 0.0006237247909875487\n",
      "\n",
      "Testando para K = 6...\n",
      "Valor Médio do MSE para esse K: 0.00023116061509981578\n",
      "Desvio Padrão do MSE para esse K: 0.00013969854202886017\n",
      "\n",
      "Testando para K = 7...\n",
      "Valor Médio do MSE para esse K: 0.0002159020306866539\n",
      "Desvio Padrão do MSE para esse K: 0.00021279828334199363\n",
      "\n",
      "Testando para K = 8...\n",
      "Valor Médio do MSE para esse K: 0.00011725807681399102\n",
      "Desvio Padrão do MSE para esse K: 6.77868933713171e-05\n",
      "\n"
     ]
    }
   ],
   "source": [
    "results_logistic = evaluate.evaluate(modelo, dados, config, conjunto_k, verbose=1)"
   ]
  },
  {
   "cell_type": "markdown",
   "id": "750f8bc9",
   "metadata": {},
   "source": [
    "### Salvando os resultados num .csv"
   ]
  },
  {
   "cell_type": "code",
   "execution_count": 18,
   "id": "7147c058",
   "metadata": {},
   "outputs": [],
   "source": [
    "results_logistic = pd.DataFrame(results_logistic, columns=['K', 'Media do MSE', 'Desvio Padrao do MSE'])"
   ]
  },
  {
   "cell_type": "code",
   "execution_count": 19,
   "id": "a1d9e8bc",
   "metadata": {},
   "outputs": [],
   "source": [
    "results_logistic.to_csv('../../results/gru/gru-logistic.csv', index = False, header=True)"
   ]
  },
  {
   "cell_type": "markdown",
   "id": "e66fe0f9",
   "metadata": {},
   "source": [
    "## 5. Análise para o Sistema de Lorenz"
   ]
  },
  {
   "cell_type": "markdown",
   "id": "65c4d3bc",
   "metadata": {},
   "source": [
    "### Gerando os dados"
   ]
  },
  {
   "cell_type": "code",
   "execution_count": 20,
   "id": "f9d01a6f",
   "metadata": {},
   "outputs": [],
   "source": [
    "sistema_lorenz = lorenz.SistemaLorenz(estado_inicial=np.array([0.1, 0, 0]), dt=0.01)"
   ]
  },
  {
   "cell_type": "code",
   "execution_count": 21,
   "id": "278e2403",
   "metadata": {},
   "outputs": [],
   "source": [
    "t_inicial = 0\n",
    "t_final = 50\n",
    "vetor_estados, instantes_temporais = sistema_lorenz.calcular(t_inicial=t_inicial, t_final=t_final)\n",
    "dados = vetor_estados[:, 0]"
   ]
  },
  {
   "cell_type": "markdown",
   "id": "8d4ddc17",
   "metadata": {},
   "source": [
    "### Pegando o arquivo com as configurações"
   ]
  },
  {
   "cell_type": "code",
   "execution_count": 22,
   "id": "2f1a61e9",
   "metadata": {},
   "outputs": [],
   "source": [
    "config = gru_lorenz.gru_lorenz"
   ]
  },
  {
   "cell_type": "code",
   "execution_count": 23,
   "id": "2fe027ed",
   "metadata": {},
   "outputs": [],
   "source": [
    "conjunto_k = k_set.K_set[\"K_lorenz\"]"
   ]
  },
  {
   "cell_type": "markdown",
   "id": "52ebbb9d",
   "metadata": {},
   "source": [
    "### Executando a avaliação"
   ]
  },
  {
   "cell_type": "code",
   "execution_count": 25,
   "id": "13ad0385",
   "metadata": {},
   "outputs": [],
   "source": [
    "from sklearn.preprocessing import MinMaxScaler"
   ]
  },
  {
   "cell_type": "code",
   "execution_count": 26,
   "id": "06d08868",
   "metadata": {},
   "outputs": [],
   "source": [
    "scaler = MinMaxScaler(feature_range=(-1,1))"
   ]
  },
  {
   "cell_type": "code",
   "execution_count": 27,
   "id": "e17600e4",
   "metadata": {},
   "outputs": [
    {
     "name": "stdout",
     "output_type": "stream",
     "text": [
      "Testando para K = 1...\n",
      "Valor Médio do MSE para esse K: 1.4474871484887013\n",
      "Desvio Padrão do MSE para esse K: 0.0035232677055866235\n",
      "\n",
      "Testando para K = 2...\n",
      "Valor Médio do MSE para esse K: 0.004896940250091972\n",
      "Desvio Padrão do MSE para esse K: 0.0007666017704532976\n",
      "\n",
      "Testando para K = 3...\n",
      "Valor Médio do MSE para esse K: 0.005308171297968187\n",
      "Desvio Padrão do MSE para esse K: 0.0013336767476013276\n",
      "\n",
      "Testando para K = 4...\n",
      "Valor Médio do MSE para esse K: 0.005502954665020701\n",
      "Desvio Padrão do MSE para esse K: 0.001162128597647708\n",
      "\n",
      "Testando para K = 5...\n",
      "Valor Médio do MSE para esse K: 0.00443299130132305\n",
      "Desvio Padrão do MSE para esse K: 0.00166984354587729\n",
      "\n",
      "Testando para K = 6...\n",
      "Valor Médio do MSE para esse K: 0.0023183365267914723\n",
      "Desvio Padrão do MSE para esse K: 0.0008711829068599523\n",
      "\n",
      "Testando para K = 7...\n",
      "Valor Médio do MSE para esse K: 0.003037242650963054\n",
      "Desvio Padrão do MSE para esse K: 0.002925777012430598\n",
      "\n",
      "Testando para K = 8...\n",
      "Valor Médio do MSE para esse K: 0.001532193513531678\n",
      "Desvio Padrão do MSE para esse K: 0.001164269773414111\n",
      "\n",
      "Testando para K = 9...\n",
      "Valor Médio do MSE para esse K: 0.0005611496104771938\n",
      "Desvio Padrão do MSE para esse K: 0.0003224702118224728\n",
      "\n",
      "Testando para K = 10...\n",
      "Valor Médio do MSE para esse K: 0.0005358588220055794\n",
      "Desvio Padrão do MSE para esse K: 0.0004945093641826127\n",
      "\n"
     ]
    }
   ],
   "source": [
    "results_lorenz = evaluate.evaluate(modelo, dados, config, conjunto_k, verbose=1, scaler=scaler)"
   ]
  },
  {
   "cell_type": "markdown",
   "id": "ae6225be",
   "metadata": {},
   "source": [
    "### Salvando os resultados num .csv"
   ]
  },
  {
   "cell_type": "code",
   "execution_count": 28,
   "id": "a8ad0d70",
   "metadata": {},
   "outputs": [],
   "source": [
    "results_lorenz = pd.DataFrame(results_lorenz, columns=['K', 'Media do MSE', 'Desvio Padrao do MSE'])"
   ]
  },
  {
   "cell_type": "code",
   "execution_count": 29,
   "id": "2dc1ecad",
   "metadata": {},
   "outputs": [],
   "source": [
    "results_lorenz.to_csv('../../results/gru/gru-lorenz.csv', index = False, header=True)"
   ]
  },
  {
   "cell_type": "markdown",
   "id": "2ea5dd7b",
   "metadata": {},
   "source": [
    "## 6. Análise para as equações de Mackey-Glass"
   ]
  },
  {
   "cell_type": "markdown",
   "id": "125d0c5a",
   "metadata": {},
   "source": [
    "### Gerando os dados"
   ]
  },
  {
   "cell_type": "code",
   "execution_count": 30,
   "id": "c30e262c",
   "metadata": {},
   "outputs": [],
   "source": [
    "t_inicial = 0\n",
    "t_final = 5000\n",
    "tau = 22\n",
    "n = 10\n",
    "gamma = 0.1\n",
    "beta = 0.2\n",
    "theta = 1"
   ]
  },
  {
   "cell_type": "code",
   "execution_count": 31,
   "id": "c05ba380",
   "metadata": {},
   "outputs": [],
   "source": [
    "mackeyglass_eq = mackeyglass.MackeyGlass(tau=tau, gamma=gamma, beta=beta, n=n, theta=theta)"
   ]
  },
  {
   "cell_type": "code",
   "execution_count": 32,
   "id": "0ddf565a",
   "metadata": {},
   "outputs": [
    {
     "name": "stdout",
     "output_type": "stream",
     "text": [
      "Generating, compiling, and loading C code.\n",
      "Using default integration parameters.\n"
     ]
    }
   ],
   "source": [
    "dados, instantes_temporais = mackeyglass_eq.calcular(t_inicial=t_inicial, t_final=t_final)"
   ]
  },
  {
   "cell_type": "markdown",
   "id": "1de53d39",
   "metadata": {},
   "source": [
    "### Pegando o arquivo com as configurações"
   ]
  },
  {
   "cell_type": "code",
   "execution_count": 33,
   "id": "39556f84",
   "metadata": {},
   "outputs": [],
   "source": [
    "config = gru_mackeyglass.gru_mackeyglass"
   ]
  },
  {
   "cell_type": "code",
   "execution_count": 34,
   "id": "4dff4770",
   "metadata": {},
   "outputs": [],
   "source": [
    "conjunto_k = k_set.K_set[\"K_mackeyglass\"]"
   ]
  },
  {
   "cell_type": "markdown",
   "id": "9bbec1c9",
   "metadata": {},
   "source": [
    "### Executando a avaliação"
   ]
  },
  {
   "cell_type": "code",
   "execution_count": 35,
   "id": "7ffd306c",
   "metadata": {},
   "outputs": [
    {
     "name": "stdout",
     "output_type": "stream",
     "text": [
      "Testando para K = 1...\n",
      "Valor Médio do MSE para esse K: 0.009243812172540089\n",
      "Desvio Padrão do MSE para esse K: 2.8732352495835505e-05\n",
      "\n",
      "Testando para K = 2...\n",
      "Valor Médio do MSE para esse K: 0.0009152928068398581\n",
      "Desvio Padrão do MSE para esse K: 1.2334313884757154e-05\n",
      "\n",
      "Testando para K = 3...\n",
      "Valor Médio do MSE para esse K: 0.00027802440233820684\n",
      "Desvio Padrão do MSE para esse K: 1.204081583666856e-05\n",
      "\n",
      "Testando para K = 4...\n",
      "Valor Médio do MSE para esse K: 0.0001075398764471735\n",
      "Desvio Padrão do MSE para esse K: 8.320906629107015e-06\n",
      "\n",
      "Testando para K = 5...\n",
      "Valor Médio do MSE para esse K: 6.608332210844083e-05\n",
      "Desvio Padrão do MSE para esse K: 2.3097606045698112e-05\n",
      "\n",
      "Testando para K = 6...\n",
      "Valor Médio do MSE para esse K: 8.06676825217944e-05\n",
      "Desvio Padrão do MSE para esse K: 2.6800122904735814e-05\n",
      "\n",
      "Testando para K = 7...\n",
      "Valor Médio do MSE para esse K: 4.3926294999663145e-05\n",
      "Desvio Padrão do MSE para esse K: 9.755455512424859e-06\n",
      "\n"
     ]
    }
   ],
   "source": [
    "results_mackeyglass = evaluate.evaluate(modelo, dados, config, conjunto_k, verbose=1)"
   ]
  },
  {
   "cell_type": "markdown",
   "id": "3ab8f848",
   "metadata": {},
   "source": [
    "### Salvando os resultados num .csv"
   ]
  },
  {
   "cell_type": "code",
   "execution_count": 36,
   "id": "6f8d63a4",
   "metadata": {},
   "outputs": [],
   "source": [
    "results_mackeyglass = pd.DataFrame(results_mackeyglass, columns=['K', 'Media do MSE', 'Desvio Padrao do MSE'])"
   ]
  },
  {
   "cell_type": "code",
   "execution_count": 37,
   "id": "df427611",
   "metadata": {},
   "outputs": [],
   "source": [
    "results_mackeyglass.to_csv('../../results/gru/gru-mackeyglass.csv', index = False, header=True)"
   ]
  },
  {
   "cell_type": "code",
   "execution_count": null,
   "id": "49746ed9",
   "metadata": {},
   "outputs": [],
   "source": []
  }
 ],
 "metadata": {
  "interpreter": {
   "hash": "1c73b65f1466549bfc741a37b577edb55fb777ecaa1f1b9885584a42de505515"
  },
  "kernelspec": {
   "name": "python3",
   "display_name": "Python 3.8.5 64-bit ('pibic2020-env': venv)"
  },
  "language_info": {
   "codemirror_mode": {
    "name": "ipython",
    "version": 3
   },
   "file_extension": ".py",
   "mimetype": "text/x-python",
   "name": "python",
   "nbconvert_exporter": "python",
   "pygments_lexer": "ipython3",
   "version": "3.8.5"
  }
 },
 "nbformat": 4,
 "nbformat_minor": 5
}