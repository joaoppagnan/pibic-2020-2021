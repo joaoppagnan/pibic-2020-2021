{
 "cells": [
  {
   "cell_type": "markdown",
   "id": "f30acdfa",
   "metadata": {},
   "source": [
    "# Analisando os resultados da GRU nos cenários de sistemas caóticos testados"
   ]
  },
  {
   "cell_type": "markdown",
   "id": "ede3e3a4",
   "metadata": {},
   "source": [
    "## 1. Importando as bibliotecas necessárias"
   ]
  },
  {
   "cell_type": "markdown",
   "id": "800b645f",
   "metadata": {},
   "source": [
    "### Bibliotecas Externas"
   ]
  },
  {
   "cell_type": "code",
   "execution_count": 1,
   "id": "835b38e3",
   "metadata": {},
   "outputs": [],
   "source": [
    "import numpy as np\n",
    "import pandas as pd\n",
    "\n",
    "import tensorflow as tf\n",
    "physical_devices = tf.config.list_physical_devices('GPU')"
   ]
  },
  {
   "cell_type": "markdown",
   "id": "30035b73",
   "metadata": {},
   "source": [
    "### Bibliotecas do projeto"
   ]
  },
  {
   "cell_type": "code",
   "execution_count": 2,
   "id": "2aeb537b",
   "metadata": {},
   "outputs": [],
   "source": [
    "# arquivos de configurações\n",
    "from pibic2020.parameters.gru import *\n",
    "from pibic2020.parameters import k_set\n",
    "\n",
    "# sistemas caoticos\n",
    "from pibic2020.data import henon\n",
    "from pibic2020.data import logistic\n",
    "from pibic2020.data import lorenz\n",
    "from pibic2020.data import mackeyglass\n",
    "\n",
    "# avaliação do modelo\n",
    "from pibic2020.tools import evaluate"
   ]
  },
  {
   "cell_type": "markdown",
   "id": "148c7d81",
   "metadata": {},
   "source": [
    "## 2. Modelo a ser testado"
   ]
  },
  {
   "cell_type": "code",
   "execution_count": 1,
   "id": "7c452795",
   "metadata": {},
   "outputs": [],
   "source": [
    "modelo = 'GRU'"
   ]
  },
  {
   "cell_type": "markdown",
   "id": "3caf94d2",
   "metadata": {},
   "source": [
    "## 3. Análise para o Mapa de Hénon"
   ]
  },
  {
   "cell_type": "markdown",
   "id": "bd782f92",
   "metadata": {},
   "source": [
    "### Gerando os dados"
   ]
  },
  {
   "cell_type": "code",
   "execution_count": 4,
   "id": "e96a02fc",
   "metadata": {},
   "outputs": [],
   "source": [
    "mapa_henon = henon.MapaHenon()"
   ]
  },
  {
   "cell_type": "code",
   "execution_count": 5,
   "id": "371a5bef",
   "metadata": {},
   "outputs": [],
   "source": [
    "n_iteracoes = 5000\n",
    "vetor_estados = mapa_henon.simular(n_iteracoes)\n",
    "dados = vetor_estados[:, 0]"
   ]
  },
  {
   "cell_type": "markdown",
   "id": "f57766d4",
   "metadata": {},
   "source": [
    "### Pegando o arquivo com as configurações"
   ]
  },
  {
   "cell_type": "code",
   "execution_count": 6,
   "id": "65328b4e",
   "metadata": {},
   "outputs": [],
   "source": [
    "config = gru_henon.gru_henon"
   ]
  },
  {
   "cell_type": "code",
   "execution_count": 7,
   "id": "23e36f2d",
   "metadata": {},
   "outputs": [],
   "source": [
    "conjunto_k = k_set.K_set[\"K_henon\"]"
   ]
  },
  {
   "cell_type": "markdown",
   "id": "86fbd316",
   "metadata": {},
   "source": [
    "### Executando a avaliação"
   ]
  },
  {
   "cell_type": "code",
   "execution_count": 8,
   "id": "995dd74d",
   "metadata": {},
   "outputs": [
    {
     "name": "stdout",
     "output_type": "stream",
     "text": [
      "Testando para K = 1...\n",
      "Valor Médio do MSE para esse K: 0.16117250641668274\n",
      "Desvio Padrão do MSE para esse K: 0.008143785772658462\n",
      "\n",
      "Testando para K = 2...\n",
      "Valor Médio do MSE para esse K: 0.008223127827672455\n",
      "Desvio Padrão do MSE para esse K: 0.0014264091634510797\n",
      "\n",
      "Testando para K = 3...\n",
      "Valor Médio do MSE para esse K: 0.0009027986611178439\n",
      "Desvio Padrão do MSE para esse K: 0.0007506374386533992\n",
      "\n",
      "Testando para K = 4...\n",
      "Valor Médio do MSE para esse K: 0.00024980718488726067\n",
      "Desvio Padrão do MSE para esse K: 8.54072218698784e-05\n",
      "\n",
      "Testando para K = 5...\n",
      "Valor Médio do MSE para esse K: 0.00022556919711491592\n",
      "Desvio Padrão do MSE para esse K: 0.00012823163292760266\n",
      "\n",
      "Testando para K = 6...\n",
      "Valor Médio do MSE para esse K: 0.000234114535763034\n",
      "Desvio Padrão do MSE para esse K: 4.70963874255192e-05\n",
      "\n",
      "Testando para K = 7...\n",
      "Valor Médio do MSE para esse K: 0.0004771122324342394\n",
      "Desvio Padrão do MSE para esse K: 0.00024388602358225636\n",
      "\n",
      "Testando para K = 8...\n",
      "Valor Médio do MSE para esse K: 0.00015797552814698554\n",
      "Desvio Padrão do MSE para esse K: 6.892553447962683e-05\n",
      "\n",
      "Testando para K = 9...\n",
      "Valor Médio do MSE para esse K: 0.0002151308999680179\n",
      "Desvio Padrão do MSE para esse K: 6.047396555633635e-05\n",
      "\n"
     ]
    }
   ],
   "source": [
    "results_henon = evaluate.evaluate(modelo, dados, config, conjunto_k, verbose=1)"
   ]
  },
  {
   "cell_type": "markdown",
   "id": "227212dd",
   "metadata": {},
   "source": [
    "### Salvando os resultados num .csv"
   ]
  },
  {
   "cell_type": "code",
   "execution_count": 9,
   "id": "033c4170",
   "metadata": {},
   "outputs": [],
   "source": [
    "results_henon = pd.DataFrame(results_henon, columns=['K', 'Media do RMSE', 'Desvio Padrao do RMSE'])"
   ]
  },
  {
   "cell_type": "code",
   "execution_count": 10,
   "id": "8f571342",
   "metadata": {},
   "outputs": [],
   "source": [
    "results_henon.to_csv('../../results/gru/gru-henon.csv', index = False, header=True)"
   ]
  },
  {
   "cell_type": "markdown",
   "id": "2be72eb0",
   "metadata": {},
   "source": [
    "## 4. Análise para o Mapa Logístico"
   ]
  },
  {
   "cell_type": "markdown",
   "id": "ad035882",
   "metadata": {},
   "source": [
    "### Gerando os dados"
   ]
  },
  {
   "cell_type": "code",
   "execution_count": 11,
   "id": "08d42d55",
   "metadata": {},
   "outputs": [],
   "source": [
    "mapa_logistico = logistic.MapaLogistico()"
   ]
  },
  {
   "cell_type": "code",
   "execution_count": 12,
   "id": "d919e4d0",
   "metadata": {},
   "outputs": [],
   "source": [
    "n_iteracoes = 5000\n",
    "vetor_estados = mapa_logistico.simular(n_iteracoes)\n",
    "dados = vetor_estados[:, 0]"
   ]
  },
  {
   "cell_type": "markdown",
   "id": "c77450c5",
   "metadata": {},
   "source": [
    "### Pegando o arquivo com as configurações"
   ]
  },
  {
   "cell_type": "code",
   "execution_count": 13,
   "id": "14f92d3e",
   "metadata": {},
   "outputs": [],
   "source": [
    "config = gru_logistic.gru_logistic"
   ]
  },
  {
   "cell_type": "code",
   "execution_count": 14,
   "id": "6f30b84c",
   "metadata": {},
   "outputs": [],
   "source": [
    "conjunto_k = k_set.K_set[\"K_logistic\"]"
   ]
  },
  {
   "cell_type": "markdown",
   "id": "29dd4f36",
   "metadata": {},
   "source": [
    "### Executando a avaliação"
   ]
  },
  {
   "cell_type": "code",
   "execution_count": 15,
   "id": "7ff87bdf",
   "metadata": {},
   "outputs": [
    {
     "name": "stdout",
     "output_type": "stream",
     "text": [
      "Testando para K = 1...\n",
      "Valor Médio do MSE para esse K: 0.0012694216003352743\n",
      "Desvio Padrão do MSE para esse K: 0.00014406068396095805\n",
      "\n",
      "Testando para K = 2...\n",
      "Valor Médio do MSE para esse K: 4.83611086692023e-05\n",
      "Desvio Padrão do MSE para esse K: 4.925289906549117e-05\n",
      "\n",
      "Testando para K = 3...\n",
      "Valor Médio do MSE para esse K: 0.0001469823664128681\n",
      "Desvio Padrão do MSE para esse K: 3.522069710613594e-05\n",
      "\n",
      "Testando para K = 4...\n",
      "Valor Médio do MSE para esse K: 0.000168336748931132\n",
      "Desvio Padrão do MSE para esse K: 3.783212387813291e-05\n",
      "\n",
      "Testando para K = 5...\n",
      "Valor Médio do MSE para esse K: 0.0002193412009375268\n",
      "Desvio Padrão do MSE para esse K: 8.323399229953644e-05\n",
      "\n",
      "Testando para K = 6...\n",
      "Valor Médio do MSE para esse K: 0.00020729587570875922\n",
      "Desvio Padrão do MSE para esse K: 0.00011466698661093644\n",
      "\n",
      "Testando para K = 7...\n",
      "Valor Médio do MSE para esse K: 8.215860046706089e-05\n",
      "Desvio Padrão do MSE para esse K: 5.1382402814758536e-05\n",
      "\n",
      "Testando para K = 8...\n",
      "Valor Médio do MSE para esse K: 9.880349168016919e-05\n",
      "Desvio Padrão do MSE para esse K: 5.322773505288442e-05\n",
      "\n"
     ]
    }
   ],
   "source": [
    "results_logistic = evaluate.evaluate(modelo, dados, config, conjunto_k, verbose=1)"
   ]
  },
  {
   "cell_type": "markdown",
   "id": "d6c2de16",
   "metadata": {},
   "source": [
    "### Salvando os resultados num .csv"
   ]
  },
  {
   "cell_type": "code",
   "execution_count": 16,
   "id": "80522c23",
   "metadata": {},
   "outputs": [],
   "source": [
    "results_logistic = pd.DataFrame(results_logistic, columns=['K', 'Media do RMSE', 'Desvio Padrao do RMSE'])"
   ]
  },
  {
   "cell_type": "code",
   "execution_count": 17,
   "id": "d2dee029",
   "metadata": {},
   "outputs": [],
   "source": [
    "results_logistic.to_csv('../../results/gru/gru-logistic.csv', index = False, header=True)"
   ]
  },
  {
   "cell_type": "markdown",
   "id": "9d3f584f",
   "metadata": {},
   "source": [
    "## 5. Análise para o Sistema de Lorenz"
   ]
  },
  {
   "cell_type": "markdown",
   "id": "bdfff4ed",
   "metadata": {},
   "source": [
    "### Gerando os dados"
   ]
  },
  {
   "cell_type": "code",
   "execution_count": 18,
   "id": "12b21b5e",
   "metadata": {},
   "outputs": [],
   "source": [
    "sistema_lorenz = lorenz.SistemaLorenz(estado_inicial=np.array([0.1, 0, 0]), dt=0.01)"
   ]
  },
  {
   "cell_type": "code",
   "execution_count": 19,
   "id": "a46e8e57",
   "metadata": {},
   "outputs": [],
   "source": [
    "t_inicial = 0\n",
    "t_final = 50\n",
    "vetor_estados, instantes_temporais = sistema_lorenz.calcular(t_inicial=t_inicial, t_final=t_final)\n",
    "dados = vetor_estados[:, 0]"
   ]
  },
  {
   "cell_type": "markdown",
   "id": "996b79bc",
   "metadata": {},
   "source": [
    "### Pegando o arquivo com as configurações"
   ]
  },
  {
   "cell_type": "code",
   "execution_count": 20,
   "id": "05129534",
   "metadata": {},
   "outputs": [],
   "source": [
    "config = gru_lorenz.gru_lorenz"
   ]
  },
  {
   "cell_type": "code",
   "execution_count": 21,
   "id": "74110498",
   "metadata": {},
   "outputs": [],
   "source": [
    "conjunto_k = k_set.K_set[\"K_lorenz\"]"
   ]
  },
  {
   "cell_type": "markdown",
   "id": "8ce213d8",
   "metadata": {},
   "source": [
    "### Executando a avaliação"
   ]
  },
  {
   "cell_type": "code",
   "execution_count": 22,
   "id": "2ef4ea30",
   "metadata": {},
   "outputs": [],
   "source": [
    "from sklearn.preprocessing import MinMaxScaler"
   ]
  },
  {
   "cell_type": "code",
   "execution_count": 23,
   "id": "c7eef00e",
   "metadata": {},
   "outputs": [],
   "source": [
    "scaler = MinMaxScaler(feature_range=(-1,1))"
   ]
  },
  {
   "cell_type": "code",
   "execution_count": 24,
   "id": "ee3cd1c1",
   "metadata": {},
   "outputs": [
    {
     "name": "stdout",
     "output_type": "stream",
     "text": [
      "Testando para K = 1...\n",
      "Valor Médio do MSE para esse K: 1.4611791406241674\n",
      "Desvio Padrão do MSE para esse K: 0.012334915311271132\n",
      "\n",
      "Testando para K = 2...\n",
      "Valor Médio do MSE para esse K: 0.005251074759926142\n",
      "Desvio Padrão do MSE para esse K: 0.0020174188671898317\n",
      "\n",
      "Testando para K = 3...\n",
      "Valor Médio do MSE para esse K: 0.00393408843113256\n",
      "Desvio Padrão do MSE para esse K: 0.0018947598368147327\n",
      "\n",
      "Testando para K = 4...\n",
      "Valor Médio do MSE para esse K: 0.003830370555963072\n",
      "Desvio Padrão do MSE para esse K: 0.00104085974142966\n",
      "\n",
      "Testando para K = 5...\n",
      "Valor Médio do MSE para esse K: 0.003018506288177835\n",
      "Desvio Padrão do MSE para esse K: 0.0009070134259571955\n",
      "\n",
      "Testando para K = 6...\n",
      "Valor Médio do MSE para esse K: 0.002409366466095327\n",
      "Desvio Padrão do MSE para esse K: 0.0014267532299665322\n",
      "\n",
      "Testando para K = 7...\n",
      "Valor Médio do MSE para esse K: 0.0012367120932855972\n",
      "Desvio Padrão do MSE para esse K: 0.0010456959856769109\n",
      "\n",
      "Testando para K = 8...\n",
      "Valor Médio do MSE para esse K: 0.00044474259867662057\n",
      "Desvio Padrão do MSE para esse K: 0.0004504765747767002\n",
      "\n",
      "Testando para K = 9...\n",
      "Valor Médio do MSE para esse K: 0.0006614587878923725\n",
      "Desvio Padrão do MSE para esse K: 0.0007926458107061738\n",
      "\n",
      "Testando para K = 10...\n",
      "Valor Médio do MSE para esse K: 0.0004422597993239766\n",
      "Desvio Padrão do MSE para esse K: 0.0005400815205244215\n",
      "\n"
     ]
    }
   ],
   "source": [
    "results_lorenz = evaluate.evaluate(modelo, dados, config, conjunto_k, verbose=1, scaler=scaler)"
   ]
  },
  {
   "cell_type": "markdown",
   "id": "bc30324e",
   "metadata": {},
   "source": [
    "### Salvando os resultados num .csv"
   ]
  },
  {
   "cell_type": "code",
   "execution_count": 25,
   "id": "e90fd37d",
   "metadata": {},
   "outputs": [],
   "source": [
    "results_lorenz = pd.DataFrame(results_lorenz, columns=['K', 'Media do RMSE', 'Desvio Padrao do RMSE'])"
   ]
  },
  {
   "cell_type": "code",
   "execution_count": 26,
   "id": "771d4b7d",
   "metadata": {},
   "outputs": [],
   "source": [
    "results_lorenz.to_csv('../../results/gru/gru-lorenz.csv', index = False, header=True)"
   ]
  },
  {
   "cell_type": "markdown",
   "id": "1ea8f10c",
   "metadata": {},
   "source": [
    "## 6. Análise para as equações de Mackey-Glass"
   ]
  },
  {
   "cell_type": "markdown",
   "id": "1a7dfa52",
   "metadata": {},
   "source": [
    "### Gerando os dados"
   ]
  },
  {
   "cell_type": "code",
   "execution_count": 27,
   "id": "a8567bdd",
   "metadata": {},
   "outputs": [],
   "source": [
    "t_inicial = 0\n",
    "t_final = 5000\n",
    "tau = 22\n",
    "n = 10\n",
    "gamma = 0.1\n",
    "beta = 0.2\n",
    "theta = 1"
   ]
  },
  {
   "cell_type": "code",
   "execution_count": 28,
   "id": "f7a7d36c",
   "metadata": {},
   "outputs": [],
   "source": [
    "mackeyglass_eq = mackeyglass.MackeyGlass(tau=tau, gamma=gamma, beta=beta, n=n, theta=theta)"
   ]
  },
  {
   "cell_type": "code",
   "execution_count": 29,
   "id": "d072bb5e",
   "metadata": {},
   "outputs": [
    {
     "name": "stdout",
     "output_type": "stream",
     "text": [
      "Generating, compiling, and loading C code.\n",
      "Using default integration parameters.\n"
     ]
    }
   ],
   "source": [
    "dados, instantes_temporais = mackeyglass_eq.calcular(t_inicial=t_inicial, t_final=t_final)"
   ]
  },
  {
   "cell_type": "markdown",
   "id": "d41650b3",
   "metadata": {},
   "source": [
    "### Pegando o arquivo com as configurações"
   ]
  },
  {
   "cell_type": "code",
   "execution_count": 30,
   "id": "ebeb6707",
   "metadata": {},
   "outputs": [],
   "source": [
    "config = gru_mackeyglass.gru_mackeyglass"
   ]
  },
  {
   "cell_type": "code",
   "execution_count": 31,
   "id": "2c0d3be9",
   "metadata": {},
   "outputs": [],
   "source": [
    "conjunto_k = k_set.K_set[\"K_mackeyglass\"]"
   ]
  },
  {
   "cell_type": "markdown",
   "id": "fd4bf487",
   "metadata": {},
   "source": [
    "### Executando a avaliação"
   ]
  },
  {
   "cell_type": "code",
   "execution_count": 32,
   "id": "52887d29",
   "metadata": {},
   "outputs": [
    {
     "name": "stdout",
     "output_type": "stream",
     "text": [
      "Testando para K = 1...\n",
      "Valor Médio do MSE para esse K: 0.009200467441677029\n",
      "Desvio Padrão do MSE para esse K: 9.698992773012052e-06\n",
      "\n",
      "Testando para K = 2...\n",
      "Valor Médio do MSE para esse K: 0.0009157980610022347\n",
      "Desvio Padrão do MSE para esse K: 5.683900514837213e-05\n",
      "\n",
      "Testando para K = 3...\n",
      "Valor Médio do MSE para esse K: 0.0002400211814786682\n",
      "Desvio Padrão do MSE para esse K: 7.979142520500226e-06\n",
      "\n",
      "Testando para K = 4...\n",
      "Valor Médio do MSE para esse K: 9.750263766173911e-05\n",
      "Desvio Padrão do MSE para esse K: 2.4084343083051706e-05\n",
      "\n",
      "Testando para K = 5...\n",
      "Valor Médio do MSE para esse K: 5.301674528474998e-05\n",
      "Desvio Padrão do MSE para esse K: 2.2018494869474163e-05\n",
      "\n",
      "Testando para K = 6...\n",
      "Valor Médio do MSE para esse K: 5.22062775712718e-05\n",
      "Desvio Padrão do MSE para esse K: 1.6313964133413115e-05\n",
      "\n",
      "Testando para K = 7...\n",
      "Valor Médio do MSE para esse K: 3.8662812449175146e-05\n",
      "Desvio Padrão do MSE para esse K: 1.1718639292365026e-05\n",
      "\n"
     ]
    }
   ],
   "source": [
    "results_mackeyglass = evaluate.evaluate(modelo, dados, config, conjunto_k, verbose=1)"
   ]
  },
  {
   "cell_type": "markdown",
   "id": "e9a1e3ae",
   "metadata": {},
   "source": [
    "### Salvando os resultados num .csv"
   ]
  },
  {
   "cell_type": "code",
   "execution_count": 33,
   "id": "5b8b6414",
   "metadata": {},
   "outputs": [],
   "source": [
    "results_mackeyglass = pd.DataFrame(results_mackeyglass, columns=['K', 'Media do RMSE', 'Desvio Padrao do RMSE'])"
   ]
  },
  {
   "cell_type": "code",
   "execution_count": 34,
   "id": "cb30b433",
   "metadata": {},
   "outputs": [],
   "source": [
    "results_mackeyglass.to_csv('../../results/gru/gru-mackeyglass.csv', index = False, header=True)"
   ]
  },
  {
   "cell_type": "code",
   "execution_count": null,
   "id": "f6459073",
   "metadata": {},
   "outputs": [],
   "source": []
  }
 ],
 "metadata": {
  "interpreter": {
   "hash": "1c73b65f1466549bfc741a37b577edb55fb777ecaa1f1b9885584a42de505515"
  },
  "kernelspec": {
   "display_name": "Python 3",
   "language": "python",
   "name": "python3"
  },
  "language_info": {
   "codemirror_mode": {
    "name": "ipython",
    "version": 3
   },
   "file_extension": ".py",
   "mimetype": "text/x-python",
   "name": "python",
   "nbconvert_exporter": "python",
   "pygments_lexer": "ipython3",
   "version": "3.8.0"
  }
 },
 "nbformat": 4,
 "nbformat_minor": 5
}
