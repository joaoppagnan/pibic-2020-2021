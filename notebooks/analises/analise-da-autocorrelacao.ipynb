{
 "cells": [
  {
   "cell_type": "markdown",
   "id": "trained-butterfly",
   "metadata": {},
   "source": [
    "# Analisando as autocorrelações das séries temporais nos sistemas a serem analisados"
   ]
  },
  {
   "cell_type": "markdown",
   "id": "israeli-intake",
   "metadata": {},
   "source": [
    "## 1. Importando as bibliotecas necessárias"
   ]
  },
  {
   "cell_type": "markdown",
   "id": "artificial-sunday",
   "metadata": {},
   "source": [
    "### 1.1 Bibliotecas gerais"
   ]
  },
  {
   "cell_type": "code",
   "execution_count": 1,
   "id": "cardiovascular-danish",
   "metadata": {},
   "outputs": [],
   "source": [
    "%matplotlib widget\n",
    "import numpy as np\n",
    "import pandas as pd\n",
    "import matplotlib.pyplot as plt\n",
    "import seaborn as sns # a biblioteca 'seaborn' contém vários estilos para os gráficos do 'matpĺotlib'\n",
    "\n",
    "from statsmodels.graphics.tsaplots import plot_acf # para exibir as autocorrelacoes\n",
    "from statsmodels.graphics.tsaplots import plot_pacf\n",
    "\n",
    "# agora, melhoramos a qualidade de saida e de visualizacao da imagem \n",
    "# alem de mudar a fonte padrao para uma do latex\n",
    "sns.set_style(\"ticks\")\n",
    "plt.rcParams['savefig.dpi'] = 200\n",
    "plt.rcParams[\"figure.dpi\"] = 100\n",
    "\n",
    "plt.rcParams.update({\n",
    "    \"text.usetex\": True,\n",
    "    \"font.family\": \"serif\",\n",
    "    \"font.serif\": [\"Palatino\"],\n",
    "})\n",
    "#plt.style.use('dark_background')"
   ]
  },
  {
   "cell_type": "markdown",
   "id": "former-success",
   "metadata": {},
   "source": [
    "### 1.2 Bibliotecas dos sistemas caóticos"
   ]
  },
  {
   "cell_type": "code",
   "execution_count": 2,
   "id": "small-compound",
   "metadata": {},
   "outputs": [],
   "source": [
    "from pibic2020.data import logistic as logmap\n",
    "from pibic2020.data import henon as hmap\n",
    "from pibic2020.data import lorenz as lsys\n",
    "from pibic2020.data import mackeyglass as mgeq"
   ]
  },
  {
   "cell_type": "markdown",
   "id": "regional-literature",
   "metadata": {},
   "source": [
    "## 2. Gerando a série temporal do mapa logístico"
   ]
  },
  {
   "cell_type": "code",
   "execution_count": 3,
   "id": "looking-visiting",
   "metadata": {},
   "outputs": [],
   "source": [
    "x_inicial = 0.5\n",
    "n_inicial = 0\n",
    "n_iteracoes = 5000\n",
    "r=3.86\n",
    "estados = np.array([x_inicial, n_inicial])"
   ]
  },
  {
   "cell_type": "code",
   "execution_count": 4,
   "id": "historical-gross",
   "metadata": {},
   "outputs": [],
   "source": [
    "mapa = logmap.MapaLogistico(estado_inicial=estados, r=r)"
   ]
  },
  {
   "cell_type": "code",
   "execution_count": 6,
   "id": "universal-finger",
   "metadata": {},
   "outputs": [],
   "source": [
    "estados = mapa.simular(n_iteracoes)"
   ]
  },
  {
   "cell_type": "code",
   "execution_count": 7,
   "id": "fourth-perry",
   "metadata": {},
   "outputs": [],
   "source": [
    "x_log = estados[:, 0]\n",
    "n_log = estados[:, 1]"
   ]
  },
  {
   "cell_type": "code",
   "execution_count": 8,
   "id": "governmental-calculation",
   "metadata": {},
   "outputs": [
    {
     "data": {
      "application/vnd.jupyter.widget-view+json": {
       "model_id": "c8938aa2c7634a9d8ce1eb680ad2b2d6",
       "version_major": 2,
       "version_minor": 0
      },
      "text/plain": [
       "Canvas(toolbar=Toolbar(toolitems=[('Home', 'Reset original view', 'home', 'home'), ('Back', 'Back to previous …"
      ]
     },
     "metadata": {},
     "output_type": "display_data"
    }
   ],
   "source": [
    "fig, ax = plt.subplots()\n",
    "ax.plot(n_log, x_log, color='Crimson')\n",
    "\n",
    "ax.set_title(\"$100$ iterações iniciais da série temporal do Mapa Logístico\\n para $r =$ \" + str(r) + \" com $x[0] =$ \" + str(x_log[0]))\n",
    "ax.set_ylabel('$x[n]$')\n",
    "ax.set_xlabel('$n$')\n",
    "ax.set_xlim(0,100)\n",
    "    \n",
    "ax.grid(True)\n",
    "sns.despine()\n",
    "\n",
    "plt.show()"
   ]
  },
  {
   "cell_type": "markdown",
   "id": "middle-passenger",
   "metadata": {},
   "source": [
    "## 3. Gerando a série temporal do Mapa de Hénon"
   ]
  },
  {
   "cell_type": "code",
   "execution_count": 9,
   "id": "refined-satin",
   "metadata": {},
   "outputs": [],
   "source": [
    "a = 1.4\n",
    "b = 0.3\n",
    "x_inicial = 1.0\n",
    "y_inicial = 0.0\n",
    "n_inicial = 0\n",
    "\n",
    "estados = np.array([x_inicial, y_inicial, n_inicial])\n",
    "\n",
    "mapa = hmap.MapaHenon(estado_inicial=estados)"
   ]
  },
  {
   "cell_type": "code",
   "execution_count": 10,
   "id": "flexible-hotel",
   "metadata": {
    "tags": []
   },
   "outputs": [],
   "source": [
    "n_iteracoes = 5000\n",
    "estados = mapa.simular(n_iteracoes)"
   ]
  },
  {
   "cell_type": "code",
   "execution_count": 11,
   "id": "comparative-sapphire",
   "metadata": {},
   "outputs": [],
   "source": [
    "x_henon = estados[:, 0]\n",
    "y_henon = estados[:, 1]\n",
    "n_henon = estados[:, 2]"
   ]
  },
  {
   "cell_type": "code",
   "execution_count": 13,
   "id": "exposed-monday",
   "metadata": {},
   "outputs": [
    {
     "data": {
      "application/vnd.jupyter.widget-view+json": {
       "model_id": "38d50363193a49809aee698aee0cdea1",
       "version_major": 2,
       "version_minor": 0
      },
      "text/plain": [
       "Canvas(toolbar=Toolbar(toolitems=[('Home', 'Reset original view', 'home', 'home'), ('Back', 'Back to previous …"
      ]
     },
     "metadata": {},
     "output_type": "display_data"
    }
   ],
   "source": [
    "fig, ax = plt.subplots()\n",
    "ax.plot(n_henon, x_henon, color='DarkGreen')\n",
    "\n",
    "ax.set_title(\"100 primeiras iterações da série temporal em $\\hat{x}$ do Mapa de Hénon para\\n $a =$ \" + str(a) + \" e $b =$ \" + str(b) + \" com $x[0] =$ \" + str(x_henon[0]) + \" e $y[0] =$ \" + str(y_henon[0]))\n",
    "ax.set_ylabel('$x[n]$')\n",
    "ax.set_xlabel('$n$')\n",
    "ax.set_xlim(0, 100)  \n",
    "ax.grid(True)\n",
    "\n",
    "fig.tight_layout()\n",
    "sns.despine()\n",
    "plt.show()"
   ]
  },
  {
   "cell_type": "markdown",
   "id": "iraqi-escape",
   "metadata": {},
   "source": [
    "### Espectro de Potências"
   ]
  },
  {
   "cell_type": "code",
   "execution_count": 58,
   "id": "greenhouse-offer",
   "metadata": {},
   "outputs": [],
   "source": [
    "from scipy import signal"
   ]
  },
  {
   "cell_type": "code",
   "execution_count": 59,
   "id": "acceptable-while",
   "metadata": {},
   "outputs": [],
   "source": [
    "n_samples = len(x_henon)\n",
    "\n",
    "# calculo da transformada de Fourier para sinais discretos\n",
    "ft_freq_range, ft_discrete = signal.freqz(x_henon)\n",
    "ft_discrete = np.abs(ft_discrete) # queremos apenas o modulo\n",
    "power_sp = ft_discrete**2"
   ]
  },
  {
   "cell_type": "code",
   "execution_count": 62,
   "id": "competent-essay",
   "metadata": {},
   "outputs": [
    {
     "data": {
      "application/vnd.jupyter.widget-view+json": {
       "model_id": "312af56581b44e029136b9ee337830d1",
       "version_major": 2,
       "version_minor": 0
      },
      "text/plain": [
       "Canvas(toolbar=Toolbar(toolitems=[('Home', 'Reset original view', 'home', 'home'), ('Back', 'Back to previous …"
      ]
     },
     "metadata": {},
     "output_type": "display_data"
    }
   ],
   "source": [
    "fig, ax = plt.subplots()\n",
    "\n",
    "ax.plot(ft_freq_range, power_sp, color='DarkGreen')\n",
    "ax.plot(-np.flip(ft_freq_range), np.flip(power_sp), color='DarkGreen')\n",
    "\n",
    "ax.set_ylabel('$|X(e^{j\\Omega})|^2$')\n",
    "ax.set_xlabel('$\\Omega$ $[rad]$')\n",
    "\n",
    "ax.set_xlim([-1*np.pi, 1*np.pi])\n",
    "ax.grid(True)\n",
    "\n",
    "#ax.set_xlim([0, 2*np.pi])\n",
    "ax.set_xticks([0, np.pi/4, np.pi/2, 3*np.pi/4, np.pi, -np.pi/4, -np.pi/2, -3*np.pi/4, -np.pi])\n",
    "ax.set_xticklabels([r'$0$', r'$\\frac{\\pi}{4}$', r'$\\frac{\\pi}{2}$', r'$\\frac{3\\pi}{4}$', r'$\\pi$',\n",
    "                    r'$-\\frac{\\pi}{4}$', r'$-\\frac{\\pi}{2}$', r'$-\\frac{3\\pi}{4}$', r'$-\\pi$'])\n",
    "\n",
    "sns.despine()\n",
    "fig.savefig('../../reports/relatorio-ee015/figures/power-spectrum-henon.pdf')"
   ]
  },
  {
   "cell_type": "markdown",
   "id": "inappropriate-symposium",
   "metadata": {},
   "source": [
    "## 4. Gerando a série temporal do Sistema de Lorenz"
   ]
  },
  {
   "cell_type": "code",
   "execution_count": 12,
   "id": "employed-glenn",
   "metadata": {},
   "outputs": [],
   "source": [
    "t_inicial = 0\n",
    "t_final = 50\n",
    "dt = 0.01"
   ]
  },
  {
   "cell_type": "code",
   "execution_count": 13,
   "id": "according-playback",
   "metadata": {},
   "outputs": [],
   "source": [
    "estado_inicial = np.array([0.1, 0, 0])"
   ]
  },
  {
   "cell_type": "code",
   "execution_count": 14,
   "id": "military-virgin",
   "metadata": {},
   "outputs": [],
   "source": [
    "sis_lorenz = lsys.SistemaLorenz(estado_inicial, dt=dt)"
   ]
  },
  {
   "cell_type": "code",
   "execution_count": 15,
   "id": "manufactured-depth",
   "metadata": {},
   "outputs": [],
   "source": [
    "solucoes_lorenz, instantes_temporais_lorenz = sis_lorenz.calcular(t_inicial = t_inicial, t_final = t_final)"
   ]
  },
  {
   "cell_type": "code",
   "execution_count": 16,
   "id": "medieval-clock",
   "metadata": {},
   "outputs": [],
   "source": [
    "x_lorenz = solucoes_lorenz[:, 0]"
   ]
  },
  {
   "cell_type": "code",
   "execution_count": 17,
   "id": "boring-politics",
   "metadata": {},
   "outputs": [
    {
     "data": {
      "application/vnd.jupyter.widget-view+json": {
       "model_id": "f579adf2766b45fd8409552533e2ca77",
       "version_major": 2,
       "version_minor": 0
      },
      "text/plain": [
       "Canvas(toolbar=Toolbar(toolitems=[('Home', 'Reset original view', 'home', 'home'), ('Back', 'Back to previous …"
      ]
     },
     "metadata": {},
     "output_type": "display_data"
    }
   ],
   "source": [
    "fig, ax = plt.subplots()\n",
    "ax.set_title(\"Série temporal em $\\hat{x}$ de 0 a 50 segundos do Sistema de Lorenz\\n utilizando $\\sigma = 10$, \" + r\"$\\beta =\\frac{8}{3}$, \" + r\"$\\rho=28$, com \" + \"$x(0) =$ \" + str(estado_inicial[0]) + \", $y(0) = $ \" + str(estado_inicial[1]) + \" e $z(0) =$ \" + str(estado_inicial[2]))\n",
    "ax.plot(instantes_temporais_lorenz, x_lorenz, color='DodgerBlue')\n",
    "\n",
    "ax.set_ylabel('$x(t)$')\n",
    "ax.set_xlabel('$t$')\n",
    "ax.set_xlim(0,)\n",
    "ax.grid(True)\n",
    "\n",
    "fig.tight_layout()\n",
    "sns.despine()\n",
    "plt.show()"
   ]
  },
  {
   "cell_type": "markdown",
   "id": "committed-corpus",
   "metadata": {},
   "source": [
    "## 5. Gerando a série temporal das Equações de Mackey-Glass"
   ]
  },
  {
   "cell_type": "code",
   "execution_count": 18,
   "id": "demographic-separation",
   "metadata": {},
   "outputs": [],
   "source": [
    "t_inicial = 0\n",
    "t_final = 5000\n",
    "tau = 22\n",
    "n = 10\n",
    "gamma = 0.1\n",
    "beta = 0.2\n",
    "theta = 1"
   ]
  },
  {
   "cell_type": "code",
   "execution_count": 19,
   "id": "settled-sending",
   "metadata": {},
   "outputs": [],
   "source": [
    "macglass = mgeq.MackeyGlass(tau=tau, gamma=gamma, beta=beta, n=n, theta=theta)"
   ]
  },
  {
   "cell_type": "code",
   "execution_count": 20,
   "id": "outer-south",
   "metadata": {},
   "outputs": [
    {
     "name": "stdout",
     "output_type": "stream",
     "text": [
      "Generating, compiling, and loading C code.\n",
      "Using default integration parameters.\n"
     ]
    }
   ],
   "source": [
    "solucoes, instantes_temporais = macglass.calcular(t_inicial = t_inicial, t_final = t_final)\n",
    "x_mackeyglass = np.array(solucoes)"
   ]
  },
  {
   "cell_type": "code",
   "execution_count": 21,
   "id": "talented-ambassador",
   "metadata": {},
   "outputs": [
    {
     "data": {
      "application/vnd.jupyter.widget-view+json": {
       "model_id": "e07214ef94bc4c83b1d4bfddf5ffe048",
       "version_major": 2,
       "version_minor": 0
      },
      "text/plain": [
       "Canvas(toolbar=Toolbar(toolitems=[('Home', 'Reset original view', 'home', 'home'), ('Back', 'Back to previous …"
      ]
     },
     "metadata": {},
     "output_type": "display_data"
    }
   ],
   "source": [
    "fig, ax = plt.subplots()\n",
    "ax.set_title('Série temporal de 0 a 600 dias da equação de Mackey-Glass para\\n' + r'$\\tau =$ ' + str(tau) + r', $\\beta =$ ' + str(beta) + r', $\\gamma =$ ' + str(gamma) + r', $n =$ ' + str(n) + r' e $\\theta =$ ' + str(theta) + ' utilizando $P(0) =$ ' + str(0.1*theta))\n",
    "ax.plot(instantes_temporais, x_mackeyglass, color='Gold')\n",
    "\n",
    "ax.set_ylabel('$P(t)$')\n",
    "ax.set_xlabel('$t$')\n",
    "ax.set_xlim(0,600)\n",
    "    \n",
    "ax.grid(True)\n",
    "\n",
    "fig.tight_layout()\n",
    "sns.despine()\n",
    "plt.show()"
   ]
  },
  {
   "cell_type": "markdown",
   "id": "spoken-cursor",
   "metadata": {},
   "source": [
    "## 6. Visualizando as autocorrelações"
   ]
  },
  {
   "cell_type": "code",
   "execution_count": 14,
   "id": "indie-motor",
   "metadata": {},
   "outputs": [],
   "source": [
    "from matplotlib.collections import PolyCollection, LineCollection"
   ]
  },
  {
   "cell_type": "markdown",
   "id": "experimental-queen",
   "metadata": {},
   "source": [
    "### 6.a) Mapa Logístico"
   ]
  },
  {
   "cell_type": "code",
   "execution_count": 23,
   "id": "extended-bridges",
   "metadata": {},
   "outputs": [
    {
     "data": {
      "application/vnd.jupyter.widget-view+json": {
       "model_id": "71f5068b3bd946cd96094b638d1a5767",
       "version_major": 2,
       "version_minor": 0
      },
      "text/plain": [
       "Canvas(toolbar=Toolbar(toolitems=[('Home', 'Reset original view', 'home', 'home'), ('Back', 'Back to previous …"
      ]
     },
     "metadata": {},
     "output_type": "display_data"
    }
   ],
   "source": [
    "fig, ax = plt.subplots()\n",
    "cor = 'Crimson'\n",
    "\n",
    "plot_acf(x_log, ax=ax, color=cor)\n",
    "\n",
    "ax.set_title(\"Autocorrelação da série temporal do mapa logístico\\n para $r = $ \" + str(r) + \" e $x[0] =$ \" + str(x_log[0]))\n",
    "ax.set_ylabel('Autocorrelação$[K]$')\n",
    "ax.set_xlabel('$K$')\n",
    "ax.set_xlim(0,)\n",
    "\n",
    "for item in ax.collections:\n",
    "    #change the color of the CI \n",
    "    if type(item)==PolyCollection:\n",
    "        item.set_facecolor(cor)\n",
    "    #change the color of the vertical lines\n",
    "    if type(item)==LineCollection:\n",
    "        item.set_color(cor)    \n",
    "#change the color of the markers/horizontal line\n",
    "for item in ax.lines:\n",
    "    item.set_color(cor)\n",
    "\n",
    "ax.grid(False)\n",
    "sns.despine()\n",
    "fig.savefig(\"../../images/autocorrelacao/autocorrelacao-logistic.png\")\n",
    "plt.show()"
   ]
  },
  {
   "cell_type": "code",
   "execution_count": 24,
   "id": "unauthorized-edition",
   "metadata": {},
   "outputs": [
    {
     "data": {
      "application/vnd.jupyter.widget-view+json": {
       "model_id": "d026cc37b8a64ba9829b98811a2d02d4",
       "version_major": 2,
       "version_minor": 0
      },
      "text/plain": [
       "Canvas(toolbar=Toolbar(toolitems=[('Home', 'Reset original view', 'home', 'home'), ('Back', 'Back to previous …"
      ]
     },
     "metadata": {},
     "output_type": "display_data"
    }
   ],
   "source": [
    "fig, ax = plt.subplots()\n",
    "cor=\"Crimson\"\n",
    "\n",
    "plot_pacf(x_log, ax=ax, color=cor)\n",
    "\n",
    "ax.set_title(\"Autocorrelação parcial da série temporal do mapa logístico\\n para $r = $ \" + str(r) + \" e $x[0] =$ \" + str(x_log[0]))\n",
    "ax.set_ylabel('Autocorrelação parcial$[K]$')\n",
    "ax.set_xlabel('$K$')\n",
    "ax.set_xlim(0,)\n",
    "\n",
    "for item in ax.collections:\n",
    "    #change the color of the CI \n",
    "    if type(item)==PolyCollection:\n",
    "        item.set_facecolor(cor)\n",
    "    #change the color of the vertical lines\n",
    "    if type(item)==LineCollection:\n",
    "        item.set_color(cor)    \n",
    "#change the color of the markers/horizontal line\n",
    "for item in ax.lines:\n",
    "    item.set_color(cor)\n",
    "\n",
    "ax.grid(False)\n",
    "sns.despine()\n",
    "fig.savefig(\"../../images/autocorrelacao/autocorrelacao-parcial-logistic.png\")\n",
    "plt.show()"
   ]
  },
  {
   "cell_type": "markdown",
   "id": "continental-deviation",
   "metadata": {},
   "source": [
    "Como podemos ver, utilizaremos $K_{max} = 8$ para a previsão no mapa logístico."
   ]
  },
  {
   "cell_type": "markdown",
   "id": "accessible-times",
   "metadata": {},
   "source": [
    "### 6.b) Mapa de Hénon"
   ]
  },
  {
   "cell_type": "code",
   "execution_count": 24,
   "id": "geological-neutral",
   "metadata": {},
   "outputs": [
    {
     "data": {
      "application/vnd.jupyter.widget-view+json": {
       "model_id": "c41c07d8464a4751802cc482f0080c59",
       "version_major": 2,
       "version_minor": 0
      },
      "text/plain": [
       "Canvas(toolbar=Toolbar(toolitems=[('Home', 'Reset original view', 'home', 'home'), ('Back', 'Back to previous …"
      ]
     },
     "metadata": {},
     "output_type": "display_data"
    }
   ],
   "source": [
    "fig, ax = plt.subplots()\n",
    "cor = 'DarkGreen'\n",
    "\n",
    "plot_acf(x_henon, ax=ax, color=cor, title=None)\n",
    "\n",
    "#ax.set_title(\"Autocorrelação da série temporal em $\\hat{x}$ do Mapa de Hénon para\\n $a =$ \" + str(a) + \" e $b =$ \" + str(b) + \" com $x[0] =$ \" + str(x_henon[0]) + \" e $y[0] =$ \" + str(y_henon[0]))\n",
    "ax.set_ylabel('Autocorrelação$[K]$')\n",
    "ax.set_xlabel('$K$')\n",
    "ax.set_xlim(0,)\n",
    "\n",
    "for item in ax.collections:\n",
    "    #change the color of the CI \n",
    "    if type(item)==PolyCollection:\n",
    "        item.set_facecolor(cor)\n",
    "    #change the color of the vertical lines\n",
    "    if type(item)==LineCollection:\n",
    "        item.set_color(cor)    \n",
    "#change the color of the markers/horizontal line\n",
    "for item in ax.lines:\n",
    "    item.set_color(cor)\n",
    "    \n",
    "plt.subplots_adjust(top=0.95)\n",
    "ax.grid(False)\n",
    "sns.despine()\n",
    "fig.savefig(\"../../images/autocorrelacao/autocorrelacao-henon.pdf\")\n",
    "plt.show()"
   ]
  },
  {
   "cell_type": "code",
   "execution_count": 26,
   "id": "sound-brass",
   "metadata": {},
   "outputs": [
    {
     "data": {
      "application/vnd.jupyter.widget-view+json": {
       "model_id": "c997ff19526e44a187c0e387cee45321",
       "version_major": 2,
       "version_minor": 0
      },
      "text/plain": [
       "Canvas(toolbar=Toolbar(toolitems=[('Home', 'Reset original view', 'home', 'home'), ('Back', 'Back to previous …"
      ]
     },
     "metadata": {},
     "output_type": "display_data"
    }
   ],
   "source": [
    "fig, ax = plt.subplots()\n",
    "cor=\"DarkGreen\"\n",
    "\n",
    "plot_pacf(x_henon, ax=ax, color=cor, title=None)\n",
    "\n",
    "#ax.set_title(\"Autocorrelação parcial da série temporal em $\\hat{x}$ do Mapa de Hénon para\\n $a =$ \" + str(a) + \" e $b =$ \" + str(b) + \" com $x[0] =$ \" + str(x_henon[0]) + \" e $y[0] =$ \" + str(y_henon[0]))\n",
    "ax.set_ylabel('Autocorrelação parcial$[K]$')\n",
    "ax.set_xlabel('$K$')\n",
    "ax.set_xlim(0,)\n",
    "\n",
    "for item in ax.collections:\n",
    "    #change the color of the CI \n",
    "    if type(item)==PolyCollection:\n",
    "        item.set_facecolor(cor)\n",
    "    #change the color of the vertical lines\n",
    "    if type(item)==LineCollection:\n",
    "        item.set_color(cor)    \n",
    "#change the color of the markers/horizontal line\n",
    "for item in ax.lines:\n",
    "    item.set_color(cor)\n",
    "    \n",
    "plt.subplots_adjust(top=0.95)\n",
    "ax.grid(False)\n",
    "sns.despine()\n",
    "fig.savefig(\"../../images/autocorrelacao/autocorrelacao-parcial-henon.pdf\")\n",
    "plt.show()"
   ]
  },
  {
   "cell_type": "markdown",
   "id": "infectious-semiconductor",
   "metadata": {},
   "source": [
    "Como podemos ver, utilizaremos $K_{max} = 9$ para a previsão no mapa de Hénon."
   ]
  },
  {
   "cell_type": "markdown",
   "id": "pending-broadway",
   "metadata": {},
   "source": [
    "### 6.c) Sistema de Lorenz"
   ]
  },
  {
   "cell_type": "code",
   "execution_count": 27,
   "id": "dense-western",
   "metadata": {},
   "outputs": [
    {
     "data": {
      "application/vnd.jupyter.widget-view+json": {
       "model_id": "5c05b67a98314479b9e163d678ae9b1b",
       "version_major": 2,
       "version_minor": 0
      },
      "text/plain": [
       "Canvas(toolbar=Toolbar(toolitems=[('Home', 'Reset original view', 'home', 'home'), ('Back', 'Back to previous …"
      ]
     },
     "metadata": {},
     "output_type": "display_data"
    }
   ],
   "source": [
    "fig, ax = plt.subplots()\n",
    "cor = 'DodgerBlue'\n",
    "\n",
    "plot_acf(x_lorenz, ax=ax, color=cor)\n",
    "\n",
    "ax.set_title(\"Autocorrelação da série temporal em $\\hat{x}$ do Sistema de Lorenz\\n utilizando $\\sigma = 10$, \" + r\"$\\beta =\\frac{8}{3}$, \" + r\"$\\rho=28$, com \" + \"$x(0) =$ \" + str(estado_inicial[0]) + \", $y(0) = $ \" + str(estado_inicial[1]) + \" e $z(0) =$ \" + str(estado_inicial[2]))\n",
    "ax.set_ylabel('Autocorrelação$[K]$')\n",
    "ax.set_xlabel('$K$')\n",
    "ax.set_xlim(0,)\n",
    "\n",
    "for item in ax.collections:\n",
    "    #change the color of the CI \n",
    "    if type(item)==PolyCollection:\n",
    "        item.set_facecolor(cor)\n",
    "    #change the color of the vertical lines\n",
    "    if type(item)==LineCollection:\n",
    "        item.set_color(cor)    \n",
    "#change the color of the markers/horizontal line\n",
    "for item in ax.lines:\n",
    "    item.set_color(cor)\n",
    "\n",
    "ax.grid(False)\n",
    "sns.despine()\n",
    "fig.savefig(\"../../images/autocorrelacao/autocorrelacao-lorenz.png\")\n",
    "plt.show()"
   ]
  },
  {
   "cell_type": "code",
   "execution_count": 28,
   "id": "tested-catalyst",
   "metadata": {},
   "outputs": [
    {
     "data": {
      "application/vnd.jupyter.widget-view+json": {
       "model_id": "c0c5145b39e740cf93d4051c71414ef6",
       "version_major": 2,
       "version_minor": 0
      },
      "text/plain": [
       "Canvas(toolbar=Toolbar(toolitems=[('Home', 'Reset original view', 'home', 'home'), ('Back', 'Back to previous …"
      ]
     },
     "metadata": {},
     "output_type": "display_data"
    }
   ],
   "source": [
    "fig, ax = plt.subplots()\n",
    "cor=\"DodgerBlue\"\n",
    "\n",
    "plot_pacf(x_lorenz, ax=ax, color=cor, method='ywm')\n",
    "\n",
    "ax.set_title(\"Autocorrelação parcial da série temporal em $\\hat{x}$ do Sistema de Lorenz\\n utilizando $\\sigma = 10$, \" + r\"$\\beta =\\frac{8}{3}$, \" + r\"$\\rho=28$, com \" + \"$x(0) =$ \" + str(estado_inicial[0]) + \", $y(0) = $ \" + str(estado_inicial[1]) + \" e $z(0) =$ \" + str(estado_inicial[2]))\n",
    "ax.set_ylabel('Autocorrelação parcial$[K]$')\n",
    "ax.set_xlabel('$K$')\n",
    "ax.set_xlim(0,)\n",
    "\n",
    "for item in ax.collections:\n",
    "    #change the color of the CI \n",
    "    if type(item)==PolyCollection:\n",
    "        item.set_facecolor(cor)\n",
    "    #change the color of the vertical lines\n",
    "    if type(item)==LineCollection:\n",
    "        item.set_color(cor)    \n",
    "#change the color of the markers/horizontal line\n",
    "for item in ax.lines:\n",
    "    item.set_color(cor)\n",
    "\n",
    "ax.grid(False)\n",
    "sns.despine()\n",
    "fig.savefig(\"../../images/autocorrelacao/autocorrelacao-parcial-lorenz.png\")\n",
    "plt.show()"
   ]
  },
  {
   "cell_type": "markdown",
   "id": "broadband-bermuda",
   "metadata": {},
   "source": [
    "Como podemos ver, utilizaremos $K_{max} = 10$ para a previsão o sistema de Lorenz."
   ]
  },
  {
   "cell_type": "markdown",
   "id": "deadly-calibration",
   "metadata": {},
   "source": [
    "### 6.d) Equações de Mackey-Glass"
   ]
  },
  {
   "cell_type": "code",
   "execution_count": 29,
   "id": "handled-dominican",
   "metadata": {},
   "outputs": [
    {
     "data": {
      "application/vnd.jupyter.widget-view+json": {
       "model_id": "1071e8ea278e4700a794a521a6f8802b",
       "version_major": 2,
       "version_minor": 0
      },
      "text/plain": [
       "Canvas(toolbar=Toolbar(toolitems=[('Home', 'Reset original view', 'home', 'home'), ('Back', 'Back to previous …"
      ]
     },
     "metadata": {},
     "output_type": "display_data"
    }
   ],
   "source": [
    "fig, ax = plt.subplots()\n",
    "cor = 'Gold'\n",
    "\n",
    "plot_acf(x_mackeyglass, ax=ax, color=cor)\n",
    "\n",
    "ax.set_title('Autocorrelação da série temporal da equação de Mackey-Glass para\\n' + r'$\\tau =$ ' + str(tau) + r', $\\beta =$ ' + str(beta) + r', $\\gamma =$ ' + str(gamma) + r', $n =$ ' + str(n) + r' e $\\theta =$ ' + str(theta) + ' utilizando $P(0) =$ ' + str(0.1*theta))\n",
    "ax.set_ylabel('Autocorrelação$[K]$')\n",
    "ax.set_xlabel('$K$')\n",
    "ax.set_xlim(0,)\n",
    "\n",
    "for item in ax.collections:\n",
    "    #change the color of the CI \n",
    "    if type(item)==PolyCollection:\n",
    "        item.set_facecolor(cor)\n",
    "    #change the color of the vertical lines\n",
    "    if type(item)==LineCollection:\n",
    "        item.set_color(cor)    \n",
    "#change the color of the markers/horizontal line\n",
    "for item in ax.lines:\n",
    "    item.set_color(cor)\n",
    "\n",
    "ax.grid(False)\n",
    "sns.despine()\n",
    "fig.savefig(\"../../images/autocorrelacao/autocorrelacao-mackeyglass.png\")\n",
    "plt.show()"
   ]
  },
  {
   "cell_type": "code",
   "execution_count": 30,
   "id": "beginning-liabilities",
   "metadata": {},
   "outputs": [
    {
     "data": {
      "application/vnd.jupyter.widget-view+json": {
       "model_id": "e194bc592ee54f47908313bd4ebd9fa4",
       "version_major": 2,
       "version_minor": 0
      },
      "text/plain": [
       "Canvas(toolbar=Toolbar(toolitems=[('Home', 'Reset original view', 'home', 'home'), ('Back', 'Back to previous …"
      ]
     },
     "metadata": {},
     "output_type": "display_data"
    }
   ],
   "source": [
    "fig, ax = plt.subplots()\n",
    "cor=\"Gold\"\n",
    "\n",
    "plot_pacf(x_mackeyglass, ax=ax, color=cor)\n",
    "\n",
    "ax.set_title('Autocorrelação parcial da série temporal da equação de Mackey-Glass para\\n' + r'$\\tau =$ ' + str(tau) + r', $\\beta =$ ' + str(beta) + r', $\\gamma =$ ' + str(gamma) + r', $n =$ ' + str(n) + r' e $\\theta =$ ' + str(theta) + ' utilizando $P(0) =$ ' + str(0.1*theta))\n",
    "ax.set_ylabel('Autocorrelação parcial$[K]$')\n",
    "ax.set_xlabel('$K$')\n",
    "ax.set_xlim(0,)\n",
    "\n",
    "for item in ax.collections:\n",
    "    #change the color of the CI \n",
    "    if type(item)==PolyCollection:\n",
    "        item.set_facecolor(cor)\n",
    "    #change the color of the vertical lines\n",
    "    if type(item)==LineCollection:\n",
    "        item.set_color(cor)    \n",
    "#change the color of the markers/horizontal line\n",
    "for item in ax.lines:\n",
    "    item.set_color(cor)\n",
    "\n",
    "ax.grid(False)\n",
    "sns.despine()\n",
    "fig.savefig(\"../../images/autocorrelacao/autocorrelacao-parcial-mackeyglass.png\")\n",
    "plt.show()"
   ]
  },
  {
   "cell_type": "markdown",
   "id": "limited-basket",
   "metadata": {},
   "source": [
    "Como podemos ver, utilizaremos $K_{max} = 7$ para a previsão nas equações de Mackey-Glass."
   ]
  },
  {
   "cell_type": "code",
   "execution_count": null,
   "id": "ahead-substitute",
   "metadata": {},
   "outputs": [],
   "source": []
  }
 ],
 "metadata": {
  "kernelspec": {
   "display_name": "pibic2020-env",
   "language": "python",
   "name": "pibic2020-env"
  },
  "language_info": {
   "codemirror_mode": {
    "name": "ipython",
    "version": 3
   },
   "file_extension": ".py",
   "mimetype": "text/x-python",
   "name": "python",
   "nbconvert_exporter": "python",
   "pygments_lexer": "ipython3",
   "version": "3.8.10"
  }
 },
 "nbformat": 4,
 "nbformat_minor": 5
}
