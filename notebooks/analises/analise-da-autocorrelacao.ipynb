{
 "cells": [
  {
   "cell_type": "markdown",
   "metadata": {},
   "source": [
    "# Analisando as autocorrelações das séries temporais nos sistemas a serem analisados"
   ]
  },
  {
   "cell_type": "markdown",
   "metadata": {},
   "source": [
    "## 1. Importando as bibliotecas necessárias"
   ]
  },
  {
   "cell_type": "markdown",
   "metadata": {},
   "source": [
    "### 1.1 Bibliotecas gerais"
   ]
  },
  {
   "cell_type": "code",
   "execution_count": 1,
   "metadata": {},
   "outputs": [],
   "source": [
    "%matplotlib widget\n",
    "import numpy as np\n",
    "import pandas as pd\n",
    "import matplotlib.pyplot as plt\n",
    "import seaborn as sns # a biblioteca 'seaborn' contém vários estilos para os gráficos do 'matpĺotlib'\n",
    "\n",
    "from statsmodels.graphics.tsaplots import plot_acf # para exibir as autocorrelacoes\n",
    "from statsmodels.graphics.tsaplots import plot_pacf\n",
    "\n",
    "# agora, melhoramos a qualidade de saida e de visualizacao da imagem \n",
    "# alem de mudar a fonte padrao para uma do latex\n",
    "sns.set_style(\"ticks\")\n",
    "plt.rcParams['savefig.dpi'] = 200\n",
    "plt.rcParams[\"figure.dpi\"] = 100\n",
    "\n",
    "plt.rcParams.update({\n",
    "    \"text.usetex\": True,\n",
    "    \"font.family\": \"serif\",\n",
    "    \"font.serif\": [\"Palatino\"],\n",
    "})\n",
    "plt.style.use('dark_background')"
   ]
  },
  {
   "cell_type": "markdown",
   "metadata": {},
   "source": [
    "### 1.2 Bibliotecas dos sistemas caóticos"
   ]
  },
  {
   "cell_type": "code",
   "execution_count": 2,
   "metadata": {},
   "outputs": [],
   "source": [
    "import sys \n",
    "sys.path.insert(0, '../../scripts')\n",
    "\n",
    "import logisticmap as logmap\n",
    "import henonmap as hmap\n",
    "import lorenzsystem as lsys\n",
    "import mackeyglassequations as mgeq"
   ]
  },
  {
   "cell_type": "markdown",
   "metadata": {},
   "source": [
    "## 2. Gerando a série temporal do mapa logístico"
   ]
  },
  {
   "cell_type": "code",
   "execution_count": 3,
   "metadata": {},
   "outputs": [],
   "source": [
    "x_inicial = 0.5\n",
    "n_inicial = 0\n",
    "n_iteracoes = 5000\n",
    "r=3.86\n",
    "estados = np.array([x_inicial, n_inicial])"
   ]
  },
  {
   "cell_type": "code",
   "execution_count": 4,
   "metadata": {},
   "outputs": [],
   "source": [
    "mapa = logmap.MapaLogistico(estado_inicial=estados, r=r)"
   ]
  },
  {
   "cell_type": "code",
   "execution_count": 5,
   "metadata": {},
   "outputs": [],
   "source": [
    "for n in range(0, n_iteracoes):\n",
    "    mapa.iterar()\n",
    "    estados = np.vstack((estados, mapa.ler_estado()))"
   ]
  },
  {
   "cell_type": "code",
   "execution_count": 6,
   "metadata": {},
   "outputs": [],
   "source": [
    "x_log = estados[:, 0]\n",
    "n_log = estados[:, 1]"
   ]
  },
  {
   "cell_type": "code",
   "execution_count": 7,
   "metadata": {},
   "outputs": [
    {
     "data": {
      "application/vnd.jupyter.widget-view+json": {
       "model_id": "847ca717199d4b79b30bb68c8ce91eda",
       "version_major": 2,
       "version_minor": 0
      },
      "text/plain": [
       "Canvas(toolbar=Toolbar(toolitems=[('Home', 'Reset original view', 'home', 'home'), ('Back', 'Back to previous …"
      ]
     },
     "metadata": {},
     "output_type": "display_data"
    }
   ],
   "source": [
    "fig, ax = plt.subplots()\n",
    "ax.plot(n_log, x_log, color='Crimson')\n",
    "\n",
    "ax.set_title(\"$100$ iterações iniciais da série temporal do Mapa Logístico para $r = $\" + str(r) + \" \\n com $x_{0} =$ \" + str(x_log[0]))\n",
    "ax.set_ylabel('$x[n]$')\n",
    "ax.set_xlabel('$n$')\n",
    "ax.set_xlim(0,100)\n",
    "    \n",
    "ax.grid(True)\n",
    "sns.despine()\n",
    "\n",
    "plt.show()"
   ]
  },
  {
   "cell_type": "markdown",
   "metadata": {},
   "source": [
    "## 3. Gerando a série temporal do Mapa de Hénon"
   ]
  },
  {
   "cell_type": "code",
   "execution_count": 8,
   "metadata": {},
   "outputs": [],
   "source": [
    "a = 1.4\n",
    "b = 0.3\n",
    "x_inicial = 1.0\n",
    "y_inicial = 0.0\n",
    "n_inicial = 0\n",
    "\n",
    "estados = np.array([x_inicial, y_inicial, n_inicial])\n",
    "\n",
    "mapa = hmap.MapaHenon(estado_inicial=estados)"
   ]
  },
  {
   "cell_type": "code",
   "execution_count": 9,
   "metadata": {
    "tags": []
   },
   "outputs": [],
   "source": [
    "n_iteracoes = 5000\n",
    "\n",
    "for n in range(0, n_iteracoes):\n",
    "    mapa.iterar()\n",
    "    estados = np.vstack((estados, mapa.ler_estado()))"
   ]
  },
  {
   "cell_type": "code",
   "execution_count": 10,
   "metadata": {},
   "outputs": [],
   "source": [
    "x_henon = estados[:, 0]\n",
    "y_henon = estados[:, 1]\n",
    "n_henon = estados[:, 2]"
   ]
  },
  {
   "cell_type": "code",
   "execution_count": 11,
   "metadata": {},
   "outputs": [
    {
     "data": {
      "application/vnd.jupyter.widget-view+json": {
       "model_id": "bf4e3ba6fbdc4f6490198db8fd4f7b80",
       "version_major": 2,
       "version_minor": 0
      },
      "text/plain": [
       "Canvas(toolbar=Toolbar(toolitems=[('Home', 'Reset original view', 'home', 'home'), ('Back', 'Back to previous …"
      ]
     },
     "metadata": {},
     "output_type": "display_data"
    }
   ],
   "source": [
    "fig, ax = plt.subplots()\n",
    "ax.plot(n_henon, x_henon, color='LimeGreen')\n",
    "\n",
    "ax.set_title(\"100 primeiras iterações da séries temporal em $\\hat{x}$ do Mapa de Hénon para\\n $a =$ \" + str(a) + \" e $b =$ \" + str(b) + \" com $x_{0} =$ \" + str(x_henon[0]) + \" e $y_{0} =$ \" + str(y_henon[0]))\n",
    "ax.set_ylabel('$x[n]$')\n",
    "ax.set_xlabel('$n$')\n",
    "ax.set_xlim(0, 100)  \n",
    "ax.grid(True)\n",
    "\n",
    "fig.tight_layout()\n",
    "sns.despine()\n",
    "plt.show()"
   ]
  },
  {
   "cell_type": "markdown",
   "metadata": {},
   "source": [
    "## 4. Gerando a série temporal do Sistema de Lorenz"
   ]
  },
  {
   "cell_type": "code",
   "execution_count": 12,
   "metadata": {},
   "outputs": [],
   "source": [
    "t_inicial = 0\n",
    "t_final = 50\n",
    "dt = 0.01"
   ]
  },
  {
   "cell_type": "code",
   "execution_count": 13,
   "metadata": {},
   "outputs": [],
   "source": [
    "estado_inicial = np.array([0.1, 0, 0])"
   ]
  },
  {
   "cell_type": "code",
   "execution_count": 14,
   "metadata": {},
   "outputs": [],
   "source": [
    "sis_lorenz = lsys.SistemaLorenz(estado_inicial, dt=dt)"
   ]
  },
  {
   "cell_type": "code",
   "execution_count": 15,
   "metadata": {},
   "outputs": [],
   "source": [
    "solucoes_lorenz, instantes_temporais_lorenz = sis_lorenz.calcular(t_inicial = t_inicial, t_final = t_final)"
   ]
  },
  {
   "cell_type": "code",
   "execution_count": 16,
   "metadata": {},
   "outputs": [],
   "source": [
    "x_lorenz = solucoes_lorenz[:, 0]"
   ]
  },
  {
   "cell_type": "code",
   "execution_count": 17,
   "metadata": {},
   "outputs": [
    {
     "data": {
      "application/vnd.jupyter.widget-view+json": {
       "model_id": "8498a8c1fc0142f3aac99277f10d52a0",
       "version_major": 2,
       "version_minor": 0
      },
      "text/plain": [
       "Canvas(toolbar=Toolbar(toolitems=[('Home', 'Reset original view', 'home', 'home'), ('Back', 'Back to previous …"
      ]
     },
     "metadata": {},
     "output_type": "display_data"
    }
   ],
   "source": [
    "fig, ax = plt.subplots()\n",
    "fig.suptitle(\"Série temporal em $\\hat{x}$ de 0 a 50 segundos do Sistema de Lorenz\")\n",
    "ax.plot(instantes_temporais_lorenz, x_lorenz, color='DodgerBlue')\n",
    "\n",
    "ax.set_ylabel('$x(t)$')\n",
    "ax.set_xlabel('$t$')\n",
    "ax.set_xlim(0,)\n",
    "ax.grid(True)\n",
    "\n",
    "fig.tight_layout()\n",
    "sns.despine()\n",
    "plt.show()"
   ]
  },
  {
   "cell_type": "markdown",
   "metadata": {},
   "source": [
    "## 5. Gerando a série temporal das Equações de Mackey-Glass"
   ]
  },
  {
   "cell_type": "code",
   "execution_count": 18,
   "metadata": {},
   "outputs": [],
   "source": [
    "t_inicial = 0\n",
    "t_final = 5000\n",
    "tau = 22\n",
    "n = 10\n",
    "gamma = 0.1\n",
    "beta = 0.2\n",
    "theta = 1"
   ]
  },
  {
   "cell_type": "code",
   "execution_count": 19,
   "metadata": {},
   "outputs": [],
   "source": [
    "macglass = mgeq.MackeyGlass(tau=tau, gamma=gamma, beta=beta, n=n, theta=theta)"
   ]
  },
  {
   "cell_type": "code",
   "execution_count": 46,
   "metadata": {},
   "outputs": [
    {
     "name": "stdout",
     "output_type": "stream",
     "text": [
      "Generating, compiling, and loading C code.\n",
      "Using default integration parameters.\n"
     ]
    }
   ],
   "source": [
    "solucoes, instantes_temporais = macglass.calcular(t_inicial = t_inicial, t_final = t_final)\n",
    "x_mackeyglass = np.array(solucoes)"
   ]
  },
  {
   "cell_type": "code",
   "execution_count": 47,
   "metadata": {},
   "outputs": [
    {
     "data": {
      "application/vnd.jupyter.widget-view+json": {
       "model_id": "0cdf4565712447e18c91b4f8591ee117",
       "version_major": 2,
       "version_minor": 0
      },
      "text/plain": [
       "Canvas(toolbar=Toolbar(toolitems=[('Home', 'Reset original view', 'home', 'home'), ('Back', 'Back to previous …"
      ]
     },
     "metadata": {},
     "output_type": "display_data"
    }
   ],
   "source": [
    "fig, ax = plt.subplots()\n",
    "ax.set_title('Série temporal de 0 a 600 dias da equação de Mackey-Glass para\\n' + r'$\\tau =$ ' + str(tau) + r', $\\beta =$ ' + str(beta) + r', $\\gamma =$ ' + str(gamma) + r', $n =$ ' + str(n) + r' e $\\theta =$ ' + str(theta) + ' utilizando P(0) = ' + str(0.1*theta))\n",
    "ax.plot(instantes_temporais, x_mackeyglass, color='Gold')\n",
    "\n",
    "ax.set_ylabel('$P(t)$')\n",
    "ax.set_xlabel('$t$')\n",
    "ax.set_xlim(0,600)\n",
    "    \n",
    "ax.grid(True)\n",
    "\n",
    "fig.tight_layout()\n",
    "sns.despine()\n",
    "plt.show()"
   ]
  },
  {
   "cell_type": "markdown",
   "metadata": {},
   "source": [
    "## 6. Visualizando as autocorrelações"
   ]
  },
  {
   "cell_type": "code",
   "execution_count": 26,
   "metadata": {},
   "outputs": [],
   "source": [
    "from matplotlib.collections import PolyCollection, LineCollection"
   ]
  },
  {
   "cell_type": "markdown",
   "metadata": {},
   "source": [
    "### 6.a) Mapa Logístico"
   ]
  },
  {
   "cell_type": "code",
   "execution_count": 63,
   "metadata": {},
   "outputs": [
    {
     "data": {
      "application/vnd.jupyter.widget-view+json": {
       "model_id": "b9721dde48cb475ebea499fd731a64bc",
       "version_major": 2,
       "version_minor": 0
      },
      "text/plain": [
       "Canvas(toolbar=Toolbar(toolitems=[('Home', 'Reset original view', 'home', 'home'), ('Back', 'Back to previous …"
      ]
     },
     "metadata": {},
     "output_type": "display_data"
    }
   ],
   "source": [
    "fig, ax = plt.subplots()\n",
    "cor = 'Crimson'\n",
    "\n",
    "plot_acf(x_log, ax=ax, color=cor)\n",
    "\n",
    "ax.set_title(\"Autocorrelação da série temporal do mapa logístico para\\n diversos valores de atraso $K$\")\n",
    "ax.set_ylabel('Autocorrelação$[K]$')\n",
    "ax.set_xlabel('$K$')\n",
    "ax.set_xlim(-.5,)\n",
    "\n",
    "for item in ax.collections:\n",
    "    #change the color of the CI \n",
    "    if type(item)==PolyCollection:\n",
    "        item.set_facecolor(cor)\n",
    "    #change the color of the vertical lines\n",
    "    if type(item)==LineCollection:\n",
    "        item.set_color(cor)    \n",
    "#change the color of the markers/horizontal line\n",
    "for item in ax.lines:\n",
    "    item.set_color(cor)\n",
    "\n",
    "ax.grid(False)\n",
    "sns.despine()\n",
    "fig.savefig(\"../../images/autocorrelacao/autocorrelacao-logistic.png\")\n",
    "plt.show()"
   ]
  },
  {
   "cell_type": "code",
   "execution_count": 62,
   "metadata": {},
   "outputs": [
    {
     "data": {
      "application/vnd.jupyter.widget-view+json": {
       "model_id": "236aa073d8e14e05b4da03d8a6359c50",
       "version_major": 2,
       "version_minor": 0
      },
      "text/plain": [
       "Canvas(toolbar=Toolbar(toolitems=[('Home', 'Reset original view', 'home', 'home'), ('Back', 'Back to previous …"
      ]
     },
     "metadata": {},
     "output_type": "display_data"
    }
   ],
   "source": [
    "fig, ax = plt.subplots()\n",
    "cor=\"Crimson\"\n",
    "\n",
    "plot_pacf(x_log, ax=ax, color=cor)\n",
    "\n",
    "ax.set_title(\"Autocorrelação parcial da série temporal do mapa logístico para\\n diversos valores de atraso $K$\")\n",
    "ax.set_ylabel('Autocorrelação parcial$[K]$')\n",
    "ax.set_xlabel('$K$')\n",
    "ax.set_xlim(-.5,)\n",
    "\n",
    "for item in ax.collections:\n",
    "    #change the color of the CI \n",
    "    if type(item)==PolyCollection:\n",
    "        item.set_facecolor(cor)\n",
    "    #change the color of the vertical lines\n",
    "    if type(item)==LineCollection:\n",
    "        item.set_color(cor)    \n",
    "#change the color of the markers/horizontal line\n",
    "for item in ax.lines:\n",
    "    item.set_color(cor)\n",
    "\n",
    "ax.grid(False)\n",
    "sns.despine()\n",
    "fig.savefig(\"../../images/autocorrelacao/autocorrelacao-parcial-logistic.png\")\n",
    "plt.show()"
   ]
  },
  {
   "cell_type": "markdown",
   "metadata": {},
   "source": [
    "### 6.b) Mapa de Hénon"
   ]
  },
  {
   "cell_type": "code",
   "execution_count": 61,
   "metadata": {},
   "outputs": [
    {
     "data": {
      "application/vnd.jupyter.widget-view+json": {
       "model_id": "820285c8c1ff453182b272fb048bb62c",
       "version_major": 2,
       "version_minor": 0
      },
      "text/plain": [
       "Canvas(toolbar=Toolbar(toolitems=[('Home', 'Reset original view', 'home', 'home'), ('Back', 'Back to previous …"
      ]
     },
     "metadata": {},
     "output_type": "display_data"
    }
   ],
   "source": [
    "fig, ax = plt.subplots()\n",
    "cor = 'LimeGreen'\n",
    "\n",
    "plot_acf(x_henon, ax=ax, color=cor)\n",
    "\n",
    "ax.set_title(\"Autocorrelação da série temporal do mapa de Hénon para\\n diversos valores de atraso $K$\")\n",
    "ax.set_ylabel('Autocorrelação$[K]$')\n",
    "ax.set_xlabel('$K$')\n",
    "ax.set_xlim(-.5,)\n",
    "\n",
    "for item in ax.collections:\n",
    "    #change the color of the CI \n",
    "    if type(item)==PolyCollection:\n",
    "        item.set_facecolor(cor)\n",
    "    #change the color of the vertical lines\n",
    "    if type(item)==LineCollection:\n",
    "        item.set_color(cor)    \n",
    "#change the color of the markers/horizontal line\n",
    "for item in ax.lines:\n",
    "    item.set_color(cor)\n",
    "\n",
    "ax.grid(False)\n",
    "sns.despine()\n",
    "fig.savefig(\"../../images/autocorrelacao/autocorrelacao-henon.png\")\n",
    "plt.show()"
   ]
  },
  {
   "cell_type": "code",
   "execution_count": 60,
   "metadata": {},
   "outputs": [
    {
     "data": {
      "application/vnd.jupyter.widget-view+json": {
       "model_id": "34a3547cf1eb473686262a2e07342cdc",
       "version_major": 2,
       "version_minor": 0
      },
      "text/plain": [
       "Canvas(toolbar=Toolbar(toolitems=[('Home', 'Reset original view', 'home', 'home'), ('Back', 'Back to previous …"
      ]
     },
     "metadata": {},
     "output_type": "display_data"
    }
   ],
   "source": [
    "fig, ax = plt.subplots()\n",
    "cor=\"LimeGreen\"\n",
    "\n",
    "plot_pacf(x_henon, ax=ax, color=cor)\n",
    "\n",
    "ax.set_title(\"Autocorrelação parcial da série temporal do mapa de Hénon para\\n diversos valores de atraso $K$\")\n",
    "ax.set_ylabel('Autocorrelação parcial$[K]$')\n",
    "ax.set_xlabel('$K$')\n",
    "ax.set_xlim(-.5,)\n",
    "\n",
    "for item in ax.collections:\n",
    "    #change the color of the CI \n",
    "    if type(item)==PolyCollection:\n",
    "        item.set_facecolor(cor)\n",
    "    #change the color of the vertical lines\n",
    "    if type(item)==LineCollection:\n",
    "        item.set_color(cor)    \n",
    "#change the color of the markers/horizontal line\n",
    "for item in ax.lines:\n",
    "    item.set_color(cor)\n",
    "\n",
    "ax.grid(False)\n",
    "sns.despine()\n",
    "fig.savefig(\"../../images/autocorrelacao/autocorrelacao-parcial-henon.png\")\n",
    "plt.show()"
   ]
  },
  {
   "cell_type": "markdown",
   "metadata": {},
   "source": [
    "### 6.c) Sistema de Lorenz"
   ]
  },
  {
   "cell_type": "code",
   "execution_count": 57,
   "metadata": {},
   "outputs": [
    {
     "data": {
      "application/vnd.jupyter.widget-view+json": {
       "model_id": "c4b86a62cacb41dc97dd28b51abb95ba",
       "version_major": 2,
       "version_minor": 0
      },
      "text/plain": [
       "Canvas(toolbar=Toolbar(toolitems=[('Home', 'Reset original view', 'home', 'home'), ('Back', 'Back to previous …"
      ]
     },
     "metadata": {},
     "output_type": "display_data"
    }
   ],
   "source": [
    "fig, ax = plt.subplots()\n",
    "cor = 'DodgerBlue'\n",
    "\n",
    "plot_acf(x_lorenz, ax=ax, color=cor)\n",
    "\n",
    "ax.set_title(\"Autocorrelação da série temporal do sistema de Lorenz para\\n diversos valores de atraso $K$\")\n",
    "ax.set_ylabel('Autocorrelação$[K]$')\n",
    "ax.set_xlabel('$K$')\n",
    "ax.set_xlim(-.5,)\n",
    "\n",
    "for item in ax.collections:\n",
    "    #change the color of the CI \n",
    "    if type(item)==PolyCollection:\n",
    "        item.set_facecolor(cor)\n",
    "    #change the color of the vertical lines\n",
    "    if type(item)==LineCollection:\n",
    "        item.set_color(cor)    \n",
    "#change the color of the markers/horizontal line\n",
    "for item in ax.lines:\n",
    "    item.set_color(cor)\n",
    "\n",
    "ax.grid(False)\n",
    "sns.despine()\n",
    "fig.savefig(\"../../images/autocorrelacao/autocorrelacao-lorenz.png\")\n",
    "plt.show()"
   ]
  },
  {
   "cell_type": "code",
   "execution_count": 56,
   "metadata": {},
   "outputs": [
    {
     "data": {
      "application/vnd.jupyter.widget-view+json": {
       "model_id": "91f8c17907c74152a7b20224dc0fdb29",
       "version_major": 2,
       "version_minor": 0
      },
      "text/plain": [
       "Canvas(toolbar=Toolbar(toolitems=[('Home', 'Reset original view', 'home', 'home'), ('Back', 'Back to previous …"
      ]
     },
     "metadata": {},
     "output_type": "display_data"
    }
   ],
   "source": [
    "fig, ax = plt.subplots()\n",
    "cor=\"DodgerBlue\"\n",
    "\n",
    "plot_pacf(x_lorenz, ax=ax, color=cor, method='ywm')\n",
    "\n",
    "ax.set_title(\"Autocorrelação parcial da série temporal do sistema de Lorenz para\\n diversos valores de atraso $K$\")\n",
    "ax.set_ylabel('Autocorrelação parcial$[K]$')\n",
    "ax.set_xlabel('$K$')\n",
    "ax.set_xlim(-.5,)\n",
    "\n",
    "for item in ax.collections:\n",
    "    #change the color of the CI \n",
    "    if type(item)==PolyCollection:\n",
    "        item.set_facecolor(cor)\n",
    "    #change the color of the vertical lines\n",
    "    if type(item)==LineCollection:\n",
    "        item.set_color(cor)    \n",
    "#change the color of the markers/horizontal line\n",
    "for item in ax.lines:\n",
    "    item.set_color(cor)\n",
    "\n",
    "ax.grid(False)\n",
    "sns.despine()\n",
    "fig.savefig(\"../../images/autocorrelacao/autocorrelacao-parcial-lorenz.png\")\n",
    "plt.show()"
   ]
  },
  {
   "cell_type": "markdown",
   "metadata": {},
   "source": [
    "### 6.d) Equações de Mackey-Glass"
   ]
  },
  {
   "cell_type": "code",
   "execution_count": 59,
   "metadata": {},
   "outputs": [
    {
     "data": {
      "application/vnd.jupyter.widget-view+json": {
       "model_id": "44b47a7401dd4d4c919bc87f193c186a",
       "version_major": 2,
       "version_minor": 0
      },
      "text/plain": [
       "Canvas(toolbar=Toolbar(toolitems=[('Home', 'Reset original view', 'home', 'home'), ('Back', 'Back to previous …"
      ]
     },
     "metadata": {},
     "output_type": "display_data"
    }
   ],
   "source": [
    "fig, ax = plt.subplots()\n",
    "cor = 'Gold'\n",
    "\n",
    "plot_acf(x_mackeyglass, ax=ax, color=cor)\n",
    "\n",
    "ax.set_title(\"Autocorrelação da série temporal das equações de Mackey-Glass para\\n diversos valores de atraso $K$\")\n",
    "ax.set_ylabel('Autocorrelação$[K]$')\n",
    "ax.set_xlabel('$K$')\n",
    "ax.set_xlim(-.5,)\n",
    "\n",
    "for item in ax.collections:\n",
    "    #change the color of the CI \n",
    "    if type(item)==PolyCollection:\n",
    "        item.set_facecolor(cor)\n",
    "    #change the color of the vertical lines\n",
    "    if type(item)==LineCollection:\n",
    "        item.set_color(cor)    \n",
    "#change the color of the markers/horizontal line\n",
    "for item in ax.lines:\n",
    "    item.set_color(cor)\n",
    "\n",
    "ax.grid(False)\n",
    "sns.despine()\n",
    "fig.savefig(\"../../images/autocorrelacao/autocorrelacao-mackeyglass.png\")\n",
    "plt.show()"
   ]
  },
  {
   "cell_type": "code",
   "execution_count": 58,
   "metadata": {},
   "outputs": [
    {
     "data": {
      "application/vnd.jupyter.widget-view+json": {
       "model_id": "9179a5b2fc724bf48ecebbee2b3b873b",
       "version_major": 2,
       "version_minor": 0
      },
      "text/plain": [
       "Canvas(toolbar=Toolbar(toolitems=[('Home', 'Reset original view', 'home', 'home'), ('Back', 'Back to previous …"
      ]
     },
     "metadata": {},
     "output_type": "display_data"
    }
   ],
   "source": [
    "fig, ax = plt.subplots()\n",
    "cor=\"Gold\"\n",
    "\n",
    "plot_pacf(x_mackeyglass, ax=ax, color=cor)\n",
    "\n",
    "ax.set_title(\"Autocorrelação parcial da série temporal das equações de Mackey-Glass para\\n diversos valores de atraso $K$\")\n",
    "ax.set_ylabel('Autocorrelação parcial$[K]$')\n",
    "ax.set_xlabel('$K$')\n",
    "ax.set_xlim(-.5,)\n",
    "\n",
    "for item in ax.collections:\n",
    "    #change the color of the CI \n",
    "    if type(item)==PolyCollection:\n",
    "        item.set_facecolor(cor)\n",
    "    #change the color of the vertical lines\n",
    "    if type(item)==LineCollection:\n",
    "        item.set_color(cor)    \n",
    "#change the color of the markers/horizontal line\n",
    "for item in ax.lines:\n",
    "    item.set_color(cor)\n",
    "\n",
    "ax.grid(False)\n",
    "sns.despine()\n",
    "fig.savefig(\"../../images/autocorrelacao/autocorrelacao-parcial-mackeyglass.png\")\n",
    "plt.show()"
   ]
  },
  {
   "cell_type": "code",
   "execution_count": null,
   "metadata": {},
   "outputs": [],
   "source": []
  }
 ],
 "metadata": {
  "kernelspec": {
   "display_name": "pibic2020-env",
   "language": "python",
   "name": "pibic2020-env"
  },
  "language_info": {
   "codemirror_mode": {
    "name": "ipython",
    "version": 3
   },
   "file_extension": ".py",
   "mimetype": "text/x-python",
   "name": "python",
   "nbconvert_exporter": "python",
   "pygments_lexer": "ipython3",
   "version": "3.8.5"
  }
 },
 "nbformat": 4,
 "nbformat_minor": 5
}
