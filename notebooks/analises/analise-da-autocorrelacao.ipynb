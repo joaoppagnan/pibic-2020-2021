{
 "cells": [
  {
   "cell_type": "markdown",
   "id": "c0e40969",
   "metadata": {},
   "source": [
    "# Analisando as autocorrelações das séries temporais nos sistemas a serem analisados"
   ]
  },
  {
   "cell_type": "markdown",
   "id": "6cab9524",
   "metadata": {},
   "source": [
    "## 1. Importando as bibliotecas necessárias"
   ]
  },
  {
   "cell_type": "markdown",
   "id": "04f2ab01",
   "metadata": {},
   "source": [
    "### 1.1 Bibliotecas gerais"
   ]
  },
  {
   "cell_type": "code",
   "execution_count": 1,
   "id": "9de29a9c",
   "metadata": {},
   "outputs": [],
   "source": [
    "%matplotlib widget\n",
    "import numpy as np\n",
    "import pandas as pd\n",
    "import matplotlib.pyplot as plt\n",
    "import seaborn as sns # a biblioteca 'seaborn' contém vários estilos para os gráficos do 'matpĺotlib'\n",
    "\n",
    "from statsmodels.graphics.tsaplots import plot_acf # para exibir as autocorrelacoes\n",
    "from statsmodels.graphics.tsaplots import plot_pacf\n",
    "\n",
    "# agora, melhoramos a qualidade de saida e de visualizacao da imagem \n",
    "# alem de mudar a fonte padrao para uma do latex\n",
    "sns.set_style(\"ticks\")\n",
    "plt.rcParams['savefig.dpi'] = 200\n",
    "plt.rcParams[\"figure.dpi\"] = 100\n",
    "\n",
    "plt.rcParams.update({\n",
    "    \"text.usetex\": True,\n",
    "    \"font.family\": \"serif\",\n",
    "    \"font.serif\": [\"Palatino\"],\n",
    "})\n",
    "plt.style.use('dark_background')"
   ]
  },
  {
   "cell_type": "markdown",
   "id": "7431850d",
   "metadata": {},
   "source": [
    "### 1.2 Bibliotecas dos sistemas caóticos"
   ]
  },
  {
   "cell_type": "code",
   "execution_count": 2,
   "id": "34655820",
   "metadata": {},
   "outputs": [],
   "source": [
    "import sys \n",
    "sys.path.insert(0, '../../scripts')\n",
    "\n",
    "import logisticmap as logmap\n",
    "import henonmap as hmap\n",
    "import lorenzsystem as lsys\n",
    "import mackeyglassequations as mgeq"
   ]
  },
  {
   "cell_type": "markdown",
   "id": "d1bb7ff1",
   "metadata": {},
   "source": [
    "## 2. Gerando a série temporal do mapa logístico"
   ]
  },
  {
   "cell_type": "code",
   "execution_count": 3,
   "id": "b669cc41",
   "metadata": {},
   "outputs": [],
   "source": [
    "x_inicial = 0.5\n",
    "n_inicial = 0\n",
    "n_iteracoes = 5000\n",
    "r=3.86\n",
    "estados = np.array([x_inicial, n_inicial])"
   ]
  },
  {
   "cell_type": "code",
   "execution_count": 4,
   "id": "a5296e55",
   "metadata": {},
   "outputs": [],
   "source": [
    "mapa = logmap.MapaLogistico(estado_inicial=estados, r=r)"
   ]
  },
  {
   "cell_type": "code",
   "execution_count": 5,
   "id": "10809e79",
   "metadata": {},
   "outputs": [],
   "source": [
    "for n in range(0, n_iteracoes):\n",
    "    mapa.iterar()\n",
    "    estados = np.vstack((estados, mapa.ler_estado()))"
   ]
  },
  {
   "cell_type": "code",
   "execution_count": 6,
   "id": "73f0191d",
   "metadata": {},
   "outputs": [],
   "source": [
    "x_log = estados[:, 0]\n",
    "n_log = estados[:, 1]"
   ]
  },
  {
   "cell_type": "code",
   "execution_count": 7,
   "id": "29b3d4eb",
   "metadata": {},
   "outputs": [
    {
     "data": {
      "application/vnd.jupyter.widget-view+json": {
       "model_id": "58df033e0ac540caa297cacceb98741e",
       "version_major": 2,
       "version_minor": 0
      },
      "text/plain": [
       "Canvas(toolbar=Toolbar(toolitems=[('Home', 'Reset original view', 'home', 'home'), ('Back', 'Back to previous …"
      ]
     },
     "metadata": {},
     "output_type": "display_data"
    }
   ],
   "source": [
    "fig, ax = plt.subplots()\n",
    "ax.plot(n_log, x_log, color='Crimson')\n",
    "\n",
    "ax.set_title(\"$100$ iterações iniciais da série temporal do Mapa Logístico\\n para $r =$ \" + str(r) + \" com $x[0] =$ \" + str(x_log[0]))\n",
    "ax.set_ylabel('$x[n]$')\n",
    "ax.set_xlabel('$n$')\n",
    "ax.set_xlim(0,100)\n",
    "    \n",
    "ax.grid(True)\n",
    "sns.despine()\n",
    "\n",
    "plt.show()"
   ]
  },
  {
   "cell_type": "markdown",
   "id": "f0a6aa61",
   "metadata": {},
   "source": [
    "## 3. Gerando a série temporal do Mapa de Hénon"
   ]
  },
  {
   "cell_type": "code",
   "execution_count": 8,
   "id": "96671cff",
   "metadata": {},
   "outputs": [],
   "source": [
    "a = 1.4\n",
    "b = 0.3\n",
    "x_inicial = 1.0\n",
    "y_inicial = 0.0\n",
    "n_inicial = 0\n",
    "\n",
    "estados = np.array([x_inicial, y_inicial, n_inicial])\n",
    "\n",
    "mapa = hmap.MapaHenon(estado_inicial=estados)"
   ]
  },
  {
   "cell_type": "code",
   "execution_count": 9,
   "id": "30f35f6e",
   "metadata": {
    "tags": []
   },
   "outputs": [],
   "source": [
    "n_iteracoes = 5000\n",
    "\n",
    "for n in range(0, n_iteracoes):\n",
    "    mapa.iterar()\n",
    "    estados = np.vstack((estados, mapa.ler_estado()))"
   ]
  },
  {
   "cell_type": "code",
   "execution_count": 10,
   "id": "2182df71",
   "metadata": {},
   "outputs": [],
   "source": [
    "x_henon = estados[:, 0]\n",
    "y_henon = estados[:, 1]\n",
    "n_henon = estados[:, 2]"
   ]
  },
  {
   "cell_type": "code",
   "execution_count": 11,
   "id": "a2359f52",
   "metadata": {},
   "outputs": [
    {
     "data": {
      "application/vnd.jupyter.widget-view+json": {
       "model_id": "ec1d07e8b9aa4e8ea7e7aacef2a48569",
       "version_major": 2,
       "version_minor": 0
      },
      "text/plain": [
       "Canvas(toolbar=Toolbar(toolitems=[('Home', 'Reset original view', 'home', 'home'), ('Back', 'Back to previous …"
      ]
     },
     "metadata": {},
     "output_type": "display_data"
    }
   ],
   "source": [
    "fig, ax = plt.subplots()\n",
    "ax.plot(n_henon, x_henon, color='LimeGreen')\n",
    "\n",
    "ax.set_title(\"100 primeiras iterações da série temporal em $\\hat{x}$ do Mapa de Hénon para\\n $a =$ \" + str(a) + \" e $b =$ \" + str(b) + \" com $x[0] =$ \" + str(x_henon[0]) + \" e $y[0] =$ \" + str(y_henon[0]))\n",
    "ax.set_ylabel('$x[n]$')\n",
    "ax.set_xlabel('$n$')\n",
    "ax.set_xlim(0, 100)  \n",
    "ax.grid(True)\n",
    "\n",
    "fig.tight_layout()\n",
    "sns.despine()\n",
    "plt.show()"
   ]
  },
  {
   "cell_type": "markdown",
   "id": "c1940a09",
   "metadata": {},
   "source": [
    "## 4. Gerando a série temporal do Sistema de Lorenz"
   ]
  },
  {
   "cell_type": "code",
   "execution_count": 12,
   "id": "a78a786d",
   "metadata": {},
   "outputs": [],
   "source": [
    "t_inicial = 0\n",
    "t_final = 50\n",
    "dt = 0.01"
   ]
  },
  {
   "cell_type": "code",
   "execution_count": 13,
   "id": "27a494ce",
   "metadata": {},
   "outputs": [],
   "source": [
    "estado_inicial = np.array([0.1, 0, 0])"
   ]
  },
  {
   "cell_type": "code",
   "execution_count": 14,
   "id": "0b92411b",
   "metadata": {},
   "outputs": [],
   "source": [
    "sis_lorenz = lsys.SistemaLorenz(estado_inicial, dt=dt)"
   ]
  },
  {
   "cell_type": "code",
   "execution_count": 15,
   "id": "a9d0f6f9",
   "metadata": {},
   "outputs": [],
   "source": [
    "solucoes_lorenz, instantes_temporais_lorenz = sis_lorenz.calcular(t_inicial = t_inicial, t_final = t_final)"
   ]
  },
  {
   "cell_type": "code",
   "execution_count": 16,
   "id": "08cc0ba7",
   "metadata": {},
   "outputs": [],
   "source": [
    "x_lorenz = solucoes_lorenz[:, 0]"
   ]
  },
  {
   "cell_type": "code",
   "execution_count": 17,
   "id": "c6142062",
   "metadata": {},
   "outputs": [
    {
     "data": {
      "application/vnd.jupyter.widget-view+json": {
       "model_id": "f579adf2766b45fd8409552533e2ca77",
       "version_major": 2,
       "version_minor": 0
      },
      "text/plain": [
       "Canvas(toolbar=Toolbar(toolitems=[('Home', 'Reset original view', 'home', 'home'), ('Back', 'Back to previous …"
      ]
     },
     "metadata": {},
     "output_type": "display_data"
    }
   ],
   "source": [
    "fig, ax = plt.subplots()\n",
    "ax.set_title(\"Série temporal em $\\hat{x}$ de 0 a 50 segundos do Sistema de Lorenz\\n utilizando $\\sigma = 10$, \" + r\"$\\beta =\\frac{8}{3}$, \" + r\"$\\rho=28$, com \" + \"$x(0) =$ \" + str(estado_inicial[0]) + \", $y(0) = $ \" + str(estado_inicial[1]) + \" e $z(0) =$ \" + str(estado_inicial[2]))\n",
    "ax.plot(instantes_temporais_lorenz, x_lorenz, color='DodgerBlue')\n",
    "\n",
    "ax.set_ylabel('$x(t)$')\n",
    "ax.set_xlabel('$t$')\n",
    "ax.set_xlim(0,)\n",
    "ax.grid(True)\n",
    "\n",
    "fig.tight_layout()\n",
    "sns.despine()\n",
    "plt.show()"
   ]
  },
  {
   "cell_type": "markdown",
   "id": "6377ef1d",
   "metadata": {},
   "source": [
    "## 5. Gerando a série temporal das Equações de Mackey-Glass"
   ]
  },
  {
   "cell_type": "code",
   "execution_count": 18,
   "id": "9df8af17",
   "metadata": {},
   "outputs": [],
   "source": [
    "t_inicial = 0\n",
    "t_final = 5000\n",
    "tau = 22\n",
    "n = 10\n",
    "gamma = 0.1\n",
    "beta = 0.2\n",
    "theta = 1"
   ]
  },
  {
   "cell_type": "code",
   "execution_count": 19,
   "id": "e72fac4f",
   "metadata": {},
   "outputs": [],
   "source": [
    "macglass = mgeq.MackeyGlass(tau=tau, gamma=gamma, beta=beta, n=n, theta=theta)"
   ]
  },
  {
   "cell_type": "code",
   "execution_count": 20,
   "id": "e22b05f7",
   "metadata": {},
   "outputs": [
    {
     "name": "stdout",
     "output_type": "stream",
     "text": [
      "Generating, compiling, and loading C code.\n",
      "Using default integration parameters.\n"
     ]
    }
   ],
   "source": [
    "solucoes, instantes_temporais = macglass.calcular(t_inicial = t_inicial, t_final = t_final)\n",
    "x_mackeyglass = np.array(solucoes)"
   ]
  },
  {
   "cell_type": "code",
   "execution_count": 21,
   "id": "11639f14",
   "metadata": {},
   "outputs": [
    {
     "data": {
      "application/vnd.jupyter.widget-view+json": {
       "model_id": "e07214ef94bc4c83b1d4bfddf5ffe048",
       "version_major": 2,
       "version_minor": 0
      },
      "text/plain": [
       "Canvas(toolbar=Toolbar(toolitems=[('Home', 'Reset original view', 'home', 'home'), ('Back', 'Back to previous …"
      ]
     },
     "metadata": {},
     "output_type": "display_data"
    }
   ],
   "source": [
    "fig, ax = plt.subplots()\n",
    "ax.set_title('Série temporal de 0 a 600 dias da equação de Mackey-Glass para\\n' + r'$\\tau =$ ' + str(tau) + r', $\\beta =$ ' + str(beta) + r', $\\gamma =$ ' + str(gamma) + r', $n =$ ' + str(n) + r' e $\\theta =$ ' + str(theta) + ' utilizando $P(0) =$ ' + str(0.1*theta))\n",
    "ax.plot(instantes_temporais, x_mackeyglass, color='Gold')\n",
    "\n",
    "ax.set_ylabel('$P(t)$')\n",
    "ax.set_xlabel('$t$')\n",
    "ax.set_xlim(0,600)\n",
    "    \n",
    "ax.grid(True)\n",
    "\n",
    "fig.tight_layout()\n",
    "sns.despine()\n",
    "plt.show()"
   ]
  },
  {
   "cell_type": "markdown",
   "id": "e1c4dba3",
   "metadata": {},
   "source": [
    "## 6. Visualizando as autocorrelações"
   ]
  },
  {
   "cell_type": "code",
   "execution_count": 22,
   "id": "5f4bbddd",
   "metadata": {},
   "outputs": [],
   "source": [
    "from matplotlib.collections import PolyCollection, LineCollection"
   ]
  },
  {
   "cell_type": "markdown",
   "id": "5d6fed02",
   "metadata": {},
   "source": [
    "### 6.a) Mapa Logístico"
   ]
  },
  {
   "cell_type": "code",
   "execution_count": 23,
   "id": "72d06c4e",
   "metadata": {},
   "outputs": [
    {
     "data": {
      "application/vnd.jupyter.widget-view+json": {
       "model_id": "71f5068b3bd946cd96094b638d1a5767",
       "version_major": 2,
       "version_minor": 0
      },
      "text/plain": [
       "Canvas(toolbar=Toolbar(toolitems=[('Home', 'Reset original view', 'home', 'home'), ('Back', 'Back to previous …"
      ]
     },
     "metadata": {},
     "output_type": "display_data"
    }
   ],
   "source": [
    "fig, ax = plt.subplots()\n",
    "cor = 'Crimson'\n",
    "\n",
    "plot_acf(x_log, ax=ax, color=cor)\n",
    "\n",
    "ax.set_title(\"Autocorrelação da série temporal do mapa logístico\\n para $r = $ \" + str(r) + \" e $x[0] =$ \" + str(x_log[0]))\n",
    "ax.set_ylabel('Autocorrelação$[K]$')\n",
    "ax.set_xlabel('$K$')\n",
    "ax.set_xlim(0,)\n",
    "\n",
    "for item in ax.collections:\n",
    "    #change the color of the CI \n",
    "    if type(item)==PolyCollection:\n",
    "        item.set_facecolor(cor)\n",
    "    #change the color of the vertical lines\n",
    "    if type(item)==LineCollection:\n",
    "        item.set_color(cor)    \n",
    "#change the color of the markers/horizontal line\n",
    "for item in ax.lines:\n",
    "    item.set_color(cor)\n",
    "\n",
    "ax.grid(False)\n",
    "sns.despine()\n",
    "fig.savefig(\"../../images/autocorrelacao/autocorrelacao-logistic.png\")\n",
    "plt.show()"
   ]
  },
  {
   "cell_type": "code",
   "execution_count": 24,
   "id": "c92a71be",
   "metadata": {},
   "outputs": [
    {
     "data": {
      "application/vnd.jupyter.widget-view+json": {
       "model_id": "d026cc37b8a64ba9829b98811a2d02d4",
       "version_major": 2,
       "version_minor": 0
      },
      "text/plain": [
       "Canvas(toolbar=Toolbar(toolitems=[('Home', 'Reset original view', 'home', 'home'), ('Back', 'Back to previous …"
      ]
     },
     "metadata": {},
     "output_type": "display_data"
    }
   ],
   "source": [
    "fig, ax = plt.subplots()\n",
    "cor=\"Crimson\"\n",
    "\n",
    "plot_pacf(x_log, ax=ax, color=cor)\n",
    "\n",
    "ax.set_title(\"Autocorrelação parcial da série temporal do mapa logístico\\n para $r = $ \" + str(r) + \" e $x[0] =$ \" + str(x_log[0]))\n",
    "ax.set_ylabel('Autocorrelação parcial$[K]$')\n",
    "ax.set_xlabel('$K$')\n",
    "ax.set_xlim(0,)\n",
    "\n",
    "for item in ax.collections:\n",
    "    #change the color of the CI \n",
    "    if type(item)==PolyCollection:\n",
    "        item.set_facecolor(cor)\n",
    "    #change the color of the vertical lines\n",
    "    if type(item)==LineCollection:\n",
    "        item.set_color(cor)    \n",
    "#change the color of the markers/horizontal line\n",
    "for item in ax.lines:\n",
    "    item.set_color(cor)\n",
    "\n",
    "ax.grid(False)\n",
    "sns.despine()\n",
    "fig.savefig(\"../../images/autocorrelacao/autocorrelacao-parcial-logistic.png\")\n",
    "plt.show()"
   ]
  },
  {
   "cell_type": "markdown",
   "id": "57713b93",
   "metadata": {},
   "source": [
    "Como podemos ver, utilizaremos $K_{max} = 8$ para a previsão no mapa logístico."
   ]
  },
  {
   "cell_type": "markdown",
   "id": "1f0dcc7d",
   "metadata": {},
   "source": [
    "### 6.b) Mapa de Hénon"
   ]
  },
  {
   "cell_type": "code",
   "execution_count": 25,
   "id": "476530c0",
   "metadata": {},
   "outputs": [
    {
     "data": {
      "application/vnd.jupyter.widget-view+json": {
       "model_id": "c35e2d22667b4833925a4f270ed9175b",
       "version_major": 2,
       "version_minor": 0
      },
      "text/plain": [
       "Canvas(toolbar=Toolbar(toolitems=[('Home', 'Reset original view', 'home', 'home'), ('Back', 'Back to previous …"
      ]
     },
     "metadata": {},
     "output_type": "display_data"
    }
   ],
   "source": [
    "fig, ax = plt.subplots()\n",
    "cor = 'LimeGreen'\n",
    "\n",
    "plot_acf(x_henon, ax=ax, color=cor)\n",
    "\n",
    "ax.set_title(\"Autocorrelação da série temporal em $\\hat{x}$ do Mapa de Hénon para\\n $a =$ \" + str(a) + \" e $b =$ \" + str(b) + \" com $x[0] =$ \" + str(x_henon[0]) + \" e $y[0] =$ \" + str(y_henon[0]))\n",
    "ax.set_ylabel('Autocorrelação$[K]$')\n",
    "ax.set_xlabel('$K$')\n",
    "ax.set_xlim(0,)\n",
    "\n",
    "for item in ax.collections:\n",
    "    #change the color of the CI \n",
    "    if type(item)==PolyCollection:\n",
    "        item.set_facecolor(cor)\n",
    "    #change the color of the vertical lines\n",
    "    if type(item)==LineCollection:\n",
    "        item.set_color(cor)    \n",
    "#change the color of the markers/horizontal line\n",
    "for item in ax.lines:\n",
    "    item.set_color(cor)\n",
    "\n",
    "ax.grid(False)\n",
    "sns.despine()\n",
    "fig.savefig(\"../../images/autocorrelacao/autocorrelacao-henon.png\")\n",
    "plt.show()"
   ]
  },
  {
   "cell_type": "code",
   "execution_count": 26,
   "id": "014719c1",
   "metadata": {},
   "outputs": [
    {
     "data": {
      "application/vnd.jupyter.widget-view+json": {
       "model_id": "1864b614ef32498db146b8448a6b7cf2",
       "version_major": 2,
       "version_minor": 0
      },
      "text/plain": [
       "Canvas(toolbar=Toolbar(toolitems=[('Home', 'Reset original view', 'home', 'home'), ('Back', 'Back to previous …"
      ]
     },
     "metadata": {},
     "output_type": "display_data"
    }
   ],
   "source": [
    "fig, ax = plt.subplots()\n",
    "cor=\"LimeGreen\"\n",
    "\n",
    "plot_pacf(x_henon, ax=ax, color=cor)\n",
    "\n",
    "ax.set_title(\"Autocorrelação parcial da série temporal em $\\hat{x}$ do Mapa de Hénon para\\n $a =$ \" + str(a) + \" e $b =$ \" + str(b) + \" com $x[0] =$ \" + str(x_henon[0]) + \" e $y[0] =$ \" + str(y_henon[0]))\n",
    "ax.set_ylabel('Autocorrelação parcial$[K]$')\n",
    "ax.set_xlabel('$K$')\n",
    "ax.set_xlim(0,)\n",
    "\n",
    "for item in ax.collections:\n",
    "    #change the color of the CI \n",
    "    if type(item)==PolyCollection:\n",
    "        item.set_facecolor(cor)\n",
    "    #change the color of the vertical lines\n",
    "    if type(item)==LineCollection:\n",
    "        item.set_color(cor)    \n",
    "#change the color of the markers/horizontal line\n",
    "for item in ax.lines:\n",
    "    item.set_color(cor)\n",
    "\n",
    "ax.grid(False)\n",
    "sns.despine()\n",
    "fig.savefig(\"../../images/autocorrelacao/autocorrelacao-parcial-henon.png\")\n",
    "plt.show()"
   ]
  },
  {
   "cell_type": "markdown",
   "id": "9f545888",
   "metadata": {},
   "source": [
    "Como podemos ver, utilizaremos $K_{max} = 9$ para a previsão no mapa de Hénon."
   ]
  },
  {
   "cell_type": "markdown",
   "id": "944aac69",
   "metadata": {},
   "source": [
    "### 6.c) Sistema de Lorenz"
   ]
  },
  {
   "cell_type": "code",
   "execution_count": 27,
   "id": "8f31f837",
   "metadata": {},
   "outputs": [
    {
     "data": {
      "application/vnd.jupyter.widget-view+json": {
       "model_id": "5c05b67a98314479b9e163d678ae9b1b",
       "version_major": 2,
       "version_minor": 0
      },
      "text/plain": [
       "Canvas(toolbar=Toolbar(toolitems=[('Home', 'Reset original view', 'home', 'home'), ('Back', 'Back to previous …"
      ]
     },
     "metadata": {},
     "output_type": "display_data"
    }
   ],
   "source": [
    "fig, ax = plt.subplots()\n",
    "cor = 'DodgerBlue'\n",
    "\n",
    "plot_acf(x_lorenz, ax=ax, color=cor)\n",
    "\n",
    "ax.set_title(\"Autocorrelação da série temporal em $\\hat{x}$ do Sistema de Lorenz\\n utilizando $\\sigma = 10$, \" + r\"$\\beta =\\frac{8}{3}$, \" + r\"$\\rho=28$, com \" + \"$x(0) =$ \" + str(estado_inicial[0]) + \", $y(0) = $ \" + str(estado_inicial[1]) + \" e $z(0) =$ \" + str(estado_inicial[2]))\n",
    "ax.set_ylabel('Autocorrelação$[K]$')\n",
    "ax.set_xlabel('$K$')\n",
    "ax.set_xlim(0,)\n",
    "\n",
    "for item in ax.collections:\n",
    "    #change the color of the CI \n",
    "    if type(item)==PolyCollection:\n",
    "        item.set_facecolor(cor)\n",
    "    #change the color of the vertical lines\n",
    "    if type(item)==LineCollection:\n",
    "        item.set_color(cor)    \n",
    "#change the color of the markers/horizontal line\n",
    "for item in ax.lines:\n",
    "    item.set_color(cor)\n",
    "\n",
    "ax.grid(False)\n",
    "sns.despine()\n",
    "fig.savefig(\"../../images/autocorrelacao/autocorrelacao-lorenz.png\")\n",
    "plt.show()"
   ]
  },
  {
   "cell_type": "code",
   "execution_count": 28,
   "id": "06a0f667",
   "metadata": {},
   "outputs": [
    {
     "data": {
      "application/vnd.jupyter.widget-view+json": {
       "model_id": "c0c5145b39e740cf93d4051c71414ef6",
       "version_major": 2,
       "version_minor": 0
      },
      "text/plain": [
       "Canvas(toolbar=Toolbar(toolitems=[('Home', 'Reset original view', 'home', 'home'), ('Back', 'Back to previous …"
      ]
     },
     "metadata": {},
     "output_type": "display_data"
    }
   ],
   "source": [
    "fig, ax = plt.subplots()\n",
    "cor=\"DodgerBlue\"\n",
    "\n",
    "plot_pacf(x_lorenz, ax=ax, color=cor, method='ywm')\n",
    "\n",
    "ax.set_title(\"Autocorrelação parcial da série temporal em $\\hat{x}$ do Sistema de Lorenz\\n utilizando $\\sigma = 10$, \" + r\"$\\beta =\\frac{8}{3}$, \" + r\"$\\rho=28$, com \" + \"$x(0) =$ \" + str(estado_inicial[0]) + \", $y(0) = $ \" + str(estado_inicial[1]) + \" e $z(0) =$ \" + str(estado_inicial[2]))\n",
    "ax.set_ylabel('Autocorrelação parcial$[K]$')\n",
    "ax.set_xlabel('$K$')\n",
    "ax.set_xlim(0,)\n",
    "\n",
    "for item in ax.collections:\n",
    "    #change the color of the CI \n",
    "    if type(item)==PolyCollection:\n",
    "        item.set_facecolor(cor)\n",
    "    #change the color of the vertical lines\n",
    "    if type(item)==LineCollection:\n",
    "        item.set_color(cor)    \n",
    "#change the color of the markers/horizontal line\n",
    "for item in ax.lines:\n",
    "    item.set_color(cor)\n",
    "\n",
    "ax.grid(False)\n",
    "sns.despine()\n",
    "fig.savefig(\"../../images/autocorrelacao/autocorrelacao-parcial-lorenz.png\")\n",
    "plt.show()"
   ]
  },
  {
   "cell_type": "markdown",
   "id": "c548828a",
   "metadata": {},
   "source": [
    "Como podemos ver, utilizaremos $K_{max} = 10$ para a previsão o sistema de Lorenz."
   ]
  },
  {
   "cell_type": "markdown",
   "id": "74229002",
   "metadata": {},
   "source": [
    "### 6.d) Equações de Mackey-Glass"
   ]
  },
  {
   "cell_type": "code",
   "execution_count": 29,
   "id": "778325de",
   "metadata": {},
   "outputs": [
    {
     "data": {
      "application/vnd.jupyter.widget-view+json": {
       "model_id": "1071e8ea278e4700a794a521a6f8802b",
       "version_major": 2,
       "version_minor": 0
      },
      "text/plain": [
       "Canvas(toolbar=Toolbar(toolitems=[('Home', 'Reset original view', 'home', 'home'), ('Back', 'Back to previous …"
      ]
     },
     "metadata": {},
     "output_type": "display_data"
    }
   ],
   "source": [
    "fig, ax = plt.subplots()\n",
    "cor = 'Gold'\n",
    "\n",
    "plot_acf(x_mackeyglass, ax=ax, color=cor)\n",
    "\n",
    "ax.set_title('Autocorrelação da série temporal da equação de Mackey-Glass para\\n' + r'$\\tau =$ ' + str(tau) + r', $\\beta =$ ' + str(beta) + r', $\\gamma =$ ' + str(gamma) + r', $n =$ ' + str(n) + r' e $\\theta =$ ' + str(theta) + ' utilizando $P(0) =$ ' + str(0.1*theta))\n",
    "ax.set_ylabel('Autocorrelação$[K]$')\n",
    "ax.set_xlabel('$K$')\n",
    "ax.set_xlim(0,)\n",
    "\n",
    "for item in ax.collections:\n",
    "    #change the color of the CI \n",
    "    if type(item)==PolyCollection:\n",
    "        item.set_facecolor(cor)\n",
    "    #change the color of the vertical lines\n",
    "    if type(item)==LineCollection:\n",
    "        item.set_color(cor)    \n",
    "#change the color of the markers/horizontal line\n",
    "for item in ax.lines:\n",
    "    item.set_color(cor)\n",
    "\n",
    "ax.grid(False)\n",
    "sns.despine()\n",
    "fig.savefig(\"../../images/autocorrelacao/autocorrelacao-mackeyglass.png\")\n",
    "plt.show()"
   ]
  },
  {
   "cell_type": "code",
   "execution_count": 30,
   "id": "321febd6",
   "metadata": {},
   "outputs": [
    {
     "data": {
      "application/vnd.jupyter.widget-view+json": {
       "model_id": "e194bc592ee54f47908313bd4ebd9fa4",
       "version_major": 2,
       "version_minor": 0
      },
      "text/plain": [
       "Canvas(toolbar=Toolbar(toolitems=[('Home', 'Reset original view', 'home', 'home'), ('Back', 'Back to previous …"
      ]
     },
     "metadata": {},
     "output_type": "display_data"
    }
   ],
   "source": [
    "fig, ax = plt.subplots()\n",
    "cor=\"Gold\"\n",
    "\n",
    "plot_pacf(x_mackeyglass, ax=ax, color=cor)\n",
    "\n",
    "ax.set_title('Autocorrelação parcial da série temporal da equação de Mackey-Glass para\\n' + r'$\\tau =$ ' + str(tau) + r', $\\beta =$ ' + str(beta) + r', $\\gamma =$ ' + str(gamma) + r', $n =$ ' + str(n) + r' e $\\theta =$ ' + str(theta) + ' utilizando $P(0) =$ ' + str(0.1*theta))\n",
    "ax.set_ylabel('Autocorrelação parcial$[K]$')\n",
    "ax.set_xlabel('$K$')\n",
    "ax.set_xlim(0,)\n",
    "\n",
    "for item in ax.collections:\n",
    "    #change the color of the CI \n",
    "    if type(item)==PolyCollection:\n",
    "        item.set_facecolor(cor)\n",
    "    #change the color of the vertical lines\n",
    "    if type(item)==LineCollection:\n",
    "        item.set_color(cor)    \n",
    "#change the color of the markers/horizontal line\n",
    "for item in ax.lines:\n",
    "    item.set_color(cor)\n",
    "\n",
    "ax.grid(False)\n",
    "sns.despine()\n",
    "fig.savefig(\"../../images/autocorrelacao/autocorrelacao-parcial-mackeyglass.png\")\n",
    "plt.show()"
   ]
  },
  {
   "cell_type": "markdown",
   "id": "2bd0b795",
   "metadata": {},
   "source": [
    "Como podemos ver, utilizaremos $K_{max} = 7$ para a previsão nas equações de Mackey-Glass."
   ]
  },
  {
   "cell_type": "code",
   "execution_count": null,
   "id": "f0d00f7d",
   "metadata": {},
   "outputs": [],
   "source": []
  }
 ],
 "metadata": {
  "kernelspec": {
   "display_name": "Python 3",
   "language": "python",
   "name": "python3"
  },
  "language_info": {
   "codemirror_mode": {
    "name": "ipython",
    "version": 3
   },
   "file_extension": ".py",
   "mimetype": "text/x-python",
   "name": "python",
   "nbconvert_exporter": "python",
   "pygments_lexer": "ipython3",
   "version": "3.8.0"
  }
 },
 "nbformat": 4,
 "nbformat_minor": 5
}
