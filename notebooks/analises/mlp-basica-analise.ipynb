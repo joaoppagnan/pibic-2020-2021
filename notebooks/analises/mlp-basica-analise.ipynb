{
 "cells": [
  {
   "cell_type": "markdown",
   "id": "750478e9",
   "metadata": {},
   "source": [
    "# Analisando os resultados da MLP básica nos cenários de sistemas caóticos testados"
   ]
  },
  {
   "cell_type": "markdown",
   "id": "a271dac0",
   "metadata": {},
   "source": [
    "## 1. Importando as bibliotecas necessárias"
   ]
  },
  {
   "cell_type": "markdown",
   "id": "d0dab96e",
   "metadata": {},
   "source": [
    "### Bibliotecas Externas"
   ]
  },
  {
   "cell_type": "code",
   "execution_count": 1,
   "id": "d752a6f7",
   "metadata": {},
   "outputs": [],
   "source": [
    "import numpy as np\n",
    "import pandas as pd\n",
    "\n",
    "import tensorflow as tf\n",
    "physical_devices = tf.config.list_physical_devices('GPU')"
   ]
  },
  {
   "cell_type": "markdown",
   "id": "a2ef6b35",
   "metadata": {},
   "source": [
    "### Bibliotecas do projeto"
   ]
  },
  {
   "cell_type": "code",
   "execution_count": 2,
   "id": "81052694",
   "metadata": {},
   "outputs": [],
   "source": [
    "# arquivos de configurações\n",
    "from pibic2020.parameters.mlp_basica import *\n",
    "from pibic2020.parameters import k_set\n",
    "\n",
    "# sistemas caoticos\n",
    "from pibic2020.data import henon\n",
    "from pibic2020.data import logistic\n",
    "from pibic2020.data import lorenz\n",
    "from pibic2020.data import mackeyglass\n",
    "\n",
    "# avaliação do modelo\n",
    "from pibic2020.tools import evaluate"
   ]
  },
  {
   "cell_type": "markdown",
   "id": "2bc568ca",
   "metadata": {},
   "source": [
    "## 2. Modelo a ser testado"
   ]
  },
  {
   "cell_type": "code",
   "execution_count": 3,
   "id": "c1be3b2c",
   "metadata": {},
   "outputs": [],
   "source": [
    "modelo = 'MLP'"
   ]
  },
  {
   "cell_type": "markdown",
   "id": "ef3da3d8",
   "metadata": {},
   "source": [
    "## 3. Análise para o Mapa de Hénon"
   ]
  },
  {
   "cell_type": "markdown",
   "id": "2a0a1965",
   "metadata": {},
   "source": [
    "### Gerando os dados"
   ]
  },
  {
   "cell_type": "code",
   "execution_count": 4,
   "id": "230666b6",
   "metadata": {},
   "outputs": [],
   "source": [
    "mapa = henon.MapaHenon()"
   ]
  },
  {
   "cell_type": "code",
   "execution_count": 5,
   "id": "bf13436a",
   "metadata": {},
   "outputs": [],
   "source": [
    "n_iteracoes = 5000\n",
    "vetor_estados = mapa.simular(n_iteracoes)\n",
    "dados = vetor_estados[:, 0]"
   ]
  },
  {
   "cell_type": "markdown",
   "id": "5876e65f",
   "metadata": {},
   "source": [
    "### Pegando o arquivo com as configurações"
   ]
  },
  {
   "cell_type": "code",
   "execution_count": 6,
   "id": "354fbea9",
   "metadata": {},
   "outputs": [],
   "source": [
    "config = mlp_basica_henon.mlp_basica_henon"
   ]
  },
  {
   "cell_type": "code",
   "execution_count": 7,
   "id": "5c33d1d6",
   "metadata": {},
   "outputs": [],
   "source": [
    "conjunto_k = k_set.K_set[\"K_henon\"]"
   ]
  },
  {
   "cell_type": "markdown",
   "id": "e5474892",
   "metadata": {},
   "source": [
    "### Executando a avaliação"
   ]
  },
  {
   "cell_type": "code",
   "execution_count": 8,
   "id": "3acea219",
   "metadata": {},
   "outputs": [
    {
     "name": "stdout",
     "output_type": "stream",
     "text": [
      "Testando para K = 0...\n",
      "Valor Médio do MSE para esse K:0.17203084706790825\n",
      "Desvio Padrão do MSE para esse K:0.013923939797549753\n",
      "\n",
      "Testando para K = 1...\n",
      "Valor Médio do MSE para esse K:0.008914345693350928\n",
      "Desvio Padrão do MSE para esse K:0.0015897310672914275\n",
      "\n",
      "Testando para K = 2...\n",
      "Valor Médio do MSE para esse K:0.002599203096740275\n",
      "Desvio Padrão do MSE para esse K:0.000537093561849867\n",
      "\n",
      "Testando para K = 3...\n",
      "Valor Médio do MSE para esse K:0.002386454710300708\n",
      "Desvio Padrão do MSE para esse K:0.00019330597416446476\n",
      "\n",
      "Testando para K = 4...\n",
      "Valor Médio do MSE para esse K:0.0018641761090737747\n",
      "Desvio Padrão do MSE para esse K:0.00043234057632279713\n",
      "\n",
      "Testando para K = 5...\n",
      "Valor Médio do MSE para esse K:0.0038193209690357745\n",
      "Desvio Padrão do MSE para esse K:0.0014004143648607052\n",
      "\n",
      "Testando para K = 6...\n",
      "Valor Médio do MSE para esse K:0.001819396837476131\n",
      "Desvio Padrão do MSE para esse K:0.0006929981619915272\n",
      "\n",
      "Testando para K = 7...\n",
      "Valor Médio do MSE para esse K:0.0011625688511760228\n",
      "Desvio Padrão do MSE para esse K:0.0004671035188646689\n",
      "\n",
      "Testando para K = 8...\n",
      "Valor Médio do MSE para esse K:0.0017224459471021894\n",
      "Desvio Padrão do MSE para esse K:0.00037746331657152906\n",
      "\n"
     ]
    }
   ],
   "source": [
    "results_henon = evaluate.evaluate(modelo, dados, config, conjunto_k, verbose=1)"
   ]
  },
  {
   "cell_type": "markdown",
   "id": "0a3a069b",
   "metadata": {},
   "source": [
    "### Salvando os resultados num .csv"
   ]
  },
  {
   "cell_type": "code",
   "execution_count": 9,
   "id": "1d20cd2a",
   "metadata": {},
   "outputs": [],
   "source": [
    "results_henon = pd.DataFrame(results_henon, columns=['K', 'Media do RMSE', 'Desvio Padrao do RMSE'])"
   ]
  },
  {
   "cell_type": "code",
   "execution_count": 11,
   "id": "857d95e0",
   "metadata": {},
   "outputs": [],
   "source": [
    "results_henon.to_csv('../../results/mlp-basica/mlp-basica-henon.csv', index = False, header=True)"
   ]
  },
  {
   "cell_type": "markdown",
   "id": "585ca479",
   "metadata": {},
   "source": [
    "## 3. Análise para o Mapa Logístico"
   ]
  },
  {
   "cell_type": "markdown",
   "id": "7cd887b9",
   "metadata": {},
   "source": [
    "### Gerando os dados"
   ]
  },
  {
   "cell_type": "code",
   "execution_count": 4,
   "id": "4b636bb0",
   "metadata": {},
   "outputs": [],
   "source": [
    "mapa = logistic.MapaLogistico()"
   ]
  },
  {
   "cell_type": "code",
   "execution_count": 5,
   "id": "77418279",
   "metadata": {},
   "outputs": [],
   "source": [
    "n_iteracoes = 5000\n",
    "vetor_estados = mapa.simular(n_iteracoes)\n",
    "dados = vetor_estados[:, 0]"
   ]
  },
  {
   "cell_type": "markdown",
   "id": "cec852c6",
   "metadata": {},
   "source": [
    "### Pegando o arquivo com as configurações"
   ]
  },
  {
   "cell_type": "code",
   "execution_count": 6,
   "id": "f6cc236d",
   "metadata": {},
   "outputs": [],
   "source": [
    "config = mlp_basica_henon.mlp_basica_henon"
   ]
  },
  {
   "cell_type": "code",
   "execution_count": 7,
   "id": "69ec9e96",
   "metadata": {},
   "outputs": [],
   "source": [
    "conjunto_k = k_set.K_set[\"K_henon\"]"
   ]
  },
  {
   "cell_type": "markdown",
   "id": "ea76516a",
   "metadata": {},
   "source": [
    "### Executando a avaliação"
   ]
  },
  {
   "cell_type": "code",
   "execution_count": 8,
   "id": "0c4b47e3",
   "metadata": {},
   "outputs": [
    {
     "name": "stdout",
     "output_type": "stream",
     "text": [
      "Testando para K = 0...\n",
      "Valor Médio do MSE para esse K:0.17203084706790825\n",
      "Desvio Padrão do MSE para esse K:0.013923939797549753\n",
      "\n",
      "Testando para K = 1...\n",
      "Valor Médio do MSE para esse K:0.008914345693350928\n",
      "Desvio Padrão do MSE para esse K:0.0015897310672914275\n",
      "\n",
      "Testando para K = 2...\n",
      "Valor Médio do MSE para esse K:0.002599203096740275\n",
      "Desvio Padrão do MSE para esse K:0.000537093561849867\n",
      "\n",
      "Testando para K = 3...\n",
      "Valor Médio do MSE para esse K:0.002386454710300708\n",
      "Desvio Padrão do MSE para esse K:0.00019330597416446476\n",
      "\n",
      "Testando para K = 4...\n",
      "Valor Médio do MSE para esse K:0.0018641761090737747\n",
      "Desvio Padrão do MSE para esse K:0.00043234057632279713\n",
      "\n",
      "Testando para K = 5...\n",
      "Valor Médio do MSE para esse K:0.0038193209690357745\n",
      "Desvio Padrão do MSE para esse K:0.0014004143648607052\n",
      "\n",
      "Testando para K = 6...\n",
      "Valor Médio do MSE para esse K:0.001819396837476131\n",
      "Desvio Padrão do MSE para esse K:0.0006929981619915272\n",
      "\n",
      "Testando para K = 7...\n",
      "Valor Médio do MSE para esse K:0.0011625688511760228\n",
      "Desvio Padrão do MSE para esse K:0.0004671035188646689\n",
      "\n",
      "Testando para K = 8...\n",
      "Valor Médio do MSE para esse K:0.0017224459471021894\n",
      "Desvio Padrão do MSE para esse K:0.00037746331657152906\n",
      "\n"
     ]
    }
   ],
   "source": [
    "results_henon = evaluate.evaluate(modelo, dados, config, conjunto_k, verbose=1)"
   ]
  },
  {
   "cell_type": "markdown",
   "id": "9bc9958c",
   "metadata": {},
   "source": [
    "### Salvando os resultados num .csv"
   ]
  },
  {
   "cell_type": "code",
   "execution_count": 9,
   "id": "c36fd6a0",
   "metadata": {},
   "outputs": [],
   "source": [
    "results_henon = pd.DataFrame(results_henon, columns=['K', 'Media do RMSE', 'Desvio Padrao do RMSE'])"
   ]
  },
  {
   "cell_type": "code",
   "execution_count": 11,
   "id": "75745e0e",
   "metadata": {},
   "outputs": [],
   "source": [
    "results_henon.to_csv('../../results/mlp-basica/mlp-basica-henon.csv', index = False, header=True)"
   ]
  }
 ],
 "metadata": {
  "kernelspec": {
   "display_name": "Python 3",
   "language": "python",
   "name": "python3"
  },
  "language_info": {
   "codemirror_mode": {
    "name": "ipython",
    "version": 3
   },
   "file_extension": ".py",
   "mimetype": "text/x-python",
   "name": "python",
   "nbconvert_exporter": "python",
   "pygments_lexer": "ipython3",
   "version": "3.8.0"
  }
 },
 "nbformat": 4,
 "nbformat_minor": 5
}
