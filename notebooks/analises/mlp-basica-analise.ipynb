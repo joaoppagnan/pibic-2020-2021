{
 "cells": [
  {
   "cell_type": "markdown",
   "id": "8ae85e3e",
   "metadata": {},
   "source": [
    "# Analisando os resultados da MLP básica nos cenários de sistemas caóticos testados"
   ]
  },
  {
   "cell_type": "markdown",
   "id": "d30e1948",
   "metadata": {},
   "source": [
    "## 1. Importando as bibliotecas necessárias"
   ]
  },
  {
   "cell_type": "markdown",
   "id": "0701eac5",
   "metadata": {},
   "source": [
    "### Bibliotecas Externas"
   ]
  },
  {
   "cell_type": "code",
   "execution_count": 1,
   "id": "c159091e",
   "metadata": {},
   "outputs": [],
   "source": [
    "import numpy as np\n",
    "import pandas as pd\n",
    "\n",
    "import tensorflow as tf\n",
    "physical_devices = tf.config.list_physical_devices('GPU')"
   ]
  },
  {
   "cell_type": "markdown",
   "id": "21459add",
   "metadata": {},
   "source": [
    "### Bibliotecas do projeto"
   ]
  },
  {
   "cell_type": "code",
   "execution_count": 2,
   "id": "449bee96",
   "metadata": {},
   "outputs": [],
   "source": [
    "# arquivos de configurações\n",
    "from pibic2020.parameters.mlp_basica import *\n",
    "from pibic2020.parameters import k_set\n",
    "\n",
    "# sistemas caoticos\n",
    "from pibic2020.data import henon\n",
    "from pibic2020.data import logistic\n",
    "from pibic2020.data import lorenz\n",
    "from pibic2020.data import mackeyglass\n",
    "\n",
    "# avaliação do modelo\n",
    "from pibic2020.tools import evaluate"
   ]
  },
  {
   "cell_type": "markdown",
   "id": "bd702604",
   "metadata": {},
   "source": [
    "## 2. Modelo a ser testado"
   ]
  },
  {
   "cell_type": "code",
   "execution_count": 3,
   "id": "12d352f1",
   "metadata": {},
   "outputs": [],
   "source": [
    "modelo = 'MLP'"
   ]
  },
  {
   "cell_type": "markdown",
   "id": "f64f6fd8",
   "metadata": {},
   "source": [
    "## 3. Análise para o Mapa de Hénon"
   ]
  },
  {
   "cell_type": "markdown",
   "id": "8563e0ff",
   "metadata": {},
   "source": [
    "### Gerando os dados"
   ]
  },
  {
   "cell_type": "code",
   "execution_count": 4,
   "id": "c660a432",
   "metadata": {},
   "outputs": [],
   "source": [
    "mapa_henon = henon.MapaHenon()"
   ]
  },
  {
   "cell_type": "code",
   "execution_count": 5,
   "id": "0b253c17",
   "metadata": {},
   "outputs": [],
   "source": [
    "n_iteracoes = 5000\n",
    "vetor_estados = mapa_henon.simular(n_iteracoes)\n",
    "dados = vetor_estados[:, 0]"
   ]
  },
  {
   "cell_type": "markdown",
   "id": "4fcd5a4c",
   "metadata": {},
   "source": [
    "### Pegando o arquivo com as configurações"
   ]
  },
  {
   "cell_type": "code",
   "execution_count": 6,
   "id": "f03c09ee",
   "metadata": {},
   "outputs": [],
   "source": [
    "config = mlp_basica_henon.mlp_basica_henon"
   ]
  },
  {
   "cell_type": "code",
   "execution_count": 7,
   "id": "228d05b3",
   "metadata": {},
   "outputs": [],
   "source": [
    "conjunto_k = k_set.K_set[\"K_henon\"]"
   ]
  },
  {
   "cell_type": "markdown",
   "id": "abe4880f",
   "metadata": {},
   "source": [
    "### Executando a avaliação"
   ]
  },
  {
   "cell_type": "code",
   "execution_count": 8,
   "id": "50ba5325",
   "metadata": {},
   "outputs": [
    {
     "name": "stdout",
     "output_type": "stream",
     "text": [
      "Testando para K = 1...\n",
      "Valor Médio do MSE para esse K: 0.17578816789773657\n",
      "Desvio Padrão do MSE para esse K: 0.012956852755940164\n",
      "\n",
      "Testando para K = 2...\n",
      "Valor Médio do MSE para esse K: 0.005190317068914024\n",
      "Desvio Padrão do MSE para esse K: 0.0016200208095096952\n",
      "\n",
      "Testando para K = 3...\n",
      "Valor Médio do MSE para esse K: 0.00234553394563324\n",
      "Desvio Padrão do MSE para esse K: 0.003764600560136518\n",
      "\n",
      "Testando para K = 4...\n",
      "Valor Médio do MSE para esse K: 0.0006415131950131122\n",
      "Desvio Padrão do MSE para esse K: 0.00047261117784957757\n",
      "\n",
      "Testando para K = 5...\n",
      "Valor Médio do MSE para esse K: 0.0018921599867780866\n",
      "Desvio Padrão do MSE para esse K: 0.00021392147838290976\n",
      "\n",
      "Testando para K = 6...\n",
      "Valor Médio do MSE para esse K: 0.0017387885123580408\n",
      "Desvio Padrão do MSE para esse K: 0.001250714825728456\n",
      "\n",
      "Testando para K = 7...\n",
      "Valor Médio do MSE para esse K: 0.0032390287790944492\n",
      "Desvio Padrão do MSE para esse K: 0.0010335759376165045\n",
      "\n",
      "Testando para K = 8...\n",
      "Valor Médio do MSE para esse K: 0.0009435567810124884\n",
      "Desvio Padrão do MSE para esse K: 0.0002630604903271187\n",
      "\n",
      "Testando para K = 9...\n",
      "Valor Médio do MSE para esse K: 0.0015137337953493118\n",
      "Desvio Padrão do MSE para esse K: 0.0008047496924863911\n",
      "\n"
     ]
    }
   ],
   "source": [
    "results_henon = evaluate.evaluate(modelo, dados, config, conjunto_k, verbose=1)"
   ]
  },
  {
   "cell_type": "markdown",
   "id": "4249778b",
   "metadata": {},
   "source": [
    "### Salvando os resultados num .csv"
   ]
  },
  {
   "cell_type": "code",
   "execution_count": 9,
   "id": "91c6f604",
   "metadata": {},
   "outputs": [],
   "source": [
    "results_henon = pd.DataFrame(results_henon, columns=['K', 'Media do MSE', 'Desvio Padrao do MSE'])"
   ]
  },
  {
   "cell_type": "code",
   "execution_count": 10,
   "id": "2da6efe3",
   "metadata": {},
   "outputs": [],
   "source": [
    "results_henon.to_csv('../../results/mlp-basica/mlp-basica-henon.csv', index = False, header=True)"
   ]
  },
  {
   "cell_type": "markdown",
   "id": "5ceed82e",
   "metadata": {},
   "source": [
    "## 4. Análise para o Mapa Logístico"
   ]
  },
  {
   "cell_type": "markdown",
   "id": "457eac19",
   "metadata": {},
   "source": [
    "### Gerando os dados"
   ]
  },
  {
   "cell_type": "code",
   "execution_count": 11,
   "id": "7e2a2b46",
   "metadata": {},
   "outputs": [],
   "source": [
    "mapa_logistico = logistic.MapaLogistico()"
   ]
  },
  {
   "cell_type": "code",
   "execution_count": 13,
   "id": "cbefa27f",
   "metadata": {},
   "outputs": [],
   "source": [
    "n_iteracoes = 5000\n",
    "vetor_estados = mapa_logistico.simular(n_iteracoes)\n",
    "dados = vetor_estados[:, 0]"
   ]
  },
  {
   "cell_type": "markdown",
   "id": "f1a72529",
   "metadata": {},
   "source": [
    "### Pegando o arquivo com as configurações"
   ]
  },
  {
   "cell_type": "code",
   "execution_count": 14,
   "id": "0ebce702",
   "metadata": {},
   "outputs": [],
   "source": [
    "config = mlp_basica_logistic.mlp_basica_logistic"
   ]
  },
  {
   "cell_type": "code",
   "execution_count": 15,
   "id": "a9422b9c",
   "metadata": {},
   "outputs": [],
   "source": [
    "conjunto_k = k_set.K_set[\"K_logistic\"]"
   ]
  },
  {
   "cell_type": "markdown",
   "id": "acb2b80d",
   "metadata": {},
   "source": [
    "### Executando a avaliação"
   ]
  },
  {
   "cell_type": "code",
   "execution_count": 16,
   "id": "22fe31b2",
   "metadata": {},
   "outputs": [
    {
     "name": "stdout",
     "output_type": "stream",
     "text": [
      "Testando para K = 1...\n",
      "Valor Médio do MSE para esse K: 0.0003275452828720645\n",
      "Desvio Padrão do MSE para esse K: 3.4856271304604264e-05\n",
      "\n",
      "Testando para K = 2...\n",
      "Valor Médio do MSE para esse K: 0.0015191485405185124\n",
      "Desvio Padrão do MSE para esse K: 0.00013056961880236978\n",
      "\n",
      "Testando para K = 3...\n",
      "Valor Médio do MSE para esse K: 0.00032496361427405263\n",
      "Desvio Padrão do MSE para esse K: 4.949707629860625e-05\n",
      "\n",
      "Testando para K = 4...\n",
      "Valor Médio do MSE para esse K: 0.00029434382424467834\n",
      "Desvio Padrão do MSE para esse K: 4.619968972840897e-05\n",
      "\n",
      "Testando para K = 5...\n",
      "Valor Médio do MSE para esse K: 0.00044878035699226455\n",
      "Desvio Padrão do MSE para esse K: 6.307699382435863e-05\n",
      "\n",
      "Testando para K = 6...\n",
      "Valor Médio do MSE para esse K: 0.00039175957772389605\n",
      "Desvio Padrão do MSE para esse K: 4.7524955207316566e-05\n",
      "\n",
      "Testando para K = 7...\n",
      "Valor Médio do MSE para esse K: 0.0028871377628727247\n",
      "Desvio Padrão do MSE para esse K: 0.0012160702292546553\n",
      "\n",
      "Testando para K = 8...\n",
      "Valor Médio do MSE para esse K: 0.0005066190235304293\n",
      "Desvio Padrão do MSE para esse K: 0.00017230576728833726\n",
      "\n"
     ]
    }
   ],
   "source": [
    "results_logistic = evaluate.evaluate(modelo, dados, config, conjunto_k, verbose=1)"
   ]
  },
  {
   "cell_type": "markdown",
   "id": "58e14434",
   "metadata": {},
   "source": [
    "### Salvando os resultados num .csv"
   ]
  },
  {
   "cell_type": "code",
   "execution_count": 17,
   "id": "56731b92",
   "metadata": {},
   "outputs": [],
   "source": [
    "results_logistic = pd.DataFrame(results_logistic, columns=['K', 'Media do MSE', 'Desvio Padrao do MSE'])"
   ]
  },
  {
   "cell_type": "code",
   "execution_count": 18,
   "id": "a43c27df",
   "metadata": {},
   "outputs": [],
   "source": [
    "results_logistic.to_csv('../../results/mlp-basica/mlp-basica-logistic.csv', index = False, header=True)"
   ]
  },
  {
   "cell_type": "markdown",
   "id": "97c1dd1f",
   "metadata": {},
   "source": [
    "## 5. Análise para o Sistema de Lorenz"
   ]
  },
  {
   "cell_type": "markdown",
   "id": "bc5405b2",
   "metadata": {},
   "source": [
    "### Gerando os dados"
   ]
  },
  {
   "cell_type": "code",
   "execution_count": 5,
   "id": "9c5a919e",
   "metadata": {},
   "outputs": [],
   "source": [
    "sistema_lorenz = lorenz.SistemaLorenz(estado_inicial=np.array([0.1, 0, 0]), dt=0.01)"
   ]
  },
  {
   "cell_type": "code",
   "execution_count": 6,
   "id": "780cfc9e",
   "metadata": {},
   "outputs": [],
   "source": [
    "t_inicial = 0\n",
    "t_final = 50\n",
    "vetor_estados, instantes_temporais = sistema_lorenz.calcular(t_inicial=t_inicial, t_final=t_final)\n",
    "dados = vetor_estados[:, 0]"
   ]
  },
  {
   "cell_type": "markdown",
   "id": "198ccf3a",
   "metadata": {},
   "source": [
    "### Pegando o arquivo com as configurações"
   ]
  },
  {
   "cell_type": "code",
   "execution_count": 7,
   "id": "a8a5f37a",
   "metadata": {},
   "outputs": [],
   "source": [
    "config = mlp_basica_lorenz.mlp_basica_lorenz"
   ]
  },
  {
   "cell_type": "code",
   "execution_count": 8,
   "id": "778ee72b",
   "metadata": {},
   "outputs": [],
   "source": [
    "conjunto_k = k_set.K_set[\"K_lorenz\"]"
   ]
  },
  {
   "cell_type": "markdown",
   "id": "90ce1756",
   "metadata": {},
   "source": [
    "### Executando a avaliação"
   ]
  },
  {
   "cell_type": "code",
   "execution_count": 10,
   "id": "471cea58",
   "metadata": {},
   "outputs": [
    {
     "name": "stdout",
     "output_type": "stream",
     "text": [
      "Testando para K = 1...\n",
      "Valor Médio do MSE para esse K: 1.4533465471315765\n",
      "Desvio Padrão do MSE para esse K: 0.005081857352600296\n",
      "\n",
      "Testando para K = 2...\n",
      "Valor Médio do MSE para esse K: 0.0008919056362589867\n",
      "Desvio Padrão do MSE para esse K: 0.00013567086043212128\n",
      "\n",
      "Testando para K = 3...\n",
      "Valor Médio do MSE para esse K: 0.0015675701096512923\n",
      "Desvio Padrão do MSE para esse K: 0.00047563041516897596\n",
      "\n",
      "Testando para K = 4...\n",
      "Valor Médio do MSE para esse K: 0.001335584198792661\n",
      "Desvio Padrão do MSE para esse K: 0.00035961389609793273\n",
      "\n",
      "Testando para K = 5...\n",
      "Valor Médio do MSE para esse K: 0.0005770301118216585\n",
      "Desvio Padrão do MSE para esse K: 0.00013224779350776806\n",
      "\n",
      "Testando para K = 6...\n",
      "Valor Médio do MSE para esse K: 0.0008002083120149539\n",
      "Desvio Padrão do MSE para esse K: 0.00012700154530297502\n",
      "\n",
      "Testando para K = 7...\n",
      "Valor Médio do MSE para esse K: 0.0008498869051925329\n",
      "Desvio Padrão do MSE para esse K: 0.0003147846559944474\n",
      "\n",
      "Testando para K = 8...\n",
      "Valor Médio do MSE para esse K: 0.0007477672722806226\n",
      "Desvio Padrão do MSE para esse K: 0.0005878035701195636\n",
      "\n",
      "Testando para K = 9...\n",
      "Valor Médio do MSE para esse K: 0.0008148820192927756\n",
      "Desvio Padrão do MSE para esse K: 0.00030920837586347554\n",
      "\n",
      "Testando para K = 10...\n",
      "Valor Médio do MSE para esse K: 0.0007369168496317786\n",
      "Desvio Padrão do MSE para esse K: 0.0007951482879443457\n",
      "\n"
     ]
    }
   ],
   "source": [
    "results_lorenz = evaluate.evaluate(modelo, dados, config, conjunto_k, verbose=1)"
   ]
  },
  {
   "cell_type": "markdown",
   "id": "255b17eb",
   "metadata": {},
   "source": [
    "### Salvando os resultados num .csv"
   ]
  },
  {
   "cell_type": "code",
   "execution_count": 11,
   "id": "852bdc7d",
   "metadata": {},
   "outputs": [],
   "source": [
    "results_lorenz = pd.DataFrame(results_lorenz, columns=['K', 'Media do MSE', 'Desvio Padrao do MSE'])"
   ]
  },
  {
   "cell_type": "code",
   "execution_count": 12,
   "id": "476cc826",
   "metadata": {},
   "outputs": [],
   "source": [
    "results_lorenz.to_csv('../../results/mlp-basica/mlp-basica-lorenz.csv', index = False, header=True)"
   ]
  },
  {
   "cell_type": "markdown",
   "id": "054235e8",
   "metadata": {},
   "source": [
    "## 6. Análise para as equações de Mackey-Glass"
   ]
  },
  {
   "cell_type": "markdown",
   "id": "cb9043d1",
   "metadata": {},
   "source": [
    "### Gerando os dados"
   ]
  },
  {
   "cell_type": "code",
   "execution_count": 4,
   "id": "6fc515ef",
   "metadata": {},
   "outputs": [],
   "source": [
    "t_inicial = 0\n",
    "t_final = 5000\n",
    "tau = 22\n",
    "n = 10\n",
    "gamma = 0.1\n",
    "beta = 0.2\n",
    "theta = 1"
   ]
  },
  {
   "cell_type": "code",
   "execution_count": 5,
   "id": "f98d4918",
   "metadata": {},
   "outputs": [],
   "source": [
    "mackeyglass_eq = mackeyglass.MackeyGlass(tau=tau, gamma=gamma, beta=beta, n=n, theta=theta)"
   ]
  },
  {
   "cell_type": "code",
   "execution_count": 6,
   "id": "fd985c6a",
   "metadata": {},
   "outputs": [
    {
     "name": "stdout",
     "output_type": "stream",
     "text": [
      "Generating, compiling, and loading C code.\n",
      "Using default integration parameters.\n"
     ]
    }
   ],
   "source": [
    "dados, instantes_temporais = mackeyglass_eq.calcular(t_inicial=t_inicial, t_final=t_final)"
   ]
  },
  {
   "cell_type": "markdown",
   "id": "9437041d",
   "metadata": {},
   "source": [
    "### Pegando o arquivo com as configurações"
   ]
  },
  {
   "cell_type": "code",
   "execution_count": 8,
   "id": "e8ef9741",
   "metadata": {},
   "outputs": [],
   "source": [
    "config = mlp_basica_mackeyglass.mlp_basica_mackeyglass"
   ]
  },
  {
   "cell_type": "code",
   "execution_count": 9,
   "id": "d30f903e",
   "metadata": {},
   "outputs": [],
   "source": [
    "conjunto_k = k_set.K_set[\"K_mackeyglass\"]"
   ]
  },
  {
   "cell_type": "markdown",
   "id": "f1111942",
   "metadata": {},
   "source": [
    "### Executando a avaliação"
   ]
  },
  {
   "cell_type": "code",
   "execution_count": 11,
   "id": "b4b4169c",
   "metadata": {},
   "outputs": [
    {
     "name": "stdout",
     "output_type": "stream",
     "text": [
      "Testando para K = 1...\n",
      "Valor Médio do MSE para esse K: 0.009241197572268912\n",
      "Desvio Padrão do MSE para esse K: 8.812021691710526e-06\n",
      "\n",
      "Testando para K = 2...\n",
      "Valor Médio do MSE para esse K: 0.0011057513260577293\n",
      "Desvio Padrão do MSE para esse K: 3.211826543265109e-05\n",
      "\n",
      "Testando para K = 3...\n",
      "Valor Médio do MSE para esse K: 0.0007275835534382093\n",
      "Desvio Padrão do MSE para esse K: 0.0004700361950753372\n",
      "\n",
      "Testando para K = 4...\n",
      "Valor Médio do MSE para esse K: 0.00045374460653021295\n",
      "Desvio Padrão do MSE para esse K: 9.503979234273714e-06\n",
      "\n",
      "Testando para K = 5...\n",
      "Valor Médio do MSE para esse K: 0.0006319384054573751\n",
      "Desvio Padrão do MSE para esse K: 3.873850643402129e-05\n",
      "\n",
      "Testando para K = 6...\n",
      "Valor Médio do MSE para esse K: 0.0005740164565350813\n",
      "Desvio Padrão do MSE para esse K: 0.00013034976882840744\n",
      "\n",
      "Testando para K = 7...\n",
      "Valor Médio do MSE para esse K: 0.0005295485474161169\n",
      "Desvio Padrão do MSE para esse K: 0.00022581738443053177\n",
      "\n"
     ]
    }
   ],
   "source": [
    "results_mackeyglass = evaluate.evaluate(modelo, dados, config, conjunto_k, verbose=1)"
   ]
  },
  {
   "cell_type": "markdown",
   "id": "634d5c50",
   "metadata": {},
   "source": [
    "### Salvando os resultados num .csv"
   ]
  },
  {
   "cell_type": "code",
   "execution_count": 12,
   "id": "565b7829",
   "metadata": {},
   "outputs": [],
   "source": [
    "results_mackeyglass = pd.DataFrame(results_mackeyglass, columns=['K', 'Media do MSE', 'Desvio Padrao do MSE'])"
   ]
  },
  {
   "cell_type": "code",
   "execution_count": 13,
   "id": "a503256d",
   "metadata": {},
   "outputs": [],
   "source": [
    "results_mackeyglass.to_csv('../../results/mlp-basica/mlp-basica-mackeyglass.csv', index = False, header=True)"
   ]
  },
  {
   "cell_type": "code",
   "execution_count": null,
   "id": "297d8934",
   "metadata": {},
   "outputs": [],
   "source": []
  }
 ],
 "metadata": {
  "kernelspec": {
   "display_name": "Python 3",
   "language": "python",
   "name": "python3"
  },
  "language_info": {
   "codemirror_mode": {
    "name": "ipython",
    "version": 3
   },
   "file_extension": ".py",
   "mimetype": "text/x-python",
   "name": "python",
   "nbconvert_exporter": "python",
   "pygments_lexer": "ipython3",
   "version": "3.8.0"
  }
 },
 "nbformat": 4,
 "nbformat_minor": 5
}