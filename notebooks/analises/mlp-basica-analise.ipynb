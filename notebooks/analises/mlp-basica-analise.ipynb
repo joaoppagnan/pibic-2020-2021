{
 "cells": [
  {
   "cell_type": "markdown",
   "id": "3d5e92d3",
   "metadata": {},
   "source": [
    "# Analisando os resultados da MLP básica nos cenários de sistemas caóticos testados"
   ]
  },
  {
   "cell_type": "markdown",
   "id": "0a69026c",
   "metadata": {},
   "source": [
    "## 1. Importando as bibliotecas necessárias"
   ]
  },
  {
   "cell_type": "markdown",
   "id": "771c03a0",
   "metadata": {},
   "source": [
    "### Bibliotecas Externas"
   ]
  },
  {
   "cell_type": "code",
   "execution_count": 1,
   "id": "860e767e",
   "metadata": {},
   "outputs": [],
   "source": [
    "import numpy as np\n",
    "import pandas as pd\n",
    "\n",
    "import tensorflow as tf\n",
    "physical_devices = tf.config.list_physical_devices('GPU')"
   ]
  },
  {
   "cell_type": "markdown",
   "id": "8ea3801b",
   "metadata": {},
   "source": [
    "### Bibliotecas do projeto"
   ]
  },
  {
   "cell_type": "code",
   "execution_count": 2,
   "id": "1473f427",
   "metadata": {},
   "outputs": [],
   "source": [
    "# arquivos de configurações\n",
    "from pibic2020.parameters.mlp_basica import *\n",
    "from pibic2020.parameters import k_set\n",
    "\n",
    "# sistemas caoticos\n",
    "from pibic2020.data import henon\n",
    "from pibic2020.data import logistic\n",
    "from pibic2020.data import lorenz\n",
    "from pibic2020.data import mackeyglass\n",
    "\n",
    "# avaliação do modelo\n",
    "from pibic2020.tools import evaluate"
   ]
  },
  {
   "cell_type": "markdown",
   "id": "bcf80b4f",
   "metadata": {},
   "source": [
    "## 2. Modelo a ser testado"
   ]
  },
  {
   "cell_type": "code",
   "execution_count": 3,
   "id": "aa66bf22",
   "metadata": {},
   "outputs": [],
   "source": [
    "modelo = 'MLP'"
   ]
  },
  {
   "cell_type": "markdown",
   "id": "6d7f96f8",
   "metadata": {},
   "source": [
    "## Gerando os dados"
   ]
  },
  {
   "cell_type": "markdown",
   "id": "a2b17fdd",
   "metadata": {},
   "source": [
    "### Mapa de Hénon"
   ]
  },
  {
   "cell_type": "code",
   "execution_count": 4,
   "id": "f96f2331",
   "metadata": {},
   "outputs": [],
   "source": [
    "mapa_henon = henon.MapaHenon()"
   ]
  },
  {
   "cell_type": "code",
   "execution_count": 5,
   "id": "641fb0aa",
   "metadata": {},
   "outputs": [],
   "source": [
    "n_iteracoes = 5000\n",
    "vetor_estados = mapa_henon.simular(n_iteracoes)\n",
    "dados_henon = vetor_estados[:, 0]"
   ]
  },
  {
   "cell_type": "markdown",
   "id": "32e0feb4",
   "metadata": {},
   "source": [
    "### Mapa logístico"
   ]
  },
  {
   "cell_type": "code",
   "execution_count": 6,
   "id": "7a44ce03",
   "metadata": {},
   "outputs": [],
   "source": [
    "mapa_logistico = logistic.MapaLogistico()"
   ]
  },
  {
   "cell_type": "code",
   "execution_count": 7,
   "id": "dba90e9f",
   "metadata": {},
   "outputs": [],
   "source": [
    "n_iteracoes = 5000\n",
    "vetor_estados = mapa_logistico.simular(n_iteracoes)\n",
    "dados_logistic = vetor_estados[:, 0]"
   ]
  },
  {
   "cell_type": "markdown",
   "id": "b1d98ef6",
   "metadata": {},
   "source": [
    "### Sistema de Lorenz"
   ]
  },
  {
   "cell_type": "code",
   "execution_count": 8,
   "id": "01b1a107",
   "metadata": {},
   "outputs": [],
   "source": [
    "sistema_lorenz = lorenz.SistemaLorenz(estado_inicial=np.array([0.1, 0, 0]), dt=0.01)"
   ]
  },
  {
   "cell_type": "code",
   "execution_count": 9,
   "id": "8b71c966",
   "metadata": {},
   "outputs": [],
   "source": [
    "t_inicial = 0\n",
    "t_final = 50\n",
    "vetor_estados, instantes_temporais = sistema_lorenz.calcular(t_inicial=t_inicial, t_final=t_final)\n",
    "dados_lorenz = vetor_estados[:, 0]"
   ]
  },
  {
   "cell_type": "markdown",
   "id": "2018907c",
   "metadata": {},
   "source": [
    "### Equações de Mackey-Glass"
   ]
  },
  {
   "cell_type": "code",
   "execution_count": 10,
   "id": "3c3aa7b6",
   "metadata": {},
   "outputs": [],
   "source": [
    "t_inicial = 0\n",
    "t_final = 5000\n",
    "tau = 22\n",
    "n = 10\n",
    "gamma = 0.1\n",
    "beta = 0.2\n",
    "theta = 1"
   ]
  },
  {
   "cell_type": "code",
   "execution_count": 11,
   "id": "ff09b1b3",
   "metadata": {},
   "outputs": [],
   "source": [
    "mackeyglass_eq = mackeyglass.MackeyGlass(tau=tau, gamma=gamma, beta=beta, n=n, theta=theta)"
   ]
  },
  {
   "cell_type": "code",
   "execution_count": 12,
   "id": "2a01f97b",
   "metadata": {},
   "outputs": [],
   "source": [
    "dados_mackeyglass, instantes_temporais = mackeyglass_eq.calcular(t_inicial=t_inicial, t_final=t_final)"
   ]
  },
  {
   "cell_type": "markdown",
   "id": "ae747caa",
   "metadata": {},
   "source": [
    "## 3. Análise para o Mapa de Hénon"
   ]
  },
  {
   "cell_type": "markdown",
   "id": "94c1bb87",
   "metadata": {},
   "source": [
    "### Pegando o arquivo com as configurações"
   ]
  },
  {
   "cell_type": "code",
   "execution_count": 13,
   "id": "0c19385a",
   "metadata": {},
   "outputs": [],
   "source": [
    "config = mlp_basica_henon.mlp_basica_henon"
   ]
  },
  {
   "cell_type": "code",
   "execution_count": 7,
   "id": "37a39e3e",
   "metadata": {},
   "outputs": [],
   "source": [
    "conjunto_k = k_set.K_set[\"K_henon\"]"
   ]
  },
  {
   "cell_type": "markdown",
   "id": "b353854f",
   "metadata": {},
   "source": [
    "### Executando a avaliação"
   ]
  },
  {
   "cell_type": "code",
   "execution_count": 8,
   "id": "b442b925",
   "metadata": {},
   "outputs": [
    {
     "name": "stdout",
     "output_type": "stream",
     "text": [
      "Testando para K = 1...\n",
      "Valor Médio do MSE para esse K: 0.17578816789773657\n",
      "Desvio Padrão do MSE para esse K: 0.012956852755940164\n",
      "\n",
      "Testando para K = 2...\n",
      "Valor Médio do MSE para esse K: 0.005190317068914024\n",
      "Desvio Padrão do MSE para esse K: 0.0016200208095096952\n",
      "\n",
      "Testando para K = 3...\n",
      "Valor Médio do MSE para esse K: 0.00234553394563324\n",
      "Desvio Padrão do MSE para esse K: 0.003764600560136518\n",
      "\n",
      "Testando para K = 4...\n",
      "Valor Médio do MSE para esse K: 0.0006415131950131122\n",
      "Desvio Padrão do MSE para esse K: 0.00047261117784957757\n",
      "\n",
      "Testando para K = 5...\n",
      "Valor Médio do MSE para esse K: 0.0018921599867780866\n",
      "Desvio Padrão do MSE para esse K: 0.00021392147838290976\n",
      "\n",
      "Testando para K = 6...\n",
      "Valor Médio do MSE para esse K: 0.0017387885123580408\n",
      "Desvio Padrão do MSE para esse K: 0.001250714825728456\n",
      "\n",
      "Testando para K = 7...\n",
      "Valor Médio do MSE para esse K: 0.0032390287790944492\n",
      "Desvio Padrão do MSE para esse K: 0.0010335759376165045\n",
      "\n",
      "Testando para K = 8...\n",
      "Valor Médio do MSE para esse K: 0.0009435567810124884\n",
      "Desvio Padrão do MSE para esse K: 0.0002630604903271187\n",
      "\n",
      "Testando para K = 9...\n",
      "Valor Médio do MSE para esse K: 0.0015137337953493118\n",
      "Desvio Padrão do MSE para esse K: 0.0008047496924863911\n",
      "\n"
     ]
    }
   ],
   "source": [
    "results_henon = evaluate.evaluate(modelo, dados_henon, config, conjunto_k, verbose=1)"
   ]
  },
  {
   "cell_type": "markdown",
   "id": "e4fd907b",
   "metadata": {},
   "source": [
    "### Salvando os resultados num .csv"
   ]
  },
  {
   "cell_type": "code",
   "execution_count": 9,
   "id": "92d6bfc6",
   "metadata": {},
   "outputs": [],
   "source": [
    "results_henon = pd.DataFrame(results_henon, columns=['K', 'Media do MSE', 'Desvio Padrao do MSE'])"
   ]
  },
  {
   "cell_type": "code",
   "execution_count": 10,
   "id": "f443b0e8",
   "metadata": {},
   "outputs": [],
   "source": [
    "results_henon.to_csv('../../results/mlp-basica/mlp-basica-henon.csv', index = False, header=True)"
   ]
  },
  {
   "cell_type": "markdown",
   "id": "ddbedfa4",
   "metadata": {},
   "source": [
    "## 4. Análise para o Mapa Logístico"
   ]
  },
  {
   "cell_type": "markdown",
   "id": "fb017df7",
   "metadata": {},
   "source": [
    "### Pegando o arquivo com as configurações"
   ]
  },
  {
   "cell_type": "code",
   "execution_count": 14,
   "id": "fcc33210",
   "metadata": {},
   "outputs": [],
   "source": [
    "config = mlp_basica_logistic.mlp_basica_logistic"
   ]
  },
  {
   "cell_type": "code",
   "execution_count": 15,
   "id": "9ed6b4b1",
   "metadata": {},
   "outputs": [],
   "source": [
    "conjunto_k = k_set.K_set[\"K_logistic\"]"
   ]
  },
  {
   "cell_type": "markdown",
   "id": "7d73b68f",
   "metadata": {},
   "source": [
    "### Executando a avaliação"
   ]
  },
  {
   "cell_type": "code",
   "execution_count": 16,
   "id": "2995c49d",
   "metadata": {},
   "outputs": [
    {
     "name": "stdout",
     "output_type": "stream",
     "text": [
      "Testando para K = 1...\n",
      "Valor Médio do MSE para esse K: 0.0003275452828720645\n",
      "Desvio Padrão do MSE para esse K: 3.4856271304604264e-05\n",
      "\n",
      "Testando para K = 2...\n",
      "Valor Médio do MSE para esse K: 0.0015191485405185124\n",
      "Desvio Padrão do MSE para esse K: 0.00013056961880236978\n",
      "\n",
      "Testando para K = 3...\n",
      "Valor Médio do MSE para esse K: 0.00032496361427405263\n",
      "Desvio Padrão do MSE para esse K: 4.949707629860625e-05\n",
      "\n",
      "Testando para K = 4...\n",
      "Valor Médio do MSE para esse K: 0.00029434382424467834\n",
      "Desvio Padrão do MSE para esse K: 4.619968972840897e-05\n",
      "\n",
      "Testando para K = 5...\n",
      "Valor Médio do MSE para esse K: 0.00044878035699226455\n",
      "Desvio Padrão do MSE para esse K: 6.307699382435863e-05\n",
      "\n",
      "Testando para K = 6...\n",
      "Valor Médio do MSE para esse K: 0.00039175957772389605\n",
      "Desvio Padrão do MSE para esse K: 4.7524955207316566e-05\n",
      "\n",
      "Testando para K = 7...\n",
      "Valor Médio do MSE para esse K: 0.0028871377628727247\n",
      "Desvio Padrão do MSE para esse K: 0.0012160702292546553\n",
      "\n",
      "Testando para K = 8...\n",
      "Valor Médio do MSE para esse K: 0.0005066190235304293\n",
      "Desvio Padrão do MSE para esse K: 0.00017230576728833726\n",
      "\n"
     ]
    }
   ],
   "source": [
    "results_logistic = evaluate.evaluate(modelo, dados_logistic, config, conjunto_k, verbose=1)"
   ]
  },
  {
   "cell_type": "markdown",
   "id": "ac967bd3",
   "metadata": {},
   "source": [
    "### Salvando os resultados num .csv"
   ]
  },
  {
   "cell_type": "code",
   "execution_count": 17,
   "id": "498c7f28",
   "metadata": {},
   "outputs": [],
   "source": [
    "results_logistic = pd.DataFrame(results_logistic, columns=['K', 'Media do MSE', 'Desvio Padrao do MSE'])"
   ]
  },
  {
   "cell_type": "code",
   "execution_count": 18,
   "id": "acc56c9f",
   "metadata": {},
   "outputs": [],
   "source": [
    "results_logistic.to_csv('../../results/mlp-basica/mlp-basica-logistic.csv', index = False, header=True)"
   ]
  },
  {
   "cell_type": "markdown",
   "id": "c84f2fae",
   "metadata": {},
   "source": [
    "## 5. Análise para o Sistema de Lorenz"
   ]
  },
  {
   "cell_type": "markdown",
   "id": "0793e016",
   "metadata": {},
   "source": [
    "### Pegando o arquivo com as configurações"
   ]
  },
  {
   "cell_type": "code",
   "execution_count": 7,
   "id": "b0411aff",
   "metadata": {},
   "outputs": [],
   "source": [
    "config = mlp_basica_lorenz.mlp_basica_lorenz"
   ]
  },
  {
   "cell_type": "code",
   "execution_count": 8,
   "id": "4fed9649",
   "metadata": {},
   "outputs": [],
   "source": [
    "conjunto_k = k_set.K_set[\"K_lorenz\"]"
   ]
  },
  {
   "cell_type": "markdown",
   "id": "f4de0cbf",
   "metadata": {},
   "source": [
    "### Executando a avaliação"
   ]
  },
  {
   "cell_type": "code",
   "execution_count": 10,
   "id": "89bcaa34",
   "metadata": {},
   "outputs": [
    {
     "name": "stdout",
     "output_type": "stream",
     "text": [
      "Testando para K = 1...\n",
      "Valor Médio do MSE para esse K: 1.4533465471315765\n",
      "Desvio Padrão do MSE para esse K: 0.005081857352600296\n",
      "\n",
      "Testando para K = 2...\n",
      "Valor Médio do MSE para esse K: 0.0008919056362589867\n",
      "Desvio Padrão do MSE para esse K: 0.00013567086043212128\n",
      "\n",
      "Testando para K = 3...\n",
      "Valor Médio do MSE para esse K: 0.0015675701096512923\n",
      "Desvio Padrão do MSE para esse K: 0.00047563041516897596\n",
      "\n",
      "Testando para K = 4...\n",
      "Valor Médio do MSE para esse K: 0.001335584198792661\n",
      "Desvio Padrão do MSE para esse K: 0.00035961389609793273\n",
      "\n",
      "Testando para K = 5...\n",
      "Valor Médio do MSE para esse K: 0.0005770301118216585\n",
      "Desvio Padrão do MSE para esse K: 0.00013224779350776806\n",
      "\n",
      "Testando para K = 6...\n",
      "Valor Médio do MSE para esse K: 0.0008002083120149539\n",
      "Desvio Padrão do MSE para esse K: 0.00012700154530297502\n",
      "\n",
      "Testando para K = 7...\n",
      "Valor Médio do MSE para esse K: 0.0008498869051925329\n",
      "Desvio Padrão do MSE para esse K: 0.0003147846559944474\n",
      "\n",
      "Testando para K = 8...\n",
      "Valor Médio do MSE para esse K: 0.0007477672722806226\n",
      "Desvio Padrão do MSE para esse K: 0.0005878035701195636\n",
      "\n",
      "Testando para K = 9...\n",
      "Valor Médio do MSE para esse K: 0.0008148820192927756\n",
      "Desvio Padrão do MSE para esse K: 0.00030920837586347554\n",
      "\n",
      "Testando para K = 10...\n",
      "Valor Médio do MSE para esse K: 0.0007369168496317786\n",
      "Desvio Padrão do MSE para esse K: 0.0007951482879443457\n",
      "\n"
     ]
    }
   ],
   "source": [
    "results_lorenz = evaluate.evaluate(modelo, dados_lorenz, config, conjunto_k, verbose=1)"
   ]
  },
  {
   "cell_type": "markdown",
   "id": "936a8707",
   "metadata": {},
   "source": [
    "### Salvando os resultados num .csv"
   ]
  },
  {
   "cell_type": "code",
   "execution_count": 11,
   "id": "79a9431f",
   "metadata": {},
   "outputs": [],
   "source": [
    "results_lorenz = pd.DataFrame(results_lorenz, columns=['K', 'Media do MSE', 'Desvio Padrao do MSE'])"
   ]
  },
  {
   "cell_type": "code",
   "execution_count": 12,
   "id": "3fc53caf",
   "metadata": {},
   "outputs": [],
   "source": [
    "results_lorenz.to_csv('../../results/mlp-basica/mlp-basica-lorenz.csv', index = False, header=True)"
   ]
  },
  {
   "cell_type": "markdown",
   "id": "e48cb97d",
   "metadata": {},
   "source": [
    "## 6. Análise para as equações de Mackey-Glass"
   ]
  },
  {
   "cell_type": "markdown",
   "id": "6c8e0fe1",
   "metadata": {},
   "source": [
    "### Pegando o arquivo com as configurações"
   ]
  },
  {
   "cell_type": "code",
   "execution_count": 8,
   "id": "43406f74",
   "metadata": {},
   "outputs": [],
   "source": [
    "config = mlp_basica_mackeyglass.mlp_basica_mackeyglass"
   ]
  },
  {
   "cell_type": "code",
   "execution_count": 9,
   "id": "9b2a3552",
   "metadata": {},
   "outputs": [],
   "source": [
    "conjunto_k = k_set.K_set[\"K_mackeyglass\"]"
   ]
  },
  {
   "cell_type": "markdown",
   "id": "486fca6e",
   "metadata": {},
   "source": [
    "### Executando a avaliação"
   ]
  },
  {
   "cell_type": "code",
   "execution_count": 11,
   "id": "cef73fe2",
   "metadata": {},
   "outputs": [
    {
     "name": "stdout",
     "output_type": "stream",
     "text": [
      "Testando para K = 1...\n",
      "Valor Médio do MSE para esse K: 0.009241197572268912\n",
      "Desvio Padrão do MSE para esse K: 8.812021691710526e-06\n",
      "\n",
      "Testando para K = 2...\n",
      "Valor Médio do MSE para esse K: 0.0011057513260577293\n",
      "Desvio Padrão do MSE para esse K: 3.211826543265109e-05\n",
      "\n",
      "Testando para K = 3...\n",
      "Valor Médio do MSE para esse K: 0.0007275835534382093\n",
      "Desvio Padrão do MSE para esse K: 0.0004700361950753372\n",
      "\n",
      "Testando para K = 4...\n",
      "Valor Médio do MSE para esse K: 0.00045374460653021295\n",
      "Desvio Padrão do MSE para esse K: 9.503979234273714e-06\n",
      "\n",
      "Testando para K = 5...\n",
      "Valor Médio do MSE para esse K: 0.0006319384054573751\n",
      "Desvio Padrão do MSE para esse K: 3.873850643402129e-05\n",
      "\n",
      "Testando para K = 6...\n",
      "Valor Médio do MSE para esse K: 0.0005740164565350813\n",
      "Desvio Padrão do MSE para esse K: 0.00013034976882840744\n",
      "\n",
      "Testando para K = 7...\n",
      "Valor Médio do MSE para esse K: 0.0005295485474161169\n",
      "Desvio Padrão do MSE para esse K: 0.00022581738443053177\n",
      "\n"
     ]
    }
   ],
   "source": [
    "results_mackeyglass = evaluate.evaluate(modelo, dados_mackeyglass, config, conjunto_k, verbose=1)"
   ]
  },
  {
   "cell_type": "markdown",
   "id": "b11da686",
   "metadata": {},
   "source": [
    "### Salvando os resultados num .csv"
   ]
  },
  {
   "cell_type": "code",
   "execution_count": 12,
   "id": "1d971478",
   "metadata": {},
   "outputs": [],
   "source": [
    "results_mackeyglass = pd.DataFrame(results_mackeyglass, columns=['K', 'Media do MSE', 'Desvio Padrao do MSE'])"
   ]
  },
  {
   "cell_type": "code",
   "execution_count": 13,
   "id": "1970c052",
   "metadata": {},
   "outputs": [],
   "source": [
    "results_mackeyglass.to_csv('../../results/mlp-basica/mlp-basica-mackeyglass.csv', index = False, header=True)"
   ]
  },
  {
   "cell_type": "markdown",
   "id": "6265ffb9",
   "metadata": {},
   "source": [
    "## Avaliando os três melhores valores para K em cada cenário"
   ]
  },
  {
   "cell_type": "code",
   "execution_count": 14,
   "id": "929df493",
   "metadata": {},
   "outputs": [],
   "source": [
    "from pibic2020.parameters.mlp_basica import mlp_best_k"
   ]
  },
  {
   "cell_type": "markdown",
   "id": "25966455",
   "metadata": {},
   "source": [
    "### Análise para o Mapa de Hénon"
   ]
  },
  {
   "cell_type": "markdown",
   "id": "7517ddb8",
   "metadata": {},
   "source": [
    "#### Pegando o arquivo com as configurações"
   ]
  },
  {
   "cell_type": "code",
   "execution_count": 10,
   "id": "6b3dfa4b",
   "metadata": {},
   "outputs": [],
   "source": [
    "config = mlp_basica_henon.mlp_basica_henon"
   ]
  },
  {
   "cell_type": "code",
   "execution_count": 11,
   "id": "6762e83c",
   "metadata": {},
   "outputs": [],
   "source": [
    "conjunto_k = mlp_best_k.K_3best_henon_mlp\n",
    "conjunto_k = [k-1 for k in conjunto_k]"
   ]
  },
  {
   "cell_type": "markdown",
   "id": "a0cf626d",
   "metadata": {},
   "source": [
    "#### Executando a avaliação"
   ]
  },
  {
   "cell_type": "code",
   "execution_count": 12,
   "id": "eb4f9ad7",
   "metadata": {},
   "outputs": [
    {
     "name": "stdout",
     "output_type": "stream",
     "text": [
      "Testando para K = 4...\n",
      "Valor Médio do MSE para esse K: 0.0005779719497900857\n",
      "Desvio Padrão do MSE para esse K: 0.00040472032769286434\n",
      "\n",
      "Testando para K = 8...\n",
      "Valor Médio do MSE para esse K: 0.0010639814461181312\n",
      "Desvio Padrão do MSE para esse K: 0.0006475079045998669\n",
      "\n",
      "Testando para K = 9...\n",
      "Valor Médio do MSE para esse K: 0.0024637069318062645\n",
      "Desvio Padrão do MSE para esse K: 0.00034108117583670145\n",
      "\n"
     ]
    }
   ],
   "source": [
    "results_henon = evaluate.evaluate(modelo, dados_henon, config, conjunto_k, verbose=1)"
   ]
  },
  {
   "cell_type": "markdown",
   "id": "789671a6",
   "metadata": {},
   "source": [
    "### Salvando os dados"
   ]
  },
  {
   "cell_type": "code",
   "execution_count": 13,
   "id": "b329b278",
   "metadata": {},
   "outputs": [],
   "source": [
    "results_henon_3best = pd.DataFrame(results_henon, columns=['K', 'Media do MSE', 'Desvio Padrao do MSE'])"
   ]
  },
  {
   "cell_type": "code",
   "execution_count": 15,
   "id": "dcf217d7",
   "metadata": {},
   "outputs": [],
   "source": [
    "results_henon_3best.to_csv('../../results/mlp-basica/mlp-basica-henon-3best.csv', index = False, header=True)"
   ]
  },
  {
   "cell_type": "markdown",
   "id": "9eae534d",
   "metadata": {},
   "source": [
    "### Análise para o Mapa logístico"
   ]
  },
  {
   "cell_type": "markdown",
   "id": "786bcc98",
   "metadata": {},
   "source": [
    "#### Pegando o arquivo com as configurações"
   ]
  },
  {
   "cell_type": "code",
   "execution_count": 18,
   "id": "955c7fea",
   "metadata": {},
   "outputs": [],
   "source": [
    "config = mlp_basica_logistic.mlp_basica_logistic"
   ]
  },
  {
   "cell_type": "code",
   "execution_count": 19,
   "id": "e84a639d",
   "metadata": {},
   "outputs": [],
   "source": [
    "conjunto_k = mlp_best_k.K_3best_logistic_mlp\n",
    "conjunto_k = [k-1 for k in conjunto_k]"
   ]
  },
  {
   "cell_type": "markdown",
   "id": "26bb6c75",
   "metadata": {},
   "source": [
    "#### Executando a avaliação"
   ]
  },
  {
   "cell_type": "code",
   "execution_count": 20,
   "id": "a84dfd1b",
   "metadata": {},
   "outputs": [
    {
     "name": "stdout",
     "output_type": "stream",
     "text": [
      "Testando para K = 4...\n",
      "Valor Médio do MSE para esse K: 0.0003403203340986134\n",
      "Desvio Padrão do MSE para esse K: 2.9164530023571162e-05\n",
      "\n",
      "Testando para K = 3...\n",
      "Valor Médio do MSE para esse K: 0.0008069458215452824\n",
      "Desvio Padrão do MSE para esse K: 8.589419019575808e-05\n",
      "\n",
      "Testando para K = 1...\n",
      "Valor Médio do MSE para esse K: 0.0013459036399912\n",
      "Desvio Padrão do MSE para esse K: 0.0004383240480530801\n",
      "\n"
     ]
    }
   ],
   "source": [
    "results_logistic = evaluate.evaluate(modelo, dados_logistic, config, conjunto_k, verbose=1)"
   ]
  },
  {
   "cell_type": "markdown",
   "id": "03134ae4",
   "metadata": {},
   "source": [
    "### Salvando os dados"
   ]
  },
  {
   "cell_type": "code",
   "execution_count": 21,
   "id": "f819a25a",
   "metadata": {},
   "outputs": [],
   "source": [
    "results_logistic_3best = pd.DataFrame(results_logistic, columns=['K', 'Media do MSE', 'Desvio Padrao do MSE'])"
   ]
  },
  {
   "cell_type": "code",
   "execution_count": 22,
   "id": "49aa125e",
   "metadata": {},
   "outputs": [],
   "source": [
    "results_logistic_3best.to_csv('../../results/mlp-basica/mlp-basica-logistic-3best.csv', index = False, header=True)"
   ]
  },
  {
   "cell_type": "markdown",
   "id": "99956a40",
   "metadata": {},
   "source": [
    "### Análise para o sistema de Lorenz"
   ]
  },
  {
   "cell_type": "markdown",
   "id": "e8e72246",
   "metadata": {},
   "source": [
    "#### Pegando o arquivo com as configurações"
   ]
  },
  {
   "cell_type": "code",
   "execution_count": 29,
   "id": "2f25d613",
   "metadata": {},
   "outputs": [],
   "source": [
    "config = mlp_basica_lorenz.mlp_basica_lorenz"
   ]
  },
  {
   "cell_type": "code",
   "execution_count": 30,
   "id": "d6a71b51",
   "metadata": {},
   "outputs": [],
   "source": [
    "conjunto_k = mlp_best_k.K_3best_lorenz_mlp\n",
    "conjunto_k = [k-1 for k in conjunto_k]"
   ]
  },
  {
   "cell_type": "markdown",
   "id": "8eb60953",
   "metadata": {},
   "source": [
    "#### Executando a avaliação"
   ]
  },
  {
   "cell_type": "code",
   "execution_count": 32,
   "id": "10de47be",
   "metadata": {},
   "outputs": [
    {
     "name": "stdout",
     "output_type": "stream",
     "text": [
      "Testando para K = 5...\n",
      "Valor Médio do MSE para esse K: 0.000854213883745418\n",
      "Desvio Padrão do MSE para esse K: 0.000390460733647522\n",
      "\n",
      "Testando para K = 10...\n",
      "Valor Médio do MSE para esse K: 0.0008265524954865289\n",
      "Desvio Padrão do MSE para esse K: 0.0005422018371837096\n",
      "\n",
      "Testando para K = 8...\n",
      "Valor Médio do MSE para esse K: 0.0008944840921528226\n",
      "Desvio Padrão do MSE para esse K: 0.00042669659796005236\n",
      "\n"
     ]
    }
   ],
   "source": [
    "results_lorenz = evaluate.evaluate(modelo, dados_lorenz, config, conjunto_k, verbose=1)"
   ]
  },
  {
   "cell_type": "markdown",
   "id": "2a20c555",
   "metadata": {},
   "source": [
    "### Salvando os dados"
   ]
  },
  {
   "cell_type": "code",
   "execution_count": 33,
   "id": "ea5c7cd8",
   "metadata": {},
   "outputs": [],
   "source": [
    "results_lorenz_3best = pd.DataFrame(results_lorenz, columns=['K', 'Media do MSE', 'Desvio Padrao do MSE'])"
   ]
  },
  {
   "cell_type": "code",
   "execution_count": 34,
   "id": "0007a1dd",
   "metadata": {},
   "outputs": [],
   "source": [
    "results_lorenz_3best.to_csv('../../results/mlp-basica/mlp-basica-lorenz-3best.csv', index = False, header=True)"
   ]
  },
  {
   "cell_type": "markdown",
   "id": "3b5c0322",
   "metadata": {},
   "source": [
    "### Análise para as equações de Mackey-Glass"
   ]
  },
  {
   "cell_type": "markdown",
   "id": "217e3856",
   "metadata": {},
   "source": [
    "#### Pegando o arquivo com as configurações"
   ]
  },
  {
   "cell_type": "code",
   "execution_count": 38,
   "id": "57a11b12",
   "metadata": {},
   "outputs": [],
   "source": [
    "config = mlp_basica_mackeyglass.mlp_basica_mackeyglass"
   ]
  },
  {
   "cell_type": "code",
   "execution_count": 39,
   "id": "84b1da30",
   "metadata": {},
   "outputs": [],
   "source": [
    "conjunto_k = mlp_best_k.k_3best_mackeyglass_mlp\n",
    "conjunto_k = [k-1 for k in conjunto_k]"
   ]
  },
  {
   "cell_type": "markdown",
   "id": "d87e5372",
   "metadata": {},
   "source": [
    "#### Executando a avaliação"
   ]
  },
  {
   "cell_type": "code",
   "execution_count": 40,
   "id": "b0c7cafa",
   "metadata": {},
   "outputs": [
    {
     "name": "stdout",
     "output_type": "stream",
     "text": [
      "Testando para K = 4...\n",
      "Valor Médio do MSE para esse K: 0.00037858215501117905\n",
      "Desvio Padrão do MSE para esse K: 5.3985865766437026e-06\n",
      "\n",
      "Testando para K = 7...\n",
      "Valor Médio do MSE para esse K: 0.00037560203177901697\n",
      "Desvio Padrão do MSE para esse K: 1.049256499525845e-05\n",
      "\n",
      "Testando para K = 6...\n",
      "Valor Médio do MSE para esse K: 0.0003795157203983914\n",
      "Desvio Padrão do MSE para esse K: 0.00024406910401345033\n",
      "\n"
     ]
    }
   ],
   "source": [
    "results_mackeyglass = evaluate.evaluate(modelo, dados_mackeyglass, config, conjunto_k, verbose=1)"
   ]
  },
  {
   "cell_type": "markdown",
   "id": "c728129f",
   "metadata": {},
   "source": [
    "### Salvando os dados"
   ]
  },
  {
   "cell_type": "code",
   "execution_count": 41,
   "id": "aee35994",
   "metadata": {},
   "outputs": [],
   "source": [
    "results_mackeyglass_3best = pd.DataFrame(results_mackeyglass, columns=['K', 'Media do MSE', 'Desvio Padrao do MSE'])"
   ]
  },
  {
   "cell_type": "code",
   "execution_count": 42,
   "id": "c6f2da8d",
   "metadata": {},
   "outputs": [],
   "source": [
    "results_mackeyglass_3best.to_csv('../../results/mlp-basica/mlp-basica-mackeyglass-3best.csv', index = False, header=True)"
   ]
  },
  {
   "cell_type": "markdown",
   "id": "47e528d9",
   "metadata": {},
   "source": [
    "## Avaliando o melhor valor para K em cada cenário"
   ]
  },
  {
   "cell_type": "markdown",
   "id": "b6653a91",
   "metadata": {},
   "source": [
    "### Análise para o Mapa de Hénon"
   ]
  },
  {
   "cell_type": "markdown",
   "id": "77d00f3b",
   "metadata": {},
   "source": [
    "#### Pegando o arquivo com as configurações"
   ]
  },
  {
   "cell_type": "code",
   "execution_count": 35,
   "id": "d98b9ff7",
   "metadata": {},
   "outputs": [],
   "source": [
    "config = mlp_basica_henon.mlp_basica_henon"
   ]
  },
  {
   "cell_type": "code",
   "execution_count": 36,
   "id": "8685e059",
   "metadata": {},
   "outputs": [],
   "source": [
    "conjunto_k = mlp_best_k.K_best_henon_mlp\n",
    "conjunto_k = [k-1 for k in conjunto_k]"
   ]
  },
  {
   "cell_type": "markdown",
   "id": "bd2ba46c",
   "metadata": {},
   "source": [
    "#### Executando a avaliação"
   ]
  },
  {
   "cell_type": "code",
   "execution_count": 37,
   "id": "9467ca47",
   "metadata": {},
   "outputs": [
    {
     "name": "stdout",
     "output_type": "stream",
     "text": [
      "Testando para K = 4...\n",
      "Valor Médio do MSE para esse K: 0.0008474141265631311\n",
      "Desvio Padrão do MSE para esse K: 0.0006634793546351799\n",
      "\n"
     ]
    }
   ],
   "source": [
    "results_henon = evaluate.evaluate(modelo, dados_henon, config, conjunto_k, verbose=1)"
   ]
  },
  {
   "cell_type": "markdown",
   "id": "81541c80",
   "metadata": {},
   "source": [
    "### Salvando os dados"
   ]
  },
  {
   "cell_type": "code",
   "execution_count": 38,
   "id": "32c97f7b",
   "metadata": {},
   "outputs": [],
   "source": [
    "results_henon_best = pd.DataFrame(results_henon, columns=['K', 'Media do MSE', 'Desvio Padrao do MSE'])"
   ]
  },
  {
   "cell_type": "code",
   "execution_count": 39,
   "id": "74a9ec51",
   "metadata": {},
   "outputs": [],
   "source": [
    "results_henon_best.to_csv('../../results/mlp-basica/mlp-basica-henon-best.csv', index = False, header=True)"
   ]
  },
  {
   "cell_type": "markdown",
   "id": "3268c346",
   "metadata": {},
   "source": [
    "### Análise para o Mapa logístico"
   ]
  },
  {
   "cell_type": "markdown",
   "id": "9b0af1ec",
   "metadata": {},
   "source": [
    "#### Pegando o arquivo com as configurações"
   ]
  },
  {
   "cell_type": "code",
   "execution_count": 20,
   "id": "827ebf88",
   "metadata": {},
   "outputs": [],
   "source": [
    "config = mlp_basica_logistic.mlp_basica_logistic"
   ]
  },
  {
   "cell_type": "code",
   "execution_count": 21,
   "id": "4b5054b8",
   "metadata": {},
   "outputs": [],
   "source": [
    "conjunto_k = mlp_best_k.K_best_logistic_mlp\n",
    "conjunto_k = [k-1 for k in conjunto_k]"
   ]
  },
  {
   "cell_type": "markdown",
   "id": "199bc961",
   "metadata": {},
   "source": [
    "#### Executando a avaliação"
   ]
  },
  {
   "cell_type": "code",
   "execution_count": 22,
   "id": "0d67ec72",
   "metadata": {},
   "outputs": [
    {
     "name": "stdout",
     "output_type": "stream",
     "text": [
      "Testando para K = 4...\n",
      "Valor Médio do MSE para esse K: 0.00035716122589360915\n",
      "Desvio Padrão do MSE para esse K: 3.9905709025961497e-05\n",
      "\n"
     ]
    }
   ],
   "source": [
    "results_logistic = evaluate.evaluate(modelo, dados_logistic, config, conjunto_k, verbose=1)"
   ]
  },
  {
   "cell_type": "markdown",
   "id": "7ac7c861",
   "metadata": {},
   "source": [
    "### Salvando os dados"
   ]
  },
  {
   "cell_type": "code",
   "execution_count": 23,
   "id": "c1d1ba2a",
   "metadata": {},
   "outputs": [],
   "source": [
    "results_logistic_best = pd.DataFrame(results_logistic, columns=['K', 'Media do MSE', 'Desvio Padrao do MSE'])"
   ]
  },
  {
   "cell_type": "code",
   "execution_count": 24,
   "id": "10b1a3ce",
   "metadata": {},
   "outputs": [],
   "source": [
    "results_logistic_best.to_csv('../../results/mlp-basica/mlp-basica-logistic-best.csv', index = False, header=True)"
   ]
  },
  {
   "cell_type": "markdown",
   "id": "f4954d9d",
   "metadata": {},
   "source": [
    "### Análise para o sistema de Lorenz"
   ]
  },
  {
   "cell_type": "markdown",
   "id": "962c148d",
   "metadata": {},
   "source": [
    "#### Pegando o arquivo com as configurações"
   ]
  },
  {
   "cell_type": "code",
   "execution_count": 40,
   "id": "146c4753",
   "metadata": {},
   "outputs": [],
   "source": [
    "config = mlp_basica_lorenz.mlp_basica_lorenz"
   ]
  },
  {
   "cell_type": "code",
   "execution_count": 41,
   "id": "271dad48",
   "metadata": {},
   "outputs": [],
   "source": [
    "conjunto_k = mlp_best_k.K_best_lorenz_mlp\n",
    "conjunto_k = [k-1 for k in conjunto_k]"
   ]
  },
  {
   "cell_type": "markdown",
   "id": "5f7225ed",
   "metadata": {},
   "source": [
    "#### Executando a avaliação"
   ]
  },
  {
   "cell_type": "code",
   "execution_count": 42,
   "id": "d4aa0a69",
   "metadata": {},
   "outputs": [
    {
     "name": "stdout",
     "output_type": "stream",
     "text": [
      "Testando para K = 5...\n",
      "Valor Médio do MSE para esse K: 0.0008038318600392774\n",
      "Desvio Padrão do MSE para esse K: 0.0002934303057621196\n",
      "\n"
     ]
    }
   ],
   "source": [
    "results_lorenz = evaluate.evaluate(modelo, dados_lorenz, config, conjunto_k, verbose=1)"
   ]
  },
  {
   "cell_type": "markdown",
   "id": "a4c6f80d",
   "metadata": {},
   "source": [
    "### Salvando os dados"
   ]
  },
  {
   "cell_type": "code",
   "execution_count": 43,
   "id": "003d6117",
   "metadata": {},
   "outputs": [],
   "source": [
    "results_lorenz_best = pd.DataFrame(results_lorenz, columns=['K', 'Media do MSE', 'Desvio Padrao do MSE'])"
   ]
  },
  {
   "cell_type": "code",
   "execution_count": 44,
   "id": "3580de80",
   "metadata": {},
   "outputs": [],
   "source": [
    "results_lorenz_best.to_csv('../../results/mlp-basica/mlp-basica-lorenz-best.csv', index = False, header=True)"
   ]
  },
  {
   "cell_type": "markdown",
   "id": "888bb358",
   "metadata": {},
   "source": [
    "### Análise para as equações de Mackey-Glass"
   ]
  },
  {
   "cell_type": "markdown",
   "id": "165393f5",
   "metadata": {},
   "source": [
    "#### Pegando o arquivo com as configurações"
   ]
  },
  {
   "cell_type": "code",
   "execution_count": 45,
   "id": "ae7a995a",
   "metadata": {},
   "outputs": [],
   "source": [
    "config = mlp_basica_mackeyglass.mlp_basica_mackeyglass"
   ]
  },
  {
   "cell_type": "code",
   "execution_count": 46,
   "id": "aa4c3290",
   "metadata": {},
   "outputs": [],
   "source": [
    "conjunto_k = mlp_best_k.K_best_mackeyglass_mlp\n",
    "conjunto_k = [k-1 for k in conjunto_k]"
   ]
  },
  {
   "cell_type": "markdown",
   "id": "da636ebb",
   "metadata": {},
   "source": [
    "#### Executando a avaliação"
   ]
  },
  {
   "cell_type": "code",
   "execution_count": 47,
   "id": "e39fc56d",
   "metadata": {},
   "outputs": [
    {
     "name": "stdout",
     "output_type": "stream",
     "text": [
      "Testando para K = 7...\n",
      "Valor Médio do MSE para esse K: 0.00030231152792470394\n",
      "Desvio Padrão do MSE para esse K: 4.697057017464904e-05\n",
      "\n"
     ]
    }
   ],
   "source": [
    "results_mackeyglass = evaluate.evaluate(modelo, dados_mackeyglass, config, conjunto_k, verbose=1)"
   ]
  },
  {
   "cell_type": "markdown",
   "id": "7a7ef8c1",
   "metadata": {},
   "source": [
    "### Salvando os dados"
   ]
  },
  {
   "cell_type": "code",
   "execution_count": 48,
   "id": "b70e2c86",
   "metadata": {},
   "outputs": [],
   "source": [
    "results_mackeyglass_best = pd.DataFrame(results_mackeyglass, columns=['K', 'Media do MSE', 'Desvio Padrao do MSE'])"
   ]
  },
  {
   "cell_type": "code",
   "execution_count": 49,
   "id": "38260ea7",
   "metadata": {},
   "outputs": [],
   "source": [
    "results_mackeyglass_best.to_csv('../../results/mlp-basica/mlp-basica-mackeyglass-best.csv', index = False, header=True)"
   ]
  },
  {
   "cell_type": "code",
   "execution_count": null,
   "id": "0c77e308",
   "metadata": {},
   "outputs": [],
   "source": []
  }
 ],
 "metadata": {
  "kernelspec": {
   "display_name": "Python 3",
   "language": "python",
   "name": "python3"
  },
  "language_info": {
   "codemirror_mode": {
    "name": "ipython",
    "version": 3
   },
   "file_extension": ".py",
   "mimetype": "text/x-python",
   "name": "python",
   "nbconvert_exporter": "python",
   "pygments_lexer": "ipython3",
   "version": "3.8.0"
  }
 },
 "nbformat": 4,
 "nbformat_minor": 5
}
