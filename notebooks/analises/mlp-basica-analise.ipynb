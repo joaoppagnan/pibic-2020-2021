{
 "cells": [
  {
   "cell_type": "markdown",
   "id": "4b44b628",
   "metadata": {},
   "source": [
    "# Analisando os resultados da MLP básica nos cenários de sistemas caóticos testados"
   ]
  },
  {
   "cell_type": "markdown",
   "id": "58af4cc5",
   "metadata": {},
   "source": [
    "## 1. Importando as bibliotecas necessárias"
   ]
  },
  {
   "cell_type": "markdown",
   "id": "898fc0cd",
   "metadata": {},
   "source": [
    "### Bibliotecas Externas"
   ]
  },
  {
   "cell_type": "code",
   "execution_count": 1,
   "id": "7987dc58",
   "metadata": {},
   "outputs": [],
   "source": [
    "import numpy as np\n",
    "import pandas as pd\n",
    "\n",
    "import tensorflow as tf\n",
    "physical_devices = tf.config.list_physical_devices('GPU')"
   ]
  },
  {
   "cell_type": "markdown",
   "id": "f9d178e2",
   "metadata": {},
   "source": [
    "### Bibliotecas do projeto"
   ]
  },
  {
   "cell_type": "code",
   "execution_count": 2,
   "id": "17d6b9d0",
   "metadata": {},
   "outputs": [],
   "source": [
    "# arquivos de configurações\n",
    "from pibic2020.parameters.mlp_basica import *\n",
    "from pibic2020.parameters import k_set\n",
    "\n",
    "# sistemas caoticos\n",
    "from pibic2020.data import henon\n",
    "from pibic2020.data import logistic\n",
    "from pibic2020.data import lorenz\n",
    "from pibic2020.data import mackeyglass\n",
    "\n",
    "# avaliação do modelo\n",
    "from pibic2020.tools import evaluate"
   ]
  },
  {
   "cell_type": "markdown",
   "id": "b4c9a01a",
   "metadata": {},
   "source": [
    "## 2. Modelo a ser testado"
   ]
  },
  {
   "cell_type": "code",
   "execution_count": 3,
   "id": "2387e6cd",
   "metadata": {},
   "outputs": [],
   "source": [
    "modelo = 'MLP'"
   ]
  },
  {
   "cell_type": "markdown",
   "id": "ebb2fda9",
   "metadata": {},
   "source": [
    "## 3. Análise para o Mapa de Hénon"
   ]
  },
  {
   "cell_type": "markdown",
   "id": "b7f97246",
   "metadata": {},
   "source": [
    "### Gerando os dados"
   ]
  },
  {
   "cell_type": "code",
   "execution_count": 4,
   "id": "18923284",
   "metadata": {},
   "outputs": [],
   "source": [
    "mapa_henon = henon.MapaHenon()"
   ]
  },
  {
   "cell_type": "code",
   "execution_count": 5,
   "id": "8e290f96",
   "metadata": {},
   "outputs": [],
   "source": [
    "n_iteracoes = 5000\n",
    "vetor_estados = mapa_henon.simular(n_iteracoes)\n",
    "dados = vetor_estados[:, 0]"
   ]
  },
  {
   "cell_type": "markdown",
   "id": "f6b09c01",
   "metadata": {},
   "source": [
    "### Pegando o arquivo com as configurações"
   ]
  },
  {
   "cell_type": "code",
   "execution_count": 6,
   "id": "9004e3d0",
   "metadata": {},
   "outputs": [],
   "source": [
    "config = mlp_basica_henon.mlp_basica_henon"
   ]
  },
  {
   "cell_type": "code",
   "execution_count": 7,
   "id": "741549af",
   "metadata": {},
   "outputs": [],
   "source": [
    "conjunto_k = k_set.K_set[\"K_henon\"]"
   ]
  },
  {
   "cell_type": "markdown",
   "id": "8348222e",
   "metadata": {},
   "source": [
    "### Executando a avaliação"
   ]
  },
  {
   "cell_type": "code",
   "execution_count": 8,
   "id": "c529a5e1",
   "metadata": {},
   "outputs": [
    {
     "name": "stdout",
     "output_type": "stream",
     "text": [
      "Testando para K = 0...\n",
      "Valor Médio do MSE para esse K:0.17203084706790825\n",
      "Desvio Padrão do MSE para esse K:0.013923939797549753\n",
      "\n",
      "Testando para K = 1...\n",
      "Valor Médio do MSE para esse K:0.008914345693350928\n",
      "Desvio Padrão do MSE para esse K:0.0015897310672914275\n",
      "\n",
      "Testando para K = 2...\n",
      "Valor Médio do MSE para esse K:0.002599203096740275\n",
      "Desvio Padrão do MSE para esse K:0.000537093561849867\n",
      "\n",
      "Testando para K = 3...\n",
      "Valor Médio do MSE para esse K:0.002386454710300708\n",
      "Desvio Padrão do MSE para esse K:0.00019330597416446476\n",
      "\n",
      "Testando para K = 4...\n",
      "Valor Médio do MSE para esse K:0.0018641761090737747\n",
      "Desvio Padrão do MSE para esse K:0.00043234057632279713\n",
      "\n",
      "Testando para K = 5...\n",
      "Valor Médio do MSE para esse K:0.0038193209690357745\n",
      "Desvio Padrão do MSE para esse K:0.0014004143648607052\n",
      "\n",
      "Testando para K = 6...\n",
      "Valor Médio do MSE para esse K:0.001819396837476131\n",
      "Desvio Padrão do MSE para esse K:0.0006929981619915272\n",
      "\n",
      "Testando para K = 7...\n",
      "Valor Médio do MSE para esse K:0.0011625688511760228\n",
      "Desvio Padrão do MSE para esse K:0.0004671035188646689\n",
      "\n",
      "Testando para K = 8...\n",
      "Valor Médio do MSE para esse K:0.0017224459471021894\n",
      "Desvio Padrão do MSE para esse K:0.00037746331657152906\n",
      "\n"
     ]
    }
   ],
   "source": [
    "results_henon = evaluate.evaluate(modelo, dados, config, conjunto_k, verbose=1)"
   ]
  },
  {
   "cell_type": "markdown",
   "id": "a92df1e8",
   "metadata": {},
   "source": [
    "### Salvando os resultados num .csv"
   ]
  },
  {
   "cell_type": "code",
   "execution_count": 9,
   "id": "1c3b1d52",
   "metadata": {},
   "outputs": [],
   "source": [
    "results_henon = pd.DataFrame(results_henon, columns=['K', 'Media do RMSE', 'Desvio Padrao do RMSE'])"
   ]
  },
  {
   "cell_type": "code",
   "execution_count": 11,
   "id": "f747ff40",
   "metadata": {},
   "outputs": [],
   "source": [
    "results_henon.to_csv('../../results/mlp-basica/mlp-basica-henon.csv', index = False, header=True)"
   ]
  },
  {
   "cell_type": "markdown",
   "id": "5d5a319b",
   "metadata": {},
   "source": [
    "## 3. Análise para o Mapa Logístico"
   ]
  },
  {
   "cell_type": "markdown",
   "id": "13b90139",
   "metadata": {},
   "source": [
    "### Gerando os dados"
   ]
  },
  {
   "cell_type": "code",
   "execution_count": 6,
   "id": "315a742b",
   "metadata": {},
   "outputs": [],
   "source": [
    "mapa_logistico = logistic.MapaLogistico()"
   ]
  },
  {
   "cell_type": "code",
   "execution_count": 7,
   "id": "c816adef",
   "metadata": {},
   "outputs": [],
   "source": [
    "n_iteracoes = 5000\n",
    "vetor_estados = mapa.simular(n_iteracoes)\n",
    "dados = vetor_estados[:, 0]"
   ]
  },
  {
   "cell_type": "markdown",
   "id": "6e183bf1",
   "metadata": {},
   "source": [
    "### Pegando o arquivo com as configurações"
   ]
  },
  {
   "cell_type": "code",
   "execution_count": 8,
   "id": "f7422e32",
   "metadata": {},
   "outputs": [],
   "source": [
    "config = mlp_basica_logistic.mlp_basica_logistic"
   ]
  },
  {
   "cell_type": "code",
   "execution_count": 10,
   "id": "31907ea4",
   "metadata": {},
   "outputs": [],
   "source": [
    "conjunto_k = k_set.K_set[\"K_logistic\"]"
   ]
  },
  {
   "cell_type": "markdown",
   "id": "719cdb9d",
   "metadata": {},
   "source": [
    "### Executando a avaliação"
   ]
  },
  {
   "cell_type": "code",
   "execution_count": 12,
   "id": "e912772f",
   "metadata": {},
   "outputs": [
    {
     "name": "stdout",
     "output_type": "stream",
     "text": [
      "Testando para K = 0...\n"
     ]
    },
    {
     "ename": "KeyboardInterrupt",
     "evalue": "",
     "output_type": "error",
     "traceback": [
      "\u001b[0;31m---------------------------------------------------------------------------\u001b[0m",
      "\u001b[0;31mKeyboardInterrupt\u001b[0m                         Traceback (most recent call last)",
      "\u001b[0;32m<ipython-input-12-a3d3f48fdace>\u001b[0m in \u001b[0;36m<module>\u001b[0;34m\u001b[0m\n\u001b[0;32m----> 1\u001b[0;31m \u001b[0mresults_logistic\u001b[0m \u001b[0;34m=\u001b[0m \u001b[0mevaluate\u001b[0m\u001b[0;34m.\u001b[0m\u001b[0mevaluate\u001b[0m\u001b[0;34m(\u001b[0m\u001b[0mmodelo\u001b[0m\u001b[0;34m,\u001b[0m \u001b[0mdados\u001b[0m\u001b[0;34m,\u001b[0m \u001b[0mconfig\u001b[0m\u001b[0;34m,\u001b[0m \u001b[0mconjunto_k\u001b[0m\u001b[0;34m,\u001b[0m \u001b[0mverbose\u001b[0m\u001b[0;34m=\u001b[0m\u001b[0;36m1\u001b[0m\u001b[0;34m)\u001b[0m\u001b[0;34m\u001b[0m\u001b[0;34m\u001b[0m\u001b[0m\n\u001b[0m",
      "\u001b[0;32m/usr/local/lib/python3.8/dist-packages/pibic2020-0.0.1-py3.8.egg/pibic2020/tools/evaluate.py\u001b[0m in \u001b[0;36mevaluate\u001b[0;34m(modelo, dados, config, k_set, scaler, L, tam_teste, tam_val, verbose)\u001b[0m\n\u001b[1;32m    126\u001b[0m         \u001b[0;31m# avalia esse modelo e salva os resultados na matriz\u001b[0m\u001b[0;34m\u001b[0m\u001b[0;34m\u001b[0m\u001b[0;34m\u001b[0m\u001b[0m\n\u001b[1;32m    127\u001b[0m         \u001b[0;32mif\u001b[0m \u001b[0;34m(\u001b[0m\u001b[0mmodelo\u001b[0m\u001b[0;34m==\u001b[0m\u001b[0;34m'MLP'\u001b[0m\u001b[0;34m)\u001b[0m\u001b[0;34m:\u001b[0m\u001b[0;34m\u001b[0m\u001b[0;34m\u001b[0m\u001b[0m\n\u001b[0;32m--> 128\u001b[0;31m             mse_mean, mse_stddev = model.avaliar(X_treino, X_teste, X_val,\n\u001b[0m\u001b[1;32m    129\u001b[0m                                                   \u001b[0my_treino\u001b[0m\u001b[0;34m,\u001b[0m \u001b[0my_teste\u001b[0m\u001b[0;34m,\u001b[0m \u001b[0my_val\u001b[0m\u001b[0;34m,\u001b[0m\u001b[0;34m\u001b[0m\u001b[0;34m\u001b[0m\u001b[0m\n\u001b[1;32m    130\u001b[0m                                                   batch_size=config[\"batch_size\"])\n",
      "\u001b[0;32m/usr/local/lib/python3.8/dist-packages/pibic2020-0.0.1-py3.8.egg/pibic2020/models/mlp_model.py\u001b[0m in \u001b[0;36mavaliar\u001b[0;34m(self, X_treino, X_val, X_teste, y_treino, y_val, y_teste, n_repeticoes, batch_size, early_stopping, epochs, verbose)\u001b[0m\n\u001b[1;32m    457\u001b[0m             \u001b[0mmodelo\u001b[0m \u001b[0;34m=\u001b[0m \u001b[0mself\u001b[0m\u001b[0;34m.\u001b[0m\u001b[0m_modelo\u001b[0m\u001b[0;34m\u001b[0m\u001b[0;34m\u001b[0m\u001b[0m\n\u001b[1;32m    458\u001b[0m \u001b[0;34m\u001b[0m\u001b[0m\n\u001b[0;32m--> 459\u001b[0;31m             modelo.fit(X_treino, y_treino, \n\u001b[0m\u001b[1;32m    460\u001b[0m                    \u001b[0mepochs\u001b[0m\u001b[0;34m=\u001b[0m\u001b[0mepochs\u001b[0m\u001b[0;34m,\u001b[0m \u001b[0mcallbacks\u001b[0m\u001b[0;34m=\u001b[0m\u001b[0mearly_stopping_fit\u001b[0m\u001b[0;34m,\u001b[0m\u001b[0;34m\u001b[0m\u001b[0;34m\u001b[0m\u001b[0m\n\u001b[1;32m    461\u001b[0m                    \u001b[0mvalidation_data\u001b[0m\u001b[0;34m=\u001b[0m\u001b[0;34m(\u001b[0m\u001b[0mX_val\u001b[0m\u001b[0;34m,\u001b[0m \u001b[0my_val\u001b[0m\u001b[0;34m)\u001b[0m\u001b[0;34m,\u001b[0m \u001b[0mbatch_size\u001b[0m\u001b[0;34m=\u001b[0m\u001b[0mbatch_size\u001b[0m\u001b[0;34m,\u001b[0m\u001b[0;34m\u001b[0m\u001b[0;34m\u001b[0m\u001b[0m\n",
      "\u001b[0;32m/usr/local/lib/python3.8/dist-packages/tensorflow/python/keras/engine/training.py\u001b[0m in \u001b[0;36mfit\u001b[0;34m(self, x, y, batch_size, epochs, verbose, callbacks, validation_split, validation_data, shuffle, class_weight, sample_weight, initial_epoch, steps_per_epoch, validation_steps, validation_batch_size, validation_freq, max_queue_size, workers, use_multiprocessing)\u001b[0m\n\u001b[1;32m   1098\u001b[0m                 _r=1):\n\u001b[1;32m   1099\u001b[0m               \u001b[0mcallbacks\u001b[0m\u001b[0;34m.\u001b[0m\u001b[0mon_train_batch_begin\u001b[0m\u001b[0;34m(\u001b[0m\u001b[0mstep\u001b[0m\u001b[0;34m)\u001b[0m\u001b[0;34m\u001b[0m\u001b[0;34m\u001b[0m\u001b[0m\n\u001b[0;32m-> 1100\u001b[0;31m               \u001b[0mtmp_logs\u001b[0m \u001b[0;34m=\u001b[0m \u001b[0mself\u001b[0m\u001b[0;34m.\u001b[0m\u001b[0mtrain_function\u001b[0m\u001b[0;34m(\u001b[0m\u001b[0miterator\u001b[0m\u001b[0;34m)\u001b[0m\u001b[0;34m\u001b[0m\u001b[0;34m\u001b[0m\u001b[0m\n\u001b[0m\u001b[1;32m   1101\u001b[0m               \u001b[0;32mif\u001b[0m \u001b[0mdata_handler\u001b[0m\u001b[0;34m.\u001b[0m\u001b[0mshould_sync\u001b[0m\u001b[0;34m:\u001b[0m\u001b[0;34m\u001b[0m\u001b[0;34m\u001b[0m\u001b[0m\n\u001b[1;32m   1102\u001b[0m                 \u001b[0mcontext\u001b[0m\u001b[0;34m.\u001b[0m\u001b[0masync_wait\u001b[0m\u001b[0;34m(\u001b[0m\u001b[0;34m)\u001b[0m\u001b[0;34m\u001b[0m\u001b[0;34m\u001b[0m\u001b[0m\n",
      "\u001b[0;32m/usr/local/lib/python3.8/dist-packages/tensorflow/python/eager/def_function.py\u001b[0m in \u001b[0;36m__call__\u001b[0;34m(self, *args, **kwds)\u001b[0m\n\u001b[1;32m    826\u001b[0m     \u001b[0mtracing_count\u001b[0m \u001b[0;34m=\u001b[0m \u001b[0mself\u001b[0m\u001b[0;34m.\u001b[0m\u001b[0mexperimental_get_tracing_count\u001b[0m\u001b[0;34m(\u001b[0m\u001b[0;34m)\u001b[0m\u001b[0;34m\u001b[0m\u001b[0;34m\u001b[0m\u001b[0m\n\u001b[1;32m    827\u001b[0m     \u001b[0;32mwith\u001b[0m \u001b[0mtrace\u001b[0m\u001b[0;34m.\u001b[0m\u001b[0mTrace\u001b[0m\u001b[0;34m(\u001b[0m\u001b[0mself\u001b[0m\u001b[0;34m.\u001b[0m\u001b[0m_name\u001b[0m\u001b[0;34m)\u001b[0m \u001b[0;32mas\u001b[0m \u001b[0mtm\u001b[0m\u001b[0;34m:\u001b[0m\u001b[0;34m\u001b[0m\u001b[0;34m\u001b[0m\u001b[0m\n\u001b[0;32m--> 828\u001b[0;31m       \u001b[0mresult\u001b[0m \u001b[0;34m=\u001b[0m \u001b[0mself\u001b[0m\u001b[0;34m.\u001b[0m\u001b[0m_call\u001b[0m\u001b[0;34m(\u001b[0m\u001b[0;34m*\u001b[0m\u001b[0margs\u001b[0m\u001b[0;34m,\u001b[0m \u001b[0;34m**\u001b[0m\u001b[0mkwds\u001b[0m\u001b[0;34m)\u001b[0m\u001b[0;34m\u001b[0m\u001b[0;34m\u001b[0m\u001b[0m\n\u001b[0m\u001b[1;32m    829\u001b[0m       \u001b[0mcompiler\u001b[0m \u001b[0;34m=\u001b[0m \u001b[0;34m\"xla\"\u001b[0m \u001b[0;32mif\u001b[0m \u001b[0mself\u001b[0m\u001b[0;34m.\u001b[0m\u001b[0m_experimental_compile\u001b[0m \u001b[0;32melse\u001b[0m \u001b[0;34m\"nonXla\"\u001b[0m\u001b[0;34m\u001b[0m\u001b[0;34m\u001b[0m\u001b[0m\n\u001b[1;32m    830\u001b[0m       \u001b[0mnew_tracing_count\u001b[0m \u001b[0;34m=\u001b[0m \u001b[0mself\u001b[0m\u001b[0;34m.\u001b[0m\u001b[0mexperimental_get_tracing_count\u001b[0m\u001b[0;34m(\u001b[0m\u001b[0;34m)\u001b[0m\u001b[0;34m\u001b[0m\u001b[0;34m\u001b[0m\u001b[0m\n",
      "\u001b[0;32m/usr/local/lib/python3.8/dist-packages/tensorflow/python/eager/def_function.py\u001b[0m in \u001b[0;36m_call\u001b[0;34m(self, *args, **kwds)\u001b[0m\n\u001b[1;32m    853\u001b[0m       \u001b[0;31m# In this case we have created variables on the first call, so we run the\u001b[0m\u001b[0;34m\u001b[0m\u001b[0;34m\u001b[0m\u001b[0;34m\u001b[0m\u001b[0m\n\u001b[1;32m    854\u001b[0m       \u001b[0;31m# defunned version which is guaranteed to never create variables.\u001b[0m\u001b[0;34m\u001b[0m\u001b[0;34m\u001b[0m\u001b[0;34m\u001b[0m\u001b[0m\n\u001b[0;32m--> 855\u001b[0;31m       \u001b[0;32mreturn\u001b[0m \u001b[0mself\u001b[0m\u001b[0;34m.\u001b[0m\u001b[0m_stateless_fn\u001b[0m\u001b[0;34m(\u001b[0m\u001b[0;34m*\u001b[0m\u001b[0margs\u001b[0m\u001b[0;34m,\u001b[0m \u001b[0;34m**\u001b[0m\u001b[0mkwds\u001b[0m\u001b[0;34m)\u001b[0m  \u001b[0;31m# pylint: disable=not-callable\u001b[0m\u001b[0;34m\u001b[0m\u001b[0;34m\u001b[0m\u001b[0m\n\u001b[0m\u001b[1;32m    856\u001b[0m     \u001b[0;32melif\u001b[0m \u001b[0mself\u001b[0m\u001b[0;34m.\u001b[0m\u001b[0m_stateful_fn\u001b[0m \u001b[0;32mis\u001b[0m \u001b[0;32mnot\u001b[0m \u001b[0;32mNone\u001b[0m\u001b[0;34m:\u001b[0m\u001b[0;34m\u001b[0m\u001b[0;34m\u001b[0m\u001b[0m\n\u001b[1;32m    857\u001b[0m       \u001b[0;31m# Release the lock early so that multiple threads can perform the call\u001b[0m\u001b[0;34m\u001b[0m\u001b[0;34m\u001b[0m\u001b[0;34m\u001b[0m\u001b[0m\n",
      "\u001b[0;32m/usr/local/lib/python3.8/dist-packages/tensorflow/python/eager/function.py\u001b[0m in \u001b[0;36m__call__\u001b[0;34m(self, *args, **kwargs)\u001b[0m\n\u001b[1;32m   2940\u001b[0m       (graph_function,\n\u001b[1;32m   2941\u001b[0m        filtered_flat_args) = self._maybe_define_function(args, kwargs)\n\u001b[0;32m-> 2942\u001b[0;31m     return graph_function._call_flat(\n\u001b[0m\u001b[1;32m   2943\u001b[0m         filtered_flat_args, captured_inputs=graph_function.captured_inputs)  # pylint: disable=protected-access\n\u001b[1;32m   2944\u001b[0m \u001b[0;34m\u001b[0m\u001b[0m\n",
      "\u001b[0;32m/usr/local/lib/python3.8/dist-packages/tensorflow/python/eager/function.py\u001b[0m in \u001b[0;36m_call_flat\u001b[0;34m(self, args, captured_inputs, cancellation_manager)\u001b[0m\n\u001b[1;32m   1916\u001b[0m         and executing_eagerly):\n\u001b[1;32m   1917\u001b[0m       \u001b[0;31m# No tape is watching; skip to running the function.\u001b[0m\u001b[0;34m\u001b[0m\u001b[0;34m\u001b[0m\u001b[0;34m\u001b[0m\u001b[0m\n\u001b[0;32m-> 1918\u001b[0;31m       return self._build_call_outputs(self._inference_function.call(\n\u001b[0m\u001b[1;32m   1919\u001b[0m           ctx, args, cancellation_manager=cancellation_manager))\n\u001b[1;32m   1920\u001b[0m     forward_backward = self._select_forward_and_backward_functions(\n",
      "\u001b[0;32m/usr/local/lib/python3.8/dist-packages/tensorflow/python/eager/function.py\u001b[0m in \u001b[0;36mcall\u001b[0;34m(self, ctx, args, cancellation_manager)\u001b[0m\n\u001b[1;32m    553\u001b[0m       \u001b[0;32mwith\u001b[0m \u001b[0m_InterpolateFunctionError\u001b[0m\u001b[0;34m(\u001b[0m\u001b[0mself\u001b[0m\u001b[0;34m)\u001b[0m\u001b[0;34m:\u001b[0m\u001b[0;34m\u001b[0m\u001b[0;34m\u001b[0m\u001b[0m\n\u001b[1;32m    554\u001b[0m         \u001b[0;32mif\u001b[0m \u001b[0mcancellation_manager\u001b[0m \u001b[0;32mis\u001b[0m \u001b[0;32mNone\u001b[0m\u001b[0;34m:\u001b[0m\u001b[0;34m\u001b[0m\u001b[0;34m\u001b[0m\u001b[0m\n\u001b[0;32m--> 555\u001b[0;31m           outputs = execute.execute(\n\u001b[0m\u001b[1;32m    556\u001b[0m               \u001b[0mstr\u001b[0m\u001b[0;34m(\u001b[0m\u001b[0mself\u001b[0m\u001b[0;34m.\u001b[0m\u001b[0msignature\u001b[0m\u001b[0;34m.\u001b[0m\u001b[0mname\u001b[0m\u001b[0;34m)\u001b[0m\u001b[0;34m,\u001b[0m\u001b[0;34m\u001b[0m\u001b[0;34m\u001b[0m\u001b[0m\n\u001b[1;32m    557\u001b[0m               \u001b[0mnum_outputs\u001b[0m\u001b[0;34m=\u001b[0m\u001b[0mself\u001b[0m\u001b[0;34m.\u001b[0m\u001b[0m_num_outputs\u001b[0m\u001b[0;34m,\u001b[0m\u001b[0;34m\u001b[0m\u001b[0;34m\u001b[0m\u001b[0m\n",
      "\u001b[0;32m/usr/local/lib/python3.8/dist-packages/tensorflow/python/eager/execute.py\u001b[0m in \u001b[0;36mquick_execute\u001b[0;34m(op_name, num_outputs, inputs, attrs, ctx, name)\u001b[0m\n\u001b[1;32m     57\u001b[0m   \u001b[0;32mtry\u001b[0m\u001b[0;34m:\u001b[0m\u001b[0;34m\u001b[0m\u001b[0;34m\u001b[0m\u001b[0m\n\u001b[1;32m     58\u001b[0m     \u001b[0mctx\u001b[0m\u001b[0;34m.\u001b[0m\u001b[0mensure_initialized\u001b[0m\u001b[0;34m(\u001b[0m\u001b[0;34m)\u001b[0m\u001b[0;34m\u001b[0m\u001b[0;34m\u001b[0m\u001b[0m\n\u001b[0;32m---> 59\u001b[0;31m     tensors = pywrap_tfe.TFE_Py_Execute(ctx._handle, device_name, op_name,\n\u001b[0m\u001b[1;32m     60\u001b[0m                                         inputs, attrs, num_outputs)\n\u001b[1;32m     61\u001b[0m   \u001b[0;32mexcept\u001b[0m \u001b[0mcore\u001b[0m\u001b[0;34m.\u001b[0m\u001b[0m_NotOkStatusException\u001b[0m \u001b[0;32mas\u001b[0m \u001b[0me\u001b[0m\u001b[0;34m:\u001b[0m\u001b[0;34m\u001b[0m\u001b[0;34m\u001b[0m\u001b[0m\n",
      "\u001b[0;31mKeyboardInterrupt\u001b[0m: "
     ]
    }
   ],
   "source": [
    "results_logistic = evaluate.evaluate(modelo, dados, config, conjunto_k, verbose=1)"
   ]
  },
  {
   "cell_type": "markdown",
   "id": "0880e3c1",
   "metadata": {},
   "source": [
    "### Salvando os resultados num .csv"
   ]
  },
  {
   "cell_type": "code",
   "execution_count": 9,
   "id": "938ebcde",
   "metadata": {},
   "outputs": [],
   "source": [
    "results_logistic = pd.DataFrame(results_logistic, columns=['K', 'Media do RMSE', 'Desvio Padrao do RMSE'])"
   ]
  },
  {
   "cell_type": "code",
   "execution_count": 11,
   "id": "0ffe2f06",
   "metadata": {},
   "outputs": [],
   "source": [
    "results_logistic.to_csv('../../results/mlp-basica/mlp-basica-logistic.csv', index = False, header=True)"
   ]
  }
 ],
 "metadata": {
  "kernelspec": {
   "display_name": "Python 3",
   "language": "python",
   "name": "python3"
  },
  "language_info": {
   "codemirror_mode": {
    "name": "ipython",
    "version": 3
   },
   "file_extension": ".py",
   "mimetype": "text/x-python",
   "name": "python",
   "nbconvert_exporter": "python",
   "pygments_lexer": "ipython3",
   "version": "3.8.0"
  }
 },
 "nbformat": 4,
 "nbformat_minor": 5
}
