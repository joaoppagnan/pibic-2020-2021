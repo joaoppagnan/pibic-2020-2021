{
 "cells": [
  {
   "cell_type": "markdown",
   "id": "accompanied-chaos",
   "metadata": {},
   "source": [
    "# Analisando os resultados da ESN nos cenários de sistemas caóticos testados"
   ]
  },
  {
   "cell_type": "markdown",
   "id": "massive-cruise",
   "metadata": {},
   "source": [
    "## 1. Importando as bibliotecas necessárias"
   ]
  },
  {
   "cell_type": "markdown",
   "id": "phantom-token",
   "metadata": {},
   "source": [
    "### Bibliotecas Externas"
   ]
  },
  {
   "cell_type": "code",
   "execution_count": 1,
   "id": "sporting-sixth",
   "metadata": {},
   "outputs": [],
   "source": [
    "import numpy as np\n",
    "import pandas as pd"
   ]
  },
  {
   "cell_type": "markdown",
   "id": "informed-petersburg",
   "metadata": {},
   "source": [
    "### Bibliotecas do projeto"
   ]
  },
  {
   "cell_type": "code",
   "execution_count": 2,
   "id": "angry-hamilton",
   "metadata": {},
   "outputs": [],
   "source": [
    "# arquivos de configurações\n",
    "from pibic2020.parameters.esn import *\n",
    "from pibic2020.parameters import k_set\n",
    "\n",
    "# sistemas caoticos\n",
    "from pibic2020.data import henon\n",
    "from pibic2020.data import logistic\n",
    "from pibic2020.data import lorenz\n",
    "from pibic2020.data import mackeyglass\n",
    "\n",
    "# avaliação do modelo\n",
    "from pibic2020.tools import evaluate"
   ]
  },
  {
   "cell_type": "markdown",
   "id": "orange-kidney",
   "metadata": {},
   "source": [
    "## 2. Modelo a ser testado"
   ]
  },
  {
   "cell_type": "code",
   "execution_count": 3,
   "id": "optimum-figure",
   "metadata": {},
   "outputs": [],
   "source": [
    "modelo = 'ESN'"
   ]
  },
  {
   "cell_type": "markdown",
   "id": "rubber-audience",
   "metadata": {},
   "source": [
    "## 3. Análise para o Mapa de Hénon"
   ]
  },
  {
   "cell_type": "markdown",
   "id": "correct-student",
   "metadata": {},
   "source": [
    "### Gerando os dados"
   ]
  },
  {
   "cell_type": "code",
   "execution_count": 4,
   "id": "grave-index",
   "metadata": {},
   "outputs": [],
   "source": [
    "mapa_henon = henon.MapaHenon()"
   ]
  },
  {
   "cell_type": "code",
   "execution_count": 5,
   "id": "wanted-second",
   "metadata": {},
   "outputs": [],
   "source": [
    "n_iteracoes = 5000\n",
    "vetor_estados = mapa_henon.simular(n_iteracoes)\n",
    "dados = vetor_estados[:, 0]"
   ]
  },
  {
   "cell_type": "markdown",
   "id": "defined-guest",
   "metadata": {},
   "source": [
    "### Pegando o arquivo com as configurações"
   ]
  },
  {
   "cell_type": "code",
   "execution_count": 6,
   "id": "formal-wagner",
   "metadata": {},
   "outputs": [],
   "source": [
    "config = esn_henon.esn_henon"
   ]
  },
  {
   "cell_type": "code",
   "execution_count": 7,
   "id": "optical-exhaust",
   "metadata": {},
   "outputs": [],
   "source": [
    "conjunto_k = k_set.K_set[\"K_henon\"]"
   ]
  },
  {
   "cell_type": "markdown",
   "id": "mighty-allen",
   "metadata": {},
   "source": [
    "### Executando a avaliação"
   ]
  },
  {
   "cell_type": "code",
   "execution_count": 8,
   "id": "copyrighted-transmission",
   "metadata": {},
   "outputs": [
    {
     "name": "stdout",
     "output_type": "stream",
     "text": [
      "Testando para K = 1...\n",
      "Valor Médio do MSE para esse K: 4.617827174414257e-09\n",
      "Desvio Padrão do MSE para esse K: 2.8655167691351936e-09\n",
      "\n",
      "Testando para K = 2...\n",
      "Valor Médio do MSE para esse K: 1.3246825837607634e-08\n",
      "Desvio Padrão do MSE para esse K: 2.93233011628042e-09\n",
      "\n",
      "Testando para K = 3...\n",
      "Valor Médio do MSE para esse K: 7.317144388361125e-08\n",
      "Desvio Padrão do MSE para esse K: 2.2754086037935983e-08\n",
      "\n",
      "Testando para K = 4...\n",
      "Valor Médio do MSE para esse K: 1.779666849788324e-06\n",
      "Desvio Padrão do MSE para esse K: 4.772643312882021e-07\n",
      "\n",
      "Testando para K = 5...\n",
      "Valor Médio do MSE para esse K: 2.822612537146098e-05\n",
      "Desvio Padrão do MSE para esse K: 5.985866537899358e-06\n",
      "\n",
      "Testando para K = 6...\n",
      "Valor Médio do MSE para esse K: 0.0005110192329062715\n",
      "Desvio Padrão do MSE para esse K: 0.0001068555433137735\n",
      "\n",
      "Testando para K = 7...\n",
      "Valor Médio do MSE para esse K: 0.006491362022506018\n",
      "Desvio Padrão do MSE para esse K: 0.0009394011179193597\n",
      "\n",
      "Testando para K = 8...\n",
      "Valor Médio do MSE para esse K: 0.04480555869590405\n",
      "Desvio Padrão do MSE para esse K: 0.004214106085999835\n",
      "\n",
      "Testando para K = 9...\n",
      "Valor Médio do MSE para esse K: 0.1136592597647753\n",
      "Desvio Padrão do MSE para esse K: 0.0025946932752620613\n",
      "\n"
     ]
    }
   ],
   "source": [
    "results_henon = evaluate.evaluate(modelo, dados, config, conjunto_k, verbose=1)"
   ]
  },
  {
   "cell_type": "markdown",
   "id": "decreased-vancouver",
   "metadata": {},
   "source": [
    "### Salvando os resultados num .csv"
   ]
  },
  {
   "cell_type": "code",
   "execution_count": 9,
   "id": "specialized-anderson",
   "metadata": {},
   "outputs": [],
   "source": [
    "results_henon = pd.DataFrame(results_henon, columns=['K', 'Media do MSE', 'Desvio Padrao do MSE'])"
   ]
  },
  {
   "cell_type": "code",
   "execution_count": 10,
   "id": "middle-reconstruction",
   "metadata": {},
   "outputs": [],
   "source": [
    "results_henon.to_csv('../../results/esn/esn-henon.csv', index = False, header=True)"
   ]
  },
  {
   "cell_type": "markdown",
   "id": "mobile-avatar",
   "metadata": {},
   "source": [
    "## 4. Análise para o Mapa Logístico"
   ]
  },
  {
   "cell_type": "markdown",
   "id": "liberal-juvenile",
   "metadata": {},
   "source": [
    "### Gerando os dados"
   ]
  },
  {
   "cell_type": "code",
   "execution_count": 11,
   "id": "emotional-silver",
   "metadata": {},
   "outputs": [],
   "source": [
    "mapa_logistico = logistic.MapaLogistico()"
   ]
  },
  {
   "cell_type": "code",
   "execution_count": 12,
   "id": "reverse-eight",
   "metadata": {},
   "outputs": [],
   "source": [
    "n_iteracoes = 5000\n",
    "vetor_estados = mapa_logistico.simular(n_iteracoes)\n",
    "dados = vetor_estados[:, 0]"
   ]
  },
  {
   "cell_type": "markdown",
   "id": "induced-productivity",
   "metadata": {},
   "source": [
    "### Pegando o arquivo com as configurações"
   ]
  },
  {
   "cell_type": "code",
   "execution_count": 13,
   "id": "aggregate-wheel",
   "metadata": {},
   "outputs": [],
   "source": [
    "config = esn_logistic.esn_logistic"
   ]
  },
  {
   "cell_type": "code",
   "execution_count": 14,
   "id": "gentle-hundred",
   "metadata": {},
   "outputs": [],
   "source": [
    "conjunto_k = k_set.K_set[\"K_logistic\"]"
   ]
  },
  {
   "cell_type": "markdown",
   "id": "available-still",
   "metadata": {},
   "source": [
    "### Executando a avaliação"
   ]
  },
  {
   "cell_type": "code",
   "execution_count": 15,
   "id": "juvenile-basement",
   "metadata": {},
   "outputs": [
    {
     "name": "stdout",
     "output_type": "stream",
     "text": [
      "Testando para K = 1...\n",
      "Valor Médio do MSE para esse K: 1.0817286662580437e-06\n",
      "Desvio Padrão do MSE para esse K: 1.1645620350611952e-06\n",
      "\n",
      "Testando para K = 2...\n",
      "Valor Médio do MSE para esse K: 1.3160549330246079e-08\n",
      "Desvio Padrão do MSE para esse K: 2.068105550356741e-08\n",
      "\n",
      "Testando para K = 3...\n",
      "Valor Médio do MSE para esse K: 1.3810887970816953e-08\n",
      "Desvio Padrão do MSE para esse K: 4.355280842374323e-09\n",
      "\n",
      "Testando para K = 4...\n",
      "Valor Médio do MSE para esse K: 5.313654072517558e-07\n",
      "Desvio Padrão do MSE para esse K: 1.738462414392475e-07\n",
      "\n",
      "Testando para K = 5...\n",
      "Valor Médio do MSE para esse K: 1.4022251782712264e-05\n",
      "Desvio Padrão do MSE para esse K: 2.9846404388720913e-06\n",
      "\n",
      "Testando para K = 6...\n",
      "Valor Médio do MSE para esse K: 0.0005551584064542129\n",
      "Desvio Padrão do MSE para esse K: 9.516400258936215e-05\n",
      "\n",
      "Testando para K = 7...\n",
      "Valor Médio do MSE para esse K: 0.003821356527934972\n",
      "Desvio Padrão do MSE para esse K: 0.0006884384104916262\n",
      "\n",
      "Testando para K = 8...\n",
      "Valor Médio do MSE para esse K: 0.009946706652648313\n",
      "Desvio Padrão do MSE para esse K: 0.0005530370588944182\n",
      "\n"
     ]
    }
   ],
   "source": [
    "results_logistic = evaluate.evaluate(modelo, dados, config, conjunto_k, verbose=1)"
   ]
  },
  {
   "cell_type": "markdown",
   "id": "preceding-permission",
   "metadata": {},
   "source": [
    "### Salvando os resultados num .csv"
   ]
  },
  {
   "cell_type": "code",
   "execution_count": 16,
   "id": "furnished-motivation",
   "metadata": {},
   "outputs": [],
   "source": [
    "results_logistic = pd.DataFrame(results_logistic, columns=['K', 'Media do MSE', 'Desvio Padrao do MSE'])"
   ]
  },
  {
   "cell_type": "code",
   "execution_count": 17,
   "id": "second-filling",
   "metadata": {},
   "outputs": [],
   "source": [
    "results_logistic.to_csv('../../results/esn/esn-logistic.csv', index = False, header=True)"
   ]
  },
  {
   "cell_type": "markdown",
   "id": "typical-ultimate",
   "metadata": {},
   "source": [
    "## 5. Análise para o Sistema de Lorenz"
   ]
  },
  {
   "cell_type": "markdown",
   "id": "offshore-boundary",
   "metadata": {},
   "source": [
    "### Gerando os dados"
   ]
  },
  {
   "cell_type": "code",
   "execution_count": 11,
   "id": "innocent-capitol",
   "metadata": {},
   "outputs": [],
   "source": [
    "sistema_lorenz = lorenz.SistemaLorenz(estado_inicial=np.array([0.1, 0, 0]), dt=0.01)"
   ]
  },
  {
   "cell_type": "code",
   "execution_count": 12,
   "id": "promotional-galaxy",
   "metadata": {},
   "outputs": [],
   "source": [
    "t_inicial = 0\n",
    "t_final = 50\n",
    "vetor_estados, instantes_temporais = sistema_lorenz.calcular(t_inicial=t_inicial, t_final=t_final)\n",
    "dados = vetor_estados[:, 0]"
   ]
  },
  {
   "cell_type": "markdown",
   "id": "closed-evans",
   "metadata": {},
   "source": [
    "### Pegando o arquivo com as configurações"
   ]
  },
  {
   "cell_type": "code",
   "execution_count": 13,
   "id": "delayed-boring",
   "metadata": {},
   "outputs": [],
   "source": [
    "config = esn_lorenz.esn_lorenz"
   ]
  },
  {
   "cell_type": "code",
   "execution_count": 14,
   "id": "robust-distributor",
   "metadata": {},
   "outputs": [],
   "source": [
    "conjunto_k = k_set.K_set[\"K_lorenz\"]"
   ]
  },
  {
   "cell_type": "markdown",
   "id": "ecological-algebra",
   "metadata": {},
   "source": [
    "### Executando a avaliação"
   ]
  },
  {
   "cell_type": "code",
   "execution_count": 16,
   "id": "recorded-battle",
   "metadata": {},
   "outputs": [
    {
     "name": "stdout",
     "output_type": "stream",
     "text": [
      "Testando para K = 1...\n",
      "Valor Médio do MSE para esse K: 1.2157649274187778e-05\n",
      "Desvio Padrão do MSE para esse K: 3.7056317938404856e-06\n",
      "\n",
      "Testando para K = 2...\n",
      "Valor Médio do MSE para esse K: 2.3053965777948953e-06\n",
      "Desvio Padrão do MSE para esse K: 4.06541985283036e-06\n",
      "\n",
      "Testando para K = 3...\n",
      "Valor Médio do MSE para esse K: 4.007179521386351e-05\n",
      "Desvio Padrão do MSE para esse K: 4.187073542086362e-05\n",
      "\n",
      "Testando para K = 4...\n",
      "Valor Médio do MSE para esse K: 0.00017077248972737267\n",
      "Desvio Padrão do MSE para esse K: 0.00017986049155838382\n",
      "\n",
      "Testando para K = 5...\n",
      "Valor Médio do MSE para esse K: 0.0006577419989455063\n",
      "Desvio Padrão do MSE para esse K: 0.0005962946336886021\n",
      "\n",
      "Testando para K = 6...\n",
      "Valor Médio do MSE para esse K: 0.004673713705161422\n",
      "Desvio Padrão do MSE para esse K: 0.005858667678717492\n",
      "\n",
      "Testando para K = 7...\n",
      "Valor Médio do MSE para esse K: 0.006797847364181274\n",
      "Desvio Padrão do MSE para esse K: 0.008807893552615768\n",
      "\n",
      "Testando para K = 8...\n",
      "Valor Médio do MSE para esse K: 0.005059087171493807\n",
      "Desvio Padrão do MSE para esse K: 0.00256627814083531\n",
      "\n",
      "Testando para K = 9...\n",
      "Valor Médio do MSE para esse K: 0.026687269107742034\n",
      "Desvio Padrão do MSE para esse K: 0.024104182985749328\n",
      "\n",
      "Testando para K = 10...\n",
      "Valor Médio do MSE para esse K: 0.021171171016337247\n",
      "Desvio Padrão do MSE para esse K: 0.01735437746542136\n",
      "\n"
     ]
    }
   ],
   "source": [
    "results_lorenz = evaluate.evaluate(modelo, dados, config, conjunto_k, verbose=1)"
   ]
  },
  {
   "cell_type": "markdown",
   "id": "critical-electronics",
   "metadata": {},
   "source": [
    "### Salvando os resultados num .csv"
   ]
  },
  {
   "cell_type": "code",
   "execution_count": 17,
   "id": "racial-surgery",
   "metadata": {},
   "outputs": [],
   "source": [
    "results_lorenz = pd.DataFrame(results_lorenz, columns=['K', 'Media do MSE', 'Desvio Padrao do MSE'])"
   ]
  },
  {
   "cell_type": "code",
   "execution_count": 18,
   "id": "moving-discount",
   "metadata": {},
   "outputs": [],
   "source": [
    "results_lorenz.to_csv('../../results/esn/esn-lorenz.csv', index = False, header=True)"
   ]
  },
  {
   "cell_type": "markdown",
   "id": "written-apartment",
   "metadata": {},
   "source": [
    "## 6. Análise para as equações de Mackey-Glass"
   ]
  },
  {
   "cell_type": "markdown",
   "id": "fitted-journal",
   "metadata": {},
   "source": [
    "### Gerando os dados"
   ]
  },
  {
   "cell_type": "code",
   "execution_count": 19,
   "id": "bronze-baltimore",
   "metadata": {},
   "outputs": [],
   "source": [
    "t_inicial = 0\n",
    "t_final = 5000\n",
    "tau = 22\n",
    "n = 10\n",
    "gamma = 0.1\n",
    "beta = 0.2\n",
    "theta = 1"
   ]
  },
  {
   "cell_type": "code",
   "execution_count": 20,
   "id": "painful-prisoner",
   "metadata": {},
   "outputs": [],
   "source": [
    "mackeyglass_eq = mackeyglass.MackeyGlass(tau=tau, gamma=gamma, beta=beta, n=n, theta=theta)"
   ]
  },
  {
   "cell_type": "code",
   "execution_count": 21,
   "id": "resistant-landscape",
   "metadata": {},
   "outputs": [],
   "source": [
    "dados, instantes_temporais = mackeyglass_eq.calcular(t_inicial=t_inicial, t_final=t_final)"
   ]
  },
  {
   "cell_type": "markdown",
   "id": "verified-mississippi",
   "metadata": {},
   "source": [
    "### Pegando o arquivo com as configurações"
   ]
  },
  {
   "cell_type": "code",
   "execution_count": 30,
   "id": "separated-prerequisite",
   "metadata": {},
   "outputs": [],
   "source": [
    "config = esn_mackeyglass.esn_mackeyglass"
   ]
  },
  {
   "cell_type": "code",
   "execution_count": 31,
   "id": "fantastic-batch",
   "metadata": {},
   "outputs": [],
   "source": [
    "conjunto_k = k_set.K_set[\"K_mackeyglass\"]"
   ]
  },
  {
   "cell_type": "markdown",
   "id": "integrated-xerox",
   "metadata": {},
   "source": [
    "### Executando a avaliação"
   ]
  },
  {
   "cell_type": "code",
   "execution_count": 32,
   "id": "nervous-triangle",
   "metadata": {},
   "outputs": [
    {
     "name": "stdout",
     "output_type": "stream",
     "text": [
      "Testando para K = 1...\n",
      "Valor Médio do MSE para esse K: 2.2919091477018317e-07\n",
      "Desvio Padrão do MSE para esse K: 1.90482780540648e-08\n",
      "\n",
      "Testando para K = 2...\n",
      "Valor Médio do MSE para esse K: 3.0779616759995927e-07\n",
      "Desvio Padrão do MSE para esse K: 1.8619804906217314e-08\n",
      "\n",
      "Testando para K = 3...\n",
      "Valor Médio do MSE para esse K: 3.791222230672698e-07\n",
      "Desvio Padrão do MSE para esse K: 1.388012334735059e-08\n",
      "\n",
      "Testando para K = 4...\n",
      "Valor Médio do MSE para esse K: 3.9360496842366936e-07\n",
      "Desvio Padrão do MSE para esse K: 3.6610002191785937e-08\n",
      "\n",
      "Testando para K = 5...\n",
      "Valor Médio do MSE para esse K: 4.4812167613338975e-07\n",
      "Desvio Padrão do MSE para esse K: 4.537075788310917e-08\n",
      "\n",
      "Testando para K = 6...\n",
      "Valor Médio do MSE para esse K: 5.169956155649449e-07\n",
      "Desvio Padrão do MSE para esse K: 5.7726628758250354e-08\n",
      "\n",
      "Testando para K = 7...\n",
      "Valor Médio do MSE para esse K: 4.866676792288828e-07\n",
      "Desvio Padrão do MSE para esse K: 3.226540394974781e-08\n",
      "\n"
     ]
    }
   ],
   "source": [
    "results_mackeyglass = evaluate.evaluate(modelo, dados, config, conjunto_k, verbose=1)"
   ]
  },
  {
   "cell_type": "markdown",
   "id": "unexpected-telephone",
   "metadata": {},
   "source": [
    "### Salvando os resultados num .csv"
   ]
  },
  {
   "cell_type": "code",
   "execution_count": 33,
   "id": "fallen-server",
   "metadata": {},
   "outputs": [],
   "source": [
    "results_mackeyglass = pd.DataFrame(results_mackeyglass, columns=['K', 'Media do MSE', 'Desvio Padrao do MSE'])"
   ]
  },
  {
   "cell_type": "code",
   "execution_count": 34,
   "id": "compound-labor",
   "metadata": {},
   "outputs": [],
   "source": [
    "results_mackeyglass.to_csv('../../results/esn/esn-mackeyglass.csv', index = False, header=True)"
   ]
  },
  {
   "cell_type": "code",
   "execution_count": null,
   "id": "official-moderator",
   "metadata": {},
   "outputs": [],
   "source": []
  }
 ],
 "metadata": {
  "interpreter": {
   "hash": "1c73b65f1466549bfc741a37b577edb55fb777ecaa1f1b9885584a42de505515"
  },
  "kernelspec": {
   "display_name": "pibic2020-env",
   "language": "python",
   "name": "pibic2020-env"
  },
  "language_info": {
   "codemirror_mode": {
    "name": "ipython",
    "version": 3
   },
   "file_extension": ".py",
   "mimetype": "text/x-python",
   "name": "python",
   "nbconvert_exporter": "python",
   "pygments_lexer": "ipython3",
   "version": "3.8.10"
  }
 },
 "nbformat": 4,
 "nbformat_minor": 5
}
