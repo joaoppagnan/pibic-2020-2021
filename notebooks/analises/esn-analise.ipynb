{
 "cells": [
  {
   "cell_type": "markdown",
   "id": "04f42b5f",
   "metadata": {},
   "source": [
    "# Analisando os resultados da ESN nos cenários de sistemas caóticos testados"
   ]
  },
  {
   "cell_type": "markdown",
   "id": "0716dc7d",
   "metadata": {},
   "source": [
    "## 1. Importando as bibliotecas necessárias"
   ]
  },
  {
   "cell_type": "markdown",
   "id": "6af41922",
   "metadata": {},
   "source": [
    "### Bibliotecas Externas"
   ]
  },
  {
   "cell_type": "code",
   "execution_count": 1,
   "id": "4c7fd19d",
   "metadata": {},
   "outputs": [],
   "source": [
    "import numpy as np\n",
    "import pandas as pd"
   ]
  },
  {
   "cell_type": "markdown",
   "id": "be0f8077",
   "metadata": {},
   "source": [
    "### Bibliotecas do projeto"
   ]
  },
  {
   "cell_type": "code",
   "execution_count": 2,
   "id": "d9825e7e",
   "metadata": {},
   "outputs": [],
   "source": [
    "# arquivos de configurações\n",
    "from pibic2020.parameters.esn import *\n",
    "from pibic2020.parameters import k_set\n",
    "\n",
    "# sistemas caoticos\n",
    "from pibic2020.data import henon\n",
    "from pibic2020.data import logistic\n",
    "from pibic2020.data import lorenz\n",
    "from pibic2020.data import mackeyglass\n",
    "\n",
    "# avaliação do modelo\n",
    "from pibic2020.tools import evaluate"
   ]
  },
  {
   "cell_type": "markdown",
   "id": "2d2c49d4",
   "metadata": {},
   "source": [
    "## 2. Modelo a ser testado"
   ]
  },
  {
   "cell_type": "code",
   "execution_count": 3,
   "id": "1c19535f",
   "metadata": {},
   "outputs": [],
   "source": [
    "modelo = 'ESN'"
   ]
  },
  {
   "cell_type": "markdown",
   "id": "52778602",
   "metadata": {},
   "source": [
    "## Gerando os dados"
   ]
  },
  {
   "cell_type": "markdown",
   "id": "783d7627",
   "metadata": {},
   "source": [
    "### Mapa de Hénon"
   ]
  },
  {
   "cell_type": "code",
   "execution_count": 4,
   "id": "9ebe2753",
   "metadata": {},
   "outputs": [],
   "source": [
    "mapa_henon = henon.MapaHenon()"
   ]
  },
  {
   "cell_type": "code",
   "execution_count": 5,
   "id": "dbe95bd9",
   "metadata": {},
   "outputs": [],
   "source": [
    "n_iteracoes = 5000\n",
    "vetor_estados = mapa_henon.simular(n_iteracoes)\n",
    "dados_henon = vetor_estados[:, 0]"
   ]
  },
  {
   "cell_type": "markdown",
   "id": "62727602",
   "metadata": {},
   "source": [
    "### Mapa logístico"
   ]
  },
  {
   "cell_type": "code",
   "execution_count": 6,
   "id": "d14e1fc4",
   "metadata": {},
   "outputs": [],
   "source": [
    "mapa_logistico = logistic.MapaLogistico()"
   ]
  },
  {
   "cell_type": "code",
   "execution_count": 7,
   "id": "91192a8a",
   "metadata": {},
   "outputs": [],
   "source": [
    "n_iteracoes = 5000\n",
    "vetor_estados = mapa_logistico.simular(n_iteracoes)\n",
    "dados_logistic = vetor_estados[:, 0]"
   ]
  },
  {
   "cell_type": "markdown",
   "id": "5bbefeb9",
   "metadata": {},
   "source": [
    "### Sistema de Lorenz"
   ]
  },
  {
   "cell_type": "code",
   "execution_count": 8,
   "id": "f49924b9",
   "metadata": {},
   "outputs": [],
   "source": [
    "sistema_lorenz = lorenz.SistemaLorenz(estado_inicial=np.array([0.1, 0, 0]), dt=0.01)"
   ]
  },
  {
   "cell_type": "code",
   "execution_count": 9,
   "id": "fbfecd19",
   "metadata": {},
   "outputs": [],
   "source": [
    "t_inicial = 0\n",
    "t_final = 50\n",
    "vetor_estados, instantes_temporais = sistema_lorenz.calcular(t_inicial=t_inicial, t_final=t_final)\n",
    "dados_lorenz = vetor_estados[:, 0]"
   ]
  },
  {
   "cell_type": "markdown",
   "id": "528b09f4",
   "metadata": {},
   "source": [
    "### Equações de Mackey-Glass"
   ]
  },
  {
   "cell_type": "code",
   "execution_count": 10,
   "id": "97d38f88",
   "metadata": {},
   "outputs": [],
   "source": [
    "t_inicial = 0\n",
    "t_final = 5000\n",
    "tau = 22\n",
    "n = 10\n",
    "gamma = 0.1\n",
    "beta = 0.2\n",
    "theta = 1"
   ]
  },
  {
   "cell_type": "code",
   "execution_count": 11,
   "id": "21cb2da1",
   "metadata": {},
   "outputs": [],
   "source": [
    "mackeyglass_eq = mackeyglass.MackeyGlass(tau=tau, gamma=gamma, beta=beta, n=n, theta=theta)"
   ]
  },
  {
   "cell_type": "code",
   "execution_count": 12,
   "id": "2f248c42",
   "metadata": {},
   "outputs": [],
   "source": [
    "dados_mackeyglass, instantes_temporais = mackeyglass_eq.calcular(t_inicial=t_inicial, t_final=t_final)"
   ]
  },
  {
   "cell_type": "markdown",
   "id": "11a3a2bf",
   "metadata": {},
   "source": [
    "## 3. Análise para o Mapa de Hénon"
   ]
  },
  {
   "cell_type": "markdown",
   "id": "e290145b",
   "metadata": {},
   "source": [
    "### Pegando o arquivo com as configurações"
   ]
  },
  {
   "cell_type": "code",
   "execution_count": 6,
   "id": "34cfc65f",
   "metadata": {},
   "outputs": [],
   "source": [
    "config = esn_henon.esn_henon"
   ]
  },
  {
   "cell_type": "code",
   "execution_count": 7,
   "id": "6565920f",
   "metadata": {},
   "outputs": [],
   "source": [
    "conjunto_k = k_set.K_set[\"K_henon\"]"
   ]
  },
  {
   "cell_type": "markdown",
   "id": "f2285757",
   "metadata": {},
   "source": [
    "### Executando a avaliação"
   ]
  },
  {
   "cell_type": "code",
   "execution_count": 8,
   "id": "85364b88",
   "metadata": {},
   "outputs": [
    {
     "name": "stdout",
     "output_type": "stream",
     "text": [
      "Testando para K = 1...\n",
      "Valor Médio do MSE para esse K: 4.9644042278511626e-09\n",
      "Desvio Padrão do MSE para esse K: 2.4027482389994765e-09\n",
      "\n",
      "Testando para K = 2...\n",
      "Valor Médio do MSE para esse K: 1.3496112573626147e-08\n",
      "Desvio Padrão do MSE para esse K: 1.8081706417197481e-09\n",
      "\n",
      "Testando para K = 3...\n",
      "Valor Médio do MSE para esse K: 8.48137915637654e-08\n",
      "Desvio Padrão do MSE para esse K: 2.306732084007664e-08\n",
      "\n",
      "Testando para K = 4...\n",
      "Valor Médio do MSE para esse K: 1.3254204998645174e-06\n",
      "Desvio Padrão do MSE para esse K: 2.0402736728691554e-07\n",
      "\n",
      "Testando para K = 5...\n",
      "Valor Médio do MSE para esse K: 3.0022490295821526e-05\n",
      "Desvio Padrão do MSE para esse K: 5.765994571758906e-06\n",
      "\n",
      "Testando para K = 6...\n",
      "Valor Médio do MSE para esse K: 0.0005094740289245866\n",
      "Desvio Padrão do MSE para esse K: 7.17999552068531e-05\n",
      "\n",
      "Testando para K = 7...\n",
      "Valor Médio do MSE para esse K: 0.006439307018912451\n",
      "Desvio Padrão do MSE para esse K: 0.0009964978552444235\n",
      "\n",
      "Testando para K = 8...\n",
      "Valor Médio do MSE para esse K: 0.045875356399155395\n",
      "Desvio Padrão do MSE para esse K: 0.0066107768411044045\n",
      "\n",
      "Testando para K = 9...\n",
      "Valor Médio do MSE para esse K: 0.10955440044183706\n",
      "Desvio Padrão do MSE para esse K: 0.010018418379101866\n",
      "\n"
     ]
    }
   ],
   "source": [
    "results_henon = evaluate.evaluate(modelo, dados_henon, config, conjunto_k, verbose=1)"
   ]
  },
  {
   "cell_type": "markdown",
   "id": "4af6486b",
   "metadata": {},
   "source": [
    "### Salvando os resultados num .csv"
   ]
  },
  {
   "cell_type": "code",
   "execution_count": 9,
   "id": "320a7f7f",
   "metadata": {},
   "outputs": [],
   "source": [
    "results_henon = pd.DataFrame(results_henon, columns=['K', 'Media do MSE', 'Desvio Padrao do MSE'])"
   ]
  },
  {
   "cell_type": "code",
   "execution_count": 10,
   "id": "18f59e83",
   "metadata": {},
   "outputs": [],
   "source": [
    "results_henon.to_csv('../../results/esn/esn-henon.csv', index = False, header=True)"
   ]
  },
  {
   "cell_type": "markdown",
   "id": "952c2202",
   "metadata": {},
   "source": [
    "## 4. Análise para o Mapa Logístico"
   ]
  },
  {
   "cell_type": "markdown",
   "id": "25c086f9",
   "metadata": {},
   "source": [
    "### Pegando o arquivo com as configurações"
   ]
  },
  {
   "cell_type": "code",
   "execution_count": 13,
   "id": "adfa3e8b",
   "metadata": {},
   "outputs": [],
   "source": [
    "config = esn_logistic.esn_logistic"
   ]
  },
  {
   "cell_type": "code",
   "execution_count": 14,
   "id": "7437c411",
   "metadata": {},
   "outputs": [],
   "source": [
    "conjunto_k = k_set.K_set[\"K_logistic\"]"
   ]
  },
  {
   "cell_type": "markdown",
   "id": "104f08b2",
   "metadata": {},
   "source": [
    "### Executando a avaliação"
   ]
  },
  {
   "cell_type": "code",
   "execution_count": 15,
   "id": "6cf62c03",
   "metadata": {},
   "outputs": [
    {
     "name": "stdout",
     "output_type": "stream",
     "text": [
      "Testando para K = 1...\n",
      "Valor Médio do MSE para esse K: 1.0817286662580437e-06\n",
      "Desvio Padrão do MSE para esse K: 1.1645620350611952e-06\n",
      "\n",
      "Testando para K = 2...\n",
      "Valor Médio do MSE para esse K: 1.3160549330246079e-08\n",
      "Desvio Padrão do MSE para esse K: 2.068105550356741e-08\n",
      "\n",
      "Testando para K = 3...\n",
      "Valor Médio do MSE para esse K: 1.3810887970816953e-08\n",
      "Desvio Padrão do MSE para esse K: 4.355280842374323e-09\n",
      "\n",
      "Testando para K = 4...\n",
      "Valor Médio do MSE para esse K: 5.313654072517558e-07\n",
      "Desvio Padrão do MSE para esse K: 1.738462414392475e-07\n",
      "\n",
      "Testando para K = 5...\n",
      "Valor Médio do MSE para esse K: 1.4022251782712264e-05\n",
      "Desvio Padrão do MSE para esse K: 2.9846404388720913e-06\n",
      "\n",
      "Testando para K = 6...\n",
      "Valor Médio do MSE para esse K: 0.0005551584064542129\n",
      "Desvio Padrão do MSE para esse K: 9.516400258936215e-05\n",
      "\n",
      "Testando para K = 7...\n",
      "Valor Médio do MSE para esse K: 0.003821356527934972\n",
      "Desvio Padrão do MSE para esse K: 0.0006884384104916262\n",
      "\n",
      "Testando para K = 8...\n",
      "Valor Médio do MSE para esse K: 0.009946706652648313\n",
      "Desvio Padrão do MSE para esse K: 0.0005530370588944182\n",
      "\n"
     ]
    }
   ],
   "source": [
    "results_logistic = evaluate.evaluate(modelo, dados_logistic, config, conjunto_k, verbose=1)"
   ]
  },
  {
   "cell_type": "markdown",
   "id": "65d3b969",
   "metadata": {},
   "source": [
    "### Salvando os resultados num .csv"
   ]
  },
  {
   "cell_type": "code",
   "execution_count": 16,
   "id": "680960c0",
   "metadata": {},
   "outputs": [],
   "source": [
    "results_logistic = pd.DataFrame(results_logistic, columns=['K', 'Media do MSE', 'Desvio Padrao do MSE'])"
   ]
  },
  {
   "cell_type": "code",
   "execution_count": 17,
   "id": "92ab55e4",
   "metadata": {},
   "outputs": [],
   "source": [
    "results_logistic.to_csv('../../results/esn/esn-logistic.csv', index = False, header=True)"
   ]
  },
  {
   "cell_type": "markdown",
   "id": "bfb34b8d",
   "metadata": {},
   "source": [
    "## 5. Análise para o Sistema de Lorenz"
   ]
  },
  {
   "cell_type": "markdown",
   "id": "4454034d",
   "metadata": {},
   "source": [
    "### Pegando o arquivo com as configurações"
   ]
  },
  {
   "cell_type": "code",
   "execution_count": 13,
   "id": "9934e84b",
   "metadata": {},
   "outputs": [],
   "source": [
    "config = esn_lorenz.esn_lorenz"
   ]
  },
  {
   "cell_type": "code",
   "execution_count": 14,
   "id": "e774f28d",
   "metadata": {},
   "outputs": [],
   "source": [
    "conjunto_k = k_set.K_set[\"K_lorenz\"]"
   ]
  },
  {
   "cell_type": "markdown",
   "id": "e20f03fa",
   "metadata": {},
   "source": [
    "### Executando a avaliação"
   ]
  },
  {
   "cell_type": "code",
   "execution_count": 16,
   "id": "27c65bb2",
   "metadata": {},
   "outputs": [
    {
     "name": "stdout",
     "output_type": "stream",
     "text": [
      "Testando para K = 1...\n",
      "Valor Médio do MSE para esse K: 1.2157649274187778e-05\n",
      "Desvio Padrão do MSE para esse K: 3.7056317938404856e-06\n",
      "\n",
      "Testando para K = 2...\n",
      "Valor Médio do MSE para esse K: 2.3053965777948953e-06\n",
      "Desvio Padrão do MSE para esse K: 4.06541985283036e-06\n",
      "\n",
      "Testando para K = 3...\n",
      "Valor Médio do MSE para esse K: 4.007179521386351e-05\n",
      "Desvio Padrão do MSE para esse K: 4.187073542086362e-05\n",
      "\n",
      "Testando para K = 4...\n",
      "Valor Médio do MSE para esse K: 0.00017077248972737267\n",
      "Desvio Padrão do MSE para esse K: 0.00017986049155838382\n",
      "\n",
      "Testando para K = 5...\n",
      "Valor Médio do MSE para esse K: 0.0006577419989455063\n",
      "Desvio Padrão do MSE para esse K: 0.0005962946336886021\n",
      "\n",
      "Testando para K = 6...\n",
      "Valor Médio do MSE para esse K: 0.004673713705161422\n",
      "Desvio Padrão do MSE para esse K: 0.005858667678717492\n",
      "\n",
      "Testando para K = 7...\n",
      "Valor Médio do MSE para esse K: 0.006797847364181274\n",
      "Desvio Padrão do MSE para esse K: 0.008807893552615768\n",
      "\n",
      "Testando para K = 8...\n",
      "Valor Médio do MSE para esse K: 0.005059087171493807\n",
      "Desvio Padrão do MSE para esse K: 0.00256627814083531\n",
      "\n",
      "Testando para K = 9...\n",
      "Valor Médio do MSE para esse K: 0.026687269107742034\n",
      "Desvio Padrão do MSE para esse K: 0.024104182985749328\n",
      "\n",
      "Testando para K = 10...\n",
      "Valor Médio do MSE para esse K: 0.021171171016337247\n",
      "Desvio Padrão do MSE para esse K: 0.01735437746542136\n",
      "\n"
     ]
    }
   ],
   "source": [
    "results_lorenz = evaluate.evaluate(modelo, dados_lorenz, config, conjunto_k, verbose=1)"
   ]
  },
  {
   "cell_type": "markdown",
   "id": "e93da44c",
   "metadata": {},
   "source": [
    "### Salvando os resultados num .csv"
   ]
  },
  {
   "cell_type": "code",
   "execution_count": 17,
   "id": "65172292",
   "metadata": {},
   "outputs": [],
   "source": [
    "results_lorenz = pd.DataFrame(results_lorenz, columns=['K', 'Media do MSE', 'Desvio Padrao do MSE'])"
   ]
  },
  {
   "cell_type": "code",
   "execution_count": 18,
   "id": "f42c157f",
   "metadata": {},
   "outputs": [],
   "source": [
    "results_lorenz.to_csv('../../results/esn/esn-lorenz.csv', index = False, header=True)"
   ]
  },
  {
   "cell_type": "markdown",
   "id": "ac4da73d",
   "metadata": {},
   "source": [
    "## 6. Análise para as equações de Mackey-Glass"
   ]
  },
  {
   "cell_type": "markdown",
   "id": "10e89ec6",
   "metadata": {},
   "source": [
    "### Pegando o arquivo com as configurações"
   ]
  },
  {
   "cell_type": "code",
   "execution_count": 30,
   "id": "e8664ed7",
   "metadata": {},
   "outputs": [],
   "source": [
    "config = esn_mackeyglass.esn_mackeyglass"
   ]
  },
  {
   "cell_type": "code",
   "execution_count": 31,
   "id": "c5be7c13",
   "metadata": {},
   "outputs": [],
   "source": [
    "conjunto_k = k_set.K_set[\"K_mackeyglass\"]"
   ]
  },
  {
   "cell_type": "markdown",
   "id": "4b108282",
   "metadata": {},
   "source": [
    "### Executando a avaliação"
   ]
  },
  {
   "cell_type": "code",
   "execution_count": 32,
   "id": "7c483b0c",
   "metadata": {},
   "outputs": [
    {
     "name": "stdout",
     "output_type": "stream",
     "text": [
      "Testando para K = 1...\n",
      "Valor Médio do MSE para esse K: 2.2919091477018317e-07\n",
      "Desvio Padrão do MSE para esse K: 1.90482780540648e-08\n",
      "\n",
      "Testando para K = 2...\n",
      "Valor Médio do MSE para esse K: 3.0779616759995927e-07\n",
      "Desvio Padrão do MSE para esse K: 1.8619804906217314e-08\n",
      "\n",
      "Testando para K = 3...\n",
      "Valor Médio do MSE para esse K: 3.791222230672698e-07\n",
      "Desvio Padrão do MSE para esse K: 1.388012334735059e-08\n",
      "\n",
      "Testando para K = 4...\n",
      "Valor Médio do MSE para esse K: 3.9360496842366936e-07\n",
      "Desvio Padrão do MSE para esse K: 3.6610002191785937e-08\n",
      "\n",
      "Testando para K = 5...\n",
      "Valor Médio do MSE para esse K: 4.4812167613338975e-07\n",
      "Desvio Padrão do MSE para esse K: 4.537075788310917e-08\n",
      "\n",
      "Testando para K = 6...\n",
      "Valor Médio do MSE para esse K: 5.169956155649449e-07\n",
      "Desvio Padrão do MSE para esse K: 5.7726628758250354e-08\n",
      "\n",
      "Testando para K = 7...\n",
      "Valor Médio do MSE para esse K: 4.866676792288828e-07\n",
      "Desvio Padrão do MSE para esse K: 3.226540394974781e-08\n",
      "\n"
     ]
    }
   ],
   "source": [
    "results_mackeyglass = evaluate.evaluate(modelo, dados_mackeyglass, config, conjunto_k, verbose=1)"
   ]
  },
  {
   "cell_type": "markdown",
   "id": "d4793cd5",
   "metadata": {},
   "source": [
    "### Salvando os resultados num .csv"
   ]
  },
  {
   "cell_type": "code",
   "execution_count": 33,
   "id": "77fd4e8b",
   "metadata": {},
   "outputs": [],
   "source": [
    "results_mackeyglass = pd.DataFrame(results_mackeyglass, columns=['K', 'Media do MSE', 'Desvio Padrao do MSE'])"
   ]
  },
  {
   "cell_type": "code",
   "execution_count": 34,
   "id": "a0093974",
   "metadata": {},
   "outputs": [],
   "source": [
    "results_mackeyglass.to_csv('../../results/esn/esn-mackeyglass.csv', index = False, header=True)"
   ]
  },
  {
   "cell_type": "markdown",
   "id": "2179d1d6",
   "metadata": {},
   "source": [
    "## Avaliando os três melhores valores para K em cada cenário"
   ]
  },
  {
   "cell_type": "code",
   "execution_count": 15,
   "id": "dfc1b9da",
   "metadata": {},
   "outputs": [],
   "source": [
    "from pibic2020.parameters.esn import esn_best_k"
   ]
  },
  {
   "cell_type": "markdown",
   "id": "41cbe64a",
   "metadata": {},
   "source": [
    "### Análise para o Mapa de Hénon"
   ]
  },
  {
   "cell_type": "markdown",
   "id": "4731fe2d",
   "metadata": {},
   "source": [
    "#### Pegando o arquivo com as configurações"
   ]
  },
  {
   "cell_type": "code",
   "execution_count": 10,
   "id": "7ca64e4a",
   "metadata": {},
   "outputs": [],
   "source": [
    "config = esn_henon.esn_henon"
   ]
  },
  {
   "cell_type": "code",
   "execution_count": 13,
   "id": "9a0db63d",
   "metadata": {},
   "outputs": [],
   "source": [
    "conjunto_k = esn_best_k.K_3best_henon_esn\n",
    "conjunto_k = [k-1 for k in conjunto_k]"
   ]
  },
  {
   "cell_type": "markdown",
   "id": "7e588622",
   "metadata": {},
   "source": [
    "#### Executando a avaliação"
   ]
  },
  {
   "cell_type": "code",
   "execution_count": 15,
   "id": "e28c41ff",
   "metadata": {},
   "outputs": [
    {
     "name": "stdout",
     "output_type": "stream",
     "text": [
      "Testando para K = 1...\n",
      "Valor Médio do MSE para esse K: 3.25113628940918e-09\n",
      "Desvio Padrão do MSE para esse K: 5.356000829192067e-10\n",
      "\n",
      "Testando para K = 2...\n",
      "Valor Médio do MSE para esse K: 1.3114216362364255e-08\n",
      "Desvio Padrão do MSE para esse K: 3.6563173617054953e-09\n",
      "\n",
      "Testando para K = 3...\n",
      "Valor Médio do MSE para esse K: 8.867297500832678e-08\n",
      "Desvio Padrão do MSE para esse K: 2.471943597636975e-08\n",
      "\n"
     ]
    }
   ],
   "source": [
    "results_henon = evaluate.evaluate(modelo, dados_henon, config, conjunto_k, verbose=1)"
   ]
  },
  {
   "cell_type": "markdown",
   "id": "cacf82a4",
   "metadata": {},
   "source": [
    "### Salvando os dados"
   ]
  },
  {
   "cell_type": "code",
   "execution_count": 16,
   "id": "d0141b5b",
   "metadata": {},
   "outputs": [],
   "source": [
    "results_henon_3best = pd.DataFrame(results_henon, columns=['K', 'Media do MSE', 'Desvio Padrao do MSE'])"
   ]
  },
  {
   "cell_type": "code",
   "execution_count": 18,
   "id": "74f23042",
   "metadata": {},
   "outputs": [],
   "source": [
    "results_henon_3best.to_csv('../../results/esn/esn-henon-3best.csv', index = False, header=True)"
   ]
  },
  {
   "cell_type": "markdown",
   "id": "557f7f6e",
   "metadata": {},
   "source": [
    "### Análise para o Mapa logístico"
   ]
  },
  {
   "cell_type": "markdown",
   "id": "9227668f",
   "metadata": {},
   "source": [
    "#### Pegando o arquivo com as configurações"
   ]
  },
  {
   "cell_type": "code",
   "execution_count": 23,
   "id": "d6de2b23",
   "metadata": {},
   "outputs": [],
   "source": [
    "config = esn_logistic.esn_logistic"
   ]
  },
  {
   "cell_type": "code",
   "execution_count": 24,
   "id": "2ce726e3",
   "metadata": {},
   "outputs": [],
   "source": [
    "conjunto_k = esn_best_k.K_3best_logistic_esn\n",
    "conjunto_k = [k-1 for k in conjunto_k]"
   ]
  },
  {
   "cell_type": "markdown",
   "id": "db02ab09",
   "metadata": {},
   "source": [
    "#### Executando a avaliação"
   ]
  },
  {
   "cell_type": "code",
   "execution_count": 26,
   "id": "f1a736e3",
   "metadata": {},
   "outputs": [
    {
     "name": "stdout",
     "output_type": "stream",
     "text": [
      "Testando para K = 2...\n",
      "Valor Médio do MSE para esse K: 9.254467229894489e-09\n",
      "Desvio Padrão do MSE para esse K: 2.3444111622246236e-09\n",
      "\n",
      "Testando para K = 3...\n",
      "Valor Médio do MSE para esse K: 1.571125357521145e-08\n",
      "Desvio Padrão do MSE para esse K: 5.002544850836933e-09\n",
      "\n",
      "Testando para K = 4...\n",
      "Valor Médio do MSE para esse K: 6.064325497084279e-07\n",
      "Desvio Padrão do MSE para esse K: 1.8505658261665746e-07\n",
      "\n"
     ]
    }
   ],
   "source": [
    "results_logistic = evaluate.evaluate(modelo, dados_logistic, config, conjunto_k, verbose=1)"
   ]
  },
  {
   "cell_type": "markdown",
   "id": "c1685dbe",
   "metadata": {},
   "source": [
    "### Salvando os dados"
   ]
  },
  {
   "cell_type": "code",
   "execution_count": 27,
   "id": "e0324fe4",
   "metadata": {},
   "outputs": [],
   "source": [
    "results_logistic_3best = pd.DataFrame(results_logistic, columns=['K', 'Media do MSE', 'Desvio Padrao do MSE'])"
   ]
  },
  {
   "cell_type": "code",
   "execution_count": 29,
   "id": "f82dd53b",
   "metadata": {},
   "outputs": [],
   "source": [
    "results_logistic_3best.to_csv('../../results/esn/esn-logistic-3best.csv', index = False, header=True)"
   ]
  },
  {
   "cell_type": "markdown",
   "id": "e9f2cd88",
   "metadata": {},
   "source": [
    "### Análise para o sistema de Lorenz"
   ]
  },
  {
   "cell_type": "markdown",
   "id": "31150c50",
   "metadata": {},
   "source": [
    "#### Pegando o arquivo com as configurações"
   ]
  },
  {
   "cell_type": "code",
   "execution_count": 16,
   "id": "db2be764",
   "metadata": {},
   "outputs": [],
   "source": [
    "config = esn_lorenz.esn_lorenz"
   ]
  },
  {
   "cell_type": "code",
   "execution_count": 17,
   "id": "1cf03821",
   "metadata": {},
   "outputs": [],
   "source": [
    "conjunto_k = esn_best_k.K_3best_lorenz_esn\n",
    "conjunto_k = [2, 1, 3]\n",
    "conjunto_k = [k-1 for k in conjunto_k]"
   ]
  },
  {
   "cell_type": "markdown",
   "id": "cd6282a7",
   "metadata": {},
   "source": [
    "#### Executando a avaliação"
   ]
  },
  {
   "cell_type": "code",
   "execution_count": 18,
   "id": "1a86c252",
   "metadata": {},
   "outputs": [
    {
     "name": "stdout",
     "output_type": "stream",
     "text": [
      "Testando para K = 2...\n",
      "Valor Médio do MSE para esse K: 1.1792258808541113e-06\n",
      "Desvio Padrão do MSE para esse K: 1.5925246758386755e-06\n",
      "\n",
      "Testando para K = 1...\n",
      "Valor Médio do MSE para esse K: 4.8330589552645174e-05\n",
      "Desvio Padrão do MSE para esse K: 8.415647907785478e-05\n",
      "\n",
      "Testando para K = 3...\n",
      "Valor Médio do MSE para esse K: 5.384148434154472e-05\n",
      "Desvio Padrão do MSE para esse K: 9.854039811331364e-05\n",
      "\n"
     ]
    }
   ],
   "source": [
    "results_lorenz = evaluate.evaluate(modelo, dados_lorenz, config, conjunto_k, verbose=1)"
   ]
  },
  {
   "cell_type": "markdown",
   "id": "bbbbab68",
   "metadata": {},
   "source": [
    "### Salvando os dados"
   ]
  },
  {
   "cell_type": "code",
   "execution_count": 19,
   "id": "4c670412",
   "metadata": {},
   "outputs": [],
   "source": [
    "results_lorenz_3best = pd.DataFrame(results_lorenz, columns=['K', 'Media do MSE', 'Desvio Padrao do MSE'])"
   ]
  },
  {
   "cell_type": "code",
   "execution_count": 20,
   "id": "19d3b775",
   "metadata": {},
   "outputs": [],
   "source": [
    "results_lorenz_3best.to_csv('../../results/esn/esn-lorenz-3best.csv', index = False, header=True)"
   ]
  },
  {
   "cell_type": "markdown",
   "id": "4b2af310",
   "metadata": {},
   "source": [
    "### Análise para as equações de Mackey-Glass"
   ]
  },
  {
   "cell_type": "markdown",
   "id": "ed979bce",
   "metadata": {},
   "source": [
    "#### Pegando o arquivo com as configurações"
   ]
  },
  {
   "cell_type": "code",
   "execution_count": 60,
   "id": "de26f570",
   "metadata": {},
   "outputs": [],
   "source": [
    "config = esn_mackeyglass.esn_mackeyglass"
   ]
  },
  {
   "cell_type": "code",
   "execution_count": 61,
   "id": "ad865e7e",
   "metadata": {},
   "outputs": [],
   "source": [
    "conjunto_k = esn_best_k.K_3best_mackeyglass_esn\n",
    "conjunto_k = [k-1 for k in conjunto_k]"
   ]
  },
  {
   "cell_type": "markdown",
   "id": "c7baa78b",
   "metadata": {},
   "source": [
    "#### Executando a avaliação"
   ]
  },
  {
   "cell_type": "code",
   "execution_count": 62,
   "id": "2cce84e8",
   "metadata": {},
   "outputs": [
    {
     "name": "stdout",
     "output_type": "stream",
     "text": [
      "Testando para K = 1...\n",
      "Valor Médio do MSE para esse K: 4.811609258093879e-07\n",
      "Desvio Padrão do MSE para esse K: 3.775548031741213e-08\n",
      "\n",
      "Testando para K = 2...\n",
      "Valor Médio do MSE para esse K: 6.493214201148621e-07\n",
      "Desvio Padrão do MSE para esse K: 5.718674214845112e-08\n",
      "\n",
      "Testando para K = 3...\n",
      "Valor Médio do MSE para esse K: 7.789338594150906e-07\n",
      "Desvio Padrão do MSE para esse K: 2.2068503211107892e-08\n",
      "\n"
     ]
    }
   ],
   "source": [
    "results_mackeyglass = evaluate.evaluate(modelo, dados_mackeyglass, config, conjunto_k, verbose=1)"
   ]
  },
  {
   "cell_type": "markdown",
   "id": "944e1dc9",
   "metadata": {},
   "source": [
    "### Salvando os dados"
   ]
  },
  {
   "cell_type": "code",
   "execution_count": 63,
   "id": "0f73def3",
   "metadata": {},
   "outputs": [],
   "source": [
    "results_mackeyglass_3best = pd.DataFrame(results_mackeyglass, columns=['K', 'Media do MSE', 'Desvio Padrao do MSE'])"
   ]
  },
  {
   "cell_type": "code",
   "execution_count": 64,
   "id": "fbdb70a5",
   "metadata": {},
   "outputs": [],
   "source": [
    "results_mackeyglass_3best.to_csv('../../results/esn/esn-mackeyglass-3best.csv', index = False, header=True)"
   ]
  },
  {
   "cell_type": "markdown",
   "id": "de178da2",
   "metadata": {},
   "source": [
    "## Avaliando o melhor valor para K em cada cenário"
   ]
  },
  {
   "cell_type": "markdown",
   "id": "af42cac0",
   "metadata": {},
   "source": [
    "### Análise para o Mapa de Hénon"
   ]
  },
  {
   "cell_type": "markdown",
   "id": "8f630ce7",
   "metadata": {},
   "source": [
    "#### Pegando o arquivo com as configurações"
   ]
  },
  {
   "cell_type": "code",
   "execution_count": 13,
   "id": "c1b825bd",
   "metadata": {},
   "outputs": [],
   "source": [
    "config = esn_henon.esn_henon"
   ]
  },
  {
   "cell_type": "code",
   "execution_count": 16,
   "id": "309cdb59",
   "metadata": {},
   "outputs": [],
   "source": [
    "conjunto_k = esn_best_k.K_best_henon_esn\n",
    "conjunto_k = [k-1 for k in conjunto_k]"
   ]
  },
  {
   "cell_type": "markdown",
   "id": "19061a96",
   "metadata": {},
   "source": [
    "#### Executando a avaliação"
   ]
  },
  {
   "cell_type": "code",
   "execution_count": 17,
   "id": "e4c2513a",
   "metadata": {},
   "outputs": [
    {
     "name": "stdout",
     "output_type": "stream",
     "text": [
      "Testando para K = 1...\n",
      "Valor Médio do MSE para esse K: 3.231812180194044e-09\n",
      "Desvio Padrão do MSE para esse K: 5.491619970336171e-10\n",
      "\n"
     ]
    }
   ],
   "source": [
    "results_henon = evaluate.evaluate(modelo, dados_henon, config, conjunto_k, verbose=1)"
   ]
  },
  {
   "cell_type": "markdown",
   "id": "94cd18c9",
   "metadata": {},
   "source": [
    "### Salvando os dados"
   ]
  },
  {
   "cell_type": "code",
   "execution_count": 18,
   "id": "d9db6d13",
   "metadata": {},
   "outputs": [],
   "source": [
    "results_henon_best = pd.DataFrame(results_henon, columns=['K', 'Media do MSE', 'Desvio Padrao do MSE'])"
   ]
  },
  {
   "cell_type": "code",
   "execution_count": 19,
   "id": "2e9c319d",
   "metadata": {},
   "outputs": [],
   "source": [
    "results_henon_best.to_csv('../../results/esn/esn-henon-best.csv', index = False, header=True)"
   ]
  },
  {
   "cell_type": "markdown",
   "id": "67aeb297",
   "metadata": {},
   "source": [
    "### Análise para o Mapa logístico"
   ]
  },
  {
   "cell_type": "markdown",
   "id": "c0f211ba",
   "metadata": {},
   "source": [
    "#### Pegando o arquivo com as configurações"
   ]
  },
  {
   "cell_type": "code",
   "execution_count": 20,
   "id": "15893cee",
   "metadata": {},
   "outputs": [],
   "source": [
    "config = esn_logistic.esn_logistic"
   ]
  },
  {
   "cell_type": "code",
   "execution_count": 21,
   "id": "990e5c9e",
   "metadata": {},
   "outputs": [],
   "source": [
    "conjunto_k = esn_best_k.K_best_logistic_esn\n",
    "conjunto_k = [k-1 for k in conjunto_k]"
   ]
  },
  {
   "cell_type": "markdown",
   "id": "63153bcd",
   "metadata": {},
   "source": [
    "#### Executando a avaliação"
   ]
  },
  {
   "cell_type": "code",
   "execution_count": 22,
   "id": "43e14320",
   "metadata": {},
   "outputs": [
    {
     "name": "stdout",
     "output_type": "stream",
     "text": [
      "Testando para K = 2...\n",
      "Valor Médio do MSE para esse K: 1.545670386580232e-08\n",
      "Desvio Padrão do MSE para esse K: 1.6506005615336465e-08\n",
      "\n"
     ]
    }
   ],
   "source": [
    "results_logistic = evaluate.evaluate(modelo, dados_logistic, config, conjunto_k, verbose=1)"
   ]
  },
  {
   "cell_type": "markdown",
   "id": "13715e53",
   "metadata": {},
   "source": [
    "### Salvando os dados"
   ]
  },
  {
   "cell_type": "code",
   "execution_count": 23,
   "id": "6bf5e371",
   "metadata": {},
   "outputs": [],
   "source": [
    "results_logistic_best = pd.DataFrame(results_logistic, columns=['K', 'Media do MSE', 'Desvio Padrao do MSE'])"
   ]
  },
  {
   "cell_type": "code",
   "execution_count": 24,
   "id": "e911a4af",
   "metadata": {},
   "outputs": [],
   "source": [
    "results_logistic_best.to_csv('../../results/esn/esn-logistic-best.csv', index = False, header=True)"
   ]
  },
  {
   "cell_type": "markdown",
   "id": "acd3bf1b",
   "metadata": {},
   "source": [
    "### Análise para o sistema de Lorenz"
   ]
  },
  {
   "cell_type": "markdown",
   "id": "37774eff",
   "metadata": {},
   "source": [
    "#### Pegando o arquivo com as configurações"
   ]
  },
  {
   "cell_type": "code",
   "execution_count": 25,
   "id": "24bbf2ed",
   "metadata": {},
   "outputs": [],
   "source": [
    "config = esn_lorenz.esn_lorenz"
   ]
  },
  {
   "cell_type": "code",
   "execution_count": 26,
   "id": "54700776",
   "metadata": {},
   "outputs": [],
   "source": [
    "conjunto_k = esn_best_k.K_best_lorenz_esn\n",
    "conjunto_k = [k-1 for k in conjunto_k]"
   ]
  },
  {
   "cell_type": "markdown",
   "id": "48c8b97e",
   "metadata": {},
   "source": [
    "#### Executando a avaliação"
   ]
  },
  {
   "cell_type": "code",
   "execution_count": 27,
   "id": "ff62b93e",
   "metadata": {},
   "outputs": [
    {
     "name": "stdout",
     "output_type": "stream",
     "text": [
      "Testando para K = 2...\n",
      "Valor Médio do MSE para esse K: 1.5229867032157916e-06\n",
      "Desvio Padrão do MSE para esse K: 1.2397498108297188e-06\n",
      "\n"
     ]
    }
   ],
   "source": [
    "results_lorenz = evaluate.evaluate(modelo, dados_lorenz, config, conjunto_k, verbose=1)"
   ]
  },
  {
   "cell_type": "markdown",
   "id": "2b41a22c",
   "metadata": {},
   "source": [
    "### Salvando os dados"
   ]
  },
  {
   "cell_type": "code",
   "execution_count": 28,
   "id": "4129f86f",
   "metadata": {},
   "outputs": [],
   "source": [
    "results_lorenz_best = pd.DataFrame(results_lorenz, columns=['K', 'Media do MSE', 'Desvio Padrao do MSE'])"
   ]
  },
  {
   "cell_type": "code",
   "execution_count": 29,
   "id": "3ac0ce1b",
   "metadata": {},
   "outputs": [],
   "source": [
    "results_lorenz_best.to_csv('../../results/esn/esn-lorenz-best.csv', index = False, header=True)"
   ]
  },
  {
   "cell_type": "markdown",
   "id": "fc76bfc3",
   "metadata": {},
   "source": [
    "### Análise para as equações de Mackey-Glass"
   ]
  },
  {
   "cell_type": "markdown",
   "id": "76f13e5d",
   "metadata": {},
   "source": [
    "#### Pegando o arquivo com as configurações"
   ]
  },
  {
   "cell_type": "code",
   "execution_count": 30,
   "id": "3cf22180",
   "metadata": {},
   "outputs": [],
   "source": [
    "config = esn_mackeyglass.esn_mackeyglass"
   ]
  },
  {
   "cell_type": "code",
   "execution_count": 31,
   "id": "fbef5f52",
   "metadata": {},
   "outputs": [],
   "source": [
    "conjunto_k = esn_best_k.K_best_mackeyglass_esn\n",
    "conjunto_k = [k-1 for k in conjunto_k]"
   ]
  },
  {
   "cell_type": "markdown",
   "id": "a537bd93",
   "metadata": {},
   "source": [
    "#### Executando a avaliação"
   ]
  },
  {
   "cell_type": "code",
   "execution_count": 32,
   "id": "4d49cb7c",
   "metadata": {},
   "outputs": [
    {
     "name": "stdout",
     "output_type": "stream",
     "text": [
      "Testando para K = 1...\n",
      "Valor Médio do MSE para esse K: 4.379535790953248e-07\n",
      "Desvio Padrão do MSE para esse K: 6.435710057322698e-08\n",
      "\n"
     ]
    }
   ],
   "source": [
    "results_mackeyglass = evaluate.evaluate(modelo, dados_mackeyglass, config, conjunto_k, verbose=1)"
   ]
  },
  {
   "cell_type": "markdown",
   "id": "3ff71f37",
   "metadata": {},
   "source": [
    "### Salvando os dados"
   ]
  },
  {
   "cell_type": "code",
   "execution_count": 33,
   "id": "e823adbc",
   "metadata": {},
   "outputs": [],
   "source": [
    "results_mackeyglass_best = pd.DataFrame(results_mackeyglass, columns=['K', 'Media do MSE', 'Desvio Padrao do MSE'])"
   ]
  },
  {
   "cell_type": "code",
   "execution_count": 34,
   "id": "919af7e0",
   "metadata": {},
   "outputs": [],
   "source": [
    "results_mackeyglass_best.to_csv('../../results/esn/esn-mackeyglass-best.csv', index = False, header=True)"
   ]
  }
 ],
 "metadata": {
  "interpreter": {
   "hash": "1c73b65f1466549bfc741a37b577edb55fb777ecaa1f1b9885584a42de505515"
  },
  "kernelspec": {
   "display_name": "Python 3",
   "language": "python",
   "name": "python3"
  },
  "language_info": {
   "codemirror_mode": {
    "name": "ipython",
    "version": 3
   },
   "file_extension": ".py",
   "mimetype": "text/x-python",
   "name": "python",
   "nbconvert_exporter": "python",
   "pygments_lexer": "ipython3",
   "version": "3.8.0"
  }
 },
 "nbformat": 4,
 "nbformat_minor": 5
}
