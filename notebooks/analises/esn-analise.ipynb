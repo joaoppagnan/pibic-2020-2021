{
 "cells": [
  {
   "cell_type": "markdown",
   "metadata": {},
   "source": [
    "# Analisando os resultados da ESN nos cenários de sistemas caóticos testados"
   ]
  },
  {
   "cell_type": "markdown",
   "metadata": {},
   "source": [
    "## 1. Importando as bibliotecas necessárias"
   ]
  },
  {
   "cell_type": "markdown",
   "metadata": {},
   "source": [
    "### Bibliotecas Externas"
   ]
  },
  {
   "cell_type": "code",
   "execution_count": 1,
   "metadata": {},
   "outputs": [],
   "source": [
    "import numpy as np\n",
    "import pandas as pd"
   ]
  },
  {
   "cell_type": "markdown",
   "metadata": {},
   "source": [
    "### Bibliotecas do projeto"
   ]
  },
  {
   "cell_type": "code",
   "execution_count": 2,
   "metadata": {},
   "outputs": [],
   "source": [
    "# arquivos de configurações\n",
    "from pibic2020.parameters.esn import *\n",
    "from pibic2020.parameters import k_set\n",
    "\n",
    "# sistemas caoticos\n",
    "from pibic2020.data import henon\n",
    "from pibic2020.data import logistic\n",
    "from pibic2020.data import lorenz\n",
    "from pibic2020.data import mackeyglass\n",
    "\n",
    "# avaliação do modelo\n",
    "from pibic2020.tools import evaluate"
   ]
  },
  {
   "cell_type": "markdown",
   "metadata": {},
   "source": [
    "## 2. Modelo a ser testado"
   ]
  },
  {
   "cell_type": "code",
   "execution_count": 3,
   "metadata": {},
   "outputs": [],
   "source": [
    "modelo = 'ESN'"
   ]
  },
  {
   "cell_type": "markdown",
   "metadata": {},
   "source": [
    "## 3. Análise para o Mapa de Hénon"
   ]
  },
  {
   "cell_type": "markdown",
   "metadata": {},
   "source": [
    "### Gerando os dados"
   ]
  },
  {
   "cell_type": "code",
   "execution_count": 4,
   "metadata": {},
   "outputs": [],
   "source": [
    "mapa_henon = henon.MapaHenon()"
   ]
  },
  {
   "cell_type": "code",
   "execution_count": 5,
   "metadata": {},
   "outputs": [],
   "source": [
    "n_iteracoes = 5000\n",
    "vetor_estados = mapa_henon.simular(n_iteracoes)\n",
    "dados = vetor_estados[:, 0]"
   ]
  },
  {
   "cell_type": "markdown",
   "metadata": {},
   "source": [
    "### Pegando o arquivo com as configurações"
   ]
  },
  {
   "cell_type": "code",
   "execution_count": 6,
   "metadata": {},
   "outputs": [],
   "source": [
    "config = esn_henon.esn_henon"
   ]
  },
  {
   "cell_type": "code",
   "execution_count": 7,
   "metadata": {},
   "outputs": [],
   "source": [
    "conjunto_k = k_set.K_set[\"K_henon\"]"
   ]
  },
  {
   "cell_type": "markdown",
   "metadata": {},
   "source": [
    "### Executando a avaliação"
   ]
  },
  {
   "cell_type": "code",
   "execution_count": 8,
   "metadata": {},
   "outputs": [
    {
     "name": "stdout",
     "output_type": "stream",
     "text": [
      "Testando para K = 1...\n",
      "Valor Médio do MSE para esse K: 4.6573199133416095e-09\n",
      "Desvio Padrão do MSE para esse K: 3.053546456916655e-09\n",
      "\n",
      "Testando para K = 2...\n",
      "Valor Médio do MSE para esse K: 9.764429204062622e-09\n",
      "Desvio Padrão do MSE para esse K: 3.727173271545677e-09\n",
      "\n",
      "Testando para K = 3...\n",
      "Valor Médio do MSE para esse K: 8.698848125049615e-08\n",
      "Desvio Padrão do MSE para esse K: 2.6453854276555006e-08\n",
      "\n",
      "Testando para K = 4...\n",
      "Valor Médio do MSE para esse K: 1.5948813640537857e-06\n",
      "Desvio Padrão do MSE para esse K: 4.2543964728389836e-07\n",
      "\n",
      "Testando para K = 5...\n",
      "Valor Médio do MSE para esse K: 3.3550732910614504e-05\n",
      "Desvio Padrão do MSE para esse K: 5.188431497677371e-06\n",
      "\n",
      "Testando para K = 6...\n",
      "Valor Médio do MSE para esse K: 0.0005112522960442041\n",
      "Desvio Padrão do MSE para esse K: 0.00016173650661109563\n",
      "\n",
      "Testando para K = 7...\n",
      "Valor Médio do MSE para esse K: 0.0057305144715708075\n",
      "Desvio Padrão do MSE para esse K: 0.0008824558928296214\n",
      "\n",
      "Testando para K = 8...\n",
      "Valor Médio do MSE para esse K: 0.049783788578901304\n",
      "Desvio Padrão do MSE para esse K: 0.006196710901333501\n",
      "\n",
      "Testando para K = 9...\n",
      "Valor Médio do MSE para esse K: 0.11409410945804944\n",
      "Desvio Padrão do MSE para esse K: 0.006802913745408907\n",
      "\n"
     ]
    }
   ],
   "source": [
    "results_henon = evaluate.evaluate(modelo, dados, config, conjunto_k, verbose=1)"
   ]
  },
  {
   "cell_type": "markdown",
   "metadata": {},
   "source": [
    "### Salvando os resultados num .csv"
   ]
  },
  {
   "cell_type": "code",
   "execution_count": 9,
   "metadata": {},
   "outputs": [],
   "source": [
    "results_henon = pd.DataFrame(results_henon, columns=['K', 'Media do MSE', 'Desvio Padrao do MSE'])"
   ]
  },
  {
   "cell_type": "code",
   "execution_count": 10,
   "metadata": {},
   "outputs": [],
   "source": [
    "results_henon.to_csv('../../results/esn/esn-henon.csv', index = False, header=True)"
   ]
  },
  {
   "cell_type": "markdown",
   "metadata": {},
   "source": [
    "## 4. Análise para o Mapa Logístico"
   ]
  },
  {
   "cell_type": "markdown",
   "metadata": {},
   "source": [
    "### Gerando os dados"
   ]
  },
  {
   "cell_type": "code",
   "execution_count": 11,
   "metadata": {},
   "outputs": [],
   "source": [
    "mapa_logistico = logistic.MapaLogistico()"
   ]
  },
  {
   "cell_type": "code",
   "execution_count": 12,
   "metadata": {},
   "outputs": [],
   "source": [
    "n_iteracoes = 5000\n",
    "vetor_estados = mapa_logistico.simular(n_iteracoes)\n",
    "dados = vetor_estados[:, 0]"
   ]
  },
  {
   "cell_type": "markdown",
   "metadata": {},
   "source": [
    "### Pegando o arquivo com as configurações"
   ]
  },
  {
   "cell_type": "code",
   "execution_count": 13,
   "metadata": {},
   "outputs": [],
   "source": [
    "config = esn_logistic.esn_logistic"
   ]
  },
  {
   "cell_type": "code",
   "execution_count": 14,
   "metadata": {},
   "outputs": [],
   "source": [
    "conjunto_k = k_set.K_set[\"K_logistic\"]"
   ]
  },
  {
   "cell_type": "markdown",
   "metadata": {},
   "source": [
    "### Executando a avaliação"
   ]
  },
  {
   "cell_type": "code",
   "execution_count": 15,
   "metadata": {},
   "outputs": [
    {
     "name": "stdout",
     "output_type": "stream",
     "text": [
      "Testando para K = 1...\n",
      "Valor Médio do MSE para esse K: 1.0817286662580437e-06\n",
      "Desvio Padrão do MSE para esse K: 1.1645620350611952e-06\n",
      "\n",
      "Testando para K = 2...\n",
      "Valor Médio do MSE para esse K: 1.3160549330246079e-08\n",
      "Desvio Padrão do MSE para esse K: 2.068105550356741e-08\n",
      "\n",
      "Testando para K = 3...\n",
      "Valor Médio do MSE para esse K: 1.3810887970816953e-08\n",
      "Desvio Padrão do MSE para esse K: 4.355280842374323e-09\n",
      "\n",
      "Testando para K = 4...\n",
      "Valor Médio do MSE para esse K: 5.313654072517558e-07\n",
      "Desvio Padrão do MSE para esse K: 1.738462414392475e-07\n",
      "\n",
      "Testando para K = 5...\n",
      "Valor Médio do MSE para esse K: 1.4022251782712264e-05\n",
      "Desvio Padrão do MSE para esse K: 2.9846404388720913e-06\n",
      "\n",
      "Testando para K = 6...\n",
      "Valor Médio do MSE para esse K: 0.0005551584064542129\n",
      "Desvio Padrão do MSE para esse K: 9.516400258936215e-05\n",
      "\n",
      "Testando para K = 7...\n",
      "Valor Médio do MSE para esse K: 0.003821356527934972\n",
      "Desvio Padrão do MSE para esse K: 0.0006884384104916262\n",
      "\n",
      "Testando para K = 8...\n",
      "Valor Médio do MSE para esse K: 0.009946706652648313\n",
      "Desvio Padrão do MSE para esse K: 0.0005530370588944182\n",
      "\n"
     ]
    }
   ],
   "source": [
    "results_logistic = evaluate.evaluate(modelo, dados, config, conjunto_k, verbose=1)"
   ]
  },
  {
   "cell_type": "markdown",
   "metadata": {},
   "source": [
    "### Salvando os resultados num .csv"
   ]
  },
  {
   "cell_type": "code",
   "execution_count": 16,
   "metadata": {},
   "outputs": [],
   "source": [
    "results_logistic = pd.DataFrame(results_logistic, columns=['K', 'Media do MSE', 'Desvio Padrao do MSE'])"
   ]
  },
  {
   "cell_type": "code",
   "execution_count": 17,
   "metadata": {},
   "outputs": [],
   "source": [
    "results_logistic.to_csv('../../results/esn/esn-logistic.csv', index = False, header=True)"
   ]
  },
  {
   "cell_type": "markdown",
   "metadata": {},
   "source": [
    "## 5. Análise para o Sistema de Lorenz"
   ]
  },
  {
   "cell_type": "markdown",
   "metadata": {},
   "source": [
    "### Gerando os dados"
   ]
  },
  {
   "cell_type": "code",
   "execution_count": 18,
   "metadata": {},
   "outputs": [],
   "source": [
    "sistema_lorenz = lorenz.SistemaLorenz(estado_inicial=np.array([0.1, 0, 0]), dt=0.01)"
   ]
  },
  {
   "cell_type": "code",
   "execution_count": 19,
   "metadata": {},
   "outputs": [],
   "source": [
    "t_inicial = 0\n",
    "t_final = 50\n",
    "vetor_estados, instantes_temporais = sistema_lorenz.calcular(t_inicial=t_inicial, t_final=t_final)\n",
    "dados = vetor_estados[:, 0]"
   ]
  },
  {
   "cell_type": "markdown",
   "metadata": {},
   "source": [
    "### Pegando o arquivo com as configurações"
   ]
  },
  {
   "cell_type": "code",
   "execution_count": 20,
   "metadata": {},
   "outputs": [],
   "source": [
    "config = esn_lorenz.esn_lorenz"
   ]
  },
  {
   "cell_type": "code",
   "execution_count": 21,
   "metadata": {},
   "outputs": [],
   "source": [
    "conjunto_k = k_set.K_set[\"K_lorenz\"]"
   ]
  },
  {
   "cell_type": "markdown",
   "metadata": {},
   "source": [
    "### Executando a avaliação"
   ]
  },
  {
   "cell_type": "code",
   "execution_count": 22,
   "metadata": {},
   "outputs": [],
   "source": [
    "from sklearn.preprocessing import MinMaxScaler"
   ]
  },
  {
   "cell_type": "code",
   "execution_count": 23,
   "metadata": {},
   "outputs": [],
   "source": [
    "scaler = MinMaxScaler(feature_range=(-1,1))"
   ]
  },
  {
   "cell_type": "code",
   "execution_count": 24,
   "metadata": {},
   "outputs": [
    {
     "name": "stdout",
     "output_type": "stream",
     "text": [
      "Testando para K = 1...\n",
      "Valor Médio do MSE para esse K: 2.6644651545919586e-08\n",
      "Desvio Padrão do MSE para esse K: 2.6321261070104012e-08\n",
      "\n",
      "Testando para K = 2...\n",
      "Valor Médio do MSE para esse K: 4.3411824379618456e-12\n",
      "Desvio Padrão do MSE para esse K: 4.3779096044179244e-12\n",
      "\n",
      "Testando para K = 3...\n",
      "Valor Médio do MSE para esse K: 6.436175655755217e-14\n",
      "Desvio Padrão do MSE para esse K: 2.1746438754617718e-14\n",
      "\n",
      "Testando para K = 4...\n",
      "Valor Médio do MSE para esse K: 5.168426841228723e-14\n",
      "Desvio Padrão do MSE para esse K: 1.6029706706162456e-14\n",
      "\n",
      "Testando para K = 5...\n",
      "Valor Médio do MSE para esse K: 3.201159663642379e-14\n",
      "Desvio Padrão do MSE para esse K: 7.51059800531576e-15\n",
      "\n",
      "Testando para K = 6...\n",
      "Valor Médio do MSE para esse K: 6.36430711653863e-14\n",
      "Desvio Padrão do MSE para esse K: 3.218875786624394e-14\n",
      "\n",
      "Testando para K = 7...\n",
      "Valor Médio do MSE para esse K: 1.1681839813962452e-13\n",
      "Desvio Padrão do MSE para esse K: 5.59247436940103e-14\n",
      "\n",
      "Testando para K = 8...\n",
      "Valor Médio do MSE para esse K: 2.9496557514057903e-13\n",
      "Desvio Padrão do MSE para esse K: 1.2195184090901866e-13\n",
      "\n",
      "Testando para K = 9...\n",
      "Valor Médio do MSE para esse K: 4.4236818083023333e-13\n",
      "Desvio Padrão do MSE para esse K: 1.9884881004411457e-13\n",
      "\n",
      "Testando para K = 10...\n",
      "Valor Médio do MSE para esse K: 1.4294731968961033e-12\n",
      "Desvio Padrão do MSE para esse K: 9.744851285642114e-13\n",
      "\n"
     ]
    }
   ],
   "source": [
    "results_lorenz = evaluate.evaluate(modelo, dados, config, conjunto_k, verbose=1, scaler=scaler)"
   ]
  },
  {
   "cell_type": "markdown",
   "metadata": {},
   "source": [
    "### Salvando os resultados num .csv"
   ]
  },
  {
   "cell_type": "code",
   "execution_count": 25,
   "metadata": {},
   "outputs": [],
   "source": [
    "results_lorenz = pd.DataFrame(results_lorenz, columns=['K', 'Media do MSE', 'Desvio Padrao do MSE'])"
   ]
  },
  {
   "cell_type": "code",
   "execution_count": 26,
   "metadata": {},
   "outputs": [],
   "source": [
    "results_lorenz.to_csv('../../results/esn/esn-lorenz.csv', index = False, header=True)"
   ]
  },
  {
   "cell_type": "markdown",
   "metadata": {},
   "source": [
    "## 6. Análise para as equações de Mackey-Glass"
   ]
  },
  {
   "cell_type": "markdown",
   "metadata": {},
   "source": [
    "### Gerando os dados"
   ]
  },
  {
   "cell_type": "code",
   "execution_count": 27,
   "metadata": {},
   "outputs": [],
   "source": [
    "t_inicial = 0\n",
    "t_final = 5000\n",
    "tau = 22\n",
    "n = 10\n",
    "gamma = 0.1\n",
    "beta = 0.2\n",
    "theta = 1"
   ]
  },
  {
   "cell_type": "code",
   "execution_count": 28,
   "metadata": {},
   "outputs": [],
   "source": [
    "mackeyglass_eq = mackeyglass.MackeyGlass(tau=tau, gamma=gamma, beta=beta, n=n, theta=theta)"
   ]
  },
  {
   "cell_type": "code",
   "execution_count": 29,
   "metadata": {},
   "outputs": [],
   "source": [
    "dados, instantes_temporais = mackeyglass_eq.calcular(t_inicial=t_inicial, t_final=t_final)"
   ]
  },
  {
   "cell_type": "markdown",
   "metadata": {},
   "source": [
    "### Pegando o arquivo com as configurações"
   ]
  },
  {
   "cell_type": "code",
   "execution_count": 30,
   "metadata": {},
   "outputs": [],
   "source": [
    "config = esn_mackeyglass.esn_mackeyglass"
   ]
  },
  {
   "cell_type": "code",
   "execution_count": 31,
   "metadata": {},
   "outputs": [],
   "source": [
    "conjunto_k = k_set.K_set[\"K_mackeyglass\"]"
   ]
  },
  {
   "cell_type": "markdown",
   "metadata": {},
   "source": [
    "### Executando a avaliação"
   ]
  },
  {
   "cell_type": "code",
   "execution_count": 32,
   "metadata": {},
   "outputs": [
    {
     "name": "stdout",
     "output_type": "stream",
     "text": [
      "Testando para K = 1...\n",
      "Valor Médio do MSE para esse K: 2.2919091477018317e-07\n",
      "Desvio Padrão do MSE para esse K: 1.90482780540648e-08\n",
      "\n",
      "Testando para K = 2...\n",
      "Valor Médio do MSE para esse K: 3.0779616759995927e-07\n",
      "Desvio Padrão do MSE para esse K: 1.8619804906217314e-08\n",
      "\n",
      "Testando para K = 3...\n",
      "Valor Médio do MSE para esse K: 3.791222230672698e-07\n",
      "Desvio Padrão do MSE para esse K: 1.388012334735059e-08\n",
      "\n",
      "Testando para K = 4...\n",
      "Valor Médio do MSE para esse K: 3.9360496842366936e-07\n",
      "Desvio Padrão do MSE para esse K: 3.6610002191785937e-08\n",
      "\n",
      "Testando para K = 5...\n",
      "Valor Médio do MSE para esse K: 4.4812167613338975e-07\n",
      "Desvio Padrão do MSE para esse K: 4.537075788310917e-08\n",
      "\n",
      "Testando para K = 6...\n",
      "Valor Médio do MSE para esse K: 5.169956155649449e-07\n",
      "Desvio Padrão do MSE para esse K: 5.7726628758250354e-08\n",
      "\n",
      "Testando para K = 7...\n",
      "Valor Médio do MSE para esse K: 4.866676792288828e-07\n",
      "Desvio Padrão do MSE para esse K: 3.226540394974781e-08\n",
      "\n"
     ]
    }
   ],
   "source": [
    "results_mackeyglass = evaluate.evaluate(modelo, dados, config, conjunto_k, verbose=1)"
   ]
  },
  {
   "cell_type": "markdown",
   "metadata": {},
   "source": [
    "### Salvando os resultados num .csv"
   ]
  },
  {
   "cell_type": "code",
   "execution_count": 33,
   "metadata": {},
   "outputs": [],
   "source": [
    "results_mackeyglass = pd.DataFrame(results_mackeyglass, columns=['K', 'Media do MSE', 'Desvio Padrao do MSE'])"
   ]
  },
  {
   "cell_type": "code",
   "execution_count": 34,
   "metadata": {},
   "outputs": [],
   "source": [
    "results_mackeyglass.to_csv('../../results/esn/esn-mackeyglass.csv', index = False, header=True)"
   ]
  },
  {
   "cell_type": "code",
   "execution_count": null,
   "metadata": {},
   "outputs": [],
   "source": []
  }
 ],
 "metadata": {
  "interpreter": {
   "hash": "1c73b65f1466549bfc741a37b577edb55fb777ecaa1f1b9885584a42de505515"
  },
  "kernelspec": {
   "display_name": "Python 3.8.10 64-bit ('pibic2020-env': venv)",
   "name": "python3"
  },
  "language_info": {
   "codemirror_mode": {
    "name": "ipython",
    "version": 3
   },
   "file_extension": ".py",
   "mimetype": "text/x-python",
   "name": "python",
   "nbconvert_exporter": "python",
   "pygments_lexer": "ipython3",
   "version": "3.8.10"
  }
 },
 "nbformat": 4,
 "nbformat_minor": 5
}