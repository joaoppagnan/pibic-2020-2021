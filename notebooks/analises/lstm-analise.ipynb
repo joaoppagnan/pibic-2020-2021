{
 "cells": [
  {
   "cell_type": "markdown",
   "id": "589b3750",
   "metadata": {},
   "source": [
    "# Analisando os resultados da LSTM nos cenários de sistemas caóticos testados"
   ]
  },
  {
   "cell_type": "markdown",
   "id": "59c42eb1",
   "metadata": {},
   "source": [
    "## 1. Importando as bibliotecas necessárias"
   ]
  },
  {
   "cell_type": "markdown",
   "id": "44c87ccb",
   "metadata": {},
   "source": [
    "### Bibliotecas Externas"
   ]
  },
  {
   "cell_type": "code",
   "execution_count": 1,
   "id": "295aea0c",
   "metadata": {},
   "outputs": [],
   "source": [
    "import numpy as np\n",
    "import pandas as pd\n",
    "\n",
    "import tensorflow as tf\n",
    "physical_devices = tf.config.list_physical_devices('GPU')"
   ]
  },
  {
   "cell_type": "markdown",
   "id": "a1702f1e",
   "metadata": {},
   "source": [
    "### Bibliotecas do projeto"
   ]
  },
  {
   "cell_type": "code",
   "execution_count": 2,
   "id": "8fd0d7ec",
   "metadata": {},
   "outputs": [],
   "source": [
    "# arquivos de configurações\n",
    "from pibic2020.parameters.lstm import *\n",
    "from pibic2020.parameters import k_set\n",
    "\n",
    "# sistemas caoticos\n",
    "from pibic2020.data import henon\n",
    "from pibic2020.data import logistic\n",
    "from pibic2020.data import lorenz\n",
    "from pibic2020.data import mackeyglass\n",
    "\n",
    "# avaliação do modelo\n",
    "from pibic2020.tools import evaluate"
   ]
  },
  {
   "cell_type": "markdown",
   "id": "0cf3b8be",
   "metadata": {},
   "source": [
    "## 2. Modelo a ser testado"
   ]
  },
  {
   "cell_type": "code",
   "execution_count": 3,
   "id": "4f3c1bce",
   "metadata": {},
   "outputs": [],
   "source": [
    "modelo = 'LSTM'"
   ]
  },
  {
   "cell_type": "markdown",
   "id": "6c1ffc72",
   "metadata": {},
   "source": [
    "## Gerando os dados"
   ]
  },
  {
   "cell_type": "markdown",
   "id": "f18a9988",
   "metadata": {},
   "source": [
    "### Mapa de Hénon"
   ]
  },
  {
   "cell_type": "code",
   "execution_count": 4,
   "id": "0f8e64d3",
   "metadata": {},
   "outputs": [],
   "source": [
    "mapa_henon = henon.MapaHenon()"
   ]
  },
  {
   "cell_type": "code",
   "execution_count": 5,
   "id": "4145c33f",
   "metadata": {},
   "outputs": [],
   "source": [
    "n_iteracoes = 5000\n",
    "vetor_estados = mapa_henon.simular(n_iteracoes)\n",
    "dados_henon = vetor_estados[:, 0]"
   ]
  },
  {
   "cell_type": "markdown",
   "id": "4c01184a",
   "metadata": {},
   "source": [
    "### Mapa logístico"
   ]
  },
  {
   "cell_type": "code",
   "execution_count": 6,
   "id": "d9d69ff2",
   "metadata": {},
   "outputs": [],
   "source": [
    "mapa_logistico = logistic.MapaLogistico()"
   ]
  },
  {
   "cell_type": "code",
   "execution_count": 7,
   "id": "a0d19161",
   "metadata": {},
   "outputs": [],
   "source": [
    "n_iteracoes = 5000\n",
    "vetor_estados = mapa_logistico.simular(n_iteracoes)\n",
    "dados_logistic = vetor_estados[:, 0]"
   ]
  },
  {
   "cell_type": "markdown",
   "id": "50f44c1c",
   "metadata": {},
   "source": [
    "### Sistema de Lorenz"
   ]
  },
  {
   "cell_type": "code",
   "execution_count": 8,
   "id": "0f2f3f37",
   "metadata": {},
   "outputs": [],
   "source": [
    "sistema_lorenz = lorenz.SistemaLorenz(estado_inicial=np.array([0.1, 0, 0]), dt=0.01)"
   ]
  },
  {
   "cell_type": "code",
   "execution_count": 9,
   "id": "a77e943c",
   "metadata": {},
   "outputs": [],
   "source": [
    "t_inicial = 0\n",
    "t_final = 50\n",
    "vetor_estados, instantes_temporais = sistema_lorenz.calcular(t_inicial=t_inicial, t_final=t_final)\n",
    "dados_lorenz = vetor_estados[:, 0]"
   ]
  },
  {
   "cell_type": "markdown",
   "id": "9aead344",
   "metadata": {},
   "source": [
    "### Equações de Mackey-Glass"
   ]
  },
  {
   "cell_type": "code",
   "execution_count": 10,
   "id": "4c541bab",
   "metadata": {},
   "outputs": [],
   "source": [
    "t_inicial = 0\n",
    "t_final = 5000\n",
    "tau = 22\n",
    "n = 10\n",
    "gamma = 0.1\n",
    "beta = 0.2\n",
    "theta = 1"
   ]
  },
  {
   "cell_type": "code",
   "execution_count": 11,
   "id": "ef427bc3",
   "metadata": {},
   "outputs": [],
   "source": [
    "mackeyglass_eq = mackeyglass.MackeyGlass(tau=tau, gamma=gamma, beta=beta, n=n, theta=theta)"
   ]
  },
  {
   "cell_type": "code",
   "execution_count": 12,
   "id": "bc6c87fb",
   "metadata": {},
   "outputs": [],
   "source": [
    "dados_mackeyglass, instantes_temporais = mackeyglass_eq.calcular(t_inicial=t_inicial, t_final=t_final)"
   ]
  },
  {
   "cell_type": "markdown",
   "id": "e950433e",
   "metadata": {},
   "source": [
    "## 3. Análise para o Mapa de Hénon"
   ]
  },
  {
   "cell_type": "markdown",
   "id": "70854839",
   "metadata": {},
   "source": [
    "### Pegando o arquivo com as configurações"
   ]
  },
  {
   "cell_type": "code",
   "execution_count": 6,
   "id": "8b3f2952",
   "metadata": {},
   "outputs": [],
   "source": [
    "config = lstm_henon.lstm_henon"
   ]
  },
  {
   "cell_type": "code",
   "execution_count": 7,
   "id": "15652a0c",
   "metadata": {},
   "outputs": [],
   "source": [
    "conjunto_k = k_set.K_set[\"K_henon\"]"
   ]
  },
  {
   "cell_type": "markdown",
   "id": "51249ac5",
   "metadata": {},
   "source": [
    "### Executando a avaliação"
   ]
  },
  {
   "cell_type": "code",
   "execution_count": 8,
   "id": "e860a6c5",
   "metadata": {},
   "outputs": [
    {
     "name": "stdout",
     "output_type": "stream",
     "text": [
      "Testando para K = 1...\n",
      "Valor Médio do MSE para esse K: 0.16117250641668274\n",
      "Desvio Padrão do MSE para esse K: 0.008143785772658462\n",
      "\n",
      "Testando para K = 2...\n",
      "Valor Médio do MSE para esse K: 0.008223127827672455\n",
      "Desvio Padrão do MSE para esse K: 0.0014264091634510797\n",
      "\n",
      "Testando para K = 3...\n",
      "Valor Médio do MSE para esse K: 0.0009027986611178439\n",
      "Desvio Padrão do MSE para esse K: 0.0007506374386533992\n",
      "\n",
      "Testando para K = 4...\n",
      "Valor Médio do MSE para esse K: 0.00024980718488726067\n",
      "Desvio Padrão do MSE para esse K: 8.54072218698784e-05\n",
      "\n",
      "Testando para K = 5...\n",
      "Valor Médio do MSE para esse K: 0.00022556919711491592\n",
      "Desvio Padrão do MSE para esse K: 0.00012823163292760266\n",
      "\n",
      "Testando para K = 6...\n",
      "Valor Médio do MSE para esse K: 0.000234114535763034\n",
      "Desvio Padrão do MSE para esse K: 4.70963874255192e-05\n",
      "\n",
      "Testando para K = 7...\n",
      "Valor Médio do MSE para esse K: 0.0004771122324342394\n",
      "Desvio Padrão do MSE para esse K: 0.00024388602358225636\n",
      "\n",
      "Testando para K = 8...\n",
      "Valor Médio do MSE para esse K: 0.00015797552814698554\n",
      "Desvio Padrão do MSE para esse K: 6.892553447962683e-05\n",
      "\n",
      "Testando para K = 9...\n",
      "Valor Médio do MSE para esse K: 0.0002151308999680179\n",
      "Desvio Padrão do MSE para esse K: 6.047396555633635e-05\n",
      "\n"
     ]
    }
   ],
   "source": [
    "results_henon = evaluate.evaluate(modelo, dados_henon, config, conjunto_k, verbose=1)"
   ]
  },
  {
   "cell_type": "markdown",
   "id": "8408b073",
   "metadata": {},
   "source": [
    "### Salvando os resultados num .csv"
   ]
  },
  {
   "cell_type": "code",
   "execution_count": 9,
   "id": "ab5e301d",
   "metadata": {},
   "outputs": [],
   "source": [
    "results_henon = pd.DataFrame(results_henon, columns=['K', 'Media do K', 'Media do MSE', 'Desvio Padrao do MSE'])"
   ]
  },
  {
   "cell_type": "code",
   "execution_count": 10,
   "id": "fc8a5d9f",
   "metadata": {},
   "outputs": [],
   "source": [
    "results_henon.to_csv('../../results/lstm/lstm-henon.csv', index = False, header=True)"
   ]
  },
  {
   "cell_type": "markdown",
   "id": "6011628c",
   "metadata": {},
   "source": [
    "## 4. Análise para o Mapa Logístico"
   ]
  },
  {
   "cell_type": "markdown",
   "id": "9338bf13",
   "metadata": {},
   "source": [
    "### Pegando o arquivo com as configurações"
   ]
  },
  {
   "cell_type": "code",
   "execution_count": 13,
   "id": "579990e2",
   "metadata": {},
   "outputs": [],
   "source": [
    "config = lstm_logistic.lstm_logistic"
   ]
  },
  {
   "cell_type": "code",
   "execution_count": 14,
   "id": "ba9c323a",
   "metadata": {},
   "outputs": [],
   "source": [
    "conjunto_k = k_set.K_set[\"K_logistic\"]"
   ]
  },
  {
   "cell_type": "markdown",
   "id": "fd15d77a",
   "metadata": {},
   "source": [
    "### Executando a avaliação"
   ]
  },
  {
   "cell_type": "code",
   "execution_count": 15,
   "id": "f778a2ff",
   "metadata": {},
   "outputs": [
    {
     "name": "stdout",
     "output_type": "stream",
     "text": [
      "Testando para K = 1...\n",
      "Valor Médio do MSE para esse K: 0.0012694216003352743\n",
      "Desvio Padrão do MSE para esse K: 0.00014406068396095805\n",
      "\n",
      "Testando para K = 2...\n",
      "Valor Médio do MSE para esse K: 4.83611086692023e-05\n",
      "Desvio Padrão do MSE para esse K: 4.925289906549117e-05\n",
      "\n",
      "Testando para K = 3...\n",
      "Valor Médio do MSE para esse K: 0.0001469823664128681\n",
      "Desvio Padrão do MSE para esse K: 3.522069710613594e-05\n",
      "\n",
      "Testando para K = 4...\n",
      "Valor Médio do MSE para esse K: 0.000168336748931132\n",
      "Desvio Padrão do MSE para esse K: 3.783212387813291e-05\n",
      "\n",
      "Testando para K = 5...\n",
      "Valor Médio do MSE para esse K: 0.0002193412009375268\n",
      "Desvio Padrão do MSE para esse K: 8.323399229953644e-05\n",
      "\n",
      "Testando para K = 6...\n",
      "Valor Médio do MSE para esse K: 0.00020729587570875922\n",
      "Desvio Padrão do MSE para esse K: 0.00011466698661093644\n",
      "\n",
      "Testando para K = 7...\n",
      "Valor Médio do MSE para esse K: 8.215860046706089e-05\n",
      "Desvio Padrão do MSE para esse K: 5.1382402814758536e-05\n",
      "\n",
      "Testando para K = 8...\n",
      "Valor Médio do MSE para esse K: 9.880349168016919e-05\n",
      "Desvio Padrão do MSE para esse K: 5.322773505288442e-05\n",
      "\n"
     ]
    }
   ],
   "source": [
    "results_logistic = evaluate.evaluate(modelo, dados_logistic, config, conjunto_k, verbose=1)"
   ]
  },
  {
   "cell_type": "markdown",
   "id": "ea620740",
   "metadata": {},
   "source": [
    "### Salvando os resultados num .csv"
   ]
  },
  {
   "cell_type": "code",
   "execution_count": 16,
   "id": "122278f2",
   "metadata": {},
   "outputs": [],
   "source": [
    "results_logistic = pd.DataFrame(results_logistic, columns=['K', 'Media do MSE', 'Desvio Padrao do MSE'])"
   ]
  },
  {
   "cell_type": "code",
   "execution_count": 17,
   "id": "99322680",
   "metadata": {},
   "outputs": [],
   "source": [
    "results_logistic.to_csv('../../results/lstm/lstm-logistic.csv', index = False, header=True)"
   ]
  },
  {
   "cell_type": "markdown",
   "id": "33d16d64",
   "metadata": {},
   "source": [
    "## 5. Análise para o Sistema de Lorenz"
   ]
  },
  {
   "cell_type": "markdown",
   "id": "3dac0524",
   "metadata": {},
   "source": [
    "### Pegando o arquivo com as configurações"
   ]
  },
  {
   "cell_type": "code",
   "execution_count": 20,
   "id": "2ed6fda9",
   "metadata": {},
   "outputs": [],
   "source": [
    "config = lstm_lorenz.lstm_lorenz"
   ]
  },
  {
   "cell_type": "code",
   "execution_count": 21,
   "id": "278e22c1",
   "metadata": {},
   "outputs": [],
   "source": [
    "conjunto_k = k_set.K_set[\"K_lorenz\"]"
   ]
  },
  {
   "cell_type": "markdown",
   "id": "3ccf362c",
   "metadata": {},
   "source": [
    "### Executando a avaliação"
   ]
  },
  {
   "cell_type": "code",
   "execution_count": 22,
   "id": "06f46d44",
   "metadata": {},
   "outputs": [],
   "source": [
    "from sklearn.preprocessing import MinMaxScaler"
   ]
  },
  {
   "cell_type": "code",
   "execution_count": 23,
   "id": "e9d1f16b",
   "metadata": {},
   "outputs": [],
   "source": [
    "scaler = MinMaxScaler(feature_range=(-1,1))"
   ]
  },
  {
   "cell_type": "code",
   "execution_count": 24,
   "id": "c02d5278",
   "metadata": {},
   "outputs": [
    {
     "name": "stdout",
     "output_type": "stream",
     "text": [
      "Testando para K = 1...\n",
      "Valor Médio do MSE para esse K: 1.4611791406241674\n",
      "Desvio Padrão do MSE para esse K: 0.012334915311271132\n",
      "\n",
      "Testando para K = 2...\n",
      "Valor Médio do MSE para esse K: 0.005251074759926142\n",
      "Desvio Padrão do MSE para esse K: 0.0020174188671898317\n",
      "\n",
      "Testando para K = 3...\n",
      "Valor Médio do MSE para esse K: 0.00393408843113256\n",
      "Desvio Padrão do MSE para esse K: 0.0018947598368147327\n",
      "\n",
      "Testando para K = 4...\n",
      "Valor Médio do MSE para esse K: 0.003830370555963072\n",
      "Desvio Padrão do MSE para esse K: 0.00104085974142966\n",
      "\n",
      "Testando para K = 5...\n",
      "Valor Médio do MSE para esse K: 0.003018506288177835\n",
      "Desvio Padrão do MSE para esse K: 0.0009070134259571955\n",
      "\n",
      "Testando para K = 6...\n",
      "Valor Médio do MSE para esse K: 0.002409366466095327\n",
      "Desvio Padrão do MSE para esse K: 0.0014267532299665322\n",
      "\n",
      "Testando para K = 7...\n",
      "Valor Médio do MSE para esse K: 0.0012367120932855972\n",
      "Desvio Padrão do MSE para esse K: 0.0010456959856769109\n",
      "\n",
      "Testando para K = 8...\n",
      "Valor Médio do MSE para esse K: 0.00044474259867662057\n",
      "Desvio Padrão do MSE para esse K: 0.0004504765747767002\n",
      "\n",
      "Testando para K = 9...\n",
      "Valor Médio do MSE para esse K: 0.0006614587878923725\n",
      "Desvio Padrão do MSE para esse K: 0.0007926458107061738\n",
      "\n",
      "Testando para K = 10...\n",
      "Valor Médio do MSE para esse K: 0.0004422597993239766\n",
      "Desvio Padrão do MSE para esse K: 0.0005400815205244215\n",
      "\n"
     ]
    }
   ],
   "source": [
    "results_lorenz = evaluate.evaluate(modelo, dados_lorenz, config, conjunto_k, verbose=1, scaler=scaler)"
   ]
  },
  {
   "cell_type": "markdown",
   "id": "4d479573",
   "metadata": {},
   "source": [
    "### Salvando os resultados num .csv"
   ]
  },
  {
   "cell_type": "code",
   "execution_count": 25,
   "id": "1edf65e0",
   "metadata": {},
   "outputs": [],
   "source": [
    "results_lorenz = pd.DataFrame(results_lorenz, columns=['K', 'Media do MSE', 'Desvio Padrao do MSE'])"
   ]
  },
  {
   "cell_type": "code",
   "execution_count": 26,
   "id": "8d357345",
   "metadata": {},
   "outputs": [],
   "source": [
    "results_lorenz.to_csv('../../results/lstm/lstm-lorenz.csv', index = False, header=True)"
   ]
  },
  {
   "cell_type": "markdown",
   "id": "443bd934",
   "metadata": {},
   "source": [
    "## 6. Análise para as equações de Mackey-Glass"
   ]
  },
  {
   "cell_type": "markdown",
   "id": "5dcff3a6",
   "metadata": {},
   "source": [
    "### Pegando o arquivo com as configurações"
   ]
  },
  {
   "cell_type": "code",
   "execution_count": 13,
   "id": "a2dd041f",
   "metadata": {},
   "outputs": [],
   "source": [
    "config = lstm_mackeyglass.lstm_mackeyglass"
   ]
  },
  {
   "cell_type": "code",
   "execution_count": 14,
   "id": "b959137e",
   "metadata": {},
   "outputs": [],
   "source": [
    "conjunto_k = k_set.K_set[\"K_mackeyglass\"]"
   ]
  },
  {
   "cell_type": "markdown",
   "id": "674ce6aa",
   "metadata": {},
   "source": [
    "### Executando a avaliação"
   ]
  },
  {
   "cell_type": "code",
   "execution_count": 32,
   "id": "ce43b350",
   "metadata": {},
   "outputs": [
    {
     "name": "stdout",
     "output_type": "stream",
     "text": [
      "Testando para K = 1...\n",
      "Valor Médio do MSE para esse K: 0.009200467441677029\n",
      "Desvio Padrão do MSE para esse K: 9.698992773012052e-06\n",
      "\n",
      "Testando para K = 2...\n",
      "Valor Médio do MSE para esse K: 0.0009157980610022347\n",
      "Desvio Padrão do MSE para esse K: 5.683900514837213e-05\n",
      "\n",
      "Testando para K = 3...\n",
      "Valor Médio do MSE para esse K: 0.0002400211814786682\n",
      "Desvio Padrão do MSE para esse K: 7.979142520500226e-06\n",
      "\n",
      "Testando para K = 4...\n",
      "Valor Médio do MSE para esse K: 9.750263766173911e-05\n",
      "Desvio Padrão do MSE para esse K: 2.4084343083051706e-05\n",
      "\n",
      "Testando para K = 5...\n",
      "Valor Médio do MSE para esse K: 5.301674528474998e-05\n",
      "Desvio Padrão do MSE para esse K: 2.2018494869474163e-05\n",
      "\n",
      "Testando para K = 6...\n",
      "Valor Médio do MSE para esse K: 5.22062775712718e-05\n",
      "Desvio Padrão do MSE para esse K: 1.6313964133413115e-05\n",
      "\n",
      "Testando para K = 7...\n",
      "Valor Médio do MSE para esse K: 3.8662812449175146e-05\n",
      "Desvio Padrão do MSE para esse K: 1.1718639292365026e-05\n",
      "\n"
     ]
    }
   ],
   "source": [
    "results_mackeyglass = evaluate.evaluate(modelo, dados_mackeyglass, config, conjunto_k, verbose=1)"
   ]
  },
  {
   "cell_type": "markdown",
   "id": "826092bf",
   "metadata": {},
   "source": [
    "### Salvando os resultados num .csv"
   ]
  },
  {
   "cell_type": "code",
   "execution_count": 33,
   "id": "ce3b6ca5",
   "metadata": {},
   "outputs": [],
   "source": [
    "results_mackeyglass = pd.DataFrame(results_mackeyglass, columns=['K', 'Media do MSE', 'Desvio Padrao do MSE'])"
   ]
  },
  {
   "cell_type": "code",
   "execution_count": 34,
   "id": "8d3e48b6",
   "metadata": {},
   "outputs": [],
   "source": [
    "results_mackeyglass.to_csv('../../results/lstm/lstm-mackeyglass.csv', index = False, header=True)"
   ]
  },
  {
   "cell_type": "markdown",
   "id": "76a29e94",
   "metadata": {},
   "source": [
    "## Avaliando os três melhores valores para K em cada cenário"
   ]
  },
  {
   "cell_type": "code",
   "execution_count": 13,
   "id": "16b3eeb1",
   "metadata": {},
   "outputs": [],
   "source": [
    "from pibic2020.parameters.lstm import lstm_best_k"
   ]
  },
  {
   "cell_type": "markdown",
   "id": "d4c4dd5c",
   "metadata": {},
   "source": [
    "### Análise para o Mapa de Hénon"
   ]
  },
  {
   "cell_type": "markdown",
   "id": "3e610299",
   "metadata": {},
   "source": [
    "#### Pegando o arquivo com as configurações"
   ]
  },
  {
   "cell_type": "code",
   "execution_count": 16,
   "id": "b9d48fa4",
   "metadata": {},
   "outputs": [],
   "source": [
    "config = lstm_henon.lstm_henon"
   ]
  },
  {
   "cell_type": "code",
   "execution_count": 17,
   "id": "261539b3",
   "metadata": {},
   "outputs": [],
   "source": [
    "conjunto_k = lstm_best_k.K_3best_henon_lstm\n",
    "conjunto_k = [k-1 for k in conjunto_k]"
   ]
  },
  {
   "cell_type": "markdown",
   "id": "94583f5f",
   "metadata": {},
   "source": [
    "#### Executando a avaliação"
   ]
  },
  {
   "cell_type": "code",
   "execution_count": 18,
   "id": "34a2eb3c",
   "metadata": {},
   "outputs": [
    {
     "name": "stdout",
     "output_type": "stream",
     "text": [
      "Testando para K = 8...\n",
      "Valor Médio do MSE para esse K: 0.00022871137555461685\n",
      "Desvio Padrão do MSE para esse K: 3.321983157152488e-05\n",
      "\n",
      "Testando para K = 9...\n",
      "Valor Médio do MSE para esse K: 0.0002292636164044157\n",
      "Desvio Padrão do MSE para esse K: 8.127415432041641e-05\n",
      "\n",
      "Testando para K = 5...\n",
      "Valor Médio do MSE para esse K: 0.00020628006351559267\n",
      "Desvio Padrão do MSE para esse K: 9.936769117784593e-05\n",
      "\n"
     ]
    }
   ],
   "source": [
    "results_henon = evaluate.evaluate(modelo, dados_henon, config, conjunto_k, verbose=1)"
   ]
  },
  {
   "cell_type": "markdown",
   "id": "e7b82a1d",
   "metadata": {},
   "source": [
    "### Salvando os dados"
   ]
  },
  {
   "cell_type": "code",
   "execution_count": 19,
   "id": "ba15856d",
   "metadata": {},
   "outputs": [],
   "source": [
    "results_henon_3best = pd.DataFrame(results_henon, columns=['K', 'Media do MSE', 'Desvio Padrao do MSE'])"
   ]
  },
  {
   "cell_type": "code",
   "execution_count": 20,
   "id": "71528a76",
   "metadata": {},
   "outputs": [],
   "source": [
    "results_henon_3best.to_csv('../../results/lstm/lstm-henon-3best.csv', index = False, header=True)"
   ]
  },
  {
   "cell_type": "markdown",
   "id": "57c1917f",
   "metadata": {},
   "source": [
    "### Análise para o Mapa logístico"
   ]
  },
  {
   "cell_type": "markdown",
   "id": "f3664353",
   "metadata": {},
   "source": [
    "#### Pegando o arquivo com as configurações"
   ]
  },
  {
   "cell_type": "code",
   "execution_count": 11,
   "id": "612fd296",
   "metadata": {},
   "outputs": [],
   "source": [
    "config = lstm_logistic.lstm_logistic"
   ]
  },
  {
   "cell_type": "code",
   "execution_count": 12,
   "id": "46acc324",
   "metadata": {},
   "outputs": [],
   "source": [
    "conjunto_k = lstm_best_k.K_3best_logistic_lstm\n",
    "conjunto_k = [k-1 for k in conjunto_k]"
   ]
  },
  {
   "cell_type": "markdown",
   "id": "0088f0d8",
   "metadata": {},
   "source": [
    "#### Executando a avaliação"
   ]
  },
  {
   "cell_type": "code",
   "execution_count": 23,
   "id": "048daafc",
   "metadata": {},
   "outputs": [
    {
     "name": "stdout",
     "output_type": "stream",
     "text": [
      "Testando para K = 2...\n",
      "Valor Médio do MSE para esse K: 9.87417051082817e-05\n",
      "Desvio Padrão do MSE para esse K: 8.862578556742913e-05\n",
      "\n",
      "Testando para K = 7...\n",
      "Valor Médio do MSE para esse K: 4.247881359343019e-05\n",
      "Desvio Padrão do MSE para esse K: 2.0742751577963275e-05\n",
      "\n",
      "Testando para K = 8...\n",
      "Valor Médio do MSE para esse K: 0.00022058808967973632\n",
      "Desvio Padrão do MSE para esse K: 0.0001249764326597191\n",
      "\n"
     ]
    }
   ],
   "source": [
    "results_logistic = evaluate.evaluate(modelo, dados_logistic, config, conjunto_k, verbose=1)"
   ]
  },
  {
   "cell_type": "markdown",
   "id": "72f8507a",
   "metadata": {},
   "source": [
    "### Salvando os dados"
   ]
  },
  {
   "cell_type": "code",
   "execution_count": 24,
   "id": "0b284b58",
   "metadata": {},
   "outputs": [],
   "source": [
    "results_logistic_3best = pd.DataFrame(results_logistic, columns=['K', 'Media do MSE', 'Desvio Padrao do MSE'])"
   ]
  },
  {
   "cell_type": "code",
   "execution_count": 25,
   "id": "f39b0696",
   "metadata": {},
   "outputs": [],
   "source": [
    "results_logistic_3best.to_csv('../../results/lstm/lstm-logistic-3best.csv', index = False, header=True)"
   ]
  },
  {
   "cell_type": "markdown",
   "id": "cc704cad",
   "metadata": {},
   "source": [
    "### Análise para o sistema de Lorenz"
   ]
  },
  {
   "cell_type": "markdown",
   "id": "ef0dc609",
   "metadata": {},
   "source": [
    "#### Pegando o arquivo com as configurações"
   ]
  },
  {
   "cell_type": "code",
   "execution_count": 14,
   "id": "76cb306e",
   "metadata": {},
   "outputs": [],
   "source": [
    "config = lstm_lorenz.lstm_lorenz"
   ]
  },
  {
   "cell_type": "code",
   "execution_count": 15,
   "id": "f32c1154",
   "metadata": {},
   "outputs": [],
   "source": [
    "conjunto_k = lstm_best_k.K_3best_lorenz_lstm\n",
    "conjunto_k = [k-1 for k in conjunto_k]"
   ]
  },
  {
   "cell_type": "markdown",
   "id": "4888cff3",
   "metadata": {},
   "source": [
    "#### Executando a avaliação"
   ]
  },
  {
   "cell_type": "code",
   "execution_count": 17,
   "id": "a761a51c",
   "metadata": {},
   "outputs": [
    {
     "name": "stdout",
     "output_type": "stream",
     "text": [
      "Testando para K = 10...\n",
      "Valor Médio do MSE para esse K: 0.0025640986824403077\n",
      "Desvio Padrão do MSE para esse K: 0.0021492379728949643\n",
      "\n",
      "Testando para K = 8...\n",
      "Valor Médio do MSE para esse K: 0.0019032255158623148\n",
      "Desvio Padrão do MSE para esse K: 0.0007382649551797253\n",
      "\n",
      "Testando para K = 9...\n",
      "Valor Médio do MSE para esse K: 0.0017435762043980728\n",
      "Desvio Padrão do MSE para esse K: 0.0006378488793324259\n",
      "\n"
     ]
    }
   ],
   "source": [
    "results_lorenz = evaluate.evaluate(modelo, dados_lorenz, config, conjunto_k, verbose=1)"
   ]
  },
  {
   "cell_type": "markdown",
   "id": "e8c72e41",
   "metadata": {},
   "source": [
    "### Salvando os dados"
   ]
  },
  {
   "cell_type": "code",
   "execution_count": 18,
   "id": "69b6c93e",
   "metadata": {},
   "outputs": [],
   "source": [
    "results_lorenz_3best = pd.DataFrame(results_lorenz, columns=['K', 'Media do MSE', 'Desvio Padrao do MSE'])"
   ]
  },
  {
   "cell_type": "code",
   "execution_count": 19,
   "id": "8acb1270",
   "metadata": {},
   "outputs": [],
   "source": [
    "results_lorenz_3best.to_csv('../../results/lstm/lstm-lorenz-3best.csv', index = False, header=True)"
   ]
  },
  {
   "cell_type": "markdown",
   "id": "36eaf996",
   "metadata": {},
   "source": [
    "### Análise para as equações de Mackey-Glass"
   ]
  },
  {
   "cell_type": "markdown",
   "id": "5101d61a",
   "metadata": {},
   "source": [
    "#### Pegando o arquivo com as configurações"
   ]
  },
  {
   "cell_type": "code",
   "execution_count": 32,
   "id": "a9c0efe3",
   "metadata": {},
   "outputs": [],
   "source": [
    "config = lstm_mackeyglass.lstm_mackeyglass"
   ]
  },
  {
   "cell_type": "code",
   "execution_count": 33,
   "id": "8677bb3d",
   "metadata": {},
   "outputs": [],
   "source": [
    "conjunto_k = lstm_best_k.k_3best_mackeyglass_lstm\n",
    "conjunto_k = [k-1 for k in conjunto_k]"
   ]
  },
  {
   "cell_type": "markdown",
   "id": "81442368",
   "metadata": {},
   "source": [
    "#### Executando a avaliação"
   ]
  },
  {
   "cell_type": "code",
   "execution_count": 34,
   "id": "3021ea29",
   "metadata": {},
   "outputs": [
    {
     "name": "stdout",
     "output_type": "stream",
     "text": [
      "Testando para K = 7...\n",
      "Valor Médio do MSE para esse K: 3.749979568332916e-05\n",
      "Desvio Padrão do MSE para esse K: 1.0158220803661591e-05\n",
      "\n",
      "Testando para K = 6...\n",
      "Valor Médio do MSE para esse K: 5.089426394198922e-05\n",
      "Desvio Padrão do MSE para esse K: 2.077475432143483e-05\n",
      "\n",
      "Testando para K = 5...\n",
      "Valor Médio do MSE para esse K: 5.6384552303292186e-05\n",
      "Desvio Padrão do MSE para esse K: 2.0799089353597295e-06\n",
      "\n"
     ]
    }
   ],
   "source": [
    "results_mackeyglass = evaluate.evaluate(modelo, dados_mackeyglass, config, conjunto_k, verbose=1)"
   ]
  },
  {
   "cell_type": "markdown",
   "id": "c9b0192a",
   "metadata": {},
   "source": [
    "### Salvando os dados"
   ]
  },
  {
   "cell_type": "code",
   "execution_count": 35,
   "id": "77a90a87",
   "metadata": {},
   "outputs": [],
   "source": [
    "results_mackeyglass_3best = pd.DataFrame(results_mackeyglass, columns=['K', 'Media do MSE', 'Desvio Padrao do MSE'])"
   ]
  },
  {
   "cell_type": "code",
   "execution_count": 36,
   "id": "32c3a060",
   "metadata": {},
   "outputs": [],
   "source": [
    "results_mackeyglass_3best.to_csv('../../results/lstm/lstm-mackeyglass-3best.csv', index = False, header=True)"
   ]
  },
  {
   "cell_type": "markdown",
   "id": "130d785e",
   "metadata": {},
   "source": [
    "## Avaliando o melhor valor para K em cada cenário"
   ]
  },
  {
   "cell_type": "markdown",
   "id": "72396d3b",
   "metadata": {},
   "source": [
    "### Análise para o Mapa de Hénon"
   ]
  },
  {
   "cell_type": "markdown",
   "id": "825c6da1",
   "metadata": {},
   "source": [
    "#### Pegando o arquivo com as configurações"
   ]
  },
  {
   "cell_type": "code",
   "execution_count": 14,
   "id": "aec7bfe9",
   "metadata": {},
   "outputs": [],
   "source": [
    "config = lstm_henon.lstm_henon"
   ]
  },
  {
   "cell_type": "code",
   "execution_count": 15,
   "id": "fac67856",
   "metadata": {},
   "outputs": [],
   "source": [
    "conjunto_k = lstm_best_k.K_best_henon_lstm\n",
    "conjunto_k = [k-1 for k in conjunto_k]"
   ]
  },
  {
   "cell_type": "markdown",
   "id": "e002f07a",
   "metadata": {},
   "source": [
    "#### Executando a avaliação"
   ]
  },
  {
   "cell_type": "code",
   "execution_count": 16,
   "id": "9e96314b",
   "metadata": {},
   "outputs": [
    {
     "name": "stdout",
     "output_type": "stream",
     "text": [
      "Testando para K = 8...\n",
      "Valor Médio do MSE para esse K: 0.00014914584213172608\n",
      "Desvio Padrão do MSE para esse K: 7.519155305011408e-05\n",
      "\n"
     ]
    }
   ],
   "source": [
    "results_henon = evaluate.evaluate(modelo, dados_henon, config, conjunto_k, verbose=1)"
   ]
  },
  {
   "cell_type": "markdown",
   "id": "433aadc2",
   "metadata": {},
   "source": [
    "### Salvando os dados"
   ]
  },
  {
   "cell_type": "code",
   "execution_count": 17,
   "id": "01427659",
   "metadata": {},
   "outputs": [],
   "source": [
    "results_henon_best = pd.DataFrame(results_henon, columns=['K', 'Media do MSE', 'Desvio Padrao do MSE'])"
   ]
  },
  {
   "cell_type": "code",
   "execution_count": 18,
   "id": "cd9d209b",
   "metadata": {},
   "outputs": [],
   "source": [
    "results_henon_best.to_csv('../../results/lstm/lstm-henon-best.csv', index = False, header=True)"
   ]
  },
  {
   "cell_type": "markdown",
   "id": "1b739293",
   "metadata": {},
   "source": [
    "### Análise para o Mapa logístico"
   ]
  },
  {
   "cell_type": "markdown",
   "id": "1583be19",
   "metadata": {},
   "source": [
    "#### Pegando o arquivo com as configurações"
   ]
  },
  {
   "cell_type": "code",
   "execution_count": 37,
   "id": "20ab007c",
   "metadata": {},
   "outputs": [],
   "source": [
    "config = lstm_logistic.lstm_logistic"
   ]
  },
  {
   "cell_type": "code",
   "execution_count": 38,
   "id": "af6a4cec",
   "metadata": {},
   "outputs": [],
   "source": [
    "conjunto_k = lstm_best_k.K_best_logistic_lstm\n",
    "conjunto_k = [k-1 for k in conjunto_k]"
   ]
  },
  {
   "cell_type": "markdown",
   "id": "9bca13dc",
   "metadata": {},
   "source": [
    "#### Executando a avaliação"
   ]
  },
  {
   "cell_type": "code",
   "execution_count": 39,
   "id": "7582c95d",
   "metadata": {},
   "outputs": [
    {
     "name": "stdout",
     "output_type": "stream",
     "text": [
      "Testando para K = 7...\n",
      "Valor Médio do MSE para esse K: 7.267505898124268e-05\n",
      "Desvio Padrão do MSE para esse K: 4.678838116504725e-05\n",
      "\n"
     ]
    }
   ],
   "source": [
    "results_logistic = evaluate.evaluate(modelo, dados_logistic, config, conjunto_k, verbose=1)"
   ]
  },
  {
   "cell_type": "markdown",
   "id": "afde5f87",
   "metadata": {},
   "source": [
    "### Salvando os dados"
   ]
  },
  {
   "cell_type": "code",
   "execution_count": 40,
   "id": "b49c13a5",
   "metadata": {},
   "outputs": [],
   "source": [
    "results_logistic_best = pd.DataFrame(results_logistic, columns=['K', 'Media do MSE', 'Desvio Padrao do MSE'])"
   ]
  },
  {
   "cell_type": "code",
   "execution_count": 41,
   "id": "c8514211",
   "metadata": {},
   "outputs": [],
   "source": [
    "results_logistic_best.to_csv('../../results/lstm/lstm-logistic-best.csv', index = False, header=True)"
   ]
  },
  {
   "cell_type": "markdown",
   "id": "04f577a8",
   "metadata": {},
   "source": [
    "### Análise para o sistema de Lorenz"
   ]
  },
  {
   "cell_type": "markdown",
   "id": "4c34df28",
   "metadata": {},
   "source": [
    "#### Pegando o arquivo com as configurações"
   ]
  },
  {
   "cell_type": "code",
   "execution_count": 24,
   "id": "25b18ee7",
   "metadata": {},
   "outputs": [],
   "source": [
    "config = lstm_lorenz.lstm_lorenz"
   ]
  },
  {
   "cell_type": "code",
   "execution_count": 25,
   "id": "77751a43",
   "metadata": {},
   "outputs": [],
   "source": [
    "conjunto_k = lstm_best_k.K_best_lorenz_lstm\n",
    "conjunto_k = [k-1 for k in conjunto_k]"
   ]
  },
  {
   "cell_type": "markdown",
   "id": "b92fb1bb",
   "metadata": {},
   "source": [
    "#### Executando a avaliação"
   ]
  },
  {
   "cell_type": "code",
   "execution_count": 26,
   "id": "852ffe22",
   "metadata": {},
   "outputs": [
    {
     "name": "stdout",
     "output_type": "stream",
     "text": [
      "Testando para K = 9...\n",
      "Valor Médio do MSE para esse K: 0.0012406247328642448\n",
      "Desvio Padrão do MSE para esse K: 0.00023409292134495523\n",
      "\n"
     ]
    }
   ],
   "source": [
    "results_lorenz = evaluate.evaluate(modelo, dados_lorenz, config, conjunto_k, verbose=1)"
   ]
  },
  {
   "cell_type": "markdown",
   "id": "44c88594",
   "metadata": {},
   "source": [
    "### Salvando os dados"
   ]
  },
  {
   "cell_type": "code",
   "execution_count": 27,
   "id": "d716b806",
   "metadata": {},
   "outputs": [],
   "source": [
    "results_lorenz_best = pd.DataFrame(results_lorenz, columns=['K', 'Media do MSE', 'Desvio Padrao do MSE'])"
   ]
  },
  {
   "cell_type": "code",
   "execution_count": 28,
   "id": "40a9ef03",
   "metadata": {},
   "outputs": [],
   "source": [
    "results_lorenz_best.to_csv('../../results/lstm/lstm-lorenz-best.csv', index = False, header=True)"
   ]
  },
  {
   "cell_type": "markdown",
   "id": "f8ab71e8",
   "metadata": {},
   "source": [
    "### Análise para as equações de Mackey-Glass"
   ]
  },
  {
   "cell_type": "markdown",
   "id": "c79781db",
   "metadata": {},
   "source": [
    "#### Pegando o arquivo com as configurações"
   ]
  },
  {
   "cell_type": "code",
   "execution_count": 29,
   "id": "b4b44b56",
   "metadata": {},
   "outputs": [],
   "source": [
    "config = lstm_mackeyglass.lstm_mackeyglass"
   ]
  },
  {
   "cell_type": "code",
   "execution_count": 30,
   "id": "c4029ee9",
   "metadata": {},
   "outputs": [],
   "source": [
    "conjunto_k = lstm_best_k.K_best_mackeyglass_lstm\n",
    "conjunto_k = [k-1 for k in conjunto_k]"
   ]
  },
  {
   "cell_type": "markdown",
   "id": "3b701d7c",
   "metadata": {},
   "source": [
    "#### Executando a avaliação"
   ]
  },
  {
   "cell_type": "code",
   "execution_count": 31,
   "id": "e10c7dfc",
   "metadata": {},
   "outputs": [
    {
     "name": "stdout",
     "output_type": "stream",
     "text": [
      "Testando para K = 7...\n",
      "Valor Médio do MSE para esse K: 4.179936235473543e-05\n",
      "Desvio Padrão do MSE para esse K: 9.724157364441384e-06\n",
      "\n"
     ]
    }
   ],
   "source": [
    "results_mackeyglass = evaluate.evaluate(modelo, dados_mackeyglass, config, conjunto_k, verbose=1)"
   ]
  },
  {
   "cell_type": "markdown",
   "id": "1e7eec66",
   "metadata": {},
   "source": [
    "### Salvando os dados"
   ]
  },
  {
   "cell_type": "code",
   "execution_count": 32,
   "id": "52d8ef57",
   "metadata": {},
   "outputs": [],
   "source": [
    "results_mackeyglass_best = pd.DataFrame(results_mackeyglass, columns=['K', 'Media do MSE', 'Desvio Padrao do MSE'])"
   ]
  },
  {
   "cell_type": "code",
   "execution_count": 33,
   "id": "8a633dd3",
   "metadata": {},
   "outputs": [],
   "source": [
    "results_mackeyglass_best.to_csv('../../results/lstm/lstm-mackeyglass-best.csv', index = False, header=True)"
   ]
  },
  {
   "cell_type": "code",
   "execution_count": null,
   "id": "862b6f29",
   "metadata": {},
   "outputs": [],
   "source": []
  }
 ],
 "metadata": {
  "kernelspec": {
   "display_name": "Python 3",
   "language": "python",
   "name": "python3"
  },
  "language_info": {
   "codemirror_mode": {
    "name": "ipython",
    "version": 3
   },
   "file_extension": ".py",
   "mimetype": "text/x-python",
   "name": "python",
   "nbconvert_exporter": "python",
   "pygments_lexer": "ipython3",
   "version": "3.8.0"
  }
 },
 "nbformat": 4,
 "nbformat_minor": 5
}
